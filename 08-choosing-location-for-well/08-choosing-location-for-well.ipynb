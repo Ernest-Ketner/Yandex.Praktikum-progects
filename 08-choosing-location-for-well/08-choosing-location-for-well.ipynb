{
 "cells": [
  {
   "cell_type": "markdown",
   "metadata": {},
   "source": [
    "# Анализ месторождений компании «ГлавРосГосНефть»\n",
    "    \n",
    "Мы работаем в добывающей компании «ГлавРосГосНефть». Нужно решить, где бурить новую скважину.\n",
    "\n",
    "Нам предоставлены пробы нефти в трёх регионах: в каждом 10 000 месторождений, где измерили качество нефти и объём её запасов. Задача - построить модель машинного обучения, которая поможет определить регион, где добыча принесёт наибольшую прибыль. Проанализируем возможную прибыль и риски техникой *Bootstrap.*\n",
    "\n",
    "Концепция выбора локации обычно такая:\n",
    "\n",
    "- В избранном регионе ищут месторождения, для каждого определяют значения признаков;\n",
    "- Строят модель и оценивают объём запасов;\n",
    "- Выбирают месторождения с самым высокими оценками значений. Количество месторождений зависит от бюджета компании и стоимости разработки одной скважины;\n",
    "- Прибыль равна суммарной прибыли отобранных месторождений.\n",
    "    \n",
    "    \n",
    "Предоставленная информация представляет собой три датасета для трех разных регионов, с информацией о примерно ста тысячах точек в каждом из них. Мы не знаем, что представляют собой признаки. Id скважин закодированы. Единственная прямо известная величина - предполагаемые объемы возможной добычи.\n",
    "    \n",
    "____\n",
    "\n",
    "\n",
    "\n",
    "В данной работе представлен процесс создания и проверки модели машинного обучения в целях формирования правильного бизнес-решения. Работа произведена в соответствии с инструкциями заказчика. Каждый значительный шаг сопровождается промежуточным, либо общим выводом.\n",
    "    \n",
    "____\n",
    "    \n",
    "    \n",
    "    \n",
    "Часть 1. Изучение общей информации о предоставленном датасете\n",
    "    \n",
    "1. Импорт необходимых библиотек для работы с данными, загрузка датасетов\n",
    "2. Изучение данных, получение общей информации\n",
    "3. Оценка мультиколлинеарности признаков\n",
    "4. Вывод\n",
    "\n",
    "    \n",
    "Часть 2. Работа над моделями\n",
    "\n",
    "1. Разбиение данных\n",
    "2. Масштабирование признаков\n",
    "3. Обучение моделей\n",
    "4. Вывод\n",
    "    \n",
    "Часть 3. Подготовка к расчету прибыли\n",
    "    \n",
    "1. Подготовка к расчету прибыли\n",
    "2. Вывод\n",
    "    \n",
    "Часть 4. Расчет прибыли\n",
    "    \n",
    "1. Расчет прибыли в идеальных условиях\n",
    "2. Расчет рисков и прибыли для каждого региона\n",
    "3. Вывод\n",
    "    \n",
    "Часть 5. Общий вывод\n",
    "1. Общий вывод о проделанной работе"
   ]
  },
  {
   "cell_type": "markdown",
   "metadata": {},
   "source": [
    " ## Часть 1. Изучение общей информации о предоставленном датасете"
   ]
  },
  {
   "cell_type": "markdown",
   "metadata": {},
   "source": [
    "<a id='Импорт необходимых библиотек для работы с данными, загрузка датасетов'>"
   ]
  },
  {
   "cell_type": "markdown",
   "metadata": {},
   "source": [
    "### <p style=\"text-align:center\"> Импорт необходимых библиотек для работы с данными, загрузка датасетов</p>"
   ]
  },
  {
   "cell_type": "markdown",
   "metadata": {},
   "source": [
    "Загружаем необходимые библиотеки для работы с данными. Разбиваем их на три смысловых блока."
   ]
  },
  {
   "cell_type": "code",
   "execution_count": 1,
   "metadata": {},
   "outputs": [],
   "source": [
    "import pandas as pd\n",
    "import numpy as np\n",
    "import matplotlib.pyplot as plt\n",
    "from IPython.display import display\n",
    "pd.options.display.max_columns = None\n",
    "import warnings\n",
    "warnings.simplefilter('ignore')"
   ]
  },
  {
   "cell_type": "code",
   "execution_count": 2,
   "metadata": {},
   "outputs": [],
   "source": [
    "from sklearn.linear_model import LinearRegression"
   ]
  },
  {
   "cell_type": "code",
   "execution_count": 3,
   "metadata": {},
   "outputs": [],
   "source": [
    "from sklearn.model_selection import train_test_split\n",
    "from sklearn.metrics import mean_squared_error\n",
    "from sklearn.preprocessing import StandardScaler "
   ]
  },
  {
   "cell_type": "code",
   "execution_count": 4,
   "metadata": {},
   "outputs": [
    {
     "name": "stdout",
     "output_type": "stream",
     "text": [
      "Defaulting to user installation because normal site-packages is not writeable\n",
      "Requirement already up-to-date: scikit-learn in /home/jovyan/.local/lib/python3.7/site-packages (0.24.1)\n",
      "Requirement already satisfied, skipping upgrade: scipy>=0.19.1 in /opt/conda/lib/python3.7/site-packages (from scikit-learn) (1.4.1)\n",
      "Requirement already satisfied, skipping upgrade: numpy>=1.13.3 in /opt/conda/lib/python3.7/site-packages (from scikit-learn) (1.19.5)\n",
      "Requirement already satisfied, skipping upgrade: threadpoolctl>=2.0.0 in /home/jovyan/.local/lib/python3.7/site-packages (from scikit-learn) (2.1.0)\n",
      "Requirement already satisfied, skipping upgrade: joblib>=0.11 in /opt/conda/lib/python3.7/site-packages (from scikit-learn) (1.0.1)\n"
     ]
    }
   ],
   "source": [
    "!pip install scikit-learn --upgrade # вроде бы помогает избежать некоторых ошибок"
   ]
  },
  {
   "cell_type": "markdown",
   "metadata": {},
   "source": [
    "Загружаем датасеты, проверяем вывод."
   ]
  },
  {
   "cell_type": "code",
   "execution_count": 5,
   "metadata": {},
   "outputs": [],
   "source": [
    "data_1 = pd.read_csv('/datasets/geo_data_0.csv')\n",
    "data_2 = pd.read_csv('/datasets/geo_data_1.csv')\n",
    "data_3 = pd.read_csv('/datasets/geo_data_2.csv')"
   ]
  },
  {
   "cell_type": "code",
   "execution_count": 6,
   "metadata": {},
   "outputs": [
    {
     "data": {
      "text/html": [
       "<div>\n",
       "<style scoped>\n",
       "    .dataframe tbody tr th:only-of-type {\n",
       "        vertical-align: middle;\n",
       "    }\n",
       "\n",
       "    .dataframe tbody tr th {\n",
       "        vertical-align: top;\n",
       "    }\n",
       "\n",
       "    .dataframe thead th {\n",
       "        text-align: right;\n",
       "    }\n",
       "</style>\n",
       "<table border=\"1\" class=\"dataframe\">\n",
       "  <thead>\n",
       "    <tr style=\"text-align: right;\">\n",
       "      <th></th>\n",
       "      <th>id</th>\n",
       "      <th>f0</th>\n",
       "      <th>f1</th>\n",
       "      <th>f2</th>\n",
       "      <th>product</th>\n",
       "    </tr>\n",
       "  </thead>\n",
       "  <tbody>\n",
       "    <tr>\n",
       "      <td>0</td>\n",
       "      <td>txEyH</td>\n",
       "      <td>0.705745</td>\n",
       "      <td>-0.497823</td>\n",
       "      <td>1.221170</td>\n",
       "      <td>105.280062</td>\n",
       "    </tr>\n",
       "    <tr>\n",
       "      <td>1</td>\n",
       "      <td>2acmU</td>\n",
       "      <td>1.334711</td>\n",
       "      <td>-0.340164</td>\n",
       "      <td>4.365080</td>\n",
       "      <td>73.037750</td>\n",
       "    </tr>\n",
       "    <tr>\n",
       "      <td>2</td>\n",
       "      <td>409Wp</td>\n",
       "      <td>1.022732</td>\n",
       "      <td>0.151990</td>\n",
       "      <td>1.419926</td>\n",
       "      <td>85.265647</td>\n",
       "    </tr>\n",
       "    <tr>\n",
       "      <td>3</td>\n",
       "      <td>iJLyR</td>\n",
       "      <td>-0.032172</td>\n",
       "      <td>0.139033</td>\n",
       "      <td>2.978566</td>\n",
       "      <td>168.620776</td>\n",
       "    </tr>\n",
       "    <tr>\n",
       "      <td>4</td>\n",
       "      <td>Xdl7t</td>\n",
       "      <td>1.988431</td>\n",
       "      <td>0.155413</td>\n",
       "      <td>4.751769</td>\n",
       "      <td>154.036647</td>\n",
       "    </tr>\n",
       "  </tbody>\n",
       "</table>\n",
       "</div>"
      ],
      "text/plain": [
       "      id        f0        f1        f2     product\n",
       "0  txEyH  0.705745 -0.497823  1.221170  105.280062\n",
       "1  2acmU  1.334711 -0.340164  4.365080   73.037750\n",
       "2  409Wp  1.022732  0.151990  1.419926   85.265647\n",
       "3  iJLyR -0.032172  0.139033  2.978566  168.620776\n",
       "4  Xdl7t  1.988431  0.155413  4.751769  154.036647"
      ]
     },
     "execution_count": 6,
     "metadata": {},
     "output_type": "execute_result"
    }
   ],
   "source": [
    "data_1.head()"
   ]
  },
  {
   "cell_type": "code",
   "execution_count": 7,
   "metadata": {},
   "outputs": [
    {
     "data": {
      "text/html": [
       "<div>\n",
       "<style scoped>\n",
       "    .dataframe tbody tr th:only-of-type {\n",
       "        vertical-align: middle;\n",
       "    }\n",
       "\n",
       "    .dataframe tbody tr th {\n",
       "        vertical-align: top;\n",
       "    }\n",
       "\n",
       "    .dataframe thead th {\n",
       "        text-align: right;\n",
       "    }\n",
       "</style>\n",
       "<table border=\"1\" class=\"dataframe\">\n",
       "  <thead>\n",
       "    <tr style=\"text-align: right;\">\n",
       "      <th></th>\n",
       "      <th>id</th>\n",
       "      <th>f0</th>\n",
       "      <th>f1</th>\n",
       "      <th>f2</th>\n",
       "      <th>product</th>\n",
       "    </tr>\n",
       "  </thead>\n",
       "  <tbody>\n",
       "    <tr>\n",
       "      <td>0</td>\n",
       "      <td>kBEdx</td>\n",
       "      <td>-15.001348</td>\n",
       "      <td>-8.276000</td>\n",
       "      <td>-0.005876</td>\n",
       "      <td>3.179103</td>\n",
       "    </tr>\n",
       "    <tr>\n",
       "      <td>1</td>\n",
       "      <td>62mP7</td>\n",
       "      <td>14.272088</td>\n",
       "      <td>-3.475083</td>\n",
       "      <td>0.999183</td>\n",
       "      <td>26.953261</td>\n",
       "    </tr>\n",
       "    <tr>\n",
       "      <td>2</td>\n",
       "      <td>vyE1P</td>\n",
       "      <td>6.263187</td>\n",
       "      <td>-5.948386</td>\n",
       "      <td>5.001160</td>\n",
       "      <td>134.766305</td>\n",
       "    </tr>\n",
       "    <tr>\n",
       "      <td>3</td>\n",
       "      <td>KcrkZ</td>\n",
       "      <td>-13.081196</td>\n",
       "      <td>-11.506057</td>\n",
       "      <td>4.999415</td>\n",
       "      <td>137.945408</td>\n",
       "    </tr>\n",
       "    <tr>\n",
       "      <td>4</td>\n",
       "      <td>AHL4O</td>\n",
       "      <td>12.702195</td>\n",
       "      <td>-8.147433</td>\n",
       "      <td>5.004363</td>\n",
       "      <td>134.766305</td>\n",
       "    </tr>\n",
       "  </tbody>\n",
       "</table>\n",
       "</div>"
      ],
      "text/plain": [
       "      id         f0         f1        f2     product\n",
       "0  kBEdx -15.001348  -8.276000 -0.005876    3.179103\n",
       "1  62mP7  14.272088  -3.475083  0.999183   26.953261\n",
       "2  vyE1P   6.263187  -5.948386  5.001160  134.766305\n",
       "3  KcrkZ -13.081196 -11.506057  4.999415  137.945408\n",
       "4  AHL4O  12.702195  -8.147433  5.004363  134.766305"
      ]
     },
     "execution_count": 7,
     "metadata": {},
     "output_type": "execute_result"
    }
   ],
   "source": [
    "data_2.head()"
   ]
  },
  {
   "cell_type": "code",
   "execution_count": 8,
   "metadata": {},
   "outputs": [
    {
     "data": {
      "text/html": [
       "<div>\n",
       "<style scoped>\n",
       "    .dataframe tbody tr th:only-of-type {\n",
       "        vertical-align: middle;\n",
       "    }\n",
       "\n",
       "    .dataframe tbody tr th {\n",
       "        vertical-align: top;\n",
       "    }\n",
       "\n",
       "    .dataframe thead th {\n",
       "        text-align: right;\n",
       "    }\n",
       "</style>\n",
       "<table border=\"1\" class=\"dataframe\">\n",
       "  <thead>\n",
       "    <tr style=\"text-align: right;\">\n",
       "      <th></th>\n",
       "      <th>id</th>\n",
       "      <th>f0</th>\n",
       "      <th>f1</th>\n",
       "      <th>f2</th>\n",
       "      <th>product</th>\n",
       "    </tr>\n",
       "  </thead>\n",
       "  <tbody>\n",
       "    <tr>\n",
       "      <td>0</td>\n",
       "      <td>fwXo0</td>\n",
       "      <td>-1.146987</td>\n",
       "      <td>0.963328</td>\n",
       "      <td>-0.828965</td>\n",
       "      <td>27.758673</td>\n",
       "    </tr>\n",
       "    <tr>\n",
       "      <td>1</td>\n",
       "      <td>WJtFt</td>\n",
       "      <td>0.262778</td>\n",
       "      <td>0.269839</td>\n",
       "      <td>-2.530187</td>\n",
       "      <td>56.069697</td>\n",
       "    </tr>\n",
       "    <tr>\n",
       "      <td>2</td>\n",
       "      <td>ovLUW</td>\n",
       "      <td>0.194587</td>\n",
       "      <td>0.289035</td>\n",
       "      <td>-5.586433</td>\n",
       "      <td>62.871910</td>\n",
       "    </tr>\n",
       "    <tr>\n",
       "      <td>3</td>\n",
       "      <td>q6cA6</td>\n",
       "      <td>2.236060</td>\n",
       "      <td>-0.553760</td>\n",
       "      <td>0.930038</td>\n",
       "      <td>114.572842</td>\n",
       "    </tr>\n",
       "    <tr>\n",
       "      <td>4</td>\n",
       "      <td>WPMUX</td>\n",
       "      <td>-0.515993</td>\n",
       "      <td>1.716266</td>\n",
       "      <td>5.899011</td>\n",
       "      <td>149.600746</td>\n",
       "    </tr>\n",
       "  </tbody>\n",
       "</table>\n",
       "</div>"
      ],
      "text/plain": [
       "      id        f0        f1        f2     product\n",
       "0  fwXo0 -1.146987  0.963328 -0.828965   27.758673\n",
       "1  WJtFt  0.262778  0.269839 -2.530187   56.069697\n",
       "2  ovLUW  0.194587  0.289035 -5.586433   62.871910\n",
       "3  q6cA6  2.236060 -0.553760  0.930038  114.572842\n",
       "4  WPMUX -0.515993  1.716266  5.899011  149.600746"
      ]
     },
     "execution_count": 8,
     "metadata": {},
     "output_type": "execute_result"
    }
   ],
   "source": [
    "data_3.head()"
   ]
  },
  {
   "cell_type": "markdown",
   "metadata": {},
   "source": [
    "<a id='Изучение данных, получение общей информации'></a>"
   ]
  },
  {
   "cell_type": "markdown",
   "metadata": {},
   "source": [
    "### <p style=\"text-align:center\"> Изучение данных, получение общей информации</p>"
   ]
  },
  {
   "cell_type": "markdown",
   "metadata": {},
   "source": [
    "Ознакомимся с информацией, посмотрим соответствуют ли типы ячеек назначению. В качестве дополнительной проверки возьмем случайные 20 строк из нашего датасета, посмотрим на странные, выбивающиеся, отсутствующие значения."
   ]
  },
  {
   "cell_type": "code",
   "execution_count": 9,
   "metadata": {},
   "outputs": [
    {
     "data": {
      "text/html": [
       "<div>\n",
       "<style scoped>\n",
       "    .dataframe tbody tr th:only-of-type {\n",
       "        vertical-align: middle;\n",
       "    }\n",
       "\n",
       "    .dataframe tbody tr th {\n",
       "        vertical-align: top;\n",
       "    }\n",
       "\n",
       "    .dataframe thead th {\n",
       "        text-align: right;\n",
       "    }\n",
       "</style>\n",
       "<table border=\"1\" class=\"dataframe\">\n",
       "  <thead>\n",
       "    <tr style=\"text-align: right;\">\n",
       "      <th></th>\n",
       "      <th>id</th>\n",
       "      <th>f0</th>\n",
       "      <th>f1</th>\n",
       "      <th>f2</th>\n",
       "      <th>product</th>\n",
       "    </tr>\n",
       "  </thead>\n",
       "  <tbody>\n",
       "    <tr>\n",
       "      <td>43660</td>\n",
       "      <td>MUOMg</td>\n",
       "      <td>0.951436</td>\n",
       "      <td>0.296027</td>\n",
       "      <td>6.817623</td>\n",
       "      <td>89.929339</td>\n",
       "    </tr>\n",
       "    <tr>\n",
       "      <td>87278</td>\n",
       "      <td>OZXkj</td>\n",
       "      <td>0.800004</td>\n",
       "      <td>0.231734</td>\n",
       "      <td>-2.650680</td>\n",
       "      <td>94.203721</td>\n",
       "    </tr>\n",
       "    <tr>\n",
       "      <td>14317</td>\n",
       "      <td>adoVK</td>\n",
       "      <td>0.726819</td>\n",
       "      <td>-0.422117</td>\n",
       "      <td>2.645328</td>\n",
       "      <td>123.553649</td>\n",
       "    </tr>\n",
       "    <tr>\n",
       "      <td>81932</td>\n",
       "      <td>8rZOO</td>\n",
       "      <td>0.193998</td>\n",
       "      <td>-0.247002</td>\n",
       "      <td>-1.002114</td>\n",
       "      <td>83.166422</td>\n",
       "    </tr>\n",
       "    <tr>\n",
       "      <td>95321</td>\n",
       "      <td>RyFFq</td>\n",
       "      <td>0.890555</td>\n",
       "      <td>-0.498876</td>\n",
       "      <td>4.448591</td>\n",
       "      <td>146.285652</td>\n",
       "    </tr>\n",
       "    <tr>\n",
       "      <td>5405</td>\n",
       "      <td>tBLU2</td>\n",
       "      <td>0.891637</td>\n",
       "      <td>0.593734</td>\n",
       "      <td>4.120652</td>\n",
       "      <td>144.004516</td>\n",
       "    </tr>\n",
       "    <tr>\n",
       "      <td>33188</td>\n",
       "      <td>9ahU2</td>\n",
       "      <td>-0.898312</td>\n",
       "      <td>0.452936</td>\n",
       "      <td>6.443870</td>\n",
       "      <td>83.785154</td>\n",
       "    </tr>\n",
       "    <tr>\n",
       "      <td>63421</td>\n",
       "      <td>xiiVU</td>\n",
       "      <td>0.428196</td>\n",
       "      <td>-0.193968</td>\n",
       "      <td>0.649134</td>\n",
       "      <td>104.761145</td>\n",
       "    </tr>\n",
       "    <tr>\n",
       "      <td>72897</td>\n",
       "      <td>5OJkk</td>\n",
       "      <td>1.624071</td>\n",
       "      <td>-0.265819</td>\n",
       "      <td>-0.728902</td>\n",
       "      <td>48.124742</td>\n",
       "    </tr>\n",
       "    <tr>\n",
       "      <td>9507</td>\n",
       "      <td>tdQ7o</td>\n",
       "      <td>1.901850</td>\n",
       "      <td>-0.068596</td>\n",
       "      <td>4.012660</td>\n",
       "      <td>155.625236</td>\n",
       "    </tr>\n",
       "    <tr>\n",
       "      <td>88624</td>\n",
       "      <td>mgB83</td>\n",
       "      <td>0.751591</td>\n",
       "      <td>-0.584979</td>\n",
       "      <td>1.063053</td>\n",
       "      <td>136.670030</td>\n",
       "    </tr>\n",
       "    <tr>\n",
       "      <td>95115</td>\n",
       "      <td>d3oMe</td>\n",
       "      <td>0.134136</td>\n",
       "      <td>-0.338812</td>\n",
       "      <td>6.970613</td>\n",
       "      <td>149.924112</td>\n",
       "    </tr>\n",
       "    <tr>\n",
       "      <td>99243</td>\n",
       "      <td>oqy7H</td>\n",
       "      <td>-0.508718</td>\n",
       "      <td>0.871652</td>\n",
       "      <td>6.218211</td>\n",
       "      <td>93.196177</td>\n",
       "    </tr>\n",
       "    <tr>\n",
       "      <td>77045</td>\n",
       "      <td>CD84m</td>\n",
       "      <td>0.231194</td>\n",
       "      <td>-0.201995</td>\n",
       "      <td>1.621304</td>\n",
       "      <td>85.565041</td>\n",
       "    </tr>\n",
       "    <tr>\n",
       "      <td>31791</td>\n",
       "      <td>Qvwig</td>\n",
       "      <td>0.514328</td>\n",
       "      <td>0.868402</td>\n",
       "      <td>3.494135</td>\n",
       "      <td>133.296069</td>\n",
       "    </tr>\n",
       "    <tr>\n",
       "      <td>45417</td>\n",
       "      <td>OfH5o</td>\n",
       "      <td>0.590968</td>\n",
       "      <td>-0.479927</td>\n",
       "      <td>1.412281</td>\n",
       "      <td>151.430651</td>\n",
       "    </tr>\n",
       "    <tr>\n",
       "      <td>71963</td>\n",
       "      <td>ptmQL</td>\n",
       "      <td>0.375305</td>\n",
       "      <td>0.897080</td>\n",
       "      <td>-1.588142</td>\n",
       "      <td>3.876234</td>\n",
       "    </tr>\n",
       "    <tr>\n",
       "      <td>91216</td>\n",
       "      <td>dxv5C</td>\n",
       "      <td>0.133549</td>\n",
       "      <td>0.154897</td>\n",
       "      <td>5.093276</td>\n",
       "      <td>137.914320</td>\n",
       "    </tr>\n",
       "    <tr>\n",
       "      <td>31924</td>\n",
       "      <td>JvhqM</td>\n",
       "      <td>0.047589</td>\n",
       "      <td>-0.147687</td>\n",
       "      <td>-2.131716</td>\n",
       "      <td>24.591530</td>\n",
       "    </tr>\n",
       "    <tr>\n",
       "      <td>15134</td>\n",
       "      <td>uNlLV</td>\n",
       "      <td>-0.526357</td>\n",
       "      <td>0.846256</td>\n",
       "      <td>-1.695102</td>\n",
       "      <td>72.482472</td>\n",
       "    </tr>\n",
       "  </tbody>\n",
       "</table>\n",
       "</div>"
      ],
      "text/plain": [
       "          id        f0        f1        f2     product\n",
       "43660  MUOMg  0.951436  0.296027  6.817623   89.929339\n",
       "87278  OZXkj  0.800004  0.231734 -2.650680   94.203721\n",
       "14317  adoVK  0.726819 -0.422117  2.645328  123.553649\n",
       "81932  8rZOO  0.193998 -0.247002 -1.002114   83.166422\n",
       "95321  RyFFq  0.890555 -0.498876  4.448591  146.285652\n",
       "5405   tBLU2  0.891637  0.593734  4.120652  144.004516\n",
       "33188  9ahU2 -0.898312  0.452936  6.443870   83.785154\n",
       "63421  xiiVU  0.428196 -0.193968  0.649134  104.761145\n",
       "72897  5OJkk  1.624071 -0.265819 -0.728902   48.124742\n",
       "9507   tdQ7o  1.901850 -0.068596  4.012660  155.625236\n",
       "88624  mgB83  0.751591 -0.584979  1.063053  136.670030\n",
       "95115  d3oMe  0.134136 -0.338812  6.970613  149.924112\n",
       "99243  oqy7H -0.508718  0.871652  6.218211   93.196177\n",
       "77045  CD84m  0.231194 -0.201995  1.621304   85.565041\n",
       "31791  Qvwig  0.514328  0.868402  3.494135  133.296069\n",
       "45417  OfH5o  0.590968 -0.479927  1.412281  151.430651\n",
       "71963  ptmQL  0.375305  0.897080 -1.588142    3.876234\n",
       "91216  dxv5C  0.133549  0.154897  5.093276  137.914320\n",
       "31924  JvhqM  0.047589 -0.147687 -2.131716   24.591530\n",
       "15134  uNlLV -0.526357  0.846256 -1.695102   72.482472"
      ]
     },
     "execution_count": 9,
     "metadata": {},
     "output_type": "execute_result"
    }
   ],
   "source": [
    "data_1.sample(n=20, random_state=1)"
   ]
  },
  {
   "cell_type": "code",
   "execution_count": 10,
   "metadata": {},
   "outputs": [
    {
     "data": {
      "text/html": [
       "<div>\n",
       "<style scoped>\n",
       "    .dataframe tbody tr th:only-of-type {\n",
       "        vertical-align: middle;\n",
       "    }\n",
       "\n",
       "    .dataframe tbody tr th {\n",
       "        vertical-align: top;\n",
       "    }\n",
       "\n",
       "    .dataframe thead th {\n",
       "        text-align: right;\n",
       "    }\n",
       "</style>\n",
       "<table border=\"1\" class=\"dataframe\">\n",
       "  <thead>\n",
       "    <tr style=\"text-align: right;\">\n",
       "      <th></th>\n",
       "      <th>id</th>\n",
       "      <th>f0</th>\n",
       "      <th>f1</th>\n",
       "      <th>f2</th>\n",
       "      <th>product</th>\n",
       "    </tr>\n",
       "  </thead>\n",
       "  <tbody>\n",
       "    <tr>\n",
       "      <td>6448</td>\n",
       "      <td>UH2TV</td>\n",
       "      <td>13.392314</td>\n",
       "      <td>-11.167542</td>\n",
       "      <td>2.997332</td>\n",
       "      <td>80.859783</td>\n",
       "    </tr>\n",
       "    <tr>\n",
       "      <td>50680</td>\n",
       "      <td>0vrnv</td>\n",
       "      <td>7.297920</td>\n",
       "      <td>-7.118898</td>\n",
       "      <td>0.000047</td>\n",
       "      <td>0.000000</td>\n",
       "    </tr>\n",
       "    <tr>\n",
       "      <td>814</td>\n",
       "      <td>jRD7Y</td>\n",
       "      <td>-1.908581</td>\n",
       "      <td>-16.298396</td>\n",
       "      <td>0.005746</td>\n",
       "      <td>0.000000</td>\n",
       "    </tr>\n",
       "    <tr>\n",
       "      <td>20354</td>\n",
       "      <td>74iWM</td>\n",
       "      <td>10.091034</td>\n",
       "      <td>-3.356885</td>\n",
       "      <td>1.001110</td>\n",
       "      <td>26.953261</td>\n",
       "    </tr>\n",
       "    <tr>\n",
       "      <td>49224</td>\n",
       "      <td>ZMBxe</td>\n",
       "      <td>-7.004343</td>\n",
       "      <td>-6.190416</td>\n",
       "      <td>2.996468</td>\n",
       "      <td>84.038886</td>\n",
       "    </tr>\n",
       "    <tr>\n",
       "      <td>96712</td>\n",
       "      <td>LCDCm</td>\n",
       "      <td>-4.488875</td>\n",
       "      <td>-0.880741</td>\n",
       "      <td>1.003158</td>\n",
       "      <td>26.953261</td>\n",
       "    </tr>\n",
       "    <tr>\n",
       "      <td>76353</td>\n",
       "      <td>ajEyy</td>\n",
       "      <td>-12.822312</td>\n",
       "      <td>-1.089717</td>\n",
       "      <td>0.996685</td>\n",
       "      <td>30.132364</td>\n",
       "    </tr>\n",
       "    <tr>\n",
       "      <td>91607</td>\n",
       "      <td>JMRx6</td>\n",
       "      <td>4.485587</td>\n",
       "      <td>7.268927</td>\n",
       "      <td>3.001839</td>\n",
       "      <td>80.859783</td>\n",
       "    </tr>\n",
       "    <tr>\n",
       "      <td>65153</td>\n",
       "      <td>IIoyv</td>\n",
       "      <td>-4.236561</td>\n",
       "      <td>-13.315800</td>\n",
       "      <td>0.008354</td>\n",
       "      <td>3.179103</td>\n",
       "    </tr>\n",
       "    <tr>\n",
       "      <td>13542</td>\n",
       "      <td>sFboR</td>\n",
       "      <td>11.315497</td>\n",
       "      <td>-1.361467</td>\n",
       "      <td>2.001713</td>\n",
       "      <td>53.906522</td>\n",
       "    </tr>\n",
       "    <tr>\n",
       "      <td>52340</td>\n",
       "      <td>MiTcp</td>\n",
       "      <td>2.463756</td>\n",
       "      <td>4.943256</td>\n",
       "      <td>0.004442</td>\n",
       "      <td>0.000000</td>\n",
       "    </tr>\n",
       "    <tr>\n",
       "      <td>35645</td>\n",
       "      <td>COerf</td>\n",
       "      <td>-7.611814</td>\n",
       "      <td>-2.978131</td>\n",
       "      <td>4.006351</td>\n",
       "      <td>110.992147</td>\n",
       "    </tr>\n",
       "    <tr>\n",
       "      <td>85581</td>\n",
       "      <td>FVeIZ</td>\n",
       "      <td>16.767732</td>\n",
       "      <td>-4.479921</td>\n",
       "      <td>2.996427</td>\n",
       "      <td>80.859783</td>\n",
       "    </tr>\n",
       "    <tr>\n",
       "      <td>41384</td>\n",
       "      <td>YR0zf</td>\n",
       "      <td>11.926830</td>\n",
       "      <td>2.047662</td>\n",
       "      <td>4.999708</td>\n",
       "      <td>134.766305</td>\n",
       "    </tr>\n",
       "    <tr>\n",
       "      <td>82161</td>\n",
       "      <td>JCnnJ</td>\n",
       "      <td>6.564701</td>\n",
       "      <td>-4.326805</td>\n",
       "      <td>0.002200</td>\n",
       "      <td>0.000000</td>\n",
       "    </tr>\n",
       "    <tr>\n",
       "      <td>51964</td>\n",
       "      <td>X7xAn</td>\n",
       "      <td>-16.754622</td>\n",
       "      <td>-11.076577</td>\n",
       "      <td>3.010658</td>\n",
       "      <td>84.038886</td>\n",
       "    </tr>\n",
       "    <tr>\n",
       "      <td>12574</td>\n",
       "      <td>xoan0</td>\n",
       "      <td>8.994433</td>\n",
       "      <td>-5.974152</td>\n",
       "      <td>0.998730</td>\n",
       "      <td>26.953261</td>\n",
       "    </tr>\n",
       "    <tr>\n",
       "      <td>90402</td>\n",
       "      <td>jEmTk</td>\n",
       "      <td>0.327740</td>\n",
       "      <td>-9.097964</td>\n",
       "      <td>-0.001416</td>\n",
       "      <td>3.179103</td>\n",
       "    </tr>\n",
       "    <tr>\n",
       "      <td>14384</td>\n",
       "      <td>wz6nf</td>\n",
       "      <td>6.849735</td>\n",
       "      <td>5.777625</td>\n",
       "      <td>3.001976</td>\n",
       "      <td>80.859783</td>\n",
       "    </tr>\n",
       "    <tr>\n",
       "      <td>28221</td>\n",
       "      <td>MPlQA</td>\n",
       "      <td>9.947484</td>\n",
       "      <td>-5.452594</td>\n",
       "      <td>2.000043</td>\n",
       "      <td>53.906522</td>\n",
       "    </tr>\n",
       "  </tbody>\n",
       "</table>\n",
       "</div>"
      ],
      "text/plain": [
       "          id         f0         f1        f2     product\n",
       "6448   UH2TV  13.392314 -11.167542  2.997332   80.859783\n",
       "50680  0vrnv   7.297920  -7.118898  0.000047    0.000000\n",
       "814    jRD7Y  -1.908581 -16.298396  0.005746    0.000000\n",
       "20354  74iWM  10.091034  -3.356885  1.001110   26.953261\n",
       "49224  ZMBxe  -7.004343  -6.190416  2.996468   84.038886\n",
       "96712  LCDCm  -4.488875  -0.880741  1.003158   26.953261\n",
       "76353  ajEyy -12.822312  -1.089717  0.996685   30.132364\n",
       "91607  JMRx6   4.485587   7.268927  3.001839   80.859783\n",
       "65153  IIoyv  -4.236561 -13.315800  0.008354    3.179103\n",
       "13542  sFboR  11.315497  -1.361467  2.001713   53.906522\n",
       "52340  MiTcp   2.463756   4.943256  0.004442    0.000000\n",
       "35645  COerf  -7.611814  -2.978131  4.006351  110.992147\n",
       "85581  FVeIZ  16.767732  -4.479921  2.996427   80.859783\n",
       "41384  YR0zf  11.926830   2.047662  4.999708  134.766305\n",
       "82161  JCnnJ   6.564701  -4.326805  0.002200    0.000000\n",
       "51964  X7xAn -16.754622 -11.076577  3.010658   84.038886\n",
       "12574  xoan0   8.994433  -5.974152  0.998730   26.953261\n",
       "90402  jEmTk   0.327740  -9.097964 -0.001416    3.179103\n",
       "14384  wz6nf   6.849735   5.777625  3.001976   80.859783\n",
       "28221  MPlQA   9.947484  -5.452594  2.000043   53.906522"
      ]
     },
     "execution_count": 10,
     "metadata": {},
     "output_type": "execute_result"
    }
   ],
   "source": [
    "data_2.sample(n=20, random_state=2)"
   ]
  },
  {
   "cell_type": "code",
   "execution_count": 11,
   "metadata": {},
   "outputs": [
    {
     "data": {
      "text/html": [
       "<div>\n",
       "<style scoped>\n",
       "    .dataframe tbody tr th:only-of-type {\n",
       "        vertical-align: middle;\n",
       "    }\n",
       "\n",
       "    .dataframe tbody tr th {\n",
       "        vertical-align: top;\n",
       "    }\n",
       "\n",
       "    .dataframe thead th {\n",
       "        text-align: right;\n",
       "    }\n",
       "</style>\n",
       "<table border=\"1\" class=\"dataframe\">\n",
       "  <thead>\n",
       "    <tr style=\"text-align: right;\">\n",
       "      <th></th>\n",
       "      <th>id</th>\n",
       "      <th>f0</th>\n",
       "      <th>f1</th>\n",
       "      <th>f2</th>\n",
       "      <th>product</th>\n",
       "    </tr>\n",
       "  </thead>\n",
       "  <tbody>\n",
       "    <tr>\n",
       "      <td>79528</td>\n",
       "      <td>IzPst</td>\n",
       "      <td>0.194647</td>\n",
       "      <td>2.469580</td>\n",
       "      <td>0.458417</td>\n",
       "      <td>56.324969</td>\n",
       "    </tr>\n",
       "    <tr>\n",
       "      <td>53876</td>\n",
       "      <td>Og4zw</td>\n",
       "      <td>-3.099415</td>\n",
       "      <td>3.781137</td>\n",
       "      <td>3.376006</td>\n",
       "      <td>159.510230</td>\n",
       "    </tr>\n",
       "    <tr>\n",
       "      <td>9777</td>\n",
       "      <td>J2FB8</td>\n",
       "      <td>-0.432362</td>\n",
       "      <td>0.228315</td>\n",
       "      <td>5.840886</td>\n",
       "      <td>106.784053</td>\n",
       "    </tr>\n",
       "    <tr>\n",
       "      <td>6167</td>\n",
       "      <td>hKW1X</td>\n",
       "      <td>-1.095537</td>\n",
       "      <td>-0.854953</td>\n",
       "      <td>8.423223</td>\n",
       "      <td>122.134032</td>\n",
       "    </tr>\n",
       "    <tr>\n",
       "      <td>22020</td>\n",
       "      <td>K7U15</td>\n",
       "      <td>1.794371</td>\n",
       "      <td>-0.820678</td>\n",
       "      <td>10.475420</td>\n",
       "      <td>120.791430</td>\n",
       "    </tr>\n",
       "    <tr>\n",
       "      <td>85042</td>\n",
       "      <td>ggXMK</td>\n",
       "      <td>0.294920</td>\n",
       "      <td>-0.482935</td>\n",
       "      <td>1.391220</td>\n",
       "      <td>38.981639</td>\n",
       "    </tr>\n",
       "    <tr>\n",
       "      <td>14758</td>\n",
       "      <td>pnsAQ</td>\n",
       "      <td>0.830345</td>\n",
       "      <td>1.204876</td>\n",
       "      <td>1.403620</td>\n",
       "      <td>83.242309</td>\n",
       "    </tr>\n",
       "    <tr>\n",
       "      <td>65017</td>\n",
       "      <td>8O0fw</td>\n",
       "      <td>3.266574</td>\n",
       "      <td>0.714168</td>\n",
       "      <td>3.840849</td>\n",
       "      <td>120.457457</td>\n",
       "    </tr>\n",
       "    <tr>\n",
       "      <td>97903</td>\n",
       "      <td>GDVoJ</td>\n",
       "      <td>-0.586365</td>\n",
       "      <td>1.103559</td>\n",
       "      <td>2.389679</td>\n",
       "      <td>106.010855</td>\n",
       "    </tr>\n",
       "    <tr>\n",
       "      <td>84654</td>\n",
       "      <td>OOux6</td>\n",
       "      <td>-2.497178</td>\n",
       "      <td>1.119071</td>\n",
       "      <td>-3.205636</td>\n",
       "      <td>94.972974</td>\n",
       "    </tr>\n",
       "    <tr>\n",
       "      <td>59751</td>\n",
       "      <td>24cu6</td>\n",
       "      <td>-2.889888</td>\n",
       "      <td>1.585098</td>\n",
       "      <td>2.492066</td>\n",
       "      <td>166.610602</td>\n",
       "    </tr>\n",
       "    <tr>\n",
       "      <td>90449</td>\n",
       "      <td>fDmN7</td>\n",
       "      <td>0.102109</td>\n",
       "      <td>1.622318</td>\n",
       "      <td>2.826458</td>\n",
       "      <td>158.590250</td>\n",
       "    </tr>\n",
       "    <tr>\n",
       "      <td>62504</td>\n",
       "      <td>TK750</td>\n",
       "      <td>-0.362539</td>\n",
       "      <td>1.727229</td>\n",
       "      <td>-0.066737</td>\n",
       "      <td>34.100927</td>\n",
       "    </tr>\n",
       "    <tr>\n",
       "      <td>41648</td>\n",
       "      <td>TIxN1</td>\n",
       "      <td>-0.468396</td>\n",
       "      <td>-2.300609</td>\n",
       "      <td>-1.685727</td>\n",
       "      <td>79.673035</td>\n",
       "    </tr>\n",
       "    <tr>\n",
       "      <td>12829</td>\n",
       "      <td>6XLVa</td>\n",
       "      <td>-0.178590</td>\n",
       "      <td>-1.334039</td>\n",
       "      <td>4.064702</td>\n",
       "      <td>32.073939</td>\n",
       "    </tr>\n",
       "    <tr>\n",
       "      <td>11490</td>\n",
       "      <td>Y1Tgg</td>\n",
       "      <td>2.796974</td>\n",
       "      <td>-0.374672</td>\n",
       "      <td>3.026526</td>\n",
       "      <td>150.717348</td>\n",
       "    </tr>\n",
       "    <tr>\n",
       "      <td>93873</td>\n",
       "      <td>fIrnH</td>\n",
       "      <td>-2.721372</td>\n",
       "      <td>0.056462</td>\n",
       "      <td>3.131573</td>\n",
       "      <td>135.056665</td>\n",
       "    </tr>\n",
       "    <tr>\n",
       "      <td>34814</td>\n",
       "      <td>x5JJK</td>\n",
       "      <td>-0.575292</td>\n",
       "      <td>-0.170190</td>\n",
       "      <td>3.972512</td>\n",
       "      <td>30.412504</td>\n",
       "    </tr>\n",
       "    <tr>\n",
       "      <td>43717</td>\n",
       "      <td>RCXV6</td>\n",
       "      <td>2.018442</td>\n",
       "      <td>-3.619552</td>\n",
       "      <td>0.586053</td>\n",
       "      <td>32.280645</td>\n",
       "    </tr>\n",
       "    <tr>\n",
       "      <td>72405</td>\n",
       "      <td>SY7It</td>\n",
       "      <td>-0.756919</td>\n",
       "      <td>0.200996</td>\n",
       "      <td>12.749983</td>\n",
       "      <td>137.125725</td>\n",
       "    </tr>\n",
       "  </tbody>\n",
       "</table>\n",
       "</div>"
      ],
      "text/plain": [
       "          id        f0        f1         f2     product\n",
       "79528  IzPst  0.194647  2.469580   0.458417   56.324969\n",
       "53876  Og4zw -3.099415  3.781137   3.376006  159.510230\n",
       "9777   J2FB8 -0.432362  0.228315   5.840886  106.784053\n",
       "6167   hKW1X -1.095537 -0.854953   8.423223  122.134032\n",
       "22020  K7U15  1.794371 -0.820678  10.475420  120.791430\n",
       "85042  ggXMK  0.294920 -0.482935   1.391220   38.981639\n",
       "14758  pnsAQ  0.830345  1.204876   1.403620   83.242309\n",
       "65017  8O0fw  3.266574  0.714168   3.840849  120.457457\n",
       "97903  GDVoJ -0.586365  1.103559   2.389679  106.010855\n",
       "84654  OOux6 -2.497178  1.119071  -3.205636   94.972974\n",
       "59751  24cu6 -2.889888  1.585098   2.492066  166.610602\n",
       "90449  fDmN7  0.102109  1.622318   2.826458  158.590250\n",
       "62504  TK750 -0.362539  1.727229  -0.066737   34.100927\n",
       "41648  TIxN1 -0.468396 -2.300609  -1.685727   79.673035\n",
       "12829  6XLVa -0.178590 -1.334039   4.064702   32.073939\n",
       "11490  Y1Tgg  2.796974 -0.374672   3.026526  150.717348\n",
       "93873  fIrnH -2.721372  0.056462   3.131573  135.056665\n",
       "34814  x5JJK -0.575292 -0.170190   3.972512   30.412504\n",
       "43717  RCXV6  2.018442 -3.619552   0.586053   32.280645\n",
       "72405  SY7It -0.756919  0.200996  12.749983  137.125725"
      ]
     },
     "execution_count": 11,
     "metadata": {},
     "output_type": "execute_result"
    }
   ],
   "source": [
    "data_3.sample(n=20, random_state=3)"
   ]
  },
  {
   "cell_type": "markdown",
   "metadata": {},
   "source": [
    "Иногда в таблицах в конце есть строка \"Итого\"(или т.п.), нам она не нужна, убедимся в ее отсутствии."
   ]
  },
  {
   "cell_type": "code",
   "execution_count": 12,
   "metadata": {},
   "outputs": [
    {
     "data": {
      "text/html": [
       "<div>\n",
       "<style scoped>\n",
       "    .dataframe tbody tr th:only-of-type {\n",
       "        vertical-align: middle;\n",
       "    }\n",
       "\n",
       "    .dataframe tbody tr th {\n",
       "        vertical-align: top;\n",
       "    }\n",
       "\n",
       "    .dataframe thead th {\n",
       "        text-align: right;\n",
       "    }\n",
       "</style>\n",
       "<table border=\"1\" class=\"dataframe\">\n",
       "  <thead>\n",
       "    <tr style=\"text-align: right;\">\n",
       "      <th></th>\n",
       "      <th>id</th>\n",
       "      <th>f0</th>\n",
       "      <th>f1</th>\n",
       "      <th>f2</th>\n",
       "      <th>product</th>\n",
       "    </tr>\n",
       "  </thead>\n",
       "  <tbody>\n",
       "    <tr>\n",
       "      <td>99995</td>\n",
       "      <td>DLsed</td>\n",
       "      <td>0.971957</td>\n",
       "      <td>0.370953</td>\n",
       "      <td>6.075346</td>\n",
       "      <td>110.744026</td>\n",
       "    </tr>\n",
       "    <tr>\n",
       "      <td>99996</td>\n",
       "      <td>QKivN</td>\n",
       "      <td>1.392429</td>\n",
       "      <td>-0.382606</td>\n",
       "      <td>1.273912</td>\n",
       "      <td>122.346843</td>\n",
       "    </tr>\n",
       "    <tr>\n",
       "      <td>99997</td>\n",
       "      <td>3rnvd</td>\n",
       "      <td>1.029585</td>\n",
       "      <td>0.018787</td>\n",
       "      <td>-1.348308</td>\n",
       "      <td>64.375443</td>\n",
       "    </tr>\n",
       "    <tr>\n",
       "      <td>99998</td>\n",
       "      <td>7kl59</td>\n",
       "      <td>0.998163</td>\n",
       "      <td>-0.528582</td>\n",
       "      <td>1.583869</td>\n",
       "      <td>74.040764</td>\n",
       "    </tr>\n",
       "    <tr>\n",
       "      <td>99999</td>\n",
       "      <td>1CWhH</td>\n",
       "      <td>1.764754</td>\n",
       "      <td>-0.266417</td>\n",
       "      <td>5.722849</td>\n",
       "      <td>149.633246</td>\n",
       "    </tr>\n",
       "  </tbody>\n",
       "</table>\n",
       "</div>"
      ],
      "text/plain": [
       "          id        f0        f1        f2     product\n",
       "99995  DLsed  0.971957  0.370953  6.075346  110.744026\n",
       "99996  QKivN  1.392429 -0.382606  1.273912  122.346843\n",
       "99997  3rnvd  1.029585  0.018787 -1.348308   64.375443\n",
       "99998  7kl59  0.998163 -0.528582  1.583869   74.040764\n",
       "99999  1CWhH  1.764754 -0.266417  5.722849  149.633246"
      ]
     },
     "execution_count": 12,
     "metadata": {},
     "output_type": "execute_result"
    }
   ],
   "source": [
    "data_1.tail()"
   ]
  },
  {
   "cell_type": "code",
   "execution_count": 13,
   "metadata": {},
   "outputs": [
    {
     "data": {
      "text/html": [
       "<div>\n",
       "<style scoped>\n",
       "    .dataframe tbody tr th:only-of-type {\n",
       "        vertical-align: middle;\n",
       "    }\n",
       "\n",
       "    .dataframe tbody tr th {\n",
       "        vertical-align: top;\n",
       "    }\n",
       "\n",
       "    .dataframe thead th {\n",
       "        text-align: right;\n",
       "    }\n",
       "</style>\n",
       "<table border=\"1\" class=\"dataframe\">\n",
       "  <thead>\n",
       "    <tr style=\"text-align: right;\">\n",
       "      <th></th>\n",
       "      <th>id</th>\n",
       "      <th>f0</th>\n",
       "      <th>f1</th>\n",
       "      <th>f2</th>\n",
       "      <th>product</th>\n",
       "    </tr>\n",
       "  </thead>\n",
       "  <tbody>\n",
       "    <tr>\n",
       "      <td>99995</td>\n",
       "      <td>QywKC</td>\n",
       "      <td>9.535637</td>\n",
       "      <td>-6.878139</td>\n",
       "      <td>1.998296</td>\n",
       "      <td>53.906522</td>\n",
       "    </tr>\n",
       "    <tr>\n",
       "      <td>99996</td>\n",
       "      <td>ptvty</td>\n",
       "      <td>-10.160631</td>\n",
       "      <td>-12.558096</td>\n",
       "      <td>5.005581</td>\n",
       "      <td>137.945408</td>\n",
       "    </tr>\n",
       "    <tr>\n",
       "      <td>99997</td>\n",
       "      <td>09gWa</td>\n",
       "      <td>-7.378891</td>\n",
       "      <td>-3.084104</td>\n",
       "      <td>4.998651</td>\n",
       "      <td>137.945408</td>\n",
       "    </tr>\n",
       "    <tr>\n",
       "      <td>99998</td>\n",
       "      <td>rqwUm</td>\n",
       "      <td>0.665714</td>\n",
       "      <td>-6.152593</td>\n",
       "      <td>1.000146</td>\n",
       "      <td>30.132364</td>\n",
       "    </tr>\n",
       "    <tr>\n",
       "      <td>99999</td>\n",
       "      <td>relB0</td>\n",
       "      <td>-3.426139</td>\n",
       "      <td>-7.794274</td>\n",
       "      <td>-0.003299</td>\n",
       "      <td>3.179103</td>\n",
       "    </tr>\n",
       "  </tbody>\n",
       "</table>\n",
       "</div>"
      ],
      "text/plain": [
       "          id         f0         f1        f2     product\n",
       "99995  QywKC   9.535637  -6.878139  1.998296   53.906522\n",
       "99996  ptvty -10.160631 -12.558096  5.005581  137.945408\n",
       "99997  09gWa  -7.378891  -3.084104  4.998651  137.945408\n",
       "99998  rqwUm   0.665714  -6.152593  1.000146   30.132364\n",
       "99999  relB0  -3.426139  -7.794274 -0.003299    3.179103"
      ]
     },
     "execution_count": 13,
     "metadata": {},
     "output_type": "execute_result"
    }
   ],
   "source": [
    "data_2.tail()"
   ]
  },
  {
   "cell_type": "code",
   "execution_count": 14,
   "metadata": {},
   "outputs": [
    {
     "data": {
      "text/html": [
       "<div>\n",
       "<style scoped>\n",
       "    .dataframe tbody tr th:only-of-type {\n",
       "        vertical-align: middle;\n",
       "    }\n",
       "\n",
       "    .dataframe tbody tr th {\n",
       "        vertical-align: top;\n",
       "    }\n",
       "\n",
       "    .dataframe thead th {\n",
       "        text-align: right;\n",
       "    }\n",
       "</style>\n",
       "<table border=\"1\" class=\"dataframe\">\n",
       "  <thead>\n",
       "    <tr style=\"text-align: right;\">\n",
       "      <th></th>\n",
       "      <th>id</th>\n",
       "      <th>f0</th>\n",
       "      <th>f1</th>\n",
       "      <th>f2</th>\n",
       "      <th>product</th>\n",
       "    </tr>\n",
       "  </thead>\n",
       "  <tbody>\n",
       "    <tr>\n",
       "      <td>99995</td>\n",
       "      <td>4GxBu</td>\n",
       "      <td>-1.777037</td>\n",
       "      <td>1.125220</td>\n",
       "      <td>6.263374</td>\n",
       "      <td>172.327046</td>\n",
       "    </tr>\n",
       "    <tr>\n",
       "      <td>99996</td>\n",
       "      <td>YKFjq</td>\n",
       "      <td>-1.261523</td>\n",
       "      <td>-0.894828</td>\n",
       "      <td>2.524545</td>\n",
       "      <td>138.748846</td>\n",
       "    </tr>\n",
       "    <tr>\n",
       "      <td>99997</td>\n",
       "      <td>tKPY3</td>\n",
       "      <td>-1.199934</td>\n",
       "      <td>-2.957637</td>\n",
       "      <td>5.219411</td>\n",
       "      <td>157.080080</td>\n",
       "    </tr>\n",
       "    <tr>\n",
       "      <td>99998</td>\n",
       "      <td>nmxp2</td>\n",
       "      <td>-2.419896</td>\n",
       "      <td>2.417221</td>\n",
       "      <td>-5.548444</td>\n",
       "      <td>51.795253</td>\n",
       "    </tr>\n",
       "    <tr>\n",
       "      <td>99999</td>\n",
       "      <td>V9kWn</td>\n",
       "      <td>-2.551421</td>\n",
       "      <td>-2.025625</td>\n",
       "      <td>6.090891</td>\n",
       "      <td>102.775767</td>\n",
       "    </tr>\n",
       "  </tbody>\n",
       "</table>\n",
       "</div>"
      ],
      "text/plain": [
       "          id        f0        f1        f2     product\n",
       "99995  4GxBu -1.777037  1.125220  6.263374  172.327046\n",
       "99996  YKFjq -1.261523 -0.894828  2.524545  138.748846\n",
       "99997  tKPY3 -1.199934 -2.957637  5.219411  157.080080\n",
       "99998  nmxp2 -2.419896  2.417221 -5.548444   51.795253\n",
       "99999  V9kWn -2.551421 -2.025625  6.090891  102.775767"
      ]
     },
     "execution_count": 14,
     "metadata": {},
     "output_type": "execute_result"
    }
   ],
   "source": [
    "data_3.tail()"
   ]
  },
  {
   "cell_type": "code",
   "execution_count": 15,
   "metadata": {},
   "outputs": [
    {
     "name": "stdout",
     "output_type": "stream",
     "text": [
      "<class 'pandas.core.frame.DataFrame'>\n",
      "RangeIndex: 100000 entries, 0 to 99999\n",
      "Data columns (total 5 columns):\n",
      "id         100000 non-null object\n",
      "f0         100000 non-null float64\n",
      "f1         100000 non-null float64\n",
      "f2         100000 non-null float64\n",
      "product    100000 non-null float64\n",
      "dtypes: float64(4), object(1)\n",
      "memory usage: 3.8+ MB\n"
     ]
    }
   ],
   "source": [
    "data_1.info()"
   ]
  },
  {
   "cell_type": "code",
   "execution_count": 16,
   "metadata": {},
   "outputs": [
    {
     "data": {
      "text/html": [
       "<div>\n",
       "<style scoped>\n",
       "    .dataframe tbody tr th:only-of-type {\n",
       "        vertical-align: middle;\n",
       "    }\n",
       "\n",
       "    .dataframe tbody tr th {\n",
       "        vertical-align: top;\n",
       "    }\n",
       "\n",
       "    .dataframe thead th {\n",
       "        text-align: right;\n",
       "    }\n",
       "</style>\n",
       "<table border=\"1\" class=\"dataframe\">\n",
       "  <thead>\n",
       "    <tr style=\"text-align: right;\">\n",
       "      <th></th>\n",
       "      <th>f0</th>\n",
       "      <th>f1</th>\n",
       "      <th>f2</th>\n",
       "      <th>product</th>\n",
       "    </tr>\n",
       "  </thead>\n",
       "  <tbody>\n",
       "    <tr>\n",
       "      <td>count</td>\n",
       "      <td>100000.000000</td>\n",
       "      <td>100000.000000</td>\n",
       "      <td>100000.000000</td>\n",
       "      <td>100000.000000</td>\n",
       "    </tr>\n",
       "    <tr>\n",
       "      <td>mean</td>\n",
       "      <td>0.500419</td>\n",
       "      <td>0.250143</td>\n",
       "      <td>2.502647</td>\n",
       "      <td>92.500000</td>\n",
       "    </tr>\n",
       "    <tr>\n",
       "      <td>std</td>\n",
       "      <td>0.871832</td>\n",
       "      <td>0.504433</td>\n",
       "      <td>3.248248</td>\n",
       "      <td>44.288691</td>\n",
       "    </tr>\n",
       "    <tr>\n",
       "      <td>min</td>\n",
       "      <td>-1.408605</td>\n",
       "      <td>-0.848218</td>\n",
       "      <td>-12.088328</td>\n",
       "      <td>0.000000</td>\n",
       "    </tr>\n",
       "    <tr>\n",
       "      <td>25%</td>\n",
       "      <td>-0.072580</td>\n",
       "      <td>-0.200881</td>\n",
       "      <td>0.287748</td>\n",
       "      <td>56.497507</td>\n",
       "    </tr>\n",
       "    <tr>\n",
       "      <td>50%</td>\n",
       "      <td>0.502360</td>\n",
       "      <td>0.250252</td>\n",
       "      <td>2.515969</td>\n",
       "      <td>91.849972</td>\n",
       "    </tr>\n",
       "    <tr>\n",
       "      <td>75%</td>\n",
       "      <td>1.073581</td>\n",
       "      <td>0.700646</td>\n",
       "      <td>4.715088</td>\n",
       "      <td>128.564089</td>\n",
       "    </tr>\n",
       "    <tr>\n",
       "      <td>max</td>\n",
       "      <td>2.362331</td>\n",
       "      <td>1.343769</td>\n",
       "      <td>16.003790</td>\n",
       "      <td>185.364347</td>\n",
       "    </tr>\n",
       "  </tbody>\n",
       "</table>\n",
       "</div>"
      ],
      "text/plain": [
       "                  f0             f1             f2        product\n",
       "count  100000.000000  100000.000000  100000.000000  100000.000000\n",
       "mean        0.500419       0.250143       2.502647      92.500000\n",
       "std         0.871832       0.504433       3.248248      44.288691\n",
       "min        -1.408605      -0.848218     -12.088328       0.000000\n",
       "25%        -0.072580      -0.200881       0.287748      56.497507\n",
       "50%         0.502360       0.250252       2.515969      91.849972\n",
       "75%         1.073581       0.700646       4.715088     128.564089\n",
       "max         2.362331       1.343769      16.003790     185.364347"
      ]
     },
     "execution_count": 16,
     "metadata": {},
     "output_type": "execute_result"
    }
   ],
   "source": [
    "data_1.describe()"
   ]
  },
  {
   "cell_type": "code",
   "execution_count": 17,
   "metadata": {},
   "outputs": [
    {
     "name": "stdout",
     "output_type": "stream",
     "text": [
      "<class 'pandas.core.frame.DataFrame'>\n",
      "RangeIndex: 100000 entries, 0 to 99999\n",
      "Data columns (total 5 columns):\n",
      "id         100000 non-null object\n",
      "f0         100000 non-null float64\n",
      "f1         100000 non-null float64\n",
      "f2         100000 non-null float64\n",
      "product    100000 non-null float64\n",
      "dtypes: float64(4), object(1)\n",
      "memory usage: 3.8+ MB\n"
     ]
    }
   ],
   "source": [
    "data_2.info()"
   ]
  },
  {
   "cell_type": "code",
   "execution_count": 18,
   "metadata": {},
   "outputs": [
    {
     "data": {
      "text/html": [
       "<div>\n",
       "<style scoped>\n",
       "    .dataframe tbody tr th:only-of-type {\n",
       "        vertical-align: middle;\n",
       "    }\n",
       "\n",
       "    .dataframe tbody tr th {\n",
       "        vertical-align: top;\n",
       "    }\n",
       "\n",
       "    .dataframe thead th {\n",
       "        text-align: right;\n",
       "    }\n",
       "</style>\n",
       "<table border=\"1\" class=\"dataframe\">\n",
       "  <thead>\n",
       "    <tr style=\"text-align: right;\">\n",
       "      <th></th>\n",
       "      <th>f0</th>\n",
       "      <th>f1</th>\n",
       "      <th>f2</th>\n",
       "      <th>product</th>\n",
       "    </tr>\n",
       "  </thead>\n",
       "  <tbody>\n",
       "    <tr>\n",
       "      <td>count</td>\n",
       "      <td>100000.000000</td>\n",
       "      <td>100000.000000</td>\n",
       "      <td>100000.000000</td>\n",
       "      <td>100000.000000</td>\n",
       "    </tr>\n",
       "    <tr>\n",
       "      <td>mean</td>\n",
       "      <td>1.141296</td>\n",
       "      <td>-4.796579</td>\n",
       "      <td>2.494541</td>\n",
       "      <td>68.825000</td>\n",
       "    </tr>\n",
       "    <tr>\n",
       "      <td>std</td>\n",
       "      <td>8.965932</td>\n",
       "      <td>5.119872</td>\n",
       "      <td>1.703572</td>\n",
       "      <td>45.944423</td>\n",
       "    </tr>\n",
       "    <tr>\n",
       "      <td>min</td>\n",
       "      <td>-31.609576</td>\n",
       "      <td>-26.358598</td>\n",
       "      <td>-0.018144</td>\n",
       "      <td>0.000000</td>\n",
       "    </tr>\n",
       "    <tr>\n",
       "      <td>25%</td>\n",
       "      <td>-6.298551</td>\n",
       "      <td>-8.267985</td>\n",
       "      <td>1.000021</td>\n",
       "      <td>26.953261</td>\n",
       "    </tr>\n",
       "    <tr>\n",
       "      <td>50%</td>\n",
       "      <td>1.153055</td>\n",
       "      <td>-4.813172</td>\n",
       "      <td>2.011479</td>\n",
       "      <td>57.085625</td>\n",
       "    </tr>\n",
       "    <tr>\n",
       "      <td>75%</td>\n",
       "      <td>8.621015</td>\n",
       "      <td>-1.332816</td>\n",
       "      <td>3.999904</td>\n",
       "      <td>107.813044</td>\n",
       "    </tr>\n",
       "    <tr>\n",
       "      <td>max</td>\n",
       "      <td>29.421755</td>\n",
       "      <td>18.734063</td>\n",
       "      <td>5.019721</td>\n",
       "      <td>137.945408</td>\n",
       "    </tr>\n",
       "  </tbody>\n",
       "</table>\n",
       "</div>"
      ],
      "text/plain": [
       "                  f0             f1             f2        product\n",
       "count  100000.000000  100000.000000  100000.000000  100000.000000\n",
       "mean        1.141296      -4.796579       2.494541      68.825000\n",
       "std         8.965932       5.119872       1.703572      45.944423\n",
       "min       -31.609576     -26.358598      -0.018144       0.000000\n",
       "25%        -6.298551      -8.267985       1.000021      26.953261\n",
       "50%         1.153055      -4.813172       2.011479      57.085625\n",
       "75%         8.621015      -1.332816       3.999904     107.813044\n",
       "max        29.421755      18.734063       5.019721     137.945408"
      ]
     },
     "execution_count": 18,
     "metadata": {},
     "output_type": "execute_result"
    }
   ],
   "source": [
    "data_2.describe()"
   ]
  },
  {
   "cell_type": "code",
   "execution_count": 19,
   "metadata": {},
   "outputs": [
    {
     "name": "stdout",
     "output_type": "stream",
     "text": [
      "<class 'pandas.core.frame.DataFrame'>\n",
      "RangeIndex: 100000 entries, 0 to 99999\n",
      "Data columns (total 5 columns):\n",
      "id         100000 non-null object\n",
      "f0         100000 non-null float64\n",
      "f1         100000 non-null float64\n",
      "f2         100000 non-null float64\n",
      "product    100000 non-null float64\n",
      "dtypes: float64(4), object(1)\n",
      "memory usage: 3.8+ MB\n"
     ]
    }
   ],
   "source": [
    "data_3.info()"
   ]
  },
  {
   "cell_type": "code",
   "execution_count": 20,
   "metadata": {
    "scrolled": true
   },
   "outputs": [
    {
     "data": {
      "text/html": [
       "<div>\n",
       "<style scoped>\n",
       "    .dataframe tbody tr th:only-of-type {\n",
       "        vertical-align: middle;\n",
       "    }\n",
       "\n",
       "    .dataframe tbody tr th {\n",
       "        vertical-align: top;\n",
       "    }\n",
       "\n",
       "    .dataframe thead th {\n",
       "        text-align: right;\n",
       "    }\n",
       "</style>\n",
       "<table border=\"1\" class=\"dataframe\">\n",
       "  <thead>\n",
       "    <tr style=\"text-align: right;\">\n",
       "      <th></th>\n",
       "      <th>f0</th>\n",
       "      <th>f1</th>\n",
       "      <th>f2</th>\n",
       "      <th>product</th>\n",
       "    </tr>\n",
       "  </thead>\n",
       "  <tbody>\n",
       "    <tr>\n",
       "      <td>count</td>\n",
       "      <td>100000.000000</td>\n",
       "      <td>100000.000000</td>\n",
       "      <td>100000.000000</td>\n",
       "      <td>100000.000000</td>\n",
       "    </tr>\n",
       "    <tr>\n",
       "      <td>mean</td>\n",
       "      <td>0.002023</td>\n",
       "      <td>-0.002081</td>\n",
       "      <td>2.495128</td>\n",
       "      <td>95.000000</td>\n",
       "    </tr>\n",
       "    <tr>\n",
       "      <td>std</td>\n",
       "      <td>1.732045</td>\n",
       "      <td>1.730417</td>\n",
       "      <td>3.473445</td>\n",
       "      <td>44.749921</td>\n",
       "    </tr>\n",
       "    <tr>\n",
       "      <td>min</td>\n",
       "      <td>-8.760004</td>\n",
       "      <td>-7.084020</td>\n",
       "      <td>-11.970335</td>\n",
       "      <td>0.000000</td>\n",
       "    </tr>\n",
       "    <tr>\n",
       "      <td>25%</td>\n",
       "      <td>-1.162288</td>\n",
       "      <td>-1.174820</td>\n",
       "      <td>0.130359</td>\n",
       "      <td>59.450441</td>\n",
       "    </tr>\n",
       "    <tr>\n",
       "      <td>50%</td>\n",
       "      <td>0.009424</td>\n",
       "      <td>-0.009482</td>\n",
       "      <td>2.484236</td>\n",
       "      <td>94.925613</td>\n",
       "    </tr>\n",
       "    <tr>\n",
       "      <td>75%</td>\n",
       "      <td>1.158535</td>\n",
       "      <td>1.163678</td>\n",
       "      <td>4.858794</td>\n",
       "      <td>130.595027</td>\n",
       "    </tr>\n",
       "    <tr>\n",
       "      <td>max</td>\n",
       "      <td>7.238262</td>\n",
       "      <td>7.844801</td>\n",
       "      <td>16.739402</td>\n",
       "      <td>190.029838</td>\n",
       "    </tr>\n",
       "  </tbody>\n",
       "</table>\n",
       "</div>"
      ],
      "text/plain": [
       "                  f0             f1             f2        product\n",
       "count  100000.000000  100000.000000  100000.000000  100000.000000\n",
       "mean        0.002023      -0.002081       2.495128      95.000000\n",
       "std         1.732045       1.730417       3.473445      44.749921\n",
       "min        -8.760004      -7.084020     -11.970335       0.000000\n",
       "25%        -1.162288      -1.174820       0.130359      59.450441\n",
       "50%         0.009424      -0.009482       2.484236      94.925613\n",
       "75%         1.158535       1.163678       4.858794     130.595027\n",
       "max         7.238262       7.844801      16.739402     190.029838"
      ]
     },
     "execution_count": 20,
     "metadata": {},
     "output_type": "execute_result"
    }
   ],
   "source": [
    "data_3.describe()"
   ]
  },
  {
   "cell_type": "markdown",
   "metadata": {},
   "source": [
    "<a id='Оценка мультиколлинеарности признаков'></a>"
   ]
  },
  {
   "cell_type": "markdown",
   "metadata": {},
   "source": [
    "### <p style=\"text-align:center\"> Оценка мультиколлинеарности признаков </p>"
   ]
  },
  {
   "cell_type": "markdown",
   "metadata": {},
   "source": [
    "В качестве оценки мультиколлинеарности признаков найдем коффициенты корреляции этих признаков, если зависимость сильнее 0.75 попытаемся оставить только один признак из двух."
   ]
  },
  {
   "cell_type": "code",
   "execution_count": 21,
   "metadata": {},
   "outputs": [
    {
     "data": {
      "text/html": [
       "<div>\n",
       "<style scoped>\n",
       "    .dataframe tbody tr th:only-of-type {\n",
       "        vertical-align: middle;\n",
       "    }\n",
       "\n",
       "    .dataframe tbody tr th {\n",
       "        vertical-align: top;\n",
       "    }\n",
       "\n",
       "    .dataframe thead th {\n",
       "        text-align: right;\n",
       "    }\n",
       "</style>\n",
       "<table border=\"1\" class=\"dataframe\">\n",
       "  <thead>\n",
       "    <tr style=\"text-align: right;\">\n",
       "      <th></th>\n",
       "      <th>f0</th>\n",
       "      <th>f1</th>\n",
       "      <th>f2</th>\n",
       "    </tr>\n",
       "  </thead>\n",
       "  <tbody>\n",
       "    <tr>\n",
       "      <td>f0</td>\n",
       "      <td>1.000000</td>\n",
       "      <td>-0.440723</td>\n",
       "      <td>-0.003153</td>\n",
       "    </tr>\n",
       "    <tr>\n",
       "      <td>f1</td>\n",
       "      <td>-0.440723</td>\n",
       "      <td>1.000000</td>\n",
       "      <td>0.001724</td>\n",
       "    </tr>\n",
       "    <tr>\n",
       "      <td>f2</td>\n",
       "      <td>-0.003153</td>\n",
       "      <td>0.001724</td>\n",
       "      <td>1.000000</td>\n",
       "    </tr>\n",
       "  </tbody>\n",
       "</table>\n",
       "</div>"
      ],
      "text/plain": [
       "          f0        f1        f2\n",
       "f0  1.000000 -0.440723 -0.003153\n",
       "f1 -0.440723  1.000000  0.001724\n",
       "f2 -0.003153  0.001724  1.000000"
      ]
     },
     "execution_count": 21,
     "metadata": {},
     "output_type": "execute_result"
    }
   ],
   "source": [
    "data_1.drop(['id', 'product'], axis=1).corr()"
   ]
  },
  {
   "cell_type": "code",
   "execution_count": 22,
   "metadata": {},
   "outputs": [
    {
     "data": {
      "text/html": [
       "<div>\n",
       "<style scoped>\n",
       "    .dataframe tbody tr th:only-of-type {\n",
       "        vertical-align: middle;\n",
       "    }\n",
       "\n",
       "    .dataframe tbody tr th {\n",
       "        vertical-align: top;\n",
       "    }\n",
       "\n",
       "    .dataframe thead th {\n",
       "        text-align: right;\n",
       "    }\n",
       "</style>\n",
       "<table border=\"1\" class=\"dataframe\">\n",
       "  <thead>\n",
       "    <tr style=\"text-align: right;\">\n",
       "      <th></th>\n",
       "      <th>f0</th>\n",
       "      <th>f1</th>\n",
       "      <th>f2</th>\n",
       "    </tr>\n",
       "  </thead>\n",
       "  <tbody>\n",
       "    <tr>\n",
       "      <td>f0</td>\n",
       "      <td>1.000000</td>\n",
       "      <td>0.182287</td>\n",
       "      <td>-0.001777</td>\n",
       "    </tr>\n",
       "    <tr>\n",
       "      <td>f1</td>\n",
       "      <td>0.182287</td>\n",
       "      <td>1.000000</td>\n",
       "      <td>-0.002595</td>\n",
       "    </tr>\n",
       "    <tr>\n",
       "      <td>f2</td>\n",
       "      <td>-0.001777</td>\n",
       "      <td>-0.002595</td>\n",
       "      <td>1.000000</td>\n",
       "    </tr>\n",
       "  </tbody>\n",
       "</table>\n",
       "</div>"
      ],
      "text/plain": [
       "          f0        f1        f2\n",
       "f0  1.000000  0.182287 -0.001777\n",
       "f1  0.182287  1.000000 -0.002595\n",
       "f2 -0.001777 -0.002595  1.000000"
      ]
     },
     "execution_count": 22,
     "metadata": {},
     "output_type": "execute_result"
    }
   ],
   "source": [
    "data_2.drop(['id', 'product'], axis=1).corr()"
   ]
  },
  {
   "cell_type": "code",
   "execution_count": 23,
   "metadata": {},
   "outputs": [
    {
     "data": {
      "text/html": [
       "<div>\n",
       "<style scoped>\n",
       "    .dataframe tbody tr th:only-of-type {\n",
       "        vertical-align: middle;\n",
       "    }\n",
       "\n",
       "    .dataframe tbody tr th {\n",
       "        vertical-align: top;\n",
       "    }\n",
       "\n",
       "    .dataframe thead th {\n",
       "        text-align: right;\n",
       "    }\n",
       "</style>\n",
       "<table border=\"1\" class=\"dataframe\">\n",
       "  <thead>\n",
       "    <tr style=\"text-align: right;\">\n",
       "      <th></th>\n",
       "      <th>f0</th>\n",
       "      <th>f1</th>\n",
       "      <th>f2</th>\n",
       "    </tr>\n",
       "  </thead>\n",
       "  <tbody>\n",
       "    <tr>\n",
       "      <td>f0</td>\n",
       "      <td>1.000000</td>\n",
       "      <td>0.000528</td>\n",
       "      <td>-0.000448</td>\n",
       "    </tr>\n",
       "    <tr>\n",
       "      <td>f1</td>\n",
       "      <td>0.000528</td>\n",
       "      <td>1.000000</td>\n",
       "      <td>0.000779</td>\n",
       "    </tr>\n",
       "    <tr>\n",
       "      <td>f2</td>\n",
       "      <td>-0.000448</td>\n",
       "      <td>0.000779</td>\n",
       "      <td>1.000000</td>\n",
       "    </tr>\n",
       "  </tbody>\n",
       "</table>\n",
       "</div>"
      ],
      "text/plain": [
       "          f0        f1        f2\n",
       "f0  1.000000  0.000528 -0.000448\n",
       "f1  0.000528  1.000000  0.000779\n",
       "f2 -0.000448  0.000779  1.000000"
      ]
     },
     "execution_count": 23,
     "metadata": {},
     "output_type": "execute_result"
    }
   ],
   "source": [
    "data_3.drop(['id', 'product'], axis=1).corr()"
   ]
  },
  {
   "cell_type": "markdown",
   "metadata": {},
   "source": [
    "Не похоже, что у нас присутствуют признаки с сильными линейными зависимостями, поэтому визуализировать не будем."
   ]
  },
  {
   "cell_type": "markdown",
   "metadata": {},
   "source": [
    "Воспользуемся удобной для первичного анализа библиотекой и создадим отчеты автоматически."
   ]
  },
  {
   "cell_type": "code",
   "execution_count": 24,
   "metadata": {},
   "outputs": [],
   "source": [
    "# !pip install pandas-profiling"
   ]
  },
  {
   "cell_type": "code",
   "execution_count": 25,
   "metadata": {},
   "outputs": [],
   "source": [
    "# import pandas_profiling"
   ]
  },
  {
   "cell_type": "code",
   "execution_count": 26,
   "metadata": {},
   "outputs": [],
   "source": [
    "# profile_data_1 = pandas_profiling.ProfileReport(data_1, title = 'Explorative data 1 report', explorative = True)\n",
    "# profile_data_1"
   ]
  },
  {
   "cell_type": "code",
   "execution_count": 27,
   "metadata": {},
   "outputs": [],
   "source": [
    "# profile_data_2 = pandas_profiling.ProfileReport(data_2, title = 'Explorative data 2 report', explorative = True)\n",
    "# profile_data_2"
   ]
  },
  {
   "cell_type": "code",
   "execution_count": 28,
   "metadata": {},
   "outputs": [],
   "source": [
    "# profile_data_3 = pandas_profiling.ProfileReport(data_3, title = 'Explorative data 3 report', explorative = True)\n",
    "# profile_data_3"
   ]
  },
  {
   "cell_type": "markdown",
   "metadata": {},
   "source": [
    "<a id='Вывод_1'></a>"
   ]
  },
  {
   "cell_type": "markdown",
   "metadata": {},
   "source": [
    "### <p style=\"text-align:center\"> Вывод</p>"
   ]
  },
  {
   "cell_type": "markdown",
   "metadata": {},
   "source": [
    "##### В ходе первичного анализа данных были  сделаны следующие выводы:\n",
    "\n",
    "___\n",
    "\n",
    "\n",
    "1. Типы в общем случае соответствуют назначению, но обладают повышенной емкостью (например, имеют тип данных float64 там, где достаточно float16).\n",
    "\n",
    "\n",
    "2. В столбце id некоторые скважины встречаюстя несколько раз. Решим что с ними делать в следующей части. Также этот столбец не поможет обучению, удалим его.\n",
    "\n",
    "\n",
    "3. Возможно, данные нуждаются в масштабировании.\n",
    "\n",
    "\n",
    "___\n",
    "\n",
    "Таким образом было выполнено первичное ознакомление с предоставленной информацией, выявлены некоторые дефекты датасета. Можно сказать, что данные не нуждаются в предобработке. Разберемся с этим в следующей части."
   ]
  },
  {
   "cell_type": "markdown",
   "metadata": {},
   "source": [
    " ## Часть 2. Работа над моделями "
   ]
  },
  {
   "cell_type": "markdown",
   "metadata": {},
   "source": [
    "<a id='Разбиение данных'>"
   ]
  },
  {
   "cell_type": "markdown",
   "metadata": {},
   "source": [
    "### <p style=\"text-align:center\"> Разбиение данных </p>"
   ]
  },
  {
   "cell_type": "code",
   "execution_count": 29,
   "metadata": {},
   "outputs": [],
   "source": [
    "features_1 = data_1.drop(['id', 'product'], axis=1)\n",
    "target_1 = data_1['product']"
   ]
  },
  {
   "cell_type": "code",
   "execution_count": 30,
   "metadata": {},
   "outputs": [],
   "source": [
    "features_2 = data_2.drop(['id', 'product'], axis=1)\n",
    "target_2 = data_2['product']"
   ]
  },
  {
   "cell_type": "code",
   "execution_count": 31,
   "metadata": {},
   "outputs": [],
   "source": [
    "features_3 = data_3.drop(['id', 'product'], axis=1)\n",
    "target_3 = data_3['product']"
   ]
  },
  {
   "cell_type": "code",
   "execution_count": 32,
   "metadata": {},
   "outputs": [],
   "source": [
    "features_1_train, features_1_valid, target_1_train, target_1_valid = train_test_split(features_1, target_1, \n",
    "                                                                                      test_size=0.25, random_state=228)"
   ]
  },
  {
   "cell_type": "code",
   "execution_count": 33,
   "metadata": {},
   "outputs": [],
   "source": [
    "features_2_train, features_2_valid, target_2_train, target_2_valid = train_test_split(features_2, target_2, \n",
    "                                                                                      test_size=0.25, random_state=228)"
   ]
  },
  {
   "cell_type": "code",
   "execution_count": 34,
   "metadata": {},
   "outputs": [],
   "source": [
    "features_3_train, features_3_valid, target_3_train, target_3_valid = train_test_split(features_3, target_3, \n",
    "                                                                                      test_size=0.25, random_state=228)"
   ]
  },
  {
   "cell_type": "markdown",
   "metadata": {},
   "source": [
    "Проверим разбиение."
   ]
  },
  {
   "cell_type": "code",
   "execution_count": 35,
   "metadata": {},
   "outputs": [
    {
     "name": "stdout",
     "output_type": "stream",
     "text": [
      "Признаки обучающей выборки №1: (75000, 3) Целевой признак обучающей выборки №1: (75000,) Признаки валидационной выборки №1: (25000, 3) Целевой признак валидационной выборки №1: (25000,)\n",
      "Признаки обучающей выборки №2: (75000, 3) Целевой признак обучающей выборки №2: (75000,) Признаки валидационной выборки №2: (25000, 3) Целевой признак валидационной выборки №2: (25000,)\n",
      "Признаки обучающей выборки №3: (75000, 3) Целевой признак обучающей выборки №3: (75000,) Признаки валидационной выборки №3: (25000, 3) Целевой признак валидационной выборки №3: (25000,)\n"
     ]
    }
   ],
   "source": [
    "print('Признаки обучающей выборки №1:',features_1_train.shape,\n",
    "      'Целевой признак обучающей выборки №1:', target_1_train.shape, \n",
    "      'Признаки валидационной выборки №1:',features_1_valid.shape,  \n",
    "      'Целевой признак валидационной выборки №1:', target_1_valid.shape)\n",
    "print('Признаки обучающей выборки №2:',features_2_train.shape,\n",
    "      'Целевой признак обучающей выборки №2:', target_2_train.shape, \n",
    "      'Признаки валидационной выборки №2:',features_2_valid.shape,  \n",
    "      'Целевой признак валидационной выборки №2:', target_2_valid.shape)\n",
    "print('Признаки обучающей выборки №3:',features_3_train.shape,\n",
    "      'Целевой признак обучающей выборки №3:', target_3_train.shape, \n",
    "      'Признаки валидационной выборки №3:',features_3_valid.shape,  \n",
    "      'Целевой признак валидационной выборки №3:', target_3_valid.shape)"
   ]
  },
  {
   "cell_type": "markdown",
   "metadata": {},
   "source": [
    "<a id='Масштабирование признаков'></a>"
   ]
  },
  {
   "cell_type": "markdown",
   "metadata": {},
   "source": [
    "### <p style=\"text-align:center\"> Масштабирование признаков </p>"
   ]
  },
  {
   "cell_type": "markdown",
   "metadata": {},
   "source": [
    "Проведем масштабирование."
   ]
  },
  {
   "cell_type": "code",
   "execution_count": 36,
   "metadata": {},
   "outputs": [],
   "source": [
    "numeric = ['f0', 'f1', 'f2']"
   ]
  },
  {
   "cell_type": "code",
   "execution_count": 37,
   "metadata": {},
   "outputs": [
    {
     "data": {
      "text/plain": [
       "StandardScaler()"
      ]
     },
     "execution_count": 37,
     "metadata": {},
     "output_type": "execute_result"
    }
   ],
   "source": [
    "scaler_1 = StandardScaler()\n",
    "scaler_1.fit(features_1_train[numeric])"
   ]
  },
  {
   "cell_type": "code",
   "execution_count": 38,
   "metadata": {},
   "outputs": [],
   "source": [
    "features_1_train[numeric] = scaler_1.transform(features_1_train[numeric])\n",
    "features_1_valid[numeric] = scaler_1.transform(features_1_valid[numeric])"
   ]
  },
  {
   "cell_type": "markdown",
   "metadata": {},
   "source": [
    "Проверяем."
   ]
  },
  {
   "cell_type": "code",
   "execution_count": 39,
   "metadata": {},
   "outputs": [
    {
     "data": {
      "text/html": [
       "<div>\n",
       "<style scoped>\n",
       "    .dataframe tbody tr th:only-of-type {\n",
       "        vertical-align: middle;\n",
       "    }\n",
       "\n",
       "    .dataframe tbody tr th {\n",
       "        vertical-align: top;\n",
       "    }\n",
       "\n",
       "    .dataframe thead th {\n",
       "        text-align: right;\n",
       "    }\n",
       "</style>\n",
       "<table border=\"1\" class=\"dataframe\">\n",
       "  <thead>\n",
       "    <tr style=\"text-align: right;\">\n",
       "      <th></th>\n",
       "      <th>f0</th>\n",
       "      <th>f1</th>\n",
       "      <th>f2</th>\n",
       "    </tr>\n",
       "  </thead>\n",
       "  <tbody>\n",
       "    <tr>\n",
       "      <td>84274</td>\n",
       "      <td>-0.353215</td>\n",
       "      <td>-1.297495</td>\n",
       "      <td>-0.589754</td>\n",
       "    </tr>\n",
       "    <tr>\n",
       "      <td>52991</td>\n",
       "      <td>-0.366233</td>\n",
       "      <td>-0.580836</td>\n",
       "      <td>0.501589</td>\n",
       "    </tr>\n",
       "    <tr>\n",
       "      <td>40819</td>\n",
       "      <td>-0.054493</td>\n",
       "      <td>1.238052</td>\n",
       "      <td>-1.193316</td>\n",
       "    </tr>\n",
       "    <tr>\n",
       "      <td>80230</td>\n",
       "      <td>0.003611</td>\n",
       "      <td>1.395170</td>\n",
       "      <td>-0.661725</td>\n",
       "    </tr>\n",
       "    <tr>\n",
       "      <td>18616</td>\n",
       "      <td>-1.865084</td>\n",
       "      <td>-0.504188</td>\n",
       "      <td>-0.097641</td>\n",
       "    </tr>\n",
       "  </tbody>\n",
       "</table>\n",
       "</div>"
      ],
      "text/plain": [
       "             f0        f1        f2\n",
       "84274 -0.353215 -1.297495 -0.589754\n",
       "52991 -0.366233 -0.580836  0.501589\n",
       "40819 -0.054493  1.238052 -1.193316\n",
       "80230  0.003611  1.395170 -0.661725\n",
       "18616 -1.865084 -0.504188 -0.097641"
      ]
     },
     "execution_count": 39,
     "metadata": {},
     "output_type": "execute_result"
    }
   ],
   "source": [
    "features_1_train.head()"
   ]
  },
  {
   "cell_type": "code",
   "execution_count": 40,
   "metadata": {},
   "outputs": [
    {
     "data": {
      "text/html": [
       "<div>\n",
       "<style scoped>\n",
       "    .dataframe tbody tr th:only-of-type {\n",
       "        vertical-align: middle;\n",
       "    }\n",
       "\n",
       "    .dataframe tbody tr th {\n",
       "        vertical-align: top;\n",
       "    }\n",
       "\n",
       "    .dataframe thead th {\n",
       "        text-align: right;\n",
       "    }\n",
       "</style>\n",
       "<table border=\"1\" class=\"dataframe\">\n",
       "  <thead>\n",
       "    <tr style=\"text-align: right;\">\n",
       "      <th></th>\n",
       "      <th>f0</th>\n",
       "      <th>f1</th>\n",
       "      <th>f2</th>\n",
       "    </tr>\n",
       "  </thead>\n",
       "  <tbody>\n",
       "    <tr>\n",
       "      <td>80393</td>\n",
       "      <td>0.070321</td>\n",
       "      <td>-1.523447</td>\n",
       "      <td>0.387739</td>\n",
       "    </tr>\n",
       "    <tr>\n",
       "      <td>90479</td>\n",
       "      <td>-0.366620</td>\n",
       "      <td>-0.894014</td>\n",
       "      <td>0.320269</td>\n",
       "    </tr>\n",
       "    <tr>\n",
       "      <td>96406</td>\n",
       "      <td>-1.720091</td>\n",
       "      <td>-0.761553</td>\n",
       "      <td>-1.204655</td>\n",
       "    </tr>\n",
       "    <tr>\n",
       "      <td>6909</td>\n",
       "      <td>-0.297527</td>\n",
       "      <td>-0.580666</td>\n",
       "      <td>-1.499910</td>\n",
       "    </tr>\n",
       "    <tr>\n",
       "      <td>48361</td>\n",
       "      <td>0.717871</td>\n",
       "      <td>-1.551500</td>\n",
       "      <td>-0.024272</td>\n",
       "    </tr>\n",
       "  </tbody>\n",
       "</table>\n",
       "</div>"
      ],
      "text/plain": [
       "             f0        f1        f2\n",
       "80393  0.070321 -1.523447  0.387739\n",
       "90479 -0.366620 -0.894014  0.320269\n",
       "96406 -1.720091 -0.761553 -1.204655\n",
       "6909  -0.297527 -0.580666 -1.499910\n",
       "48361  0.717871 -1.551500 -0.024272"
      ]
     },
     "execution_count": 40,
     "metadata": {},
     "output_type": "execute_result"
    }
   ],
   "source": [
    "features_1_valid.head()"
   ]
  },
  {
   "cell_type": "code",
   "execution_count": 41,
   "metadata": {},
   "outputs": [
    {
     "data": {
      "text/plain": [
       "StandardScaler()"
      ]
     },
     "execution_count": 41,
     "metadata": {},
     "output_type": "execute_result"
    }
   ],
   "source": [
    "scaler_2 = StandardScaler()\n",
    "scaler_2.fit(features_2_train[numeric])"
   ]
  },
  {
   "cell_type": "code",
   "execution_count": 42,
   "metadata": {},
   "outputs": [],
   "source": [
    "features_2_train[numeric] = scaler_2.transform(features_2_train[numeric])\n",
    "features_2_valid[numeric] = scaler_2.transform(features_2_valid[numeric])"
   ]
  },
  {
   "cell_type": "markdown",
   "metadata": {},
   "source": [
    "Проверяем."
   ]
  },
  {
   "cell_type": "code",
   "execution_count": 43,
   "metadata": {},
   "outputs": [
    {
     "data": {
      "text/html": [
       "<div>\n",
       "<style scoped>\n",
       "    .dataframe tbody tr th:only-of-type {\n",
       "        vertical-align: middle;\n",
       "    }\n",
       "\n",
       "    .dataframe tbody tr th {\n",
       "        vertical-align: top;\n",
       "    }\n",
       "\n",
       "    .dataframe thead th {\n",
       "        text-align: right;\n",
       "    }\n",
       "</style>\n",
       "<table border=\"1\" class=\"dataframe\">\n",
       "  <thead>\n",
       "    <tr style=\"text-align: right;\">\n",
       "      <th></th>\n",
       "      <th>f0</th>\n",
       "      <th>f1</th>\n",
       "      <th>f2</th>\n",
       "    </tr>\n",
       "  </thead>\n",
       "  <tbody>\n",
       "    <tr>\n",
       "      <td>84274</td>\n",
       "      <td>-0.457595</td>\n",
       "      <td>-1.210513</td>\n",
       "      <td>0.882921</td>\n",
       "    </tr>\n",
       "    <tr>\n",
       "      <td>52991</td>\n",
       "      <td>-1.618225</td>\n",
       "      <td>0.058094</td>\n",
       "      <td>-1.463246</td>\n",
       "    </tr>\n",
       "    <tr>\n",
       "      <td>40819</td>\n",
       "      <td>1.077679</td>\n",
       "      <td>1.003846</td>\n",
       "      <td>-0.289820</td>\n",
       "    </tr>\n",
       "    <tr>\n",
       "      <td>80230</td>\n",
       "      <td>0.623040</td>\n",
       "      <td>0.424541</td>\n",
       "      <td>0.293118</td>\n",
       "    </tr>\n",
       "    <tr>\n",
       "      <td>18616</td>\n",
       "      <td>-1.618175</td>\n",
       "      <td>0.467740</td>\n",
       "      <td>0.302640</td>\n",
       "    </tr>\n",
       "  </tbody>\n",
       "</table>\n",
       "</div>"
      ],
      "text/plain": [
       "             f0        f1        f2\n",
       "84274 -0.457595 -1.210513  0.882921\n",
       "52991 -1.618225  0.058094 -1.463246\n",
       "40819  1.077679  1.003846 -0.289820\n",
       "80230  0.623040  0.424541  0.293118\n",
       "18616 -1.618175  0.467740  0.302640"
      ]
     },
     "execution_count": 43,
     "metadata": {},
     "output_type": "execute_result"
    }
   ],
   "source": [
    "features_2_train.head()"
   ]
  },
  {
   "cell_type": "code",
   "execution_count": 44,
   "metadata": {},
   "outputs": [
    {
     "data": {
      "text/html": [
       "<div>\n",
       "<style scoped>\n",
       "    .dataframe tbody tr th:only-of-type {\n",
       "        vertical-align: middle;\n",
       "    }\n",
       "\n",
       "    .dataframe tbody tr th {\n",
       "        vertical-align: top;\n",
       "    }\n",
       "\n",
       "    .dataframe thead th {\n",
       "        text-align: right;\n",
       "    }\n",
       "</style>\n",
       "<table border=\"1\" class=\"dataframe\">\n",
       "  <thead>\n",
       "    <tr style=\"text-align: right;\">\n",
       "      <th></th>\n",
       "      <th>f0</th>\n",
       "      <th>f1</th>\n",
       "      <th>f2</th>\n",
       "    </tr>\n",
       "  </thead>\n",
       "  <tbody>\n",
       "    <tr>\n",
       "      <td>80393</td>\n",
       "      <td>2.748173</td>\n",
       "      <td>0.997440</td>\n",
       "      <td>1.464363</td>\n",
       "    </tr>\n",
       "    <tr>\n",
       "      <td>90479</td>\n",
       "      <td>0.452976</td>\n",
       "      <td>0.062983</td>\n",
       "      <td>1.474064</td>\n",
       "    </tr>\n",
       "    <tr>\n",
       "      <td>96406</td>\n",
       "      <td>0.488011</td>\n",
       "      <td>-1.300109</td>\n",
       "      <td>0.293559</td>\n",
       "    </tr>\n",
       "    <tr>\n",
       "      <td>6909</td>\n",
       "      <td>0.239895</td>\n",
       "      <td>-0.921739</td>\n",
       "      <td>1.469267</td>\n",
       "    </tr>\n",
       "    <tr>\n",
       "      <td>48361</td>\n",
       "      <td>1.353588</td>\n",
       "      <td>0.753772</td>\n",
       "      <td>-0.294825</td>\n",
       "    </tr>\n",
       "  </tbody>\n",
       "</table>\n",
       "</div>"
      ],
      "text/plain": [
       "             f0        f1        f2\n",
       "80393  2.748173  0.997440  1.464363\n",
       "90479  0.452976  0.062983  1.474064\n",
       "96406  0.488011 -1.300109  0.293559\n",
       "6909   0.239895 -0.921739  1.469267\n",
       "48361  1.353588  0.753772 -0.294825"
      ]
     },
     "execution_count": 44,
     "metadata": {},
     "output_type": "execute_result"
    }
   ],
   "source": [
    "features_2_valid.head()"
   ]
  },
  {
   "cell_type": "code",
   "execution_count": 45,
   "metadata": {},
   "outputs": [
    {
     "data": {
      "text/plain": [
       "StandardScaler()"
      ]
     },
     "execution_count": 45,
     "metadata": {},
     "output_type": "execute_result"
    }
   ],
   "source": [
    "scaler_3 = StandardScaler()\n",
    "scaler_3.fit(features_3_train[numeric])"
   ]
  },
  {
   "cell_type": "code",
   "execution_count": 46,
   "metadata": {},
   "outputs": [],
   "source": [
    "features_3_train[numeric] = scaler_3.transform(features_3_train[numeric])\n",
    "features_3_valid[numeric] = scaler_3.transform(features_3_valid[numeric])"
   ]
  },
  {
   "cell_type": "code",
   "execution_count": 47,
   "metadata": {},
   "outputs": [
    {
     "data": {
      "text/html": [
       "<div>\n",
       "<style scoped>\n",
       "    .dataframe tbody tr th:only-of-type {\n",
       "        vertical-align: middle;\n",
       "    }\n",
       "\n",
       "    .dataframe tbody tr th {\n",
       "        vertical-align: top;\n",
       "    }\n",
       "\n",
       "    .dataframe thead th {\n",
       "        text-align: right;\n",
       "    }\n",
       "</style>\n",
       "<table border=\"1\" class=\"dataframe\">\n",
       "  <thead>\n",
       "    <tr style=\"text-align: right;\">\n",
       "      <th></th>\n",
       "      <th>f0</th>\n",
       "      <th>f1</th>\n",
       "      <th>f2</th>\n",
       "    </tr>\n",
       "  </thead>\n",
       "  <tbody>\n",
       "    <tr>\n",
       "      <td>84274</td>\n",
       "      <td>-1.517905</td>\n",
       "      <td>0.567483</td>\n",
       "      <td>-0.604187</td>\n",
       "    </tr>\n",
       "    <tr>\n",
       "      <td>52991</td>\n",
       "      <td>0.118599</td>\n",
       "      <td>0.458628</td>\n",
       "      <td>1.300742</td>\n",
       "    </tr>\n",
       "    <tr>\n",
       "      <td>40819</td>\n",
       "      <td>1.569141</td>\n",
       "      <td>0.385575</td>\n",
       "      <td>-0.288143</td>\n",
       "    </tr>\n",
       "    <tr>\n",
       "      <td>80230</td>\n",
       "      <td>-0.044902</td>\n",
       "      <td>1.402225</td>\n",
       "      <td>0.767338</td>\n",
       "    </tr>\n",
       "    <tr>\n",
       "      <td>18616</td>\n",
       "      <td>1.084611</td>\n",
       "      <td>0.639228</td>\n",
       "      <td>-2.059007</td>\n",
       "    </tr>\n",
       "  </tbody>\n",
       "</table>\n",
       "</div>"
      ],
      "text/plain": [
       "             f0        f1        f2\n",
       "84274 -1.517905  0.567483 -0.604187\n",
       "52991  0.118599  0.458628  1.300742\n",
       "40819  1.569141  0.385575 -0.288143\n",
       "80230 -0.044902  1.402225  0.767338\n",
       "18616  1.084611  0.639228 -2.059007"
      ]
     },
     "execution_count": 47,
     "metadata": {},
     "output_type": "execute_result"
    }
   ],
   "source": [
    "features_3_train.head()"
   ]
  },
  {
   "cell_type": "code",
   "execution_count": 48,
   "metadata": {},
   "outputs": [
    {
     "data": {
      "text/html": [
       "<div>\n",
       "<style scoped>\n",
       "    .dataframe tbody tr th:only-of-type {\n",
       "        vertical-align: middle;\n",
       "    }\n",
       "\n",
       "    .dataframe tbody tr th {\n",
       "        vertical-align: top;\n",
       "    }\n",
       "\n",
       "    .dataframe thead th {\n",
       "        text-align: right;\n",
       "    }\n",
       "</style>\n",
       "<table border=\"1\" class=\"dataframe\">\n",
       "  <thead>\n",
       "    <tr style=\"text-align: right;\">\n",
       "      <th></th>\n",
       "      <th>f0</th>\n",
       "      <th>f1</th>\n",
       "      <th>f2</th>\n",
       "    </tr>\n",
       "  </thead>\n",
       "  <tbody>\n",
       "    <tr>\n",
       "      <td>80393</td>\n",
       "      <td>-1.343738</td>\n",
       "      <td>-1.909776</td>\n",
       "      <td>0.289160</td>\n",
       "    </tr>\n",
       "    <tr>\n",
       "      <td>90479</td>\n",
       "      <td>-0.153430</td>\n",
       "      <td>1.447530</td>\n",
       "      <td>-0.728326</td>\n",
       "    </tr>\n",
       "    <tr>\n",
       "      <td>96406</td>\n",
       "      <td>-0.857821</td>\n",
       "      <td>-2.298749</td>\n",
       "      <td>-0.976981</td>\n",
       "    </tr>\n",
       "    <tr>\n",
       "      <td>6909</td>\n",
       "      <td>0.553228</td>\n",
       "      <td>-0.012195</td>\n",
       "      <td>-1.525814</td>\n",
       "    </tr>\n",
       "    <tr>\n",
       "      <td>48361</td>\n",
       "      <td>0.119355</td>\n",
       "      <td>-0.678262</td>\n",
       "      <td>1.259634</td>\n",
       "    </tr>\n",
       "  </tbody>\n",
       "</table>\n",
       "</div>"
      ],
      "text/plain": [
       "             f0        f1        f2\n",
       "80393 -1.343738 -1.909776  0.289160\n",
       "90479 -0.153430  1.447530 -0.728326\n",
       "96406 -0.857821 -2.298749 -0.976981\n",
       "6909   0.553228 -0.012195 -1.525814\n",
       "48361  0.119355 -0.678262  1.259634"
      ]
     },
     "execution_count": 48,
     "metadata": {},
     "output_type": "execute_result"
    }
   ],
   "source": [
    "features_3_valid.head()"
   ]
  },
  {
   "cell_type": "markdown",
   "metadata": {},
   "source": [
    "<a id='Обучение моделей'></a>"
   ]
  },
  {
   "cell_type": "markdown",
   "metadata": {},
   "source": [
    "### <p style=\"text-align:center\"> Обучение моделей </p>"
   ]
  },
  {
   "cell_type": "markdown",
   "metadata": {},
   "source": [
    "Обучим модели, проставим заново индексы таргетов."
   ]
  },
  {
   "cell_type": "code",
   "execution_count": 49,
   "metadata": {},
   "outputs": [],
   "source": [
    "Lin_Reg_1 = LinearRegression(n_jobs=-1)\n",
    "prediction_1 = pd.DataFrame(Lin_Reg_1.fit(features_1_train, target_1_train).predict(features_1_valid))[0]\n",
    "target_1_valid = target_1_valid.reset_index(drop=True)\n",
    "RMSE_1 = mean_squared_error(target_1_valid, prediction_1, squared=False)"
   ]
  },
  {
   "cell_type": "code",
   "execution_count": 50,
   "metadata": {},
   "outputs": [],
   "source": [
    "Lin_Reg_2 = LinearRegression(n_jobs=-1)\n",
    "prediction_2 = pd.DataFrame(Lin_Reg_2.fit(features_2_train, target_2_train).predict(features_2_valid))[0]\n",
    "target_2_valid = target_2_valid.reset_index(drop=True)\n",
    "RMSE_2 = mean_squared_error(target_2_valid, prediction_2, squared=False)"
   ]
  },
  {
   "cell_type": "code",
   "execution_count": 51,
   "metadata": {},
   "outputs": [],
   "source": [
    "Lin_Reg_3 = LinearRegression(n_jobs=-1)\n",
    "prediction_3 = pd.DataFrame(Lin_Reg_3.fit(features_3_train, target_3_train).predict(features_3_valid))[0]\n",
    "target_3_valid = target_3_valid.reset_index(drop=True)\n",
    "RMSE_3 = mean_squared_error(target_3_valid, prediction_3, squared=False)"
   ]
  },
  {
   "cell_type": "code",
   "execution_count": 52,
   "metadata": {},
   "outputs": [
    {
     "name": "stdout",
     "output_type": "stream",
     "text": [
      "Средний запас предсказанного сырья для 1-го региона: 92.5754713382646\n",
      "RMSE для 1-го региона: 37.71475103338733\n"
     ]
    }
   ],
   "source": [
    "print('Средний запас предсказанного сырья для 1-го региона:', prediction_1.mean())\n",
    "print('RMSE для 1-го региона:', RMSE_1) "
   ]
  },
  {
   "cell_type": "code",
   "execution_count": 53,
   "metadata": {},
   "outputs": [
    {
     "name": "stdout",
     "output_type": "stream",
     "text": [
      "Средний запас предсказанного сырья для 2-го региона: 68.70640410668202\n",
      "RMSE для 2-го региона: 0.8887425405494614\n"
     ]
    }
   ],
   "source": [
    "print('Средний запас предсказанного сырья для 2-го региона:', prediction_2.mean())\n",
    "print('RMSE для 2-го региона:', RMSE_2)"
   ]
  },
  {
   "cell_type": "code",
   "execution_count": 54,
   "metadata": {},
   "outputs": [
    {
     "name": "stdout",
     "output_type": "stream",
     "text": [
      "Средний запас предсказанного сырья для 3-го региона: 94.97095602081706\n",
      "RMSE для 3-го региона: 39.93783079331951\n"
     ]
    }
   ],
   "source": [
    "print('Средний запас предсказанного сырья для 3-го региона:', prediction_3.mean())\n",
    "print('RMSE для 3-го региона:', RMSE_3)"
   ]
  },
  {
   "cell_type": "markdown",
   "metadata": {},
   "source": [
    "<a id='Вывод_2'></a>"
   ]
  },
  {
   "cell_type": "markdown",
   "metadata": {},
   "source": [
    "### <p style=\"text-align:center\"> Вывод</p>"
   ]
  },
  {
   "cell_type": "markdown",
   "metadata": {},
   "source": [
    "##### В ходе работы с моделями пришли к следующему:\n",
    "\n",
    "___\n",
    "\n",
    "\n",
    "1. Провели разбиение данных, а затем и масштабирование.\n",
    "\n",
    "\n",
    "2. На основе этих данных провели обучение моделей.\n",
    "\n",
    "\n",
    "3. Предсказали средний запас сырья для каждого региона. \n",
    "\n",
    "\n",
    "Из интересного у нас следующее: нельзя не заметить, что во втором регионе у нас ниже количество предполагаемого сырья, но и ошибка совсем небольшая, в отличие от остальных регионов, где больше предпологаемого сырья, но и ошибка значительно выше.\n",
    "___\n",
    "\n",
    "Таким образом была выполнена работа с моделями. Переходим к следующей части анализа."
   ]
  },
  {
   "cell_type": "markdown",
   "metadata": {},
   "source": [
    " ## Часть 3. Подготовка к расчету прибыли"
   ]
  },
  {
   "cell_type": "markdown",
   "metadata": {},
   "source": [
    "<a id='Подготовка к расчету прибыли'></a>"
   ]
  },
  {
   "cell_type": "markdown",
   "metadata": {},
   "source": [
    "### <p style=\"text-align:center\">Подготовка к расчету прибыли</p>"
   ]
  },
  {
   "cell_type": "code",
   "execution_count": 55,
   "metadata": {},
   "outputs": [],
   "source": [
    "BILLION = 1000000000\n",
    "BUDGET = 10*BILLION\n",
    "BARREL = 450000\n",
    "GAS_WELL_COUNT = 200"
   ]
  },
  {
   "cell_type": "code",
   "execution_count": 56,
   "metadata": {},
   "outputs": [
    {
     "data": {
      "text/plain": [
       "111.11111111111111"
      ]
     },
     "execution_count": 56,
     "metadata": {},
     "output_type": "execute_result"
    }
   ],
   "source": [
    "min_production = BUDGET/(GAS_WELL_COUNT*BARREL)\n",
    "min_production"
   ]
  },
  {
   "cell_type": "markdown",
   "metadata": {},
   "source": [
    "Сравнивая полученное значение со средним запасов скважин каждого региона можно увидеть, что в каждом из регионов в каждой скважине в среднем меньше запас сырья, чем необходимо для безубыточной добычи. Поэтому необходимо применить аналитический подход и машинное обучение."
   ]
  },
  {
   "cell_type": "markdown",
   "metadata": {},
   "source": [
    "<a id='Вывод_3'></a>"
   ]
  },
  {
   "cell_type": "markdown",
   "metadata": {},
   "source": [
    "### <p style=\"text-align:center\"> Вывод</p>"
   ]
  },
  {
   "cell_type": "markdown",
   "metadata": {},
   "source": [
    "##### В ходе работы по подготовке мы:\n",
    "\n",
    "___\n",
    "\n",
    "\n",
    "1. Создали константы с интересующими нас величинами.\n",
    "\n",
    "\n",
    "2. На основе этих константы посчитали минимальное среднее количество сырья для одной скважины.\n",
    "\n",
    "\n",
    "3. Сравнили полученное значение с предсказаниями для каждого региона. \n",
    "\n",
    "\n",
    "\n",
    "___\n",
    "\n",
    "Таким образом была выполнена работа по подготовке к расчету прибыли. Переходим к следующей части анализа."
   ]
  },
  {
   "cell_type": "markdown",
   "metadata": {},
   "source": [
    " ## Часть 4. Расчет прибыли"
   ]
  },
  {
   "cell_type": "markdown",
   "metadata": {},
   "source": [
    "<a id='Расчет прибыли в идеальных условиях'></a>"
   ]
  },
  {
   "cell_type": "markdown",
   "metadata": {},
   "source": [
    "### <p style=\"text-align:center\">Расчет прибыли в идеальных условиях</p>"
   ]
  },
  {
   "cell_type": "markdown",
   "metadata": {},
   "source": [
    "Напишем функцию для расчета прибыли."
   ]
  },
  {
   "cell_type": "code",
   "execution_count": 57,
   "metadata": {},
   "outputs": [],
   "source": [
    "def get_profit(prediction, target):\n",
    "    prediction_sorted = prediction.sort_values(ascending=False)\n",
    "    selected = target[prediction_sorted.index][:GAS_WELL_COUNT]\n",
    "    return selected.sum()*BARREL/BILLION - BUDGET/BILLION"
   ]
  },
  {
   "cell_type": "markdown",
   "metadata": {},
   "source": [
    "Посчитаем прибыль для каждого региона."
   ]
  },
  {
   "cell_type": "code",
   "execution_count": 58,
   "metadata": {},
   "outputs": [
    {
     "name": "stdout",
     "output_type": "stream",
     "text": [
      "Прибыль от полученного объема сырья в 1-м регионе составит 3.372 млрд. рублей.\n"
     ]
    }
   ],
   "source": [
    "profit_1 = get_profit(prediction_1, target_1_valid)\n",
    "print(f'Прибыль от полученного объема сырья в 1-м регионе составит {(profit_1):.3f} млрд. рублей.')"
   ]
  },
  {
   "cell_type": "code",
   "execution_count": 59,
   "metadata": {},
   "outputs": [
    {
     "name": "stdout",
     "output_type": "stream",
     "text": [
      "Прибыль от полученного объема сырья в 2-м регионе составит 2.415 млрд. рублей.\n"
     ]
    }
   ],
   "source": [
    "profit_2 = get_profit(prediction_2, target_2_valid)\n",
    "print(f'Прибыль от полученного объема сырья в 2-м регионе составит {(profit_2):.3f} млрд. рублей.')"
   ]
  },
  {
   "cell_type": "code",
   "execution_count": 60,
   "metadata": {},
   "outputs": [
    {
     "name": "stdout",
     "output_type": "stream",
     "text": [
      "Прибыль от полученного объема сырья в 3-м регионе составит 2.522 млрд. рублей.\n"
     ]
    }
   ],
   "source": [
    "profit_3 = get_profit(prediction_3, target_3_valid)\n",
    "print(f'Прибыль от полученного объема сырья в 3-м регионе составит {(profit_3):.3f} млрд. рублей.')"
   ]
  },
  {
   "cell_type": "markdown",
   "metadata": {},
   "source": [
    "<a id='Расчет рисков и прибыли для каждого региона'></a>"
   ]
  },
  {
   "cell_type": "markdown",
   "metadata": {},
   "source": [
    "### <p style=\"text-align:center\">Расчет рисков и прибыли для каждого региона</p>"
   ]
  },
  {
   "cell_type": "markdown",
   "metadata": {},
   "source": [
    "Расчитаем риски убытков, прибыли и доверительные интервалы для каждого региона. Воспользуемся техникой Bootstrap."
   ]
  },
  {
   "cell_type": "code",
   "execution_count": 61,
   "metadata": {},
   "outputs": [],
   "source": [
    "state = np.random.RandomState(85)"
   ]
  },
  {
   "cell_type": "markdown",
   "metadata": {},
   "source": [
    "Создадим функцию для расчета интересующих нас характеристик."
   ]
  },
  {
   "cell_type": "code",
   "execution_count": 62,
   "metadata": {},
   "outputs": [],
   "source": [
    "def get_characteristics(prediction, target_valid):\n",
    "    values = []\n",
    "    for i in range(1000):\n",
    "        prediction_subsample = prediction.sample(n=500, replace=True, random_state=state)\n",
    "        target_subsample = target_valid[prediction_subsample.index]\n",
    "        value = get_profit(prediction_subsample, target_subsample)\n",
    "        values.append(value)\n",
    "    sample = pd.Series(values)\n",
    "    risks = (sample < 0).mean()*100\n",
    "    conf_int_lower = sample.quantile(0.025)\n",
    "    conf_int_upper = sample.quantile(0.975)\n",
    "    return [sample.mean(), risks, conf_int_lower, conf_int_upper, values]"
   ]
  },
  {
   "cell_type": "code",
   "execution_count": 63,
   "metadata": {},
   "outputs": [],
   "source": [
    "def print_characteristics(characteristics, region):\n",
    "    print(f'Cредняя прибыль, {region}-й регион: {characteristics[0]:.3f} млрд. рублей.')\n",
    "    print(f'95%-ый дов-ный интервал, {region}-й регион: от {characteristics[2]:.3f} до {characteristics[3]:.3f} млрд. рублей.')\n",
    "    print(f'Риск убытков, {region}-й регион: {characteristics[1]:.1f}%')"
   ]
  },
  {
   "cell_type": "code",
   "execution_count": 64,
   "metadata": {},
   "outputs": [],
   "source": [
    "characteristics_1 = get_characteristics(prediction_1, target_1_valid)"
   ]
  },
  {
   "cell_type": "code",
   "execution_count": 65,
   "metadata": {},
   "outputs": [
    {
     "name": "stdout",
     "output_type": "stream",
     "text": [
      "Cредняя прибыль, 1-й регион: 0.454 млрд. рублей.\n",
      "95%-ый дов-ный интервал, 1-й регион: от -0.098 до 0.991 млрд. рублей.\n",
      "Риск убытков, 1-й регион: 6.1%\n"
     ]
    }
   ],
   "source": [
    "print_characteristics(characteristics_1, 1)"
   ]
  },
  {
   "cell_type": "code",
   "execution_count": 66,
   "metadata": {},
   "outputs": [],
   "source": [
    "characteristics_2 = get_characteristics(prediction_2, target_2_valid)"
   ]
  },
  {
   "cell_type": "code",
   "execution_count": 67,
   "metadata": {},
   "outputs": [
    {
     "name": "stdout",
     "output_type": "stream",
     "text": [
      "Cредняя прибыль, 2-й регион: 0.496 млрд. рублей.\n",
      "95%-ый дов-ный интервал, 2-й регион: от 0.090 до 0.926 млрд. рублей.\n",
      "Риск убытков, 2-й регион: 0.6%\n"
     ]
    }
   ],
   "source": [
    "print_characteristics(characteristics_2, 2)"
   ]
  },
  {
   "cell_type": "code",
   "execution_count": 68,
   "metadata": {},
   "outputs": [],
   "source": [
    "characteristics_3 = get_characteristics(prediction_3, target_3_valid)"
   ]
  },
  {
   "cell_type": "code",
   "execution_count": 69,
   "metadata": {},
   "outputs": [
    {
     "name": "stdout",
     "output_type": "stream",
     "text": [
      "Cредняя прибыль, 3-й регион: 0.335 млрд. рублей.\n",
      "95%-ый дов-ный интервал, 3-й регион: от -0.190 до 0.878 млрд. рублей.\n",
      "Риск убытков, 3-й регион: 11.1%\n"
     ]
    }
   ],
   "source": [
    "print_characteristics(characteristics_3, 3)"
   ]
  },
  {
   "cell_type": "code",
   "execution_count": 70,
   "metadata": {},
   "outputs": [],
   "source": [
    "d = {'region': ['1-st', '2-nd', '3-rd'], \n",
    "     'mean_profit, billion rub':[characteristics_1[0], characteristics_2[0], characteristics_3[0]],\n",
    "     'risks, %':[characteristics_1[1], characteristics_2[1], characteristics_3[1]],\n",
    "     'confidence_interval_lower, billion rub':[characteristics_1[2], characteristics_2[2], characteristics_3[2]],\n",
    "     'confidence_interval_upper, billion rub':[characteristics_1[3], characteristics_2[3], characteristics_3[3]]\n",
    "    }\n",
    "summary = pd.DataFrame(data=d).round(3)"
   ]
  },
  {
   "cell_type": "code",
   "execution_count": 71,
   "metadata": {},
   "outputs": [
    {
     "data": {
      "image/png": "[encoded data removed]",
      "text/plain": [
       "<Figure size 1440x432 with 3 Axes>"
      ]
     },
     "metadata": {
      "needs_background": "light"
     },
     "output_type": "display_data"
    }
   ],
   "source": [
    "f, axs = plt.subplots(1, 3, figsize=(20,6))\n",
    "zero = 0\n",
    "\n",
    "axs[0].hist(characteristics_1[4], color='gold', bins = 25);\n",
    "axs[0].axvline(zero, color='black', linestyle='dashdot')\n",
    "axs[0].set_title('Two hundred random wells distribution, 1-st region');\n",
    "axs[0].set_xlabel('Profit, billion');\n",
    "axs[0].set_ylabel('Quantity');\n",
    "\n",
    "axs[1].hist(characteristics_2[4], color='gold', bins = 25);\n",
    "axs[1].axvline(zero, color='black', linestyle='dashdot')\n",
    "axs[1].set_title('Two hundred random wells distribution, 2-nd region');\n",
    "axs[1].set_xlabel('Profit, billion');\n",
    "axs[1].set_ylabel('Quantity');\n",
    "\n",
    "axs[2].hist(characteristics_3[4], color='gold', bins = 25);\n",
    "axs[2].axvline(zero, color='black', linestyle='dashdot')\n",
    "axs[2].set_title('Two hundred random wells distribution, 3-rd region');\n",
    "axs[2].set_xlabel('Profit, billion');\n",
    "axs[2].set_ylabel('Quantity');"
   ]
  },
  {
   "cell_type": "markdown",
   "metadata": {},
   "source": [
    "<a id='Вывод_4'></a>"
   ]
  },
  {
   "cell_type": "markdown",
   "metadata": {},
   "source": [
    "### <p style=\"text-align:center\"> Вывод</p>"
   ]
  },
  {
   "cell_type": "markdown",
   "metadata": {},
   "source": [
    "##### В ходе работы по расчету прибыли мы:\n",
    "\n",
    "___\n",
    "\n",
    "\n",
    "1. Выполнили расчет прибыли в идеальных условиях - взяли 200 самых прибыльных скважин из предсказания по всей валидационной выборке и оставили просуммировали целевое значение объёма сырья, соответствующее этим предсказаниям. Получили максимально возможную прибыль с региона.\n",
    "\n",
    "\n",
    "2. Воспользовавшись техникой Bootstrap приблизили ситуацию к реальной жизни, где есть возможность исследовать только 500 точек и взять из них 200. Проделали это 1000 раз для каждого региона, получили распределения возможной прибыли, риски убытков, доверительные интервалы.\n",
    "\n",
    "\n",
    "3. Визуализировали интересующие нас данные. \n",
    "\n",
    "\n",
    "___\n",
    "\n",
    "\n",
    "\n",
    "Таким образом была выполнена работа по расчету прибыли. Переходим к выводам."
   ]
  },
  {
   "cell_type": "markdown",
   "metadata": {},
   "source": [
    " ## Часть 5. Общий вывод"
   ]
  },
  {
   "cell_type": "markdown",
   "metadata": {},
   "source": [
    "<a id='Вывод_5'></a>"
   ]
  },
  {
   "cell_type": "markdown",
   "metadata": {},
   "source": [
    "### <p style=\"text-align:center\"> Вывод по проделанной работе</p>"
   ]
  },
  {
   "cell_type": "markdown",
   "metadata": {},
   "source": [
    "##### В ходе работы мы:\n",
    "\n",
    "___\n",
    "\n",
    "\n",
    "1. <a href='#Вывод_1'>Изучили</a> общую информацию о предоставленных датасетах. Проблем на данном этапе не нашли.\n",
    "\n",
    "\n",
    "2. <a href='#Вывод_2'>Поработали</a> над моделями машинного обучения на основе предоставленных данных. Обучили модели для каждого региона.\n",
    "\n",
    "\n",
    "3. <a href='#Вывод_3'>Подготовились</a> к расчету прибыли - вынесли основные константы, посчитали минимальный средний запас скважины.\n",
    "\n",
    "\n",
    "4. <a href='#Вывод_4'>Расчитали</a> прибыли в идеальных условиях, и в условиях приближенных к реальным, для каждого региона. Не забыли про риски и доверительные интервалы.\n",
    "\n",
    "\n",
    "___\n",
    "\n",
    "\n",
    "\n",
    "Таким образом была выполнена работа по анализу и формированию выводов на основе имеющейся информации. \n",
    "\n",
    "В качестве региона для разработки мы рекомендуем <b>2-й регион</b>, на основании следующего:\n",
    "\n",
    "- после обучения моделей мы увидели, что в каждом из регионов средний предсказанный запас скважины был ниже, чем необходимо. Во 2-м регионе эта цифра была самой низкой, но это не привело нас к неправильным выводам;\n",
    "- после расчета прибыли в идеальных условиях самой высокой оказалась прибыль 1-го региона, но и это не привело нас к ошибке;\n",
    "- наконец, расчитав приближенную к реальной жизни прибыль, риски и доверительные интервалы мы с уверенностью можем сказать, что 2-й регион - регион с наилучшими перечисленными выше показателями. Для наглядности все сведено в таблицу ниже."
   ]
  },
  {
   "cell_type": "markdown",
   "metadata": {},
   "source": [
    "### <p style=\"text-align:center\">Сводная таблица показателей для всех регионов</p>"
   ]
  },
  {
   "cell_type": "code",
   "execution_count": 72,
   "metadata": {},
   "outputs": [
    {
     "data": {
      "text/html": [
       "<div>\n",
       "<style scoped>\n",
       "    .dataframe tbody tr th:only-of-type {\n",
       "        vertical-align: middle;\n",
       "    }\n",
       "\n",
       "    .dataframe tbody tr th {\n",
       "        vertical-align: top;\n",
       "    }\n",
       "\n",
       "    .dataframe thead th {\n",
       "        text-align: right;\n",
       "    }\n",
       "</style>\n",
       "<table border=\"1\" class=\"dataframe\">\n",
       "  <thead>\n",
       "    <tr style=\"text-align: right;\">\n",
       "      <th></th>\n",
       "      <th>region</th>\n",
       "      <th>mean_profit, billion rub</th>\n",
       "      <th>risks, %</th>\n",
       "      <th>confidence_interval_lower, billion rub</th>\n",
       "      <th>confidence_interval_upper, billion rub</th>\n",
       "    </tr>\n",
       "  </thead>\n",
       "  <tbody>\n",
       "    <tr>\n",
       "      <td>0</td>\n",
       "      <td>1-st</td>\n",
       "      <td>0.454</td>\n",
       "      <td>6.1</td>\n",
       "      <td>-0.098</td>\n",
       "      <td>0.991</td>\n",
       "    </tr>\n",
       "    <tr>\n",
       "      <td>1</td>\n",
       "      <td>2-nd</td>\n",
       "      <td>0.496</td>\n",
       "      <td>0.6</td>\n",
       "      <td>0.090</td>\n",
       "      <td>0.926</td>\n",
       "    </tr>\n",
       "    <tr>\n",
       "      <td>2</td>\n",
       "      <td>3-rd</td>\n",
       "      <td>0.335</td>\n",
       "      <td>11.1</td>\n",
       "      <td>-0.190</td>\n",
       "      <td>0.878</td>\n",
       "    </tr>\n",
       "  </tbody>\n",
       "</table>\n",
       "</div>"
      ],
      "text/plain": [
       "  region  mean_profit, billion rub  risks, %  \\\n",
       "0   1-st                     0.454       6.1   \n",
       "1   2-nd                     0.496       0.6   \n",
       "2   3-rd                     0.335      11.1   \n",
       "\n",
       "   confidence_interval_lower, billion rub  \\\n",
       "0                                  -0.098   \n",
       "1                                   0.090   \n",
       "2                                  -0.190   \n",
       "\n",
       "   confidence_interval_upper, billion rub  \n",
       "0                                   0.991  \n",
       "1                                   0.926  \n",
       "2                                   0.878  "
      ]
     },
     "execution_count": 72,
     "metadata": {},
     "output_type": "execute_result"
    }
   ],
   "source": [
    "summary"
   ]
  },
  {
   "cell_type": "markdown",
   "metadata": {},
   "source": [
    "Выбор <b>2-го региона</b> обоснован высшими показателями доходности и доверительных интервалов, а также низкими рисками."
   ]
  }
 ],
 "metadata": {
  "kernelspec": {
   "display_name": "Python 3",
   "language": "python",
   "name": "python3"
  },
  "language_info": {
   "codemirror_mode": {
    "name": "ipython",
    "version": 3
   },
   "file_extension": ".py",
   "mimetype": "text/x-python",
   "name": "python",
   "nbconvert_exporter": "python",
   "pygments_lexer": "ipython3",
   "version": "3.7.6"
  },
  "toc": {
   "base_numbering": 1,
   "nav_menu": {},
   "number_sections": false,
   "sideBar": true,
   "skip_h1_title": true,
   "title_cell": "Table of Contents",
   "title_sidebar": "Contents",
   "toc_cell": false,
   "toc_position": {},
   "toc_section_display": true,
   "toc_window_display": false
  }
 },
 "nbformat": 4,
 "nbformat_minor": 2
}
