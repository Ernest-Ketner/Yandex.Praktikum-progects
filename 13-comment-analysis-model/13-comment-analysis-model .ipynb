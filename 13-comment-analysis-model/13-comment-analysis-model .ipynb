{
 "cells": [
  {
   "cell_type": "markdown",
   "metadata": {},
   "source": [
    "# Модель анализа комментариев для «Викишоп»\n",
    "\n",
    "Интернет-магазин «Викишоп» запускает новый сервис. Теперь пользователи могут редактировать и дополнять описания товаров, как в вики-сообществах. То есть клиенты предлагают свои правки и комментируют изменения других. Магазину нужен инструмент, который будет искать токсичные комментарии и отправлять их на модерацию. \n",
    "\n",
    "Нам необходимо обучить модель классифицировать комментарии на позитивные и негативные. \n",
    "\n",
    "В нашем распоряжении набор данных с разметкой о токсичности правок.\n",
    "\n",
    "Задача - построить модель со значением метрики качества *F1* не меньше 0.75.\n",
    "    \n",
    " \n",
    "    \n",
    "____\n",
    "\n",
    "\n",
    "\n",
    "В данном исследовании представлен процесс создания и проверки моделей машинного обучения в целях прогнозирования заказов. Работа произведена в соответствии с инструкциями заказчика. Каждый значительный шаг сопровождается промежуточным, либо общим выводом.\n",
    " \n",
    "    \n",
    "    \n",
    "____\n",
    "    \n",
    "\n",
    "    \n",
    "    \n",
    "    \n",
    "Часть 1. Изучение общей информации о предоставленном датасете\n",
    "    \n",
    "1. Импорт необходимых библиотек для работы с данными, загрузка датасета\n",
    "2. Изучение данных, получение общей информации\n",
    "3. Вывод\n",
    "\n",
    "Часть 2. Подготовка данных\n",
    "\n",
    "1. Создание инструментов подготовки данных\n",
    "2. Применение созданных функций\n",
    "3. Вывод\n",
    "    \n",
    "Часть 3. Обучение моделей\n",
    "    \n",
    "1. Подготовительные мероприятия\n",
    "2. Обучение моделей\n",
    "3. Вывод\n",
    "    "
   ]
  },
  {
   "cell_type": "markdown",
   "metadata": {},
   "source": [
    " ## Часть 1. Изучение общей информации о предоставленном датасете"
   ]
  },
  {
   "cell_type": "markdown",
   "metadata": {},
   "source": [
    "<a id='Импорт необходимых библиотек для работы с данными, загрузка датасета'>"
   ]
  },
  {
   "cell_type": "markdown",
   "metadata": {},
   "source": [
    "### <p style=\"text-align:center\"> Импорт необходимых библиотек для работы с данными, загрузка датасета</p>"
   ]
  },
  {
   "cell_type": "markdown",
   "metadata": {},
   "source": [
    "Импортируем необходимые библиотеки, убираем ограничения на количество столбцов, отключаем предупреждения."
   ]
  },
  {
   "cell_type": "code",
   "execution_count": 1,
   "metadata": {},
   "outputs": [
    {
     "name": "stdout",
     "output_type": "stream",
     "text": [
      "Defaulting to user installation because normal site-packages is not writeable\n",
      "Requirement already satisfied: wordcloud in /home/jovyan/.local/lib/python3.7/site-packages (1.8.1)\n",
      "Requirement already satisfied: matplotlib in /opt/conda/lib/python3.7/site-packages (from wordcloud) (3.1.0)\n",
      "Requirement already satisfied: pillow in /opt/conda/lib/python3.7/site-packages (from wordcloud) (7.0.0)\n",
      "Requirement already satisfied: numpy>=1.6.1 in /opt/conda/lib/python3.7/site-packages (from wordcloud) (1.19.5)\n",
      "Requirement already satisfied: cycler>=0.10 in /opt/conda/lib/python3.7/site-packages (from matplotlib->wordcloud) (0.10.0)\n",
      "Requirement already satisfied: python-dateutil>=2.1 in /opt/conda/lib/python3.7/site-packages (from matplotlib->wordcloud) (2.8.1)\n",
      "Requirement already satisfied: pyparsing!=2.0.4,!=2.1.2,!=2.1.6,>=2.0.1 in /opt/conda/lib/python3.7/site-packages (from matplotlib->wordcloud) (2.4.7)\n",
      "Requirement already satisfied: kiwisolver>=1.0.1 in /opt/conda/lib/python3.7/site-packages (from matplotlib->wordcloud) (1.3.1)\n",
      "Requirement already satisfied: six in /opt/conda/lib/python3.7/site-packages (from cycler>=0.10->matplotlib->wordcloud) (1.15.0)\n"
     ]
    }
   ],
   "source": [
    "!pip install wordcloud"
   ]
  },
  {
   "cell_type": "code",
   "execution_count": 2,
   "metadata": {},
   "outputs": [
    {
     "name": "stderr",
     "output_type": "stream",
     "text": [
      "[nltk_data] Downloading package stopwords to /home/jovyan/nltk_data...\n",
      "[nltk_data]   Package stopwords is already up-to-date!\n"
     ]
    }
   ],
   "source": [
    "import pandas as pd\n",
    "import numpy as np\n",
    "from IPython.display import display\n",
    "pd.options.display.max_columns = None\n",
    "pd.options.display.max_rows = None\n",
    "import warnings\n",
    "warnings.simplefilter('ignore')\n",
    "import matplotlib.pyplot as plt\n",
    "import re\n",
    "import nltk\n",
    "import timeit\n",
    "from nltk.stem import WordNetLemmatizer\n",
    "from nltk.tokenize import word_tokenize\n",
    "nltk.download('stopwords')\n",
    "from nltk.corpus import stopwords as nltk_stopwords\n",
    "from sklearn.feature_extraction.text import TfidfVectorizer \n",
    "from wordcloud import WordCloud, STOPWORDS , ImageColorGenerator"
   ]
  },
  {
   "cell_type": "code",
   "execution_count": 3,
   "metadata": {},
   "outputs": [],
   "source": [
    "from sklearn.linear_model import LogisticRegression\n",
    "import lightgbm as lgb\n",
    "from sklearn.ensemble import RandomForestClassifier\n",
    "from sklearn.linear_model import SGDClassifier"
   ]
  },
  {
   "cell_type": "code",
   "execution_count": 4,
   "metadata": {},
   "outputs": [],
   "source": [
    "from sklearn.metrics import f1_score\n",
    "from sklearn.model_selection import train_test_split"
   ]
  },
  {
   "cell_type": "markdown",
   "metadata": {},
   "source": [
    "Загружаем датасет, проверяем вывод."
   ]
  },
  {
   "cell_type": "code",
   "execution_count": 5,
   "metadata": {},
   "outputs": [],
   "source": [
    "data = pd.read_csv('/datasets/toxic_comments.csv')"
   ]
  },
  {
   "cell_type": "code",
   "execution_count": 6,
   "metadata": {},
   "outputs": [
    {
     "data": {
      "text/html": [
       "<div>\n",
       "<style scoped>\n",
       "    .dataframe tbody tr th:only-of-type {\n",
       "        vertical-align: middle;\n",
       "    }\n",
       "\n",
       "    .dataframe tbody tr th {\n",
       "        vertical-align: top;\n",
       "    }\n",
       "\n",
       "    .dataframe thead th {\n",
       "        text-align: right;\n",
       "    }\n",
       "</style>\n",
       "<table border=\"1\" class=\"dataframe\">\n",
       "  <thead>\n",
       "    <tr style=\"text-align: right;\">\n",
       "      <th></th>\n",
       "      <th>text</th>\n",
       "      <th>toxic</th>\n",
       "    </tr>\n",
       "  </thead>\n",
       "  <tbody>\n",
       "    <tr>\n",
       "      <td>0</td>\n",
       "      <td>Explanation\\nWhy the edits made under my usern...</td>\n",
       "      <td>0</td>\n",
       "    </tr>\n",
       "    <tr>\n",
       "      <td>1</td>\n",
       "      <td>D'aww! He matches this background colour I'm s...</td>\n",
       "      <td>0</td>\n",
       "    </tr>\n",
       "    <tr>\n",
       "      <td>2</td>\n",
       "      <td>Hey man, I'm really not trying to edit war. It...</td>\n",
       "      <td>0</td>\n",
       "    </tr>\n",
       "    <tr>\n",
       "      <td>3</td>\n",
       "      <td>\"\\nMore\\nI can't make any real suggestions on ...</td>\n",
       "      <td>0</td>\n",
       "    </tr>\n",
       "    <tr>\n",
       "      <td>4</td>\n",
       "      <td>You, sir, are my hero. Any chance you remember...</td>\n",
       "      <td>0</td>\n",
       "    </tr>\n",
       "  </tbody>\n",
       "</table>\n",
       "</div>"
      ],
      "text/plain": [
       "                                                text  toxic\n",
       "0  Explanation\\nWhy the edits made under my usern...      0\n",
       "1  D'aww! He matches this background colour I'm s...      0\n",
       "2  Hey man, I'm really not trying to edit war. It...      0\n",
       "3  \"\\nMore\\nI can't make any real suggestions on ...      0\n",
       "4  You, sir, are my hero. Any chance you remember...      0"
      ]
     },
     "execution_count": 6,
     "metadata": {},
     "output_type": "execute_result"
    }
   ],
   "source": [
    "data.head()"
   ]
  },
  {
   "cell_type": "markdown",
   "metadata": {},
   "source": [
    "<a id='Изучение данных, получение общей информации'></a>"
   ]
  },
  {
   "cell_type": "markdown",
   "metadata": {},
   "source": [
    "### <p style=\"text-align:center\"> Изучение данных, получение общей информации</p>"
   ]
  },
  {
   "cell_type": "markdown",
   "metadata": {},
   "source": [
    "Ознакомимся с информацией, посмотрим соответствуют ли типы ячеек назначению. В качестве дополнительной проверки возьмем случайные 20 строк из нашего датасета, посмотрим на странные, выбивающиеся, отсутствующие значения."
   ]
  },
  {
   "cell_type": "code",
   "execution_count": 7,
   "metadata": {},
   "outputs": [
    {
     "data": {
      "text/html": [
       "<div>\n",
       "<style scoped>\n",
       "    .dataframe tbody tr th:only-of-type {\n",
       "        vertical-align: middle;\n",
       "    }\n",
       "\n",
       "    .dataframe tbody tr th {\n",
       "        vertical-align: top;\n",
       "    }\n",
       "\n",
       "    .dataframe thead th {\n",
       "        text-align: right;\n",
       "    }\n",
       "</style>\n",
       "<table border=\"1\" class=\"dataframe\">\n",
       "  <thead>\n",
       "    <tr style=\"text-align: right;\">\n",
       "      <th></th>\n",
       "      <th>text</th>\n",
       "      <th>toxic</th>\n",
       "    </tr>\n",
       "  </thead>\n",
       "  <tbody>\n",
       "    <tr>\n",
       "      <td>24915</td>\n",
       "      <td>YOU ARE A FAT, GEEKY PRICK WHO HAS NOTHING TO ...</td>\n",
       "      <td>1</td>\n",
       "    </tr>\n",
       "    <tr>\n",
       "      <td>75819</td>\n",
       "      <td>Agent X2: Basically thanks - with a 'little' m...</td>\n",
       "      <td>0</td>\n",
       "    </tr>\n",
       "    <tr>\n",
       "      <td>53891</td>\n",
       "      <td>Why are my posts being deleted? \\n\\nI have tri...</td>\n",
       "      <td>0</td>\n",
       "    </tr>\n",
       "    <tr>\n",
       "      <td>154159</td>\n",
       "      <td>\"\\n\\n Controlled Demolitions and Common Sense ...</td>\n",
       "      <td>0</td>\n",
       "    </tr>\n",
       "    <tr>\n",
       "      <td>13040</td>\n",
       "      <td>I do not understand your reply.  //Blaxthos ( ...</td>\n",
       "      <td>0</td>\n",
       "    </tr>\n",
       "    <tr>\n",
       "      <td>123190</td>\n",
       "      <td>Is this the bizarro world? Removing content is...</td>\n",
       "      <td>0</td>\n",
       "    </tr>\n",
       "    <tr>\n",
       "      <td>33626</td>\n",
       "      <td>Well, WP:RS says that articles should use reli...</td>\n",
       "      <td>0</td>\n",
       "    </tr>\n",
       "    <tr>\n",
       "      <td>1150</td>\n",
       "      <td>Oh hear me go someone removes all my pages i g...</td>\n",
       "      <td>0</td>\n",
       "    </tr>\n",
       "    <tr>\n",
       "      <td>48633</td>\n",
       "      <td>can't believe this article was deleted\\nI'm su...</td>\n",
       "      <td>0</td>\n",
       "    </tr>\n",
       "    <tr>\n",
       "      <td>42817</td>\n",
       "      <td>\"\\n\\n Comments on GamerGate Workshop page \\n\\n...</td>\n",
       "      <td>0</td>\n",
       "    </tr>\n",
       "    <tr>\n",
       "      <td>151156</td>\n",
       "      <td>\"\\n\\nYeah whatever liar. You have some fraud p...</td>\n",
       "      <td>0</td>\n",
       "    </tr>\n",
       "    <tr>\n",
       "      <td>143912</td>\n",
       "      <td>because it's completely generic</td>\n",
       "      <td>0</td>\n",
       "    </tr>\n",
       "    <tr>\n",
       "      <td>134375</td>\n",
       "      <td>\"\\n\\nI refer you to the Wikipedida article \"\"S...</td>\n",
       "      <td>0</td>\n",
       "    </tr>\n",
       "    <tr>\n",
       "      <td>103981</td>\n",
       "      <td>I love how you're completely trying to mistran...</td>\n",
       "      <td>0</td>\n",
       "    </tr>\n",
       "    <tr>\n",
       "      <td>114131</td>\n",
       "      <td>\"\\nWhy exactly?\\nAnd would every cell need a r...</td>\n",
       "      <td>0</td>\n",
       "    </tr>\n",
       "    <tr>\n",
       "      <td>41184</td>\n",
       "      <td>\".  Trudeau wasn't the Leader of the Oppositio...</td>\n",
       "      <td>0</td>\n",
       "    </tr>\n",
       "    <tr>\n",
       "      <td>110307</td>\n",
       "      <td>==Mark Howard (producer) hi. i am adding these...</td>\n",
       "      <td>0</td>\n",
       "    </tr>\n",
       "    <tr>\n",
       "      <td>43211</td>\n",
       "      <td>Support as per precedent described by OP (invi...</td>\n",
       "      <td>0</td>\n",
       "    </tr>\n",
       "    <tr>\n",
       "      <td>1858</td>\n",
       "      <td>\"\\n\\n December 2008 \\n You currently appear to...</td>\n",
       "      <td>0</td>\n",
       "    </tr>\n",
       "    <tr>\n",
       "      <td>154840</td>\n",
       "      <td>\"\\n\\nP.S. Is there any chance that you could h...</td>\n",
       "      <td>0</td>\n",
       "    </tr>\n",
       "  </tbody>\n",
       "</table>\n",
       "</div>"
      ],
      "text/plain": [
       "                                                     text  toxic\n",
       "24915   YOU ARE A FAT, GEEKY PRICK WHO HAS NOTHING TO ...      1\n",
       "75819   Agent X2: Basically thanks - with a 'little' m...      0\n",
       "53891   Why are my posts being deleted? \\n\\nI have tri...      0\n",
       "154159  \"\\n\\n Controlled Demolitions and Common Sense ...      0\n",
       "13040   I do not understand your reply.  //Blaxthos ( ...      0\n",
       "123190  Is this the bizarro world? Removing content is...      0\n",
       "33626   Well, WP:RS says that articles should use reli...      0\n",
       "1150    Oh hear me go someone removes all my pages i g...      0\n",
       "48633   can't believe this article was deleted\\nI'm su...      0\n",
       "42817   \"\\n\\n Comments on GamerGate Workshop page \\n\\n...      0\n",
       "151156  \"\\n\\nYeah whatever liar. You have some fraud p...      0\n",
       "143912                    because it's completely generic      0\n",
       "134375  \"\\n\\nI refer you to the Wikipedida article \"\"S...      0\n",
       "103981  I love how you're completely trying to mistran...      0\n",
       "114131  \"\\nWhy exactly?\\nAnd would every cell need a r...      0\n",
       "41184   \".  Trudeau wasn't the Leader of the Oppositio...      0\n",
       "110307  ==Mark Howard (producer) hi. i am adding these...      0\n",
       "43211   Support as per precedent described by OP (invi...      0\n",
       "1858    \"\\n\\n December 2008 \\n You currently appear to...      0\n",
       "154840  \"\\n\\nP.S. Is there any chance that you could h...      0"
      ]
     },
     "execution_count": 7,
     "metadata": {},
     "output_type": "execute_result"
    }
   ],
   "source": [
    "data.sample(n=20, random_state=1)"
   ]
  },
  {
   "cell_type": "markdown",
   "metadata": {},
   "source": [
    "Иногда в таблицах в конце есть строка \"Итого\"(или т.п.), нам она не нужна, убедимся в ее отсутствии."
   ]
  },
  {
   "cell_type": "code",
   "execution_count": 8,
   "metadata": {},
   "outputs": [
    {
     "data": {
      "text/html": [
       "<div>\n",
       "<style scoped>\n",
       "    .dataframe tbody tr th:only-of-type {\n",
       "        vertical-align: middle;\n",
       "    }\n",
       "\n",
       "    .dataframe tbody tr th {\n",
       "        vertical-align: top;\n",
       "    }\n",
       "\n",
       "    .dataframe thead th {\n",
       "        text-align: right;\n",
       "    }\n",
       "</style>\n",
       "<table border=\"1\" class=\"dataframe\">\n",
       "  <thead>\n",
       "    <tr style=\"text-align: right;\">\n",
       "      <th></th>\n",
       "      <th>text</th>\n",
       "      <th>toxic</th>\n",
       "    </tr>\n",
       "  </thead>\n",
       "  <tbody>\n",
       "    <tr>\n",
       "      <td>159566</td>\n",
       "      <td>\":::::And for the second time of asking, when ...</td>\n",
       "      <td>0</td>\n",
       "    </tr>\n",
       "    <tr>\n",
       "      <td>159567</td>\n",
       "      <td>You should be ashamed of yourself \\n\\nThat is ...</td>\n",
       "      <td>0</td>\n",
       "    </tr>\n",
       "    <tr>\n",
       "      <td>159568</td>\n",
       "      <td>Spitzer \\n\\nUmm, theres no actual article for ...</td>\n",
       "      <td>0</td>\n",
       "    </tr>\n",
       "    <tr>\n",
       "      <td>159569</td>\n",
       "      <td>And it looks like it was actually you who put ...</td>\n",
       "      <td>0</td>\n",
       "    </tr>\n",
       "    <tr>\n",
       "      <td>159570</td>\n",
       "      <td>\"\\nAnd ... I really don't think you understand...</td>\n",
       "      <td>0</td>\n",
       "    </tr>\n",
       "  </tbody>\n",
       "</table>\n",
       "</div>"
      ],
      "text/plain": [
       "                                                     text  toxic\n",
       "159566  \":::::And for the second time of asking, when ...      0\n",
       "159567  You should be ashamed of yourself \\n\\nThat is ...      0\n",
       "159568  Spitzer \\n\\nUmm, theres no actual article for ...      0\n",
       "159569  And it looks like it was actually you who put ...      0\n",
       "159570  \"\\nAnd ... I really don't think you understand...      0"
      ]
     },
     "execution_count": 8,
     "metadata": {},
     "output_type": "execute_result"
    }
   ],
   "source": [
    "data.tail()"
   ]
  },
  {
   "cell_type": "code",
   "execution_count": 9,
   "metadata": {},
   "outputs": [
    {
     "name": "stdout",
     "output_type": "stream",
     "text": [
      "<class 'pandas.core.frame.DataFrame'>\n",
      "RangeIndex: 159571 entries, 0 to 159570\n",
      "Data columns (total 2 columns):\n",
      "text     159571 non-null object\n",
      "toxic    159571 non-null int64\n",
      "dtypes: int64(1), object(1)\n",
      "memory usage: 2.4+ MB\n"
     ]
    }
   ],
   "source": [
    "data.info()"
   ]
  },
  {
   "cell_type": "code",
   "execution_count": 10,
   "metadata": {},
   "outputs": [
    {
     "data": {
      "text/html": [
       "<div>\n",
       "<style scoped>\n",
       "    .dataframe tbody tr th:only-of-type {\n",
       "        vertical-align: middle;\n",
       "    }\n",
       "\n",
       "    .dataframe tbody tr th {\n",
       "        vertical-align: top;\n",
       "    }\n",
       "\n",
       "    .dataframe thead th {\n",
       "        text-align: right;\n",
       "    }\n",
       "</style>\n",
       "<table border=\"1\" class=\"dataframe\">\n",
       "  <thead>\n",
       "    <tr style=\"text-align: right;\">\n",
       "      <th></th>\n",
       "      <th>toxic</th>\n",
       "    </tr>\n",
       "  </thead>\n",
       "  <tbody>\n",
       "    <tr>\n",
       "      <td>count</td>\n",
       "      <td>159571.000000</td>\n",
       "    </tr>\n",
       "    <tr>\n",
       "      <td>mean</td>\n",
       "      <td>0.101679</td>\n",
       "    </tr>\n",
       "    <tr>\n",
       "      <td>std</td>\n",
       "      <td>0.302226</td>\n",
       "    </tr>\n",
       "    <tr>\n",
       "      <td>min</td>\n",
       "      <td>0.000000</td>\n",
       "    </tr>\n",
       "    <tr>\n",
       "      <td>25%</td>\n",
       "      <td>0.000000</td>\n",
       "    </tr>\n",
       "    <tr>\n",
       "      <td>50%</td>\n",
       "      <td>0.000000</td>\n",
       "    </tr>\n",
       "    <tr>\n",
       "      <td>75%</td>\n",
       "      <td>0.000000</td>\n",
       "    </tr>\n",
       "    <tr>\n",
       "      <td>max</td>\n",
       "      <td>1.000000</td>\n",
       "    </tr>\n",
       "  </tbody>\n",
       "</table>\n",
       "</div>"
      ],
      "text/plain": [
       "               toxic\n",
       "count  159571.000000\n",
       "mean        0.101679\n",
       "std         0.302226\n",
       "min         0.000000\n",
       "25%         0.000000\n",
       "50%         0.000000\n",
       "75%         0.000000\n",
       "max         1.000000"
      ]
     },
     "execution_count": 10,
     "metadata": {},
     "output_type": "execute_result"
    }
   ],
   "source": [
    "data.describe()"
   ]
  },
  {
   "cell_type": "markdown",
   "metadata": {},
   "source": [
    "Посмотрим на баланс классов."
   ]
  },
  {
   "cell_type": "code",
   "execution_count": 11,
   "metadata": {},
   "outputs": [
    {
     "data": {
      "text/plain": [
       "0    0.898321\n",
       "1    0.101679\n",
       "Name: toxic, dtype: float64"
      ]
     },
     "execution_count": 11,
     "metadata": {},
     "output_type": "execute_result"
    }
   ],
   "source": [
    "data['toxic'].value_counts(normalize=True)"
   ]
  },
  {
   "cell_type": "markdown",
   "metadata": {},
   "source": [
    "Выведем наиболее часто встречающиеся слова по категориям."
   ]
  },
  {
   "cell_type": "code",
   "execution_count": 12,
   "metadata": {},
   "outputs": [
    {
     "data": {
      "text/plain": [
       "(-0.5, 399.5, 199.5, -0.5)"
      ]
     },
     "execution_count": 12,
     "metadata": {},
     "output_type": "execute_result"
    },
    {
     "data": {
      "image/png": "[encoded data removed]",
      "text/plain": [
       "<Figure size 1440x1440 with 3 Axes>"
      ]
     },
     "metadata": {
      "needs_background": "light"
     },
     "output_type": "display_data"
    }
   ],
   "source": [
    "df_toxic = data[data['toxic']==1]\n",
    "df_not_toxic = data[data['toxic']==0]\n",
    "\n",
    "All = \" \".join(review for review in data.text)\n",
    "toxic = \" \".join(review for review in df_toxic.text)\n",
    "not_toxic = \" \".join(review for review in df_not_toxic.text)\n",
    "\n",
    "fig, ax = plt.subplots(3, 1, figsize  = (20,20))\n",
    "wordcloud_all = WordCloud(max_font_size=50, max_words=100, background_color='white').generate(All)\n",
    "wordcloud_toxic = WordCloud(max_font_size=50, max_words=100, background_color='white').generate(toxic)\n",
    "wordcloud_not_toxic = WordCloud(max_font_size=50, max_words=100, background_color='white').generate(not_toxic)\n",
    "\n",
    "\n",
    "ax[0].imshow(wordcloud_all, interpolation='bilinear')\n",
    "ax[0].set_title('All comments', fontsize=20)\n",
    "ax[0].axis('off')\n",
    "ax[1].imshow(wordcloud_toxic, interpolation='bilinear')\n",
    "ax[1].set_title('Toxic comments',fontsize=20)\n",
    "ax[1].axis('off')\n",
    "ax[2].imshow(wordcloud_not_toxic, interpolation='bilinear')\n",
    "ax[2].set_title('NonToxic Comments',fontsize=20)\n",
    "ax[2].axis('off')"
   ]
  },
  {
   "cell_type": "markdown",
   "metadata": {},
   "source": [
    "<a id='Вывод_1'></a>"
   ]
  },
  {
   "cell_type": "markdown",
   "metadata": {},
   "source": [
    "### <p style=\"text-align:center\"> Вывод</p>"
   ]
  },
  {
   "cell_type": "markdown",
   "metadata": {},
   "source": [
    "##### В ходе первичного анализа данных были  сделаны следующие выводы:\n",
    "\n",
    "___\n",
    "\n",
    "\n",
    "1. Предоставлено около 160 тысяч комментариев с разметкой о токсичности.\n",
    "\n",
    "\n",
    "2. Необходима подготовка комментариев - приведение к одному виду, лемматизация, удаление лишних символов.\n",
    "\n",
    "\n",
    "3. Наблюдаем сильный дисбаланс классов.\n",
    "___\n",
    "\n",
    "Таким образом было выполнено первичное ознакомление с предоставленной информацией, выявлены некоторые дефекты датасета. Данные нуждаются в предобработке. Можно переходить к подготовке данных."
   ]
  },
  {
   "cell_type": "markdown",
   "metadata": {},
   "source": [
    " ## Часть 2. Подготовка данных"
   ]
  },
  {
   "cell_type": "markdown",
   "metadata": {},
   "source": [
    "<a id='Создание инструментов подготовки данных'></a>"
   ]
  },
  {
   "cell_type": "markdown",
   "metadata": {},
   "source": [
    "### <p style=\"text-align:center\"> Создание инструментов подготовки данных </p>"
   ]
  },
  {
   "cell_type": "markdown",
   "metadata": {},
   "source": [
    "Создадам несколько функций для подготовки наших данных."
   ]
  },
  {
   "cell_type": "code",
   "execution_count": 13,
   "metadata": {},
   "outputs": [],
   "source": [
    "def get_clean(text):\n",
    "    t = re.sub(r'[^A-Za-z]', ' ', text) \n",
    "    return \" \".join(t.split())"
   ]
  },
  {
   "cell_type": "code",
   "execution_count": 14,
   "metadata": {},
   "outputs": [],
   "source": [
    "lemmatizer = WordNetLemmatizer()\n",
    "\n",
    "def get_lemm(word_list):\n",
    "    lemmatized_output = ' '.join([lemmatizer.lemmatize(word, pos=\"v\") for word in word_list])\n",
    "    return lemmatized_output"
   ]
  },
  {
   "cell_type": "code",
   "execution_count": 15,
   "metadata": {},
   "outputs": [],
   "source": [
    "def get_token(text):\n",
    "    text = re.split('\\W+', text)\n",
    "    return text"
   ]
  },
  {
   "cell_type": "code",
   "execution_count": 16,
   "metadata": {},
   "outputs": [],
   "source": [
    "stop_words = nltk.corpus.stopwords.words('english')\n",
    "\n",
    "def remove_stopwords(word_list):\n",
    "    text = [word for word in word_list if word not in stopword]\n",
    "    return text"
   ]
  },
  {
   "cell_type": "code",
   "execution_count": 17,
   "metadata": {},
   "outputs": [],
   "source": [
    "stop_words = set(nltk.corpus.stopwords.words('english'))\n",
    "\n",
    "def removes_stopwords(word_list):\n",
    "    word_tokens = word_tokenize(word_list)\n",
    "    filtered_sentence = [word for word in word_tokens if not word.lower() in stop_words]\n",
    "    filtered_sentence = []\n",
    "    for word in word_tokens:\n",
    "        if word not in stop_words:\n",
    "            filtered_sentence.append(word)\n",
    "    return ' '.join(filtered_sentence)"
   ]
  },
  {
   "cell_type": "markdown",
   "metadata": {},
   "source": [
    "<a id='Применение созданных функций'></a>"
   ]
  },
  {
   "cell_type": "markdown",
   "metadata": {},
   "source": [
    "### <p style=\"text-align:center\"> Применение созданных функций </p>"
   ]
  },
  {
   "cell_type": "code",
   "execution_count": 18,
   "metadata": {},
   "outputs": [],
   "source": [
    "data['cleaned'] = data['text'].apply(lambda x: get_clean(x))"
   ]
  },
  {
   "cell_type": "code",
   "execution_count": 19,
   "metadata": {},
   "outputs": [
    {
     "data": {
      "text/html": [
       "<div>\n",
       "<style scoped>\n",
       "    .dataframe tbody tr th:only-of-type {\n",
       "        vertical-align: middle;\n",
       "    }\n",
       "\n",
       "    .dataframe tbody tr th {\n",
       "        vertical-align: top;\n",
       "    }\n",
       "\n",
       "    .dataframe thead th {\n",
       "        text-align: right;\n",
       "    }\n",
       "</style>\n",
       "<table border=\"1\" class=\"dataframe\">\n",
       "  <thead>\n",
       "    <tr style=\"text-align: right;\">\n",
       "      <th></th>\n",
       "      <th>text</th>\n",
       "      <th>toxic</th>\n",
       "      <th>cleaned</th>\n",
       "    </tr>\n",
       "  </thead>\n",
       "  <tbody>\n",
       "    <tr>\n",
       "      <td>0</td>\n",
       "      <td>Explanation\\nWhy the edits made under my usern...</td>\n",
       "      <td>0</td>\n",
       "      <td>Explanation Why the edits made under my userna...</td>\n",
       "    </tr>\n",
       "    <tr>\n",
       "      <td>1</td>\n",
       "      <td>D'aww! He matches this background colour I'm s...</td>\n",
       "      <td>0</td>\n",
       "      <td>D aww He matches this background colour I m se...</td>\n",
       "    </tr>\n",
       "    <tr>\n",
       "      <td>2</td>\n",
       "      <td>Hey man, I'm really not trying to edit war. It...</td>\n",
       "      <td>0</td>\n",
       "      <td>Hey man I m really not trying to edit war It s...</td>\n",
       "    </tr>\n",
       "    <tr>\n",
       "      <td>3</td>\n",
       "      <td>\"\\nMore\\nI can't make any real suggestions on ...</td>\n",
       "      <td>0</td>\n",
       "      <td>More I can t make any real suggestions on impr...</td>\n",
       "    </tr>\n",
       "    <tr>\n",
       "      <td>4</td>\n",
       "      <td>You, sir, are my hero. Any chance you remember...</td>\n",
       "      <td>0</td>\n",
       "      <td>You sir are my hero Any chance you remember wh...</td>\n",
       "    </tr>\n",
       "  </tbody>\n",
       "</table>\n",
       "</div>"
      ],
      "text/plain": [
       "                                                text  toxic  \\\n",
       "0  Explanation\\nWhy the edits made under my usern...      0   \n",
       "1  D'aww! He matches this background colour I'm s...      0   \n",
       "2  Hey man, I'm really not trying to edit war. It...      0   \n",
       "3  \"\\nMore\\nI can't make any real suggestions on ...      0   \n",
       "4  You, sir, are my hero. Any chance you remember...      0   \n",
       "\n",
       "                                             cleaned  \n",
       "0  Explanation Why the edits made under my userna...  \n",
       "1  D aww He matches this background colour I m se...  \n",
       "2  Hey man I m really not trying to edit war It s...  \n",
       "3  More I can t make any real suggestions on impr...  \n",
       "4  You sir are my hero Any chance you remember wh...  "
      ]
     },
     "execution_count": 19,
     "metadata": {},
     "output_type": "execute_result"
    }
   ],
   "source": [
    "data.head()"
   ]
  },
  {
   "cell_type": "code",
   "execution_count": 20,
   "metadata": {},
   "outputs": [],
   "source": [
    "data['tokenized'] = data['cleaned'].apply(lambda x: get_token(x))"
   ]
  },
  {
   "cell_type": "code",
   "execution_count": 21,
   "metadata": {},
   "outputs": [
    {
     "data": {
      "text/html": [
       "<div>\n",
       "<style scoped>\n",
       "    .dataframe tbody tr th:only-of-type {\n",
       "        vertical-align: middle;\n",
       "    }\n",
       "\n",
       "    .dataframe tbody tr th {\n",
       "        vertical-align: top;\n",
       "    }\n",
       "\n",
       "    .dataframe thead th {\n",
       "        text-align: right;\n",
       "    }\n",
       "</style>\n",
       "<table border=\"1\" class=\"dataframe\">\n",
       "  <thead>\n",
       "    <tr style=\"text-align: right;\">\n",
       "      <th></th>\n",
       "      <th>text</th>\n",
       "      <th>toxic</th>\n",
       "      <th>cleaned</th>\n",
       "      <th>tokenized</th>\n",
       "    </tr>\n",
       "  </thead>\n",
       "  <tbody>\n",
       "    <tr>\n",
       "      <td>0</td>\n",
       "      <td>Explanation\\nWhy the edits made under my usern...</td>\n",
       "      <td>0</td>\n",
       "      <td>Explanation Why the edits made under my userna...</td>\n",
       "      <td>[Explanation, Why, the, edits, made, under, my...</td>\n",
       "    </tr>\n",
       "    <tr>\n",
       "      <td>1</td>\n",
       "      <td>D'aww! He matches this background colour I'm s...</td>\n",
       "      <td>0</td>\n",
       "      <td>D aww He matches this background colour I m se...</td>\n",
       "      <td>[D, aww, He, matches, this, background, colour...</td>\n",
       "    </tr>\n",
       "    <tr>\n",
       "      <td>2</td>\n",
       "      <td>Hey man, I'm really not trying to edit war. It...</td>\n",
       "      <td>0</td>\n",
       "      <td>Hey man I m really not trying to edit war It s...</td>\n",
       "      <td>[Hey, man, I, m, really, not, trying, to, edit...</td>\n",
       "    </tr>\n",
       "    <tr>\n",
       "      <td>3</td>\n",
       "      <td>\"\\nMore\\nI can't make any real suggestions on ...</td>\n",
       "      <td>0</td>\n",
       "      <td>More I can t make any real suggestions on impr...</td>\n",
       "      <td>[More, I, can, t, make, any, real, suggestions...</td>\n",
       "    </tr>\n",
       "    <tr>\n",
       "      <td>4</td>\n",
       "      <td>You, sir, are my hero. Any chance you remember...</td>\n",
       "      <td>0</td>\n",
       "      <td>You sir are my hero Any chance you remember wh...</td>\n",
       "      <td>[You, sir, are, my, hero, Any, chance, you, re...</td>\n",
       "    </tr>\n",
       "  </tbody>\n",
       "</table>\n",
       "</div>"
      ],
      "text/plain": [
       "                                                text  toxic  \\\n",
       "0  Explanation\\nWhy the edits made under my usern...      0   \n",
       "1  D'aww! He matches this background colour I'm s...      0   \n",
       "2  Hey man, I'm really not trying to edit war. It...      0   \n",
       "3  \"\\nMore\\nI can't make any real suggestions on ...      0   \n",
       "4  You, sir, are my hero. Any chance you remember...      0   \n",
       "\n",
       "                                             cleaned  \\\n",
       "0  Explanation Why the edits made under my userna...   \n",
       "1  D aww He matches this background colour I m se...   \n",
       "2  Hey man I m really not trying to edit war It s...   \n",
       "3  More I can t make any real suggestions on impr...   \n",
       "4  You sir are my hero Any chance you remember wh...   \n",
       "\n",
       "                                           tokenized  \n",
       "0  [Explanation, Why, the, edits, made, under, my...  \n",
       "1  [D, aww, He, matches, this, background, colour...  \n",
       "2  [Hey, man, I, m, really, not, trying, to, edit...  \n",
       "3  [More, I, can, t, make, any, real, suggestions...  \n",
       "4  [You, sir, are, my, hero, Any, chance, you, re...  "
      ]
     },
     "execution_count": 21,
     "metadata": {},
     "output_type": "execute_result"
    }
   ],
   "source": [
    "data.head()"
   ]
  },
  {
   "cell_type": "code",
   "execution_count": 22,
   "metadata": {},
   "outputs": [],
   "source": [
    "data['lemmatized'] = data['tokenized'].apply(lambda x: get_lemm(x))"
   ]
  },
  {
   "cell_type": "code",
   "execution_count": 23,
   "metadata": {},
   "outputs": [
    {
     "data": {
      "text/html": [
       "<div>\n",
       "<style scoped>\n",
       "    .dataframe tbody tr th:only-of-type {\n",
       "        vertical-align: middle;\n",
       "    }\n",
       "\n",
       "    .dataframe tbody tr th {\n",
       "        vertical-align: top;\n",
       "    }\n",
       "\n",
       "    .dataframe thead th {\n",
       "        text-align: right;\n",
       "    }\n",
       "</style>\n",
       "<table border=\"1\" class=\"dataframe\">\n",
       "  <thead>\n",
       "    <tr style=\"text-align: right;\">\n",
       "      <th></th>\n",
       "      <th>text</th>\n",
       "      <th>toxic</th>\n",
       "      <th>cleaned</th>\n",
       "      <th>tokenized</th>\n",
       "      <th>lemmatized</th>\n",
       "    </tr>\n",
       "  </thead>\n",
       "  <tbody>\n",
       "    <tr>\n",
       "      <td>0</td>\n",
       "      <td>Explanation\\nWhy the edits made under my usern...</td>\n",
       "      <td>0</td>\n",
       "      <td>Explanation Why the edits made under my userna...</td>\n",
       "      <td>[Explanation, Why, the, edits, made, under, my...</td>\n",
       "      <td>Explanation Why the edit make under my usernam...</td>\n",
       "    </tr>\n",
       "    <tr>\n",
       "      <td>1</td>\n",
       "      <td>D'aww! He matches this background colour I'm s...</td>\n",
       "      <td>0</td>\n",
       "      <td>D aww He matches this background colour I m se...</td>\n",
       "      <td>[D, aww, He, matches, this, background, colour...</td>\n",
       "      <td>D aww He match this background colour I m seem...</td>\n",
       "    </tr>\n",
       "    <tr>\n",
       "      <td>2</td>\n",
       "      <td>Hey man, I'm really not trying to edit war. It...</td>\n",
       "      <td>0</td>\n",
       "      <td>Hey man I m really not trying to edit war It s...</td>\n",
       "      <td>[Hey, man, I, m, really, not, trying, to, edit...</td>\n",
       "      <td>Hey man I m really not try to edit war It s ju...</td>\n",
       "    </tr>\n",
       "    <tr>\n",
       "      <td>3</td>\n",
       "      <td>\"\\nMore\\nI can't make any real suggestions on ...</td>\n",
       "      <td>0</td>\n",
       "      <td>More I can t make any real suggestions on impr...</td>\n",
       "      <td>[More, I, can, t, make, any, real, suggestions...</td>\n",
       "      <td>More I can t make any real suggestions on impr...</td>\n",
       "    </tr>\n",
       "    <tr>\n",
       "      <td>4</td>\n",
       "      <td>You, sir, are my hero. Any chance you remember...</td>\n",
       "      <td>0</td>\n",
       "      <td>You sir are my hero Any chance you remember wh...</td>\n",
       "      <td>[You, sir, are, my, hero, Any, chance, you, re...</td>\n",
       "      <td>You sir be my hero Any chance you remember wha...</td>\n",
       "    </tr>\n",
       "  </tbody>\n",
       "</table>\n",
       "</div>"
      ],
      "text/plain": [
       "                                                text  toxic  \\\n",
       "0  Explanation\\nWhy the edits made under my usern...      0   \n",
       "1  D'aww! He matches this background colour I'm s...      0   \n",
       "2  Hey man, I'm really not trying to edit war. It...      0   \n",
       "3  \"\\nMore\\nI can't make any real suggestions on ...      0   \n",
       "4  You, sir, are my hero. Any chance you remember...      0   \n",
       "\n",
       "                                             cleaned  \\\n",
       "0  Explanation Why the edits made under my userna...   \n",
       "1  D aww He matches this background colour I m se...   \n",
       "2  Hey man I m really not trying to edit war It s...   \n",
       "3  More I can t make any real suggestions on impr...   \n",
       "4  You sir are my hero Any chance you remember wh...   \n",
       "\n",
       "                                           tokenized  \\\n",
       "0  [Explanation, Why, the, edits, made, under, my...   \n",
       "1  [D, aww, He, matches, this, background, colour...   \n",
       "2  [Hey, man, I, m, really, not, trying, to, edit...   \n",
       "3  [More, I, can, t, make, any, real, suggestions...   \n",
       "4  [You, sir, are, my, hero, Any, chance, you, re...   \n",
       "\n",
       "                                          lemmatized  \n",
       "0  Explanation Why the edit make under my usernam...  \n",
       "1  D aww He match this background colour I m seem...  \n",
       "2  Hey man I m really not try to edit war It s ju...  \n",
       "3  More I can t make any real suggestions on impr...  \n",
       "4  You sir be my hero Any chance you remember wha...  "
      ]
     },
     "execution_count": 23,
     "metadata": {},
     "output_type": "execute_result"
    }
   ],
   "source": [
    "data.head()"
   ]
  },
  {
   "cell_type": "code",
   "execution_count": 24,
   "metadata": {},
   "outputs": [],
   "source": [
    "data['pure_cleaned'] = data['cleaned'].apply(lambda x: removes_stopwords(x))"
   ]
  },
  {
   "cell_type": "code",
   "execution_count": 25,
   "metadata": {
    "scrolled": true
   },
   "outputs": [
    {
     "data": {
      "text/html": [
       "<div>\n",
       "<style scoped>\n",
       "    .dataframe tbody tr th:only-of-type {\n",
       "        vertical-align: middle;\n",
       "    }\n",
       "\n",
       "    .dataframe tbody tr th {\n",
       "        vertical-align: top;\n",
       "    }\n",
       "\n",
       "    .dataframe thead th {\n",
       "        text-align: right;\n",
       "    }\n",
       "</style>\n",
       "<table border=\"1\" class=\"dataframe\">\n",
       "  <thead>\n",
       "    <tr style=\"text-align: right;\">\n",
       "      <th></th>\n",
       "      <th>text</th>\n",
       "      <th>toxic</th>\n",
       "      <th>cleaned</th>\n",
       "      <th>tokenized</th>\n",
       "      <th>lemmatized</th>\n",
       "      <th>pure_cleaned</th>\n",
       "    </tr>\n",
       "  </thead>\n",
       "  <tbody>\n",
       "    <tr>\n",
       "      <td>0</td>\n",
       "      <td>Explanation\\nWhy the edits made under my usern...</td>\n",
       "      <td>0</td>\n",
       "      <td>Explanation Why the edits made under my userna...</td>\n",
       "      <td>[Explanation, Why, the, edits, made, under, my...</td>\n",
       "      <td>Explanation Why the edit make under my usernam...</td>\n",
       "      <td>Explanation Why edits made username Hardcore M...</td>\n",
       "    </tr>\n",
       "    <tr>\n",
       "      <td>1</td>\n",
       "      <td>D'aww! He matches this background colour I'm s...</td>\n",
       "      <td>0</td>\n",
       "      <td>D aww He matches this background colour I m se...</td>\n",
       "      <td>[D, aww, He, matches, this, background, colour...</td>\n",
       "      <td>D aww He match this background colour I m seem...</td>\n",
       "      <td>D aww He matches background colour I seemingly...</td>\n",
       "    </tr>\n",
       "    <tr>\n",
       "      <td>2</td>\n",
       "      <td>Hey man, I'm really not trying to edit war. It...</td>\n",
       "      <td>0</td>\n",
       "      <td>Hey man I m really not trying to edit war It s...</td>\n",
       "      <td>[Hey, man, I, m, really, not, trying, to, edit...</td>\n",
       "      <td>Hey man I m really not try to edit war It s ju...</td>\n",
       "      <td>Hey man I really trying edit war It guy consta...</td>\n",
       "    </tr>\n",
       "    <tr>\n",
       "      <td>3</td>\n",
       "      <td>\"\\nMore\\nI can't make any real suggestions on ...</td>\n",
       "      <td>0</td>\n",
       "      <td>More I can t make any real suggestions on impr...</td>\n",
       "      <td>[More, I, can, t, make, any, real, suggestions...</td>\n",
       "      <td>More I can t make any real suggestions on impr...</td>\n",
       "      <td>More I make real suggestions improvement I won...</td>\n",
       "    </tr>\n",
       "    <tr>\n",
       "      <td>4</td>\n",
       "      <td>You, sir, are my hero. Any chance you remember...</td>\n",
       "      <td>0</td>\n",
       "      <td>You sir are my hero Any chance you remember wh...</td>\n",
       "      <td>[You, sir, are, my, hero, Any, chance, you, re...</td>\n",
       "      <td>You sir be my hero Any chance you remember wha...</td>\n",
       "      <td>You sir hero Any chance remember page</td>\n",
       "    </tr>\n",
       "  </tbody>\n",
       "</table>\n",
       "</div>"
      ],
      "text/plain": [
       "                                                text  toxic  \\\n",
       "0  Explanation\\nWhy the edits made under my usern...      0   \n",
       "1  D'aww! He matches this background colour I'm s...      0   \n",
       "2  Hey man, I'm really not trying to edit war. It...      0   \n",
       "3  \"\\nMore\\nI can't make any real suggestions on ...      0   \n",
       "4  You, sir, are my hero. Any chance you remember...      0   \n",
       "\n",
       "                                             cleaned  \\\n",
       "0  Explanation Why the edits made under my userna...   \n",
       "1  D aww He matches this background colour I m se...   \n",
       "2  Hey man I m really not trying to edit war It s...   \n",
       "3  More I can t make any real suggestions on impr...   \n",
       "4  You sir are my hero Any chance you remember wh...   \n",
       "\n",
       "                                           tokenized  \\\n",
       "0  [Explanation, Why, the, edits, made, under, my...   \n",
       "1  [D, aww, He, matches, this, background, colour...   \n",
       "2  [Hey, man, I, m, really, not, trying, to, edit...   \n",
       "3  [More, I, can, t, make, any, real, suggestions...   \n",
       "4  [You, sir, are, my, hero, Any, chance, you, re...   \n",
       "\n",
       "                                          lemmatized  \\\n",
       "0  Explanation Why the edit make under my usernam...   \n",
       "1  D aww He match this background colour I m seem...   \n",
       "2  Hey man I m really not try to edit war It s ju...   \n",
       "3  More I can t make any real suggestions on impr...   \n",
       "4  You sir be my hero Any chance you remember wha...   \n",
       "\n",
       "                                        pure_cleaned  \n",
       "0  Explanation Why edits made username Hardcore M...  \n",
       "1  D aww He matches background colour I seemingly...  \n",
       "2  Hey man I really trying edit war It guy consta...  \n",
       "3  More I make real suggestions improvement I won...  \n",
       "4              You sir hero Any chance remember page  "
      ]
     },
     "execution_count": 25,
     "metadata": {},
     "output_type": "execute_result"
    }
   ],
   "source": [
    "data.head()"
   ]
  },
  {
   "cell_type": "markdown",
   "metadata": {},
   "source": [
    "<a id='Вывод_2'></a>"
   ]
  },
  {
   "cell_type": "markdown",
   "metadata": {},
   "source": [
    "### <p style=\"text-align:center\"> Вывод</p>"
   ]
  },
  {
   "cell_type": "markdown",
   "metadata": {},
   "source": [
    "##### В ходе подготовки данных были сделаны следующие шаги:\n",
    "\n",
    "___\n",
    "\n",
    "\n",
    "1. Создано несколько функций для создания дополнительных признаков.\n",
    "\n",
    "\n",
    "2. Функции успешно применены.\n",
    "___\n",
    "\n",
    "Таким образом была выполнена подготовка данных. Можно переходить к обучению моделей."
   ]
  },
  {
   "cell_type": "markdown",
   "metadata": {},
   "source": [
    " ## Часть 3. Обучение моделей"
   ]
  },
  {
   "cell_type": "markdown",
   "metadata": {},
   "source": [
    "<a id='Подготовительные мероприятия'></a>"
   ]
  },
  {
   "cell_type": "markdown",
   "metadata": {},
   "source": [
    "### <p style=\"text-align:center\"> Подготовительные мероприятия </p>"
   ]
  },
  {
   "cell_type": "code",
   "execution_count": 26,
   "metadata": {},
   "outputs": [],
   "source": [
    "train, test = train_test_split(data, test_size=0.3, random_state=42)"
   ]
  },
  {
   "cell_type": "markdown",
   "metadata": {},
   "source": [
    "Создадим несколько моделей и TfidfVectorizer."
   ]
  },
  {
   "cell_type": "code",
   "execution_count": 27,
   "metadata": {},
   "outputs": [],
   "source": [
    "log_reg = LogisticRegression(class_weight='balanced', C=100)\n",
    "lgbm_clf = lgb.LGBMClassifier(boosting_type='gbdt', objective='binary', num_iterations=100)\n",
    "sgd = SGDClassifier()"
   ]
  },
  {
   "cell_type": "code",
   "execution_count": 28,
   "metadata": {},
   "outputs": [],
   "source": [
    "count_tf_idf = TfidfVectorizer()"
   ]
  },
  {
   "cell_type": "code",
   "execution_count": 29,
   "metadata": {},
   "outputs": [],
   "source": [
    "result_list = []\n",
    "\n",
    "def calculate_metric(model_name):\n",
    "    \n",
    "    ''' Function calculates target metric and saves the results in pre-created result_list.'''\n",
    "    \n",
    "    features = ['cleaned', 'tokenized', 'lemmatized', 'pure_cleaned']\n",
    "    \n",
    "    for feature in features:\n",
    "        X_train = train[feature]\n",
    "        y_train = train['toxic']\n",
    "        X_test = test[feature]\n",
    "        y_test = test['toxic']\n",
    "    \n",
    "        train_corpus = X_train.astype('U')\n",
    "        tfidf = count_tf_idf.fit_transform(train_corpus) \n",
    "        corpus_test = X_test.astype('U')\n",
    "        tfidf_test = count_tf_idf.transform(corpus_test)\n",
    "        \n",
    "        model_name.fit(tfidf, y_train)     \n",
    "        predictions = model_name.predict(tfidf_test)\n",
    "        result_list.append({\n",
    "            'model': str(model_name),\n",
    "            'feature': feature,\n",
    "            'f1_score': f1_score(y_test, predictions),\n",
    "        })"
   ]
  },
  {
   "cell_type": "markdown",
   "metadata": {},
   "source": [
    "<a id='Обучение моделей'></a>"
   ]
  },
  {
   "cell_type": "markdown",
   "metadata": {},
   "source": [
    "### <p style=\"text-align:center\"> Обучение моделей </p>"
   ]
  },
  {
   "cell_type": "code",
   "execution_count": 30,
   "metadata": {},
   "outputs": [
    {
     "name": "stdout",
     "output_type": "stream",
     "text": [
      "Время обучения логистической регрессии - 201.29 секунд.\n"
     ]
    }
   ],
   "source": [
    "start = timeit.default_timer()\n",
    "\n",
    "calculate_metric(log_reg)\n",
    "\n",
    "stop = timeit.default_timer()\n",
    "print(f'Время обучения логистической регрессии - {(stop-start):.2f} секунд.')"
   ]
  },
  {
   "cell_type": "code",
   "execution_count": 31,
   "metadata": {},
   "outputs": [
    {
     "name": "stdout",
     "output_type": "stream",
     "text": [
      "Время обучения Light Gradient Boosting Machine - 685.47 секунд.\n"
     ]
    }
   ],
   "source": [
    "start = timeit.default_timer()\n",
    "\n",
    "calculate_metric(lgbm_clf)\n",
    "\n",
    "stop = timeit.default_timer()\n",
    "print(f'Время обучения Light Gradient Boosting Machine - {(stop-start):.2f} секунд.')"
   ]
  },
  {
   "cell_type": "code",
   "execution_count": 32,
   "metadata": {},
   "outputs": [
    {
     "name": "stdout",
     "output_type": "stream",
     "text": [
      "Время обучения Stochastic Gradient Descent  - 30.10 секунд.\n"
     ]
    }
   ],
   "source": [
    "start = timeit.default_timer()\n",
    "\n",
    "calculate_metric(sgd)\n",
    "\n",
    "stop = timeit.default_timer()\n",
    "print(f'Время обучения Stochastic Gradient Descent  - {(stop-start):.2f} секунд.')"
   ]
  },
  {
   "cell_type": "code",
   "execution_count": 33,
   "metadata": {},
   "outputs": [
    {
     "data": {
      "text/html": [
       "<div>\n",
       "<style scoped>\n",
       "    .dataframe tbody tr th:only-of-type {\n",
       "        vertical-align: middle;\n",
       "    }\n",
       "\n",
       "    .dataframe tbody tr th {\n",
       "        vertical-align: top;\n",
       "    }\n",
       "\n",
       "    .dataframe thead th {\n",
       "        text-align: right;\n",
       "    }\n",
       "</style>\n",
       "<table border=\"1\" class=\"dataframe\">\n",
       "  <thead>\n",
       "    <tr style=\"text-align: right;\">\n",
       "      <th></th>\n",
       "      <th>model</th>\n",
       "      <th>feature</th>\n",
       "      <th>f1_score</th>\n",
       "    </tr>\n",
       "  </thead>\n",
       "  <tbody>\n",
       "    <tr>\n",
       "      <td>0</td>\n",
       "      <td>LogisticRegression(C=100, class_weight='balanc...</td>\n",
       "      <td>cleaned</td>\n",
       "      <td>0.770487</td>\n",
       "    </tr>\n",
       "    <tr>\n",
       "      <td>1</td>\n",
       "      <td>LogisticRegression(C=100, class_weight='balanc...</td>\n",
       "      <td>tokenized</td>\n",
       "      <td>0.770487</td>\n",
       "    </tr>\n",
       "    <tr>\n",
       "      <td>2</td>\n",
       "      <td>LogisticRegression(C=100, class_weight='balanc...</td>\n",
       "      <td>lemmatized</td>\n",
       "      <td>0.765627</td>\n",
       "    </tr>\n",
       "    <tr>\n",
       "      <td>3</td>\n",
       "      <td>LogisticRegression(C=100, class_weight='balanc...</td>\n",
       "      <td>pure_cleaned</td>\n",
       "      <td>0.767854</td>\n",
       "    </tr>\n",
       "    <tr>\n",
       "      <td>4</td>\n",
       "      <td>LGBMClassifier(boosting_type='gbdt', class_wei...</td>\n",
       "      <td>cleaned</td>\n",
       "      <td>0.757338</td>\n",
       "    </tr>\n",
       "    <tr>\n",
       "      <td>5</td>\n",
       "      <td>LGBMClassifier(boosting_type='gbdt', class_wei...</td>\n",
       "      <td>tokenized</td>\n",
       "      <td>0.757338</td>\n",
       "    </tr>\n",
       "    <tr>\n",
       "      <td>6</td>\n",
       "      <td>LGBMClassifier(boosting_type='gbdt', class_wei...</td>\n",
       "      <td>lemmatized</td>\n",
       "      <td>0.757174</td>\n",
       "    </tr>\n",
       "    <tr>\n",
       "      <td>7</td>\n",
       "      <td>LGBMClassifier(boosting_type='gbdt', class_wei...</td>\n",
       "      <td>pure_cleaned</td>\n",
       "      <td>0.748792</td>\n",
       "    </tr>\n",
       "    <tr>\n",
       "      <td>8</td>\n",
       "      <td>SGDClassifier(alpha=0.0001, average=False, cla...</td>\n",
       "      <td>cleaned</td>\n",
       "      <td>0.617099</td>\n",
       "    </tr>\n",
       "    <tr>\n",
       "      <td>9</td>\n",
       "      <td>SGDClassifier(alpha=0.0001, average=False, cla...</td>\n",
       "      <td>tokenized</td>\n",
       "      <td>0.619932</td>\n",
       "    </tr>\n",
       "    <tr>\n",
       "      <td>10</td>\n",
       "      <td>SGDClassifier(alpha=0.0001, average=False, cla...</td>\n",
       "      <td>lemmatized</td>\n",
       "      <td>0.626974</td>\n",
       "    </tr>\n",
       "    <tr>\n",
       "      <td>11</td>\n",
       "      <td>SGDClassifier(alpha=0.0001, average=False, cla...</td>\n",
       "      <td>pure_cleaned</td>\n",
       "      <td>0.618586</td>\n",
       "    </tr>\n",
       "  </tbody>\n",
       "</table>\n",
       "</div>"
      ],
      "text/plain": [
       "                                                model       feature  f1_score\n",
       "0   LogisticRegression(C=100, class_weight='balanc...       cleaned  0.770487\n",
       "1   LogisticRegression(C=100, class_weight='balanc...     tokenized  0.770487\n",
       "2   LogisticRegression(C=100, class_weight='balanc...    lemmatized  0.765627\n",
       "3   LogisticRegression(C=100, class_weight='balanc...  pure_cleaned  0.767854\n",
       "4   LGBMClassifier(boosting_type='gbdt', class_wei...       cleaned  0.757338\n",
       "5   LGBMClassifier(boosting_type='gbdt', class_wei...     tokenized  0.757338\n",
       "6   LGBMClassifier(boosting_type='gbdt', class_wei...    lemmatized  0.757174\n",
       "7   LGBMClassifier(boosting_type='gbdt', class_wei...  pure_cleaned  0.748792\n",
       "8   SGDClassifier(alpha=0.0001, average=False, cla...       cleaned  0.617099\n",
       "9   SGDClassifier(alpha=0.0001, average=False, cla...     tokenized  0.619932\n",
       "10  SGDClassifier(alpha=0.0001, average=False, cla...    lemmatized  0.626974\n",
       "11  SGDClassifier(alpha=0.0001, average=False, cla...  pure_cleaned  0.618586"
      ]
     },
     "execution_count": 33,
     "metadata": {},
     "output_type": "execute_result"
    }
   ],
   "source": [
    "results = pd.DataFrame(result_list, columns=['model', 'feature', 'f1_score'])\n",
    "results"
   ]
  },
  {
   "cell_type": "markdown",
   "metadata": {},
   "source": [
    "<a id='Вывод_3'></a>"
   ]
  },
  {
   "cell_type": "markdown",
   "metadata": {},
   "source": [
    "### <p style=\"text-align:center\"> Вывод</p>"
   ]
  },
  {
   "cell_type": "markdown",
   "metadata": {},
   "source": [
    "##### В ходе первичного анализа данных были  сделаны следующие выводы:\n",
    "\n",
    "___\n",
    "\n",
    "\n",
    "1. Обучены модели LogisticRegression, LGBMClassifier и SGDClassifier.\n",
    "\n",
    "\n",
    "2. Наилучшей моделью показала себя модель LogisticRegression, модель LGBMClassifier имеет пространство для улучшения с практически одинаковым с предыдущей моделью результатом. SGDClassifier не прошел порог качества.\n",
    "___\n",
    "\n",
    "Таким образом было выполнено обучение моделей на основе предоставленной информации, LogisticRegression и LGBMClassifier прошли проверку качества и могут быть как улучшены, так и использованы в бизнес-целях."
   ]
  }
 ],
 "metadata": {
  "ExecuteTimeLog": [
   {
    "duration": 1372,
    "start_time": "2021-06-24T10:17:03.685Z"
   },
   {
    "duration": 182,
    "start_time": "2021-06-24T10:17:05.059Z"
   },
   {
    "duration": 3,
    "start_time": "2021-06-24T10:17:05.244Z"
   },
   {
    "duration": 702,
    "start_time": "2021-06-24T10:17:37.210Z"
   },
   {
    "duration": 15,
    "start_time": "2021-06-24T10:17:45.828Z"
   },
   {
    "duration": 16,
    "start_time": "2021-06-24T10:18:55.817Z"
   },
   {
    "duration": 11,
    "start_time": "2021-06-24T10:19:06.698Z"
   },
   {
    "duration": 35,
    "start_time": "2021-06-24T10:19:08.254Z"
   },
   {
    "duration": 31,
    "start_time": "2021-06-24T10:19:09.740Z"
   },
   {
    "duration": 4,
    "start_time": "2021-06-24T11:05:09.558Z"
   },
   {
    "duration": 4,
    "start_time": "2021-06-24T11:05:09.753Z"
   },
   {
    "duration": 707,
    "start_time": "2021-06-24T11:05:55.245Z"
   },
   {
    "duration": 3881,
    "start_time": "2021-06-24T11:06:34.473Z"
   },
   {
    "duration": 936,
    "start_time": "2021-06-24T11:06:43.223Z"
   },
   {
    "duration": 584,
    "start_time": "2021-06-24T11:06:54.673Z"
   },
   {
    "duration": 615,
    "start_time": "2021-06-24T11:07:00.078Z"
   },
   {
    "duration": 596,
    "start_time": "2021-06-24T11:07:05.459Z"
   },
   {
    "duration": 1094,
    "start_time": "2021-06-24T11:07:58.610Z"
   },
   {
    "duration": 102668,
    "start_time": "2021-06-24T11:08:06.357Z"
   },
   {
    "duration": 64,
    "start_time": "2021-06-24T11:11:33.424Z"
   },
   {
    "duration": 4,
    "start_time": "2021-06-24T11:11:34.683Z"
   },
   {
    "duration": 4,
    "start_time": "2021-06-24T11:11:34.921Z"
   },
   {
    "duration": 274,
    "start_time": "2021-06-24T11:11:48.361Z"
   },
   {
    "duration": 598,
    "start_time": "2021-06-24T11:12:09.806Z"
   },
   {
    "duration": 893,
    "start_time": "2021-06-24T11:12:27.450Z"
   },
   {
    "duration": 6,
    "start_time": "2021-06-24T11:12:36.599Z"
   },
   {
    "duration": 4,
    "start_time": "2021-06-24T11:12:36.807Z"
   },
   {
    "duration": 4,
    "start_time": "2021-06-24T11:12:36.985Z"
   },
   {
    "duration": 699,
    "start_time": "2021-06-24T11:12:37.373Z"
   },
   {
    "duration": 20,
    "start_time": "2021-06-24T11:12:38.074Z"
   },
   {
    "duration": 16,
    "start_time": "2021-06-24T11:12:38.321Z"
   },
   {
    "duration": 10,
    "start_time": "2021-06-24T11:12:38.734Z"
   },
   {
    "duration": 30,
    "start_time": "2021-06-24T11:12:39.090Z"
   },
   {
    "duration": 22,
    "start_time": "2021-06-24T11:12:39.329Z"
   },
   {
    "duration": 4,
    "start_time": "2021-06-24T11:12:53.671Z"
   },
   {
    "duration": 765,
    "start_time": "2021-06-24T11:13:29.732Z"
   },
   {
    "duration": 8801,
    "start_time": "2021-06-24T11:13:48.603Z"
   },
   {
    "duration": 11,
    "start_time": "2021-06-24T11:14:03.390Z"
   },
   {
    "duration": 6,
    "start_time": "2021-06-24T11:15:35.485Z"
   },
   {
    "duration": 9,
    "start_time": "2021-06-24T11:15:38.623Z"
   },
   {
    "duration": 5,
    "start_time": "2021-06-24T11:15:56.340Z"
   },
   {
    "duration": 5,
    "start_time": "2021-06-24T11:15:56.561Z"
   },
   {
    "duration": 4,
    "start_time": "2021-06-24T11:15:56.768Z"
   },
   {
    "duration": 5,
    "start_time": "2021-06-24T11:15:56.986Z"
   },
   {
    "duration": 4,
    "start_time": "2021-06-24T11:15:57.332Z"
   },
   {
    "duration": 10,
    "start_time": "2021-06-24T11:16:01.605Z"
   },
   {
    "duration": 5,
    "start_time": "2021-06-24T11:16:22.002Z"
   },
   {
    "duration": 4,
    "start_time": "2021-06-24T11:16:22.215Z"
   },
   {
    "duration": 5,
    "start_time": "2021-06-24T11:16:24.543Z"
   },
   {
    "duration": 10,
    "start_time": "2021-06-24T11:16:27.645Z"
   },
   {
    "duration": 5,
    "start_time": "2021-06-24T11:16:32.770Z"
   },
   {
    "duration": 4,
    "start_time": "2021-06-24T11:16:33.019Z"
   },
   {
    "duration": 4,
    "start_time": "2021-06-24T11:16:33.225Z"
   },
   {
    "duration": 707,
    "start_time": "2021-06-24T11:16:33.601Z"
   },
   {
    "duration": 9,
    "start_time": "2021-06-24T11:16:34.311Z"
   },
   {
    "duration": 17,
    "start_time": "2021-06-24T11:16:34.515Z"
   },
   {
    "duration": 10,
    "start_time": "2021-06-24T11:16:34.886Z"
   },
   {
    "duration": 31,
    "start_time": "2021-06-24T11:16:36.187Z"
   },
   {
    "duration": 20,
    "start_time": "2021-06-24T11:16:36.221Z"
   },
   {
    "duration": 5,
    "start_time": "2021-06-24T11:16:38.122Z"
   },
   {
    "duration": 5,
    "start_time": "2021-06-24T11:16:40.412Z"
   },
   {
    "duration": 4,
    "start_time": "2021-06-24T11:16:40.599Z"
   },
   {
    "duration": 8940,
    "start_time": "2021-06-24T11:16:42.158Z"
   },
   {
    "duration": 12,
    "start_time": "2021-06-24T11:16:52.159Z"
   },
   {
    "duration": 5,
    "start_time": "2021-06-24T11:17:19.327Z"
   },
   {
    "duration": 9,
    "start_time": "2021-06-24T11:17:19.783Z"
   },
   {
    "duration": 4,
    "start_time": "2021-06-24T11:17:25.196Z"
   },
   {
    "duration": 10,
    "start_time": "2021-06-24T11:17:27.200Z"
   },
   {
    "duration": 9,
    "start_time": "2021-06-24T11:17:29.417Z"
   },
   {
    "duration": 744,
    "start_time": "2021-06-24T11:17:38.959Z"
   },
   {
    "duration": 5,
    "start_time": "2021-06-24T11:17:43.485Z"
   },
   {
    "duration": 11,
    "start_time": "2021-06-24T11:17:45.114Z"
   },
   {
    "duration": 1115,
    "start_time": "2021-06-24T11:19:30.082Z"
   },
   {
    "duration": -194,
    "start_time": "2021-06-24T11:19:31.393Z"
   },
   {
    "duration": 5,
    "start_time": "2021-06-24T11:19:42.252Z"
   },
   {
    "duration": 10,
    "start_time": "2021-06-24T11:19:42.744Z"
   },
   {
    "duration": 7122,
    "start_time": "2021-06-24T11:19:49.665Z"
   },
   {
    "duration": 10,
    "start_time": "2021-06-24T11:20:07.121Z"
   },
   {
    "duration": 704,
    "start_time": "2021-06-24T11:20:14.227Z"
   },
   {
    "duration": 4,
    "start_time": "2021-06-24T11:20:17.545Z"
   },
   {
    "duration": 4,
    "start_time": "2021-06-24T11:20:17.848Z"
   },
   {
    "duration": 4,
    "start_time": "2021-06-24T11:20:18.319Z"
   },
   {
    "duration": 9900,
    "start_time": "2021-06-24T11:20:18.557Z"
   },
   {
    "duration": 10,
    "start_time": "2021-06-24T11:20:28.460Z"
   },
   {
    "duration": 4,
    "start_time": "2021-06-24T11:21:56.538Z"
   },
   {
    "duration": 9092,
    "start_time": "2021-06-24T11:21:57.525Z"
   },
   {
    "duration": 6,
    "start_time": "2021-06-24T11:22:06.620Z"
   },
   {
    "duration": 17,
    "start_time": "2021-06-24T11:22:06.629Z"
   },
   {
    "duration": 897,
    "start_time": "2021-06-24T11:52:07.846Z"
   },
   {
    "duration": 5,
    "start_time": "2021-06-24T11:52:13.004Z"
   },
   {
    "duration": 9674,
    "start_time": "2021-06-24T11:52:15.327Z"
   },
   {
    "duration": 6,
    "start_time": "2021-06-24T11:52:32.592Z"
   },
   {
    "duration": 10,
    "start_time": "2021-06-24T11:52:34.414Z"
   },
   {
    "duration": 751,
    "start_time": "2021-06-24T11:53:01.640Z"
   },
   {
    "duration": 4,
    "start_time": "2021-06-24T11:53:06.575Z"
   },
   {
    "duration": 5,
    "start_time": "2021-06-24T11:53:07.519Z"
   },
   {
    "duration": 3,
    "start_time": "2021-06-24T11:53:09.214Z"
   },
   {
    "duration": 918,
    "start_time": "2021-06-24T11:53:16.781Z"
   },
   {
    "duration": 6,
    "start_time": "2021-06-24T11:53:20.448Z"
   },
   {
    "duration": 10,
    "start_time": "2021-06-24T11:53:20.831Z"
   },
   {
    "duration": 5,
    "start_time": "2021-06-24T12:55:33.951Z"
   },
   {
    "duration": 4,
    "start_time": "2021-06-24T12:55:34.142Z"
   },
   {
    "duration": 4,
    "start_time": "2021-06-24T12:55:34.323Z"
   },
   {
    "duration": 733,
    "start_time": "2021-06-24T12:55:34.795Z"
   },
   {
    "duration": 10,
    "start_time": "2021-06-24T12:55:35.530Z"
   },
   {
    "duration": 17,
    "start_time": "2021-06-24T12:55:36.784Z"
   },
   {
    "duration": 10,
    "start_time": "2021-06-24T12:55:37.270Z"
   },
   {
    "duration": 39,
    "start_time": "2021-06-24T12:55:37.451Z"
   },
   {
    "duration": 22,
    "start_time": "2021-06-24T12:55:37.636Z"
   },
   {
    "duration": 27,
    "start_time": "2021-06-24T12:55:38.870Z"
   },
   {
    "duration": 4,
    "start_time": "2021-06-24T12:55:40.832Z"
   },
   {
    "duration": 97693,
    "start_time": "2021-06-24T12:55:41.224Z"
   },
   {
    "duration": 5,
    "start_time": "2021-06-24T12:57:53.375Z"
   },
   {
    "duration": 4,
    "start_time": "2021-06-24T12:58:09.434Z"
   },
   {
    "duration": 895,
    "start_time": "2021-06-24T12:58:19.042Z"
   },
   {
    "duration": 12,
    "start_time": "2021-06-24T12:58:27.702Z"
   },
   {
    "duration": 28,
    "start_time": "2021-06-24T12:59:20.211Z"
   },
   {
    "duration": 728,
    "start_time": "2021-06-24T12:59:31.243Z"
   },
   {
    "duration": 5,
    "start_time": "2021-06-24T12:59:35.437Z"
   },
   {
    "duration": 149639,
    "start_time": "2021-06-24T12:59:35.626Z"
   },
   {
    "duration": 11,
    "start_time": "2021-06-24T13:02:11.062Z"
   },
   {
    "duration": 5,
    "start_time": "2021-06-24T13:03:28.200Z"
   },
   {
    "duration": 4,
    "start_time": "2021-06-24T13:03:28.428Z"
   },
   {
    "duration": 4,
    "start_time": "2021-06-24T13:03:28.643Z"
   },
   {
    "duration": 705,
    "start_time": "2021-06-24T13:03:29.096Z"
   },
   {
    "duration": 12,
    "start_time": "2021-06-24T13:03:29.804Z"
   },
   {
    "duration": 19,
    "start_time": "2021-06-24T13:03:30.665Z"
   },
   {
    "duration": 12,
    "start_time": "2021-06-24T13:03:32.000Z"
   },
   {
    "duration": 32,
    "start_time": "2021-06-24T13:03:32.255Z"
   },
   {
    "duration": 21,
    "start_time": "2021-06-24T13:03:32.477Z"
   },
   {
    "duration": 28,
    "start_time": "2021-06-24T13:03:34.311Z"
   },
   {
    "duration": 149247,
    "start_time": "2021-06-24T13:03:34.851Z"
   },
   {
    "duration": 5,
    "start_time": "2021-06-24T13:16:25.284Z"
   },
   {
    "duration": 4,
    "start_time": "2021-06-24T13:16:44.750Z"
   },
   {
    "duration": 197,
    "start_time": "2021-06-24T13:16:56.129Z"
   },
   {
    "duration": 1674,
    "start_time": "2021-06-24T13:18:19.470Z"
   },
   {
    "duration": 4,
    "start_time": "2021-06-24T13:18:21.146Z"
   },
   {
    "duration": 9,
    "start_time": "2021-06-24T13:18:21.152Z"
   },
   {
    "duration": 765,
    "start_time": "2021-06-24T13:18:29.474Z"
   },
   {
    "duration": 17,
    "start_time": "2021-06-24T13:18:30.242Z"
   },
   {
    "duration": 16,
    "start_time": "2021-06-24T13:18:38.525Z"
   },
   {
    "duration": 10,
    "start_time": "2021-06-24T13:18:41.045Z"
   },
   {
    "duration": 32,
    "start_time": "2021-06-24T13:18:46.189Z"
   },
   {
    "duration": 22,
    "start_time": "2021-06-24T13:18:48.810Z"
   },
   {
    "duration": 421,
    "start_time": "2021-06-24T13:18:56.565Z"
   },
   {
    "duration": 4,
    "start_time": "2021-06-24T13:18:59.445Z"
   },
   {
    "duration": 149924,
    "start_time": "2021-06-24T13:18:59.651Z"
   },
   {
    "duration": 2647,
    "start_time": "2021-06-24T13:21:29.585Z"
   },
   {
    "duration": 4,
    "start_time": "2021-06-24T13:23:02.118Z"
   },
   {
    "duration": 61,
    "start_time": "2021-06-24T13:24:07.224Z"
   },
   {
    "duration": 4,
    "start_time": "2021-06-24T13:24:52.646Z"
   },
   {
    "duration": 34,
    "start_time": "2021-06-24T13:25:29.592Z"
   },
   {
    "duration": 322,
    "start_time": "2021-06-24T13:26:18.480Z"
   },
   {
    "duration": 1758,
    "start_time": "2021-06-24T13:26:29.387Z"
   },
   {
    "duration": 4,
    "start_time": "2021-06-24T13:26:31.147Z"
   },
   {
    "duration": 24,
    "start_time": "2021-06-24T13:26:31.154Z"
   },
   {
    "duration": 768,
    "start_time": "2021-06-24T13:26:31.181Z"
   },
   {
    "duration": 14,
    "start_time": "2021-06-24T13:26:31.952Z"
   },
   {
    "duration": 16,
    "start_time": "2021-06-24T13:26:31.984Z"
   },
   {
    "duration": 16,
    "start_time": "2021-06-24T13:26:32.003Z"
   },
   {
    "duration": 61,
    "start_time": "2021-06-24T13:26:32.023Z"
   },
   {
    "duration": 24,
    "start_time": "2021-06-24T13:26:32.087Z"
   },
   {
    "duration": 5,
    "start_time": "2021-06-24T13:26:32.132Z"
   },
   {
    "duration": 150676,
    "start_time": "2021-06-24T13:26:32.289Z"
   },
   {
    "duration": 2694,
    "start_time": "2021-06-24T13:29:02.968Z"
   },
   {
    "duration": 1665,
    "start_time": "2021-06-24T13:37:49.735Z"
   },
   {
    "duration": 3,
    "start_time": "2021-06-24T13:37:51.403Z"
   },
   {
    "duration": 7,
    "start_time": "2021-06-24T13:37:51.409Z"
   },
   {
    "duration": 726,
    "start_time": "2021-06-24T13:37:51.418Z"
   },
   {
    "duration": 14,
    "start_time": "2021-06-24T13:37:52.147Z"
   },
   {
    "duration": 16,
    "start_time": "2021-06-24T13:37:52.959Z"
   },
   {
    "duration": 10,
    "start_time": "2021-06-24T13:37:53.357Z"
   },
   {
    "duration": 32,
    "start_time": "2021-06-24T13:37:53.687Z"
   },
   {
    "duration": 23,
    "start_time": "2021-06-24T13:37:53.972Z"
   },
   {
    "duration": 4,
    "start_time": "2021-06-24T13:37:55.069Z"
   },
   {
    "duration": 149987,
    "start_time": "2021-06-24T13:37:55.287Z"
   },
   {
    "duration": 2738,
    "start_time": "2021-06-24T13:40:25.277Z"
   },
   {
    "duration": 399,
    "start_time": "2021-06-24T13:41:40.915Z"
   },
   {
    "duration": 1232,
    "start_time": "2021-06-24T17:19:16.702Z"
   },
   {
    "duration": 3,
    "start_time": "2021-06-24T17:19:19.498Z"
   },
   {
    "duration": 3,
    "start_time": "2021-06-24T17:19:19.771Z"
   },
   {
    "duration": 628,
    "start_time": "2021-06-24T17:19:21.861Z"
   },
   {
    "duration": 10,
    "start_time": "2021-06-24T17:19:22.751Z"
   },
   {
    "duration": 12,
    "start_time": "2021-06-24T17:19:24.903Z"
   },
   {
    "duration": 7,
    "start_time": "2021-06-24T17:19:25.352Z"
   },
   {
    "duration": 28,
    "start_time": "2021-06-24T17:19:25.774Z"
   },
   {
    "duration": 17,
    "start_time": "2021-06-24T17:19:25.804Z"
   },
   {
    "duration": 4,
    "start_time": "2021-06-24T17:19:27.172Z"
   },
   {
    "duration": 97258,
    "start_time": "2021-06-24T17:19:32.068Z"
   },
   {
    "duration": 2069,
    "start_time": "2021-06-24T17:21:09.327Z"
   },
   {
    "duration": 1287,
    "start_time": "2021-06-24T17:43:23.792Z"
   },
   {
    "duration": 4,
    "start_time": "2021-06-24T17:43:25.081Z"
   },
   {
    "duration": 5,
    "start_time": "2021-06-24T17:43:25.087Z"
   },
   {
    "duration": 679,
    "start_time": "2021-06-24T17:43:25.095Z"
   },
   {
    "duration": 17,
    "start_time": "2021-06-24T17:43:25.776Z"
   },
   {
    "duration": 16,
    "start_time": "2021-06-24T17:43:25.796Z"
   },
   {
    "duration": 15,
    "start_time": "2021-06-24T17:43:25.884Z"
   },
   {
    "duration": 28,
    "start_time": "2021-06-24T17:43:26.056Z"
   },
   {
    "duration": 18,
    "start_time": "2021-06-24T17:43:26.224Z"
   },
   {
    "duration": 5,
    "start_time": "2021-06-24T17:43:28.485Z"
   },
   {
    "duration": 104432,
    "start_time": "2021-06-24T17:43:31.709Z"
   },
   {
    "duration": 48,
    "start_time": "2021-06-24T17:45:43.458Z"
   },
   {
    "duration": 31,
    "start_time": "2021-06-24T17:45:45.151Z"
   },
   {
    "duration": 317,
    "start_time": "2021-06-24T17:45:58.059Z"
   },
   {
    "duration": 4,
    "start_time": "2021-06-24T17:46:01.359Z"
   },
   {
    "duration": 113,
    "start_time": "2021-06-24T17:47:39.428Z"
   },
   {
    "duration": 170,
    "start_time": "2021-06-24T17:47:58.042Z"
   },
   {
    "duration": 178,
    "start_time": "2021-06-24T17:48:07.491Z"
   },
   {
    "duration": 5207,
    "start_time": "2021-06-24T17:48:10.528Z"
   },
   {
    "duration": 3390,
    "start_time": "2021-06-24T17:48:46.727Z"
   },
   {
    "duration": 3,
    "start_time": "2021-06-24T17:49:09.256Z"
   },
   {
    "duration": 3,
    "start_time": "2021-06-24T17:49:24.319Z"
   },
   {
    "duration": 3,
    "start_time": "2021-06-24T17:49:41.935Z"
   },
   {
    "duration": 9686,
    "start_time": "2021-06-24T17:50:03.539Z"
   },
   {
    "duration": 12,
    "start_time": "2021-06-24T17:50:57.017Z"
   },
   {
    "duration": 23,
    "start_time": "2021-06-24T17:51:46.484Z"
   },
   {
    "duration": 6,
    "start_time": "2021-06-24T17:52:12.831Z"
   },
   {
    "duration": 10,
    "start_time": "2021-06-24T17:52:12.840Z"
   },
   {
    "duration": 6,
    "start_time": "2021-06-24T17:52:12.853Z"
   },
   {
    "duration": 627,
    "start_time": "2021-06-24T17:52:12.861Z"
   },
   {
    "duration": 9,
    "start_time": "2021-06-24T17:52:15.481Z"
   },
   {
    "duration": 15,
    "start_time": "2021-06-24T17:52:15.492Z"
   },
   {
    "duration": 7,
    "start_time": "2021-06-24T17:52:15.509Z"
   },
   {
    "duration": 28,
    "start_time": "2021-06-24T17:52:15.518Z"
   },
   {
    "duration": 45,
    "start_time": "2021-06-24T17:52:15.549Z"
   },
   {
    "duration": 38,
    "start_time": "2021-06-24T17:52:15.800Z"
   },
   {
    "duration": 102894,
    "start_time": "2021-06-24T17:52:16.032Z"
   },
   {
    "duration": 67,
    "start_time": "2021-06-24T17:53:58.928Z"
   },
   {
    "duration": 30,
    "start_time": "2021-06-24T17:53:58.998Z"
   },
   {
    "duration": 24,
    "start_time": "2021-06-24T17:53:59.030Z"
   },
   {
    "duration": 4051,
    "start_time": "2021-06-24T17:53:59.055Z"
   },
   {
    "duration": 3203,
    "start_time": "2021-06-24T17:54:03.107Z"
   },
   {
    "duration": 4,
    "start_time": "2021-06-24T17:54:06.312Z"
   },
   {
    "duration": 4,
    "start_time": "2021-06-24T17:54:06.319Z"
   },
   {
    "duration": 4,
    "start_time": "2021-06-24T17:54:06.325Z"
   },
   {
    "duration": 9692,
    "start_time": "2021-06-24T17:54:06.331Z"
   },
   {
    "duration": 14,
    "start_time": "2021-06-24T17:54:16.024Z"
   },
   {
    "duration": 180,
    "start_time": "2021-06-24T17:54:16.040Z"
   },
   {
    "duration": 3895,
    "start_time": "2021-06-24T17:54:36.951Z"
   },
   {
    "duration": 4,
    "start_time": "2021-06-24T17:54:41.649Z"
   },
   {
    "duration": 4,
    "start_time": "2021-06-24T17:54:41.852Z"
   },
   {
    "duration": 2,
    "start_time": "2021-06-24T17:54:42.145Z"
   },
   {
    "duration": 10294,
    "start_time": "2021-06-24T17:54:42.426Z"
   },
   {
    "duration": 14,
    "start_time": "2021-06-24T17:54:52.722Z"
   },
   {
    "duration": 50,
    "start_time": "2021-06-24T17:54:52.738Z"
   },
   {
    "duration": 4,
    "start_time": "2021-06-24T17:55:05.201Z"
   },
   {
    "duration": 3,
    "start_time": "2021-06-24T17:55:05.403Z"
   },
   {
    "duration": 3,
    "start_time": "2021-06-24T17:55:05.594Z"
   },
   {
    "duration": 598,
    "start_time": "2021-06-24T17:55:05.955Z"
   },
   {
    "duration": 7,
    "start_time": "2021-06-24T17:55:06.555Z"
   },
   {
    "duration": 13,
    "start_time": "2021-06-24T17:55:06.911Z"
   },
   {
    "duration": 6,
    "start_time": "2021-06-24T17:55:07.290Z"
   },
   {
    "duration": 26,
    "start_time": "2021-06-24T17:55:07.470Z"
   },
   {
    "duration": 15,
    "start_time": "2021-06-24T17:55:07.673Z"
   },
   {
    "duration": 22,
    "start_time": "2021-06-24T17:55:08.633Z"
   },
   {
    "duration": 103309,
    "start_time": "2021-06-24T17:55:08.817Z"
   },
   {
    "duration": 70,
    "start_time": "2021-06-24T17:56:52.128Z"
   },
   {
    "duration": 47,
    "start_time": "2021-06-24T17:56:52.200Z"
   },
   {
    "duration": 39,
    "start_time": "2021-06-24T17:56:52.249Z"
   },
   {
    "duration": 6455,
    "start_time": "2021-06-24T17:56:52.290Z"
   },
   {
    "duration": 1630,
    "start_time": "2021-06-24T17:56:58.746Z"
   },
   {
    "duration": 3,
    "start_time": "2021-06-24T17:57:00.378Z"
   },
   {
    "duration": 7,
    "start_time": "2021-06-24T17:57:00.385Z"
   },
   {
    "duration": 11,
    "start_time": "2021-06-24T17:57:00.393Z"
   },
   {
    "duration": 11847,
    "start_time": "2021-06-24T17:57:00.405Z"
   },
   {
    "duration": 8,
    "start_time": "2021-06-24T17:57:12.255Z"
   },
   {
    "duration": 29,
    "start_time": "2021-06-24T17:57:12.264Z"
   },
   {
    "duration": 27,
    "start_time": "2021-06-24T17:58:43.961Z"
   },
   {
    "duration": 22,
    "start_time": "2021-06-24T17:58:44.247Z"
   },
   {
    "duration": 7169,
    "start_time": "2021-06-24T17:58:44.438Z"
   },
   {
    "duration": 1233,
    "start_time": "2021-06-24T17:58:51.609Z"
   },
   {
    "duration": 4,
    "start_time": "2021-06-24T17:58:52.844Z"
   },
   {
    "duration": 5,
    "start_time": "2021-06-24T17:58:52.850Z"
   },
   {
    "duration": 5,
    "start_time": "2021-06-24T17:58:52.856Z"
   },
   {
    "duration": 10101,
    "start_time": "2021-06-24T17:58:52.862Z"
   },
   {
    "duration": 20,
    "start_time": "2021-06-24T17:59:02.965Z"
   },
   {
    "duration": 16,
    "start_time": "2021-06-24T17:59:02.992Z"
   },
   {
    "duration": 28,
    "start_time": "2021-06-24T18:02:53.555Z"
   },
   {
    "duration": 21,
    "start_time": "2021-06-24T18:02:53.799Z"
   },
   {
    "duration": 5239,
    "start_time": "2021-06-24T18:02:55.385Z"
   },
   {
    "duration": 1266,
    "start_time": "2021-06-24T18:03:00.626Z"
   },
   {
    "duration": 3,
    "start_time": "2021-06-24T18:03:01.894Z"
   },
   {
    "duration": 11,
    "start_time": "2021-06-24T18:03:01.899Z"
   },
   {
    "duration": 18,
    "start_time": "2021-06-24T18:03:01.911Z"
   },
   {
    "duration": 7718,
    "start_time": "2021-06-24T18:03:01.931Z"
   },
   {
    "duration": 7,
    "start_time": "2021-06-24T18:03:09.650Z"
   },
   {
    "duration": 32,
    "start_time": "2021-06-24T18:03:09.659Z"
   },
   {
    "duration": 1734,
    "start_time": "2021-06-25T13:20:09.860Z"
   },
   {
    "duration": 3,
    "start_time": "2021-06-25T13:20:11.597Z"
   },
   {
    "duration": 5,
    "start_time": "2021-06-25T13:20:11.603Z"
   },
   {
    "duration": 791,
    "start_time": "2021-06-25T13:20:11.611Z"
   },
   {
    "duration": 15,
    "start_time": "2021-06-25T13:20:12.404Z"
   },
   {
    "duration": 36,
    "start_time": "2021-06-25T13:20:12.421Z"
   },
   {
    "duration": 8,
    "start_time": "2021-06-25T13:20:12.460Z"
   },
   {
    "duration": 33,
    "start_time": "2021-06-25T13:20:12.470Z"
   },
   {
    "duration": 51,
    "start_time": "2021-06-25T13:20:12.506Z"
   },
   {
    "duration": 5,
    "start_time": "2021-06-25T13:20:13.200Z"
   },
   {
    "duration": 156199,
    "start_time": "2021-06-25T13:20:13.381Z"
   },
   {
    "duration": 53,
    "start_time": "2021-06-25T13:22:49.582Z"
   },
   {
    "duration": 41,
    "start_time": "2021-06-25T13:22:49.638Z"
   },
   {
    "duration": 235,
    "start_time": "2021-06-25T13:22:49.681Z"
   },
   {
    "duration": 16,
    "start_time": "2021-06-25T13:23:12.142Z"
   },
   {
    "duration": 410,
    "start_time": "2021-06-25T13:26:59.858Z"
   },
   {
    "duration": 4678,
    "start_time": "2021-06-25T13:27:22.052Z"
   },
   {
    "duration": 60,
    "start_time": "2021-06-25T13:27:28.196Z"
   },
   {
    "duration": 92581,
    "start_time": "2021-06-25T13:27:40.967Z"
   },
   {
    "duration": 94018,
    "start_time": "2021-06-25T13:29:54.539Z"
   },
   {
    "duration": 98112,
    "start_time": "2021-06-25T14:06:15.474Z"
   },
   {
    "duration": 276,
    "start_time": "2021-06-25T14:11:47.231Z"
   },
   {
    "duration": 10,
    "start_time": "2021-06-25T14:11:57.846Z"
   },
   {
    "duration": 4,
    "start_time": "2021-06-25T14:17:11.454Z"
   },
   {
    "duration": 4,
    "start_time": "2021-06-25T14:17:44.848Z"
   },
   {
    "duration": 4,
    "start_time": "2021-06-25T14:18:30.811Z"
   },
   {
    "duration": 4,
    "start_time": "2021-06-25T14:19:17.023Z"
   },
   {
    "duration": 3159,
    "start_time": "2021-06-25T14:22:38.333Z"
   },
   {
    "duration": 8,
    "start_time": "2021-06-25T14:22:41.495Z"
   },
   {
    "duration": 9,
    "start_time": "2021-06-25T14:22:41.506Z"
   },
   {
    "duration": 7,
    "start_time": "2021-06-25T14:22:45.667Z"
   },
   {
    "duration": 3,
    "start_time": "2021-06-25T14:22:45.873Z"
   },
   {
    "duration": 5,
    "start_time": "2021-06-25T14:22:46.462Z"
   },
   {
    "duration": 884,
    "start_time": "2021-06-25T14:22:47.050Z"
   },
   {
    "duration": 18,
    "start_time": "2021-06-25T14:22:47.938Z"
   },
   {
    "duration": 3175,
    "start_time": "2021-06-25T14:23:00.666Z"
   },
   {
    "duration": 3,
    "start_time": "2021-06-25T14:23:03.844Z"
   },
   {
    "duration": 10,
    "start_time": "2021-06-25T14:23:03.850Z"
   },
   {
    "duration": 887,
    "start_time": "2021-06-25T14:23:04.488Z"
   },
   {
    "duration": 15,
    "start_time": "2021-06-25T14:23:07.923Z"
   },
   {
    "duration": 17,
    "start_time": "2021-06-25T14:23:09.575Z"
   },
   {
    "duration": 10,
    "start_time": "2021-06-25T14:23:13.265Z"
   },
   {
    "duration": 33,
    "start_time": "2021-06-25T14:23:13.487Z"
   },
   {
    "duration": 22,
    "start_time": "2021-06-25T14:23:14.915Z"
   },
   {
    "duration": 17,
    "start_time": "2021-06-25T14:23:16.916Z"
   },
   {
    "duration": 4,
    "start_time": "2021-06-25T14:23:24.628Z"
   },
   {
    "duration": 5,
    "start_time": "2021-06-25T14:23:26.456Z"
   },
   {
    "duration": 4,
    "start_time": "2021-06-25T14:23:28.217Z"
   },
   {
    "duration": 6,
    "start_time": "2021-06-25T14:23:28.498Z"
   },
   {
    "duration": 1566,
    "start_time": "2021-06-25T14:23:36.265Z"
   },
   {
    "duration": 4,
    "start_time": "2021-06-25T14:24:07.528Z"
   },
   {
    "duration": 5717,
    "start_time": "2021-06-25T14:24:10.963Z"
   },
   {
    "duration": 305308,
    "start_time": "2021-06-25T14:24:39.894Z"
   },
   {
    "duration": 6428,
    "start_time": "2021-06-25T14:43:15.975Z"
   },
   {
    "duration": 22,
    "start_time": "2021-06-25T14:43:24.903Z"
   },
   {
    "duration": 7,
    "start_time": "2021-06-25T14:43:56.179Z"
   },
   {
    "duration": 4,
    "start_time": "2021-06-25T14:43:56.355Z"
   },
   {
    "duration": 4,
    "start_time": "2021-06-25T14:43:56.537Z"
   },
   {
    "duration": 1368,
    "start_time": "2021-06-25T14:43:56.931Z"
   },
   {
    "duration": 10,
    "start_time": "2021-06-25T14:43:58.302Z"
   },
   {
    "duration": 41,
    "start_time": "2021-06-25T14:43:58.315Z"
   },
   {
    "duration": 10,
    "start_time": "2021-06-25T14:43:59.427Z"
   },
   {
    "duration": 31,
    "start_time": "2021-06-25T14:43:59.870Z"
   },
   {
    "duration": 20,
    "start_time": "2021-06-25T14:44:00.061Z"
   },
   {
    "duration": 10,
    "start_time": "2021-06-25T14:44:00.420Z"
   },
   {
    "duration": 4,
    "start_time": "2021-06-25T14:44:04.714Z"
   },
   {
    "duration": 4,
    "start_time": "2021-06-25T14:44:04.888Z"
   },
   {
    "duration": 4,
    "start_time": "2021-06-25T14:44:06.353Z"
   },
   {
    "duration": 5,
    "start_time": "2021-06-25T14:44:06.564Z"
   },
   {
    "duration": 5885,
    "start_time": "2021-06-25T14:44:09.311Z"
   },
   {
    "duration": 11,
    "start_time": "2021-06-25T14:44:15.198Z"
   },
   {
    "duration": 300906,
    "start_time": "2021-06-25T14:44:24.346Z"
   },
   {
    "duration": 17,
    "start_time": "2021-06-25T14:49:25.256Z"
   },
   {
    "duration": 5,
    "start_time": "2021-06-25T14:50:45.267Z"
   },
   {
    "duration": 3076,
    "start_time": "2021-06-25T14:50:50.307Z"
   },
   {
    "duration": 11,
    "start_time": "2021-06-25T14:50:53.386Z"
   },
   {
    "duration": 4,
    "start_time": "2021-06-25T14:51:32.660Z"
   },
   {
    "duration": 115329,
    "start_time": "2021-06-25T14:51:36.873Z"
   },
   {
    "duration": 14,
    "start_time": "2021-06-25T14:53:32.205Z"
   },
   {
    "duration": 5696,
    "start_time": "2021-06-25T14:53:32.223Z"
   },
   {
    "duration": 19,
    "start_time": "2021-06-25T14:53:37.921Z"
   },
   {
    "duration": 153655,
    "start_time": "2021-06-25T14:53:37.956Z"
   },
   {
    "duration": 20,
    "start_time": "2021-06-25T14:56:11.614Z"
   },
   {
    "duration": 104,
    "start_time": "2021-06-25T14:56:27.699Z"
   },
   {
    "duration": 22,
    "start_time": "2021-06-25T14:56:27.884Z"
   },
   {
    "duration": 153365,
    "start_time": "2021-06-25T14:56:34.014Z"
   },
   {
    "duration": 22,
    "start_time": "2021-06-25T14:59:07.382Z"
   },
   {
    "duration": 323,
    "start_time": "2021-06-25T16:03:31.952Z"
   },
   {
    "duration": 6758,
    "start_time": "2021-06-25T16:03:40.749Z"
   },
   {
    "duration": 15,
    "start_time": "2021-06-25T16:03:58.589Z"
   },
   {
    "duration": 237,
    "start_time": "2021-06-25T16:09:52.312Z"
   },
   {
    "duration": 289,
    "start_time": "2021-06-25T16:09:59.557Z"
   },
   {
    "duration": 260,
    "start_time": "2021-06-25T16:10:04.494Z"
   },
   {
    "duration": 27,
    "start_time": "2021-06-25T16:10:58.612Z"
   },
   {
    "duration": 55405,
    "start_time": "2021-06-25T16:11:09.750Z"
   },
   {
    "duration": 20,
    "start_time": "2021-06-25T16:12:05.158Z"
   },
   {
    "duration": 249,
    "start_time": "2021-06-25T17:27:20.196Z"
   },
   {
    "duration": 4,
    "start_time": "2021-06-25T17:27:20.447Z"
   },
   {
    "duration": 8,
    "start_time": "2021-06-25T17:27:20.454Z"
   },
   {
    "duration": 1195,
    "start_time": "2021-06-25T17:27:20.464Z"
   },
   {
    "duration": 9,
    "start_time": "2021-06-25T17:27:21.661Z"
   },
   {
    "duration": 17,
    "start_time": "2021-06-25T17:27:24.999Z"
   },
   {
    "duration": 9,
    "start_time": "2021-06-25T17:27:25.619Z"
   },
   {
    "duration": 31,
    "start_time": "2021-06-25T17:27:26.128Z"
   },
   {
    "duration": 20,
    "start_time": "2021-06-25T17:27:26.572Z"
   },
   {
    "duration": 10,
    "start_time": "2021-06-25T17:27:32.992Z"
   },
   {
    "duration": 94666,
    "start_time": "2021-06-25T17:27:43.796Z"
   },
   {
    "duration": 5,
    "start_time": "2021-06-25T17:29:54.497Z"
   },
   {
    "duration": 4,
    "start_time": "2021-06-25T17:29:57.517Z"
   },
   {
    "duration": 5,
    "start_time": "2021-06-25T17:29:58.730Z"
   },
   {
    "duration": 4,
    "start_time": "2021-06-25T17:30:06.444Z"
   },
   {
    "duration": 5,
    "start_time": "2021-06-25T17:30:07.906Z"
   },
   {
    "duration": 5556,
    "start_time": "2021-06-25T17:30:11.939Z"
   },
   {
    "duration": 10,
    "start_time": "2021-06-25T17:30:17.498Z"
   },
   {
    "duration": 6007,
    "start_time": "2021-06-25T17:30:45.938Z"
   },
   {
    "duration": 21,
    "start_time": "2021-06-25T17:30:51.947Z"
   },
   {
    "duration": 55603,
    "start_time": "2021-06-25T17:32:22.704Z"
   },
   {
    "duration": 15,
    "start_time": "2021-06-25T17:33:18.310Z"
   },
   {
    "duration": 5,
    "start_time": "2021-06-25T17:37:30.560Z"
   },
   {
    "duration": 147836,
    "start_time": "2021-06-25T17:37:59.853Z"
   },
   {
    "duration": 16,
    "start_time": "2021-06-25T17:40:27.691Z"
   },
   {
    "duration": 5,
    "start_time": "2021-06-25T17:41:06.627Z"
   },
   {
    "duration": 147504,
    "start_time": "2021-06-25T17:41:13.886Z"
   },
   {
    "duration": 21,
    "start_time": "2021-06-25T17:43:41.393Z"
   },
   {
    "duration": 84,
    "start_time": "2021-06-25T17:44:48.456Z"
   },
   {
    "duration": 86,
    "start_time": "2021-06-25T17:44:55.940Z"
   },
   {
    "duration": 92,
    "start_time": "2021-06-25T17:45:17.242Z"
   },
   {
    "duration": 96,
    "start_time": "2021-06-25T17:45:46.791Z"
   },
   {
    "duration": 5,
    "start_time": "2021-06-25T17:48:35.328Z"
   },
   {
    "duration": 743,
    "start_time": "2021-06-25T17:48:44.875Z"
   },
   {
    "duration": 19,
    "start_time": "2021-06-25T17:48:46.583Z"
   },
   {
    "duration": 62,
    "start_time": "2021-06-25T17:49:28.924Z"
   },
   {
    "duration": 1047,
    "start_time": "2021-06-25T17:52:11.054Z"
   },
   {
    "duration": 27,
    "start_time": "2021-06-25T17:52:12.104Z"
   },
   {
    "duration": 5,
    "start_time": "2021-06-25T17:52:23.225Z"
   },
   {
    "duration": 5,
    "start_time": "2021-06-25T17:52:27.698Z"
   },
   {
    "duration": 156753,
    "start_time": "2021-06-25T17:52:31.988Z"
   },
   {
    "duration": 23,
    "start_time": "2021-06-25T17:55:08.744Z"
   },
   {
    "duration": 2406,
    "start_time": "2021-06-26T08:19:25.547Z"
   },
   {
    "duration": -1244,
    "start_time": "2021-06-26T08:19:29.200Z"
   },
   {
    "duration": -1254,
    "start_time": "2021-06-26T08:19:29.212Z"
   },
   {
    "duration": 6982,
    "start_time": "2021-06-26T08:20:00.691Z"
   },
   {
    "duration": 158,
    "start_time": "2021-06-26T08:20:08.899Z"
   },
   {
    "duration": 4,
    "start_time": "2021-06-26T08:20:10.343Z"
   },
   {
    "duration": 4,
    "start_time": "2021-06-26T08:20:10.534Z"
   },
   {
    "duration": 884,
    "start_time": "2021-06-26T08:21:24.415Z"
   },
   {
    "duration": 14,
    "start_time": "2021-06-26T08:21:25.302Z"
   },
   {
    "duration": 19,
    "start_time": "2021-06-26T08:21:29.249Z"
   },
   {
    "duration": 9,
    "start_time": "2021-06-26T08:21:30.654Z"
   },
   {
    "duration": 33,
    "start_time": "2021-06-26T08:21:31.061Z"
   },
   {
    "duration": 23,
    "start_time": "2021-06-26T08:21:31.482Z"
   },
   {
    "duration": 19,
    "start_time": "2021-06-26T08:26:43.911Z"
   },
   {
    "duration": 94494,
    "start_time": "2021-06-26T08:26:46.927Z"
   },
   {
    "duration": 4,
    "start_time": "2021-06-26T08:28:28.501Z"
   },
   {
    "duration": 5,
    "start_time": "2021-06-26T08:28:31.216Z"
   },
   {
    "duration": 4,
    "start_time": "2021-06-26T08:28:31.603Z"
   },
   {
    "duration": 7,
    "start_time": "2021-06-26T08:28:32.277Z"
   },
   {
    "duration": 5730,
    "start_time": "2021-06-26T08:28:34.755Z"
   },
   {
    "duration": 11,
    "start_time": "2021-06-26T08:28:40.488Z"
   },
   {
    "duration": 5988,
    "start_time": "2021-06-26T08:28:40.502Z"
   },
   {
    "duration": 17,
    "start_time": "2021-06-26T08:28:46.493Z"
   },
   {
    "duration": 60461,
    "start_time": "2021-06-26T08:30:37.910Z"
   },
   {
    "duration": 21,
    "start_time": "2021-06-26T08:31:38.374Z"
   },
   {
    "duration": 125,
    "start_time": "2021-06-26T08:52:07.672Z"
   },
   {
    "duration": 326,
    "start_time": "2021-06-26T08:56:40.968Z"
   },
   {
    "duration": 9,
    "start_time": "2021-06-26T09:01:09.420Z"
   },
   {
    "duration": 5,
    "start_time": "2021-06-26T09:01:40.841Z"
   },
   {
    "duration": 2557,
    "start_time": "2021-06-26T09:01:44.908Z"
   },
   {
    "duration": -1218,
    "start_time": "2021-06-26T09:01:48.685Z"
   },
   {
    "duration": 1491,
    "start_time": "2021-06-26T09:02:07.985Z"
   },
   {
    "duration": 1737,
    "start_time": "2021-06-26T09:03:19.770Z"
   },
   {
    "duration": -1221,
    "start_time": "2021-06-26T09:03:22.731Z"
   },
   {
    "duration": 32,
    "start_time": "2021-06-26T09:06:05.208Z"
   },
   {
    "duration": 557481,
    "start_time": "2021-06-26T09:06:10.156Z"
   },
   {
    "duration": -1200,
    "start_time": "2021-06-26T09:15:28.840Z"
   },
   {
    "duration": 316,
    "start_time": "2021-06-26T09:21:06.623Z"
   },
   {
    "duration": 4,
    "start_time": "2021-06-26T09:24:58.888Z"
   },
   {
    "duration": 55627,
    "start_time": "2021-06-26T09:25:07.628Z"
   },
   {
    "duration": 30,
    "start_time": "2021-06-26T09:26:03.257Z"
   },
   {
    "duration": 8,
    "start_time": "2021-06-26T09:39:12.724Z"
   },
   {
    "duration": 333,
    "start_time": "2021-06-26T09:44:12.612Z"
   },
   {
    "duration": 6,
    "start_time": "2021-06-26T09:44:33.418Z"
   },
   {
    "duration": 6,
    "start_time": "2021-06-26T09:44:58.279Z"
   },
   {
    "duration": 6,
    "start_time": "2021-06-26T09:45:16.848Z"
   },
   {
    "duration": 71376,
    "start_time": "2021-06-26T09:45:21.826Z"
   },
   {
    "duration": 17,
    "start_time": "2021-06-26T09:46:33.204Z"
   },
   {
    "duration": 156,
    "start_time": "2021-06-26T09:52:59.189Z"
   },
   {
    "duration": 30,
    "start_time": "2021-06-26T09:54:25.652Z"
   },
   {
    "duration": 71,
    "start_time": "2021-06-26T09:57:03.130Z"
   },
   {
    "duration": 107,
    "start_time": "2021-06-26T10:07:03.288Z"
   },
   {
    "duration": 7,
    "start_time": "2021-06-26T10:07:34.217Z"
   },
   {
    "duration": 7,
    "start_time": "2021-06-26T10:07:46.054Z"
   },
   {
    "duration": 8,
    "start_time": "2021-06-26T10:09:50.657Z"
   },
   {
    "duration": 4,
    "start_time": "2021-06-26T10:12:33.810Z"
   },
   {
    "duration": 5,
    "start_time": "2021-06-26T10:14:09.099Z"
   },
   {
    "duration": 6,
    "start_time": "2021-06-26T10:23:54.010Z"
   },
   {
    "duration": 3147,
    "start_time": "2021-06-26T10:29:30.349Z"
   },
   {
    "duration": 1915,
    "start_time": "2021-06-26T10:29:33.499Z"
   },
   {
    "duration": 80,
    "start_time": "2021-06-26T10:29:35.419Z"
   },
   {
    "duration": 4,
    "start_time": "2021-06-26T10:29:35.502Z"
   },
   {
    "duration": 785,
    "start_time": "2021-06-26T10:29:35.510Z"
   },
   {
    "duration": 18,
    "start_time": "2021-06-26T10:29:36.298Z"
   },
   {
    "duration": 19,
    "start_time": "2021-06-26T10:29:38.611Z"
   },
   {
    "duration": 10,
    "start_time": "2021-06-26T10:29:40.603Z"
   },
   {
    "duration": 34,
    "start_time": "2021-06-26T10:29:40.971Z"
   },
   {
    "duration": 24,
    "start_time": "2021-06-26T10:29:41.271Z"
   },
   {
    "duration": 18,
    "start_time": "2021-06-26T10:29:43.471Z"
   },
   {
    "duration": 4,
    "start_time": "2021-06-26T10:29:47.761Z"
   },
   {
    "duration": 4,
    "start_time": "2021-06-26T10:29:50.140Z"
   },
   {
    "duration": 6,
    "start_time": "2021-06-26T10:29:50.301Z"
   },
   {
    "duration": 5,
    "start_time": "2021-06-26T10:29:50.527Z"
   },
   {
    "duration": 7,
    "start_time": "2021-06-26T10:29:50.812Z"
   },
   {
    "duration": 7,
    "start_time": "2021-06-26T10:29:51.158Z"
   },
   {
    "duration": 5873,
    "start_time": "2021-06-26T10:29:55.512Z"
   },
   {
    "duration": 11,
    "start_time": "2021-06-26T10:30:01.388Z"
   },
   {
    "duration": 5753,
    "start_time": "2021-06-26T10:30:03.139Z"
   },
   {
    "duration": 18,
    "start_time": "2021-06-26T10:30:08.895Z"
   },
   {
    "duration": 61185,
    "start_time": "2021-06-26T10:30:09.856Z"
   },
   {
    "duration": 17,
    "start_time": "2021-06-26T10:31:11.043Z"
   },
   {
    "duration": 70769,
    "start_time": "2021-06-26T10:31:11.063Z"
   },
   {
    "duration": 17,
    "start_time": "2021-06-26T10:32:21.835Z"
   },
   {
    "duration": 155,
    "start_time": "2021-06-26T10:32:25.572Z"
   },
   {
    "duration": 7,
    "start_time": "2021-06-26T10:32:30.563Z"
   },
   {
    "duration": 3,
    "start_time": "2021-06-26T10:32:33.364Z"
   },
   {
    "duration": 5,
    "start_time": "2021-06-26T10:32:34.143Z"
   },
   {
    "duration": 15479832,
    "start_time": "2021-06-26T10:32:41.445Z"
   },
   {
    "duration": -911,
    "start_time": "2021-06-26T14:50:42.191Z"
   },
   {
    "duration": 6,
    "start_time": "2021-06-26T14:51:05.801Z"
   },
   {
    "duration": 6,
    "start_time": "2021-06-26T14:51:14.786Z"
   },
   {
    "duration": 1393627,
    "start_time": "2021-06-26T14:51:21.435Z"
   },
   {
    "duration": -876,
    "start_time": "2021-06-26T15:14:35.941Z"
   },
   {
    "duration": 50,
    "start_time": "2021-06-26T15:17:44.850Z"
   },
   {
    "duration": 9031,
    "start_time": "2021-06-26T15:17:59.216Z"
   },
   {
    "duration": 6,
    "start_time": "2021-06-26T15:18:26.660Z"
   },
   {
    "duration": 6,
    "start_time": "2021-06-26T15:18:55.250Z"
   },
   {
    "duration": 5,
    "start_time": "2021-06-26T15:19:11.622Z"
   },
   {
    "duration": 72,
    "start_time": "2021-06-26T15:19:19.176Z"
   },
   {
    "duration": 5,
    "start_time": "2021-06-26T15:19:19.450Z"
   },
   {
    "duration": 28,
    "start_time": "2021-06-26T15:19:19.902Z"
   },
   {
    "duration": 5,
    "start_time": "2021-06-26T15:19:20.374Z"
   },
   {
    "duration": 3140,
    "start_time": "2021-06-26T16:08:49.785Z"
   },
   {
    "duration": 2061,
    "start_time": "2021-06-26T16:08:52.928Z"
   },
   {
    "duration": 105,
    "start_time": "2021-06-26T16:08:54.993Z"
   },
   {
    "duration": 4,
    "start_time": "2021-06-26T16:08:55.102Z"
   },
   {
    "duration": 777,
    "start_time": "2021-06-26T16:08:55.109Z"
   },
   {
    "duration": 16,
    "start_time": "2021-06-26T16:08:55.888Z"
   },
   {
    "duration": 18,
    "start_time": "2021-06-26T16:08:55.906Z"
   },
   {
    "duration": 9,
    "start_time": "2021-06-26T16:08:55.926Z"
   },
   {
    "duration": 67,
    "start_time": "2021-06-26T16:08:55.938Z"
   },
   {
    "duration": 24,
    "start_time": "2021-06-26T16:08:56.008Z"
   },
   {
    "duration": 18,
    "start_time": "2021-06-26T16:08:56.035Z"
   },
   {
    "duration": 32,
    "start_time": "2021-06-26T16:08:56.055Z"
   },
   {
    "duration": 14,
    "start_time": "2021-06-26T16:08:56.089Z"
   },
   {
    "duration": 11,
    "start_time": "2021-06-26T16:08:56.105Z"
   },
   {
    "duration": 8,
    "start_time": "2021-06-26T16:08:56.118Z"
   },
   {
    "duration": 9,
    "start_time": "2021-06-26T16:08:56.129Z"
   },
   {
    "duration": 11,
    "start_time": "2021-06-26T16:08:56.140Z"
   },
   {
    "duration": 5615,
    "start_time": "2021-06-26T16:08:56.153Z"
   },
   {
    "duration": 17,
    "start_time": "2021-06-26T16:09:01.770Z"
   },
   {
    "duration": 5886,
    "start_time": "2021-06-26T16:09:01.790Z"
   },
   {
    "duration": 20,
    "start_time": "2021-06-26T16:09:07.678Z"
   },
   {
    "duration": 57875,
    "start_time": "2021-06-26T16:09:07.701Z"
   },
   {
    "duration": 22,
    "start_time": "2021-06-26T16:10:05.578Z"
   },
   {
    "duration": 68122,
    "start_time": "2021-06-26T16:10:05.603Z"
   },
   {
    "duration": 25,
    "start_time": "2021-06-26T16:11:13.728Z"
   },
   {
    "duration": 224,
    "start_time": "2021-06-26T16:11:13.756Z"
   },
   {
    "duration": 8,
    "start_time": "2021-06-26T16:11:13.990Z"
   },
   {
    "duration": 8,
    "start_time": "2021-06-26T16:11:14.002Z"
   },
   {
    "duration": 9,
    "start_time": "2021-06-26T16:11:14.014Z"
   },
   {
    "duration": 1237759,
    "start_time": "2021-06-26T16:11:14.026Z"
   },
   {
    "duration": -799,
    "start_time": "2021-06-26T16:31:52.586Z"
   },
   {
    "duration": 12527,
    "start_time": "2021-06-26T16:32:51.070Z"
   },
   {
    "duration": -706,
    "start_time": "2021-06-26T16:33:04.306Z"
   },
   {
    "duration": 3265,
    "start_time": "2021-06-26T18:44:30.478Z"
   },
   {
    "duration": 294,
    "start_time": "2021-06-26T18:44:33.747Z"
   },
   {
    "duration": 4,
    "start_time": "2021-06-26T18:44:37.755Z"
   },
   {
    "duration": 4,
    "start_time": "2021-06-26T18:44:38.075Z"
   },
   {
    "duration": 839,
    "start_time": "2021-06-26T18:44:42.611Z"
   },
   {
    "duration": 10,
    "start_time": "2021-06-26T18:44:43.452Z"
   },
   {
    "duration": 30,
    "start_time": "2021-06-26T18:44:43.465Z"
   },
   {
    "duration": 9,
    "start_time": "2021-06-26T18:44:43.498Z"
   },
   {
    "duration": 30,
    "start_time": "2021-06-26T18:44:43.510Z"
   },
   {
    "duration": 55,
    "start_time": "2021-06-26T18:44:43.543Z"
   },
   {
    "duration": 12,
    "start_time": "2021-06-26T18:44:43.601Z"
   },
   {
    "duration": 5,
    "start_time": "2021-06-26T18:44:43.618Z"
   },
   {
    "duration": 4,
    "start_time": "2021-06-26T18:44:44.315Z"
   },
   {
    "duration": 5,
    "start_time": "2021-06-26T18:44:44.526Z"
   },
   {
    "duration": 3,
    "start_time": "2021-06-26T18:44:44.749Z"
   },
   {
    "duration": 6,
    "start_time": "2021-06-26T18:44:45.022Z"
   },
   {
    "duration": 6,
    "start_time": "2021-06-26T18:44:45.257Z"
   },
   {
    "duration": 5545,
    "start_time": "2021-06-26T18:44:45.530Z"
   },
   {
    "duration": 11,
    "start_time": "2021-06-26T18:44:51.078Z"
   },
   {
    "duration": 3235,
    "start_time": "2021-06-26T18:45:41.775Z"
   },
   {
    "duration": 2053,
    "start_time": "2021-06-26T18:45:45.013Z"
   },
   {
    "duration": 72,
    "start_time": "2021-06-26T18:45:47.070Z"
   },
   {
    "duration": 3,
    "start_time": "2021-06-26T18:45:47.809Z"
   },
   {
    "duration": 796,
    "start_time": "2021-06-26T18:45:48.222Z"
   },
   {
    "duration": 17,
    "start_time": "2021-06-26T18:45:49.021Z"
   },
   {
    "duration": 19,
    "start_time": "2021-06-26T18:45:49.406Z"
   },
   {
    "duration": 10,
    "start_time": "2021-06-26T18:45:49.796Z"
   },
   {
    "duration": 33,
    "start_time": "2021-06-26T18:45:50.008Z"
   },
   {
    "duration": 25,
    "start_time": "2021-06-26T18:45:50.209Z"
   },
   {
    "duration": 18,
    "start_time": "2021-06-26T18:45:50.632Z"
   },
   {
    "duration": 4,
    "start_time": "2021-06-26T18:45:51.038Z"
   },
   {
    "duration": 4,
    "start_time": "2021-06-26T18:45:52.088Z"
   },
   {
    "duration": 4,
    "start_time": "2021-06-26T18:45:52.288Z"
   },
   {
    "duration": 5,
    "start_time": "2021-06-26T18:45:52.533Z"
   },
   {
    "duration": 7,
    "start_time": "2021-06-26T18:45:52.766Z"
   },
   {
    "duration": 6,
    "start_time": "2021-06-26T18:45:53.017Z"
   },
   {
    "duration": 5602,
    "start_time": "2021-06-26T18:45:53.328Z"
   },
   {
    "duration": 12,
    "start_time": "2021-06-26T18:45:58.934Z"
   },
   {
    "duration": 5735,
    "start_time": "2021-06-26T18:45:58.950Z"
   },
   {
    "duration": 27,
    "start_time": "2021-06-26T18:46:04.688Z"
   },
   {
    "duration": 60949,
    "start_time": "2021-06-26T18:46:04.717Z"
   },
   {
    "duration": 21,
    "start_time": "2021-06-26T18:47:05.668Z"
   },
   {
    "duration": 69113,
    "start_time": "2021-06-26T18:47:05.691Z"
   },
   {
    "duration": 17,
    "start_time": "2021-06-26T18:48:14.807Z"
   },
   {
    "duration": 171,
    "start_time": "2021-06-26T18:48:14.827Z"
   },
   {
    "duration": 4,
    "start_time": "2021-06-26T18:49:22.021Z"
   },
   {
    "duration": 3,
    "start_time": "2021-06-26T18:49:28.528Z"
   },
   {
    "duration": 113,
    "start_time": "2021-06-26T18:52:56.376Z"
   },
   {
    "duration": 10,
    "start_time": "2021-06-26T18:53:30.276Z"
   },
   {
    "duration": 57283,
    "start_time": "2021-06-26T18:53:57.755Z"
   },
   {
    "duration": 6,
    "start_time": "2021-06-26T18:56:02.830Z"
   },
   {
    "duration": 222432,
    "start_time": "2021-06-26T18:56:06.578Z"
   },
   {
    "duration": 297,
    "start_time": "2021-06-26T18:59:59.371Z"
   },
   {
    "duration": 6,
    "start_time": "2021-06-26T19:00:30.689Z"
   },
   {
    "duration": 222691,
    "start_time": "2021-06-26T19:00:32.899Z"
   },
   {
    "duration": 6,
    "start_time": "2021-06-26T19:04:21.614Z"
   },
   {
    "duration": 11,
    "start_time": "2021-06-26T19:04:29.979Z"
   },
   {
    "duration": 973443,
    "start_time": "2021-06-26T19:08:17.066Z"
   },
   {
    "duration": 11,
    "start_time": "2021-06-26T19:24:50.281Z"
   },
   {
    "duration": 13,
    "start_time": "2021-06-26T19:25:33.502Z"
   },
   {
    "duration": 3342,
    "start_time": "2021-06-26T19:31:56.551Z"
   },
   {
    "duration": 2423,
    "start_time": "2021-06-26T19:31:59.896Z"
   },
   {
    "duration": 73,
    "start_time": "2021-06-26T19:32:02.322Z"
   },
   {
    "duration": 3,
    "start_time": "2021-06-26T19:32:02.398Z"
   },
   {
    "duration": 798,
    "start_time": "2021-06-26T19:32:02.404Z"
   },
   {
    "duration": 16,
    "start_time": "2021-06-26T19:32:03.205Z"
   },
   {
    "duration": 19,
    "start_time": "2021-06-26T19:32:03.223Z"
   },
   {
    "duration": 11,
    "start_time": "2021-06-26T19:32:03.246Z"
   },
   {
    "duration": 52,
    "start_time": "2021-06-26T19:32:03.260Z"
   },
   {
    "duration": 26,
    "start_time": "2021-06-26T19:32:03.315Z"
   },
   {
    "duration": 47,
    "start_time": "2021-06-26T19:32:03.343Z"
   },
   {
    "duration": 3,
    "start_time": "2021-06-26T19:32:03.392Z"
   },
   {
    "duration": 16,
    "start_time": "2021-06-26T19:32:03.398Z"
   },
   {
    "duration": 9,
    "start_time": "2021-06-26T19:32:03.416Z"
   },
   {
    "duration": 11,
    "start_time": "2021-06-26T19:32:03.428Z"
   },
   {
    "duration": 14,
    "start_time": "2021-06-26T19:32:03.442Z"
   },
   {
    "duration": 29,
    "start_time": "2021-06-26T19:32:03.459Z"
   },
   {
    "duration": 5865,
    "start_time": "2021-06-26T19:32:03.490Z"
   },
   {
    "duration": 11,
    "start_time": "2021-06-26T19:32:09.357Z"
   },
   {
    "duration": 6353,
    "start_time": "2021-06-26T19:32:09.370Z"
   },
   {
    "duration": 15,
    "start_time": "2021-06-26T19:32:15.725Z"
   },
   {
    "duration": 61766,
    "start_time": "2021-06-26T19:32:15.743Z"
   },
   {
    "duration": 17,
    "start_time": "2021-06-26T19:33:17.516Z"
   },
   {
    "duration": 71870,
    "start_time": "2021-06-26T19:33:17.536Z"
   },
   {
    "duration": 17,
    "start_time": "2021-06-26T19:34:29.408Z"
   },
   {
    "duration": 272,
    "start_time": "2021-06-26T19:34:29.427Z"
   },
   {
    "duration": 4,
    "start_time": "2021-06-26T19:34:29.702Z"
   },
   {
    "duration": 13,
    "start_time": "2021-06-26T19:34:29.708Z"
   },
   {
    "duration": 12763,
    "start_time": "2021-06-26T19:34:29.723Z"
   },
   {
    "duration": -503,
    "start_time": "2021-06-26T19:34:42.992Z"
   },
   {
    "duration": -504,
    "start_time": "2021-06-26T19:34:42.995Z"
   },
   {
    "duration": -519,
    "start_time": "2021-06-26T19:34:43.013Z"
   },
   {
    "duration": -519,
    "start_time": "2021-06-26T19:34:43.015Z"
   },
   {
    "duration": -521,
    "start_time": "2021-06-26T19:34:43.020Z"
   },
   {
    "duration": -521,
    "start_time": "2021-06-26T19:34:43.022Z"
   },
   {
    "duration": 7,
    "start_time": "2021-06-26T19:35:34.248Z"
   },
   {
    "duration": 3237,
    "start_time": "2021-06-26T19:48:02.237Z"
   },
   {
    "duration": 2153,
    "start_time": "2021-06-26T19:48:05.477Z"
   },
   {
    "duration": 73,
    "start_time": "2021-06-26T19:48:07.633Z"
   },
   {
    "duration": 3,
    "start_time": "2021-06-26T19:48:07.709Z"
   },
   {
    "duration": 806,
    "start_time": "2021-06-26T19:48:07.714Z"
   },
   {
    "duration": 15,
    "start_time": "2021-06-26T19:48:08.522Z"
   },
   {
    "duration": 32,
    "start_time": "2021-06-26T19:48:08.539Z"
   },
   {
    "duration": 17,
    "start_time": "2021-06-26T19:48:08.574Z"
   },
   {
    "duration": 35,
    "start_time": "2021-06-26T19:48:08.594Z"
   },
   {
    "duration": 36,
    "start_time": "2021-06-26T19:48:08.631Z"
   },
   {
    "duration": 29,
    "start_time": "2021-06-26T19:48:08.669Z"
   },
   {
    "duration": 4,
    "start_time": "2021-06-26T19:48:08.700Z"
   },
   {
    "duration": 24,
    "start_time": "2021-06-26T19:48:08.706Z"
   },
   {
    "duration": 11,
    "start_time": "2021-06-26T19:48:08.733Z"
   },
   {
    "duration": 14,
    "start_time": "2021-06-26T19:48:08.746Z"
   },
   {
    "duration": 12,
    "start_time": "2021-06-26T19:48:08.763Z"
   },
   {
    "duration": 7,
    "start_time": "2021-06-26T19:48:08.778Z"
   },
   {
    "duration": 5993,
    "start_time": "2021-06-26T19:48:08.788Z"
   },
   {
    "duration": 11,
    "start_time": "2021-06-26T19:48:14.786Z"
   },
   {
    "duration": 5884,
    "start_time": "2021-06-26T19:48:14.800Z"
   },
   {
    "duration": 15,
    "start_time": "2021-06-26T19:48:20.686Z"
   },
   {
    "duration": 60484,
    "start_time": "2021-06-26T19:48:20.703Z"
   },
   {
    "duration": 16,
    "start_time": "2021-06-26T19:49:21.189Z"
   },
   {
    "duration": 69541,
    "start_time": "2021-06-26T19:49:21.207Z"
   },
   {
    "duration": 17,
    "start_time": "2021-06-26T19:50:30.750Z"
   },
   {
    "duration": 177,
    "start_time": "2021-06-26T19:50:30.769Z"
   },
   {
    "duration": 4,
    "start_time": "2021-06-26T19:50:30.948Z"
   },
   {
    "duration": 19,
    "start_time": "2021-06-26T19:50:30.955Z"
   },
   {
    "duration": 11,
    "start_time": "2021-06-26T19:50:30.976Z"
   },
   {
    "duration": 1329,
    "start_time": "2021-06-26T19:57:11.605Z"
   },
   {
    "duration": 759,
    "start_time": "2021-06-26T19:57:15.430Z"
   },
   {
    "duration": 3,
    "start_time": "2021-06-26T19:57:18.606Z"
   },
   {
    "duration": 762,
    "start_time": "2021-06-26T19:57:19.146Z"
   },
   {
    "duration": 14,
    "start_time": "2021-06-26T19:57:19.912Z"
   },
   {
    "duration": 19,
    "start_time": "2021-06-26T19:57:19.930Z"
   },
   {
    "duration": 35,
    "start_time": "2021-06-26T19:57:19.952Z"
   },
   {
    "duration": 32,
    "start_time": "2021-06-26T19:57:19.990Z"
   },
   {
    "duration": 22,
    "start_time": "2021-06-26T19:57:20.026Z"
   },
   {
    "duration": 17,
    "start_time": "2021-06-26T19:57:20.085Z"
   },
   {
    "duration": 4,
    "start_time": "2021-06-26T19:57:20.118Z"
   },
   {
    "duration": 4,
    "start_time": "2021-06-26T19:57:20.302Z"
   },
   {
    "duration": 5,
    "start_time": "2021-06-26T19:57:20.347Z"
   },
   {
    "duration": 4,
    "start_time": "2021-06-26T19:57:20.375Z"
   },
   {
    "duration": 7,
    "start_time": "2021-06-26T19:57:20.416Z"
   },
   {
    "duration": 7,
    "start_time": "2021-06-26T19:57:20.449Z"
   },
   {
    "duration": 5622,
    "start_time": "2021-06-26T19:57:20.489Z"
   },
   {
    "duration": 11,
    "start_time": "2021-06-26T19:57:26.115Z"
   },
   {
    "duration": 5572,
    "start_time": "2021-06-26T19:57:26.131Z"
   },
   {
    "duration": 17,
    "start_time": "2021-06-26T19:57:31.705Z"
   },
   {
    "duration": 59532,
    "start_time": "2021-06-26T19:57:31.724Z"
   },
   {
    "duration": 17,
    "start_time": "2021-06-26T19:58:31.259Z"
   },
   {
    "duration": 67505,
    "start_time": "2021-06-26T19:58:31.285Z"
   },
   {
    "duration": 17,
    "start_time": "2021-06-26T19:59:38.794Z"
   },
   {
    "duration": 180,
    "start_time": "2021-06-26T19:59:38.814Z"
   },
   {
    "duration": 456,
    "start_time": "2021-06-26T19:59:38.996Z"
   },
   {
    "duration": 4,
    "start_time": "2021-06-26T20:01:40.929Z"
   },
   {
    "duration": 4,
    "start_time": "2021-06-26T20:01:44.630Z"
   },
   {
    "duration": 7,
    "start_time": "2021-06-26T20:01:46.172Z"
   },
   {
    "duration": 56699,
    "start_time": "2021-06-26T20:01:50.594Z"
   },
   {
    "duration": 12,
    "start_time": "2021-06-26T20:02:47.296Z"
   },
   {
    "duration": 2946,
    "start_time": "2021-06-27T11:35:28.871Z"
   },
   {
    "duration": 1240,
    "start_time": "2021-06-27T11:35:31.819Z"
   },
   {
    "duration": 27,
    "start_time": "2021-06-27T11:35:33.061Z"
   },
   {
    "duration": 3,
    "start_time": "2021-06-27T11:35:34.405Z"
   },
   {
    "duration": 736,
    "start_time": "2021-06-27T11:35:35.108Z"
   },
   {
    "duration": 10,
    "start_time": "2021-06-27T11:35:35.846Z"
   },
   {
    "duration": 12,
    "start_time": "2021-06-27T11:35:38.600Z"
   },
   {
    "duration": 7,
    "start_time": "2021-06-27T11:35:40.761Z"
   },
   {
    "duration": 27,
    "start_time": "2021-06-27T11:35:40.984Z"
   },
   {
    "duration": 17,
    "start_time": "2021-06-27T11:35:41.241Z"
   },
   {
    "duration": 9,
    "start_time": "2021-06-27T11:35:41.745Z"
   },
   {
    "duration": 3,
    "start_time": "2021-06-27T11:35:42.835Z"
   },
   {
    "duration": 3,
    "start_time": "2021-06-27T11:35:44.372Z"
   },
   {
    "duration": 3,
    "start_time": "2021-06-27T11:35:44.573Z"
   },
   {
    "duration": 3,
    "start_time": "2021-06-27T11:35:44.870Z"
   },
   {
    "duration": 5,
    "start_time": "2021-06-27T11:35:45.353Z"
   },
   {
    "duration": 5,
    "start_time": "2021-06-27T11:35:47.227Z"
   },
   {
    "duration": 3856,
    "start_time": "2021-06-27T11:35:48.275Z"
   },
   {
    "duration": 7,
    "start_time": "2021-06-27T11:35:52.133Z"
   },
   {
    "duration": 3886,
    "start_time": "2021-06-27T11:35:52.142Z"
   },
   {
    "duration": 10,
    "start_time": "2021-06-27T11:35:56.030Z"
   },
   {
    "duration": 30854,
    "start_time": "2021-06-27T11:35:56.042Z"
   },
   {
    "duration": 10,
    "start_time": "2021-06-27T11:36:26.898Z"
   },
   {
    "duration": 42461,
    "start_time": "2021-06-27T11:36:26.910Z"
   },
   {
    "duration": 15,
    "start_time": "2021-06-27T11:37:09.373Z"
   },
   {
    "duration": 136,
    "start_time": "2021-06-27T11:37:25.974Z"
   },
   {
    "duration": 3,
    "start_time": "2021-06-27T11:42:49.431Z"
   },
   {
    "duration": 269,
    "start_time": "2021-06-27T11:43:56.145Z"
   },
   {
    "duration": 3,
    "start_time": "2021-06-27T11:44:01.799Z"
   },
   {
    "duration": 3,
    "start_time": "2021-06-27T11:44:05.052Z"
   },
   {
    "duration": 5,
    "start_time": "2021-06-27T11:44:05.275Z"
   },
   {
    "duration": 30001,
    "start_time": "2021-06-27T11:44:11.936Z"
   },
   {
    "duration": 8,
    "start_time": "2021-06-27T11:44:41.939Z"
   },
   {
    "duration": 65,
    "start_time": "2021-06-27T12:02:17.771Z"
   },
   {
    "duration": 5,
    "start_time": "2021-06-27T12:02:31.086Z"
   },
   {
    "duration": 5,
    "start_time": "2021-06-27T12:05:02.992Z"
   },
   {
    "duration": 5,
    "start_time": "2021-06-27T12:05:41.819Z"
   },
   {
    "duration": 1830,
    "start_time": "2021-06-27T12:11:51.304Z"
   },
   {
    "duration": 1242,
    "start_time": "2021-06-27T12:11:53.136Z"
   },
   {
    "duration": 29,
    "start_time": "2021-06-27T12:11:54.380Z"
   },
   {
    "duration": 3,
    "start_time": "2021-06-27T12:11:54.411Z"
   },
   {
    "duration": 611,
    "start_time": "2021-06-27T12:11:54.415Z"
   },
   {
    "duration": 9,
    "start_time": "2021-06-27T12:11:55.027Z"
   },
   {
    "duration": 16,
    "start_time": "2021-06-27T12:11:55.038Z"
   },
   {
    "duration": 6,
    "start_time": "2021-06-27T12:11:55.056Z"
   },
   {
    "duration": 44,
    "start_time": "2021-06-27T12:11:55.064Z"
   },
   {
    "duration": 19,
    "start_time": "2021-06-27T12:11:55.110Z"
   },
   {
    "duration": 8,
    "start_time": "2021-06-27T12:11:55.130Z"
   },
   {
    "duration": 58015,
    "start_time": "2021-06-27T12:11:55.139Z"
   },
   {
    "duration": 3,
    "start_time": "2021-06-27T12:12:53.156Z"
   },
   {
    "duration": 6,
    "start_time": "2021-06-27T12:12:53.160Z"
   },
   {
    "duration": 18,
    "start_time": "2021-06-27T12:12:53.168Z"
   },
   {
    "duration": 7,
    "start_time": "2021-06-27T12:12:53.187Z"
   },
   {
    "duration": 4,
    "start_time": "2021-06-27T12:12:53.195Z"
   },
   {
    "duration": 3842,
    "start_time": "2021-06-27T12:12:53.201Z"
   },
   {
    "duration": 7,
    "start_time": "2021-06-27T12:12:57.044Z"
   },
   {
    "duration": 3885,
    "start_time": "2021-06-27T12:12:57.053Z"
   },
   {
    "duration": 11,
    "start_time": "2021-06-27T12:13:00.939Z"
   },
   {
    "duration": 31188,
    "start_time": "2021-06-27T12:13:00.951Z"
   },
   {
    "duration": 10,
    "start_time": "2021-06-27T12:13:32.142Z"
   },
   {
    "duration": 42810,
    "start_time": "2021-06-27T12:13:32.154Z"
   },
   {
    "duration": 20,
    "start_time": "2021-06-27T12:14:14.965Z"
   },
   {
    "duration": 143,
    "start_time": "2021-06-27T12:14:14.987Z"
   },
   {
    "duration": 4,
    "start_time": "2021-06-27T12:14:15.131Z"
   },
   {
    "duration": 5,
    "start_time": "2021-06-27T12:14:15.137Z"
   },
   {
    "duration": 6,
    "start_time": "2021-06-27T12:14:15.143Z"
   },
   {
    "duration": 201300,
    "start_time": "2021-06-27T12:14:15.151Z"
   },
   {
    "duration": 685470,
    "start_time": "2021-06-27T12:17:36.452Z"
   },
   {
    "duration": 30106,
    "start_time": "2021-06-27T12:29:01.924Z"
   },
   {
    "duration": 8,
    "start_time": "2021-06-27T12:29:32.032Z"
   }
  ],
  "kernelspec": {
   "display_name": "Python 3",
   "language": "python",
   "name": "python3"
  },
  "language_info": {
   "codemirror_mode": {
    "name": "ipython",
    "version": 3
   },
   "file_extension": ".py",
   "mimetype": "text/x-python",
   "name": "python",
   "nbconvert_exporter": "python",
   "pygments_lexer": "ipython3",
   "version": "3.7.6"
  },
  "toc": {
   "base_numbering": 1,
   "nav_menu": {},
   "number_sections": false,
   "sideBar": true,
   "skip_h1_title": false,
   "title_cell": "Содержание",
   "title_sidebar": "Contents",
   "toc_cell": false,
   "toc_position": {
    "height": "calc(100% - 180px)",
    "left": "10px",
    "top": "150px",
    "width": "302.391px"
   },
   "toc_section_display": true,
   "toc_window_display": false
  }
 },
 "nbformat": 4,
 "nbformat_minor": 2
}
