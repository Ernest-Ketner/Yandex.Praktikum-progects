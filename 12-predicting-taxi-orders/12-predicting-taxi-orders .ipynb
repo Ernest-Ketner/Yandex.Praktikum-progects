{
 "cells": [
  {
   "cell_type": "markdown",
   "metadata": {},
   "source": [
    "# Прогнозирование заказов для компании \"Чётенькое такси\"\n",
    "\n",
    "Компания «Чётенькое такси» собрала исторические данные о заказах такси в аэропортах. Чтобы привлекать больше водителей в период пиковой нагрузки, нужно спрогнозировать количество заказов такси на следующий час. Нам необходимо построить модель для такого предсказания. Заказчик требует, чтобы значение метрики RMSE на тестовой выборке было не больше 48.\n",
    "    \n",
    "Предоставлены данные за март-август 2018 года, в виде количества заказов на каждые 10 минут каждого дня.\n",
    "\n",
    "Нам нужно:\n",
    "\n",
    "- Загрузить данные и выполнить их ресемплирование по одному часу.\n",
    "- Проанализировать данные.\n",
    "- Обучить разные модели с различными гиперпараметрами. Сделать тестовую выборку размером 10% от исходных данных.\n",
    "- Проверить данные на тестовой выборке и сделать выводы.\n",
    "    \n",
    " \n",
    "    \n",
    "____\n",
    "\n",
    "\n",
    "\n",
    "В данном исследовании представлен процесс создания и проверки моделей машинного обучения в целях прогнозирования заказов. Работа произведена в соответствии с инструкциями заказчика. Каждый значительный шаг сопровождается промежуточным, либо общим выводом.\n",
    " \n",
    "    \n",
    "    \n",
    "____\n",
    "    \n",
    "\n",
    "    \n",
    "    \n",
    "    \n",
    "Часть 1. Изучение общей информации о предоставленном датасете\n",
    "    \n",
    "1. Импорт необходимых библиотек для работы с данными, загрузка датасета\n",
    "2. Изучение данных, получение общей информации\n",
    "3. Вывод\n",
    "\n",
    "Часть 2. Подготовка данных\n",
    "\n",
    "1. Распределение заказов\n",
    "2. Создание дамми модели\n",
    "3. Вывод\n",
    "    \n",
    "Часть 3. Обучение моделей\n",
    "    \n",
    "1. Подготовка данных\n",
    "2. Линейная регрессия\n",
    "3. Случайный лес\n",
    "4. LGBM\n",
    "5. CatBoost\n",
    "6. Вывод\n",
    "    \n",
    "Часть 4. Тестирование моделей\n",
    "    \n",
    "1. Тестирование моделей   \n",
    "2. Вывод"
   ]
  },
  {
   "cell_type": "markdown",
   "metadata": {},
   "source": [
    " ## Часть 1. Изучение общей информации о предоставленном датасете"
   ]
  },
  {
   "cell_type": "markdown",
   "metadata": {},
   "source": [
    "<a id='Импорт необходимых библиотек для работы с данными, загрузка датасета'>"
   ]
  },
  {
   "cell_type": "markdown",
   "metadata": {},
   "source": [
    "### <p style=\"text-align:center\"> Импорт необходимых библиотек для работы с данными, загрузка датасета</p>"
   ]
  },
  {
   "cell_type": "markdown",
   "metadata": {},
   "source": [
    "Импортируем необходимые библиотеки, убираем ограничения на количество столбцов, отключаем предупреждения."
   ]
  },
  {
   "cell_type": "code",
   "execution_count": 2,
   "metadata": {},
   "outputs": [],
   "source": [
    "import pandas as pd\n",
    "import numpy as np\n",
    "from IPython.display import display\n",
    "pd.options.display.max_columns = None\n",
    "pd.options.display.max_rows = None\n",
    "import warnings\n",
    "warnings.simplefilter('ignore')\n",
    "from statsmodels.tsa.seasonal import seasonal_decompose\n",
    "import matplotlib.pyplot as plt"
   ]
  },
  {
   "cell_type": "code",
   "execution_count": 3,
   "metadata": {},
   "outputs": [],
   "source": [
    "from sklearn.ensemble import RandomForestRegressor\n",
    "from sklearn.linear_model import LinearRegression\n",
    "from catboost import CatBoostRegressor\n",
    "import lightgbm as lgb"
   ]
  },
  {
   "cell_type": "code",
   "execution_count": 4,
   "metadata": {},
   "outputs": [],
   "source": [
    "from sklearn.model_selection import train_test_split\n",
    "from sklearn.metrics import mean_squared_error"
   ]
  },
  {
   "cell_type": "markdown",
   "metadata": {},
   "source": [
    "Загружаем датасет, проверяем вывод."
   ]
  },
  {
   "cell_type": "code",
   "execution_count": 5,
   "metadata": {},
   "outputs": [],
   "source": [
    "raw_data = pd.read_csv('/datasets/taxi.csv', index_col=[0], parse_dates=[0])"
   ]
  },
  {
   "cell_type": "code",
   "execution_count": 5,
   "metadata": {},
   "outputs": [
    {
     "data": {
      "text/html": [
       "<div>\n",
       "<style scoped>\n",
       "    .dataframe tbody tr th:only-of-type {\n",
       "        vertical-align: middle;\n",
       "    }\n",
       "\n",
       "    .dataframe tbody tr th {\n",
       "        vertical-align: top;\n",
       "    }\n",
       "\n",
       "    .dataframe thead th {\n",
       "        text-align: right;\n",
       "    }\n",
       "</style>\n",
       "<table border=\"1\" class=\"dataframe\">\n",
       "  <thead>\n",
       "    <tr style=\"text-align: right;\">\n",
       "      <th></th>\n",
       "      <th>num_orders</th>\n",
       "    </tr>\n",
       "    <tr>\n",
       "      <th>datetime</th>\n",
       "      <th></th>\n",
       "    </tr>\n",
       "  </thead>\n",
       "  <tbody>\n",
       "    <tr>\n",
       "      <td>2018-03-01 00:00:00</td>\n",
       "      <td>9</td>\n",
       "    </tr>\n",
       "    <tr>\n",
       "      <td>2018-03-01 00:10:00</td>\n",
       "      <td>14</td>\n",
       "    </tr>\n",
       "    <tr>\n",
       "      <td>2018-03-01 00:20:00</td>\n",
       "      <td>28</td>\n",
       "    </tr>\n",
       "    <tr>\n",
       "      <td>2018-03-01 00:30:00</td>\n",
       "      <td>20</td>\n",
       "    </tr>\n",
       "    <tr>\n",
       "      <td>2018-03-01 00:40:00</td>\n",
       "      <td>32</td>\n",
       "    </tr>\n",
       "  </tbody>\n",
       "</table>\n",
       "</div>"
      ],
      "text/plain": [
       "                     num_orders\n",
       "datetime                       \n",
       "2018-03-01 00:00:00           9\n",
       "2018-03-01 00:10:00          14\n",
       "2018-03-01 00:20:00          28\n",
       "2018-03-01 00:30:00          20\n",
       "2018-03-01 00:40:00          32"
      ]
     },
     "execution_count": 5,
     "metadata": {},
     "output_type": "execute_result"
    }
   ],
   "source": [
    "raw_data.head()"
   ]
  },
  {
   "cell_type": "markdown",
   "metadata": {},
   "source": [
    "<a id='Изучение данных, получение общей информации'></a>"
   ]
  },
  {
   "cell_type": "markdown",
   "metadata": {},
   "source": [
    "### <p style=\"text-align:center\"> Изучение данных, получение общей информации</p>"
   ]
  },
  {
   "cell_type": "markdown",
   "metadata": {},
   "source": [
    "Ознакомимся с информацией, посмотрим соответствуют ли типы ячеек назначению. В качестве дополнительной проверки возьмем случайные 20 строк из нашего датасета, посмотрим на странные, выбивающиеся, отсутствующие значения."
   ]
  },
  {
   "cell_type": "code",
   "execution_count": 6,
   "metadata": {},
   "outputs": [
    {
     "data": {
      "text/html": [
       "<div>\n",
       "<style scoped>\n",
       "    .dataframe tbody tr th:only-of-type {\n",
       "        vertical-align: middle;\n",
       "    }\n",
       "\n",
       "    .dataframe tbody tr th {\n",
       "        vertical-align: top;\n",
       "    }\n",
       "\n",
       "    .dataframe thead th {\n",
       "        text-align: right;\n",
       "    }\n",
       "</style>\n",
       "<table border=\"1\" class=\"dataframe\">\n",
       "  <thead>\n",
       "    <tr style=\"text-align: right;\">\n",
       "      <th></th>\n",
       "      <th>num_orders</th>\n",
       "    </tr>\n",
       "    <tr>\n",
       "      <th>datetime</th>\n",
       "      <th></th>\n",
       "    </tr>\n",
       "  </thead>\n",
       "  <tbody>\n",
       "    <tr>\n",
       "      <td>2018-06-14 20:50:00</td>\n",
       "      <td>29</td>\n",
       "    </tr>\n",
       "    <tr>\n",
       "      <td>2018-06-21 19:40:00</td>\n",
       "      <td>4</td>\n",
       "    </tr>\n",
       "    <tr>\n",
       "      <td>2018-07-31 05:00:00</td>\n",
       "      <td>7</td>\n",
       "    </tr>\n",
       "    <tr>\n",
       "      <td>2018-03-27 06:20:00</td>\n",
       "      <td>0</td>\n",
       "    </tr>\n",
       "    <tr>\n",
       "      <td>2018-08-06 01:10:00</td>\n",
       "      <td>26</td>\n",
       "    </tr>\n",
       "    <tr>\n",
       "      <td>2018-04-21 20:30:00</td>\n",
       "      <td>8</td>\n",
       "    </tr>\n",
       "    <tr>\n",
       "      <td>2018-03-10 18:40:00</td>\n",
       "      <td>20</td>\n",
       "    </tr>\n",
       "    <tr>\n",
       "      <td>2018-04-16 19:20:00</td>\n",
       "      <td>8</td>\n",
       "    </tr>\n",
       "    <tr>\n",
       "      <td>2018-05-31 01:40:00</td>\n",
       "      <td>4</td>\n",
       "    </tr>\n",
       "    <tr>\n",
       "      <td>2018-03-11 18:00:00</td>\n",
       "      <td>15</td>\n",
       "    </tr>\n",
       "    <tr>\n",
       "      <td>2018-07-21 17:50:00</td>\n",
       "      <td>8</td>\n",
       "    </tr>\n",
       "    <tr>\n",
       "      <td>2018-05-19 20:30:00</td>\n",
       "      <td>6</td>\n",
       "    </tr>\n",
       "    <tr>\n",
       "      <td>2018-07-05 04:00:00</td>\n",
       "      <td>13</td>\n",
       "    </tr>\n",
       "    <tr>\n",
       "      <td>2018-04-19 08:20:00</td>\n",
       "      <td>11</td>\n",
       "    </tr>\n",
       "    <tr>\n",
       "      <td>2018-08-18 18:00:00</td>\n",
       "      <td>14</td>\n",
       "    </tr>\n",
       "    <tr>\n",
       "      <td>2018-06-07 10:30:00</td>\n",
       "      <td>18</td>\n",
       "    </tr>\n",
       "    <tr>\n",
       "      <td>2018-07-02 20:30:00</td>\n",
       "      <td>18</td>\n",
       "    </tr>\n",
       "    <tr>\n",
       "      <td>2018-05-15 02:10:00</td>\n",
       "      <td>23</td>\n",
       "    </tr>\n",
       "    <tr>\n",
       "      <td>2018-05-05 22:40:00</td>\n",
       "      <td>16</td>\n",
       "    </tr>\n",
       "    <tr>\n",
       "      <td>2018-05-19 19:50:00</td>\n",
       "      <td>25</td>\n",
       "    </tr>\n",
       "  </tbody>\n",
       "</table>\n",
       "</div>"
      ],
      "text/plain": [
       "                     num_orders\n",
       "datetime                       \n",
       "2018-06-14 20:50:00          29\n",
       "2018-06-21 19:40:00           4\n",
       "2018-07-31 05:00:00           7\n",
       "2018-03-27 06:20:00           0\n",
       "2018-08-06 01:10:00          26\n",
       "2018-04-21 20:30:00           8\n",
       "2018-03-10 18:40:00          20\n",
       "2018-04-16 19:20:00           8\n",
       "2018-05-31 01:40:00           4\n",
       "2018-03-11 18:00:00          15\n",
       "2018-07-21 17:50:00           8\n",
       "2018-05-19 20:30:00           6\n",
       "2018-07-05 04:00:00          13\n",
       "2018-04-19 08:20:00          11\n",
       "2018-08-18 18:00:00          14\n",
       "2018-06-07 10:30:00          18\n",
       "2018-07-02 20:30:00          18\n",
       "2018-05-15 02:10:00          23\n",
       "2018-05-05 22:40:00          16\n",
       "2018-05-19 19:50:00          25"
      ]
     },
     "execution_count": 6,
     "metadata": {},
     "output_type": "execute_result"
    }
   ],
   "source": [
    "raw_data.sample(n=20, random_state=1)"
   ]
  },
  {
   "cell_type": "markdown",
   "metadata": {},
   "source": [
    "Иногда в таблицах в конце есть строка \"Итого\"(или т.п.), нам она не нужна, убедимся в ее отсутствии."
   ]
  },
  {
   "cell_type": "code",
   "execution_count": 7,
   "metadata": {},
   "outputs": [
    {
     "data": {
      "text/html": [
       "<div>\n",
       "<style scoped>\n",
       "    .dataframe tbody tr th:only-of-type {\n",
       "        vertical-align: middle;\n",
       "    }\n",
       "\n",
       "    .dataframe tbody tr th {\n",
       "        vertical-align: top;\n",
       "    }\n",
       "\n",
       "    .dataframe thead th {\n",
       "        text-align: right;\n",
       "    }\n",
       "</style>\n",
       "<table border=\"1\" class=\"dataframe\">\n",
       "  <thead>\n",
       "    <tr style=\"text-align: right;\">\n",
       "      <th></th>\n",
       "      <th>num_orders</th>\n",
       "    </tr>\n",
       "    <tr>\n",
       "      <th>datetime</th>\n",
       "      <th></th>\n",
       "    </tr>\n",
       "  </thead>\n",
       "  <tbody>\n",
       "    <tr>\n",
       "      <td>2018-08-31 23:10:00</td>\n",
       "      <td>32</td>\n",
       "    </tr>\n",
       "    <tr>\n",
       "      <td>2018-08-31 23:20:00</td>\n",
       "      <td>24</td>\n",
       "    </tr>\n",
       "    <tr>\n",
       "      <td>2018-08-31 23:30:00</td>\n",
       "      <td>27</td>\n",
       "    </tr>\n",
       "    <tr>\n",
       "      <td>2018-08-31 23:40:00</td>\n",
       "      <td>39</td>\n",
       "    </tr>\n",
       "    <tr>\n",
       "      <td>2018-08-31 23:50:00</td>\n",
       "      <td>53</td>\n",
       "    </tr>\n",
       "  </tbody>\n",
       "</table>\n",
       "</div>"
      ],
      "text/plain": [
       "                     num_orders\n",
       "datetime                       \n",
       "2018-08-31 23:10:00          32\n",
       "2018-08-31 23:20:00          24\n",
       "2018-08-31 23:30:00          27\n",
       "2018-08-31 23:40:00          39\n",
       "2018-08-31 23:50:00          53"
      ]
     },
     "execution_count": 7,
     "metadata": {},
     "output_type": "execute_result"
    }
   ],
   "source": [
    "raw_data.tail()"
   ]
  },
  {
   "cell_type": "code",
   "execution_count": 8,
   "metadata": {},
   "outputs": [
    {
     "name": "stdout",
     "output_type": "stream",
     "text": [
      "<class 'pandas.core.frame.DataFrame'>\n",
      "DatetimeIndex: 26496 entries, 2018-03-01 00:00:00 to 2018-08-31 23:50:00\n",
      "Data columns (total 1 columns):\n",
      "num_orders    26496 non-null int64\n",
      "dtypes: int64(1)\n",
      "memory usage: 414.0 KB\n"
     ]
    }
   ],
   "source": [
    "raw_data.info()"
   ]
  },
  {
   "cell_type": "code",
   "execution_count": 9,
   "metadata": {},
   "outputs": [
    {
     "data": {
      "text/html": [
       "<div>\n",
       "<style scoped>\n",
       "    .dataframe tbody tr th:only-of-type {\n",
       "        vertical-align: middle;\n",
       "    }\n",
       "\n",
       "    .dataframe tbody tr th {\n",
       "        vertical-align: top;\n",
       "    }\n",
       "\n",
       "    .dataframe thead th {\n",
       "        text-align: right;\n",
       "    }\n",
       "</style>\n",
       "<table border=\"1\" class=\"dataframe\">\n",
       "  <thead>\n",
       "    <tr style=\"text-align: right;\">\n",
       "      <th></th>\n",
       "      <th>num_orders</th>\n",
       "    </tr>\n",
       "  </thead>\n",
       "  <tbody>\n",
       "    <tr>\n",
       "      <td>count</td>\n",
       "      <td>26496.000000</td>\n",
       "    </tr>\n",
       "    <tr>\n",
       "      <td>mean</td>\n",
       "      <td>14.070463</td>\n",
       "    </tr>\n",
       "    <tr>\n",
       "      <td>std</td>\n",
       "      <td>9.211330</td>\n",
       "    </tr>\n",
       "    <tr>\n",
       "      <td>min</td>\n",
       "      <td>0.000000</td>\n",
       "    </tr>\n",
       "    <tr>\n",
       "      <td>25%</td>\n",
       "      <td>8.000000</td>\n",
       "    </tr>\n",
       "    <tr>\n",
       "      <td>50%</td>\n",
       "      <td>13.000000</td>\n",
       "    </tr>\n",
       "    <tr>\n",
       "      <td>75%</td>\n",
       "      <td>19.000000</td>\n",
       "    </tr>\n",
       "    <tr>\n",
       "      <td>max</td>\n",
       "      <td>119.000000</td>\n",
       "    </tr>\n",
       "  </tbody>\n",
       "</table>\n",
       "</div>"
      ],
      "text/plain": [
       "         num_orders\n",
       "count  26496.000000\n",
       "mean      14.070463\n",
       "std        9.211330\n",
       "min        0.000000\n",
       "25%        8.000000\n",
       "50%       13.000000\n",
       "75%       19.000000\n",
       "max      119.000000"
      ]
     },
     "execution_count": 9,
     "metadata": {},
     "output_type": "execute_result"
    }
   ],
   "source": [
    "raw_data.describe()"
   ]
  },
  {
   "cell_type": "markdown",
   "metadata": {},
   "source": [
    "<a id='Вывод_1'></a>"
   ]
  },
  {
   "cell_type": "markdown",
   "metadata": {},
   "source": [
    "### <p style=\"text-align:center\"> Вывод</p>"
   ]
  },
  {
   "cell_type": "markdown",
   "metadata": {},
   "source": [
    "##### В ходе первичного анализа данных были  сделаны следующие выводы:\n",
    "\n",
    "___\n",
    "\n",
    "\n",
    "1. Предоставлены данные за март-август 2018 года, в виде количества заказов на каждые 10 минут каждого дня.\n",
    "\n",
    "\n",
    "2. В датасете 26496 строк, странностей не выявлено.\n",
    "\n",
    "___\n",
    "\n",
    "Таким образом было выполнено первичное ознакомление с предоставленной информацией, дефекты датасета не выявлены. Данные не нуждаются в предобработке. Можно переходить к подготовке данных."
   ]
  },
  {
   "cell_type": "markdown",
   "metadata": {},
   "source": [
    " ## Часть 2. Подготовка данных"
   ]
  },
  {
   "cell_type": "markdown",
   "metadata": {},
   "source": [
    "<a id='Распределение заказов'></a>"
   ]
  },
  {
   "cell_type": "markdown",
   "metadata": {},
   "source": [
    "### <p style=\"text-align:center\">Распределение заказов</p>"
   ]
  },
  {
   "cell_type": "code",
   "execution_count": 10,
   "metadata": {},
   "outputs": [],
   "source": [
    "df = raw_data.copy()"
   ]
  },
  {
   "cell_type": "code",
   "execution_count": 11,
   "metadata": {},
   "outputs": [],
   "source": [
    "raw_data.sort_index(inplace=True)"
   ]
  },
  {
   "cell_type": "markdown",
   "metadata": {},
   "source": [
    "Посмотрим на распределение заказов."
   ]
  },
  {
   "cell_type": "code",
   "execution_count": 12,
   "metadata": {},
   "outputs": [
    {
     "data": {
      "image/png": "[encoded data removed]",
      "text/plain": [
       "<Figure size 680x425 with 1 Axes>"
      ]
     },
     "metadata": {
      "needs_background": "light"
     },
     "output_type": "display_data"
    }
   ],
   "source": [
    "plt.figure(figsize=(8,5), dpi = 85);\n",
    "plt.plot(raw_data);\n",
    "plt.title('Taxi orders distribution', fontsize=14);\n",
    "plt.ylabel('Quantity', fontsize=12);\n",
    "plt.xlabel('10 min period', fontsize=12);"
   ]
  },
  {
   "cell_type": "markdown",
   "metadata": {},
   "source": [
    "Ничего не понятно, разделим данные на дни и месяцы."
   ]
  },
  {
   "cell_type": "code",
   "execution_count": 13,
   "metadata": {},
   "outputs": [],
   "source": [
    "month_orders = raw_data['num_orders'].resample('1M').sum()\n",
    "day_orders = raw_data['num_orders'].resample('1D').sum()"
   ]
  },
  {
   "cell_type": "code",
   "execution_count": 14,
   "metadata": {},
   "outputs": [
    {
     "data": {
      "image/png": "[encoded data removed]",
      "text/plain": [
       "<Figure size 680x425 with 1 Axes>"
      ]
     },
     "metadata": {
      "needs_background": "light"
     },
     "output_type": "display_data"
    }
   ],
   "source": [
    "plt.figure(figsize=(8,5), dpi = 85);\n",
    "plt.plot(month_orders);\n",
    "plt.title('Taxi orders distribution', fontsize=14);\n",
    "plt.ylabel('Quantity', fontsize=12);\n",
    "plt.xlabel('Per month', fontsize=12);"
   ]
  },
  {
   "cell_type": "markdown",
   "metadata": {},
   "source": [
    "Заметили восходящий к августу тренд, связан с увеличивающимся количеством перелетов летом."
   ]
  },
  {
   "cell_type": "markdown",
   "metadata": {},
   "source": [
    "Посмотрим поближе. Проиллюстрируем количество заказов по дням."
   ]
  },
  {
   "cell_type": "code",
   "execution_count": 15,
   "metadata": {},
   "outputs": [
    {
     "data": {
      "image/png": "[encoded data removed]",
      "text/plain": [
       "<Figure size 680x425 with 1 Axes>"
      ]
     },
     "metadata": {
      "needs_background": "light"
     },
     "output_type": "display_data"
    }
   ],
   "source": [
    "plt.figure(figsize=(8,5), dpi = 85);\n",
    "plt.plot(day_orders);\n",
    "plt.title('Taxi orders distribution', fontsize=14);\n",
    "plt.ylabel('Quantity', fontsize=12);\n",
    "plt.xlabel('Per day', fontsize=12);"
   ]
  },
  {
   "cell_type": "markdown",
   "metadata": {},
   "source": [
    "Посмотрим на сезонности, сразу добавим скользящие средние."
   ]
  },
  {
   "cell_type": "code",
   "execution_count": 16,
   "metadata": {},
   "outputs": [],
   "source": [
    "raw_data = raw_data.resample('1H').sum()"
   ]
  },
  {
   "cell_type": "code",
   "execution_count": 17,
   "metadata": {},
   "outputs": [],
   "source": [
    "raw_data['rolling_mean'] = raw_data['num_orders'].shift().rolling(10).mean()\n",
    "raw_data['std'] = raw_data['num_orders'].rolling(10).std()\n",
    "raw_data = raw_data.dropna()"
   ]
  },
  {
   "cell_type": "code",
   "execution_count": 18,
   "metadata": {},
   "outputs": [
    {
     "data": {
      "image/png": "[encoded data removed]",
      "text/plain": [
       "<Figure size 1080x288 with 1 Axes>"
      ]
     },
     "metadata": {
      "needs_background": "light"
     },
     "output_type": "display_data"
    }
   ],
   "source": [
    "decomposed = seasonal_decompose(raw_data)\n",
    "decomposed.trend.plot(title='Trend', figsize=(15,4));"
   ]
  },
  {
   "cell_type": "markdown",
   "metadata": {},
   "source": [
    "Существует какая-то закономерность в периодичности пиков, посмотрим на это поближе."
   ]
  },
  {
   "cell_type": "code",
   "execution_count": 19,
   "metadata": {},
   "outputs": [
    {
     "data": {
      "image/png": "[encoded data removed]",
      "text/plain": [
       "<Figure size 1080x288 with 1 Axes>"
      ]
     },
     "metadata": {
      "needs_background": "light"
     },
     "output_type": "display_data"
    }
   ],
   "source": [
    "decomposed.seasonal.tail(28).plot(title='Seasonality by day', figsize=(15,4));"
   ]
  },
  {
   "cell_type": "code",
   "execution_count": 20,
   "metadata": {},
   "outputs": [
    {
     "data": {
      "image/png": "[encoded data removed]",
      "text/plain": [
       "<Figure size 1080x288 with 1 Axes>"
      ]
     },
     "metadata": {
      "needs_background": "light"
     },
     "output_type": "display_data"
    }
   ],
   "source": [
    "decomposed.seasonal['2018-07-15':'2018-07-22'].plot(title='Seasonality by week', figsize=(15,4));"
   ]
  },
  {
   "cell_type": "markdown",
   "metadata": {},
   "source": [
    "Заметим, что наименьшее количество заказов наблюдается в 6 утра."
   ]
  },
  {
   "cell_type": "markdown",
   "metadata": {},
   "source": [
    "<a id='Создание дамми модели'></a>"
   ]
  },
  {
   "cell_type": "markdown",
   "metadata": {},
   "source": [
    "### <p style=\"text-align:center\">Создание дамми модели</p>"
   ]
  },
  {
   "cell_type": "code",
   "execution_count": 21,
   "metadata": {},
   "outputs": [],
   "source": [
    "raw_train, raw_test = train_test_split(raw_data['num_orders'], shuffle=False, test_size=0.1)"
   ]
  },
  {
   "cell_type": "code",
   "execution_count": 22,
   "metadata": {},
   "outputs": [
    {
     "data": {
      "text/plain": [
       "87.24205906985632"
      ]
     },
     "execution_count": 22,
     "metadata": {},
     "output_type": "execute_result"
    }
   ],
   "source": [
    "pred_median = np.ones(raw_test.shape) * raw_train.median()\n",
    "rmse = np.sqrt(mean_squared_error(raw_test, pred_median))\n",
    "rmse"
   ]
  },
  {
   "cell_type": "code",
   "execution_count": 23,
   "metadata": {},
   "outputs": [
    {
     "data": {
      "text/plain": [
       "58.91761802963282"
      ]
     },
     "execution_count": 23,
     "metadata": {},
     "output_type": "execute_result"
    }
   ],
   "source": [
    "pred_previous = raw_test.shift()\n",
    "pred_previous.iloc[0] = raw_train.iloc[-1]\n",
    "rmse = np.sqrt(mean_squared_error(raw_test, pred_previous))\n",
    "rmse"
   ]
  },
  {
   "cell_type": "markdown",
   "metadata": {},
   "source": [
    "В качестве основной дамми модели примем вторую."
   ]
  },
  {
   "cell_type": "markdown",
   "metadata": {},
   "source": [
    "<a id='Вывод_2'></a>"
   ]
  },
  {
   "cell_type": "markdown",
   "metadata": {},
   "source": [
    "### <p style=\"text-align:center\"> Вывод</p>"
   ]
  },
  {
   "cell_type": "markdown",
   "metadata": {},
   "source": [
    "##### В ходе подготовки данных были сделаны следующие выводы:\n",
    "\n",
    "___\n",
    "\n",
    "\n",
    "1. Определили тренд, сезонность, визуализировали необходимую информацию.\n",
    "\n",
    "2. Создали дамми модель для контроля над качеством моделей.\n",
    "\n",
    "___\n",
    "\n",
    "Таким образом была выполнена подготовка и предварительный анализ предоставленной информации. Можно переходить к обучению моделей."
   ]
  },
  {
   "cell_type": "markdown",
   "metadata": {},
   "source": [
    " ## Часть 3. Обучение моделей"
   ]
  },
  {
   "cell_type": "markdown",
   "metadata": {},
   "source": [
    "<a id='Подготовка данных'></a>"
   ]
  },
  {
   "cell_type": "markdown",
   "metadata": {},
   "source": [
    "### <p style=\"text-align:center\">Подготовка данных</p>"
   ]
  },
  {
   "cell_type": "code",
   "execution_count": 24,
   "metadata": {},
   "outputs": [],
   "source": [
    "df = df.resample('1H').sum()"
   ]
  },
  {
   "cell_type": "code",
   "execution_count": 25,
   "metadata": {},
   "outputs": [],
   "source": [
    "def make_features(data, max_lag, rolling_mean_size):\n",
    "    data['dayofweek'] = data.index.dayofweek\n",
    "    data['hour'] = data.index.hour\n",
    "    \n",
    "    for lag in range(1, max_lag + 1):\n",
    "        data['lag_{}'.format(lag)] = data['num_orders'].shift(lag)\n",
    "\n",
    "    data['rolling_mean'] = data['num_orders'].shift().rolling(rolling_mean_size).mean()"
   ]
  },
  {
   "cell_type": "code",
   "execution_count": 26,
   "metadata": {},
   "outputs": [],
   "source": [
    "make_features(df, 2, 48)"
   ]
  },
  {
   "cell_type": "markdown",
   "metadata": {},
   "source": [
    "Проверяем."
   ]
  },
  {
   "cell_type": "code",
   "execution_count": 27,
   "metadata": {},
   "outputs": [
    {
     "data": {
      "text/html": [
       "<div>\n",
       "<style scoped>\n",
       "    .dataframe tbody tr th:only-of-type {\n",
       "        vertical-align: middle;\n",
       "    }\n",
       "\n",
       "    .dataframe tbody tr th {\n",
       "        vertical-align: top;\n",
       "    }\n",
       "\n",
       "    .dataframe thead th {\n",
       "        text-align: right;\n",
       "    }\n",
       "</style>\n",
       "<table border=\"1\" class=\"dataframe\">\n",
       "  <thead>\n",
       "    <tr style=\"text-align: right;\">\n",
       "      <th></th>\n",
       "      <th>num_orders</th>\n",
       "      <th>dayofweek</th>\n",
       "      <th>hour</th>\n",
       "      <th>lag_1</th>\n",
       "      <th>lag_2</th>\n",
       "      <th>rolling_mean</th>\n",
       "    </tr>\n",
       "    <tr>\n",
       "      <th>datetime</th>\n",
       "      <th></th>\n",
       "      <th></th>\n",
       "      <th></th>\n",
       "      <th></th>\n",
       "      <th></th>\n",
       "      <th></th>\n",
       "    </tr>\n",
       "  </thead>\n",
       "  <tbody>\n",
       "    <tr>\n",
       "      <td>2018-03-01 00:00:00</td>\n",
       "      <td>124</td>\n",
       "      <td>3</td>\n",
       "      <td>0</td>\n",
       "      <td>NaN</td>\n",
       "      <td>NaN</td>\n",
       "      <td>NaN</td>\n",
       "    </tr>\n",
       "    <tr>\n",
       "      <td>2018-03-01 01:00:00</td>\n",
       "      <td>85</td>\n",
       "      <td>3</td>\n",
       "      <td>1</td>\n",
       "      <td>124.0</td>\n",
       "      <td>NaN</td>\n",
       "      <td>NaN</td>\n",
       "    </tr>\n",
       "    <tr>\n",
       "      <td>2018-03-01 02:00:00</td>\n",
       "      <td>71</td>\n",
       "      <td>3</td>\n",
       "      <td>2</td>\n",
       "      <td>85.0</td>\n",
       "      <td>124.0</td>\n",
       "      <td>NaN</td>\n",
       "    </tr>\n",
       "    <tr>\n",
       "      <td>2018-03-01 03:00:00</td>\n",
       "      <td>66</td>\n",
       "      <td>3</td>\n",
       "      <td>3</td>\n",
       "      <td>71.0</td>\n",
       "      <td>85.0</td>\n",
       "      <td>NaN</td>\n",
       "    </tr>\n",
       "    <tr>\n",
       "      <td>2018-03-01 04:00:00</td>\n",
       "      <td>43</td>\n",
       "      <td>3</td>\n",
       "      <td>4</td>\n",
       "      <td>66.0</td>\n",
       "      <td>71.0</td>\n",
       "      <td>NaN</td>\n",
       "    </tr>\n",
       "    <tr>\n",
       "      <td>2018-03-01 05:00:00</td>\n",
       "      <td>6</td>\n",
       "      <td>3</td>\n",
       "      <td>5</td>\n",
       "      <td>43.0</td>\n",
       "      <td>66.0</td>\n",
       "      <td>NaN</td>\n",
       "    </tr>\n",
       "    <tr>\n",
       "      <td>2018-03-01 06:00:00</td>\n",
       "      <td>12</td>\n",
       "      <td>3</td>\n",
       "      <td>6</td>\n",
       "      <td>6.0</td>\n",
       "      <td>43.0</td>\n",
       "      <td>NaN</td>\n",
       "    </tr>\n",
       "    <tr>\n",
       "      <td>2018-03-01 07:00:00</td>\n",
       "      <td>15</td>\n",
       "      <td>3</td>\n",
       "      <td>7</td>\n",
       "      <td>12.0</td>\n",
       "      <td>6.0</td>\n",
       "      <td>NaN</td>\n",
       "    </tr>\n",
       "    <tr>\n",
       "      <td>2018-03-01 08:00:00</td>\n",
       "      <td>34</td>\n",
       "      <td>3</td>\n",
       "      <td>8</td>\n",
       "      <td>15.0</td>\n",
       "      <td>12.0</td>\n",
       "      <td>NaN</td>\n",
       "    </tr>\n",
       "    <tr>\n",
       "      <td>2018-03-01 09:00:00</td>\n",
       "      <td>69</td>\n",
       "      <td>3</td>\n",
       "      <td>9</td>\n",
       "      <td>34.0</td>\n",
       "      <td>15.0</td>\n",
       "      <td>NaN</td>\n",
       "    </tr>\n",
       "    <tr>\n",
       "      <td>2018-03-01 10:00:00</td>\n",
       "      <td>64</td>\n",
       "      <td>3</td>\n",
       "      <td>10</td>\n",
       "      <td>69.0</td>\n",
       "      <td>34.0</td>\n",
       "      <td>NaN</td>\n",
       "    </tr>\n",
       "    <tr>\n",
       "      <td>2018-03-01 11:00:00</td>\n",
       "      <td>96</td>\n",
       "      <td>3</td>\n",
       "      <td>11</td>\n",
       "      <td>64.0</td>\n",
       "      <td>69.0</td>\n",
       "      <td>NaN</td>\n",
       "    </tr>\n",
       "    <tr>\n",
       "      <td>2018-03-01 12:00:00</td>\n",
       "      <td>30</td>\n",
       "      <td>3</td>\n",
       "      <td>12</td>\n",
       "      <td>96.0</td>\n",
       "      <td>64.0</td>\n",
       "      <td>NaN</td>\n",
       "    </tr>\n",
       "    <tr>\n",
       "      <td>2018-03-01 13:00:00</td>\n",
       "      <td>32</td>\n",
       "      <td>3</td>\n",
       "      <td>13</td>\n",
       "      <td>30.0</td>\n",
       "      <td>96.0</td>\n",
       "      <td>NaN</td>\n",
       "    </tr>\n",
       "    <tr>\n",
       "      <td>2018-03-01 14:00:00</td>\n",
       "      <td>48</td>\n",
       "      <td>3</td>\n",
       "      <td>14</td>\n",
       "      <td>32.0</td>\n",
       "      <td>30.0</td>\n",
       "      <td>NaN</td>\n",
       "    </tr>\n",
       "    <tr>\n",
       "      <td>2018-03-01 15:00:00</td>\n",
       "      <td>66</td>\n",
       "      <td>3</td>\n",
       "      <td>15</td>\n",
       "      <td>48.0</td>\n",
       "      <td>32.0</td>\n",
       "      <td>NaN</td>\n",
       "    </tr>\n",
       "    <tr>\n",
       "      <td>2018-03-01 16:00:00</td>\n",
       "      <td>43</td>\n",
       "      <td>3</td>\n",
       "      <td>16</td>\n",
       "      <td>66.0</td>\n",
       "      <td>48.0</td>\n",
       "      <td>NaN</td>\n",
       "    </tr>\n",
       "    <tr>\n",
       "      <td>2018-03-01 17:00:00</td>\n",
       "      <td>44</td>\n",
       "      <td>3</td>\n",
       "      <td>17</td>\n",
       "      <td>43.0</td>\n",
       "      <td>66.0</td>\n",
       "      <td>NaN</td>\n",
       "    </tr>\n",
       "    <tr>\n",
       "      <td>2018-03-01 18:00:00</td>\n",
       "      <td>73</td>\n",
       "      <td>3</td>\n",
       "      <td>18</td>\n",
       "      <td>44.0</td>\n",
       "      <td>43.0</td>\n",
       "      <td>NaN</td>\n",
       "    </tr>\n",
       "    <tr>\n",
       "      <td>2018-03-01 19:00:00</td>\n",
       "      <td>45</td>\n",
       "      <td>3</td>\n",
       "      <td>19</td>\n",
       "      <td>73.0</td>\n",
       "      <td>44.0</td>\n",
       "      <td>NaN</td>\n",
       "    </tr>\n",
       "    <tr>\n",
       "      <td>2018-03-01 20:00:00</td>\n",
       "      <td>61</td>\n",
       "      <td>3</td>\n",
       "      <td>20</td>\n",
       "      <td>45.0</td>\n",
       "      <td>73.0</td>\n",
       "      <td>NaN</td>\n",
       "    </tr>\n",
       "    <tr>\n",
       "      <td>2018-03-01 21:00:00</td>\n",
       "      <td>66</td>\n",
       "      <td>3</td>\n",
       "      <td>21</td>\n",
       "      <td>61.0</td>\n",
       "      <td>45.0</td>\n",
       "      <td>NaN</td>\n",
       "    </tr>\n",
       "    <tr>\n",
       "      <td>2018-03-01 22:00:00</td>\n",
       "      <td>113</td>\n",
       "      <td>3</td>\n",
       "      <td>22</td>\n",
       "      <td>66.0</td>\n",
       "      <td>61.0</td>\n",
       "      <td>NaN</td>\n",
       "    </tr>\n",
       "    <tr>\n",
       "      <td>2018-03-01 23:00:00</td>\n",
       "      <td>58</td>\n",
       "      <td>3</td>\n",
       "      <td>23</td>\n",
       "      <td>113.0</td>\n",
       "      <td>66.0</td>\n",
       "      <td>NaN</td>\n",
       "    </tr>\n",
       "    <tr>\n",
       "      <td>2018-03-02 00:00:00</td>\n",
       "      <td>90</td>\n",
       "      <td>4</td>\n",
       "      <td>0</td>\n",
       "      <td>58.0</td>\n",
       "      <td>113.0</td>\n",
       "      <td>NaN</td>\n",
       "    </tr>\n",
       "    <tr>\n",
       "      <td>2018-03-02 01:00:00</td>\n",
       "      <td>120</td>\n",
       "      <td>4</td>\n",
       "      <td>1</td>\n",
       "      <td>90.0</td>\n",
       "      <td>58.0</td>\n",
       "      <td>NaN</td>\n",
       "    </tr>\n",
       "    <tr>\n",
       "      <td>2018-03-02 02:00:00</td>\n",
       "      <td>75</td>\n",
       "      <td>4</td>\n",
       "      <td>2</td>\n",
       "      <td>120.0</td>\n",
       "      <td>90.0</td>\n",
       "      <td>NaN</td>\n",
       "    </tr>\n",
       "    <tr>\n",
       "      <td>2018-03-02 03:00:00</td>\n",
       "      <td>64</td>\n",
       "      <td>4</td>\n",
       "      <td>3</td>\n",
       "      <td>75.0</td>\n",
       "      <td>120.0</td>\n",
       "      <td>NaN</td>\n",
       "    </tr>\n",
       "    <tr>\n",
       "      <td>2018-03-02 04:00:00</td>\n",
       "      <td>20</td>\n",
       "      <td>4</td>\n",
       "      <td>4</td>\n",
       "      <td>64.0</td>\n",
       "      <td>75.0</td>\n",
       "      <td>NaN</td>\n",
       "    </tr>\n",
       "    <tr>\n",
       "      <td>2018-03-02 05:00:00</td>\n",
       "      <td>11</td>\n",
       "      <td>4</td>\n",
       "      <td>5</td>\n",
       "      <td>20.0</td>\n",
       "      <td>64.0</td>\n",
       "      <td>NaN</td>\n",
       "    </tr>\n",
       "  </tbody>\n",
       "</table>\n",
       "</div>"
      ],
      "text/plain": [
       "                     num_orders  dayofweek  hour  lag_1  lag_2  rolling_mean\n",
       "datetime                                                                    \n",
       "2018-03-01 00:00:00         124          3     0    NaN    NaN           NaN\n",
       "2018-03-01 01:00:00          85          3     1  124.0    NaN           NaN\n",
       "2018-03-01 02:00:00          71          3     2   85.0  124.0           NaN\n",
       "2018-03-01 03:00:00          66          3     3   71.0   85.0           NaN\n",
       "2018-03-01 04:00:00          43          3     4   66.0   71.0           NaN\n",
       "2018-03-01 05:00:00           6          3     5   43.0   66.0           NaN\n",
       "2018-03-01 06:00:00          12          3     6    6.0   43.0           NaN\n",
       "2018-03-01 07:00:00          15          3     7   12.0    6.0           NaN\n",
       "2018-03-01 08:00:00          34          3     8   15.0   12.0           NaN\n",
       "2018-03-01 09:00:00          69          3     9   34.0   15.0           NaN\n",
       "2018-03-01 10:00:00          64          3    10   69.0   34.0           NaN\n",
       "2018-03-01 11:00:00          96          3    11   64.0   69.0           NaN\n",
       "2018-03-01 12:00:00          30          3    12   96.0   64.0           NaN\n",
       "2018-03-01 13:00:00          32          3    13   30.0   96.0           NaN\n",
       "2018-03-01 14:00:00          48          3    14   32.0   30.0           NaN\n",
       "2018-03-01 15:00:00          66          3    15   48.0   32.0           NaN\n",
       "2018-03-01 16:00:00          43          3    16   66.0   48.0           NaN\n",
       "2018-03-01 17:00:00          44          3    17   43.0   66.0           NaN\n",
       "2018-03-01 18:00:00          73          3    18   44.0   43.0           NaN\n",
       "2018-03-01 19:00:00          45          3    19   73.0   44.0           NaN\n",
       "2018-03-01 20:00:00          61          3    20   45.0   73.0           NaN\n",
       "2018-03-01 21:00:00          66          3    21   61.0   45.0           NaN\n",
       "2018-03-01 22:00:00         113          3    22   66.0   61.0           NaN\n",
       "2018-03-01 23:00:00          58          3    23  113.0   66.0           NaN\n",
       "2018-03-02 00:00:00          90          4     0   58.0  113.0           NaN\n",
       "2018-03-02 01:00:00         120          4     1   90.0   58.0           NaN\n",
       "2018-03-02 02:00:00          75          4     2  120.0   90.0           NaN\n",
       "2018-03-02 03:00:00          64          4     3   75.0  120.0           NaN\n",
       "2018-03-02 04:00:00          20          4     4   64.0   75.0           NaN\n",
       "2018-03-02 05:00:00          11          4     5   20.0   64.0           NaN"
      ]
     },
     "execution_count": 27,
     "metadata": {},
     "output_type": "execute_result"
    }
   ],
   "source": [
    "df.head(30)"
   ]
  },
  {
   "cell_type": "markdown",
   "metadata": {},
   "source": [
    "Разделим датасет на выборки."
   ]
  },
  {
   "cell_type": "code",
   "execution_count": 28,
   "metadata": {},
   "outputs": [],
   "source": [
    "train, test = train_test_split(df, shuffle=False, test_size=0.1)\n",
    "train = train.dropna()"
   ]
  },
  {
   "cell_type": "code",
   "execution_count": 29,
   "metadata": {},
   "outputs": [],
   "source": [
    "features_train = train.drop(['num_orders'], axis=1)\n",
    "target_train = train['num_orders']\n",
    "features_test = test.drop(['num_orders'],axis=1)\n",
    "target_test = test['num_orders']"
   ]
  },
  {
   "cell_type": "markdown",
   "metadata": {},
   "source": [
    "Проверим размеры выборок."
   ]
  },
  {
   "cell_type": "code",
   "execution_count": 30,
   "metadata": {},
   "outputs": [
    {
     "name": "stdout",
     "output_type": "stream",
     "text": [
      "Признаки обучающей выборки: (3926, 5) Целевой признак обучающей выборки: (3926,) Признаки тестовой выборки: (442, 5) Целевой признак тестовой выборки: (442,)\n"
     ]
    }
   ],
   "source": [
    "print('Признаки обучающей выборки:',features_train.shape,\n",
    "      'Целевой признак обучающей выборки:', target_train.shape, \n",
    "      'Признаки тестовой выборки:', features_test.shape,\n",
    "      'Целевой признак тестовой выборки:', target_test.shape)"
   ]
  },
  {
   "cell_type": "markdown",
   "metadata": {},
   "source": [
    "<a id='Линейная регрессия'></a>"
   ]
  },
  {
   "cell_type": "markdown",
   "metadata": {},
   "source": [
    "### <p style=\"text-align:center\">Линейная регрессия</p>"
   ]
  },
  {
   "cell_type": "markdown",
   "metadata": {},
   "source": [
    "Попробуем обучить линейную регрессию."
   ]
  },
  {
   "cell_type": "code",
   "execution_count": 31,
   "metadata": {},
   "outputs": [],
   "source": [
    "linear_model = LinearRegression(n_jobs=-1)\n",
    "linear_model.fit(features_train, target_train)\n",
    "linear_model_predictions = linear_model.predict(features_train)"
   ]
  },
  {
   "cell_type": "code",
   "execution_count": 32,
   "metadata": {},
   "outputs": [
    {
     "data": {
      "text/plain": [
       "30.83945436796326"
      ]
     },
     "execution_count": 32,
     "metadata": {},
     "output_type": "execute_result"
    }
   ],
   "source": [
    "linear_rmse = np.sqrt(mean_squared_error(target_train, linear_model_predictions))\n",
    "linear_rmse"
   ]
  },
  {
   "cell_type": "markdown",
   "metadata": {},
   "source": [
    "RMSE линейной модели чуть лучше показателя дамми модели, однако нет возможности улучшить модель гиперпараметрами."
   ]
  },
  {
   "cell_type": "markdown",
   "metadata": {},
   "source": [
    "<a id='Случайный лес'></a>"
   ]
  },
  {
   "cell_type": "markdown",
   "metadata": {},
   "source": [
    "### <p style=\"text-align:center\">Случайный лес</p>"
   ]
  },
  {
   "cell_type": "markdown",
   "metadata": {},
   "source": [
    "Попробуем обучить модель случайного леса."
   ]
  },
  {
   "cell_type": "code",
   "execution_count": 33,
   "metadata": {},
   "outputs": [],
   "source": [
    "forest_model = RandomForestRegressor(n_estimators=200, max_depth=5, min_samples_split=4)\n",
    "forest_model.fit(features_train, target_train)\n",
    "forest_model_predictions = forest_model.predict(features_train)"
   ]
  },
  {
   "cell_type": "code",
   "execution_count": 34,
   "metadata": {},
   "outputs": [
    {
     "data": {
      "text/plain": [
       "24.055797242169845"
      ]
     },
     "execution_count": 34,
     "metadata": {},
     "output_type": "execute_result"
    }
   ],
   "source": [
    "forest_rmse = np.sqrt(mean_squared_error(target_train, forest_model_predictions))\n",
    "forest_rmse"
   ]
  },
  {
   "cell_type": "markdown",
   "metadata": {},
   "source": [
    "RMSE модели случайного леса лучше показателя дамми модели. Есть возможность улучшить модель гиперпараметрами, также есть риск переобучения."
   ]
  },
  {
   "cell_type": "markdown",
   "metadata": {},
   "source": [
    "<a id='LGBM'></a>"
   ]
  },
  {
   "cell_type": "markdown",
   "metadata": {},
   "source": [
    "### <p style=\"text-align:center\">LGBM</p>"
   ]
  },
  {
   "cell_type": "markdown",
   "metadata": {},
   "source": [
    "Обучим LGBM."
   ]
  },
  {
   "cell_type": "code",
   "execution_count": 35,
   "metadata": {},
   "outputs": [],
   "source": [
    "lgbm_model = lgb.LGBMRegressor(task='train', learning_rate=0.5, verbose=200, objective='regression')"
   ]
  },
  {
   "cell_type": "code",
   "execution_count": 36,
   "metadata": {
    "scrolled": true
   },
   "outputs": [
    {
     "name": "stdout",
     "output_type": "stream",
     "text": [
      "[1]\tvalid_0's rmse: 65.2164\tvalid_0's l2: 4253.18\n",
      "[2]\tvalid_0's rmse: 56.9215\tvalid_0's l2: 3240.06\n",
      "[3]\tvalid_0's rmse: 53.3415\tvalid_0's l2: 2845.31\n",
      "[4]\tvalid_0's rmse: 50.4332\tvalid_0's l2: 2543.51\n",
      "[5]\tvalid_0's rmse: 49.5128\tvalid_0's l2: 2451.51\n",
      "[6]\tvalid_0's rmse: 48.6083\tvalid_0's l2: 2362.77\n",
      "[7]\tvalid_0's rmse: 48.6468\tvalid_0's l2: 2366.51\n",
      "[8]\tvalid_0's rmse: 47.9574\tvalid_0's l2: 2299.91\n",
      "[9]\tvalid_0's rmse: 47.5976\tvalid_0's l2: 2265.53\n",
      "[10]\tvalid_0's rmse: 46.3128\tvalid_0's l2: 2144.87\n",
      "[11]\tvalid_0's rmse: 45.8631\tvalid_0's l2: 2103.42\n",
      "[12]\tvalid_0's rmse: 46.226\tvalid_0's l2: 2136.84\n",
      "[13]\tvalid_0's rmse: 46.7054\tvalid_0's l2: 2181.39\n",
      "[14]\tvalid_0's rmse: 47.1797\tvalid_0's l2: 2225.93\n",
      "[15]\tvalid_0's rmse: 47.1269\tvalid_0's l2: 2220.94\n",
      "[16]\tvalid_0's rmse: 47.1467\tvalid_0's l2: 2222.82\n",
      "[17]\tvalid_0's rmse: 47.6621\tvalid_0's l2: 2271.68\n",
      "[18]\tvalid_0's rmse: 46.9274\tvalid_0's l2: 2202.18\n",
      "[19]\tvalid_0's rmse: 47.2609\tvalid_0's l2: 2233.6\n",
      "[20]\tvalid_0's rmse: 47.188\tvalid_0's l2: 2226.7\n",
      "[21]\tvalid_0's rmse: 47.1408\tvalid_0's l2: 2222.26\n",
      "[22]\tvalid_0's rmse: 46.8179\tvalid_0's l2: 2191.92\n",
      "[23]\tvalid_0's rmse: 47.0665\tvalid_0's l2: 2215.25\n",
      "[24]\tvalid_0's rmse: 47.2632\tvalid_0's l2: 2233.81\n",
      "[25]\tvalid_0's rmse: 46.4387\tvalid_0's l2: 2156.55\n",
      "[26]\tvalid_0's rmse: 46.5062\tvalid_0's l2: 2162.83\n",
      "[27]\tvalid_0's rmse: 46.5669\tvalid_0's l2: 2168.48\n",
      "[28]\tvalid_0's rmse: 45.9227\tvalid_0's l2: 2108.89\n",
      "[29]\tvalid_0's rmse: 46.1857\tvalid_0's l2: 2133.12\n",
      "[30]\tvalid_0's rmse: 46.5835\tvalid_0's l2: 2170.03\n",
      "[31]\tvalid_0's rmse: 46.2159\tvalid_0's l2: 2135.91\n",
      "[32]\tvalid_0's rmse: 45.9858\tvalid_0's l2: 2114.69\n",
      "[33]\tvalid_0's rmse: 46.0562\tvalid_0's l2: 2121.17\n",
      "[34]\tvalid_0's rmse: 45.7982\tvalid_0's l2: 2097.48\n",
      "[35]\tvalid_0's rmse: 45.7424\tvalid_0's l2: 2092.36\n",
      "[36]\tvalid_0's rmse: 45.7494\tvalid_0's l2: 2093.01\n",
      "[37]\tvalid_0's rmse: 45.9797\tvalid_0's l2: 2114.13\n",
      "[38]\tvalid_0's rmse: 46.0417\tvalid_0's l2: 2119.84\n",
      "[39]\tvalid_0's rmse: 46.0456\tvalid_0's l2: 2120.19\n",
      "[40]\tvalid_0's rmse: 46.6284\tvalid_0's l2: 2174.2\n",
      "[41]\tvalid_0's rmse: 46.7438\tvalid_0's l2: 2184.99\n",
      "[42]\tvalid_0's rmse: 47.0178\tvalid_0's l2: 2210.67\n",
      "[43]\tvalid_0's rmse: 46.9461\tvalid_0's l2: 2203.94\n",
      "[44]\tvalid_0's rmse: 46.9164\tvalid_0's l2: 2201.15\n",
      "[45]\tvalid_0's rmse: 46.8423\tvalid_0's l2: 2194.2\n",
      "[46]\tvalid_0's rmse: 46.9231\tvalid_0's l2: 2201.77\n",
      "[47]\tvalid_0's rmse: 46.9367\tvalid_0's l2: 2203.05\n",
      "[48]\tvalid_0's rmse: 46.9324\tvalid_0's l2: 2202.65\n",
      "[49]\tvalid_0's rmse: 46.953\tvalid_0's l2: 2204.58\n",
      "[50]\tvalid_0's rmse: 47.029\tvalid_0's l2: 2211.72\n",
      "[51]\tvalid_0's rmse: 47.1211\tvalid_0's l2: 2220.4\n",
      "[52]\tvalid_0's rmse: 47.095\tvalid_0's l2: 2217.94\n",
      "[53]\tvalid_0's rmse: 46.9883\tvalid_0's l2: 2207.9\n",
      "[54]\tvalid_0's rmse: 47.1989\tvalid_0's l2: 2227.73\n",
      "[55]\tvalid_0's rmse: 47.3475\tvalid_0's l2: 2241.78\n",
      "[56]\tvalid_0's rmse: 47.119\tvalid_0's l2: 2220.2\n",
      "[57]\tvalid_0's rmse: 47.4045\tvalid_0's l2: 2247.18\n",
      "[58]\tvalid_0's rmse: 47.2785\tvalid_0's l2: 2235.26\n",
      "[59]\tvalid_0's rmse: 47.5855\tvalid_0's l2: 2264.38\n",
      "[60]\tvalid_0's rmse: 47.2809\tvalid_0's l2: 2235.49\n",
      "[61]\tvalid_0's rmse: 47.3156\tvalid_0's l2: 2238.77\n",
      "[62]\tvalid_0's rmse: 47.2228\tvalid_0's l2: 2229.99\n",
      "[63]\tvalid_0's rmse: 47.4999\tvalid_0's l2: 2256.24\n",
      "[64]\tvalid_0's rmse: 47.6724\tvalid_0's l2: 2272.66\n",
      "[65]\tvalid_0's rmse: 47.659\tvalid_0's l2: 2271.38\n",
      "[66]\tvalid_0's rmse: 47.6413\tvalid_0's l2: 2269.7\n",
      "[67]\tvalid_0's rmse: 47.6505\tvalid_0's l2: 2270.57\n",
      "[68]\tvalid_0's rmse: 47.8703\tvalid_0's l2: 2291.57\n",
      "[69]\tvalid_0's rmse: 47.3959\tvalid_0's l2: 2246.37\n",
      "[70]\tvalid_0's rmse: 47.4722\tvalid_0's l2: 2253.61\n",
      "[71]\tvalid_0's rmse: 47.5453\tvalid_0's l2: 2260.56\n",
      "[72]\tvalid_0's rmse: 47.5648\tvalid_0's l2: 2262.41\n",
      "[73]\tvalid_0's rmse: 47.6191\tvalid_0's l2: 2267.58\n",
      "[74]\tvalid_0's rmse: 47.6686\tvalid_0's l2: 2272.29\n",
      "[75]\tvalid_0's rmse: 47.6424\tvalid_0's l2: 2269.79\n",
      "[76]\tvalid_0's rmse: 47.2849\tvalid_0's l2: 2235.86\n",
      "[77]\tvalid_0's rmse: 47.2722\tvalid_0's l2: 2234.66\n",
      "[78]\tvalid_0's rmse: 47.3818\tvalid_0's l2: 2245.04\n",
      "[79]\tvalid_0's rmse: 47.389\tvalid_0's l2: 2245.71\n",
      "[80]\tvalid_0's rmse: 47.3438\tvalid_0's l2: 2241.44\n",
      "[81]\tvalid_0's rmse: 46.854\tvalid_0's l2: 2195.29\n",
      "[82]\tvalid_0's rmse: 46.8231\tvalid_0's l2: 2192.4\n",
      "[83]\tvalid_0's rmse: 46.8402\tvalid_0's l2: 2194\n",
      "[84]\tvalid_0's rmse: 46.9228\tvalid_0's l2: 2201.75\n",
      "[85]\tvalid_0's rmse: 46.6029\tvalid_0's l2: 2171.83\n",
      "[86]\tvalid_0's rmse: 46.8093\tvalid_0's l2: 2191.11\n",
      "[87]\tvalid_0's rmse: 46.8268\tvalid_0's l2: 2192.75\n",
      "[88]\tvalid_0's rmse: 46.8448\tvalid_0's l2: 2194.43\n",
      "[89]\tvalid_0's rmse: 46.8434\tvalid_0's l2: 2194.31\n",
      "[90]\tvalid_0's rmse: 46.6776\tvalid_0's l2: 2178.8\n",
      "[91]\tvalid_0's rmse: 46.8765\tvalid_0's l2: 2197.41\n",
      "[92]\tvalid_0's rmse: 46.4898\tvalid_0's l2: 2161.3\n",
      "[93]\tvalid_0's rmse: 46.6313\tvalid_0's l2: 2174.48\n",
      "[94]\tvalid_0's rmse: 46.6483\tvalid_0's l2: 2176.07\n",
      "[95]\tvalid_0's rmse: 46.8921\tvalid_0's l2: 2198.87\n",
      "[96]\tvalid_0's rmse: 46.8809\tvalid_0's l2: 2197.82\n",
      "[97]\tvalid_0's rmse: 46.7989\tvalid_0's l2: 2190.14\n",
      "[98]\tvalid_0's rmse: 46.8145\tvalid_0's l2: 2191.6\n",
      "[99]\tvalid_0's rmse: 47.0688\tvalid_0's l2: 2215.47\n",
      "[100]\tvalid_0's rmse: 47.1497\tvalid_0's l2: 2223.09\n"
     ]
    }
   ],
   "source": [
    "lgbm_model.fit(features_train, target_train, eval_set=[(features_test, target_test)], eval_metric='rmse')\n",
    "lgbm_prediction = lgbm_model.predict(features_train, num_iteration = lgbm_model.best_iteration_)"
   ]
  },
  {
   "cell_type": "code",
   "execution_count": 37,
   "metadata": {},
   "outputs": [
    {
     "data": {
      "text/plain": [
       "9.631036093745413"
      ]
     },
     "execution_count": 37,
     "metadata": {},
     "output_type": "execute_result"
    }
   ],
   "source": [
    "lgbm_rmse = np.sqrt(mean_squared_error(target_train, lgbm_prediction))\n",
    "lgbm_rmse"
   ]
  },
  {
   "cell_type": "markdown",
   "metadata": {},
   "source": [
    "RMSE LGBM значительно лучше показателя дамми модели. Есть возможность улучшить модель гиперпараметрами, однако это может привести к значительному увеличению продолжительности обучения."
   ]
  },
  {
   "cell_type": "markdown",
   "metadata": {},
   "source": [
    "<a id='CatBoost'></a>"
   ]
  },
  {
   "cell_type": "markdown",
   "metadata": {},
   "source": [
    "### <p style=\"text-align:center\">CatBoost</p>"
   ]
  },
  {
   "cell_type": "markdown",
   "metadata": {},
   "source": [
    "Обучим модель CatBoost."
   ]
  },
  {
   "cell_type": "code",
   "execution_count": 38,
   "metadata": {
    "scrolled": true
   },
   "outputs": [
    {
     "name": "stdout",
     "output_type": "stream",
     "text": [
      "0:\tlearn: 31.0520858\ttotal: 48.6ms\tremaining: 14.5s\n",
      "1:\tlearn: 28.4526550\ttotal: 49.9ms\tremaining: 7.44s\n",
      "2:\tlearn: 26.9656253\ttotal: 51.2ms\tremaining: 5.07s\n",
      "3:\tlearn: 25.9613192\ttotal: 52.4ms\tremaining: 3.88s\n",
      "4:\tlearn: 25.2152263\ttotal: 53.6ms\tremaining: 3.16s\n",
      "5:\tlearn: 25.1093761\ttotal: 54.8ms\tremaining: 2.68s\n",
      "6:\tlearn: 24.8723300\ttotal: 55.9ms\tremaining: 2.34s\n",
      "7:\tlearn: 24.6872992\ttotal: 57.1ms\tremaining: 2.08s\n",
      "8:\tlearn: 24.6483448\ttotal: 58.3ms\tremaining: 1.89s\n",
      "9:\tlearn: 24.4481778\ttotal: 61.5ms\tremaining: 1.78s\n",
      "10:\tlearn: 24.1741802\ttotal: 62.8ms\tremaining: 1.65s\n",
      "11:\tlearn: 23.9679884\ttotal: 66.9ms\tremaining: 1.6s\n",
      "12:\tlearn: 23.3902267\ttotal: 70.2ms\tremaining: 1.55s\n",
      "13:\tlearn: 23.3089709\ttotal: 71.7ms\tremaining: 1.46s\n",
      "14:\tlearn: 23.0655965\ttotal: 72.9ms\tremaining: 1.38s\n",
      "15:\tlearn: 22.8543618\ttotal: 159ms\tremaining: 2.82s\n",
      "16:\tlearn: 22.7416861\ttotal: 160ms\tremaining: 2.67s\n",
      "17:\tlearn: 22.7085548\ttotal: 162ms\tremaining: 2.53s\n",
      "18:\tlearn: 22.4989459\ttotal: 163ms\tremaining: 2.41s\n",
      "19:\tlearn: 22.4787630\ttotal: 164ms\tremaining: 2.3s\n",
      "20:\tlearn: 22.4388377\ttotal: 165ms\tremaining: 2.2s\n",
      "21:\tlearn: 22.2484869\ttotal: 167ms\tremaining: 2.1s\n",
      "22:\tlearn: 22.0974494\ttotal: 168ms\tremaining: 2.02s\n",
      "23:\tlearn: 21.8809360\ttotal: 169ms\tremaining: 1.94s\n",
      "24:\tlearn: 21.7917976\ttotal: 254ms\tremaining: 2.79s\n",
      "25:\tlearn: 21.7800595\ttotal: 256ms\tremaining: 2.7s\n",
      "26:\tlearn: 21.6720128\ttotal: 257ms\tremaining: 2.6s\n",
      "27:\tlearn: 21.4740365\ttotal: 259ms\tremaining: 2.51s\n",
      "28:\tlearn: 21.3597480\ttotal: 260ms\tremaining: 2.43s\n",
      "29:\tlearn: 21.2887344\ttotal: 261ms\tremaining: 2.35s\n",
      "30:\tlearn: 21.2120592\ttotal: 262ms\tremaining: 2.27s\n",
      "31:\tlearn: 21.1219497\ttotal: 263ms\tremaining: 2.21s\n",
      "32:\tlearn: 20.9730949\ttotal: 350ms\tremaining: 2.83s\n",
      "33:\tlearn: 20.9062195\ttotal: 351ms\tremaining: 2.75s\n",
      "34:\tlearn: 20.8189642\ttotal: 353ms\tremaining: 2.67s\n",
      "35:\tlearn: 20.7430128\ttotal: 354ms\tremaining: 2.6s\n",
      "36:\tlearn: 20.7349896\ttotal: 355ms\tremaining: 2.52s\n",
      "37:\tlearn: 20.6515257\ttotal: 356ms\tremaining: 2.46s\n",
      "38:\tlearn: 20.5755055\ttotal: 359ms\tremaining: 2.4s\n",
      "39:\tlearn: 20.5055459\ttotal: 366ms\tremaining: 2.38s\n",
      "40:\tlearn: 20.4520698\ttotal: 446ms\tremaining: 2.82s\n",
      "41:\tlearn: 20.3994868\ttotal: 449ms\tremaining: 2.76s\n",
      "42:\tlearn: 20.3529445\ttotal: 451ms\tremaining: 2.69s\n",
      "43:\tlearn: 20.3062491\ttotal: 452ms\tremaining: 2.63s\n",
      "44:\tlearn: 20.2346155\ttotal: 453ms\tremaining: 2.57s\n",
      "45:\tlearn: 20.2046427\ttotal: 454ms\tremaining: 2.51s\n",
      "46:\tlearn: 20.1590350\ttotal: 455ms\tremaining: 2.45s\n",
      "47:\tlearn: 20.0528422\ttotal: 457ms\tremaining: 2.4s\n",
      "48:\tlearn: 20.0157482\ttotal: 542ms\tremaining: 2.77s\n",
      "49:\tlearn: 19.9777202\ttotal: 543ms\tremaining: 2.71s\n",
      "50:\tlearn: 19.9108669\ttotal: 544ms\tremaining: 2.66s\n",
      "51:\tlearn: 19.8288635\ttotal: 545ms\tremaining: 2.6s\n",
      "52:\tlearn: 19.7833008\ttotal: 547ms\tremaining: 2.55s\n",
      "53:\tlearn: 19.7529634\ttotal: 548ms\tremaining: 2.5s\n",
      "54:\tlearn: 19.7037581\ttotal: 549ms\tremaining: 2.45s\n",
      "55:\tlearn: 19.6264848\ttotal: 550ms\tremaining: 2.4s\n",
      "56:\tlearn: 19.5902056\ttotal: 637ms\tremaining: 2.72s\n",
      "57:\tlearn: 19.5556679\ttotal: 639ms\tremaining: 2.67s\n",
      "58:\tlearn: 19.4732069\ttotal: 640ms\tremaining: 2.61s\n",
      "59:\tlearn: 19.3812589\ttotal: 642ms\tremaining: 2.57s\n",
      "60:\tlearn: 19.3458799\ttotal: 646ms\tremaining: 2.53s\n",
      "61:\tlearn: 19.3018583\ttotal: 647ms\tremaining: 2.48s\n",
      "62:\tlearn: 19.2232554\ttotal: 648ms\tremaining: 2.44s\n",
      "63:\tlearn: 19.1651246\ttotal: 649ms\tremaining: 2.39s\n",
      "64:\tlearn: 19.1182290\ttotal: 651ms\tremaining: 2.35s\n",
      "65:\tlearn: 19.0546933\ttotal: 733ms\tremaining: 2.6s\n",
      "66:\tlearn: 19.0282781\ttotal: 734ms\tremaining: 2.55s\n",
      "67:\tlearn: 19.0120678\ttotal: 736ms\tremaining: 2.51s\n",
      "68:\tlearn: 18.9812915\ttotal: 737ms\tremaining: 2.47s\n",
      "69:\tlearn: 18.9455863\ttotal: 738ms\tremaining: 2.42s\n",
      "70:\tlearn: 18.8944372\ttotal: 739ms\tremaining: 2.38s\n",
      "71:\tlearn: 18.8560670\ttotal: 741ms\tremaining: 2.35s\n",
      "72:\tlearn: 18.8117465\ttotal: 742ms\tremaining: 2.31s\n",
      "73:\tlearn: 18.7777172\ttotal: 743ms\tremaining: 2.27s\n",
      "74:\tlearn: 18.7258343\ttotal: 744ms\tremaining: 2.23s\n",
      "75:\tlearn: 18.7204960\ttotal: 829ms\tremaining: 2.44s\n",
      "76:\tlearn: 18.6994445\ttotal: 830ms\tremaining: 2.4s\n",
      "77:\tlearn: 18.6855542\ttotal: 831ms\tremaining: 2.37s\n",
      "78:\tlearn: 18.6129266\ttotal: 833ms\tremaining: 2.33s\n",
      "79:\tlearn: 18.5871079\ttotal: 834ms\tremaining: 2.29s\n",
      "80:\tlearn: 18.5538266\ttotal: 839ms\tremaining: 2.27s\n",
      "81:\tlearn: 18.4936989\ttotal: 926ms\tremaining: 2.46s\n",
      "82:\tlearn: 18.4467773\ttotal: 927ms\tremaining: 2.42s\n",
      "83:\tlearn: 18.4246868\ttotal: 928ms\tremaining: 2.39s\n",
      "84:\tlearn: 18.3936968\ttotal: 930ms\tremaining: 2.35s\n",
      "85:\tlearn: 18.3602540\ttotal: 931ms\tremaining: 2.32s\n",
      "86:\tlearn: 18.3374323\ttotal: 932ms\tremaining: 2.28s\n",
      "87:\tlearn: 18.2958403\ttotal: 933ms\tremaining: 2.25s\n",
      "88:\tlearn: 18.2718795\ttotal: 935ms\tremaining: 2.22s\n",
      "89:\tlearn: 18.2418810\ttotal: 941ms\tremaining: 2.2s\n",
      "90:\tlearn: 18.2069579\ttotal: 1.02s\tremaining: 2.35s\n",
      "91:\tlearn: 18.1671517\ttotal: 1.02s\tremaining: 2.31s\n",
      "92:\tlearn: 18.1384785\ttotal: 1.02s\tremaining: 2.28s\n",
      "93:\tlearn: 18.0661891\ttotal: 1.02s\tremaining: 2.25s\n",
      "94:\tlearn: 18.0648086\ttotal: 1.03s\tremaining: 2.21s\n",
      "95:\tlearn: 18.0475448\ttotal: 1.03s\tremaining: 2.18s\n",
      "96:\tlearn: 18.0218332\ttotal: 1.03s\tremaining: 2.16s\n",
      "97:\tlearn: 18.0208729\ttotal: 1.03s\tremaining: 2.13s\n",
      "98:\tlearn: 18.0183623\ttotal: 1.12s\tremaining: 2.27s\n",
      "99:\tlearn: 18.0176137\ttotal: 1.12s\tremaining: 2.24s\n",
      "100:\tlearn: 17.9845771\ttotal: 1.12s\tremaining: 2.21s\n",
      "101:\tlearn: 17.9481737\ttotal: 1.12s\tremaining: 2.17s\n",
      "102:\tlearn: 17.9476067\ttotal: 1.12s\tremaining: 2.15s\n",
      "103:\tlearn: 17.9184669\ttotal: 1.12s\tremaining: 2.12s\n",
      "104:\tlearn: 17.9161474\ttotal: 1.12s\tremaining: 2.09s\n",
      "105:\tlearn: 17.9001459\ttotal: 1.13s\tremaining: 2.06s\n",
      "106:\tlearn: 17.8809045\ttotal: 1.13s\tremaining: 2.03s\n",
      "107:\tlearn: 17.8793369\ttotal: 1.13s\tremaining: 2s\n",
      "108:\tlearn: 17.8465155\ttotal: 1.21s\tremaining: 2.13s\n",
      "109:\tlearn: 17.8452239\ttotal: 1.21s\tremaining: 2.1s\n",
      "110:\tlearn: 17.8332194\ttotal: 1.22s\tremaining: 2.07s\n",
      "111:\tlearn: 17.8137521\ttotal: 1.22s\tremaining: 2.04s\n",
      "112:\tlearn: 17.7730430\ttotal: 1.22s\tremaining: 2.02s\n",
      "113:\tlearn: 17.7171199\ttotal: 1.22s\tremaining: 1.99s\n",
      "114:\tlearn: 17.6973352\ttotal: 1.22s\tremaining: 1.96s\n",
      "115:\tlearn: 17.6542400\ttotal: 1.22s\tremaining: 1.94s\n",
      "116:\tlearn: 17.6405842\ttotal: 1.31s\tremaining: 2.05s\n",
      "117:\tlearn: 17.6216485\ttotal: 1.31s\tremaining: 2.02s\n",
      "118:\tlearn: 17.6022150\ttotal: 1.31s\tremaining: 2s\n",
      "119:\tlearn: 17.5841015\ttotal: 1.31s\tremaining: 1.97s\n",
      "120:\tlearn: 17.5617953\ttotal: 1.31s\tremaining: 1.94s\n",
      "121:\tlearn: 17.5534932\ttotal: 1.31s\tremaining: 1.92s\n",
      "122:\tlearn: 17.5295728\ttotal: 1.32s\tremaining: 1.89s\n",
      "123:\tlearn: 17.5035882\ttotal: 1.32s\tremaining: 1.87s\n",
      "124:\tlearn: 17.4690380\ttotal: 1.4s\tremaining: 1.97s\n",
      "125:\tlearn: 17.4496876\ttotal: 1.41s\tremaining: 1.94s\n",
      "126:\tlearn: 17.4237939\ttotal: 1.41s\tremaining: 1.92s\n",
      "127:\tlearn: 17.4060934\ttotal: 1.41s\tremaining: 1.89s\n",
      "128:\tlearn: 17.3801230\ttotal: 1.41s\tremaining: 1.87s\n",
      "129:\tlearn: 17.3530392\ttotal: 1.41s\tremaining: 1.84s\n",
      "130:\tlearn: 17.3396648\ttotal: 1.41s\tremaining: 1.82s\n",
      "131:\tlearn: 17.3119517\ttotal: 1.41s\tremaining: 1.8s\n",
      "132:\tlearn: 17.3061867\ttotal: 1.42s\tremaining: 1.78s\n",
      "133:\tlearn: 17.2793411\ttotal: 1.5s\tremaining: 1.86s\n",
      "134:\tlearn: 17.2387830\ttotal: 1.5s\tremaining: 1.84s\n",
      "135:\tlearn: 17.2296193\ttotal: 1.5s\tremaining: 1.81s\n",
      "136:\tlearn: 17.2040023\ttotal: 1.5s\tremaining: 1.79s\n",
      "137:\tlearn: 17.1913685\ttotal: 1.51s\tremaining: 1.77s\n",
      "138:\tlearn: 17.1780871\ttotal: 1.51s\tremaining: 1.75s\n",
      "139:\tlearn: 17.1617151\ttotal: 1.51s\tremaining: 1.72s\n",
      "140:\tlearn: 17.1413925\ttotal: 1.51s\tremaining: 1.7s\n",
      "141:\tlearn: 17.1231280\ttotal: 1.51s\tremaining: 1.68s\n",
      "142:\tlearn: 17.0894957\ttotal: 1.6s\tremaining: 1.75s\n",
      "143:\tlearn: 17.0576474\ttotal: 1.6s\tremaining: 1.73s\n",
      "144:\tlearn: 17.0405955\ttotal: 1.6s\tremaining: 1.71s\n",
      "145:\tlearn: 17.0260273\ttotal: 1.6s\tremaining: 1.69s\n",
      "146:\tlearn: 16.9985734\ttotal: 1.6s\tremaining: 1.67s\n",
      "147:\tlearn: 16.9719214\ttotal: 1.6s\tremaining: 1.65s\n",
      "148:\tlearn: 16.9570833\ttotal: 1.6s\tremaining: 1.63s\n",
      "149:\tlearn: 16.9391559\ttotal: 1.61s\tremaining: 1.61s\n",
      "150:\tlearn: 16.9181549\ttotal: 1.61s\tremaining: 1.59s\n",
      "151:\tlearn: 16.9163206\ttotal: 1.69s\tremaining: 1.65s\n",
      "152:\tlearn: 16.8919360\ttotal: 1.69s\tremaining: 1.63s\n",
      "153:\tlearn: 16.8910465\ttotal: 1.7s\tremaining: 1.61s\n",
      "154:\tlearn: 16.8905123\ttotal: 1.7s\tremaining: 1.59s\n",
      "155:\tlearn: 16.8575003\ttotal: 1.7s\tremaining: 1.57s\n",
      "156:\tlearn: 16.8441341\ttotal: 1.7s\tremaining: 1.55s\n",
      "157:\tlearn: 16.8347971\ttotal: 1.7s\tremaining: 1.53s\n",
      "158:\tlearn: 16.8153353\ttotal: 1.7s\tremaining: 1.51s\n",
      "159:\tlearn: 16.8052594\ttotal: 1.7s\tremaining: 1.49s\n",
      "160:\tlearn: 16.7802736\ttotal: 1.79s\tremaining: 1.54s\n",
      "161:\tlearn: 16.7662538\ttotal: 1.79s\tremaining: 1.52s\n",
      "162:\tlearn: 16.7118350\ttotal: 1.79s\tremaining: 1.5s\n",
      "163:\tlearn: 16.6848280\ttotal: 1.79s\tremaining: 1.49s\n",
      "164:\tlearn: 16.6534604\ttotal: 1.79s\tremaining: 1.47s\n",
      "165:\tlearn: 16.6290166\ttotal: 1.79s\tremaining: 1.45s\n",
      "166:\tlearn: 16.6005066\ttotal: 1.79s\tremaining: 1.43s\n",
      "167:\tlearn: 16.5534605\ttotal: 1.8s\tremaining: 1.41s\n",
      "168:\tlearn: 16.5262354\ttotal: 1.8s\tremaining: 1.4s\n",
      "169:\tlearn: 16.5064073\ttotal: 1.88s\tremaining: 1.44s\n",
      "170:\tlearn: 16.4905933\ttotal: 1.89s\tremaining: 1.42s\n",
      "171:\tlearn: 16.4641756\ttotal: 1.89s\tremaining: 1.4s\n",
      "172:\tlearn: 16.4529459\ttotal: 1.89s\tremaining: 1.39s\n",
      "173:\tlearn: 16.4392405\ttotal: 1.89s\tremaining: 1.37s\n",
      "174:\tlearn: 16.4193217\ttotal: 1.89s\tremaining: 1.35s\n",
      "175:\tlearn: 16.3971593\ttotal: 1.89s\tremaining: 1.33s\n",
      "176:\tlearn: 16.3752241\ttotal: 1.89s\tremaining: 1.31s\n",
      "177:\tlearn: 16.3487534\ttotal: 1.98s\tremaining: 1.36s\n",
      "178:\tlearn: 16.3393076\ttotal: 1.98s\tremaining: 1.34s\n",
      "179:\tlearn: 16.3277677\ttotal: 1.98s\tremaining: 1.32s\n",
      "180:\tlearn: 16.3163591\ttotal: 1.98s\tremaining: 1.3s\n",
      "181:\tlearn: 16.2952577\ttotal: 1.98s\tremaining: 1.29s\n",
      "182:\tlearn: 16.2924484\ttotal: 1.99s\tremaining: 1.27s\n",
      "183:\tlearn: 16.2797282\ttotal: 1.99s\tremaining: 1.25s\n",
      "184:\tlearn: 16.2606737\ttotal: 1.99s\tremaining: 1.24s\n",
      "185:\tlearn: 16.2415684\ttotal: 2.08s\tremaining: 1.27s\n",
      "186:\tlearn: 16.2317118\ttotal: 2.08s\tremaining: 1.26s\n",
      "187:\tlearn: 16.2061842\ttotal: 2.09s\tremaining: 1.24s\n",
      "188:\tlearn: 16.1967012\ttotal: 2.09s\tremaining: 1.23s\n",
      "189:\tlearn: 16.1882460\ttotal: 2.09s\tremaining: 1.21s\n",
      "190:\tlearn: 16.1791174\ttotal: 2.17s\tremaining: 1.24s\n",
      "191:\tlearn: 16.1672161\ttotal: 2.17s\tremaining: 1.22s\n",
      "192:\tlearn: 16.1566857\ttotal: 2.17s\tremaining: 1.21s\n",
      "193:\tlearn: 16.1469922\ttotal: 2.18s\tremaining: 1.19s\n",
      "194:\tlearn: 16.1419380\ttotal: 2.18s\tremaining: 1.17s\n",
      "195:\tlearn: 16.1318843\ttotal: 2.18s\tremaining: 1.16s\n",
      "196:\tlearn: 16.1153769\ttotal: 2.18s\tremaining: 1.14s\n",
      "197:\tlearn: 16.0998359\ttotal: 2.18s\tremaining: 1.12s\n",
      "198:\tlearn: 16.0894658\ttotal: 2.18s\tremaining: 1.11s\n",
      "199:\tlearn: 16.0787471\ttotal: 2.19s\tremaining: 1.09s\n",
      "200:\tlearn: 16.0638284\ttotal: 2.27s\tremaining: 1.12s\n",
      "201:\tlearn: 16.0562497\ttotal: 2.27s\tremaining: 1.1s\n",
      "202:\tlearn: 16.0402775\ttotal: 2.27s\tremaining: 1.09s\n",
      "203:\tlearn: 16.0306416\ttotal: 2.28s\tremaining: 1.07s\n",
      "204:\tlearn: 16.0266677\ttotal: 2.28s\tremaining: 1.05s\n",
      "205:\tlearn: 16.0143473\ttotal: 2.28s\tremaining: 1.04s\n",
      "206:\tlearn: 15.9904764\ttotal: 2.28s\tremaining: 1.02s\n",
      "207:\tlearn: 15.9837440\ttotal: 2.28s\tremaining: 1.01s\n",
      "208:\tlearn: 15.9725686\ttotal: 2.37s\tremaining: 1.03s\n",
      "209:\tlearn: 15.9510295\ttotal: 2.37s\tremaining: 1.01s\n",
      "210:\tlearn: 15.9494306\ttotal: 2.37s\tremaining: 999ms\n",
      "211:\tlearn: 15.9294257\ttotal: 2.37s\tremaining: 984ms\n",
      "212:\tlearn: 15.9070992\ttotal: 2.37s\tremaining: 968ms\n",
      "213:\tlearn: 15.8835500\ttotal: 2.37s\tremaining: 953ms\n",
      "214:\tlearn: 15.8583216\ttotal: 2.37s\tremaining: 938ms\n",
      "215:\tlearn: 15.8391272\ttotal: 2.37s\tremaining: 923ms\n",
      "216:\tlearn: 15.8292619\ttotal: 2.38s\tremaining: 909ms\n",
      "217:\tlearn: 15.8240603\ttotal: 2.38s\tremaining: 894ms\n",
      "218:\tlearn: 15.7999329\ttotal: 2.46s\tremaining: 910ms\n",
      "219:\tlearn: 15.7766942\ttotal: 2.46s\tremaining: 896ms\n",
      "220:\tlearn: 15.7547545\ttotal: 2.46s\tremaining: 881ms\n",
      "221:\tlearn: 15.7373783\ttotal: 2.47s\tremaining: 867ms\n",
      "222:\tlearn: 15.7292901\ttotal: 2.47s\tremaining: 853ms\n",
      "223:\tlearn: 15.7199106\ttotal: 2.48s\tremaining: 841ms\n",
      "224:\tlearn: 15.7083180\ttotal: 2.56s\tremaining: 853ms\n",
      "225:\tlearn: 15.6769788\ttotal: 2.56s\tremaining: 838ms\n",
      "226:\tlearn: 15.6684742\ttotal: 2.56s\tremaining: 824ms\n",
      "227:\tlearn: 15.6484476\ttotal: 2.56s\tremaining: 809ms\n",
      "228:\tlearn: 15.6468276\ttotal: 2.56s\tremaining: 795ms\n",
      "229:\tlearn: 15.6413385\ttotal: 2.57s\tremaining: 781ms\n",
      "230:\tlearn: 15.6174219\ttotal: 2.57s\tremaining: 767ms\n",
      "231:\tlearn: 15.6153197\ttotal: 2.57s\tremaining: 753ms\n",
      "232:\tlearn: 15.6106506\ttotal: 2.65s\tremaining: 763ms\n",
      "233:\tlearn: 15.5861600\ttotal: 2.65s\tremaining: 749ms\n",
      "234:\tlearn: 15.5740077\ttotal: 2.66s\tremaining: 735ms\n",
      "235:\tlearn: 15.5544592\ttotal: 2.66s\tremaining: 721ms\n",
      "236:\tlearn: 15.5464645\ttotal: 2.66s\tremaining: 708ms\n",
      "237:\tlearn: 15.5227195\ttotal: 2.66s\tremaining: 694ms\n",
      "238:\tlearn: 15.5120478\ttotal: 2.67s\tremaining: 680ms\n",
      "239:\tlearn: 15.4948878\ttotal: 2.67s\tremaining: 667ms\n",
      "240:\tlearn: 15.4943653\ttotal: 2.75s\tremaining: 674ms\n",
      "241:\tlearn: 15.4823360\ttotal: 2.75s\tremaining: 660ms\n",
      "242:\tlearn: 15.4641031\ttotal: 2.75s\tremaining: 646ms\n",
      "243:\tlearn: 15.4534412\ttotal: 2.75s\tremaining: 632ms\n",
      "244:\tlearn: 15.4369585\ttotal: 2.76s\tremaining: 619ms\n",
      "245:\tlearn: 15.4234319\ttotal: 2.76s\tremaining: 607ms\n",
      "246:\tlearn: 15.4152676\ttotal: 2.85s\tremaining: 611ms\n",
      "247:\tlearn: 15.3962915\ttotal: 2.85s\tremaining: 597ms\n",
      "248:\tlearn: 15.3843427\ttotal: 2.85s\tremaining: 584ms\n",
      "249:\tlearn: 15.3700159\ttotal: 2.85s\tremaining: 570ms\n",
      "250:\tlearn: 15.3524220\ttotal: 2.85s\tremaining: 557ms\n",
      "251:\tlearn: 15.3474827\ttotal: 2.85s\tremaining: 544ms\n",
      "252:\tlearn: 15.3212888\ttotal: 2.85s\tremaining: 530ms\n",
      "253:\tlearn: 15.2958939\ttotal: 2.86s\tremaining: 518ms\n",
      "254:\tlearn: 15.2839785\ttotal: 2.86s\tremaining: 505ms\n",
      "255:\tlearn: 15.2568862\ttotal: 2.86s\tremaining: 492ms\n",
      "256:\tlearn: 15.2537376\ttotal: 2.94s\tremaining: 493ms\n",
      "257:\tlearn: 15.2524887\ttotal: 2.94s\tremaining: 480ms\n",
      "258:\tlearn: 15.2299581\ttotal: 2.95s\tremaining: 467ms\n",
      "259:\tlearn: 15.2294762\ttotal: 2.95s\tremaining: 454ms\n",
      "260:\tlearn: 15.2206383\ttotal: 2.95s\tremaining: 441ms\n",
      "261:\tlearn: 15.2160387\ttotal: 2.95s\tremaining: 428ms\n",
      "262:\tlearn: 15.1946453\ttotal: 2.95s\tremaining: 416ms\n",
      "263:\tlearn: 15.1775383\ttotal: 3.04s\tremaining: 415ms\n",
      "264:\tlearn: 15.1683364\ttotal: 3.04s\tremaining: 402ms\n",
      "265:\tlearn: 15.1507139\ttotal: 3.04s\tremaining: 389ms\n",
      "266:\tlearn: 15.1468123\ttotal: 3.04s\tremaining: 376ms\n",
      "267:\tlearn: 15.1265486\ttotal: 3.04s\tremaining: 364ms\n",
      "268:\tlearn: 15.1105421\ttotal: 3.05s\tremaining: 351ms\n",
      "269:\tlearn: 15.1052120\ttotal: 3.05s\tremaining: 339ms\n",
      "270:\tlearn: 15.0953263\ttotal: 3.05s\tremaining: 326ms\n",
      "271:\tlearn: 15.0817887\ttotal: 3.14s\tremaining: 323ms\n",
      "272:\tlearn: 15.0705256\ttotal: 3.14s\tremaining: 311ms\n",
      "273:\tlearn: 15.0478417\ttotal: 3.14s\tremaining: 298ms\n",
      "274:\tlearn: 15.0285330\ttotal: 3.14s\tremaining: 286ms\n",
      "275:\tlearn: 15.0230507\ttotal: 3.14s\tremaining: 273ms\n",
      "276:\tlearn: 15.0068388\ttotal: 3.14s\tremaining: 261ms\n",
      "277:\tlearn: 14.9952221\ttotal: 3.15s\tremaining: 249ms\n",
      "278:\tlearn: 14.9949531\ttotal: 3.15s\tremaining: 237ms\n",
      "279:\tlearn: 14.9832579\ttotal: 3.15s\tremaining: 225ms\n",
      "280:\tlearn: 14.9740820\ttotal: 3.15s\tremaining: 213ms\n",
      "281:\tlearn: 14.9578626\ttotal: 3.23s\tremaining: 206ms\n",
      "282:\tlearn: 14.9519678\ttotal: 3.23s\tremaining: 194ms\n",
      "283:\tlearn: 14.9385989\ttotal: 3.24s\tremaining: 182ms\n",
      "284:\tlearn: 14.9318023\ttotal: 3.24s\tremaining: 170ms\n",
      "285:\tlearn: 14.9126955\ttotal: 3.24s\tremaining: 159ms\n",
      "286:\tlearn: 14.9057299\ttotal: 3.24s\tremaining: 147ms\n",
      "287:\tlearn: 14.8839353\ttotal: 3.24s\tremaining: 135ms\n",
      "288:\tlearn: 14.8805902\ttotal: 3.24s\tremaining: 123ms\n",
      "289:\tlearn: 14.8736875\ttotal: 3.24s\tremaining: 112ms\n",
      "290:\tlearn: 14.8694653\ttotal: 3.33s\tremaining: 103ms\n",
      "291:\tlearn: 14.8687441\ttotal: 3.33s\tremaining: 91.3ms\n",
      "292:\tlearn: 14.8562799\ttotal: 3.33s\tremaining: 79.7ms\n",
      "293:\tlearn: 14.8514487\ttotal: 3.34s\tremaining: 68.1ms\n",
      "294:\tlearn: 14.8476426\ttotal: 3.34s\tremaining: 56.6ms\n",
      "295:\tlearn: 14.8461917\ttotal: 3.34s\tremaining: 45.1ms\n",
      "296:\tlearn: 14.8446156\ttotal: 3.42s\tremaining: 34.6ms\n",
      "297:\tlearn: 14.8375799\ttotal: 3.43s\tremaining: 23ms\n",
      "298:\tlearn: 14.8225392\ttotal: 3.43s\tremaining: 11.5ms\n",
      "299:\tlearn: 14.7886618\ttotal: 3.43s\tremaining: 0us\n"
     ]
    }
   ],
   "source": [
    "catboost_model = CatBoostRegressor(iterations=300, learning_rate=0.5, depth=4)\n",
    "catboost_model.fit(features_train, target_train)\n",
    "catboost_model_prediction = catboost_model.predict(features_train)"
   ]
  },
  {
   "cell_type": "code",
   "execution_count": 39,
   "metadata": {},
   "outputs": [
    {
     "data": {
      "text/plain": [
       "14.788661829593739"
      ]
     },
     "execution_count": 39,
     "metadata": {},
     "output_type": "execute_result"
    }
   ],
   "source": [
    "catboost_rmse = np.sqrt(mean_squared_error(target_train, catboost_model_prediction))\n",
    "catboost_rmse"
   ]
  },
  {
   "cell_type": "markdown",
   "metadata": {},
   "source": [
    "RMSE CatBoost модели лучше показателя дамми модели. Есть возможность улучшить модель гиперпараметрами, однако это может привести к значительному увеличению продолжительности обучения."
   ]
  },
  {
   "cell_type": "markdown",
   "metadata": {},
   "source": [
    "<a id='Вывод_4'></a>"
   ]
  },
  {
   "cell_type": "markdown",
   "metadata": {},
   "source": [
    "### <p style=\"text-align:center\"> Вывод</p>"
   ]
  },
  {
   "cell_type": "markdown",
   "metadata": {},
   "source": [
    "##### В ходе обучения моделей были сделаны следующие выводы:\n",
    "\n",
    "___\n",
    "\n",
    "\n",
    "1. Модели линейной регрессии и случайного леса показывают себя несколько хуже, однако быстрее обучаются. К сожалению, они прошли преверку на адекватность, но не показали высокой точности.\n",
    "\n",
    "\n",
    "2. Модели LGBM и CatBoost точнее, но обучаются медленнее. Оказались достаточно точными для прохождения проверки на адекватность.\n",
    "\n",
    "___\n",
    "\n"
   ]
  },
  {
   "cell_type": "markdown",
   "metadata": {},
   "source": [
    " ## Часть 4. Тестирование моделей"
   ]
  },
  {
   "cell_type": "markdown",
   "metadata": {},
   "source": [
    "<a id='Тестирование моделей'></a>"
   ]
  },
  {
   "cell_type": "markdown",
   "metadata": {},
   "source": [
    "### <p style=\"text-align:center\">Тестирование моделей</p>"
   ]
  },
  {
   "cell_type": "markdown",
   "metadata": {},
   "source": [
    "Протестируем модели, показавшие наилучший результат."
   ]
  },
  {
   "cell_type": "code",
   "execution_count": 40,
   "metadata": {},
   "outputs": [
    {
     "data": {
      "text/plain": [
       "47.149664476053026"
      ]
     },
     "execution_count": 40,
     "metadata": {},
     "output_type": "execute_result"
    }
   ],
   "source": [
    "lgbm_test_prediction = lgbm_model.predict(features_test, num_iteration = lgbm_model.best_iteration_)\n",
    "lgbm_test_rmse = np.sqrt(mean_squared_error(target_test, lgbm_test_prediction))\n",
    "lgbm_test_rmse"
   ]
  },
  {
   "cell_type": "code",
   "execution_count": 41,
   "metadata": {
    "scrolled": true
   },
   "outputs": [
    {
     "data": {
      "text/plain": [
       "52.11137700315029"
      ]
     },
     "execution_count": 41,
     "metadata": {},
     "output_type": "execute_result"
    }
   ],
   "source": [
    "catboost_model_test_prediction = catboost_model.predict(features_test)\n",
    "catboost_test_rmse = np.sqrt(mean_squared_error(target_test, catboost_model_test_prediction))\n",
    "catboost_test_rmse"
   ]
  },
  {
   "cell_type": "markdown",
   "metadata": {},
   "source": [
    "<a id='Вывод_4'></a>"
   ]
  },
  {
   "cell_type": "code",
   "execution_count": 42,
   "metadata": {},
   "outputs": [
    {
     "data": {
      "text/plain": [
       "<matplotlib.axes._subplots.AxesSubplot at 0x7f275487e350>"
      ]
     },
     "execution_count": 42,
     "metadata": {},
     "output_type": "execute_result"
    },
    {
     "data": {
      "image/png": "[encoded data removed]",
      "text/plain": [
       "<Figure size 1152x360 with 1 Axes>"
      ]
     },
     "metadata": {
      "needs_background": "light"
     },
     "output_type": "display_data"
    }
   ],
   "source": [
    "graph = target_test.copy()\n",
    "predictions_taxi = pd.DataFrame(data = lgbm_test_prediction, columns = ['predictions'], index = features_test.index.copy())\n",
    "df_merged = pd.merge(graph, predictions_taxi, how = 'left', left_index = True, right_index = True)\n",
    "df_merged['predictions'] = df_merged['predictions'].astype('int64')\n",
    "df_merged['2018-08-12':'2018-08-15'].plot(figsize=(16,5))"
   ]
  },
  {
   "cell_type": "markdown",
   "metadata": {},
   "source": [
    "Модель вроде бы следит за основными движениями графика, однако, к сожалению, не улавливает пиков."
   ]
  },
  {
   "cell_type": "markdown",
   "metadata": {},
   "source": [
    "### <p style=\"text-align:center\"> Вывод</p>"
   ]
  },
  {
   "cell_type": "markdown",
   "metadata": {},
   "source": [
    "##### В ходе тестирования моделей были сделаны следующие выводы:\n",
    "\n",
    "___\n",
    "\n",
    "\n",
    "1. Модели линейной регрессии и случайного леса не прошли порог адекватности.\n",
    "\n",
    "\n",
    "2. Модели LGBM и CatBoost оказались достаточно точными, однако только LGBM прошел порог по метрике качества.\n",
    "\n",
    "___\n",
    "\n",
    "Таким образом была выполнена работа по обучению моделей до заданной точности, и тестированию моделей, в целях предсказания количества заказов такси на следующий час."
   ]
  }
 ],
 "metadata": {
  "ExecuteTimeLog": [
   {
    "duration": 120,
    "start_time": "2021-06-12T14:18:43.574Z"
   },
   {
    "duration": 795,
    "start_time": "2021-06-12T14:34:55.009Z"
   },
   {
    "duration": 640,
    "start_time": "2021-06-12T14:36:23.409Z"
   },
   {
    "duration": 3,
    "start_time": "2021-06-12T14:36:24.052Z"
   },
   {
    "duration": 38,
    "start_time": "2021-06-12T14:36:59.526Z"
   },
   {
    "duration": 20,
    "start_time": "2021-06-12T14:37:36.623Z"
   },
   {
    "duration": 13,
    "start_time": "2021-06-12T14:38:09.493Z"
   },
   {
    "duration": 11,
    "start_time": "2021-06-12T14:38:21.382Z"
   },
   {
    "duration": 10,
    "start_time": "2021-06-12T14:38:26.853Z"
   },
   {
    "duration": 19,
    "start_time": "2021-06-12T14:38:27.291Z"
   },
   {
    "duration": 4,
    "start_time": "2021-06-12T14:38:44.498Z"
   },
   {
    "duration": 45,
    "start_time": "2021-06-12T14:40:26.532Z"
   },
   {
    "duration": 9,
    "start_time": "2021-06-12T14:40:27.237Z"
   },
   {
    "duration": 12,
    "start_time": "2021-06-12T14:40:34.748Z"
   },
   {
    "duration": 10,
    "start_time": "2021-06-12T14:40:44.014Z"
   },
   {
    "duration": 8,
    "start_time": "2021-06-12T14:40:49.263Z"
   },
   {
    "duration": 17,
    "start_time": "2021-06-12T14:40:50.886Z"
   },
   {
    "duration": 434,
    "start_time": "2021-06-12T14:41:39.816Z"
   },
   {
    "duration": 7,
    "start_time": "2021-06-12T14:41:54.179Z"
   },
   {
    "duration": 421,
    "start_time": "2021-06-12T14:42:00.899Z"
   },
   {
    "duration": 43,
    "start_time": "2021-06-12T14:42:28.799Z"
   },
   {
    "duration": 10,
    "start_time": "2021-06-12T14:42:28.995Z"
   },
   {
    "duration": 14,
    "start_time": "2021-06-12T14:42:32.256Z"
   },
   {
    "duration": 11,
    "start_time": "2021-06-12T14:42:35.360Z"
   },
   {
    "duration": 10,
    "start_time": "2021-06-12T14:42:40.656Z"
   },
   {
    "duration": 18,
    "start_time": "2021-06-12T14:42:40.899Z"
   },
   {
    "duration": 1429,
    "start_time": "2021-06-12T14:54:39.395Z"
   },
   {
    "duration": 14,
    "start_time": "2021-06-12T14:56:37.700Z"
   },
   {
    "duration": 437,
    "start_time": "2021-06-12T14:56:44.249Z"
   },
   {
    "duration": 9,
    "start_time": "2021-06-12T15:04:39.193Z"
   },
   {
    "duration": 507,
    "start_time": "2021-06-12T15:04:47.363Z"
   },
   {
    "duration": 31,
    "start_time": "2021-06-12T15:08:16.409Z"
   },
   {
    "duration": 468,
    "start_time": "2021-06-12T15:08:45.746Z"
   },
   {
    "duration": 1426,
    "start_time": "2021-06-12T15:10:09.511Z"
   },
   {
    "duration": 397,
    "start_time": "2021-06-12T15:11:06.497Z"
   },
   {
    "duration": 5,
    "start_time": "2021-06-12T15:12:03.041Z"
   },
   {
    "duration": 3,
    "start_time": "2021-06-12T15:12:03.262Z"
   },
   {
    "duration": 3,
    "start_time": "2021-06-12T15:12:03.480Z"
   },
   {
    "duration": 43,
    "start_time": "2021-06-12T15:12:03.861Z"
   },
   {
    "duration": 9,
    "start_time": "2021-06-12T15:12:04.049Z"
   },
   {
    "duration": 10,
    "start_time": "2021-06-12T15:12:04.726Z"
   },
   {
    "duration": 9,
    "start_time": "2021-06-12T15:12:05.155Z"
   },
   {
    "duration": 8,
    "start_time": "2021-06-12T15:12:05.409Z"
   },
   {
    "duration": 18,
    "start_time": "2021-06-12T15:12:05.801Z"
   },
   {
    "duration": 11,
    "start_time": "2021-06-12T15:12:09.698Z"
   },
   {
    "duration": 447,
    "start_time": "2021-06-12T15:12:12.219Z"
   },
   {
    "duration": 1582,
    "start_time": "2021-06-12T15:12:18.769Z"
   },
   {
    "duration": 382,
    "start_time": "2021-06-12T15:12:22.862Z"
   },
   {
    "duration": 349,
    "start_time": "2021-06-12T15:12:53.541Z"
   },
   {
    "duration": 350,
    "start_time": "2021-06-12T15:13:07.848Z"
   },
   {
    "duration": 434,
    "start_time": "2021-06-12T15:13:15.700Z"
   },
   {
    "duration": 386,
    "start_time": "2021-06-12T15:13:22.138Z"
   },
   {
    "duration": 486,
    "start_time": "2021-06-12T15:13:51.142Z"
   },
   {
    "duration": 504,
    "start_time": "2021-06-12T15:15:23.089Z"
   },
   {
    "duration": 1491,
    "start_time": "2021-06-12T15:19:48.120Z"
   },
   {
    "duration": 341,
    "start_time": "2021-06-12T15:22:03.834Z"
   },
   {
    "duration": 10,
    "start_time": "2021-06-12T15:22:23.125Z"
   },
   {
    "duration": 499,
    "start_time": "2021-06-12T15:22:33.998Z"
   },
   {
    "duration": 6,
    "start_time": "2021-06-12T15:27:53.130Z"
   },
   {
    "duration": 347,
    "start_time": "2021-06-12T15:28:09.114Z"
   },
   {
    "duration": 322,
    "start_time": "2021-06-12T15:28:35.272Z"
   },
   {
    "duration": 6,
    "start_time": "2021-06-12T15:28:56.900Z"
   },
   {
    "duration": 5,
    "start_time": "2021-06-12T15:28:58.853Z"
   },
   {
    "duration": 9,
    "start_time": "2021-06-12T15:30:12.295Z"
   },
   {
    "duration": 6,
    "start_time": "2021-06-12T15:31:37.224Z"
   },
   {
    "duration": 8,
    "start_time": "2021-06-12T15:31:37.502Z"
   },
   {
    "duration": 10,
    "start_time": "2021-06-12T15:31:40.399Z"
   },
   {
    "duration": 4,
    "start_time": "2021-06-12T15:32:00.797Z"
   },
   {
    "duration": 14,
    "start_time": "2021-06-12T15:32:02.158Z"
   },
   {
    "duration": 9403,
    "start_time": "2021-06-12T15:32:02.607Z"
   },
   {
    "duration": -595,
    "start_time": "2021-06-12T15:32:12.608Z"
   },
   {
    "duration": 5,
    "start_time": "2021-06-12T15:32:19.795Z"
   },
   {
    "duration": 3,
    "start_time": "2021-06-12T15:32:20.066Z"
   },
   {
    "duration": 4,
    "start_time": "2021-06-12T15:32:20.463Z"
   },
   {
    "duration": 44,
    "start_time": "2021-06-12T15:32:20.950Z"
   },
   {
    "duration": 9,
    "start_time": "2021-06-12T15:32:21.167Z"
   },
   {
    "duration": 11,
    "start_time": "2021-06-12T15:32:22.070Z"
   },
   {
    "duration": 10,
    "start_time": "2021-06-12T15:32:22.503Z"
   },
   {
    "duration": 8,
    "start_time": "2021-06-12T15:32:22.728Z"
   },
   {
    "duration": 18,
    "start_time": "2021-06-12T15:32:23.219Z"
   },
   {
    "duration": 4,
    "start_time": "2021-06-12T15:32:24.427Z"
   },
   {
    "duration": 10,
    "start_time": "2021-06-12T15:32:24.672Z"
   },
   {
    "duration": 7,
    "start_time": "2021-06-12T15:32:24.900Z"
   },
   {
    "duration": 445,
    "start_time": "2021-06-12T15:32:26.669Z"
   },
   {
    "duration": 357,
    "start_time": "2021-06-12T15:32:27.593Z"
   },
   {
    "duration": 479,
    "start_time": "2021-06-12T15:32:39.356Z"
   },
   {
    "duration": 12,
    "start_time": "2021-06-12T15:32:42.574Z"
   },
   {
    "duration": 490,
    "start_time": "2021-06-12T15:32:42.871Z"
   },
   {
    "duration": 6,
    "start_time": "2021-06-12T15:32:55.455Z"
   },
   {
    "duration": 11,
    "start_time": "2021-06-12T15:32:55.797Z"
   },
   {
    "duration": 14,
    "start_time": "2021-06-12T15:32:56.951Z"
   },
   {
    "duration": 6,
    "start_time": "2021-06-12T15:33:47.030Z"
   },
   {
    "duration": 11801,
    "start_time": "2021-06-12T15:33:47.563Z"
   },
   {
    "duration": -567,
    "start_time": "2021-06-12T15:33:59.935Z"
   },
   {
    "duration": 5,
    "start_time": "2021-06-12T15:34:05.869Z"
   },
   {
    "duration": 3,
    "start_time": "2021-06-12T15:34:06.086Z"
   },
   {
    "duration": 7,
    "start_time": "2021-06-12T15:34:06.257Z"
   },
   {
    "duration": 46,
    "start_time": "2021-06-12T15:34:06.594Z"
   },
   {
    "duration": 9,
    "start_time": "2021-06-12T15:34:06.792Z"
   },
   {
    "duration": 12,
    "start_time": "2021-06-12T15:34:08.012Z"
   },
   {
    "duration": 9,
    "start_time": "2021-06-12T15:34:09.064Z"
   },
   {
    "duration": 10,
    "start_time": "2021-06-12T15:34:09.344Z"
   },
   {
    "duration": 18,
    "start_time": "2021-06-12T15:34:09.620Z"
   },
   {
    "duration": 4,
    "start_time": "2021-06-12T15:34:13.660Z"
   },
   {
    "duration": 12,
    "start_time": "2021-06-12T15:34:14.773Z"
   },
   {
    "duration": 451,
    "start_time": "2021-06-12T15:34:17.498Z"
   },
   {
    "duration": 1695,
    "start_time": "2021-06-12T15:34:19.469Z"
   },
   {
    "duration": 346,
    "start_time": "2021-06-12T15:34:23.411Z"
   },
   {
    "duration": 10,
    "start_time": "2021-06-12T15:34:25.233Z"
   },
   {
    "duration": 665,
    "start_time": "2021-06-12T15:34:25.862Z"
   },
   {
    "duration": 7,
    "start_time": "2021-06-12T15:34:28.829Z"
   },
   {
    "duration": 10,
    "start_time": "2021-06-12T15:34:39.361Z"
   },
   {
    "duration": 10,
    "start_time": "2021-06-12T15:34:40.410Z"
   },
   {
    "duration": 8,
    "start_time": "2021-06-12T15:34:57.453Z"
   },
   {
    "duration": 7,
    "start_time": "2021-06-12T15:35:10.656Z"
   },
   {
    "duration": 46,
    "start_time": "2021-06-12T15:35:35.828Z"
   },
   {
    "duration": 9,
    "start_time": "2021-06-12T15:35:36.185Z"
   },
   {
    "duration": 12,
    "start_time": "2021-06-12T15:35:38.743Z"
   },
   {
    "duration": 9,
    "start_time": "2021-06-12T15:35:40.936Z"
   },
   {
    "duration": 8,
    "start_time": "2021-06-12T15:35:42.245Z"
   },
   {
    "duration": 17,
    "start_time": "2021-06-12T15:35:42.559Z"
   },
   {
    "duration": 3,
    "start_time": "2021-06-12T15:35:49.539Z"
   },
   {
    "duration": 10,
    "start_time": "2021-06-12T15:35:51.117Z"
   },
   {
    "duration": 5,
    "start_time": "2021-06-12T15:35:57.790Z"
   },
   {
    "duration": 8,
    "start_time": "2021-06-12T15:35:58.371Z"
   },
   {
    "duration": 9,
    "start_time": "2021-06-12T15:35:58.853Z"
   },
   {
    "duration": 6,
    "start_time": "2021-06-12T15:36:11.623Z"
   },
   {
    "duration": 1426,
    "start_time": "2021-06-13T09:35:21.542Z"
   },
   {
    "duration": 132,
    "start_time": "2021-06-13T09:35:22.971Z"
   },
   {
    "duration": 3,
    "start_time": "2021-06-13T09:35:23.106Z"
   },
   {
    "duration": 56,
    "start_time": "2021-06-13T09:35:23.112Z"
   },
   {
    "duration": 15,
    "start_time": "2021-06-13T09:35:23.560Z"
   },
   {
    "duration": 12,
    "start_time": "2021-06-13T09:35:24.598Z"
   },
   {
    "duration": 10,
    "start_time": "2021-06-13T09:35:25.008Z"
   },
   {
    "duration": 8,
    "start_time": "2021-06-13T09:35:25.209Z"
   },
   {
    "duration": 18,
    "start_time": "2021-06-13T09:35:25.627Z"
   },
   {
    "duration": 4,
    "start_time": "2021-06-13T09:35:30.426Z"
   },
   {
    "duration": 14,
    "start_time": "2021-06-13T09:35:30.807Z"
   },
   {
    "duration": 435,
    "start_time": "2021-06-13T09:35:36.967Z"
   },
   {
    "duration": 1483,
    "start_time": "2021-06-13T09:35:41.306Z"
   },
   {
    "duration": 422,
    "start_time": "2021-06-13T09:35:49.190Z"
   },
   {
    "duration": 370,
    "start_time": "2021-06-13T09:36:07.539Z"
   },
   {
    "duration": 315,
    "start_time": "2021-06-13T09:36:26.146Z"
   },
   {
    "duration": 13,
    "start_time": "2021-06-13T09:36:44.299Z"
   },
   {
    "duration": 516,
    "start_time": "2021-06-13T09:36:44.661Z"
   },
   {
    "duration": 381,
    "start_time": "2021-06-13T09:37:29.036Z"
   },
   {
    "duration": 459,
    "start_time": "2021-06-13T09:37:39.965Z"
   },
   {
    "duration": 6,
    "start_time": "2021-06-13T09:38:28.232Z"
   },
   {
    "duration": 13,
    "start_time": "2021-06-13T09:38:29.294Z"
   },
   {
    "duration": 9,
    "start_time": "2021-06-13T09:38:29.948Z"
   },
   {
    "duration": 482,
    "start_time": "2021-06-13T09:42:22.111Z"
   },
   {
    "duration": 48,
    "start_time": "2021-06-13T09:43:23.687Z"
   },
   {
    "duration": 921,
    "start_time": "2021-06-13T09:43:26.270Z"
   },
   {
    "duration": 11,
    "start_time": "2021-06-13T09:43:30.489Z"
   },
   {
    "duration": 423,
    "start_time": "2021-06-13T09:43:30.785Z"
   },
   {
    "duration": 45,
    "start_time": "2021-06-13T09:52:27.793Z"
   },
   {
    "duration": 12,
    "start_time": "2021-06-13T09:52:28.047Z"
   },
   {
    "duration": 12,
    "start_time": "2021-06-13T09:52:31.484Z"
   },
   {
    "duration": 12,
    "start_time": "2021-06-13T09:52:34.656Z"
   },
   {
    "duration": 9,
    "start_time": "2021-06-13T09:52:37.699Z"
   },
   {
    "duration": 20,
    "start_time": "2021-06-13T09:52:40.915Z"
   },
   {
    "duration": 4,
    "start_time": "2021-06-13T09:52:54.028Z"
   },
   {
    "duration": 1035,
    "start_time": "2021-06-13T09:54:03.568Z"
   },
   {
    "duration": 11,
    "start_time": "2021-06-13T09:54:07.568Z"
   },
   {
    "duration": 423,
    "start_time": "2021-06-13T09:54:07.795Z"
   },
   {
    "duration": 472,
    "start_time": "2021-06-13T09:59:45.631Z"
   },
   {
    "duration": 448,
    "start_time": "2021-06-13T09:59:55.501Z"
   },
   {
    "duration": 464,
    "start_time": "2021-06-13T10:00:02.317Z"
   },
   {
    "duration": 438,
    "start_time": "2021-06-13T10:00:57.793Z"
   },
   {
    "duration": 452,
    "start_time": "2021-06-13T10:01:22.389Z"
   },
   {
    "duration": 1668,
    "start_time": "2021-06-13T10:02:29.732Z"
   },
   {
    "duration": 460,
    "start_time": "2021-06-13T10:15:00.681Z"
   },
   {
    "duration": 456,
    "start_time": "2021-06-13T10:15:08.754Z"
   },
   {
    "duration": 484,
    "start_time": "2021-06-13T10:15:21.394Z"
   },
   {
    "duration": 704,
    "start_time": "2021-06-13T10:17:34.004Z"
   },
   {
    "duration": 572,
    "start_time": "2021-06-13T10:17:45.465Z"
   },
   {
    "duration": 351,
    "start_time": "2021-06-13T10:17:52.030Z"
   },
   {
    "duration": 342,
    "start_time": "2021-06-13T10:19:25.347Z"
   },
   {
    "duration": 15,
    "start_time": "2021-06-13T10:22:26.313Z"
   },
   {
    "duration": 10729,
    "start_time": "2021-06-13T10:24:57.417Z"
   },
   {
    "duration": 6813,
    "start_time": "2021-06-13T10:25:18.313Z"
   },
   {
    "duration": 6386,
    "start_time": "2021-06-13T10:25:31.450Z"
   },
   {
    "duration": 1396,
    "start_time": "2021-06-13T10:26:39.550Z"
   },
   {
    "duration": 138,
    "start_time": "2021-06-13T10:26:40.951Z"
   },
   {
    "duration": 5,
    "start_time": "2021-06-13T10:26:41.091Z"
   },
   {
    "duration": 55,
    "start_time": "2021-06-13T10:26:41.324Z"
   },
   {
    "duration": 21,
    "start_time": "2021-06-13T10:26:41.539Z"
   },
   {
    "duration": 15,
    "start_time": "2021-06-13T10:26:46.249Z"
   },
   {
    "duration": 11,
    "start_time": "2021-06-13T10:26:46.268Z"
   },
   {
    "duration": 11,
    "start_time": "2021-06-13T10:26:46.282Z"
   },
   {
    "duration": 17,
    "start_time": "2021-06-13T10:26:46.296Z"
   },
   {
    "duration": 5,
    "start_time": "2021-06-13T10:26:51.154Z"
   },
   {
    "duration": 399,
    "start_time": "2021-06-13T10:26:56.282Z"
   },
   {
    "duration": 21,
    "start_time": "2021-06-13T10:28:23.054Z"
   },
   {
    "duration": 359,
    "start_time": "2021-06-13T10:28:26.524Z"
   },
   {
    "duration": 6387,
    "start_time": "2021-06-13T10:28:37.187Z"
   },
   {
    "duration": 16,
    "start_time": "2021-06-13T10:29:12.349Z"
   },
   {
    "duration": 452,
    "start_time": "2021-06-13T10:29:14.548Z"
   },
   {
    "duration": 6414,
    "start_time": "2021-06-13T10:29:41.564Z"
   },
   {
    "duration": 258,
    "start_time": "2021-06-13T10:29:54.035Z"
   },
   {
    "duration": 397,
    "start_time": "2021-06-13T10:30:05.052Z"
   },
   {
    "duration": 1327,
    "start_time": "2021-06-13T10:32:15.789Z"
   },
   {
    "duration": 126,
    "start_time": "2021-06-13T10:32:17.118Z"
   },
   {
    "duration": 8,
    "start_time": "2021-06-13T10:32:17.247Z"
   },
   {
    "duration": 56,
    "start_time": "2021-06-13T10:32:17.258Z"
   },
   {
    "duration": 16,
    "start_time": "2021-06-13T10:32:17.316Z"
   },
   {
    "duration": 14,
    "start_time": "2021-06-13T10:32:17.563Z"
   },
   {
    "duration": 9,
    "start_time": "2021-06-13T10:32:18.068Z"
   },
   {
    "duration": 8,
    "start_time": "2021-06-13T10:32:18.540Z"
   },
   {
    "duration": 18,
    "start_time": "2021-06-13T10:32:19.038Z"
   },
   {
    "duration": 476,
    "start_time": "2021-06-13T10:33:12.921Z"
   },
   {
    "duration": 18,
    "start_time": "2021-06-13T10:33:23.896Z"
   },
   {
    "duration": 395,
    "start_time": "2021-06-13T10:33:24.693Z"
   },
   {
    "duration": 356,
    "start_time": "2021-06-13T10:33:38.837Z"
   },
   {
    "duration": 385,
    "start_time": "2021-06-13T12:04:54.187Z"
   },
   {
    "duration": 5,
    "start_time": "2021-06-13T13:46:51.020Z"
   },
   {
    "duration": 4,
    "start_time": "2021-06-13T13:47:23.467Z"
   },
   {
    "duration": 16,
    "start_time": "2021-06-13T13:50:04.394Z"
   },
   {
    "duration": 5,
    "start_time": "2021-06-13T13:51:07.286Z"
   },
   {
    "duration": 30,
    "start_time": "2021-06-13T13:51:21.475Z"
   },
   {
    "duration": 34,
    "start_time": "2021-06-13T13:51:29.822Z"
   },
   {
    "duration": 50,
    "start_time": "2021-06-13T13:51:42.140Z"
   },
   {
    "duration": 20,
    "start_time": "2021-06-13T13:55:21.192Z"
   },
   {
    "duration": 5,
    "start_time": "2021-06-13T13:55:22.678Z"
   },
   {
    "duration": 4,
    "start_time": "2021-06-13T13:55:23.012Z"
   },
   {
    "duration": 4,
    "start_time": "2021-06-13T13:55:23.234Z"
   },
   {
    "duration": 51,
    "start_time": "2021-06-13T13:55:24.953Z"
   },
   {
    "duration": 10,
    "start_time": "2021-06-13T13:55:25.510Z"
   },
   {
    "duration": 17,
    "start_time": "2021-06-13T13:55:27.522Z"
   },
   {
    "duration": 13,
    "start_time": "2021-06-13T13:55:29.045Z"
   },
   {
    "duration": 9,
    "start_time": "2021-06-13T13:55:29.251Z"
   },
   {
    "duration": 19,
    "start_time": "2021-06-13T13:55:30.464Z"
   },
   {
    "duration": 4,
    "start_time": "2021-06-13T13:55:37.660Z"
   },
   {
    "duration": 11,
    "start_time": "2021-06-13T13:55:48.318Z"
   },
   {
    "duration": 5,
    "start_time": "2021-06-13T13:55:50.137Z"
   },
   {
    "duration": 22,
    "start_time": "2021-06-13T13:55:50.780Z"
   },
   {
    "duration": 33,
    "start_time": "2021-06-13T13:55:51.471Z"
   },
   {
    "duration": 89,
    "start_time": "2021-06-13T13:57:31.358Z"
   },
   {
    "duration": 14,
    "start_time": "2021-06-13T13:57:40.356Z"
   },
   {
    "duration": 7,
    "start_time": "2021-06-13T13:58:25.400Z"
   },
   {
    "duration": 88,
    "start_time": "2021-06-13T13:58:59.733Z"
   },
   {
    "duration": 400,
    "start_time": "2021-06-13T13:59:43.319Z"
   },
   {
    "duration": 8,
    "start_time": "2021-06-13T13:59:55.157Z"
   },
   {
    "duration": 6,
    "start_time": "2021-06-13T13:59:56.863Z"
   },
   {
    "duration": 7,
    "start_time": "2021-06-13T14:03:29.538Z"
   },
   {
    "duration": 11,
    "start_time": "2021-06-13T14:03:30.564Z"
   },
   {
    "duration": 9,
    "start_time": "2021-06-13T14:03:31.079Z"
   },
   {
    "duration": 241,
    "start_time": "2021-06-13T14:04:18.213Z"
   },
   {
    "duration": 10,
    "start_time": "2021-06-13T14:04:21.724Z"
   },
   {
    "duration": 4,
    "start_time": "2021-06-13T14:04:22.329Z"
   },
   {
    "duration": 7,
    "start_time": "2021-06-13T14:04:28.038Z"
   },
   {
    "duration": 4,
    "start_time": "2021-06-13T14:09:25.368Z"
   },
   {
    "duration": 2527,
    "start_time": "2021-06-13T14:10:00.264Z"
   },
   {
    "duration": 7,
    "start_time": "2021-06-13T14:10:04.081Z"
   },
   {
    "duration": 4,
    "start_time": "2021-06-13T14:11:18.026Z"
   },
   {
    "duration": 97508,
    "start_time": "2021-06-13T14:15:23.162Z"
   },
   {
    "duration": 7,
    "start_time": "2021-06-13T14:17:00.673Z"
   },
   {
    "duration": 65,
    "start_time": "2021-06-13T14:20:55.969Z"
   },
   {
    "duration": 5303,
    "start_time": "2021-06-13T14:25:10.236Z"
   },
   {
    "duration": 7,
    "start_time": "2021-06-13T14:25:41.649Z"
   },
   {
    "duration": 21213,
    "start_time": "2021-06-13T14:25:57.430Z"
   },
   {
    "duration": 7,
    "start_time": "2021-06-13T14:26:22.551Z"
   },
   {
    "duration": 10890,
    "start_time": "2021-06-13T14:26:36.262Z"
   },
   {
    "duration": 9,
    "start_time": "2021-06-13T14:26:47.159Z"
   },
   {
    "duration": 6845,
    "start_time": "2021-06-13T14:28:10.886Z"
   },
   {
    "duration": 6,
    "start_time": "2021-06-13T14:28:17.734Z"
   },
   {
    "duration": 9055,
    "start_time": "2021-06-13T14:28:23.796Z"
   },
   {
    "duration": 15,
    "start_time": "2021-06-13T14:28:32.854Z"
   },
   {
    "duration": 23766,
    "start_time": "2021-06-13T14:28:40.880Z"
   },
   {
    "duration": 155,
    "start_time": "2021-06-13T14:29:04.495Z"
   },
   {
    "duration": 22291,
    "start_time": "2021-06-13T14:29:07.460Z"
   },
   {
    "duration": 8,
    "start_time": "2021-06-13T14:29:29.754Z"
   },
   {
    "duration": 3278,
    "start_time": "2021-06-13T14:29:32.109Z"
   },
   {
    "duration": 6,
    "start_time": "2021-06-13T14:29:37.997Z"
   },
   {
    "duration": 46649,
    "start_time": "2021-06-13T14:29:40.479Z"
   },
   {
    "duration": 6,
    "start_time": "2021-06-13T14:30:27.131Z"
   },
   {
    "duration": 5457,
    "start_time": "2021-06-13T14:30:41.006Z"
   },
   {
    "duration": 7,
    "start_time": "2021-06-13T14:30:46.466Z"
   },
   {
    "duration": 14279,
    "start_time": "2021-06-13T14:30:52.848Z"
   },
   {
    "duration": 6,
    "start_time": "2021-06-13T14:31:07.129Z"
   },
   {
    "duration": 10668,
    "start_time": "2021-06-13T14:31:08.375Z"
   },
   {
    "duration": 6,
    "start_time": "2021-06-13T14:31:19.046Z"
   },
   {
    "duration": 10252,
    "start_time": "2021-06-13T14:31:35.160Z"
   },
   {
    "duration": 6,
    "start_time": "2021-06-13T14:31:45.415Z"
   },
   {
    "duration": 5722,
    "start_time": "2021-06-13T14:31:50.203Z"
   },
   {
    "duration": 6,
    "start_time": "2021-06-13T14:31:55.928Z"
   },
   {
    "duration": 12243,
    "start_time": "2021-06-13T14:31:59.301Z"
   },
   {
    "duration": 6,
    "start_time": "2021-06-13T14:32:11.547Z"
   },
   {
    "duration": 7183,
    "start_time": "2021-06-13T14:32:16.260Z"
   },
   {
    "duration": 6,
    "start_time": "2021-06-13T14:32:23.445Z"
   },
   {
    "duration": 7478,
    "start_time": "2021-06-13T14:32:28.098Z"
   },
   {
    "duration": 6,
    "start_time": "2021-06-13T14:32:35.579Z"
   },
   {
    "duration": 84,
    "start_time": "2021-06-13T14:32:56.614Z"
   },
   {
    "duration": 13032,
    "start_time": "2021-06-13T14:35:14.137Z"
   },
   {
    "duration": 261,
    "start_time": "2021-06-13T14:35:27.172Z"
   },
   {
    "duration": 11032,
    "start_time": "2021-06-13T14:35:53.454Z"
   },
   {
    "duration": 7,
    "start_time": "2021-06-13T14:36:04.490Z"
   },
   {
    "duration": 16656,
    "start_time": "2021-06-13T14:37:08.506Z"
   },
   {
    "duration": 6,
    "start_time": "2021-06-13T14:37:25.168Z"
   },
   {
    "duration": 2548,
    "start_time": "2021-06-13T14:37:46.460Z"
   },
   {
    "duration": 7,
    "start_time": "2021-06-13T14:37:49.011Z"
   },
   {
    "duration": 10,
    "start_time": "2021-06-13T14:37:57.413Z"
   },
   {
    "duration": 6,
    "start_time": "2021-06-13T14:37:57.633Z"
   },
   {
    "duration": 7666,
    "start_time": "2021-06-13T14:38:13.670Z"
   },
   {
    "duration": 7,
    "start_time": "2021-06-13T14:38:21.339Z"
   },
   {
    "duration": 4,
    "start_time": "2021-06-13T14:48:55.595Z"
   },
   {
    "duration": 138595,
    "start_time": "2021-06-13T14:48:56.886Z"
   },
   {
    "duration": 73,
    "start_time": "2021-06-13T14:51:15.483Z"
   },
   {
    "duration": 5,
    "start_time": "2021-06-13T14:53:09.686Z"
   },
   {
    "duration": 8,
    "start_time": "2021-06-13T14:53:43.107Z"
   },
   {
    "duration": 32,
    "start_time": "2021-06-13T14:54:11.206Z"
   },
   {
    "duration": 268,
    "start_time": "2021-06-13T14:55:10.834Z"
   },
   {
    "duration": 8,
    "start_time": "2021-06-13T14:55:38.922Z"
   },
   {
    "duration": 31,
    "start_time": "2021-06-13T14:55:39.571Z"
   },
   {
    "duration": 269,
    "start_time": "2021-06-13T14:55:41.321Z"
   },
   {
    "duration": 23,
    "start_time": "2021-06-13T14:55:58.767Z"
   },
   {
    "duration": 271,
    "start_time": "2021-06-13T14:56:39.965Z"
   },
   {
    "duration": 9,
    "start_time": "2021-06-13T14:56:43.700Z"
   },
   {
    "duration": 6,
    "start_time": "2021-06-13T15:17:33.323Z"
   },
   {
    "duration": 5,
    "start_time": "2021-06-13T15:17:44.921Z"
   },
   {
    "duration": 4,
    "start_time": "2021-06-13T15:17:45.379Z"
   },
   {
    "duration": 47,
    "start_time": "2021-06-13T15:17:48.793Z"
   },
   {
    "duration": 9,
    "start_time": "2021-06-13T15:17:49.279Z"
   },
   {
    "duration": 11,
    "start_time": "2021-06-13T15:17:53.326Z"
   },
   {
    "duration": 10,
    "start_time": "2021-06-13T15:17:54.040Z"
   },
   {
    "duration": 9,
    "start_time": "2021-06-13T15:17:54.265Z"
   },
   {
    "duration": 24,
    "start_time": "2021-06-13T15:17:54.457Z"
   },
   {
    "duration": 4,
    "start_time": "2021-06-13T15:17:57.739Z"
   },
   {
    "duration": 4,
    "start_time": "2021-06-13T15:17:58.225Z"
   },
   {
    "duration": 542,
    "start_time": "2021-06-13T15:18:01.378Z"
   },
   {
    "duration": 96,
    "start_time": "2021-06-13T15:18:42.830Z"
   },
   {
    "duration": 37,
    "start_time": "2021-06-13T15:20:09.145Z"
   },
   {
    "duration": 16,
    "start_time": "2021-06-13T15:20:38.341Z"
   },
   {
    "duration": 335,
    "start_time": "2021-06-13T15:21:53.480Z"
   },
   {
    "duration": 321,
    "start_time": "2021-06-13T15:22:14.858Z"
   },
   {
    "duration": 335,
    "start_time": "2021-06-13T15:22:25.548Z"
   },
   {
    "duration": 13,
    "start_time": "2021-06-13T15:22:37.969Z"
   },
   {
    "duration": 30,
    "start_time": "2021-06-13T15:23:58.958Z"
   },
   {
    "duration": 7,
    "start_time": "2021-06-13T15:24:05.774Z"
   },
   {
    "duration": 326,
    "start_time": "2021-06-13T15:24:31.701Z"
   },
   {
    "duration": 32,
    "start_time": "2021-06-13T15:24:49.544Z"
   },
   {
    "duration": 338,
    "start_time": "2021-06-13T15:24:53.352Z"
   },
   {
    "duration": 1421,
    "start_time": "2021-06-13T15:25:19.093Z"
   },
   {
    "duration": 1590,
    "start_time": "2021-06-13T15:25:31.466Z"
   },
   {
    "duration": 263,
    "start_time": "2021-06-13T15:25:43.822Z"
   },
   {
    "duration": 330,
    "start_time": "2021-06-13T15:25:54.173Z"
   },
   {
    "duration": 344,
    "start_time": "2021-06-13T15:26:21.706Z"
   },
   {
    "duration": 338,
    "start_time": "2021-06-13T15:26:44.201Z"
   },
   {
    "duration": 326,
    "start_time": "2021-06-13T15:26:52.866Z"
   },
   {
    "duration": 344,
    "start_time": "2021-06-13T15:27:07.406Z"
   },
   {
    "duration": 1534,
    "start_time": "2021-06-13T15:42:58.096Z"
   },
   {
    "duration": 379,
    "start_time": "2021-06-13T15:46:00.925Z"
   },
   {
    "duration": 8418,
    "start_time": "2021-06-13T15:47:26.976Z"
   },
   {
    "duration": 9,
    "start_time": "2021-06-13T15:47:44.054Z"
   },
   {
    "duration": 1173,
    "start_time": "2021-06-13T15:47:57.970Z"
   },
   {
    "duration": 371,
    "start_time": "2021-06-13T15:49:00.566Z"
   },
   {
    "duration": 492,
    "start_time": "2021-06-13T15:49:13.539Z"
   },
   {
    "duration": 60,
    "start_time": "2021-06-13T15:49:19.042Z"
   },
   {
    "duration": 11,
    "start_time": "2021-06-13T15:49:19.274Z"
   },
   {
    "duration": 18,
    "start_time": "2021-06-13T15:49:19.952Z"
   },
   {
    "duration": 11,
    "start_time": "2021-06-13T15:49:20.298Z"
   },
   {
    "duration": 9,
    "start_time": "2021-06-13T15:49:20.479Z"
   },
   {
    "duration": 21,
    "start_time": "2021-06-13T15:49:20.637Z"
   },
   {
    "duration": 11,
    "start_time": "2021-06-13T15:49:22.059Z"
   },
   {
    "duration": 5,
    "start_time": "2021-06-13T15:49:23.373Z"
   },
   {
    "duration": 526,
    "start_time": "2021-06-13T15:49:24.236Z"
   },
   {
    "duration": 348,
    "start_time": "2021-06-13T15:49:36.046Z"
   },
   {
    "duration": 5054,
    "start_time": "2021-06-13T15:49:39.207Z"
   },
   {
    "duration": 22,
    "start_time": "2021-06-13T15:50:00.495Z"
   },
   {
    "duration": 356,
    "start_time": "2021-06-13T15:50:01.198Z"
   },
   {
    "duration": 365,
    "start_time": "2021-06-13T15:50:03.337Z"
   },
   {
    "duration": 12,
    "start_time": "2021-06-13T15:50:49.485Z"
   },
   {
    "duration": 8699,
    "start_time": "2021-06-13T15:51:09.543Z"
   },
   {
    "duration": 1150,
    "start_time": "2021-06-13T15:51:32.530Z"
   },
   {
    "duration": 5,
    "start_time": "2021-06-13T15:52:33.819Z"
   },
   {
    "duration": 3,
    "start_time": "2021-06-13T15:52:34.026Z"
   },
   {
    "duration": 4,
    "start_time": "2021-06-13T15:52:34.194Z"
   },
   {
    "duration": 54,
    "start_time": "2021-06-13T15:52:34.524Z"
   },
   {
    "duration": 10,
    "start_time": "2021-06-13T15:52:34.684Z"
   },
   {
    "duration": 12,
    "start_time": "2021-06-13T15:52:35.307Z"
   },
   {
    "duration": 11,
    "start_time": "2021-06-13T15:52:35.658Z"
   },
   {
    "duration": 9,
    "start_time": "2021-06-13T15:52:35.811Z"
   },
   {
    "duration": 19,
    "start_time": "2021-06-13T15:52:35.977Z"
   },
   {
    "duration": 4,
    "start_time": "2021-06-13T15:52:37.136Z"
   },
   {
    "duration": 4,
    "start_time": "2021-06-13T15:52:37.295Z"
   },
   {
    "duration": 538,
    "start_time": "2021-06-13T15:52:37.779Z"
   },
   {
    "duration": 30,
    "start_time": "2021-06-13T15:52:39.045Z"
   },
   {
    "duration": 341,
    "start_time": "2021-06-13T15:52:39.640Z"
   },
   {
    "duration": 359,
    "start_time": "2021-06-13T15:52:41.580Z"
   },
   {
    "duration": 18,
    "start_time": "2021-06-13T15:52:43.069Z"
   },
   {
    "duration": 6707,
    "start_time": "2021-06-13T15:52:43.720Z"
   },
   {
    "duration": 15,
    "start_time": "2021-06-13T15:53:12.043Z"
   },
   {
    "duration": 6231,
    "start_time": "2021-06-13T15:53:12.511Z"
   },
   {
    "duration": 13,
    "start_time": "2021-06-13T15:53:52.013Z"
   },
   {
    "duration": 2044,
    "start_time": "2021-06-13T15:54:00.006Z"
   },
   {
    "duration": 1723,
    "start_time": "2021-06-13T15:55:20.888Z"
   },
   {
    "duration": 2129,
    "start_time": "2021-06-13T15:56:24.510Z"
   },
   {
    "duration": 1401,
    "start_time": "2021-06-13T15:56:49.842Z"
   },
   {
    "duration": 7,
    "start_time": "2021-06-13T15:57:43.077Z"
   },
   {
    "duration": 8,
    "start_time": "2021-06-13T15:57:43.298Z"
   },
   {
    "duration": 8,
    "start_time": "2021-06-13T15:57:43.521Z"
   },
   {
    "duration": 1793,
    "start_time": "2021-06-13T15:58:56.928Z"
   },
   {
    "duration": 1683,
    "start_time": "2021-06-13T15:59:09.418Z"
   },
   {
    "duration": 1688,
    "start_time": "2021-06-13T15:59:57.250Z"
   },
   {
    "duration": 1805,
    "start_time": "2021-06-13T16:00:09.111Z"
   },
   {
    "duration": 1669,
    "start_time": "2021-06-13T16:00:14.920Z"
   },
   {
    "duration": 1704,
    "start_time": "2021-06-13T16:00:25.456Z"
   },
   {
    "duration": 1913,
    "start_time": "2021-06-13T16:00:30.869Z"
   },
   {
    "duration": 494,
    "start_time": "2021-06-13T16:00:58.657Z"
   },
   {
    "duration": 443,
    "start_time": "2021-06-13T16:01:06.568Z"
   },
   {
    "duration": 584,
    "start_time": "2021-06-13T16:01:33.142Z"
   },
   {
    "duration": 576,
    "start_time": "2021-06-13T16:01:56.838Z"
   },
   {
    "duration": 480,
    "start_time": "2021-06-13T16:02:15.406Z"
   },
   {
    "duration": 444,
    "start_time": "2021-06-13T16:02:27.474Z"
   },
   {
    "duration": 809,
    "start_time": "2021-06-13T16:02:54.730Z"
   },
   {
    "duration": 673,
    "start_time": "2021-06-13T16:03:04.692Z"
   },
   {
    "duration": 451,
    "start_time": "2021-06-13T16:03:05.368Z"
   },
   {
    "duration": 463,
    "start_time": "2021-06-13T16:03:05.822Z"
   },
   {
    "duration": 430,
    "start_time": "2021-06-13T16:03:21.484Z"
   },
   {
    "duration": 19,
    "start_time": "2021-06-13T16:04:11.554Z"
   },
   {
    "duration": 342,
    "start_time": "2021-06-13T16:04:12.359Z"
   },
   {
    "duration": 348,
    "start_time": "2021-06-13T16:04:22.819Z"
   },
   {
    "duration": 13,
    "start_time": "2021-06-13T16:04:29.954Z"
   },
   {
    "duration": 13,
    "start_time": "2021-06-13T16:04:30.227Z"
   },
   {
    "duration": 712,
    "start_time": "2021-06-13T16:04:30.759Z"
   },
   {
    "duration": 407,
    "start_time": "2021-06-13T16:04:36.483Z"
   },
   {
    "duration": 421,
    "start_time": "2021-06-13T16:04:39.488Z"
   },
   {
    "duration": 428,
    "start_time": "2021-06-13T16:04:39.911Z"
   },
   {
    "duration": 1434,
    "start_time": "2021-06-13T16:17:29.135Z"
   },
   {
    "duration": 203,
    "start_time": "2021-06-13T16:17:30.572Z"
   },
   {
    "duration": 5,
    "start_time": "2021-06-13T16:17:30.778Z"
   },
   {
    "duration": 48,
    "start_time": "2021-06-13T16:17:32.900Z"
   },
   {
    "duration": 14,
    "start_time": "2021-06-13T16:17:33.230Z"
   },
   {
    "duration": 12,
    "start_time": "2021-06-13T16:17:35.813Z"
   },
   {
    "duration": 9,
    "start_time": "2021-06-13T16:17:38.078Z"
   },
   {
    "duration": 12,
    "start_time": "2021-06-13T16:17:39.603Z"
   },
   {
    "duration": 18,
    "start_time": "2021-06-13T16:17:39.737Z"
   },
   {
    "duration": 5,
    "start_time": "2021-06-13T16:17:43.310Z"
   },
   {
    "duration": 4,
    "start_time": "2021-06-13T16:17:43.771Z"
   },
   {
    "duration": 487,
    "start_time": "2021-06-13T16:17:46.327Z"
   },
   {
    "duration": 18,
    "start_time": "2021-06-13T16:17:49.606Z"
   },
   {
    "duration": 312,
    "start_time": "2021-06-13T16:17:51.812Z"
   },
   {
    "duration": 339,
    "start_time": "2021-06-13T16:18:08.978Z"
   },
   {
    "duration": 11,
    "start_time": "2021-06-13T16:18:22.424Z"
   },
   {
    "duration": 16,
    "start_time": "2021-06-13T16:18:23.368Z"
   },
   {
    "duration": 683,
    "start_time": "2021-06-13T16:18:35.785Z"
   },
   {
    "duration": 398,
    "start_time": "2021-06-13T16:18:42.388Z"
   },
   {
    "duration": 446,
    "start_time": "2021-06-13T16:18:44.288Z"
   },
   {
    "duration": 5,
    "start_time": "2021-06-13T16:20:16.090Z"
   },
   {
    "duration": 11,
    "start_time": "2021-06-13T16:20:16.378Z"
   },
   {
    "duration": 8,
    "start_time": "2021-06-13T16:20:18.105Z"
   },
   {
    "duration": 12,
    "start_time": "2021-06-13T16:21:02.974Z"
   },
   {
    "duration": 6,
    "start_time": "2021-06-13T16:21:03.324Z"
   },
   {
    "duration": 22,
    "start_time": "2021-06-13T16:21:05.590Z"
   },
   {
    "duration": 36,
    "start_time": "2021-06-13T16:21:06.440Z"
   },
   {
    "duration": 10,
    "start_time": "2021-06-13T16:21:09.895Z"
   },
   {
    "duration": 8,
    "start_time": "2021-06-13T16:21:12.037Z"
   },
   {
    "duration": 6,
    "start_time": "2021-06-13T16:21:12.826Z"
   },
   {
    "duration": 74,
    "start_time": "2021-06-13T16:21:15.601Z"
   },
   {
    "duration": 6,
    "start_time": "2021-06-13T16:21:15.882Z"
   },
   {
    "duration": 2792,
    "start_time": "2021-06-13T16:21:33.399Z"
   },
   {
    "duration": 6,
    "start_time": "2021-06-13T16:21:36.194Z"
   },
   {
    "duration": 4,
    "start_time": "2021-06-13T16:21:56.126Z"
   },
   {
    "duration": 14038,
    "start_time": "2021-06-13T16:21:56.629Z"
   },
   {
    "duration": 8,
    "start_time": "2021-06-13T16:22:10.671Z"
   },
   {
    "duration": 7136,
    "start_time": "2021-06-13T16:22:32.067Z"
   },
   {
    "duration": 6,
    "start_time": "2021-06-13T16:22:39.206Z"
   },
   {
    "duration": 19,
    "start_time": "2021-06-13T16:24:14.270Z"
   },
   {
    "duration": 13,
    "start_time": "2021-06-13T16:24:14.631Z"
   },
   {
    "duration": 1360,
    "start_time": "2021-06-13T16:25:00.910Z"
   },
   {
    "duration": 193,
    "start_time": "2021-06-13T16:25:02.273Z"
   },
   {
    "duration": 4,
    "start_time": "2021-06-13T16:25:02.469Z"
   },
   {
    "duration": 55,
    "start_time": "2021-06-13T16:25:02.475Z"
   },
   {
    "duration": 32,
    "start_time": "2021-06-13T16:25:02.532Z"
   },
   {
    "duration": 14,
    "start_time": "2021-06-13T16:25:02.566Z"
   },
   {
    "duration": 27,
    "start_time": "2021-06-13T16:25:02.582Z"
   },
   {
    "duration": 15,
    "start_time": "2021-06-13T16:25:02.613Z"
   },
   {
    "duration": 33,
    "start_time": "2021-06-13T16:25:02.631Z"
   },
   {
    "duration": 4,
    "start_time": "2021-06-13T16:25:02.666Z"
   },
   {
    "duration": 14,
    "start_time": "2021-06-13T16:25:02.674Z"
   },
   {
    "duration": 504,
    "start_time": "2021-06-13T16:25:02.691Z"
   },
   {
    "duration": 19,
    "start_time": "2021-06-13T16:25:03.198Z"
   },
   {
    "duration": 338,
    "start_time": "2021-06-13T16:25:03.219Z"
   },
   {
    "duration": 371,
    "start_time": "2021-06-13T16:25:03.559Z"
   },
   {
    "duration": 24,
    "start_time": "2021-06-13T16:25:03.932Z"
   },
   {
    "duration": 18,
    "start_time": "2021-06-13T16:25:03.959Z"
   },
   {
    "duration": 709,
    "start_time": "2021-06-13T16:25:03.980Z"
   },
   {
    "duration": 429,
    "start_time": "2021-06-13T16:25:04.691Z"
   },
   {
    "duration": 447,
    "start_time": "2021-06-13T16:25:05.124Z"
   },
   {
    "duration": 5,
    "start_time": "2021-06-13T16:25:05.574Z"
   },
   {
    "duration": 22,
    "start_time": "2021-06-13T16:25:05.582Z"
   },
   {
    "duration": 9,
    "start_time": "2021-06-13T16:25:05.609Z"
   },
   {
    "duration": 20,
    "start_time": "2021-06-13T16:25:05.621Z"
   },
   {
    "duration": 23,
    "start_time": "2021-06-13T16:25:05.643Z"
   },
   {
    "duration": 38,
    "start_time": "2021-06-13T16:25:05.669Z"
   },
   {
    "duration": 32,
    "start_time": "2021-06-13T16:25:05.710Z"
   },
   {
    "duration": 14,
    "start_time": "2021-06-13T16:25:05.757Z"
   },
   {
    "duration": 12,
    "start_time": "2021-06-13T16:25:05.773Z"
   },
   {
    "duration": 21,
    "start_time": "2021-06-13T16:25:05.788Z"
   },
   {
    "duration": 54,
    "start_time": "2021-06-13T16:25:05.812Z"
   },
   {
    "duration": 105,
    "start_time": "2021-06-13T16:25:05.869Z"
   },
   {
    "duration": 2511,
    "start_time": "2021-06-13T16:25:05.977Z"
   },
   {
    "duration": 6,
    "start_time": "2021-06-13T16:25:08.491Z"
   },
   {
    "duration": 11,
    "start_time": "2021-06-13T16:25:08.500Z"
   },
   {
    "duration": 11454,
    "start_time": "2021-06-13T16:25:08.514Z"
   },
   {
    "duration": 6,
    "start_time": "2021-06-13T16:25:19.971Z"
   },
   {
    "duration": 7151,
    "start_time": "2021-06-13T16:25:19.980Z"
   },
   {
    "duration": 6,
    "start_time": "2021-06-13T16:25:27.133Z"
   },
   {
    "duration": 45,
    "start_time": "2021-06-13T16:25:27.142Z"
   },
   {
    "duration": 18,
    "start_time": "2021-06-13T16:25:27.190Z"
   },
   {
    "duration": 1268,
    "start_time": "2021-06-14T00:22:58.380Z"
   },
   {
    "duration": 176,
    "start_time": "2021-06-14T00:22:59.651Z"
   },
   {
    "duration": 4,
    "start_time": "2021-06-14T00:22:59.831Z"
   },
   {
    "duration": 52,
    "start_time": "2021-06-14T00:22:59.838Z"
   },
   {
    "duration": 14,
    "start_time": "2021-06-14T00:22:59.896Z"
   },
   {
    "duration": 11,
    "start_time": "2021-06-14T00:26:52.692Z"
   },
   {
    "duration": 11,
    "start_time": "2021-06-14T00:26:54.008Z"
   },
   {
    "duration": 10,
    "start_time": "2021-06-14T00:26:54.381Z"
   },
   {
    "duration": 17,
    "start_time": "2021-06-14T00:26:54.941Z"
   },
   {
    "duration": 4,
    "start_time": "2021-06-14T00:27:34.279Z"
   },
   {
    "duration": 4,
    "start_time": "2021-06-14T00:27:34.611Z"
   },
   {
    "duration": 444,
    "start_time": "2021-06-14T00:27:35.093Z"
   },
   {
    "duration": 19,
    "start_time": "2021-06-14T00:27:36.352Z"
   },
   {
    "duration": 298,
    "start_time": "2021-06-14T00:27:36.933Z"
   },
   {
    "duration": 311,
    "start_time": "2021-06-14T00:27:38.413Z"
   },
   {
    "duration": 10,
    "start_time": "2021-06-14T00:27:39.509Z"
   },
   {
    "duration": 14,
    "start_time": "2021-06-14T00:27:39.716Z"
   },
   {
    "duration": 626,
    "start_time": "2021-06-14T00:27:40.021Z"
   },
   {
    "duration": 402,
    "start_time": "2021-06-14T00:27:40.662Z"
   },
   {
    "duration": 376,
    "start_time": "2021-06-14T00:27:41.477Z"
   },
   {
    "duration": 6,
    "start_time": "2021-06-14T00:29:57.565Z"
   },
   {
    "duration": 10,
    "start_time": "2021-06-14T00:29:57.774Z"
   },
   {
    "duration": 11,
    "start_time": "2021-06-14T00:29:57.985Z"
   },
   {
    "duration": 10,
    "start_time": "2021-06-14T00:36:16.963Z"
   },
   {
    "duration": 13,
    "start_time": "2021-06-14T00:36:23.654Z"
   },
   {
    "duration": 5,
    "start_time": "2021-06-14T00:36:24.407Z"
   },
   {
    "duration": 21,
    "start_time": "2021-06-14T00:36:29.695Z"
   },
   {
    "duration": 31,
    "start_time": "2021-06-14T00:36:31.455Z"
   },
   {
    "duration": 12,
    "start_time": "2021-06-14T00:36:33.967Z"
   },
   {
    "duration": 7,
    "start_time": "2021-06-14T00:36:34.360Z"
   },
   {
    "duration": 5,
    "start_time": "2021-06-14T00:36:35.506Z"
   },
   {
    "duration": 124,
    "start_time": "2021-06-14T00:36:39.159Z"
   },
   {
    "duration": 7,
    "start_time": "2021-06-14T00:36:39.384Z"
   },
   {
    "duration": 2152,
    "start_time": "2021-06-14T00:39:18.839Z"
   },
   {
    "duration": 45,
    "start_time": "2021-06-14T00:39:51.402Z"
   },
   {
    "duration": 9,
    "start_time": "2021-06-14T00:39:51.972Z"
   },
   {
    "duration": 11,
    "start_time": "2021-06-14T00:39:54.570Z"
   },
   {
    "duration": 9,
    "start_time": "2021-06-14T00:39:55.126Z"
   },
   {
    "duration": 8,
    "start_time": "2021-06-14T00:39:55.350Z"
   },
   {
    "duration": 16,
    "start_time": "2021-06-14T00:39:55.582Z"
   },
   {
    "duration": 4,
    "start_time": "2021-06-14T00:39:57.552Z"
   },
   {
    "duration": 5,
    "start_time": "2021-06-14T00:39:57.910Z"
   },
   {
    "duration": 442,
    "start_time": "2021-06-14T00:39:58.944Z"
   },
   {
    "duration": 16,
    "start_time": "2021-06-14T00:40:00.307Z"
   },
   {
    "duration": 306,
    "start_time": "2021-06-14T00:40:00.587Z"
   },
   {
    "duration": 328,
    "start_time": "2021-06-14T00:40:01.532Z"
   },
   {
    "duration": 11,
    "start_time": "2021-06-14T00:40:01.979Z"
   },
   {
    "duration": 13,
    "start_time": "2021-06-14T00:40:02.266Z"
   },
   {
    "duration": 555,
    "start_time": "2021-06-14T00:40:02.442Z"
   },
   {
    "duration": 374,
    "start_time": "2021-06-14T00:40:03.262Z"
   },
   {
    "duration": 384,
    "start_time": "2021-06-14T00:40:04.332Z"
   },
   {
    "duration": 7,
    "start_time": "2021-06-14T00:40:07.570Z"
   },
   {
    "duration": 8,
    "start_time": "2021-06-14T00:40:08.482Z"
   },
   {
    "duration": 8,
    "start_time": "2021-06-14T00:40:09.587Z"
   },
   {
    "duration": 1345,
    "start_time": "2021-06-14T00:40:14.565Z"
   },
   {
    "duration": 12,
    "start_time": "2021-06-14T00:40:32.003Z"
   },
   {
    "duration": 5,
    "start_time": "2021-06-14T00:40:32.755Z"
   },
   {
    "duration": 23,
    "start_time": "2021-06-14T00:40:34.336Z"
   },
   {
    "duration": 29,
    "start_time": "2021-06-14T00:40:36.393Z"
   },
   {
    "duration": 11,
    "start_time": "2021-06-14T00:40:41.867Z"
   },
   {
    "duration": 7,
    "start_time": "2021-06-14T00:40:42.443Z"
   },
   {
    "duration": 6,
    "start_time": "2021-06-14T00:40:43.943Z"
   },
   {
    "duration": 100,
    "start_time": "2021-06-14T00:40:46.883Z"
   },
   {
    "duration": 7,
    "start_time": "2021-06-14T00:40:47.276Z"
   },
   {
    "duration": 2336,
    "start_time": "2021-06-14T00:41:47.619Z"
   },
   {
    "duration": 6,
    "start_time": "2021-06-14T00:41:49.958Z"
   },
   {
    "duration": 4,
    "start_time": "2021-06-14T00:42:17.052Z"
   },
   {
    "duration": 2086,
    "start_time": "2021-06-14T00:42:17.603Z"
   },
   {
    "duration": 432,
    "start_time": "2021-06-14T00:42:26.339Z"
   },
   {
    "duration": 7,
    "start_time": "2021-06-14T00:42:38.787Z"
   },
   {
    "duration": 7123,
    "start_time": "2021-06-14T00:42:41.265Z"
   },
   {
    "duration": 6,
    "start_time": "2021-06-14T00:42:48.391Z"
   },
   {
    "duration": 1875,
    "start_time": "2021-06-14T00:43:11.779Z"
   },
   {
    "duration": 19,
    "start_time": "2021-06-14T00:44:38.853Z"
   },
   {
    "duration": 10,
    "start_time": "2021-06-14T00:44:40.022Z"
   },
   {
    "duration": 89,
    "start_time": "2021-06-21T07:17:53.541Z"
   },
   {
    "duration": 1394,
    "start_time": "2021-06-21T07:18:11.355Z"
   },
   {
    "duration": 192,
    "start_time": "2021-06-21T07:18:12.751Z"
   },
   {
    "duration": 3,
    "start_time": "2021-06-21T07:18:12.945Z"
   },
   {
    "duration": 49,
    "start_time": "2021-06-21T07:18:16.282Z"
   },
   {
    "duration": 13,
    "start_time": "2021-06-21T07:18:17.606Z"
   },
   {
    "duration": 11,
    "start_time": "2021-06-21T07:18:21.358Z"
   },
   {
    "duration": 9,
    "start_time": "2021-06-21T07:18:23.525Z"
   },
   {
    "duration": 9,
    "start_time": "2021-06-21T07:18:23.959Z"
   },
   {
    "duration": 24,
    "start_time": "2021-06-21T07:18:24.838Z"
   },
   {
    "duration": 4,
    "start_time": "2021-06-21T07:18:32.021Z"
   },
   {
    "duration": 4,
    "start_time": "2021-06-21T07:18:32.317Z"
   },
   {
    "duration": 561,
    "start_time": "2021-06-21T07:18:34.232Z"
   },
   {
    "duration": 31,
    "start_time": "2021-06-21T07:18:37.449Z"
   },
   {
    "duration": 303,
    "start_time": "2021-06-21T07:18:37.728Z"
   },
   {
    "duration": 331,
    "start_time": "2021-06-21T07:18:40.431Z"
   },
   {
    "duration": 11,
    "start_time": "2021-06-21T07:18:43.121Z"
   },
   {
    "duration": 16,
    "start_time": "2021-06-21T07:18:44.245Z"
   },
   {
    "duration": 655,
    "start_time": "2021-06-21T07:18:44.690Z"
   },
   {
    "duration": 393,
    "start_time": "2021-06-21T07:18:48.610Z"
   },
   {
    "duration": 410,
    "start_time": "2021-06-21T07:18:51.717Z"
   },
   {
    "duration": 414,
    "start_time": "2021-06-21T07:23:44.302Z"
   },
   {
    "duration": 271,
    "start_time": "2021-06-21T07:23:50.463Z"
   },
   {
    "duration": 267,
    "start_time": "2021-06-21T07:24:21.582Z"
   },
   {
    "duration": 364,
    "start_time": "2021-06-21T07:25:06.208Z"
   },
   {
    "duration": 374,
    "start_time": "2021-06-21T07:25:18.114Z"
   },
   {
    "duration": 6,
    "start_time": "2021-06-21T07:27:19.324Z"
   },
   {
    "duration": 9,
    "start_time": "2021-06-21T07:27:19.562Z"
   },
   {
    "duration": 8,
    "start_time": "2021-06-21T07:27:19.865Z"
   },
   {
    "duration": 115,
    "start_time": "2021-06-21T07:28:08.462Z"
   },
   {
    "duration": 92,
    "start_time": "2021-06-21T07:42:15.949Z"
   },
   {
    "duration": 277,
    "start_time": "2021-06-21T07:42:41.319Z"
   },
   {
    "duration": 11,
    "start_time": "2021-06-21T07:42:44.962Z"
   },
   {
    "duration": 6,
    "start_time": "2021-06-21T07:42:45.161Z"
   },
   {
    "duration": 12,
    "start_time": "2021-06-21T07:42:48.582Z"
   },
   {
    "duration": 20,
    "start_time": "2021-06-21T07:44:02.083Z"
   },
   {
    "duration": 23,
    "start_time": "2021-06-21T07:44:13.937Z"
   },
   {
    "duration": 10,
    "start_time": "2021-06-21T07:44:17.493Z"
   },
   {
    "duration": 7,
    "start_time": "2021-06-21T07:44:18.222Z"
   },
   {
    "duration": 7,
    "start_time": "2021-06-21T07:44:20.131Z"
   },
   {
    "duration": 90,
    "start_time": "2021-06-21T07:44:22.765Z"
   },
   {
    "duration": 6,
    "start_time": "2021-06-21T07:44:23.182Z"
   },
   {
    "duration": 1218,
    "start_time": "2021-06-21T07:45:01.138Z"
   },
   {
    "duration": 6,
    "start_time": "2021-06-21T07:45:02.359Z"
   },
   {
    "duration": 4,
    "start_time": "2021-06-21T07:45:26.617Z"
   },
   {
    "duration": 2045,
    "start_time": "2021-06-21T07:45:30.109Z"
   },
   {
    "duration": 7,
    "start_time": "2021-06-21T07:45:34.545Z"
   },
   {
    "duration": 795,
    "start_time": "2021-06-21T07:45:44.697Z"
   },
   {
    "duration": 6913,
    "start_time": "2021-06-21T07:46:03.620Z"
   },
   {
    "duration": 7,
    "start_time": "2021-06-21T07:46:12.205Z"
   },
   {
    "duration": 24,
    "start_time": "2021-06-21T07:46:29.636Z"
   },
   {
    "duration": 9,
    "start_time": "2021-06-21T07:46:30.017Z"
   },
   {
    "duration": 8406,
    "start_time": "2021-06-21T07:48:11.653Z"
   },
   {
    "duration": 7,
    "start_time": "2021-06-21T07:48:20.062Z"
   },
   {
    "duration": 17,
    "start_time": "2021-06-21T07:48:21.712Z"
   },
   {
    "duration": 1381,
    "start_time": "2021-06-22T14:01:33.293Z"
   },
   {
    "duration": 189,
    "start_time": "2021-06-22T14:01:35.740Z"
   },
   {
    "duration": 4,
    "start_time": "2021-06-22T14:01:37.532Z"
   },
   {
    "duration": 48,
    "start_time": "2021-06-22T14:01:38.300Z"
   },
   {
    "duration": 14,
    "start_time": "2021-06-22T14:01:38.711Z"
   },
   {
    "duration": 12,
    "start_time": "2021-06-22T14:01:43.344Z"
   },
   {
    "duration": 9,
    "start_time": "2021-06-22T14:01:43.923Z"
   },
   {
    "duration": 10,
    "start_time": "2021-06-22T14:01:44.156Z"
   },
   {
    "duration": 19,
    "start_time": "2021-06-22T14:01:44.400Z"
   },
   {
    "duration": 5,
    "start_time": "2021-06-22T14:01:46.874Z"
   },
   {
    "duration": 4,
    "start_time": "2021-06-22T14:01:47.145Z"
   },
   {
    "duration": 467,
    "start_time": "2021-06-22T14:01:47.903Z"
   },
   {
    "duration": 18,
    "start_time": "2021-06-22T14:01:50.951Z"
   },
   {
    "duration": 329,
    "start_time": "2021-06-22T14:01:57.719Z"
   },
   {
    "duration": 353,
    "start_time": "2021-06-22T14:02:06.581Z"
   },
   {
    "duration": 12,
    "start_time": "2021-06-22T14:02:15.463Z"
   },
   {
    "duration": 22,
    "start_time": "2021-06-22T14:02:15.947Z"
   },
   {
    "duration": 850,
    "start_time": "2021-06-22T14:02:16.149Z"
   },
   {
    "duration": 419,
    "start_time": "2021-06-22T14:02:19.215Z"
   },
   {
    "duration": 428,
    "start_time": "2021-06-22T14:02:20.988Z"
   },
   {
    "duration": 6,
    "start_time": "2021-06-22T14:03:12.496Z"
   },
   {
    "duration": 8,
    "start_time": "2021-06-22T14:03:12.741Z"
   },
   {
    "duration": 9,
    "start_time": "2021-06-22T14:03:12.976Z"
   },
   {
    "duration": 12,
    "start_time": "2021-06-22T14:03:20.102Z"
   },
   {
    "duration": 5,
    "start_time": "2021-06-22T14:03:20.713Z"
   },
   {
    "duration": 11,
    "start_time": "2021-06-22T14:03:58.168Z"
   },
   {
    "duration": 18,
    "start_time": "2021-06-22T14:04:05.875Z"
   },
   {
    "duration": 23,
    "start_time": "2021-06-22T14:04:08.250Z"
   },
   {
    "duration": 17,
    "start_time": "2021-06-22T14:04:09.888Z"
   },
   {
    "duration": 7,
    "start_time": "2021-06-22T14:04:10.146Z"
   },
   {
    "duration": 6,
    "start_time": "2021-06-22T14:04:10.900Z"
   },
   {
    "duration": 106,
    "start_time": "2021-06-22T14:04:15.177Z"
   },
   {
    "duration": 7,
    "start_time": "2021-06-22T14:04:15.475Z"
   },
   {
    "duration": 1224,
    "start_time": "2021-06-22T14:04:28.360Z"
   },
   {
    "duration": 8,
    "start_time": "2021-06-22T14:04:29.587Z"
   },
   {
    "duration": 5,
    "start_time": "2021-06-22T14:04:41.110Z"
   },
   {
    "duration": 10985,
    "start_time": "2021-06-22T14:04:47.616Z"
   },
   {
    "duration": 7,
    "start_time": "2021-06-22T14:04:58.605Z"
   },
   {
    "duration": 6242,
    "start_time": "2021-06-22T14:05:04.181Z"
   },
   {
    "duration": 8,
    "start_time": "2021-06-22T14:05:10.426Z"
   },
   {
    "duration": 16,
    "start_time": "2021-06-22T14:05:32.119Z"
   },
   {
    "duration": 9,
    "start_time": "2021-06-22T14:05:32.460Z"
   },
   {
    "duration": 440,
    "start_time": "2021-06-22T14:09:48.546Z"
   },
   {
    "duration": 551,
    "start_time": "2021-06-22T14:10:46.185Z"
   },
   {
    "duration": 1455,
    "start_time": "2021-06-22T14:11:23.781Z"
   },
   {
    "duration": 196,
    "start_time": "2021-06-22T14:11:25.238Z"
   },
   {
    "duration": 4,
    "start_time": "2021-06-22T14:11:25.437Z"
   },
   {
    "duration": 60,
    "start_time": "2021-06-22T14:11:25.443Z"
   },
   {
    "duration": 16,
    "start_time": "2021-06-22T14:11:25.506Z"
   },
   {
    "duration": 19,
    "start_time": "2021-06-22T14:11:25.525Z"
   },
   {
    "duration": 40,
    "start_time": "2021-06-22T14:11:25.547Z"
   },
   {
    "duration": 20,
    "start_time": "2021-06-22T14:11:25.590Z"
   },
   {
    "duration": 18,
    "start_time": "2021-06-22T14:11:25.615Z"
   },
   {
    "duration": 4,
    "start_time": "2021-06-22T14:11:25.636Z"
   },
   {
    "duration": 7,
    "start_time": "2021-06-22T14:11:25.643Z"
   },
   {
    "duration": 511,
    "start_time": "2021-06-22T14:11:25.652Z"
   },
   {
    "duration": 39,
    "start_time": "2021-06-22T14:11:26.165Z"
   },
   {
    "duration": 413,
    "start_time": "2021-06-22T14:11:26.206Z"
   },
   {
    "duration": 361,
    "start_time": "2021-06-22T14:11:26.622Z"
   },
   {
    "duration": 12,
    "start_time": "2021-06-22T14:11:26.985Z"
   },
   {
    "duration": 14,
    "start_time": "2021-06-22T14:11:27.003Z"
   },
   {
    "duration": 700,
    "start_time": "2021-06-22T14:11:27.020Z"
   },
   {
    "duration": 446,
    "start_time": "2021-06-22T14:11:27.722Z"
   },
   {
    "duration": 456,
    "start_time": "2021-06-22T14:11:28.171Z"
   },
   {
    "duration": 5,
    "start_time": "2021-06-22T14:11:28.630Z"
   },
   {
    "duration": 10,
    "start_time": "2021-06-22T14:11:28.638Z"
   },
   {
    "duration": 10,
    "start_time": "2021-06-22T14:11:28.650Z"
   },
   {
    "duration": 14,
    "start_time": "2021-06-22T14:11:28.687Z"
   },
   {
    "duration": 5,
    "start_time": "2021-06-22T14:11:28.704Z"
   },
   {
    "duration": 16,
    "start_time": "2021-06-22T14:11:28.712Z"
   },
   {
    "duration": 50,
    "start_time": "2021-06-22T14:11:28.733Z"
   },
   {
    "duration": 14,
    "start_time": "2021-06-22T14:11:28.788Z"
   },
   {
    "duration": 8,
    "start_time": "2021-06-22T14:11:28.805Z"
   },
   {
    "duration": 23,
    "start_time": "2021-06-22T14:11:28.816Z"
   },
   {
    "duration": 141,
    "start_time": "2021-06-22T14:11:28.841Z"
   },
   {
    "duration": 8,
    "start_time": "2021-06-22T14:11:28.985Z"
   },
   {
    "duration": 1292,
    "start_time": "2021-06-22T14:11:28.995Z"
   },
   {
    "duration": 6,
    "start_time": "2021-06-22T14:11:30.290Z"
   },
   {
    "duration": 26,
    "start_time": "2021-06-22T14:11:30.298Z"
   },
   {
    "duration": 59267,
    "start_time": "2021-06-22T14:11:30.327Z"
   },
   {
    "duration": 8,
    "start_time": "2021-06-22T14:12:29.597Z"
   },
   {
    "duration": 7621,
    "start_time": "2021-06-22T14:12:29.684Z"
   },
   {
    "duration": 7,
    "start_time": "2021-06-22T14:12:37.307Z"
   },
   {
    "duration": 23,
    "start_time": "2021-06-22T14:12:37.316Z"
   },
   {
    "duration": 52,
    "start_time": "2021-06-22T14:12:37.341Z"
   },
   {
    "duration": 470,
    "start_time": "2021-06-22T14:12:37.397Z"
   },
   {
    "duration": 467,
    "start_time": "2021-06-22T14:13:05.985Z"
   },
   {
    "duration": 461,
    "start_time": "2021-06-22T14:13:18.395Z"
   },
   {
    "duration": 444,
    "start_time": "2021-06-22T14:14:20.466Z"
   },
   {
    "duration": 8,
    "start_time": "2021-06-22T14:17:20.723Z"
   },
   {
    "duration": 29,
    "start_time": "2021-06-22T14:17:23.082Z"
   },
   {
    "duration": 1395,
    "start_time": "2021-06-22T14:17:52.076Z"
   },
   {
    "duration": 199,
    "start_time": "2021-06-22T14:17:53.473Z"
   },
   {
    "duration": 10,
    "start_time": "2021-06-22T14:17:53.675Z"
   },
   {
    "duration": 46,
    "start_time": "2021-06-22T14:17:53.691Z"
   },
   {
    "duration": 12,
    "start_time": "2021-06-22T14:17:53.740Z"
   },
   {
    "duration": 41,
    "start_time": "2021-06-22T14:17:53.755Z"
   },
   {
    "duration": 9,
    "start_time": "2021-06-22T14:17:53.799Z"
   },
   {
    "duration": 12,
    "start_time": "2021-06-22T14:17:53.811Z"
   },
   {
    "duration": 18,
    "start_time": "2021-06-22T14:17:53.828Z"
   },
   {
    "duration": 37,
    "start_time": "2021-06-22T14:17:53.849Z"
   },
   {
    "duration": 12,
    "start_time": "2021-06-22T14:17:53.890Z"
   },
   {
    "duration": 500,
    "start_time": "2021-06-22T14:17:53.905Z"
   },
   {
    "duration": 19,
    "start_time": "2021-06-22T14:17:54.408Z"
   },
   {
    "duration": 345,
    "start_time": "2021-06-22T14:17:54.429Z"
   },
   {
    "duration": 342,
    "start_time": "2021-06-22T14:17:54.784Z"
   },
   {
    "duration": 13,
    "start_time": "2021-06-22T14:17:55.129Z"
   },
   {
    "duration": 49,
    "start_time": "2021-06-22T14:17:55.144Z"
   },
   {
    "duration": 774,
    "start_time": "2021-06-22T14:17:55.196Z"
   },
   {
    "duration": 429,
    "start_time": "2021-06-22T14:17:55.973Z"
   },
   {
    "duration": 440,
    "start_time": "2021-06-22T14:17:56.405Z"
   },
   {
    "duration": 5,
    "start_time": "2021-06-22T14:17:56.848Z"
   },
   {
    "duration": 30,
    "start_time": "2021-06-22T14:17:56.855Z"
   },
   {
    "duration": 12,
    "start_time": "2021-06-22T14:17:56.888Z"
   },
   {
    "duration": 11,
    "start_time": "2021-06-22T14:17:56.902Z"
   },
   {
    "duration": 7,
    "start_time": "2021-06-22T14:17:56.916Z"
   },
   {
    "duration": 13,
    "start_time": "2021-06-22T14:17:56.926Z"
   },
   {
    "duration": 20,
    "start_time": "2021-06-22T14:17:56.987Z"
   },
   {
    "duration": 13,
    "start_time": "2021-06-22T14:17:57.011Z"
   },
   {
    "duration": 9,
    "start_time": "2021-06-22T14:17:57.027Z"
   },
   {
    "duration": 47,
    "start_time": "2021-06-22T14:17:57.038Z"
   },
   {
    "duration": 12,
    "start_time": "2021-06-22T14:17:57.088Z"
   },
   {
    "duration": 94,
    "start_time": "2021-06-22T14:17:57.103Z"
   },
   {
    "duration": 1157,
    "start_time": "2021-06-22T14:17:57.201Z"
   },
   {
    "duration": 7,
    "start_time": "2021-06-22T14:17:58.361Z"
   },
   {
    "duration": 15,
    "start_time": "2021-06-22T14:17:58.370Z"
   },
   {
    "duration": 6909,
    "start_time": "2021-06-22T14:17:58.389Z"
   },
   {
    "duration": 83,
    "start_time": "2021-06-22T14:18:05.301Z"
   },
   {
    "duration": 5889,
    "start_time": "2021-06-22T14:18:05.387Z"
   },
   {
    "duration": 11,
    "start_time": "2021-06-22T14:18:11.278Z"
   },
   {
    "duration": 93,
    "start_time": "2021-06-22T14:18:11.293Z"
   },
   {
    "duration": 15,
    "start_time": "2021-06-22T14:18:11.390Z"
   },
   {
    "duration": 495,
    "start_time": "2021-06-22T14:18:11.407Z"
   },
   {
    "duration": 454,
    "start_time": "2021-06-22T14:19:30.315Z"
   },
   {
    "duration": 1748,
    "start_time": "2021-06-22T14:21:14.283Z"
   },
   {
    "duration": 211,
    "start_time": "2021-06-22T14:21:16.033Z"
   },
   {
    "duration": 3,
    "start_time": "2021-06-22T14:21:16.247Z"
   },
   {
    "duration": 56,
    "start_time": "2021-06-22T14:21:16.253Z"
   },
   {
    "duration": 13,
    "start_time": "2021-06-22T14:21:16.311Z"
   },
   {
    "duration": 16,
    "start_time": "2021-06-22T14:21:16.327Z"
   },
   {
    "duration": 38,
    "start_time": "2021-06-22T14:21:16.347Z"
   },
   {
    "duration": 9,
    "start_time": "2021-06-22T14:21:16.388Z"
   },
   {
    "duration": 18,
    "start_time": "2021-06-22T14:21:16.400Z"
   },
   {
    "duration": 4,
    "start_time": "2021-06-22T14:21:16.421Z"
   },
   {
    "duration": 14,
    "start_time": "2021-06-22T14:21:16.427Z"
   },
   {
    "duration": 599,
    "start_time": "2021-06-22T14:21:16.444Z"
   },
   {
    "duration": 19,
    "start_time": "2021-06-22T14:21:17.046Z"
   },
   {
    "duration": 337,
    "start_time": "2021-06-22T14:21:17.067Z"
   },
   {
    "duration": 371,
    "start_time": "2021-06-22T14:21:17.407Z"
   },
   {
    "duration": 17,
    "start_time": "2021-06-22T14:21:17.785Z"
   },
   {
    "duration": 15,
    "start_time": "2021-06-22T14:21:17.809Z"
   },
   {
    "duration": 702,
    "start_time": "2021-06-22T14:21:17.826Z"
   },
   {
    "duration": 431,
    "start_time": "2021-06-22T14:21:18.530Z"
   },
   {
    "duration": 443,
    "start_time": "2021-06-22T14:21:18.963Z"
   },
   {
    "duration": 6,
    "start_time": "2021-06-22T14:21:19.408Z"
   },
   {
    "duration": 12,
    "start_time": "2021-06-22T14:21:19.416Z"
   },
   {
    "duration": 9,
    "start_time": "2021-06-22T14:21:19.430Z"
   },
   {
    "duration": 49,
    "start_time": "2021-06-22T14:21:19.442Z"
   },
   {
    "duration": 7,
    "start_time": "2021-06-22T14:21:19.498Z"
   },
   {
    "duration": 15,
    "start_time": "2021-06-22T14:21:19.508Z"
   },
   {
    "duration": 20,
    "start_time": "2021-06-22T14:21:19.525Z"
   },
   {
    "duration": 15,
    "start_time": "2021-06-22T14:21:19.583Z"
   },
   {
    "duration": 8,
    "start_time": "2021-06-22T14:21:19.602Z"
   },
   {
    "duration": 14,
    "start_time": "2021-06-22T14:21:19.613Z"
   },
   {
    "duration": 75,
    "start_time": "2021-06-22T14:21:19.629Z"
   },
   {
    "duration": 8,
    "start_time": "2021-06-22T14:21:19.785Z"
   },
   {
    "duration": 1240,
    "start_time": "2021-06-22T14:21:19.802Z"
   },
   {
    "duration": 9,
    "start_time": "2021-06-22T14:21:21.044Z"
   },
   {
    "duration": 28,
    "start_time": "2021-06-22T14:21:21.055Z"
   },
   {
    "duration": 42506,
    "start_time": "2021-06-22T14:21:21.086Z"
   },
   {
    "duration": 88,
    "start_time": "2021-06-22T14:22:03.596Z"
   },
   {
    "duration": 8381,
    "start_time": "2021-06-22T14:22:03.689Z"
   },
   {
    "duration": 7,
    "start_time": "2021-06-22T14:22:12.072Z"
   },
   {
    "duration": 106,
    "start_time": "2021-06-22T14:22:12.081Z"
   },
   {
    "duration": 13,
    "start_time": "2021-06-22T14:22:12.190Z"
   },
   {
    "duration": 507,
    "start_time": "2021-06-22T14:22:12.205Z"
   },
   {
    "duration": 171,
    "start_time": "2021-06-22T14:24:04.265Z"
   },
   {
    "duration": 1338,
    "start_time": "2021-06-22T14:39:31.223Z"
   },
   {
    "duration": 183,
    "start_time": "2021-06-22T14:39:32.564Z"
   },
   {
    "duration": 4,
    "start_time": "2021-06-22T14:39:32.749Z"
   },
   {
    "duration": 54,
    "start_time": "2021-06-22T14:39:32.755Z"
   },
   {
    "duration": 13,
    "start_time": "2021-06-22T14:39:32.811Z"
   },
   {
    "duration": 13,
    "start_time": "2021-06-22T14:39:32.827Z"
   },
   {
    "duration": 41,
    "start_time": "2021-06-22T14:39:32.842Z"
   },
   {
    "duration": 9,
    "start_time": "2021-06-22T14:39:32.887Z"
   },
   {
    "duration": 19,
    "start_time": "2021-06-22T14:39:32.899Z"
   },
   {
    "duration": 4,
    "start_time": "2021-06-22T14:39:32.920Z"
   },
   {
    "duration": 7,
    "start_time": "2021-06-22T14:39:32.926Z"
   },
   {
    "duration": 462,
    "start_time": "2021-06-22T14:39:32.983Z"
   },
   {
    "duration": 36,
    "start_time": "2021-06-22T14:39:33.447Z"
   },
   {
    "duration": 300,
    "start_time": "2021-06-22T14:39:33.486Z"
   },
   {
    "duration": 344,
    "start_time": "2021-06-22T14:39:33.789Z"
   },
   {
    "duration": 13,
    "start_time": "2021-06-22T14:39:34.136Z"
   },
   {
    "duration": 37,
    "start_time": "2021-06-22T14:39:34.152Z"
   },
   {
    "duration": 640,
    "start_time": "2021-06-22T14:39:34.192Z"
   },
   {
    "duration": 511,
    "start_time": "2021-06-22T14:39:34.835Z"
   },
   {
    "duration": 414,
    "start_time": "2021-06-22T14:39:35.349Z"
   },
   {
    "duration": 20,
    "start_time": "2021-06-22T14:39:35.765Z"
   },
   {
    "duration": 11,
    "start_time": "2021-06-22T14:39:35.788Z"
   },
   {
    "duration": 8,
    "start_time": "2021-06-22T14:39:35.804Z"
   },
   {
    "duration": 11,
    "start_time": "2021-06-22T14:39:35.815Z"
   },
   {
    "duration": 5,
    "start_time": "2021-06-22T14:39:35.829Z"
   },
   {
    "duration": 11,
    "start_time": "2021-06-22T14:39:35.884Z"
   },
   {
    "duration": 18,
    "start_time": "2021-06-22T14:39:35.898Z"
   },
   {
    "duration": 12,
    "start_time": "2021-06-22T14:39:35.918Z"
   },
   {
    "duration": 8,
    "start_time": "2021-06-22T14:39:35.932Z"
   },
   {
    "duration": 41,
    "start_time": "2021-06-22T14:39:35.942Z"
   },
   {
    "duration": 23,
    "start_time": "2021-06-22T14:39:35.986Z"
   },
   {
    "duration": 9,
    "start_time": "2021-06-22T14:39:36.085Z"
   },
   {
    "duration": 1137,
    "start_time": "2021-06-22T14:39:36.184Z"
   },
   {
    "duration": 6,
    "start_time": "2021-06-22T14:39:37.324Z"
   },
   {
    "duration": 13,
    "start_time": "2021-06-22T14:39:37.332Z"
   },
   {
    "duration": 26240,
    "start_time": "2021-06-22T14:39:37.347Z"
   },
   {
    "duration": 7,
    "start_time": "2021-06-22T14:40:03.589Z"
   },
   {
    "duration": 5385,
    "start_time": "2021-06-22T14:40:03.599Z"
   },
   {
    "duration": 6,
    "start_time": "2021-06-22T14:40:08.986Z"
   },
   {
    "duration": 30,
    "start_time": "2021-06-22T14:40:08.995Z"
   },
   {
    "duration": 59,
    "start_time": "2021-06-22T14:40:09.028Z"
   },
   {
    "duration": 447,
    "start_time": "2021-06-22T14:40:09.089Z"
   },
   {
    "duration": 338,
    "start_time": "2021-06-24T10:17:21.497Z"
   },
   {
    "duration": 1372,
    "start_time": "2021-06-24T10:18:08.774Z"
   },
   {
    "duration": 175,
    "start_time": "2021-06-24T10:18:10.148Z"
   },
   {
    "duration": 4,
    "start_time": "2021-06-24T10:18:10.325Z"
   },
   {
    "duration": 46,
    "start_time": "2021-06-24T10:18:11.166Z"
   }
  ],
  "kernelspec": {
   "display_name": "Python 3",
   "language": "python",
   "name": "python3"
  },
  "language_info": {
   "codemirror_mode": {
    "name": "ipython",
    "version": 3
   },
   "file_extension": ".py",
   "mimetype": "text/x-python",
   "name": "python",
   "nbconvert_exporter": "python",
   "pygments_lexer": "ipython3",
   "version": "3.7.6"
  },
  "toc": {
   "base_numbering": 1,
   "nav_menu": {},
   "number_sections": false,
   "sideBar": true,
   "skip_h1_title": false,
   "title_cell": "Содержание",
   "title_sidebar": "Contents",
   "toc_cell": false,
   "toc_position": {},
   "toc_section_display": true,
   "toc_window_display": false
  }
 },
 "nbformat": 4,
 "nbformat_minor": 2
}
