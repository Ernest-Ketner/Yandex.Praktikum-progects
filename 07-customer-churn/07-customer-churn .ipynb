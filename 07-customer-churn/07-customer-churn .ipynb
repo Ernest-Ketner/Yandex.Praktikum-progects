{
 "cells": [
  {
   "cell_type": "markdown",
   "metadata": {},
   "source": [
    "# Создание моделей оттока клиентов для компании \"Бета-Банк\"\n",
    "Из нашего банка каждый месяц понемногу стали уходить клиенты. Наши маркетологи посчитали: сохранять текущих клиентов дешевле, чем привлекать новых. Нам необходимо спрогнозировать, уйдёт клиент из банка в ближайшее время или нет. В нашем распоряжении  исторические данные о поведении клиентов и расторжении договоров с банком.\n",
    "\n",
    "Предоставленные нам данные представляют собой информацию о клиентах: сколько лет, где живут, кредитный рейтинг, активность и т.д.\n",
    "    \n",
    "На основе этих данных нужно построить модель с предельно большим значением F1-меры. Чтобы наша работа была принята, нужно довести метрику до 0.59. F1-меру проверим на тестовой выборке. Дополнительно будем измерять AUC-ROC, сравнивая её значение с F1-мерой.\n",
    "    \n",
    "    \n",
    "____\n",
    "\n",
    "\n",
    "\n",
    "В данном исследовании представлен процесс создания и проверки моделей машинного обучения в целях создания рекомендательной системы. Работа произведена в соответствии с инструкциями заказчика. Каждый значительный шаг сопровождается промежуточным, либо общим выводом.\n",
    "    \n",
    "____\n",
    "    \n",
    "    \n",
    "    \n",
    "Часть 1. Изучение общей информации о предоставленном датасете\n",
    "    \n",
    "1. Импорт необходимых библиотек для работы с данными, загрузка датасета\n",
    "2. Изучение данных, получение общей информации\n",
    "3. Вывод\n",
    "\n",
    "    \n",
    "Часть 2. Предобработка данных\n",
    "\n",
    "1. Удаление бесполезной информации\n",
    "2. Обработка пропусков\n",
    "3. Оценка мультиколлинеарности признаков\n",
    "4. Кодирование признаков\n",
    "5. Приведение названий столбцов к нижнему регистру\n",
    "6. Масштабирование признаков\n",
    "7. Вывод   \n",
    "    \n",
    "Часть 3. Создание моделей\n",
    "1. Создание линейной модели\n",
    "    1. Разделение датасета на выборки, исследование баланса классов\n",
    "    2. Применение логистической регрессии\n",
    "    3. Улучшение качества модели\n",
    "2. Создание модели случайного леса\n",
    "    1. Разделение датасета на выборки, исследование баланса классов\n",
    "    2. Применение модели случайного леса\n",
    "    3. Улучшение качества модели\n",
    "5. Вывод\n",
    "    \n",
    "Часть 4. Тестирование моделей\n",
    "    \n",
    "1. Проведение тестов\n",
    "2. Вывод\n",
    "    \n",
    "Часть 5. Общий вывод\n",
    "1. Общий вывод о проделанной работе"
   ]
  },
  {
   "cell_type": "markdown",
   "metadata": {},
   "source": [
    " ## Часть 1. Изучение общей информации о предоставленном датасете"
   ]
  },
  {
   "cell_type": "markdown",
   "metadata": {},
   "source": [
    "<a id='Импорт необходимых библиотек для работы с данными, загрузка датасета'>"
   ]
  },
  {
   "cell_type": "markdown",
   "metadata": {},
   "source": [
    "### <p style=\"text-align:center\"> Импорт необходимых библиотек для работы с данными, загрузка датасета</p>"
   ]
  },
  {
   "cell_type": "markdown",
   "metadata": {},
   "source": [
    "Загружаем необходимые библиотеки для работы с данными. Разбиваем их на три смысловых блока."
   ]
  },
  {
   "cell_type": "code",
   "execution_count": 1,
   "metadata": {},
   "outputs": [],
   "source": [
    "import pandas as pd\n",
    "import numpy as np\n",
    "import seaborn as sns\n",
    "import matplotlib.pyplot as plt\n",
    "import re\n",
    "import timeit\n",
    "from IPython.display import display\n",
    "pd.options.display.max_columns = None\n",
    "import warnings\n",
    "warnings.simplefilter('ignore')"
   ]
  },
  {
   "cell_type": "code",
   "execution_count": 2,
   "metadata": {},
   "outputs": [],
   "source": [
    "from sklearn.ensemble import RandomForestClassifier\n",
    "from sklearn.linear_model import LogisticRegression\n",
    "from sklearn.model_selection import GridSearchCV"
   ]
  },
  {
   "cell_type": "code",
   "execution_count": 3,
   "metadata": {},
   "outputs": [],
   "source": [
    "from sklearn.model_selection import train_test_split\n",
    "from sklearn.metrics import accuracy_score\n",
    "from sklearn.metrics import confusion_matrix\n",
    "from sklearn.metrics import recall_score\n",
    "from sklearn.metrics import precision_score\n",
    "from sklearn.metrics import f1_score\n",
    "from sklearn.metrics import roc_auc_score\n",
    "from sklearn.metrics import roc_curve\n",
    "from sklearn.preprocessing import OrdinalEncoder \n",
    "from sklearn.preprocessing import StandardScaler \n",
    "from sklearn.utils import shuffle"
   ]
  },
  {
   "cell_type": "markdown",
   "metadata": {},
   "source": [
    "Загружаем датасет, проверяем вывод."
   ]
  },
  {
   "cell_type": "code",
   "execution_count": 4,
   "metadata": {},
   "outputs": [],
   "source": [
    "raw_data = pd.read_csv('/datasets/Churn.csv')"
   ]
  },
  {
   "cell_type": "code",
   "execution_count": 5,
   "metadata": {
    "scrolled": true
   },
   "outputs": [
    {
     "data": {
      "text/html": [
       "<div>\n",
       "<style scoped>\n",
       "    .dataframe tbody tr th:only-of-type {\n",
       "        vertical-align: middle;\n",
       "    }\n",
       "\n",
       "    .dataframe tbody tr th {\n",
       "        vertical-align: top;\n",
       "    }\n",
       "\n",
       "    .dataframe thead th {\n",
       "        text-align: right;\n",
       "    }\n",
       "</style>\n",
       "<table border=\"1\" class=\"dataframe\">\n",
       "  <thead>\n",
       "    <tr style=\"text-align: right;\">\n",
       "      <th></th>\n",
       "      <th>RowNumber</th>\n",
       "      <th>CustomerId</th>\n",
       "      <th>Surname</th>\n",
       "      <th>CreditScore</th>\n",
       "      <th>Geography</th>\n",
       "      <th>Gender</th>\n",
       "      <th>Age</th>\n",
       "      <th>Tenure</th>\n",
       "      <th>Balance</th>\n",
       "      <th>NumOfProducts</th>\n",
       "      <th>HasCrCard</th>\n",
       "      <th>IsActiveMember</th>\n",
       "      <th>EstimatedSalary</th>\n",
       "      <th>Exited</th>\n",
       "    </tr>\n",
       "  </thead>\n",
       "  <tbody>\n",
       "    <tr>\n",
       "      <td>0</td>\n",
       "      <td>1</td>\n",
       "      <td>15634602</td>\n",
       "      <td>Hargrave</td>\n",
       "      <td>619</td>\n",
       "      <td>France</td>\n",
       "      <td>Female</td>\n",
       "      <td>42</td>\n",
       "      <td>2.0</td>\n",
       "      <td>0.00</td>\n",
       "      <td>1</td>\n",
       "      <td>1</td>\n",
       "      <td>1</td>\n",
       "      <td>101348.88</td>\n",
       "      <td>1</td>\n",
       "    </tr>\n",
       "    <tr>\n",
       "      <td>1</td>\n",
       "      <td>2</td>\n",
       "      <td>15647311</td>\n",
       "      <td>Hill</td>\n",
       "      <td>608</td>\n",
       "      <td>Spain</td>\n",
       "      <td>Female</td>\n",
       "      <td>41</td>\n",
       "      <td>1.0</td>\n",
       "      <td>83807.86</td>\n",
       "      <td>1</td>\n",
       "      <td>0</td>\n",
       "      <td>1</td>\n",
       "      <td>112542.58</td>\n",
       "      <td>0</td>\n",
       "    </tr>\n",
       "    <tr>\n",
       "      <td>2</td>\n",
       "      <td>3</td>\n",
       "      <td>15619304</td>\n",
       "      <td>Onio</td>\n",
       "      <td>502</td>\n",
       "      <td>France</td>\n",
       "      <td>Female</td>\n",
       "      <td>42</td>\n",
       "      <td>8.0</td>\n",
       "      <td>159660.80</td>\n",
       "      <td>3</td>\n",
       "      <td>1</td>\n",
       "      <td>0</td>\n",
       "      <td>113931.57</td>\n",
       "      <td>1</td>\n",
       "    </tr>\n",
       "    <tr>\n",
       "      <td>3</td>\n",
       "      <td>4</td>\n",
       "      <td>15701354</td>\n",
       "      <td>Boni</td>\n",
       "      <td>699</td>\n",
       "      <td>France</td>\n",
       "      <td>Female</td>\n",
       "      <td>39</td>\n",
       "      <td>1.0</td>\n",
       "      <td>0.00</td>\n",
       "      <td>2</td>\n",
       "      <td>0</td>\n",
       "      <td>0</td>\n",
       "      <td>93826.63</td>\n",
       "      <td>0</td>\n",
       "    </tr>\n",
       "    <tr>\n",
       "      <td>4</td>\n",
       "      <td>5</td>\n",
       "      <td>15737888</td>\n",
       "      <td>Mitchell</td>\n",
       "      <td>850</td>\n",
       "      <td>Spain</td>\n",
       "      <td>Female</td>\n",
       "      <td>43</td>\n",
       "      <td>2.0</td>\n",
       "      <td>125510.82</td>\n",
       "      <td>1</td>\n",
       "      <td>1</td>\n",
       "      <td>1</td>\n",
       "      <td>79084.10</td>\n",
       "      <td>0</td>\n",
       "    </tr>\n",
       "  </tbody>\n",
       "</table>\n",
       "</div>"
      ],
      "text/plain": [
       "   RowNumber  CustomerId   Surname  CreditScore Geography  Gender  Age  \\\n",
       "0          1    15634602  Hargrave          619    France  Female   42   \n",
       "1          2    15647311      Hill          608     Spain  Female   41   \n",
       "2          3    15619304      Onio          502    France  Female   42   \n",
       "3          4    15701354      Boni          699    France  Female   39   \n",
       "4          5    15737888  Mitchell          850     Spain  Female   43   \n",
       "\n",
       "   Tenure    Balance  NumOfProducts  HasCrCard  IsActiveMember  \\\n",
       "0     2.0       0.00              1          1               1   \n",
       "1     1.0   83807.86              1          0               1   \n",
       "2     8.0  159660.80              3          1               0   \n",
       "3     1.0       0.00              2          0               0   \n",
       "4     2.0  125510.82              1          1               1   \n",
       "\n",
       "   EstimatedSalary  Exited  \n",
       "0        101348.88       1  \n",
       "1        112542.58       0  \n",
       "2        113931.57       1  \n",
       "3         93826.63       0  \n",
       "4         79084.10       0  "
      ]
     },
     "execution_count": 5,
     "metadata": {},
     "output_type": "execute_result"
    }
   ],
   "source": [
    "raw_data.head()"
   ]
  },
  {
   "cell_type": "markdown",
   "metadata": {},
   "source": [
    "<a id='Изучение данных, получение общей информации'></a>"
   ]
  },
  {
   "cell_type": "markdown",
   "metadata": {},
   "source": [
    "### <p style=\"text-align:center\"> Изучение данных, получение общей информации</p>"
   ]
  },
  {
   "cell_type": "markdown",
   "metadata": {},
   "source": [
    "Ознакомимся с информацией, посмотрим соответствуют ли типы ячеек назначению. В качестве дополнительной проверки возьмем случайные 20 строк из нашего датасета, посмотрим на странные, выбивающиеся, отсутствующие значения."
   ]
  },
  {
   "cell_type": "code",
   "execution_count": 6,
   "metadata": {},
   "outputs": [
    {
     "data": {
      "text/html": [
       "<div>\n",
       "<style scoped>\n",
       "    .dataframe tbody tr th:only-of-type {\n",
       "        vertical-align: middle;\n",
       "    }\n",
       "\n",
       "    .dataframe tbody tr th {\n",
       "        vertical-align: top;\n",
       "    }\n",
       "\n",
       "    .dataframe thead th {\n",
       "        text-align: right;\n",
       "    }\n",
       "</style>\n",
       "<table border=\"1\" class=\"dataframe\">\n",
       "  <thead>\n",
       "    <tr style=\"text-align: right;\">\n",
       "      <th></th>\n",
       "      <th>RowNumber</th>\n",
       "      <th>CustomerId</th>\n",
       "      <th>Surname</th>\n",
       "      <th>CreditScore</th>\n",
       "      <th>Geography</th>\n",
       "      <th>Gender</th>\n",
       "      <th>Age</th>\n",
       "      <th>Tenure</th>\n",
       "      <th>Balance</th>\n",
       "      <th>NumOfProducts</th>\n",
       "      <th>HasCrCard</th>\n",
       "      <th>IsActiveMember</th>\n",
       "      <th>EstimatedSalary</th>\n",
       "      <th>Exited</th>\n",
       "    </tr>\n",
       "  </thead>\n",
       "  <tbody>\n",
       "    <tr>\n",
       "      <td>9953</td>\n",
       "      <td>9954</td>\n",
       "      <td>15655952</td>\n",
       "      <td>Burke</td>\n",
       "      <td>550</td>\n",
       "      <td>France</td>\n",
       "      <td>Male</td>\n",
       "      <td>47</td>\n",
       "      <td>2.0</td>\n",
       "      <td>0.00</td>\n",
       "      <td>2</td>\n",
       "      <td>1</td>\n",
       "      <td>1</td>\n",
       "      <td>97057.28</td>\n",
       "      <td>0</td>\n",
       "    </tr>\n",
       "    <tr>\n",
       "      <td>3850</td>\n",
       "      <td>3851</td>\n",
       "      <td>15775293</td>\n",
       "      <td>Stephenson</td>\n",
       "      <td>680</td>\n",
       "      <td>France</td>\n",
       "      <td>Male</td>\n",
       "      <td>34</td>\n",
       "      <td>3.0</td>\n",
       "      <td>143292.95</td>\n",
       "      <td>1</td>\n",
       "      <td>1</td>\n",
       "      <td>0</td>\n",
       "      <td>66526.01</td>\n",
       "      <td>0</td>\n",
       "    </tr>\n",
       "    <tr>\n",
       "      <td>4962</td>\n",
       "      <td>4963</td>\n",
       "      <td>15665088</td>\n",
       "      <td>Gordon</td>\n",
       "      <td>531</td>\n",
       "      <td>France</td>\n",
       "      <td>Female</td>\n",
       "      <td>42</td>\n",
       "      <td>2.0</td>\n",
       "      <td>0.00</td>\n",
       "      <td>2</td>\n",
       "      <td>0</td>\n",
       "      <td>1</td>\n",
       "      <td>90537.47</td>\n",
       "      <td>0</td>\n",
       "    </tr>\n",
       "    <tr>\n",
       "      <td>3886</td>\n",
       "      <td>3887</td>\n",
       "      <td>15720941</td>\n",
       "      <td>Tien</td>\n",
       "      <td>710</td>\n",
       "      <td>Germany</td>\n",
       "      <td>Male</td>\n",
       "      <td>34</td>\n",
       "      <td>8.0</td>\n",
       "      <td>147833.30</td>\n",
       "      <td>2</td>\n",
       "      <td>0</td>\n",
       "      <td>1</td>\n",
       "      <td>1561.58</td>\n",
       "      <td>0</td>\n",
       "    </tr>\n",
       "    <tr>\n",
       "      <td>5437</td>\n",
       "      <td>5438</td>\n",
       "      <td>15733476</td>\n",
       "      <td>Gonzalez</td>\n",
       "      <td>543</td>\n",
       "      <td>Germany</td>\n",
       "      <td>Male</td>\n",
       "      <td>30</td>\n",
       "      <td>6.0</td>\n",
       "      <td>73481.05</td>\n",
       "      <td>1</td>\n",
       "      <td>1</td>\n",
       "      <td>1</td>\n",
       "      <td>176692.65</td>\n",
       "      <td>0</td>\n",
       "    </tr>\n",
       "    <tr>\n",
       "      <td>8517</td>\n",
       "      <td>8518</td>\n",
       "      <td>15671800</td>\n",
       "      <td>Robinson</td>\n",
       "      <td>688</td>\n",
       "      <td>France</td>\n",
       "      <td>Male</td>\n",
       "      <td>20</td>\n",
       "      <td>8.0</td>\n",
       "      <td>137624.40</td>\n",
       "      <td>2</td>\n",
       "      <td>1</td>\n",
       "      <td>1</td>\n",
       "      <td>197582.79</td>\n",
       "      <td>0</td>\n",
       "    </tr>\n",
       "    <tr>\n",
       "      <td>2041</td>\n",
       "      <td>2042</td>\n",
       "      <td>15709846</td>\n",
       "      <td>Yeh</td>\n",
       "      <td>840</td>\n",
       "      <td>France</td>\n",
       "      <td>Female</td>\n",
       "      <td>39</td>\n",
       "      <td>1.0</td>\n",
       "      <td>94968.97</td>\n",
       "      <td>1</td>\n",
       "      <td>1</td>\n",
       "      <td>0</td>\n",
       "      <td>84487.62</td>\n",
       "      <td>0</td>\n",
       "    </tr>\n",
       "    <tr>\n",
       "      <td>1989</td>\n",
       "      <td>1990</td>\n",
       "      <td>15622454</td>\n",
       "      <td>Zaitsev</td>\n",
       "      <td>695</td>\n",
       "      <td>Spain</td>\n",
       "      <td>Male</td>\n",
       "      <td>28</td>\n",
       "      <td>0.0</td>\n",
       "      <td>96020.86</td>\n",
       "      <td>1</td>\n",
       "      <td>1</td>\n",
       "      <td>1</td>\n",
       "      <td>57992.49</td>\n",
       "      <td>0</td>\n",
       "    </tr>\n",
       "    <tr>\n",
       "      <td>1933</td>\n",
       "      <td>1934</td>\n",
       "      <td>15815560</td>\n",
       "      <td>Bogle</td>\n",
       "      <td>666</td>\n",
       "      <td>Germany</td>\n",
       "      <td>Male</td>\n",
       "      <td>74</td>\n",
       "      <td>7.0</td>\n",
       "      <td>105102.50</td>\n",
       "      <td>1</td>\n",
       "      <td>1</td>\n",
       "      <td>1</td>\n",
       "      <td>46172.47</td>\n",
       "      <td>0</td>\n",
       "    </tr>\n",
       "    <tr>\n",
       "      <td>9984</td>\n",
       "      <td>9985</td>\n",
       "      <td>15696175</td>\n",
       "      <td>Echezonachukwu</td>\n",
       "      <td>602</td>\n",
       "      <td>Germany</td>\n",
       "      <td>Male</td>\n",
       "      <td>35</td>\n",
       "      <td>7.0</td>\n",
       "      <td>90602.42</td>\n",
       "      <td>2</td>\n",
       "      <td>1</td>\n",
       "      <td>1</td>\n",
       "      <td>51695.41</td>\n",
       "      <td>0</td>\n",
       "    </tr>\n",
       "    <tr>\n",
       "      <td>8418</td>\n",
       "      <td>8419</td>\n",
       "      <td>15731026</td>\n",
       "      <td>Han</td>\n",
       "      <td>683</td>\n",
       "      <td>Germany</td>\n",
       "      <td>Female</td>\n",
       "      <td>39</td>\n",
       "      <td>2.0</td>\n",
       "      <td>100062.16</td>\n",
       "      <td>2</td>\n",
       "      <td>1</td>\n",
       "      <td>0</td>\n",
       "      <td>109201.43</td>\n",
       "      <td>0</td>\n",
       "    </tr>\n",
       "    <tr>\n",
       "      <td>2418</td>\n",
       "      <td>2419</td>\n",
       "      <td>15603914</td>\n",
       "      <td>Arcuri</td>\n",
       "      <td>614</td>\n",
       "      <td>France</td>\n",
       "      <td>Male</td>\n",
       "      <td>40</td>\n",
       "      <td>6.0</td>\n",
       "      <td>0.00</td>\n",
       "      <td>1</td>\n",
       "      <td>1</td>\n",
       "      <td>1</td>\n",
       "      <td>20339.79</td>\n",
       "      <td>1</td>\n",
       "    </tr>\n",
       "    <tr>\n",
       "      <td>6811</td>\n",
       "      <td>6812</td>\n",
       "      <td>15771222</td>\n",
       "      <td>Oguejiofor</td>\n",
       "      <td>779</td>\n",
       "      <td>France</td>\n",
       "      <td>Female</td>\n",
       "      <td>42</td>\n",
       "      <td>5.0</td>\n",
       "      <td>0.00</td>\n",
       "      <td>2</td>\n",
       "      <td>0</td>\n",
       "      <td>0</td>\n",
       "      <td>25951.91</td>\n",
       "      <td>0</td>\n",
       "    </tr>\n",
       "    <tr>\n",
       "      <td>1217</td>\n",
       "      <td>1218</td>\n",
       "      <td>15696900</td>\n",
       "      <td>Burns</td>\n",
       "      <td>505</td>\n",
       "      <td>Germany</td>\n",
       "      <td>Male</td>\n",
       "      <td>29</td>\n",
       "      <td>3.0</td>\n",
       "      <td>145541.56</td>\n",
       "      <td>2</td>\n",
       "      <td>1</td>\n",
       "      <td>1</td>\n",
       "      <td>58019.95</td>\n",
       "      <td>0</td>\n",
       "    </tr>\n",
       "    <tr>\n",
       "      <td>6978</td>\n",
       "      <td>6979</td>\n",
       "      <td>15778604</td>\n",
       "      <td>Nicholson</td>\n",
       "      <td>571</td>\n",
       "      <td>France</td>\n",
       "      <td>Female</td>\n",
       "      <td>47</td>\n",
       "      <td>7.0</td>\n",
       "      <td>0.00</td>\n",
       "      <td>2</td>\n",
       "      <td>0</td>\n",
       "      <td>0</td>\n",
       "      <td>112366.98</td>\n",
       "      <td>0</td>\n",
       "    </tr>\n",
       "    <tr>\n",
       "      <td>6111</td>\n",
       "      <td>6112</td>\n",
       "      <td>15803337</td>\n",
       "      <td>Baresi</td>\n",
       "      <td>648</td>\n",
       "      <td>France</td>\n",
       "      <td>Male</td>\n",
       "      <td>23</td>\n",
       "      <td>9.0</td>\n",
       "      <td>168372.52</td>\n",
       "      <td>1</td>\n",
       "      <td>1</td>\n",
       "      <td>0</td>\n",
       "      <td>134676.72</td>\n",
       "      <td>0</td>\n",
       "    </tr>\n",
       "    <tr>\n",
       "      <td>7865</td>\n",
       "      <td>7866</td>\n",
       "      <td>15748995</td>\n",
       "      <td>Ifeajuna</td>\n",
       "      <td>691</td>\n",
       "      <td>Spain</td>\n",
       "      <td>Male</td>\n",
       "      <td>30</td>\n",
       "      <td>9.0</td>\n",
       "      <td>0.00</td>\n",
       "      <td>2</td>\n",
       "      <td>0</td>\n",
       "      <td>1</td>\n",
       "      <td>10963.04</td>\n",
       "      <td>0</td>\n",
       "    </tr>\n",
       "    <tr>\n",
       "      <td>7781</td>\n",
       "      <td>7782</td>\n",
       "      <td>15759184</td>\n",
       "      <td>Russell</td>\n",
       "      <td>705</td>\n",
       "      <td>France</td>\n",
       "      <td>Male</td>\n",
       "      <td>34</td>\n",
       "      <td>7.0</td>\n",
       "      <td>117715.84</td>\n",
       "      <td>1</td>\n",
       "      <td>1</td>\n",
       "      <td>0</td>\n",
       "      <td>2498.67</td>\n",
       "      <td>0</td>\n",
       "    </tr>\n",
       "    <tr>\n",
       "      <td>7775</td>\n",
       "      <td>7776</td>\n",
       "      <td>15731246</td>\n",
       "      <td>Hobler</td>\n",
       "      <td>628</td>\n",
       "      <td>Spain</td>\n",
       "      <td>Male</td>\n",
       "      <td>40</td>\n",
       "      <td>10.0</td>\n",
       "      <td>0.00</td>\n",
       "      <td>2</td>\n",
       "      <td>1</td>\n",
       "      <td>0</td>\n",
       "      <td>103832.58</td>\n",
       "      <td>0</td>\n",
       "    </tr>\n",
       "    <tr>\n",
       "      <td>7039</td>\n",
       "      <td>7040</td>\n",
       "      <td>15631685</td>\n",
       "      <td>Lambert</td>\n",
       "      <td>523</td>\n",
       "      <td>Germany</td>\n",
       "      <td>Male</td>\n",
       "      <td>60</td>\n",
       "      <td>1.0</td>\n",
       "      <td>163894.35</td>\n",
       "      <td>1</td>\n",
       "      <td>0</td>\n",
       "      <td>1</td>\n",
       "      <td>57061.71</td>\n",
       "      <td>0</td>\n",
       "    </tr>\n",
       "  </tbody>\n",
       "</table>\n",
       "</div>"
      ],
      "text/plain": [
       "      RowNumber  CustomerId         Surname  CreditScore Geography  Gender  \\\n",
       "9953       9954    15655952           Burke          550    France    Male   \n",
       "3850       3851    15775293      Stephenson          680    France    Male   \n",
       "4962       4963    15665088          Gordon          531    France  Female   \n",
       "3886       3887    15720941            Tien          710   Germany    Male   \n",
       "5437       5438    15733476        Gonzalez          543   Germany    Male   \n",
       "8517       8518    15671800        Robinson          688    France    Male   \n",
       "2041       2042    15709846             Yeh          840    France  Female   \n",
       "1989       1990    15622454         Zaitsev          695     Spain    Male   \n",
       "1933       1934    15815560           Bogle          666   Germany    Male   \n",
       "9984       9985    15696175  Echezonachukwu          602   Germany    Male   \n",
       "8418       8419    15731026             Han          683   Germany  Female   \n",
       "2418       2419    15603914          Arcuri          614    France    Male   \n",
       "6811       6812    15771222      Oguejiofor          779    France  Female   \n",
       "1217       1218    15696900           Burns          505   Germany    Male   \n",
       "6978       6979    15778604       Nicholson          571    France  Female   \n",
       "6111       6112    15803337          Baresi          648    France    Male   \n",
       "7865       7866    15748995        Ifeajuna          691     Spain    Male   \n",
       "7781       7782    15759184         Russell          705    France    Male   \n",
       "7775       7776    15731246          Hobler          628     Spain    Male   \n",
       "7039       7040    15631685         Lambert          523   Germany    Male   \n",
       "\n",
       "      Age  Tenure    Balance  NumOfProducts  HasCrCard  IsActiveMember  \\\n",
       "9953   47     2.0       0.00              2          1               1   \n",
       "3850   34     3.0  143292.95              1          1               0   \n",
       "4962   42     2.0       0.00              2          0               1   \n",
       "3886   34     8.0  147833.30              2          0               1   \n",
       "5437   30     6.0   73481.05              1          1               1   \n",
       "8517   20     8.0  137624.40              2          1               1   \n",
       "2041   39     1.0   94968.97              1          1               0   \n",
       "1989   28     0.0   96020.86              1          1               1   \n",
       "1933   74     7.0  105102.50              1          1               1   \n",
       "9984   35     7.0   90602.42              2          1               1   \n",
       "8418   39     2.0  100062.16              2          1               0   \n",
       "2418   40     6.0       0.00              1          1               1   \n",
       "6811   42     5.0       0.00              2          0               0   \n",
       "1217   29     3.0  145541.56              2          1               1   \n",
       "6978   47     7.0       0.00              2          0               0   \n",
       "6111   23     9.0  168372.52              1          1               0   \n",
       "7865   30     9.0       0.00              2          0               1   \n",
       "7781   34     7.0  117715.84              1          1               0   \n",
       "7775   40    10.0       0.00              2          1               0   \n",
       "7039   60     1.0  163894.35              1          0               1   \n",
       "\n",
       "      EstimatedSalary  Exited  \n",
       "9953         97057.28       0  \n",
       "3850         66526.01       0  \n",
       "4962         90537.47       0  \n",
       "3886          1561.58       0  \n",
       "5437        176692.65       0  \n",
       "8517        197582.79       0  \n",
       "2041         84487.62       0  \n",
       "1989         57992.49       0  \n",
       "1933         46172.47       0  \n",
       "9984         51695.41       0  \n",
       "8418        109201.43       0  \n",
       "2418         20339.79       1  \n",
       "6811         25951.91       0  \n",
       "1217         58019.95       0  \n",
       "6978        112366.98       0  \n",
       "6111        134676.72       0  \n",
       "7865         10963.04       0  \n",
       "7781          2498.67       0  \n",
       "7775        103832.58       0  \n",
       "7039         57061.71       0  "
      ]
     },
     "execution_count": 6,
     "metadata": {},
     "output_type": "execute_result"
    }
   ],
   "source": [
    "raw_data.sample(n=20, random_state=1)"
   ]
  },
  {
   "cell_type": "markdown",
   "metadata": {},
   "source": [
    "Иногда в таблицах в конце есть строка \"Итого\"(или т.п.), нам она не нужна, убедимся в ее отсутствии."
   ]
  },
  {
   "cell_type": "code",
   "execution_count": 7,
   "metadata": {},
   "outputs": [
    {
     "data": {
      "text/html": [
       "<div>\n",
       "<style scoped>\n",
       "    .dataframe tbody tr th:only-of-type {\n",
       "        vertical-align: middle;\n",
       "    }\n",
       "\n",
       "    .dataframe tbody tr th {\n",
       "        vertical-align: top;\n",
       "    }\n",
       "\n",
       "    .dataframe thead th {\n",
       "        text-align: right;\n",
       "    }\n",
       "</style>\n",
       "<table border=\"1\" class=\"dataframe\">\n",
       "  <thead>\n",
       "    <tr style=\"text-align: right;\">\n",
       "      <th></th>\n",
       "      <th>RowNumber</th>\n",
       "      <th>CustomerId</th>\n",
       "      <th>Surname</th>\n",
       "      <th>CreditScore</th>\n",
       "      <th>Geography</th>\n",
       "      <th>Gender</th>\n",
       "      <th>Age</th>\n",
       "      <th>Tenure</th>\n",
       "      <th>Balance</th>\n",
       "      <th>NumOfProducts</th>\n",
       "      <th>HasCrCard</th>\n",
       "      <th>IsActiveMember</th>\n",
       "      <th>EstimatedSalary</th>\n",
       "      <th>Exited</th>\n",
       "    </tr>\n",
       "  </thead>\n",
       "  <tbody>\n",
       "    <tr>\n",
       "      <td>9995</td>\n",
       "      <td>9996</td>\n",
       "      <td>15606229</td>\n",
       "      <td>Obijiaku</td>\n",
       "      <td>771</td>\n",
       "      <td>France</td>\n",
       "      <td>Male</td>\n",
       "      <td>39</td>\n",
       "      <td>5.0</td>\n",
       "      <td>0.00</td>\n",
       "      <td>2</td>\n",
       "      <td>1</td>\n",
       "      <td>0</td>\n",
       "      <td>96270.64</td>\n",
       "      <td>0</td>\n",
       "    </tr>\n",
       "    <tr>\n",
       "      <td>9996</td>\n",
       "      <td>9997</td>\n",
       "      <td>15569892</td>\n",
       "      <td>Johnstone</td>\n",
       "      <td>516</td>\n",
       "      <td>France</td>\n",
       "      <td>Male</td>\n",
       "      <td>35</td>\n",
       "      <td>10.0</td>\n",
       "      <td>57369.61</td>\n",
       "      <td>1</td>\n",
       "      <td>1</td>\n",
       "      <td>1</td>\n",
       "      <td>101699.77</td>\n",
       "      <td>0</td>\n",
       "    </tr>\n",
       "    <tr>\n",
       "      <td>9997</td>\n",
       "      <td>9998</td>\n",
       "      <td>15584532</td>\n",
       "      <td>Liu</td>\n",
       "      <td>709</td>\n",
       "      <td>France</td>\n",
       "      <td>Female</td>\n",
       "      <td>36</td>\n",
       "      <td>7.0</td>\n",
       "      <td>0.00</td>\n",
       "      <td>1</td>\n",
       "      <td>0</td>\n",
       "      <td>1</td>\n",
       "      <td>42085.58</td>\n",
       "      <td>1</td>\n",
       "    </tr>\n",
       "    <tr>\n",
       "      <td>9998</td>\n",
       "      <td>9999</td>\n",
       "      <td>15682355</td>\n",
       "      <td>Sabbatini</td>\n",
       "      <td>772</td>\n",
       "      <td>Germany</td>\n",
       "      <td>Male</td>\n",
       "      <td>42</td>\n",
       "      <td>3.0</td>\n",
       "      <td>75075.31</td>\n",
       "      <td>2</td>\n",
       "      <td>1</td>\n",
       "      <td>0</td>\n",
       "      <td>92888.52</td>\n",
       "      <td>1</td>\n",
       "    </tr>\n",
       "    <tr>\n",
       "      <td>9999</td>\n",
       "      <td>10000</td>\n",
       "      <td>15628319</td>\n",
       "      <td>Walker</td>\n",
       "      <td>792</td>\n",
       "      <td>France</td>\n",
       "      <td>Female</td>\n",
       "      <td>28</td>\n",
       "      <td>NaN</td>\n",
       "      <td>130142.79</td>\n",
       "      <td>1</td>\n",
       "      <td>1</td>\n",
       "      <td>0</td>\n",
       "      <td>38190.78</td>\n",
       "      <td>0</td>\n",
       "    </tr>\n",
       "  </tbody>\n",
       "</table>\n",
       "</div>"
      ],
      "text/plain": [
       "      RowNumber  CustomerId    Surname  CreditScore Geography  Gender  Age  \\\n",
       "9995       9996    15606229   Obijiaku          771    France    Male   39   \n",
       "9996       9997    15569892  Johnstone          516    France    Male   35   \n",
       "9997       9998    15584532        Liu          709    France  Female   36   \n",
       "9998       9999    15682355  Sabbatini          772   Germany    Male   42   \n",
       "9999      10000    15628319     Walker          792    France  Female   28   \n",
       "\n",
       "      Tenure    Balance  NumOfProducts  HasCrCard  IsActiveMember  \\\n",
       "9995     5.0       0.00              2          1               0   \n",
       "9996    10.0   57369.61              1          1               1   \n",
       "9997     7.0       0.00              1          0               1   \n",
       "9998     3.0   75075.31              2          1               0   \n",
       "9999     NaN  130142.79              1          1               0   \n",
       "\n",
       "      EstimatedSalary  Exited  \n",
       "9995         96270.64       0  \n",
       "9996        101699.77       0  \n",
       "9997         42085.58       1  \n",
       "9998         92888.52       1  \n",
       "9999         38190.78       0  "
      ]
     },
     "execution_count": 7,
     "metadata": {},
     "output_type": "execute_result"
    }
   ],
   "source": [
    "raw_data.tail()"
   ]
  },
  {
   "cell_type": "code",
   "execution_count": 8,
   "metadata": {},
   "outputs": [
    {
     "name": "stdout",
     "output_type": "stream",
     "text": [
      "<class 'pandas.core.frame.DataFrame'>\n",
      "RangeIndex: 10000 entries, 0 to 9999\n",
      "Data columns (total 14 columns):\n",
      "RowNumber          10000 non-null int64\n",
      "CustomerId         10000 non-null int64\n",
      "Surname            10000 non-null object\n",
      "CreditScore        10000 non-null int64\n",
      "Geography          10000 non-null object\n",
      "Gender             10000 non-null object\n",
      "Age                10000 non-null int64\n",
      "Tenure             9091 non-null float64\n",
      "Balance            10000 non-null float64\n",
      "NumOfProducts      10000 non-null int64\n",
      "HasCrCard          10000 non-null int64\n",
      "IsActiveMember     10000 non-null int64\n",
      "EstimatedSalary    10000 non-null float64\n",
      "Exited             10000 non-null int64\n",
      "dtypes: float64(3), int64(8), object(3)\n",
      "memory usage: 1.1+ MB\n"
     ]
    }
   ],
   "source": [
    "raw_data.info()"
   ]
  },
  {
   "cell_type": "code",
   "execution_count": 9,
   "metadata": {},
   "outputs": [
    {
     "data": {
      "text/html": [
       "<div>\n",
       "<style scoped>\n",
       "    .dataframe tbody tr th:only-of-type {\n",
       "        vertical-align: middle;\n",
       "    }\n",
       "\n",
       "    .dataframe tbody tr th {\n",
       "        vertical-align: top;\n",
       "    }\n",
       "\n",
       "    .dataframe thead th {\n",
       "        text-align: right;\n",
       "    }\n",
       "</style>\n",
       "<table border=\"1\" class=\"dataframe\">\n",
       "  <thead>\n",
       "    <tr style=\"text-align: right;\">\n",
       "      <th></th>\n",
       "      <th>count</th>\n",
       "      <th>mean</th>\n",
       "      <th>std</th>\n",
       "      <th>min</th>\n",
       "      <th>25%</th>\n",
       "      <th>50%</th>\n",
       "      <th>75%</th>\n",
       "      <th>max</th>\n",
       "    </tr>\n",
       "  </thead>\n",
       "  <tbody>\n",
       "    <tr>\n",
       "      <td>RowNumber</td>\n",
       "      <td>10000.0</td>\n",
       "      <td>5.000500e+03</td>\n",
       "      <td>2886.895680</td>\n",
       "      <td>1.00</td>\n",
       "      <td>2500.75</td>\n",
       "      <td>5.000500e+03</td>\n",
       "      <td>7.500250e+03</td>\n",
       "      <td>10000.00</td>\n",
       "    </tr>\n",
       "    <tr>\n",
       "      <td>CustomerId</td>\n",
       "      <td>10000.0</td>\n",
       "      <td>1.569094e+07</td>\n",
       "      <td>71936.186123</td>\n",
       "      <td>15565701.00</td>\n",
       "      <td>15628528.25</td>\n",
       "      <td>1.569074e+07</td>\n",
       "      <td>1.575323e+07</td>\n",
       "      <td>15815690.00</td>\n",
       "    </tr>\n",
       "    <tr>\n",
       "      <td>CreditScore</td>\n",
       "      <td>10000.0</td>\n",
       "      <td>6.505288e+02</td>\n",
       "      <td>96.653299</td>\n",
       "      <td>350.00</td>\n",
       "      <td>584.00</td>\n",
       "      <td>6.520000e+02</td>\n",
       "      <td>7.180000e+02</td>\n",
       "      <td>850.00</td>\n",
       "    </tr>\n",
       "    <tr>\n",
       "      <td>Age</td>\n",
       "      <td>10000.0</td>\n",
       "      <td>3.892180e+01</td>\n",
       "      <td>10.487806</td>\n",
       "      <td>18.00</td>\n",
       "      <td>32.00</td>\n",
       "      <td>3.700000e+01</td>\n",
       "      <td>4.400000e+01</td>\n",
       "      <td>92.00</td>\n",
       "    </tr>\n",
       "    <tr>\n",
       "      <td>Tenure</td>\n",
       "      <td>9091.0</td>\n",
       "      <td>4.997690e+00</td>\n",
       "      <td>2.894723</td>\n",
       "      <td>0.00</td>\n",
       "      <td>2.00</td>\n",
       "      <td>5.000000e+00</td>\n",
       "      <td>7.000000e+00</td>\n",
       "      <td>10.00</td>\n",
       "    </tr>\n",
       "    <tr>\n",
       "      <td>Balance</td>\n",
       "      <td>10000.0</td>\n",
       "      <td>7.648589e+04</td>\n",
       "      <td>62397.405202</td>\n",
       "      <td>0.00</td>\n",
       "      <td>0.00</td>\n",
       "      <td>9.719854e+04</td>\n",
       "      <td>1.276442e+05</td>\n",
       "      <td>250898.09</td>\n",
       "    </tr>\n",
       "    <tr>\n",
       "      <td>NumOfProducts</td>\n",
       "      <td>10000.0</td>\n",
       "      <td>1.530200e+00</td>\n",
       "      <td>0.581654</td>\n",
       "      <td>1.00</td>\n",
       "      <td>1.00</td>\n",
       "      <td>1.000000e+00</td>\n",
       "      <td>2.000000e+00</td>\n",
       "      <td>4.00</td>\n",
       "    </tr>\n",
       "    <tr>\n",
       "      <td>HasCrCard</td>\n",
       "      <td>10000.0</td>\n",
       "      <td>7.055000e-01</td>\n",
       "      <td>0.455840</td>\n",
       "      <td>0.00</td>\n",
       "      <td>0.00</td>\n",
       "      <td>1.000000e+00</td>\n",
       "      <td>1.000000e+00</td>\n",
       "      <td>1.00</td>\n",
       "    </tr>\n",
       "    <tr>\n",
       "      <td>IsActiveMember</td>\n",
       "      <td>10000.0</td>\n",
       "      <td>5.151000e-01</td>\n",
       "      <td>0.499797</td>\n",
       "      <td>0.00</td>\n",
       "      <td>0.00</td>\n",
       "      <td>1.000000e+00</td>\n",
       "      <td>1.000000e+00</td>\n",
       "      <td>1.00</td>\n",
       "    </tr>\n",
       "    <tr>\n",
       "      <td>EstimatedSalary</td>\n",
       "      <td>10000.0</td>\n",
       "      <td>1.000902e+05</td>\n",
       "      <td>57510.492818</td>\n",
       "      <td>11.58</td>\n",
       "      <td>51002.11</td>\n",
       "      <td>1.001939e+05</td>\n",
       "      <td>1.493882e+05</td>\n",
       "      <td>199992.48</td>\n",
       "    </tr>\n",
       "    <tr>\n",
       "      <td>Exited</td>\n",
       "      <td>10000.0</td>\n",
       "      <td>2.037000e-01</td>\n",
       "      <td>0.402769</td>\n",
       "      <td>0.00</td>\n",
       "      <td>0.00</td>\n",
       "      <td>0.000000e+00</td>\n",
       "      <td>0.000000e+00</td>\n",
       "      <td>1.00</td>\n",
       "    </tr>\n",
       "  </tbody>\n",
       "</table>\n",
       "</div>"
      ],
      "text/plain": [
       "                   count          mean           std          min  \\\n",
       "RowNumber        10000.0  5.000500e+03   2886.895680         1.00   \n",
       "CustomerId       10000.0  1.569094e+07  71936.186123  15565701.00   \n",
       "CreditScore      10000.0  6.505288e+02     96.653299       350.00   \n",
       "Age              10000.0  3.892180e+01     10.487806        18.00   \n",
       "Tenure            9091.0  4.997690e+00      2.894723         0.00   \n",
       "Balance          10000.0  7.648589e+04  62397.405202         0.00   \n",
       "NumOfProducts    10000.0  1.530200e+00      0.581654         1.00   \n",
       "HasCrCard        10000.0  7.055000e-01      0.455840         0.00   \n",
       "IsActiveMember   10000.0  5.151000e-01      0.499797         0.00   \n",
       "EstimatedSalary  10000.0  1.000902e+05  57510.492818        11.58   \n",
       "Exited           10000.0  2.037000e-01      0.402769         0.00   \n",
       "\n",
       "                         25%           50%           75%          max  \n",
       "RowNumber            2500.75  5.000500e+03  7.500250e+03     10000.00  \n",
       "CustomerId       15628528.25  1.569074e+07  1.575323e+07  15815690.00  \n",
       "CreditScore           584.00  6.520000e+02  7.180000e+02       850.00  \n",
       "Age                    32.00  3.700000e+01  4.400000e+01        92.00  \n",
       "Tenure                  2.00  5.000000e+00  7.000000e+00        10.00  \n",
       "Balance                 0.00  9.719854e+04  1.276442e+05    250898.09  \n",
       "NumOfProducts           1.00  1.000000e+00  2.000000e+00         4.00  \n",
       "HasCrCard               0.00  1.000000e+00  1.000000e+00         1.00  \n",
       "IsActiveMember          0.00  1.000000e+00  1.000000e+00         1.00  \n",
       "EstimatedSalary     51002.11  1.001939e+05  1.493882e+05    199992.48  \n",
       "Exited                  0.00  0.000000e+00  0.000000e+00         1.00  "
      ]
     },
     "execution_count": 9,
     "metadata": {},
     "output_type": "execute_result"
    }
   ],
   "source": [
    "raw_data.describe().T"
   ]
  },
  {
   "cell_type": "markdown",
   "metadata": {},
   "source": [
    "Воспользуемся удобной для первичного анализа библиотекой и создадим отчет автоматически."
   ]
  },
  {
   "cell_type": "code",
   "execution_count": 10,
   "metadata": {},
   "outputs": [],
   "source": [
    "# !pip install pandas-profiling"
   ]
  },
  {
   "cell_type": "code",
   "execution_count": 11,
   "metadata": {},
   "outputs": [],
   "source": [
    "# import pandas_profiling"
   ]
  },
  {
   "cell_type": "code",
   "execution_count": 12,
   "metadata": {},
   "outputs": [],
   "source": [
    "# profile = pandas_profiling.ProfileReport(raw_data, title = 'Explorative raw_data report', explorative = True)\n",
    "# profile"
   ]
  },
  {
   "cell_type": "markdown",
   "metadata": {},
   "source": [
    "<a id='Вывод_1'></a>"
   ]
  },
  {
   "cell_type": "markdown",
   "metadata": {},
   "source": [
    "### <p style=\"text-align:center\"> Вывод</p>"
   ]
  },
  {
   "cell_type": "markdown",
   "metadata": {},
   "source": [
    "##### В ходе первичного анализа данных были  сделаны следующие выводы:\n",
    "\n",
    "___\n",
    "\n",
    "\n",
    "1. Типы в общем случае соответствуют назначению, но обладают повышенной емкостью (например, имеют тип данных int64 там, где достаточно int16). Делать мы с этим конечно же ничего не будем т.к. нас еще ожидает feature scaling.\n",
    "\n",
    "\n",
    "2. Имеются пропущенные значения в столбце Tenure. Разберемся с этим в следующей части работы.\n",
    "\n",
    "\n",
    "3. Столбец RowNumber просто копирует индексы, избавимся от него.\n",
    "\n",
    "\n",
    "4. Такие столбцы как CustomerId и Surname возможно полезны для анализа данных, однако в них нет необходимости при обучении моделей. \n",
    "\n",
    "\n",
    "5. Также приведем названия столбцов к snake case.\n",
    "\n",
    "\n",
    "___\n",
    "\n",
    "Таким образом было выполнено первичное ознакомление с предоставленной информацией, выявлены некоторые дефекты датасета. Данные нуждаются в предобработке. Разберемся с этим в следующей части."
   ]
  },
  {
   "cell_type": "markdown",
   "metadata": {},
   "source": [
    " ## Часть 2. Предобработка данных"
   ]
  },
  {
   "cell_type": "markdown",
   "metadata": {},
   "source": [
    "<a id='Удаление бесполезной информации'></a>"
   ]
  },
  {
   "cell_type": "markdown",
   "metadata": {},
   "source": [
    "### <p style=\"text-align:center\">Удаление бесполезной информации</p>"
   ]
  },
  {
   "cell_type": "markdown",
   "metadata": {},
   "source": [
    "Удалим столбцы RowNumber, CustomerId и Surname, как столбцы с ненужной для обучения моделей информацией. Перед этим проверим наличие дубликатов, чтобы не удалить чего лишнего."
   ]
  },
  {
   "cell_type": "code",
   "execution_count": 13,
   "metadata": {},
   "outputs": [
    {
     "data": {
      "text/plain": [
       "0"
      ]
     },
     "execution_count": 13,
     "metadata": {},
     "output_type": "execute_result"
    }
   ],
   "source": [
    "raw_data.duplicated().sum()"
   ]
  },
  {
   "cell_type": "code",
   "execution_count": 14,
   "metadata": {},
   "outputs": [
    {
     "data": {
      "text/plain": [
       "10000"
      ]
     },
     "execution_count": 14,
     "metadata": {},
     "output_type": "execute_result"
    }
   ],
   "source": [
    "raw_data['CustomerId'].value_counts().sum()"
   ]
  },
  {
   "cell_type": "markdown",
   "metadata": {},
   "source": [
    "Смело дропаем ненужные столбцы."
   ]
  },
  {
   "cell_type": "code",
   "execution_count": 15,
   "metadata": {},
   "outputs": [],
   "source": [
    "raw_data = raw_data.drop(['RowNumber', 'CustomerId', 'Surname'], axis=1)"
   ]
  },
  {
   "cell_type": "markdown",
   "metadata": {},
   "source": [
    "Проверяем."
   ]
  },
  {
   "cell_type": "code",
   "execution_count": 16,
   "metadata": {},
   "outputs": [
    {
     "data": {
      "text/html": [
       "<div>\n",
       "<style scoped>\n",
       "    .dataframe tbody tr th:only-of-type {\n",
       "        vertical-align: middle;\n",
       "    }\n",
       "\n",
       "    .dataframe tbody tr th {\n",
       "        vertical-align: top;\n",
       "    }\n",
       "\n",
       "    .dataframe thead th {\n",
       "        text-align: right;\n",
       "    }\n",
       "</style>\n",
       "<table border=\"1\" class=\"dataframe\">\n",
       "  <thead>\n",
       "    <tr style=\"text-align: right;\">\n",
       "      <th></th>\n",
       "      <th>CreditScore</th>\n",
       "      <th>Geography</th>\n",
       "      <th>Gender</th>\n",
       "      <th>Age</th>\n",
       "      <th>Tenure</th>\n",
       "      <th>Balance</th>\n",
       "      <th>NumOfProducts</th>\n",
       "      <th>HasCrCard</th>\n",
       "      <th>IsActiveMember</th>\n",
       "      <th>EstimatedSalary</th>\n",
       "      <th>Exited</th>\n",
       "    </tr>\n",
       "  </thead>\n",
       "  <tbody>\n",
       "    <tr>\n",
       "      <td>0</td>\n",
       "      <td>619</td>\n",
       "      <td>France</td>\n",
       "      <td>Female</td>\n",
       "      <td>42</td>\n",
       "      <td>2.0</td>\n",
       "      <td>0.00</td>\n",
       "      <td>1</td>\n",
       "      <td>1</td>\n",
       "      <td>1</td>\n",
       "      <td>101348.88</td>\n",
       "      <td>1</td>\n",
       "    </tr>\n",
       "    <tr>\n",
       "      <td>1</td>\n",
       "      <td>608</td>\n",
       "      <td>Spain</td>\n",
       "      <td>Female</td>\n",
       "      <td>41</td>\n",
       "      <td>1.0</td>\n",
       "      <td>83807.86</td>\n",
       "      <td>1</td>\n",
       "      <td>0</td>\n",
       "      <td>1</td>\n",
       "      <td>112542.58</td>\n",
       "      <td>0</td>\n",
       "    </tr>\n",
       "    <tr>\n",
       "      <td>2</td>\n",
       "      <td>502</td>\n",
       "      <td>France</td>\n",
       "      <td>Female</td>\n",
       "      <td>42</td>\n",
       "      <td>8.0</td>\n",
       "      <td>159660.80</td>\n",
       "      <td>3</td>\n",
       "      <td>1</td>\n",
       "      <td>0</td>\n",
       "      <td>113931.57</td>\n",
       "      <td>1</td>\n",
       "    </tr>\n",
       "    <tr>\n",
       "      <td>3</td>\n",
       "      <td>699</td>\n",
       "      <td>France</td>\n",
       "      <td>Female</td>\n",
       "      <td>39</td>\n",
       "      <td>1.0</td>\n",
       "      <td>0.00</td>\n",
       "      <td>2</td>\n",
       "      <td>0</td>\n",
       "      <td>0</td>\n",
       "      <td>93826.63</td>\n",
       "      <td>0</td>\n",
       "    </tr>\n",
       "    <tr>\n",
       "      <td>4</td>\n",
       "      <td>850</td>\n",
       "      <td>Spain</td>\n",
       "      <td>Female</td>\n",
       "      <td>43</td>\n",
       "      <td>2.0</td>\n",
       "      <td>125510.82</td>\n",
       "      <td>1</td>\n",
       "      <td>1</td>\n",
       "      <td>1</td>\n",
       "      <td>79084.10</td>\n",
       "      <td>0</td>\n",
       "    </tr>\n",
       "  </tbody>\n",
       "</table>\n",
       "</div>"
      ],
      "text/plain": [
       "   CreditScore Geography  Gender  Age  Tenure    Balance  NumOfProducts  \\\n",
       "0          619    France  Female   42     2.0       0.00              1   \n",
       "1          608     Spain  Female   41     1.0   83807.86              1   \n",
       "2          502    France  Female   42     8.0  159660.80              3   \n",
       "3          699    France  Female   39     1.0       0.00              2   \n",
       "4          850     Spain  Female   43     2.0  125510.82              1   \n",
       "\n",
       "   HasCrCard  IsActiveMember  EstimatedSalary  Exited  \n",
       "0          1               1        101348.88       1  \n",
       "1          0               1        112542.58       0  \n",
       "2          1               0        113931.57       1  \n",
       "3          0               0         93826.63       0  \n",
       "4          1               1         79084.10       0  "
      ]
     },
     "execution_count": 16,
     "metadata": {},
     "output_type": "execute_result"
    }
   ],
   "source": [
    "raw_data.head()"
   ]
  },
  {
   "cell_type": "markdown",
   "metadata": {},
   "source": [
    "<a id='Обработка пропусков'></a>"
   ]
  },
  {
   "cell_type": "markdown",
   "metadata": {},
   "source": [
    "### <p style=\"text-align:center\">Обработка пропусков</p>"
   ]
  },
  {
   "cell_type": "markdown",
   "metadata": {},
   "source": [
    "В данном пункте работы сначала предполагалось написать модель для заполнения пропущенных значений в столбце Tenure. Было сделано несколько попыток с максимумом в 9.9% на тесте, что лишь немного лучше дамми модели у которой 9.1%. Из инсайдов выяснили, что модели очень хорошо работают, когда пропуски в порядковых признаках заполняются просто медианой или средним, которые считаются по всему столбцу. Однако это нас не очень устраивает. Учитывая характер распределения, просто заменим пропущенные значения случайными от 1 до 10. Также был выриант с заменой пропусков на -1, нам не понравился."
   ]
  },
  {
   "cell_type": "code",
   "execution_count": 17,
   "metadata": {},
   "outputs": [],
   "source": [
    "#raw_data['Tenure'] = raw_data['Tenure'].mask(raw_data['Tenure'].isna(), np.random.randint(0, 11, size=raw_data['Tenure'].shape))"
   ]
  },
  {
   "cell_type": "code",
   "execution_count": 18,
   "metadata": {},
   "outputs": [],
   "source": [
    "raw_data['Tenure'] = raw_data['Tenure'].fillna(-1)"
   ]
  },
  {
   "cell_type": "markdown",
   "metadata": {},
   "source": [
    "Проверяем."
   ]
  },
  {
   "cell_type": "code",
   "execution_count": 19,
   "metadata": {},
   "outputs": [
    {
     "data": {
      "text/html": [
       "<div>\n",
       "<style scoped>\n",
       "    .dataframe tbody tr th:only-of-type {\n",
       "        vertical-align: middle;\n",
       "    }\n",
       "\n",
       "    .dataframe tbody tr th {\n",
       "        vertical-align: top;\n",
       "    }\n",
       "\n",
       "    .dataframe thead th {\n",
       "        text-align: right;\n",
       "    }\n",
       "</style>\n",
       "<table border=\"1\" class=\"dataframe\">\n",
       "  <thead>\n",
       "    <tr style=\"text-align: right;\">\n",
       "      <th></th>\n",
       "      <th>CreditScore</th>\n",
       "      <th>Geography</th>\n",
       "      <th>Gender</th>\n",
       "      <th>Age</th>\n",
       "      <th>Tenure</th>\n",
       "      <th>Balance</th>\n",
       "      <th>NumOfProducts</th>\n",
       "      <th>HasCrCard</th>\n",
       "      <th>IsActiveMember</th>\n",
       "      <th>EstimatedSalary</th>\n",
       "      <th>Exited</th>\n",
       "    </tr>\n",
       "  </thead>\n",
       "  <tbody>\n",
       "    <tr>\n",
       "      <td>0</td>\n",
       "      <td>619</td>\n",
       "      <td>France</td>\n",
       "      <td>Female</td>\n",
       "      <td>42</td>\n",
       "      <td>2.0</td>\n",
       "      <td>0.00</td>\n",
       "      <td>1</td>\n",
       "      <td>1</td>\n",
       "      <td>1</td>\n",
       "      <td>101348.88</td>\n",
       "      <td>1</td>\n",
       "    </tr>\n",
       "    <tr>\n",
       "      <td>1</td>\n",
       "      <td>608</td>\n",
       "      <td>Spain</td>\n",
       "      <td>Female</td>\n",
       "      <td>41</td>\n",
       "      <td>1.0</td>\n",
       "      <td>83807.86</td>\n",
       "      <td>1</td>\n",
       "      <td>0</td>\n",
       "      <td>1</td>\n",
       "      <td>112542.58</td>\n",
       "      <td>0</td>\n",
       "    </tr>\n",
       "    <tr>\n",
       "      <td>2</td>\n",
       "      <td>502</td>\n",
       "      <td>France</td>\n",
       "      <td>Female</td>\n",
       "      <td>42</td>\n",
       "      <td>8.0</td>\n",
       "      <td>159660.80</td>\n",
       "      <td>3</td>\n",
       "      <td>1</td>\n",
       "      <td>0</td>\n",
       "      <td>113931.57</td>\n",
       "      <td>1</td>\n",
       "    </tr>\n",
       "    <tr>\n",
       "      <td>3</td>\n",
       "      <td>699</td>\n",
       "      <td>France</td>\n",
       "      <td>Female</td>\n",
       "      <td>39</td>\n",
       "      <td>1.0</td>\n",
       "      <td>0.00</td>\n",
       "      <td>2</td>\n",
       "      <td>0</td>\n",
       "      <td>0</td>\n",
       "      <td>93826.63</td>\n",
       "      <td>0</td>\n",
       "    </tr>\n",
       "    <tr>\n",
       "      <td>4</td>\n",
       "      <td>850</td>\n",
       "      <td>Spain</td>\n",
       "      <td>Female</td>\n",
       "      <td>43</td>\n",
       "      <td>2.0</td>\n",
       "      <td>125510.82</td>\n",
       "      <td>1</td>\n",
       "      <td>1</td>\n",
       "      <td>1</td>\n",
       "      <td>79084.10</td>\n",
       "      <td>0</td>\n",
       "    </tr>\n",
       "  </tbody>\n",
       "</table>\n",
       "</div>"
      ],
      "text/plain": [
       "   CreditScore Geography  Gender  Age  Tenure    Balance  NumOfProducts  \\\n",
       "0          619    France  Female   42     2.0       0.00              1   \n",
       "1          608     Spain  Female   41     1.0   83807.86              1   \n",
       "2          502    France  Female   42     8.0  159660.80              3   \n",
       "3          699    France  Female   39     1.0       0.00              2   \n",
       "4          850     Spain  Female   43     2.0  125510.82              1   \n",
       "\n",
       "   HasCrCard  IsActiveMember  EstimatedSalary  Exited  \n",
       "0          1               1        101348.88       1  \n",
       "1          0               1        112542.58       0  \n",
       "2          1               0        113931.57       1  \n",
       "3          0               0         93826.63       0  \n",
       "4          1               1         79084.10       0  "
      ]
     },
     "execution_count": 19,
     "metadata": {},
     "output_type": "execute_result"
    }
   ],
   "source": [
    "raw_data.head()"
   ]
  },
  {
   "cell_type": "markdown",
   "metadata": {},
   "source": [
    "<a id='Оценка мультиколлинеарности признаков'></a>"
   ]
  },
  {
   "cell_type": "markdown",
   "metadata": {},
   "source": [
    "### <p style=\"text-align:center\"> Оценка мультиколлинеарности признаков </p>"
   ]
  },
  {
   "cell_type": "markdown",
   "metadata": {},
   "source": [
    "В качестве оценки мультиколлинеарности признаков найдем коффициенты корреляции этих признаков, если зависимость сильнее 0.75 попытаемся оставить только один признак из двух."
   ]
  },
  {
   "cell_type": "code",
   "execution_count": 20,
   "metadata": {},
   "outputs": [
    {
     "data": {
      "text/html": [
       "<div>\n",
       "<style scoped>\n",
       "    .dataframe tbody tr th:only-of-type {\n",
       "        vertical-align: middle;\n",
       "    }\n",
       "\n",
       "    .dataframe tbody tr th {\n",
       "        vertical-align: top;\n",
       "    }\n",
       "\n",
       "    .dataframe thead th {\n",
       "        text-align: right;\n",
       "    }\n",
       "</style>\n",
       "<table border=\"1\" class=\"dataframe\">\n",
       "  <thead>\n",
       "    <tr style=\"text-align: right;\">\n",
       "      <th></th>\n",
       "      <th>CreditScore</th>\n",
       "      <th>Age</th>\n",
       "      <th>Tenure</th>\n",
       "      <th>Balance</th>\n",
       "      <th>NumOfProducts</th>\n",
       "      <th>HasCrCard</th>\n",
       "      <th>IsActiveMember</th>\n",
       "      <th>EstimatedSalary</th>\n",
       "      <th>Exited</th>\n",
       "    </tr>\n",
       "  </thead>\n",
       "  <tbody>\n",
       "    <tr>\n",
       "      <td>CreditScore</td>\n",
       "      <td>1.000000</td>\n",
       "      <td>-0.003965</td>\n",
       "      <td>0.003552</td>\n",
       "      <td>0.006268</td>\n",
       "      <td>0.012238</td>\n",
       "      <td>-0.005458</td>\n",
       "      <td>0.025651</td>\n",
       "      <td>-0.001384</td>\n",
       "      <td>-0.027094</td>\n",
       "    </tr>\n",
       "    <tr>\n",
       "      <td>Age</td>\n",
       "      <td>-0.003965</td>\n",
       "      <td>1.000000</td>\n",
       "      <td>-0.006315</td>\n",
       "      <td>0.028308</td>\n",
       "      <td>-0.030680</td>\n",
       "      <td>-0.011721</td>\n",
       "      <td>0.085472</td>\n",
       "      <td>-0.007201</td>\n",
       "      <td>0.285323</td>\n",
       "    </tr>\n",
       "    <tr>\n",
       "      <td>Tenure</td>\n",
       "      <td>0.003552</td>\n",
       "      <td>-0.006315</td>\n",
       "      <td>1.000000</td>\n",
       "      <td>-0.005400</td>\n",
       "      <td>0.009661</td>\n",
       "      <td>0.020132</td>\n",
       "      <td>-0.024462</td>\n",
       "      <td>0.011174</td>\n",
       "      <td>-0.012570</td>\n",
       "    </tr>\n",
       "    <tr>\n",
       "      <td>Balance</td>\n",
       "      <td>0.006268</td>\n",
       "      <td>0.028308</td>\n",
       "      <td>-0.005400</td>\n",
       "      <td>1.000000</td>\n",
       "      <td>-0.304180</td>\n",
       "      <td>-0.014858</td>\n",
       "      <td>-0.010084</td>\n",
       "      <td>0.012797</td>\n",
       "      <td>0.118533</td>\n",
       "    </tr>\n",
       "    <tr>\n",
       "      <td>NumOfProducts</td>\n",
       "      <td>0.012238</td>\n",
       "      <td>-0.030680</td>\n",
       "      <td>0.009661</td>\n",
       "      <td>-0.304180</td>\n",
       "      <td>1.000000</td>\n",
       "      <td>0.003183</td>\n",
       "      <td>0.009612</td>\n",
       "      <td>0.014204</td>\n",
       "      <td>-0.047820</td>\n",
       "    </tr>\n",
       "    <tr>\n",
       "      <td>HasCrCard</td>\n",
       "      <td>-0.005458</td>\n",
       "      <td>-0.011721</td>\n",
       "      <td>0.020132</td>\n",
       "      <td>-0.014858</td>\n",
       "      <td>0.003183</td>\n",
       "      <td>1.000000</td>\n",
       "      <td>-0.011866</td>\n",
       "      <td>-0.009933</td>\n",
       "      <td>-0.007138</td>\n",
       "    </tr>\n",
       "    <tr>\n",
       "      <td>IsActiveMember</td>\n",
       "      <td>0.025651</td>\n",
       "      <td>0.085472</td>\n",
       "      <td>-0.024462</td>\n",
       "      <td>-0.010084</td>\n",
       "      <td>0.009612</td>\n",
       "      <td>-0.011866</td>\n",
       "      <td>1.000000</td>\n",
       "      <td>-0.011421</td>\n",
       "      <td>-0.156128</td>\n",
       "    </tr>\n",
       "    <tr>\n",
       "      <td>EstimatedSalary</td>\n",
       "      <td>-0.001384</td>\n",
       "      <td>-0.007201</td>\n",
       "      <td>0.011174</td>\n",
       "      <td>0.012797</td>\n",
       "      <td>0.014204</td>\n",
       "      <td>-0.009933</td>\n",
       "      <td>-0.011421</td>\n",
       "      <td>1.000000</td>\n",
       "      <td>0.012097</td>\n",
       "    </tr>\n",
       "    <tr>\n",
       "      <td>Exited</td>\n",
       "      <td>-0.027094</td>\n",
       "      <td>0.285323</td>\n",
       "      <td>-0.012570</td>\n",
       "      <td>0.118533</td>\n",
       "      <td>-0.047820</td>\n",
       "      <td>-0.007138</td>\n",
       "      <td>-0.156128</td>\n",
       "      <td>0.012097</td>\n",
       "      <td>1.000000</td>\n",
       "    </tr>\n",
       "  </tbody>\n",
       "</table>\n",
       "</div>"
      ],
      "text/plain": [
       "                 CreditScore       Age    Tenure   Balance  NumOfProducts  \\\n",
       "CreditScore         1.000000 -0.003965  0.003552  0.006268       0.012238   \n",
       "Age                -0.003965  1.000000 -0.006315  0.028308      -0.030680   \n",
       "Tenure              0.003552 -0.006315  1.000000 -0.005400       0.009661   \n",
       "Balance             0.006268  0.028308 -0.005400  1.000000      -0.304180   \n",
       "NumOfProducts       0.012238 -0.030680  0.009661 -0.304180       1.000000   \n",
       "HasCrCard          -0.005458 -0.011721  0.020132 -0.014858       0.003183   \n",
       "IsActiveMember      0.025651  0.085472 -0.024462 -0.010084       0.009612   \n",
       "EstimatedSalary    -0.001384 -0.007201  0.011174  0.012797       0.014204   \n",
       "Exited             -0.027094  0.285323 -0.012570  0.118533      -0.047820   \n",
       "\n",
       "                 HasCrCard  IsActiveMember  EstimatedSalary    Exited  \n",
       "CreditScore      -0.005458        0.025651        -0.001384 -0.027094  \n",
       "Age              -0.011721        0.085472        -0.007201  0.285323  \n",
       "Tenure            0.020132       -0.024462         0.011174 -0.012570  \n",
       "Balance          -0.014858       -0.010084         0.012797  0.118533  \n",
       "NumOfProducts     0.003183        0.009612         0.014204 -0.047820  \n",
       "HasCrCard         1.000000       -0.011866        -0.009933 -0.007138  \n",
       "IsActiveMember   -0.011866        1.000000        -0.011421 -0.156128  \n",
       "EstimatedSalary  -0.009933       -0.011421         1.000000  0.012097  \n",
       "Exited           -0.007138       -0.156128         0.012097  1.000000  "
      ]
     },
     "execution_count": 20,
     "metadata": {},
     "output_type": "execute_result"
    }
   ],
   "source": [
    "raw_data.corr()"
   ]
  },
  {
   "cell_type": "markdown",
   "metadata": {},
   "source": [
    "Не похоже, что у нас присутствуют признаки с сильными линейными зависимостями, поэтому визуализировать не будем."
   ]
  },
  {
   "cell_type": "markdown",
   "metadata": {},
   "source": [
    "<a id='Кодирование признаков'></a>"
   ]
  },
  {
   "cell_type": "markdown",
   "metadata": {},
   "source": [
    "### <p style=\"text-align:center\">Кодирование признаков</p>"
   ]
  },
  {
   "cell_type": "markdown",
   "metadata": {},
   "source": [
    "Признаки geography и gender необходимо закодировать, для успешного обучения моделей. Однако разные модели для успешной работы требуют разного кодирования признаков. Поэтому и мы закодируем их по разному. "
   ]
  },
  {
   "cell_type": "code",
   "execution_count": 21,
   "metadata": {},
   "outputs": [
    {
     "data": {
      "text/html": [
       "<div>\n",
       "<style scoped>\n",
       "    .dataframe tbody tr th:only-of-type {\n",
       "        vertical-align: middle;\n",
       "    }\n",
       "\n",
       "    .dataframe tbody tr th {\n",
       "        vertical-align: top;\n",
       "    }\n",
       "\n",
       "    .dataframe thead th {\n",
       "        text-align: right;\n",
       "    }\n",
       "</style>\n",
       "<table border=\"1\" class=\"dataframe\">\n",
       "  <thead>\n",
       "    <tr style=\"text-align: right;\">\n",
       "      <th></th>\n",
       "      <th>CreditScore</th>\n",
       "      <th>Age</th>\n",
       "      <th>Tenure</th>\n",
       "      <th>Balance</th>\n",
       "      <th>NumOfProducts</th>\n",
       "      <th>HasCrCard</th>\n",
       "      <th>IsActiveMember</th>\n",
       "      <th>EstimatedSalary</th>\n",
       "      <th>Exited</th>\n",
       "      <th>Geography_Germany</th>\n",
       "      <th>Geography_Spain</th>\n",
       "      <th>Gender_Male</th>\n",
       "    </tr>\n",
       "  </thead>\n",
       "  <tbody>\n",
       "    <tr>\n",
       "      <td>0</td>\n",
       "      <td>619</td>\n",
       "      <td>42</td>\n",
       "      <td>2.0</td>\n",
       "      <td>0.00</td>\n",
       "      <td>1</td>\n",
       "      <td>1</td>\n",
       "      <td>1</td>\n",
       "      <td>101348.88</td>\n",
       "      <td>1</td>\n",
       "      <td>0</td>\n",
       "      <td>0</td>\n",
       "      <td>0</td>\n",
       "    </tr>\n",
       "    <tr>\n",
       "      <td>1</td>\n",
       "      <td>608</td>\n",
       "      <td>41</td>\n",
       "      <td>1.0</td>\n",
       "      <td>83807.86</td>\n",
       "      <td>1</td>\n",
       "      <td>0</td>\n",
       "      <td>1</td>\n",
       "      <td>112542.58</td>\n",
       "      <td>0</td>\n",
       "      <td>0</td>\n",
       "      <td>1</td>\n",
       "      <td>0</td>\n",
       "    </tr>\n",
       "    <tr>\n",
       "      <td>2</td>\n",
       "      <td>502</td>\n",
       "      <td>42</td>\n",
       "      <td>8.0</td>\n",
       "      <td>159660.80</td>\n",
       "      <td>3</td>\n",
       "      <td>1</td>\n",
       "      <td>0</td>\n",
       "      <td>113931.57</td>\n",
       "      <td>1</td>\n",
       "      <td>0</td>\n",
       "      <td>0</td>\n",
       "      <td>0</td>\n",
       "    </tr>\n",
       "    <tr>\n",
       "      <td>3</td>\n",
       "      <td>699</td>\n",
       "      <td>39</td>\n",
       "      <td>1.0</td>\n",
       "      <td>0.00</td>\n",
       "      <td>2</td>\n",
       "      <td>0</td>\n",
       "      <td>0</td>\n",
       "      <td>93826.63</td>\n",
       "      <td>0</td>\n",
       "      <td>0</td>\n",
       "      <td>0</td>\n",
       "      <td>0</td>\n",
       "    </tr>\n",
       "    <tr>\n",
       "      <td>4</td>\n",
       "      <td>850</td>\n",
       "      <td>43</td>\n",
       "      <td>2.0</td>\n",
       "      <td>125510.82</td>\n",
       "      <td>1</td>\n",
       "      <td>1</td>\n",
       "      <td>1</td>\n",
       "      <td>79084.10</td>\n",
       "      <td>0</td>\n",
       "      <td>0</td>\n",
       "      <td>1</td>\n",
       "      <td>0</td>\n",
       "    </tr>\n",
       "  </tbody>\n",
       "</table>\n",
       "</div>"
      ],
      "text/plain": [
       "   CreditScore  Age  Tenure    Balance  NumOfProducts  HasCrCard  \\\n",
       "0          619   42     2.0       0.00              1          1   \n",
       "1          608   41     1.0   83807.86              1          0   \n",
       "2          502   42     8.0  159660.80              3          1   \n",
       "3          699   39     1.0       0.00              2          0   \n",
       "4          850   43     2.0  125510.82              1          1   \n",
       "\n",
       "   IsActiveMember  EstimatedSalary  Exited  Geography_Germany  \\\n",
       "0               1        101348.88       1                  0   \n",
       "1               1        112542.58       0                  0   \n",
       "2               0        113931.57       1                  0   \n",
       "3               0         93826.63       0                  0   \n",
       "4               1         79084.10       0                  0   \n",
       "\n",
       "   Geography_Spain  Gender_Male  \n",
       "0                0            0  \n",
       "1                1            0  \n",
       "2                0            0  \n",
       "3                0            0  \n",
       "4                1            0  "
      ]
     },
     "execution_count": 21,
     "metadata": {},
     "output_type": "execute_result"
    }
   ],
   "source": [
    "raw_data_ohe = pd.get_dummies(raw_data, drop_first=True)\n",
    "raw_data_ohe.head()"
   ]
  },
  {
   "cell_type": "code",
   "execution_count": 22,
   "metadata": {},
   "outputs": [
    {
     "data": {
      "text/html": [
       "<div>\n",
       "<style scoped>\n",
       "    .dataframe tbody tr th:only-of-type {\n",
       "        vertical-align: middle;\n",
       "    }\n",
       "\n",
       "    .dataframe tbody tr th {\n",
       "        vertical-align: top;\n",
       "    }\n",
       "\n",
       "    .dataframe thead th {\n",
       "        text-align: right;\n",
       "    }\n",
       "</style>\n",
       "<table border=\"1\" class=\"dataframe\">\n",
       "  <thead>\n",
       "    <tr style=\"text-align: right;\">\n",
       "      <th></th>\n",
       "      <th>CreditScore</th>\n",
       "      <th>Geography</th>\n",
       "      <th>Gender</th>\n",
       "      <th>Age</th>\n",
       "      <th>Tenure</th>\n",
       "      <th>Balance</th>\n",
       "      <th>NumOfProducts</th>\n",
       "      <th>HasCrCard</th>\n",
       "      <th>IsActiveMember</th>\n",
       "      <th>EstimatedSalary</th>\n",
       "      <th>Exited</th>\n",
       "    </tr>\n",
       "  </thead>\n",
       "  <tbody>\n",
       "    <tr>\n",
       "      <td>0</td>\n",
       "      <td>228.0</td>\n",
       "      <td>0.0</td>\n",
       "      <td>0.0</td>\n",
       "      <td>24.0</td>\n",
       "      <td>3.0</td>\n",
       "      <td>0.0</td>\n",
       "      <td>0.0</td>\n",
       "      <td>1.0</td>\n",
       "      <td>1.0</td>\n",
       "      <td>5068.0</td>\n",
       "      <td>1.0</td>\n",
       "    </tr>\n",
       "    <tr>\n",
       "      <td>1</td>\n",
       "      <td>217.0</td>\n",
       "      <td>2.0</td>\n",
       "      <td>0.0</td>\n",
       "      <td>23.0</td>\n",
       "      <td>2.0</td>\n",
       "      <td>743.0</td>\n",
       "      <td>0.0</td>\n",
       "      <td>0.0</td>\n",
       "      <td>1.0</td>\n",
       "      <td>5639.0</td>\n",
       "      <td>0.0</td>\n",
       "    </tr>\n",
       "    <tr>\n",
       "      <td>2</td>\n",
       "      <td>111.0</td>\n",
       "      <td>0.0</td>\n",
       "      <td>0.0</td>\n",
       "      <td>24.0</td>\n",
       "      <td>9.0</td>\n",
       "      <td>5793.0</td>\n",
       "      <td>2.0</td>\n",
       "      <td>1.0</td>\n",
       "      <td>0.0</td>\n",
       "      <td>5707.0</td>\n",
       "      <td>1.0</td>\n",
       "    </tr>\n",
       "    <tr>\n",
       "      <td>3</td>\n",
       "      <td>308.0</td>\n",
       "      <td>0.0</td>\n",
       "      <td>0.0</td>\n",
       "      <td>21.0</td>\n",
       "      <td>2.0</td>\n",
       "      <td>0.0</td>\n",
       "      <td>1.0</td>\n",
       "      <td>0.0</td>\n",
       "      <td>0.0</td>\n",
       "      <td>4704.0</td>\n",
       "      <td>0.0</td>\n",
       "    </tr>\n",
       "    <tr>\n",
       "      <td>4</td>\n",
       "      <td>459.0</td>\n",
       "      <td>2.0</td>\n",
       "      <td>0.0</td>\n",
       "      <td>25.0</td>\n",
       "      <td>3.0</td>\n",
       "      <td>3696.0</td>\n",
       "      <td>0.0</td>\n",
       "      <td>1.0</td>\n",
       "      <td>1.0</td>\n",
       "      <td>3925.0</td>\n",
       "      <td>0.0</td>\n",
       "    </tr>\n",
       "  </tbody>\n",
       "</table>\n",
       "</div>"
      ],
      "text/plain": [
       "   CreditScore  Geography  Gender   Age  Tenure  Balance  NumOfProducts  \\\n",
       "0        228.0        0.0     0.0  24.0     3.0      0.0            0.0   \n",
       "1        217.0        2.0     0.0  23.0     2.0    743.0            0.0   \n",
       "2        111.0        0.0     0.0  24.0     9.0   5793.0            2.0   \n",
       "3        308.0        0.0     0.0  21.0     2.0      0.0            1.0   \n",
       "4        459.0        2.0     0.0  25.0     3.0   3696.0            0.0   \n",
       "\n",
       "   HasCrCard  IsActiveMember  EstimatedSalary  Exited  \n",
       "0        1.0             1.0           5068.0     1.0  \n",
       "1        0.0             1.0           5639.0     0.0  \n",
       "2        1.0             0.0           5707.0     1.0  \n",
       "3        0.0             0.0           4704.0     0.0  \n",
       "4        1.0             1.0           3925.0     0.0  "
      ]
     },
     "execution_count": 22,
     "metadata": {},
     "output_type": "execute_result"
    }
   ],
   "source": [
    "encoder = OrdinalEncoder()\n",
    "encoder.fit(raw_data) \n",
    "raw_data_ordinal = pd.DataFrame(encoder.transform(raw_data), columns=raw_data.columns) \n",
    "raw_data_ordinal.head()"
   ]
  },
  {
   "cell_type": "markdown",
   "metadata": {},
   "source": [
    "<a id='Приведение названий столбцов к нижнему регистру'></a>"
   ]
  },
  {
   "cell_type": "markdown",
   "metadata": {},
   "source": [
    "### <p style=\"text-align:center\">Приведение названий столбцов к нижнему регистру</p>"
   ]
  },
  {
   "cell_type": "markdown",
   "metadata": {},
   "source": [
    "Применим функцию для перевода названий столбцов к snake case."
   ]
  },
  {
   "cell_type": "code",
   "execution_count": 23,
   "metadata": {},
   "outputs": [],
   "source": [
    "def make_it_snake_case(data):\n",
    "    new_columns = []\n",
    "    for column in data.columns:\n",
    "        column = re.sub(r'([a-z0-9])([A-Z])', r'\\1_\\2', column).lower()\n",
    "        column = column.replace('__', '_')\n",
    "        new_columns.append(column)\n",
    "    data.columns = new_columns"
   ]
  },
  {
   "cell_type": "code",
   "execution_count": 24,
   "metadata": {},
   "outputs": [],
   "source": [
    "make_it_snake_case(raw_data_ohe)\n",
    "make_it_snake_case(raw_data_ordinal)"
   ]
  },
  {
   "cell_type": "markdown",
   "metadata": {},
   "source": [
    "Проверяем."
   ]
  },
  {
   "cell_type": "code",
   "execution_count": 25,
   "metadata": {},
   "outputs": [
    {
     "data": {
      "text/html": [
       "<div>\n",
       "<style scoped>\n",
       "    .dataframe tbody tr th:only-of-type {\n",
       "        vertical-align: middle;\n",
       "    }\n",
       "\n",
       "    .dataframe tbody tr th {\n",
       "        vertical-align: top;\n",
       "    }\n",
       "\n",
       "    .dataframe thead th {\n",
       "        text-align: right;\n",
       "    }\n",
       "</style>\n",
       "<table border=\"1\" class=\"dataframe\">\n",
       "  <thead>\n",
       "    <tr style=\"text-align: right;\">\n",
       "      <th></th>\n",
       "      <th>credit_score</th>\n",
       "      <th>age</th>\n",
       "      <th>tenure</th>\n",
       "      <th>balance</th>\n",
       "      <th>num_of_products</th>\n",
       "      <th>has_cr_card</th>\n",
       "      <th>is_active_member</th>\n",
       "      <th>estimated_salary</th>\n",
       "      <th>exited</th>\n",
       "      <th>geography_germany</th>\n",
       "      <th>geography_spain</th>\n",
       "      <th>gender_male</th>\n",
       "    </tr>\n",
       "  </thead>\n",
       "  <tbody>\n",
       "    <tr>\n",
       "      <td>0</td>\n",
       "      <td>619</td>\n",
       "      <td>42</td>\n",
       "      <td>2.0</td>\n",
       "      <td>0.00</td>\n",
       "      <td>1</td>\n",
       "      <td>1</td>\n",
       "      <td>1</td>\n",
       "      <td>101348.88</td>\n",
       "      <td>1</td>\n",
       "      <td>0</td>\n",
       "      <td>0</td>\n",
       "      <td>0</td>\n",
       "    </tr>\n",
       "    <tr>\n",
       "      <td>1</td>\n",
       "      <td>608</td>\n",
       "      <td>41</td>\n",
       "      <td>1.0</td>\n",
       "      <td>83807.86</td>\n",
       "      <td>1</td>\n",
       "      <td>0</td>\n",
       "      <td>1</td>\n",
       "      <td>112542.58</td>\n",
       "      <td>0</td>\n",
       "      <td>0</td>\n",
       "      <td>1</td>\n",
       "      <td>0</td>\n",
       "    </tr>\n",
       "    <tr>\n",
       "      <td>2</td>\n",
       "      <td>502</td>\n",
       "      <td>42</td>\n",
       "      <td>8.0</td>\n",
       "      <td>159660.80</td>\n",
       "      <td>3</td>\n",
       "      <td>1</td>\n",
       "      <td>0</td>\n",
       "      <td>113931.57</td>\n",
       "      <td>1</td>\n",
       "      <td>0</td>\n",
       "      <td>0</td>\n",
       "      <td>0</td>\n",
       "    </tr>\n",
       "    <tr>\n",
       "      <td>3</td>\n",
       "      <td>699</td>\n",
       "      <td>39</td>\n",
       "      <td>1.0</td>\n",
       "      <td>0.00</td>\n",
       "      <td>2</td>\n",
       "      <td>0</td>\n",
       "      <td>0</td>\n",
       "      <td>93826.63</td>\n",
       "      <td>0</td>\n",
       "      <td>0</td>\n",
       "      <td>0</td>\n",
       "      <td>0</td>\n",
       "    </tr>\n",
       "    <tr>\n",
       "      <td>4</td>\n",
       "      <td>850</td>\n",
       "      <td>43</td>\n",
       "      <td>2.0</td>\n",
       "      <td>125510.82</td>\n",
       "      <td>1</td>\n",
       "      <td>1</td>\n",
       "      <td>1</td>\n",
       "      <td>79084.10</td>\n",
       "      <td>0</td>\n",
       "      <td>0</td>\n",
       "      <td>1</td>\n",
       "      <td>0</td>\n",
       "    </tr>\n",
       "  </tbody>\n",
       "</table>\n",
       "</div>"
      ],
      "text/plain": [
       "   credit_score  age  tenure    balance  num_of_products  has_cr_card  \\\n",
       "0           619   42     2.0       0.00                1            1   \n",
       "1           608   41     1.0   83807.86                1            0   \n",
       "2           502   42     8.0  159660.80                3            1   \n",
       "3           699   39     1.0       0.00                2            0   \n",
       "4           850   43     2.0  125510.82                1            1   \n",
       "\n",
       "   is_active_member  estimated_salary  exited  geography_germany  \\\n",
       "0                 1         101348.88       1                  0   \n",
       "1                 1         112542.58       0                  0   \n",
       "2                 0         113931.57       1                  0   \n",
       "3                 0          93826.63       0                  0   \n",
       "4                 1          79084.10       0                  0   \n",
       "\n",
       "   geography_spain  gender_male  \n",
       "0                0            0  \n",
       "1                1            0  \n",
       "2                0            0  \n",
       "3                0            0  \n",
       "4                1            0  "
      ]
     },
     "execution_count": 25,
     "metadata": {},
     "output_type": "execute_result"
    }
   ],
   "source": [
    "raw_data_ohe.head()"
   ]
  },
  {
   "cell_type": "code",
   "execution_count": 26,
   "metadata": {},
   "outputs": [
    {
     "data": {
      "text/html": [
       "<div>\n",
       "<style scoped>\n",
       "    .dataframe tbody tr th:only-of-type {\n",
       "        vertical-align: middle;\n",
       "    }\n",
       "\n",
       "    .dataframe tbody tr th {\n",
       "        vertical-align: top;\n",
       "    }\n",
       "\n",
       "    .dataframe thead th {\n",
       "        text-align: right;\n",
       "    }\n",
       "</style>\n",
       "<table border=\"1\" class=\"dataframe\">\n",
       "  <thead>\n",
       "    <tr style=\"text-align: right;\">\n",
       "      <th></th>\n",
       "      <th>credit_score</th>\n",
       "      <th>geography</th>\n",
       "      <th>gender</th>\n",
       "      <th>age</th>\n",
       "      <th>tenure</th>\n",
       "      <th>balance</th>\n",
       "      <th>num_of_products</th>\n",
       "      <th>has_cr_card</th>\n",
       "      <th>is_active_member</th>\n",
       "      <th>estimated_salary</th>\n",
       "      <th>exited</th>\n",
       "    </tr>\n",
       "  </thead>\n",
       "  <tbody>\n",
       "    <tr>\n",
       "      <td>0</td>\n",
       "      <td>228.0</td>\n",
       "      <td>0.0</td>\n",
       "      <td>0.0</td>\n",
       "      <td>24.0</td>\n",
       "      <td>3.0</td>\n",
       "      <td>0.0</td>\n",
       "      <td>0.0</td>\n",
       "      <td>1.0</td>\n",
       "      <td>1.0</td>\n",
       "      <td>5068.0</td>\n",
       "      <td>1.0</td>\n",
       "    </tr>\n",
       "    <tr>\n",
       "      <td>1</td>\n",
       "      <td>217.0</td>\n",
       "      <td>2.0</td>\n",
       "      <td>0.0</td>\n",
       "      <td>23.0</td>\n",
       "      <td>2.0</td>\n",
       "      <td>743.0</td>\n",
       "      <td>0.0</td>\n",
       "      <td>0.0</td>\n",
       "      <td>1.0</td>\n",
       "      <td>5639.0</td>\n",
       "      <td>0.0</td>\n",
       "    </tr>\n",
       "    <tr>\n",
       "      <td>2</td>\n",
       "      <td>111.0</td>\n",
       "      <td>0.0</td>\n",
       "      <td>0.0</td>\n",
       "      <td>24.0</td>\n",
       "      <td>9.0</td>\n",
       "      <td>5793.0</td>\n",
       "      <td>2.0</td>\n",
       "      <td>1.0</td>\n",
       "      <td>0.0</td>\n",
       "      <td>5707.0</td>\n",
       "      <td>1.0</td>\n",
       "    </tr>\n",
       "    <tr>\n",
       "      <td>3</td>\n",
       "      <td>308.0</td>\n",
       "      <td>0.0</td>\n",
       "      <td>0.0</td>\n",
       "      <td>21.0</td>\n",
       "      <td>2.0</td>\n",
       "      <td>0.0</td>\n",
       "      <td>1.0</td>\n",
       "      <td>0.0</td>\n",
       "      <td>0.0</td>\n",
       "      <td>4704.0</td>\n",
       "      <td>0.0</td>\n",
       "    </tr>\n",
       "    <tr>\n",
       "      <td>4</td>\n",
       "      <td>459.0</td>\n",
       "      <td>2.0</td>\n",
       "      <td>0.0</td>\n",
       "      <td>25.0</td>\n",
       "      <td>3.0</td>\n",
       "      <td>3696.0</td>\n",
       "      <td>0.0</td>\n",
       "      <td>1.0</td>\n",
       "      <td>1.0</td>\n",
       "      <td>3925.0</td>\n",
       "      <td>0.0</td>\n",
       "    </tr>\n",
       "  </tbody>\n",
       "</table>\n",
       "</div>"
      ],
      "text/plain": [
       "   credit_score  geography  gender   age  tenure  balance  num_of_products  \\\n",
       "0         228.0        0.0     0.0  24.0     3.0      0.0              0.0   \n",
       "1         217.0        2.0     0.0  23.0     2.0    743.0              0.0   \n",
       "2         111.0        0.0     0.0  24.0     9.0   5793.0              2.0   \n",
       "3         308.0        0.0     0.0  21.0     2.0      0.0              1.0   \n",
       "4         459.0        2.0     0.0  25.0     3.0   3696.0              0.0   \n",
       "\n",
       "   has_cr_card  is_active_member  estimated_salary  exited  \n",
       "0          1.0               1.0            5068.0     1.0  \n",
       "1          0.0               1.0            5639.0     0.0  \n",
       "2          1.0               0.0            5707.0     1.0  \n",
       "3          0.0               0.0            4704.0     0.0  \n",
       "4          1.0               1.0            3925.0     0.0  "
      ]
     },
     "execution_count": 26,
     "metadata": {},
     "output_type": "execute_result"
    }
   ],
   "source": [
    "raw_data_ordinal.head()"
   ]
  },
  {
   "cell_type": "code",
   "execution_count": 27,
   "metadata": {},
   "outputs": [],
   "source": [
    "df_ohe = raw_data_ohe\n",
    "df_ordinal = raw_data_ordinal"
   ]
  },
  {
   "cell_type": "markdown",
   "metadata": {},
   "source": [
    "<a id='Вывод_2'></a>"
   ]
  },
  {
   "cell_type": "markdown",
   "metadata": {},
   "source": [
    "### <p style=\"text-align:center\"> Вывод</p>"
   ]
  },
  {
   "cell_type": "markdown",
   "metadata": {},
   "source": [
    "##### В ходе предобработки данных была проделана следующая работа:\n",
    "\n",
    "___\n",
    "\n",
    "\n",
    "1. В первую очередь удалили несколько ненужных столбцов.\n",
    "\n",
    "\n",
    "2. Затем заполнили пропуски в столбце Tenure, попробовав при этом различные варианты.\n",
    "\n",
    "\n",
    "3. Оценили мультиколлинеарность признаков. Здесь проблем не обнаружили.\n",
    "\n",
    "\n",
    "4. Произвели кодирование признаков, закодировав их отдельно для линейных моделей и деревьев/лесов.\n",
    "\n",
    "\n",
    "5. После этого привели названия столбцов к snake case.\n",
    "\n",
    "\n",
    "6. Заключительным пунктом данной работы стало масштабирование признаков и переименование датасетов.\n",
    "___\n",
    "\n",
    "Таким образом была выполнена предобработка, переходим к непосредственному решению задачи."
   ]
  },
  {
   "cell_type": "markdown",
   "metadata": {},
   "source": [
    " ## Часть 3. Создание моделей"
   ]
  },
  {
   "cell_type": "markdown",
   "metadata": {},
   "source": [
    "## <p style=\"text-align:center\"> Создание линейной модели </p>"
   ]
  },
  {
   "cell_type": "markdown",
   "metadata": {},
   "source": [
    "Создадим линейную модель, попробуем добиться необходимой точности."
   ]
  },
  {
   "cell_type": "markdown",
   "metadata": {},
   "source": [
    "<a id='Разделение датасета на выборки, исследование баланса классов 1'></a>"
   ]
  },
  {
   "cell_type": "markdown",
   "metadata": {},
   "source": [
    "### <p style=\"text-align:center\"> Разделение датасета на выборки, исследование баланса классов </p>"
   ]
  },
  {
   "cell_type": "code",
   "execution_count": 28,
   "metadata": {},
   "outputs": [],
   "source": [
    "features_ohe = df_ohe.drop('exited', axis=1)\n",
    "target_ohe = df_ohe['exited']"
   ]
  },
  {
   "cell_type": "code",
   "execution_count": 29,
   "metadata": {},
   "outputs": [],
   "source": [
    "features_ohe_train, features_ohe_test, target_ohe_train, target_ohe_test = train_test_split(features_ohe, target_ohe, \n",
    "                                                                                            test_size=0.4, random_state=228)\n",
    "features_ohe_test, features_ohe_valid, target_ohe_test, target_ohe_valid = train_test_split(features_ohe_test, target_ohe_test, \n",
    "                                                                                            test_size=0.5, random_state=228)"
   ]
  },
  {
   "cell_type": "markdown",
   "metadata": {},
   "source": [
    "Проверим разбиение."
   ]
  },
  {
   "cell_type": "code",
   "execution_count": 30,
   "metadata": {},
   "outputs": [
    {
     "name": "stdout",
     "output_type": "stream",
     "text": [
      "Признаки обучающей выборки: (6000, 11) Целевой признак обучающей выборки: (6000,) Признаки валидационной выборки: (2000, 11) Целевой признак валидационной выборки: (2000,) Признаки тестовой выборки: (2000, 11) Целевой признак тестовой выборки: (2000,)\n"
     ]
    }
   ],
   "source": [
    "print('Признаки обучающей выборки:',features_ohe_train.shape,\n",
    "      'Целевой признак обучающей выборки:', target_ohe_train.shape, \n",
    "      'Признаки валидационной выборки:',features_ohe_valid.shape,  \n",
    "      'Целевой признак валидационной выборки:', target_ohe_valid.shape, \n",
    "      'Признаки тестовой выборки:', features_ohe_test.shape,\n",
    "      'Целевой признак тестовой выборки:', target_ohe_test.shape)"
   ]
  },
  {
   "cell_type": "markdown",
   "metadata": {},
   "source": [
    "<a id='Масштабирование признаков'></a>"
   ]
  },
  {
   "cell_type": "markdown",
   "metadata": {},
   "source": [
    "### <p style=\"text-align:center\"> Масштабирование признаков </p>"
   ]
  },
  {
   "cell_type": "markdown",
   "metadata": {},
   "source": [
    "Выберем числовые строки для масштабирования. Как мы знаем деревьям и лесу масштабирование не нужно, а вот регрессии это будет полезно."
   ]
  },
  {
   "cell_type": "code",
   "execution_count": 31,
   "metadata": {},
   "outputs": [],
   "source": [
    "numeric = ['credit_score', 'age', 'tenure', 'balance', 'num_of_products', 'estimated_salary']"
   ]
  },
  {
   "cell_type": "markdown",
   "metadata": {},
   "source": [
    "Проведем масштабирование."
   ]
  },
  {
   "cell_type": "code",
   "execution_count": 32,
   "metadata": {},
   "outputs": [
    {
     "data": {
      "text/plain": [
       "StandardScaler(copy=True, with_mean=True, with_std=True)"
      ]
     },
     "execution_count": 32,
     "metadata": {},
     "output_type": "execute_result"
    }
   ],
   "source": [
    "scaler = StandardScaler()\n",
    "scaler.fit(features_ohe_train[numeric])"
   ]
  },
  {
   "cell_type": "code",
   "execution_count": 33,
   "metadata": {},
   "outputs": [],
   "source": [
    "features_ohe_train[numeric] = scaler.transform(features_ohe_train[numeric])\n",
    "features_ohe_valid[numeric] = scaler.transform(features_ohe_valid[numeric])\n",
    "features_ohe_test[numeric] = scaler.transform(features_ohe_test[numeric])"
   ]
  },
  {
   "cell_type": "markdown",
   "metadata": {},
   "source": [
    "Проверяем."
   ]
  },
  {
   "cell_type": "code",
   "execution_count": 34,
   "metadata": {},
   "outputs": [
    {
     "data": {
      "text/html": [
       "<div>\n",
       "<style scoped>\n",
       "    .dataframe tbody tr th:only-of-type {\n",
       "        vertical-align: middle;\n",
       "    }\n",
       "\n",
       "    .dataframe tbody tr th {\n",
       "        vertical-align: top;\n",
       "    }\n",
       "\n",
       "    .dataframe thead th {\n",
       "        text-align: right;\n",
       "    }\n",
       "</style>\n",
       "<table border=\"1\" class=\"dataframe\">\n",
       "  <thead>\n",
       "    <tr style=\"text-align: right;\">\n",
       "      <th></th>\n",
       "      <th>credit_score</th>\n",
       "      <th>age</th>\n",
       "      <th>tenure</th>\n",
       "      <th>balance</th>\n",
       "      <th>num_of_products</th>\n",
       "      <th>has_cr_card</th>\n",
       "      <th>is_active_member</th>\n",
       "      <th>estimated_salary</th>\n",
       "      <th>geography_germany</th>\n",
       "      <th>geography_spain</th>\n",
       "      <th>gender_male</th>\n",
       "    </tr>\n",
       "  </thead>\n",
       "  <tbody>\n",
       "    <tr>\n",
       "      <td>1505</td>\n",
       "      <td>-0.462327</td>\n",
       "      <td>0.876977</td>\n",
       "      <td>-0.139743</td>\n",
       "      <td>0.892709</td>\n",
       "      <td>-0.907150</td>\n",
       "      <td>0</td>\n",
       "      <td>0</td>\n",
       "      <td>-1.132558</td>\n",
       "      <td>1</td>\n",
       "      <td>0</td>\n",
       "      <td>1</td>\n",
       "    </tr>\n",
       "    <tr>\n",
       "      <td>7833</td>\n",
       "      <td>-0.275702</td>\n",
       "      <td>-0.560560</td>\n",
       "      <td>0.476997</td>\n",
       "      <td>-0.166901</td>\n",
       "      <td>-0.907150</td>\n",
       "      <td>0</td>\n",
       "      <td>1</td>\n",
       "      <td>1.221454</td>\n",
       "      <td>0</td>\n",
       "      <td>1</td>\n",
       "      <td>1</td>\n",
       "    </tr>\n",
       "    <tr>\n",
       "      <td>1483</td>\n",
       "      <td>2.067489</td>\n",
       "      <td>-0.273052</td>\n",
       "      <td>-1.681592</td>\n",
       "      <td>0.439198</td>\n",
       "      <td>0.818016</td>\n",
       "      <td>0</td>\n",
       "      <td>1</td>\n",
       "      <td>-0.564667</td>\n",
       "      <td>0</td>\n",
       "      <td>0</td>\n",
       "      <td>1</td>\n",
       "    </tr>\n",
       "    <tr>\n",
       "      <td>5129</td>\n",
       "      <td>-0.648953</td>\n",
       "      <td>0.301963</td>\n",
       "      <td>-0.756482</td>\n",
       "      <td>1.403502</td>\n",
       "      <td>-0.907150</td>\n",
       "      <td>1</td>\n",
       "      <td>0</td>\n",
       "      <td>-0.915790</td>\n",
       "      <td>1</td>\n",
       "      <td>0</td>\n",
       "      <td>0</td>\n",
       "    </tr>\n",
       "    <tr>\n",
       "      <td>4624</td>\n",
       "      <td>-0.223861</td>\n",
       "      <td>0.685306</td>\n",
       "      <td>-1.064852</td>\n",
       "      <td>0.864894</td>\n",
       "      <td>-0.907150</td>\n",
       "      <td>1</td>\n",
       "      <td>1</td>\n",
       "      <td>1.052087</td>\n",
       "      <td>0</td>\n",
       "      <td>0</td>\n",
       "      <td>1</td>\n",
       "    </tr>\n",
       "  </tbody>\n",
       "</table>\n",
       "</div>"
      ],
      "text/plain": [
       "      credit_score       age    tenure   balance  num_of_products  \\\n",
       "1505     -0.462327  0.876977 -0.139743  0.892709        -0.907150   \n",
       "7833     -0.275702 -0.560560  0.476997 -0.166901        -0.907150   \n",
       "1483      2.067489 -0.273052 -1.681592  0.439198         0.818016   \n",
       "5129     -0.648953  0.301963 -0.756482  1.403502        -0.907150   \n",
       "4624     -0.223861  0.685306 -1.064852  0.864894        -0.907150   \n",
       "\n",
       "      has_cr_card  is_active_member  estimated_salary  geography_germany  \\\n",
       "1505            0                 0         -1.132558                  1   \n",
       "7833            0                 1          1.221454                  0   \n",
       "1483            0                 1         -0.564667                  0   \n",
       "5129            1                 0         -0.915790                  1   \n",
       "4624            1                 1          1.052087                  0   \n",
       "\n",
       "      geography_spain  gender_male  \n",
       "1505                0            1  \n",
       "7833                1            1  \n",
       "1483                0            1  \n",
       "5129                0            0  \n",
       "4624                0            1  "
      ]
     },
     "execution_count": 34,
     "metadata": {},
     "output_type": "execute_result"
    }
   ],
   "source": [
    "features_ohe_train.head()"
   ]
  },
  {
   "cell_type": "code",
   "execution_count": 35,
   "metadata": {},
   "outputs": [
    {
     "data": {
      "text/html": [
       "<div>\n",
       "<style scoped>\n",
       "    .dataframe tbody tr th:only-of-type {\n",
       "        vertical-align: middle;\n",
       "    }\n",
       "\n",
       "    .dataframe tbody tr th {\n",
       "        vertical-align: top;\n",
       "    }\n",
       "\n",
       "    .dataframe thead th {\n",
       "        text-align: right;\n",
       "    }\n",
       "</style>\n",
       "<table border=\"1\" class=\"dataframe\">\n",
       "  <thead>\n",
       "    <tr style=\"text-align: right;\">\n",
       "      <th></th>\n",
       "      <th>credit_score</th>\n",
       "      <th>age</th>\n",
       "      <th>tenure</th>\n",
       "      <th>balance</th>\n",
       "      <th>num_of_products</th>\n",
       "      <th>has_cr_card</th>\n",
       "      <th>is_active_member</th>\n",
       "      <th>estimated_salary</th>\n",
       "      <th>geography_germany</th>\n",
       "      <th>geography_spain</th>\n",
       "      <th>gender_male</th>\n",
       "    </tr>\n",
       "  </thead>\n",
       "  <tbody>\n",
       "    <tr>\n",
       "      <td>2175</td>\n",
       "      <td>1.103256</td>\n",
       "      <td>-0.464724</td>\n",
       "      <td>1.402106</td>\n",
       "      <td>0.403722</td>\n",
       "      <td>0.818016</td>\n",
       "      <td>0</td>\n",
       "      <td>0</td>\n",
       "      <td>1.504384</td>\n",
       "      <td>1</td>\n",
       "      <td>0</td>\n",
       "      <td>0</td>\n",
       "    </tr>\n",
       "    <tr>\n",
       "      <td>1911</td>\n",
       "      <td>-0.576376</td>\n",
       "      <td>0.206127</td>\n",
       "      <td>1.402106</td>\n",
       "      <td>-1.227100</td>\n",
       "      <td>0.818016</td>\n",
       "      <td>1</td>\n",
       "      <td>0</td>\n",
       "      <td>-1.658912</td>\n",
       "      <td>0</td>\n",
       "      <td>0</td>\n",
       "      <td>1</td>\n",
       "    </tr>\n",
       "    <tr>\n",
       "      <td>5293</td>\n",
       "      <td>-0.483064</td>\n",
       "      <td>0.206127</td>\n",
       "      <td>1.710476</td>\n",
       "      <td>-1.227100</td>\n",
       "      <td>0.818016</td>\n",
       "      <td>1</td>\n",
       "      <td>1</td>\n",
       "      <td>1.141174</td>\n",
       "      <td>0</td>\n",
       "      <td>1</td>\n",
       "      <td>0</td>\n",
       "    </tr>\n",
       "    <tr>\n",
       "      <td>5741</td>\n",
       "      <td>0.605587</td>\n",
       "      <td>0.301963</td>\n",
       "      <td>1.402106</td>\n",
       "      <td>0.670858</td>\n",
       "      <td>-0.907150</td>\n",
       "      <td>0</td>\n",
       "      <td>1</td>\n",
       "      <td>-0.415298</td>\n",
       "      <td>0</td>\n",
       "      <td>0</td>\n",
       "      <td>1</td>\n",
       "    </tr>\n",
       "    <tr>\n",
       "      <td>4848</td>\n",
       "      <td>-0.161652</td>\n",
       "      <td>0.301963</td>\n",
       "      <td>-1.064852</td>\n",
       "      <td>1.122666</td>\n",
       "      <td>0.818016</td>\n",
       "      <td>0</td>\n",
       "      <td>1</td>\n",
       "      <td>1.108548</td>\n",
       "      <td>0</td>\n",
       "      <td>0</td>\n",
       "      <td>1</td>\n",
       "    </tr>\n",
       "  </tbody>\n",
       "</table>\n",
       "</div>"
      ],
      "text/plain": [
       "      credit_score       age    tenure   balance  num_of_products  \\\n",
       "2175      1.103256 -0.464724  1.402106  0.403722         0.818016   \n",
       "1911     -0.576376  0.206127  1.402106 -1.227100         0.818016   \n",
       "5293     -0.483064  0.206127  1.710476 -1.227100         0.818016   \n",
       "5741      0.605587  0.301963  1.402106  0.670858        -0.907150   \n",
       "4848     -0.161652  0.301963 -1.064852  1.122666         0.818016   \n",
       "\n",
       "      has_cr_card  is_active_member  estimated_salary  geography_germany  \\\n",
       "2175            0                 0          1.504384                  1   \n",
       "1911            1                 0         -1.658912                  0   \n",
       "5293            1                 1          1.141174                  0   \n",
       "5741            0                 1         -0.415298                  0   \n",
       "4848            0                 1          1.108548                  0   \n",
       "\n",
       "      geography_spain  gender_male  \n",
       "2175                0            0  \n",
       "1911                0            1  \n",
       "5293                1            0  \n",
       "5741                0            1  \n",
       "4848                0            1  "
      ]
     },
     "execution_count": 35,
     "metadata": {},
     "output_type": "execute_result"
    }
   ],
   "source": [
    "features_ohe_valid.head()"
   ]
  },
  {
   "cell_type": "code",
   "execution_count": 36,
   "metadata": {},
   "outputs": [
    {
     "data": {
      "text/html": [
       "<div>\n",
       "<style scoped>\n",
       "    .dataframe tbody tr th:only-of-type {\n",
       "        vertical-align: middle;\n",
       "    }\n",
       "\n",
       "    .dataframe tbody tr th {\n",
       "        vertical-align: top;\n",
       "    }\n",
       "\n",
       "    .dataframe thead th {\n",
       "        text-align: right;\n",
       "    }\n",
       "</style>\n",
       "<table border=\"1\" class=\"dataframe\">\n",
       "  <thead>\n",
       "    <tr style=\"text-align: right;\">\n",
       "      <th></th>\n",
       "      <th>credit_score</th>\n",
       "      <th>age</th>\n",
       "      <th>tenure</th>\n",
       "      <th>balance</th>\n",
       "      <th>num_of_products</th>\n",
       "      <th>has_cr_card</th>\n",
       "      <th>is_active_member</th>\n",
       "      <th>estimated_salary</th>\n",
       "      <th>geography_germany</th>\n",
       "      <th>geography_spain</th>\n",
       "      <th>gender_male</th>\n",
       "    </tr>\n",
       "  </thead>\n",
       "  <tbody>\n",
       "    <tr>\n",
       "      <td>1855</td>\n",
       "      <td>1.393562</td>\n",
       "      <td>0.781142</td>\n",
       "      <td>1.402106</td>\n",
       "      <td>0.726651</td>\n",
       "      <td>-0.907150</td>\n",
       "      <td>1</td>\n",
       "      <td>1</td>\n",
       "      <td>-1.172193</td>\n",
       "      <td>0</td>\n",
       "      <td>0</td>\n",
       "      <td>0</td>\n",
       "    </tr>\n",
       "    <tr>\n",
       "      <td>1741</td>\n",
       "      <td>0.999575</td>\n",
       "      <td>-1.327246</td>\n",
       "      <td>-0.139743</td>\n",
       "      <td>-1.227100</td>\n",
       "      <td>0.818016</td>\n",
       "      <td>0</td>\n",
       "      <td>1</td>\n",
       "      <td>-1.028636</td>\n",
       "      <td>0</td>\n",
       "      <td>0</td>\n",
       "      <td>0</td>\n",
       "    </tr>\n",
       "    <tr>\n",
       "      <td>5910</td>\n",
       "      <td>-1.758340</td>\n",
       "      <td>0.014455</td>\n",
       "      <td>0.476997</td>\n",
       "      <td>-1.227100</td>\n",
       "      <td>-0.907150</td>\n",
       "      <td>1</td>\n",
       "      <td>1</td>\n",
       "      <td>-1.331995</td>\n",
       "      <td>0</td>\n",
       "      <td>0</td>\n",
       "      <td>0</td>\n",
       "    </tr>\n",
       "    <tr>\n",
       "      <td>5294</td>\n",
       "      <td>-1.468033</td>\n",
       "      <td>-0.656395</td>\n",
       "      <td>1.402106</td>\n",
       "      <td>1.505227</td>\n",
       "      <td>-0.907150</td>\n",
       "      <td>1</td>\n",
       "      <td>1</td>\n",
       "      <td>-1.384960</td>\n",
       "      <td>1</td>\n",
       "      <td>0</td>\n",
       "      <td>1</td>\n",
       "    </tr>\n",
       "    <tr>\n",
       "      <td>2118</td>\n",
       "      <td>-1.976070</td>\n",
       "      <td>-1.135574</td>\n",
       "      <td>0.785366</td>\n",
       "      <td>-1.227100</td>\n",
       "      <td>0.818016</td>\n",
       "      <td>1</td>\n",
       "      <td>0</td>\n",
       "      <td>0.965152</td>\n",
       "      <td>0</td>\n",
       "      <td>0</td>\n",
       "      <td>0</td>\n",
       "    </tr>\n",
       "  </tbody>\n",
       "</table>\n",
       "</div>"
      ],
      "text/plain": [
       "      credit_score       age    tenure   balance  num_of_products  \\\n",
       "1855      1.393562  0.781142  1.402106  0.726651        -0.907150   \n",
       "1741      0.999575 -1.327246 -0.139743 -1.227100         0.818016   \n",
       "5910     -1.758340  0.014455  0.476997 -1.227100        -0.907150   \n",
       "5294     -1.468033 -0.656395  1.402106  1.505227        -0.907150   \n",
       "2118     -1.976070 -1.135574  0.785366 -1.227100         0.818016   \n",
       "\n",
       "      has_cr_card  is_active_member  estimated_salary  geography_germany  \\\n",
       "1855            1                 1         -1.172193                  0   \n",
       "1741            0                 1         -1.028636                  0   \n",
       "5910            1                 1         -1.331995                  0   \n",
       "5294            1                 1         -1.384960                  1   \n",
       "2118            1                 0          0.965152                  0   \n",
       "\n",
       "      geography_spain  gender_male  \n",
       "1855                0            0  \n",
       "1741                0            0  \n",
       "5910                0            0  \n",
       "5294                0            1  \n",
       "2118                0            0  "
      ]
     },
     "execution_count": 36,
     "metadata": {},
     "output_type": "execute_result"
    }
   ],
   "source": [
    "features_ohe_test.head()"
   ]
  },
  {
   "cell_type": "code",
   "execution_count": 37,
   "metadata": {},
   "outputs": [
    {
     "data": {
      "text/plain": [
       "0    0.797333\n",
       "1    0.202667\n",
       "Name: exited, dtype: float64"
      ]
     },
     "execution_count": 37,
     "metadata": {},
     "output_type": "execute_result"
    }
   ],
   "source": [
    "target_ohe_train.value_counts(normalize = True)"
   ]
  },
  {
   "cell_type": "code",
   "execution_count": 38,
   "metadata": {},
   "outputs": [
    {
     "data": {
      "text/plain": [
       "0    0.813\n",
       "1    0.187\n",
       "Name: exited, dtype: float64"
      ]
     },
     "execution_count": 38,
     "metadata": {},
     "output_type": "execute_result"
    }
   ],
   "source": [
    "target_ohe_valid.value_counts(normalize = True)"
   ]
  },
  {
   "cell_type": "markdown",
   "metadata": {},
   "source": [
    "У выборок явный дисбаланс, при обучении моделей ожидаем явный перекос к одному из вариантов ответа."
   ]
  },
  {
   "cell_type": "markdown",
   "metadata": {},
   "source": [
    "<a id='Применение логистической регрессии'></a>"
   ]
  },
  {
   "cell_type": "markdown",
   "metadata": {},
   "source": [
    "### <p style=\"text-align:center\"> Применение логистической регрессии </p>"
   ]
  },
  {
   "cell_type": "code",
   "execution_count": 39,
   "metadata": {},
   "outputs": [
    {
     "name": "stdout",
     "output_type": "stream",
     "text": [
      "Точность модели: 0.824\n"
     ]
    }
   ],
   "source": [
    "Log_Reg = LogisticRegression(solver = 'liblinear')\n",
    "Log_Reg_score = Log_Reg.fit(features_ohe_train, target_ohe_train).score(features_ohe_valid, target_ohe_valid)\n",
    "print('Точность модели:', Log_Reg_score)"
   ]
  },
  {
   "cell_type": "markdown",
   "metadata": {},
   "source": [
    "Проверим насколько наша модель лучше дамми модели, а также посмотрим, какие у нашей модели ответы."
   ]
  },
  {
   "cell_type": "code",
   "execution_count": 40,
   "metadata": {},
   "outputs": [
    {
     "data": {
      "text/plain": [
       "(2000,)"
      ]
     },
     "execution_count": 40,
     "metadata": {},
     "output_type": "execute_result"
    }
   ],
   "source": [
    "const_model = pd.Series([0]*len(target_ohe_valid))\n",
    "const_model.shape"
   ]
  },
  {
   "cell_type": "code",
   "execution_count": 41,
   "metadata": {},
   "outputs": [
    {
     "name": "stdout",
     "output_type": "stream",
     "text": [
      "Точность дамми модели: 0.813\n"
     ]
    }
   ],
   "source": [
    "const_model_score = accuracy_score(target_ohe_valid, const_model)\n",
    "print('Точность дамми модели:', const_model_score)"
   ]
  },
  {
   "cell_type": "code",
   "execution_count": 42,
   "metadata": {},
   "outputs": [
    {
     "name": "stdout",
     "output_type": "stream",
     "text": [
      "Доля ответов: 0    0.93\n",
      "1    0.07\n",
      "dtype: float64\n"
     ]
    }
   ],
   "source": [
    "Log_Reg_proportion = pd.Series(Log_Reg.predict(features_ohe_valid)).value_counts(normalize = 1)\n",
    "print('Доля ответов:', Log_Reg_proportion)"
   ]
  },
  {
   "cell_type": "markdown",
   "metadata": {},
   "source": [
    "Как мы видим, точность нашей модели на валидации лишь немного выше точности дамми модели, при этом в абсолютном большинстве случаев модель предсказывает один ответ. Посмотрим на метрики для лучшего понимания проблемы."
   ]
  },
  {
   "cell_type": "code",
   "execution_count": 43,
   "metadata": {},
   "outputs": [],
   "source": [
    "def metrics(target_valid, prediction):\n",
    "    print('Точность', precision_score(target_valid, prediction))\n",
    "    print('Полнота', recall_score(target_valid, prediction))\n",
    "    print('F1-мера', f1_score(target_valid, prediction))\n",
    "    print('AUC-ROC', roc_auc_score(target_valid, prediction))"
   ]
  },
  {
   "cell_type": "code",
   "execution_count": 44,
   "metadata": {},
   "outputs": [
    {
     "data": {
      "text/plain": [
       "array([[1567,   59],\n",
       "       [ 293,   81]])"
      ]
     },
     "execution_count": 44,
     "metadata": {},
     "output_type": "execute_result"
    }
   ],
   "source": [
    "Log_Reg_predict = Log_Reg.predict(features_ohe_valid)\n",
    "confusion_matrix(target_ohe_valid, Log_Reg_predict)"
   ]
  },
  {
   "cell_type": "code",
   "execution_count": 45,
   "metadata": {},
   "outputs": [
    {
     "name": "stdout",
     "output_type": "stream",
     "text": [
      "Точность 0.5785714285714286\n",
      "Полнота 0.21657754010695188\n",
      "F1-мера 0.3151750972762646\n",
      "AUC-ROC 0.5901460886266617\n"
     ]
    }
   ],
   "source": [
    "metrics(target_ohe_valid, Log_Reg_predict)"
   ]
  },
  {
   "cell_type": "markdown",
   "metadata": {},
   "source": [
    "Видно, что у нашей модели низкое значение F1-меры, на которую в первую очередь влияет полнота. На матрице ошибок видно, что модель много ошибается, большое количество ложноотрицательных ответов. Значение AUC-ROC также невысокое."
   ]
  },
  {
   "cell_type": "code",
   "execution_count": 46,
   "metadata": {},
   "outputs": [
    {
     "data": {
      "image/png": "[encoded data removed]",
      "text/plain": [
       "<Figure size 432x288 with 1 Axes>"
      ]
     },
     "metadata": {
      "needs_background": "light"
     },
     "output_type": "display_data"
    }
   ],
   "source": [
    "probabilities_valid = Log_Reg.predict_proba(features_ohe_valid)\n",
    "probabilities_one_valid = probabilities_valid[:, 1]\n",
    "fpr, tpr, thresholds = roc_curve(target_ohe_valid, probabilities_one_valid) \n",
    "\n",
    "plt.plot([0, 1], [0, 1], linestyle='--')\n",
    "\n",
    "plt.plot(fpr, tpr)\n",
    "plt.xlim([0.0, 1.0])\n",
    "plt.ylim([0.0, 1.0])\n",
    "plt.xlabel('False Positive Rate')\n",
    "plt.ylabel('True Positive Rate')\n",
    "plt.title('ROC-кривая')\n",
    "plt.show() "
   ]
  },
  {
   "cell_type": "markdown",
   "metadata": {},
   "source": [
    "Теперь попробуем сбалансировать классы."
   ]
  },
  {
   "cell_type": "code",
   "execution_count": 47,
   "metadata": {},
   "outputs": [
    {
     "name": "stdout",
     "output_type": "stream",
     "text": [
      "Точность модели: 0.7215\n"
     ]
    }
   ],
   "source": [
    "Log_Reg = LogisticRegression(solver = 'liblinear', class_weight='balanced')\n",
    "Log_Reg_score = Log_Reg.fit(features_ohe_train, target_ohe_train).score(features_ohe_valid, target_ohe_valid)\n",
    "print('Точность модели:', Log_Reg_score)"
   ]
  },
  {
   "cell_type": "markdown",
   "metadata": {},
   "source": [
    "Теперь точность модели хуже чем у дамми-модели."
   ]
  },
  {
   "cell_type": "code",
   "execution_count": 48,
   "metadata": {},
   "outputs": [
    {
     "data": {
      "text/plain": [
       "array([[1164,  462],\n",
       "       [  95,  279]])"
      ]
     },
     "execution_count": 48,
     "metadata": {},
     "output_type": "execute_result"
    }
   ],
   "source": [
    "Log_Reg_predict = Log_Reg.predict(features_ohe_valid)\n",
    "confusion_matrix(target_ohe_valid, Log_Reg_predict)"
   ]
  },
  {
   "cell_type": "code",
   "execution_count": 49,
   "metadata": {},
   "outputs": [
    {
     "name": "stdout",
     "output_type": "stream",
     "text": [
      "Точность 0.3765182186234818\n",
      "Полнота 0.7459893048128342\n",
      "F1-мера 0.5004484304932735\n",
      "AUC-ROC 0.7309282317422106\n"
     ]
    }
   ],
   "source": [
    "metrics(target_ohe_valid, Log_Reg_predict)"
   ]
  },
  {
   "cell_type": "markdown",
   "metadata": {},
   "source": [
    "Значение F1-меры выросло, однако упала резко точность, теперь много ложноположительных ответов. Увеличилось значение AUC-ROC."
   ]
  },
  {
   "cell_type": "code",
   "execution_count": 50,
   "metadata": {},
   "outputs": [
    {
     "data": {
      "image/png": "[encoded data removed]",
      "text/plain": [
       "<Figure size 432x288 with 1 Axes>"
      ]
     },
     "metadata": {
      "needs_background": "light"
     },
     "output_type": "display_data"
    }
   ],
   "source": [
    "probabilities_valid = Log_Reg.predict_proba(features_ohe_valid)\n",
    "probabilities_one_valid = probabilities_valid[:, 1]\n",
    "fpr, tpr, thresholds = roc_curve(target_ohe_valid, probabilities_one_valid) \n",
    "\n",
    "plt.plot([0, 1], [0, 1], linestyle='--')\n",
    "\n",
    "plt.plot(fpr, tpr)\n",
    "plt.xlim([0.0, 1.0])\n",
    "plt.ylim([0.0, 1.0])\n",
    "plt.xlabel('False Positive Rate')\n",
    "plt.ylabel('True Positive Rate')\n",
    "plt.title('ROC-кривая')\n",
    "plt.show() "
   ]
  },
  {
   "cell_type": "markdown",
   "metadata": {},
   "source": [
    "Попробуем увеличить выборку с помощью техники upsampling."
   ]
  },
  {
   "cell_type": "code",
   "execution_count": 51,
   "metadata": {},
   "outputs": [],
   "source": [
    "def upsample(features, target, repeat):\n",
    "    features_zeros = features[target == 0]\n",
    "    features_ones = features[target == 1]\n",
    "    target_zeros = target[target == 0]\n",
    "    target_ones = target[target == 1]\n",
    "\n",
    "    features_upsampled = pd.concat([features_zeros] + [features_ones] * repeat)\n",
    "    target_upsampled = pd.concat([target_zeros] + [target_ones] * repeat)\n",
    "    \n",
    "    features_upsampled, target_upsampled = shuffle(features_upsampled, target_upsampled, random_state=42)\n",
    "    \n",
    "    return features_upsampled, target_upsampled"
   ]
  },
  {
   "cell_type": "code",
   "execution_count": 52,
   "metadata": {},
   "outputs": [],
   "source": [
    "features_ohe_train_upsampled, target_ohe_train_upsampled = upsample(features_ohe_train, target_ohe_train, 4)"
   ]
  },
  {
   "cell_type": "code",
   "execution_count": 53,
   "metadata": {},
   "outputs": [
    {
     "name": "stdout",
     "output_type": "stream",
     "text": [
      "1    0.504146\n",
      "0    0.495854\n",
      "Name: exited, dtype: float64\n"
     ]
    }
   ],
   "source": [
    "print(target_ohe_train_upsampled.value_counts(normalize=True))"
   ]
  },
  {
   "cell_type": "code",
   "execution_count": 54,
   "metadata": {},
   "outputs": [
    {
     "name": "stdout",
     "output_type": "stream",
     "text": [
      "Точность модели после upsampling: 0.7215\n"
     ]
    }
   ],
   "source": [
    "Log_Reg = LogisticRegression(solver = 'liblinear')\n",
    "Log_Reg_score = Log_Reg.fit(features_ohe_train_upsampled, target_ohe_train_upsampled).score(features_ohe_valid, \n",
    "                                                                                            target_ohe_valid)\n",
    "print('Точность модели после upsampling:', Log_Reg_score)"
   ]
  },
  {
   "cell_type": "markdown",
   "metadata": {},
   "source": [
    "Точность модели еще немного упала. Посмотрим на метрики."
   ]
  },
  {
   "cell_type": "code",
   "execution_count": 55,
   "metadata": {},
   "outputs": [
    {
     "data": {
      "text/plain": [
       "array([[1159,  467],\n",
       "       [  90,  284]])"
      ]
     },
     "execution_count": 55,
     "metadata": {},
     "output_type": "execute_result"
    }
   ],
   "source": [
    "Log_Reg_predict = Log_Reg.predict(features_ohe_valid)\n",
    "confusion_matrix(target_ohe_valid, Log_Reg_predict)"
   ]
  },
  {
   "cell_type": "code",
   "execution_count": 56,
   "metadata": {},
   "outputs": [
    {
     "name": "stdout",
     "output_type": "stream",
     "text": [
      "Точность 0.3781624500665779\n",
      "Полнота 0.7593582887700535\n",
      "F1-мера 0.5048888888888889\n",
      "AUC-ROC 0.7360752083456663\n"
     ]
    }
   ],
   "source": [
    "metrics(target_ohe_valid, Log_Reg_predict)"
   ]
  },
  {
   "cell_type": "code",
   "execution_count": 57,
   "metadata": {},
   "outputs": [
    {
     "data": {
      "image/png": "[encoded data removed]",
      "text/plain": [
       "<Figure size 432x288 with 1 Axes>"
      ]
     },
     "metadata": {
      "needs_background": "light"
     },
     "output_type": "display_data"
    }
   ],
   "source": [
    "probabilities_valid = Log_Reg.predict_proba(features_ohe_valid)\n",
    "probabilities_one_valid = probabilities_valid[:, 1]\n",
    "fpr, tpr, thresholds = roc_curve(target_ohe_valid, probabilities_one_valid) \n",
    "\n",
    "plt.plot([0, 1], [0, 1], linestyle='--')\n",
    "\n",
    "plt.plot(fpr, tpr)\n",
    "plt.xlim([0.0, 1.0])\n",
    "plt.ylim([0.0, 1.0])\n",
    "plt.xlabel('False Positive Rate')\n",
    "plt.ylabel('True Positive Rate')\n",
    "plt.title('ROC-кривая')\n",
    "plt.show() "
   ]
  },
  {
   "cell_type": "markdown",
   "metadata": {},
   "source": [
    "Качество модели осталось примерно прежним, попробуем сдвинуть порог классификации."
   ]
  },
  {
   "cell_type": "code",
   "execution_count": 58,
   "metadata": {},
   "outputs": [
    {
     "name": "stdout",
     "output_type": "stream",
     "text": [
      "Порог = 0.40 | Точность = 0.301, Полнота = 0.856, F1-мера = 0.446\n",
      "Порог = 0.42 | Точность = 0.316, Полнота = 0.840, F1-мера = 0.459\n",
      "Порог = 0.44 | Точность = 0.331, Полнота = 0.824, F1-мера = 0.472\n",
      "Порог = 0.46 | Точность = 0.343, Полнота = 0.797, F1-мера = 0.479\n",
      "Порог = 0.48 | Точность = 0.359, Полнота = 0.783, F1-мера = 0.492\n",
      "Порог = 0.50 | Точность = 0.378, Полнота = 0.759, F1-мера = 0.505\n",
      "Порог = 0.52 | Точность = 0.387, Полнота = 0.722, F1-мера = 0.504\n",
      "Порог = 0.54 | Точность = 0.401, Полнота = 0.687, F1-мера = 0.506\n",
      "Порог = 0.56 | Точность = 0.418, Полнота = 0.650, F1-мера = 0.508\n",
      "Порог = 0.58 | Точность = 0.425, Полнота = 0.610, F1-мера = 0.501\n"
     ]
    }
   ],
   "source": [
    "for threshold in np.arange(0.4, 0.6, 0.02):\n",
    "    predicted_valid = probabilities_one_valid > threshold \n",
    "    precision = precision_score(target_ohe_valid, predicted_valid)\n",
    "    recall = recall_score(target_ohe_valid, predicted_valid)\n",
    "    f1 = 2 * precision * recall / (precision + recall) \n",
    "    print(f'Порог = {threshold:.2f} | Точность = {precision:.3f}, Полнота = {recall:.3f}, F1-мера = {f1:.3f}')"
   ]
  },
  {
   "cell_type": "markdown",
   "metadata": {},
   "source": [
    "Не удалось достигнуть увеличения метрики. Попробуем найти наилучшие параметры."
   ]
  },
  {
   "cell_type": "markdown",
   "metadata": {},
   "source": [
    "<a id='Улучшение качества модели 1'></a>"
   ]
  },
  {
   "cell_type": "markdown",
   "metadata": {},
   "source": [
    "### <p style=\"text-align:center\"> Улучшение качества модели </p>"
   ]
  },
  {
   "cell_type": "markdown",
   "metadata": {},
   "source": [
    "С помощью прямого перебора попробуем подобрать оптимальные гиперпараметры для нашей модели."
   ]
  },
  {
   "cell_type": "code",
   "execution_count": 59,
   "metadata": {},
   "outputs": [
    {
     "name": "stdout",
     "output_type": "stream",
     "text": [
      "Accuracy of the best model, validation: 0.7215\n",
      "Time spent: 8.24 sec\n"
     ]
    }
   ],
   "source": [
    "start = timeit.default_timer()\n",
    "best_model = None\n",
    "best_result = 0\n",
    "for С in range(1, 11, 2):\n",
    "    for solver in ['newton-cg', 'sag', 'lbfgs', 'liblinear']:\n",
    "        \n",
    "        Log_Reg = LogisticRegression(random_state=42, C=С, solver=solver) \n",
    "        \n",
    "        Log_Reg.fit(features_ohe_train_upsampled, target_ohe_train_upsampled)\n",
    "        \n",
    "        result = Log_Reg.score(features_ohe_valid, target_ohe_valid) \n",
    "        if result > best_result:\n",
    "            best_model = Log_Reg\n",
    "            best_result = result\n",
    "stop = timeit.default_timer()\n",
    "print(\"Accuracy of the best model, validation:\", best_result)\n",
    "print(f'Time spent: {stop - start:.2f} sec')"
   ]
  },
  {
   "cell_type": "code",
   "execution_count": 60,
   "metadata": {},
   "outputs": [
    {
     "data": {
      "text/plain": [
       "array([[1159,  467],\n",
       "       [  90,  284]])"
      ]
     },
     "execution_count": 60,
     "metadata": {},
     "output_type": "execute_result"
    }
   ],
   "source": [
    "Log_Reg_predict = Log_Reg.predict(features_ohe_valid)\n",
    "confusion_matrix(target_ohe_valid, Log_Reg_predict)"
   ]
  },
  {
   "cell_type": "code",
   "execution_count": 61,
   "metadata": {},
   "outputs": [
    {
     "name": "stdout",
     "output_type": "stream",
     "text": [
      "Точность 0.3781624500665779\n",
      "Полнота 0.7593582887700535\n",
      "F1-мера 0.5048888888888889\n",
      "AUC-ROC 0.7360752083456663\n"
     ]
    }
   ],
   "source": [
    "metrics(target_ohe_valid, Log_Reg_predict)"
   ]
  },
  {
   "cell_type": "markdown",
   "metadata": {},
   "source": [
    "К сожалению придется признать, что решить данную задачу, используя линейную регрессию, у нас не получится. Попробуем случайные леса."
   ]
  },
  {
   "cell_type": "markdown",
   "metadata": {},
   "source": [
    "## <p style=\"text-align:center\"> Создание модели случайного леса</p>"
   ]
  },
  {
   "cell_type": "markdown",
   "metadata": {},
   "source": [
    "Создадим модель случайного леса, попробуем добиться необходимой точности."
   ]
  },
  {
   "cell_type": "markdown",
   "metadata": {},
   "source": [
    "<a id='Разделение датасета на выборки, исследование баланса классов 2'></a>"
   ]
  },
  {
   "cell_type": "markdown",
   "metadata": {},
   "source": [
    "### <p style=\"text-align:center\"> Разделение датасета на выборки, исследование баланса классов </p>"
   ]
  },
  {
   "cell_type": "code",
   "execution_count": 62,
   "metadata": {},
   "outputs": [],
   "source": [
    "features_ordinal = df_ordinal.drop('exited', axis=1)\n",
    "target_ordinal = df_ordinal['exited']"
   ]
  },
  {
   "cell_type": "code",
   "execution_count": 63,
   "metadata": {},
   "outputs": [],
   "source": [
    "features_ordinal_train, features_ordinal_test, target_ordinal_train, target_ordinal_test = train_test_split(\n",
    "    features_ordinal, target_ordinal, test_size=0.4, random_state=42)\n",
    "features_ordinal_test, features_ordinal_valid, target_ordinal_test, target_ordinal_valid = train_test_split(\n",
    "    features_ordinal_test, target_ordinal_test, test_size=0.5, random_state=42)"
   ]
  },
  {
   "cell_type": "markdown",
   "metadata": {},
   "source": [
    "Проверим разбиение."
   ]
  },
  {
   "cell_type": "code",
   "execution_count": 64,
   "metadata": {},
   "outputs": [
    {
     "name": "stdout",
     "output_type": "stream",
     "text": [
      "Признаки обучающей выборки: (6000, 10) Целевой признак обучающей выборки: (6000,) Признаки валидационной выборки: (2000, 10) Целевой признак валидационной выборки: (2000,) Признаки тестовой выборки: (2000, 10) Целевой признак тестовой выборки: (2000,)\n"
     ]
    }
   ],
   "source": [
    "print('Признаки обучающей выборки:',features_ordinal_train.shape,\n",
    "      'Целевой признак обучающей выборки:', target_ordinal_train.shape, \n",
    "      'Признаки валидационной выборки:',features_ordinal_valid.shape,  \n",
    "      'Целевой признак валидационной выборки:', target_ordinal_valid.shape, \n",
    "      'Признаки тестовой выборки:', features_ordinal_test.shape,\n",
    "      'Целевой признак тестовой выборки:', target_ordinal_test.shape)"
   ]
  },
  {
   "cell_type": "code",
   "execution_count": 65,
   "metadata": {},
   "outputs": [
    {
     "data": {
      "text/plain": [
       "0.0    0.7955\n",
       "1.0    0.2045\n",
       "Name: exited, dtype: float64"
      ]
     },
     "execution_count": 65,
     "metadata": {},
     "output_type": "execute_result"
    }
   ],
   "source": [
    "target_ordinal_train.value_counts(normalize = True)"
   ]
  },
  {
   "cell_type": "code",
   "execution_count": 66,
   "metadata": {},
   "outputs": [
    {
     "data": {
      "text/plain": [
       "0.0    0.785\n",
       "1.0    0.215\n",
       "Name: exited, dtype: float64"
      ]
     },
     "execution_count": 66,
     "metadata": {},
     "output_type": "execute_result"
    }
   ],
   "source": [
    "target_ordinal_valid.value_counts(normalize = True)"
   ]
  },
  {
   "cell_type": "markdown",
   "metadata": {},
   "source": [
    "У выборок явный дисбаланс, при обучении моделей ожидаем явный перекос к одному из вариантов ответа."
   ]
  },
  {
   "cell_type": "markdown",
   "metadata": {},
   "source": [
    "<a id='Применение модели случайного леса'></a>"
   ]
  },
  {
   "cell_type": "markdown",
   "metadata": {},
   "source": [
    "### <p style=\"text-align:center\"> Применение модели случайного леса </p>"
   ]
  },
  {
   "cell_type": "code",
   "execution_count": 67,
   "metadata": {},
   "outputs": [
    {
     "name": "stdout",
     "output_type": "stream",
     "text": [
      "Точность модели: 0.8565\n"
     ]
    }
   ],
   "source": [
    "RF_clf = RandomForestClassifier(random_state=42)\n",
    "RF_clf_score = RF_clf.fit(features_ordinal_train, target_ordinal_train).score(features_ordinal_valid, target_ordinal_valid)\n",
    "print('Точность модели:', RF_clf_score)"
   ]
  },
  {
   "cell_type": "markdown",
   "metadata": {},
   "source": [
    "Проверим насколько наша модель лучше дамми модели, а также посмотрим, какие у нашей модели ответы."
   ]
  },
  {
   "cell_type": "code",
   "execution_count": 68,
   "metadata": {},
   "outputs": [
    {
     "data": {
      "text/plain": [
       "(2000,)"
      ]
     },
     "execution_count": 68,
     "metadata": {},
     "output_type": "execute_result"
    }
   ],
   "source": [
    "const_model = pd.Series([0]*len(target_ordinal_valid))\n",
    "const_model.shape"
   ]
  },
  {
   "cell_type": "code",
   "execution_count": 69,
   "metadata": {},
   "outputs": [
    {
     "name": "stdout",
     "output_type": "stream",
     "text": [
      "Точность дамми модели: 0.785\n"
     ]
    }
   ],
   "source": [
    "const_model_score = accuracy_score(target_ordinal_valid, const_model)\n",
    "print('Точность дамми модели:', const_model_score)"
   ]
  },
  {
   "cell_type": "code",
   "execution_count": 70,
   "metadata": {},
   "outputs": [
    {
     "name": "stdout",
     "output_type": "stream",
     "text": [
      "Доля ответов: 0.0    0.8725\n",
      "1.0    0.1275\n",
      "dtype: float64\n"
     ]
    }
   ],
   "source": [
    "RF_clf_proportion = pd.Series(RF_clf.predict(features_ordinal_valid)).value_counts(normalize = 1)\n",
    "print('Доля ответов:', RF_clf_proportion)"
   ]
  },
  {
   "cell_type": "markdown",
   "metadata": {},
   "source": [
    "Как мы видим, точность нашей модели на валидации лишь немного выше точности дамми модели, однако все равно присутствует перекос в ответах. Посмотрим на метрики для лучшего понимания проблемы."
   ]
  },
  {
   "cell_type": "code",
   "execution_count": 71,
   "metadata": {},
   "outputs": [
    {
     "data": {
      "text/plain": [
       "array([[1514,   56],\n",
       "       [ 231,  199]])"
      ]
     },
     "execution_count": 71,
     "metadata": {},
     "output_type": "execute_result"
    }
   ],
   "source": [
    "RF_clf_predict = RF_clf.predict(features_ordinal_valid)\n",
    "confusion_matrix(target_ordinal_valid, RF_clf_predict)"
   ]
  },
  {
   "cell_type": "code",
   "execution_count": 72,
   "metadata": {},
   "outputs": [
    {
     "name": "stdout",
     "output_type": "stream",
     "text": [
      "Точность 0.7803921568627451\n",
      "Полнота 0.4627906976744186\n",
      "F1-мера 0.5810218978102191\n",
      "AUC-ROC 0.7135609539327508\n"
     ]
    }
   ],
   "source": [
    "metrics(target_ordinal_valid, RF_clf_predict)"
   ]
  },
  {
   "cell_type": "markdown",
   "metadata": {},
   "source": [
    "Видно, что у нашей модели низкое значение F1-меры, на которую в первую очередь влияет полнота. На матрице ошибок видно, что модель много ошибается, большое количество ложноотрицательных ответов. Значение AUC-ROC также невысокое. Однако следут отметить, что эта модель уже работает лучше чем логистическая регрессия."
   ]
  },
  {
   "cell_type": "code",
   "execution_count": 73,
   "metadata": {},
   "outputs": [
    {
     "data": {
      "image/png": "[encoded data removed]",
      "text/plain": [
       "<Figure size 432x288 with 1 Axes>"
      ]
     },
     "metadata": {
      "needs_background": "light"
     },
     "output_type": "display_data"
    }
   ],
   "source": [
    "probabilities_valid = RF_clf.predict_proba(features_ordinal_valid)\n",
    "probabilities_one_valid = probabilities_valid[:, 1]\n",
    "fpr, tpr, thresholds = roc_curve(target_ordinal_valid, probabilities_one_valid) \n",
    "\n",
    "plt.plot([0, 1], [0, 1], linestyle='--')\n",
    "\n",
    "plt.plot(fpr, tpr)\n",
    "plt.xlim([0.0, 1.0])\n",
    "plt.ylim([0.0, 1.0])\n",
    "plt.xlabel('False Positive Rate')\n",
    "plt.ylabel('True Positive Rate')\n",
    "plt.title('ROC-кривая')\n",
    "plt.show() "
   ]
  },
  {
   "cell_type": "markdown",
   "metadata": {},
   "source": [
    "Теперь попробуем сбалансировать классы."
   ]
  },
  {
   "cell_type": "code",
   "execution_count": 74,
   "metadata": {},
   "outputs": [
    {
     "name": "stdout",
     "output_type": "stream",
     "text": [
      "Точность модели: 0.8455\n"
     ]
    }
   ],
   "source": [
    "RF_clf = RandomForestClassifier(random_state=42, class_weight='balanced')\n",
    "RF_clf_score = RF_clf.fit(features_ordinal_train, target_ordinal_train).score(features_ordinal_valid, target_ordinal_valid)\n",
    "print('Точность модели:', RF_clf_score)"
   ]
  },
  {
   "cell_type": "markdown",
   "metadata": {},
   "source": [
    "Точность модели практически не изменилась."
   ]
  },
  {
   "cell_type": "code",
   "execution_count": 75,
   "metadata": {},
   "outputs": [
    {
     "data": {
      "text/plain": [
       "array([[1519,   51],\n",
       "       [ 258,  172]])"
      ]
     },
     "execution_count": 75,
     "metadata": {},
     "output_type": "execute_result"
    }
   ],
   "source": [
    "RF_clf_predict = RF_clf.predict(features_ordinal_valid)\n",
    "confusion_matrix(target_ordinal_valid, RF_clf_predict)"
   ]
  },
  {
   "cell_type": "code",
   "execution_count": 76,
   "metadata": {},
   "outputs": [
    {
     "name": "stdout",
     "output_type": "stream",
     "text": [
      "Точность 0.7713004484304933\n",
      "Полнота 0.4\n",
      "F1-мера 0.5267993874425728\n",
      "AUC-ROC 0.6837579617834394\n"
     ]
    }
   ],
   "source": [
    "metrics(target_ordinal_valid, RF_clf_predict)"
   ]
  },
  {
   "cell_type": "markdown",
   "metadata": {},
   "source": [
    "Значение F1-меры практически не изменилось."
   ]
  },
  {
   "cell_type": "code",
   "execution_count": 77,
   "metadata": {},
   "outputs": [
    {
     "data": {
      "image/png": "[encoded data removed]",
      "text/plain": [
       "<Figure size 432x288 with 1 Axes>"
      ]
     },
     "metadata": {
      "needs_background": "light"
     },
     "output_type": "display_data"
    }
   ],
   "source": [
    "probabilities_valid = RF_clf.predict_proba(features_ordinal_valid)\n",
    "probabilities_one_valid = probabilities_valid[:, 1]\n",
    "fpr, tpr, thresholds = roc_curve(target_ordinal_valid, probabilities_one_valid) \n",
    "\n",
    "plt.plot([0, 1], [0, 1], linestyle='--')\n",
    "\n",
    "plt.plot(fpr, tpr)\n",
    "plt.xlim([0.0, 1.0])\n",
    "plt.ylim([0.0, 1.0])\n",
    "plt.xlabel('False Positive Rate')\n",
    "plt.ylabel('True Positive Rate')\n",
    "plt.title('ROC-кривая')\n",
    "plt.show() "
   ]
  },
  {
   "cell_type": "markdown",
   "metadata": {},
   "source": [
    "Попробуем увеличить выборку с помощью техники upsampling."
   ]
  },
  {
   "cell_type": "code",
   "execution_count": 78,
   "metadata": {},
   "outputs": [],
   "source": [
    "features_ordinal_train_upsampled, target_ordinal_train_upsampled = upsample(features_ordinal_train, target_ordinal_train, 4)"
   ]
  },
  {
   "cell_type": "code",
   "execution_count": 79,
   "metadata": {},
   "outputs": [
    {
     "name": "stdout",
     "output_type": "stream",
     "text": [
      "1.0    0.506972\n",
      "0.0    0.493028\n",
      "Name: exited, dtype: float64\n"
     ]
    }
   ],
   "source": [
    "print(target_ordinal_train_upsampled.value_counts(normalize=True))"
   ]
  },
  {
   "cell_type": "code",
   "execution_count": 80,
   "metadata": {},
   "outputs": [
    {
     "name": "stdout",
     "output_type": "stream",
     "text": [
      "Точность модели после upsampling: 0.8395\n"
     ]
    }
   ],
   "source": [
    "RF_clf = RandomForestClassifier(random_state=42)\n",
    "RF_clf_score = RF_clf.fit(features_ordinal_train_upsampled, target_ordinal_train_upsampled).score(features_ordinal_valid, \n",
    "                                                                                                  target_ordinal_valid)\n",
    "print('Точность модели после upsampling:', RF_clf_score)"
   ]
  },
  {
   "cell_type": "markdown",
   "metadata": {},
   "source": [
    "Точность модели еще немного упала. Посмотрим на метрики."
   ]
  },
  {
   "cell_type": "code",
   "execution_count": 81,
   "metadata": {},
   "outputs": [
    {
     "data": {
      "text/plain": [
       "array([[1457,  113],\n",
       "       [ 208,  222]])"
      ]
     },
     "execution_count": 81,
     "metadata": {},
     "output_type": "execute_result"
    }
   ],
   "source": [
    "RF_clf_predict = RF_clf.predict(features_ordinal_valid)\n",
    "confusion_matrix(target_ordinal_valid, RF_clf_predict)"
   ]
  },
  {
   "cell_type": "code",
   "execution_count": 82,
   "metadata": {},
   "outputs": [
    {
     "name": "stdout",
     "output_type": "stream",
     "text": [
      "Точность 0.6626865671641791\n",
      "Полнота 0.5162790697674419\n",
      "F1-мера 0.580392156862745\n",
      "AUC-ROC 0.7221522737372241\n"
     ]
    }
   ],
   "source": [
    "metrics(target_ordinal_valid, RF_clf_predict)"
   ]
  },
  {
   "cell_type": "code",
   "execution_count": 83,
   "metadata": {},
   "outputs": [
    {
     "data": {
      "image/png": "[encoded data removed]",
      "text/plain": [
       "<Figure size 432x288 with 1 Axes>"
      ]
     },
     "metadata": {
      "needs_background": "light"
     },
     "output_type": "display_data"
    }
   ],
   "source": [
    "probabilities_valid = RF_clf.predict_proba(features_ordinal_valid)\n",
    "probabilities_one_valid = probabilities_valid[:, 1]\n",
    "fpr, tpr, thresholds = roc_curve(target_ordinal_valid, probabilities_one_valid) \n",
    "\n",
    "plt.plot([0, 1], [0, 1], linestyle='--')\n",
    "\n",
    "plt.plot(fpr, tpr)\n",
    "plt.xlim([0.0, 1.0])\n",
    "plt.ylim([0.0, 1.0])\n",
    "plt.xlabel('False Positive Rate')\n",
    "plt.ylabel('True Positive Rate')\n",
    "plt.title('ROC-кривая')\n",
    "plt.show() "
   ]
  },
  {
   "cell_type": "markdown",
   "metadata": {},
   "source": [
    "Качество модели увеличилось, но пока не соответствует требуемому. Попробуем сдвинуть порог классификации."
   ]
  },
  {
   "cell_type": "code",
   "execution_count": 84,
   "metadata": {},
   "outputs": [
    {
     "name": "stdout",
     "output_type": "stream",
     "text": [
      "Порог = 0.40 | Точность = 0.581, Полнота = 0.600, F1-мера = 0.590\n",
      "Порог = 0.42 | Точность = 0.581, Полнота = 0.600, F1-мера = 0.590\n",
      "Порог = 0.44 | Точность = 0.581, Полнота = 0.600, F1-мера = 0.590\n",
      "Порог = 0.46 | Точность = 0.581, Полнота = 0.600, F1-мера = 0.590\n",
      "Порог = 0.48 | Точность = 0.581, Полнота = 0.600, F1-мера = 0.590\n",
      "Порог = 0.50 | Точность = 0.663, Полнота = 0.516, F1-мера = 0.580\n",
      "Порог = 0.52 | Точность = 0.663, Полнота = 0.516, F1-мера = 0.580\n",
      "Порог = 0.54 | Точность = 0.663, Полнота = 0.516, F1-мера = 0.580\n",
      "Порог = 0.56 | Точность = 0.663, Полнота = 0.516, F1-мера = 0.580\n",
      "Порог = 0.58 | Точность = 0.663, Полнота = 0.516, F1-мера = 0.580\n"
     ]
    }
   ],
   "source": [
    "for threshold in np.arange(0.4, 0.6, 0.02):\n",
    "    predicted_valid = probabilities_one_valid > threshold \n",
    "    precision = precision_score(target_ordinal_valid, predicted_valid)\n",
    "    recall = recall_score(target_ordinal_valid, predicted_valid)\n",
    "    f1 = 2 * precision * recall / (precision + recall) \n",
    "    print(f'Порог = {threshold:.2f} | Точность = {precision:.3f}, Полнота = {recall:.3f}, F1-мера = {f1:.3f}')"
   ]
  },
  {
   "cell_type": "markdown",
   "metadata": {},
   "source": [
    "Попробуем подобрать параметры для увеличения качества модели."
   ]
  },
  {
   "cell_type": "markdown",
   "metadata": {},
   "source": [
    "<a id='Улучшение качества модели 2'></a>"
   ]
  },
  {
   "cell_type": "markdown",
   "metadata": {},
   "source": [
    "### <p style=\"text-align:center\"> Улучшение качества модели </p>"
   ]
  },
  {
   "cell_type": "markdown",
   "metadata": {},
   "source": [
    "Прямым перебором параметров выберем лучшую модель."
   ]
  },
  {
   "cell_type": "code",
   "execution_count": 85,
   "metadata": {},
   "outputs": [
    {
     "name": "stdout",
     "output_type": "stream",
     "text": [
      "Accuracy of the best model, validation: 0.791\n",
      "Time spent: 41.91 sec\n"
     ]
    }
   ],
   "source": [
    "start = timeit.default_timer()\n",
    "best_model = None\n",
    "best_result = 0\n",
    "for est in range(10, 31, 10):\n",
    "    for depth in range(1, 7):\n",
    "        for leaf in range (1, 7):\n",
    "            for split in range (2, 7, 2):\n",
    "                \n",
    "                RF_clf_ordinal = RandomForestClassifier(random_state=42, n_estimators=est, max_depth=depth, \n",
    "                                                        min_samples_leaf=leaf, min_samples_split=split, \n",
    "                                                        bootstrap=True, n_jobs=-1) \n",
    "        \n",
    "                RF_clf_ordinal.fit(features_ordinal_train_upsampled, target_ordinal_train_upsampled) \n",
    "        \n",
    "                result = RF_clf_ordinal.score(features_ordinal_valid, target_ordinal_valid) \n",
    "                if result > best_result:\n",
    "                    best_model = RF_clf_ordinal\n",
    "                    best_result = result\n",
    "stop = timeit.default_timer()\n",
    "print(\"Accuracy of the best model, validation:\", best_result)\n",
    "print(f'Time spent: {stop - start:.2f} sec')"
   ]
  },
  {
   "cell_type": "code",
   "execution_count": 86,
   "metadata": {},
   "outputs": [
    {
     "data": {
      "text/plain": [
       "array([[1252,  318],\n",
       "       [ 105,  325]])"
      ]
     },
     "execution_count": 86,
     "metadata": {},
     "output_type": "execute_result"
    }
   ],
   "source": [
    "RF_clf_ordinal_predict = RF_clf_ordinal.predict(features_ordinal_valid)\n",
    "confusion_matrix(target_ordinal_valid, RF_clf_ordinal_predict)"
   ]
  },
  {
   "cell_type": "code",
   "execution_count": 87,
   "metadata": {
    "scrolled": true
   },
   "outputs": [
    {
     "name": "stdout",
     "output_type": "stream",
     "text": [
      "Точность 0.505443234836703\n",
      "Полнота 0.7558139534883721\n",
      "F1-мера 0.6057781919850884\n",
      "AUC-ROC 0.7766330913938676\n"
     ]
    }
   ],
   "source": [
    "metrics(target_ordinal_valid, RF_clf_ordinal_predict)"
   ]
  },
  {
   "cell_type": "code",
   "execution_count": 88,
   "metadata": {},
   "outputs": [
    {
     "data": {
      "image/png": "[encoded data removed]",
      "text/plain": [
       "<Figure size 432x288 with 1 Axes>"
      ]
     },
     "metadata": {
      "needs_background": "light"
     },
     "output_type": "display_data"
    }
   ],
   "source": [
    "probabilities_valid = RF_clf_ordinal.predict_proba(features_ordinal_valid)\n",
    "probabilities_one_valid = probabilities_valid[:, 1]\n",
    "fpr, tpr, thresholds = roc_curve(target_ordinal_valid, probabilities_one_valid) \n",
    "\n",
    "plt.plot([0, 1], [0, 1], linestyle='--')\n",
    "\n",
    "plt.plot(fpr, tpr)\n",
    "plt.xlim([0.0, 1.0])\n",
    "plt.ylim([0.0, 1.0])\n",
    "plt.xlabel('False Positive Rate')\n",
    "plt.ylabel('True Positive Rate')\n",
    "plt.title('ROC-кривая')\n",
    "plt.show() "
   ]
  },
  {
   "cell_type": "markdown",
   "metadata": {},
   "source": [
    "Нам удалось достигнуть требуемого значения точности на валидационной выборке, модель имеет высокую полноту и среднюю точность. Сравним данную модель с константной."
   ]
  },
  {
   "cell_type": "code",
   "execution_count": 89,
   "metadata": {},
   "outputs": [
    {
     "data": {
      "text/plain": [
       "(2000,)"
      ]
     },
     "execution_count": 89,
     "metadata": {},
     "output_type": "execute_result"
    }
   ],
   "source": [
    "const_model = pd.Series([0]*len(target_ordinal_valid))\n",
    "const_model.shape"
   ]
  },
  {
   "cell_type": "code",
   "execution_count": 90,
   "metadata": {},
   "outputs": [
    {
     "name": "stdout",
     "output_type": "stream",
     "text": [
      "Accuracy дамми модели: 0.785\n"
     ]
    }
   ],
   "source": [
    "const_model_score = accuracy_score(target_ordinal_valid, const_model)\n",
    "print('Accuracy дамми модели:', const_model_score)"
   ]
  },
  {
   "cell_type": "code",
   "execution_count": 91,
   "metadata": {},
   "outputs": [
    {
     "name": "stdout",
     "output_type": "stream",
     "text": [
      "AUC-ROC дамми модели: 0.5\n"
     ]
    }
   ],
   "source": [
    "AUC_ROC_score = roc_auc_score(target_ordinal_valid, const_model)\n",
    "print('AUC-ROC дамми модели:', AUC_ROC_score)"
   ]
  },
  {
   "cell_type": "markdown",
   "metadata": {},
   "source": [
    "Метрики качества нашей модели лучше, чем дамми модели, можно считать модель достаточно адекватной."
   ]
  },
  {
   "cell_type": "markdown",
   "metadata": {},
   "source": [
    "Дополнительно сделаем модель случайного леса обученную на выборке закодированной техникой OHE. Посмотрим на разницу в accuracy и метриках."
   ]
  },
  {
   "cell_type": "code",
   "execution_count": 92,
   "metadata": {},
   "outputs": [
    {
     "name": "stdout",
     "output_type": "stream",
     "text": [
      "Accuracy of the best model, validation: 0.816\n",
      "Time spent: 40.09 sec\n"
     ]
    }
   ],
   "source": [
    "start = timeit.default_timer()\n",
    "best_model = None\n",
    "best_result = 0\n",
    "for est in range(10, 31, 10):\n",
    "    for depth in range(1, 7):\n",
    "        for leaf in range (1, 7):\n",
    "            for split in range (2, 7, 2):\n",
    "                \n",
    "                RF_clf_ohe = RandomForestClassifier(random_state=42, n_estimators=est, max_depth=depth, \n",
    "                                                    min_samples_leaf=leaf, min_samples_split=split, bootstrap=True, n_jobs=-1) \n",
    "        \n",
    "                RF_clf_ohe.fit(features_ohe_train_upsampled, target_ohe_train_upsampled) \n",
    "        \n",
    "                result = RF_clf_ohe.score(features_ohe_valid, target_ohe_valid) \n",
    "                if result > best_result:\n",
    "                    best_model = RF_clf_ohe\n",
    "                    best_result = result\n",
    "stop = timeit.default_timer()\n",
    "print(\"Accuracy of the best model, validation:\", best_result)\n",
    "print(f'Time spent: {stop - start:.2f} sec')"
   ]
  },
  {
   "cell_type": "code",
   "execution_count": 93,
   "metadata": {},
   "outputs": [
    {
     "data": {
      "text/plain": [
       "array([[1331,  295],\n",
       "       [  90,  284]])"
      ]
     },
     "execution_count": 93,
     "metadata": {},
     "output_type": "execute_result"
    }
   ],
   "source": [
    "RF_clf_ohe_predict = RF_clf_ohe.predict(features_ohe_valid)\n",
    "confusion_matrix(target_ohe_valid, RF_clf_ohe_predict)"
   ]
  },
  {
   "cell_type": "code",
   "execution_count": 94,
   "metadata": {
    "scrolled": true
   },
   "outputs": [
    {
     "name": "stdout",
     "output_type": "stream",
     "text": [
      "Точность 0.4905008635578584\n",
      "Полнота 0.7593582887700535\n",
      "F1-мера 0.5960125918153201\n",
      "AUC-ROC 0.7889657372509553\n"
     ]
    }
   ],
   "source": [
    "metrics(target_ohe_valid, RF_clf_ohe_predict)"
   ]
  },
  {
   "cell_type": "markdown",
   "metadata": {},
   "source": [
    "Accuracy моделей на валидации практически не отличаются. Метрики также похожи."
   ]
  },
  {
   "cell_type": "code",
   "execution_count": 95,
   "metadata": {},
   "outputs": [
    {
     "data": {
      "image/png": "[encoded data removed]",
      "text/plain": [
       "<Figure size 432x288 with 1 Axes>"
      ]
     },
     "metadata": {
      "needs_background": "light"
     },
     "output_type": "display_data"
    }
   ],
   "source": [
    "probabilities_valid = RF_clf_ohe.predict_proba(features_ohe_valid)\n",
    "probabilities_one_valid = probabilities_valid[:, 1]\n",
    "fpr, tpr, thresholds = roc_curve(target_ohe_valid, probabilities_one_valid) \n",
    "\n",
    "plt.plot([0, 1], [0, 1], linestyle='--')\n",
    "\n",
    "plt.plot(fpr, tpr)\n",
    "plt.xlim([0.0, 1.0])\n",
    "plt.ylim([0.0, 1.0])\n",
    "plt.xlabel('False Positive Rate')\n",
    "plt.ylabel('True Positive Rate')\n",
    "plt.title('ROC-кривая')\n",
    "plt.show() "
   ]
  },
  {
   "cell_type": "markdown",
   "metadata": {},
   "source": [
    "<a id='Вывод_3'></a>"
   ]
  },
  {
   "cell_type": "markdown",
   "metadata": {},
   "source": [
    "### <p style=\"text-align:center\"> Вывод </p>"
   ]
  },
  {
   "cell_type": "markdown",
   "metadata": {},
   "source": [
    "##### В ходе создания моделей была проделана следующая работа:\n",
    "\n",
    "\n",
    "___\n",
    "\n",
    "\n",
    "1. Сначала мы разделили датасеты на выборки, в выборках выявили дисбаланс классов. Произвели эти действия и для <a href='#Разделение датасета на выборки, исследование баланса классов 1'>логистической регресси</a>, и для <a href='#Разделение датасета на выборки, исследование баланса классов 2'>случайного леса</a>.\n",
    "\n",
    "\n",
    "2. Обучили модели <a href='#Применение модели случайного леса'>случайного леса</a> и <a href='#Применение логистической регрессии'>логистической регресии</a>, в обоих случаях модели имели явный перекос в выдаваемых ими ответах.\n",
    "\n",
    "\n",
    "3. Устранили дисбаланс классов сначала гиперпараметром class_weight, затем с помощью upsampling. В обоих случаях характеристики моделей улучшались, но недостаточно. Дополнительно проверяли пороги классификации.\n",
    "\n",
    "\n",
    "4. На шаге по улучшению моделей выяснилось, что с помощью <a href='#Улучшение качества модели 1'>логистической регрессии</a> не получится добиться желаемой точности, остался только <a href='#Улучшение качества модели 2'>лес</a>.\n",
    "\n",
    "\n",
    "5. Улучшили модель случайного леса путем перебора параметров, дополнительно сделали модель случайного леса обученную на выборке закодированной техникой OHE. Обе модели хорошо показывают себя на валидации, удовлетворяют условиям поставленной задачи. Посмотрим на разницу на тесте.\n",
    "\n",
    "\n",
    "___\n",
    "\n",
    "\n",
    "\n",
    "Таким образом была выполнена работа по обучению моделей, переходим к тестированию."
   ]
  },
  {
   "cell_type": "markdown",
   "metadata": {},
   "source": [
    " ## Часть 4. Тестирование моделей"
   ]
  },
  {
   "cell_type": "markdown",
   "metadata": {},
   "source": [
    "<a id='Проведение тестов'></a>"
   ]
  },
  {
   "cell_type": "markdown",
   "metadata": {},
   "source": [
    "### <p style=\"text-align:center\"> Проведение тестов </p>"
   ]
  },
  {
   "cell_type": "markdown",
   "metadata": {},
   "source": [
    "Сначала тестируем модель обученную на выборке закодированной с помощью OrdinalEncoder."
   ]
  },
  {
   "cell_type": "code",
   "execution_count": 96,
   "metadata": {},
   "outputs": [
    {
     "name": "stdout",
     "output_type": "stream",
     "text": [
      "Точность 0.4557595993322204\n",
      "Полнота 0.718421052631579\n",
      "F1-мера 0.557711950970378\n",
      "AUC-ROC 0.7585932423651721\n"
     ]
    }
   ],
   "source": [
    "final_RF_clf_ordinal = RF_clf_ordinal.predict(features_ordinal_test)\n",
    "metrics(target_ordinal_test, final_RF_clf_ordinal)"
   ]
  },
  {
   "cell_type": "code",
   "execution_count": 97,
   "metadata": {},
   "outputs": [
    {
     "name": "stdout",
     "output_type": "stream",
     "text": [
      "Accuracy RandomForest Ordinal 0.7835\n"
     ]
    }
   ],
   "source": [
    "print(f'Accuracy RandomForest Ordinal {RF_clf_ordinal.score(features_ordinal_test, target_ordinal_test)}')"
   ]
  },
  {
   "cell_type": "markdown",
   "metadata": {},
   "source": [
    "F1-мера на тестовой выборке у этой модели не соответствует требованиям."
   ]
  },
  {
   "cell_type": "markdown",
   "metadata": {},
   "source": [
    "Теперь тестируем модель обученную на выборке закодированной с помощью OHE."
   ]
  },
  {
   "cell_type": "code",
   "execution_count": 98,
   "metadata": {},
   "outputs": [
    {
     "name": "stdout",
     "output_type": "stream",
     "text": [
      "Точность 0.5188216039279869\n",
      "Полнота 0.70917225950783\n",
      "F1-мера 0.5992438563327033\n",
      "AUC-ROC 0.7599306242806376\n"
     ]
    }
   ],
   "source": [
    "final_RF_clf_ohe = RF_clf_ohe.predict(features_ohe_test)\n",
    "metrics(target_ohe_test, final_RF_clf_ohe)"
   ]
  },
  {
   "cell_type": "code",
   "execution_count": 99,
   "metadata": {},
   "outputs": [
    {
     "name": "stdout",
     "output_type": "stream",
     "text": [
      "Accuracy RandomForest OHE 0.788\n"
     ]
    }
   ],
   "source": [
    "print(f'Accuracy RandomForest OHE {RF_clf_ohe.score(features_ohe_test, target_ohe_test)}')"
   ]
  },
  {
   "cell_type": "markdown",
   "metadata": {},
   "source": [
    "Данная модель соответствует требованиям задания."
   ]
  },
  {
   "cell_type": "markdown",
   "metadata": {},
   "source": [
    "<a id='Вывод_4'></a>"
   ]
  },
  {
   "cell_type": "markdown",
   "metadata": {},
   "source": [
    "### <p style=\"text-align:center\"> Вывод </p>"
   ]
  },
  {
   "cell_type": "markdown",
   "metadata": {},
   "source": [
    "##### Выяснили следующее:\n",
    "\n",
    "\n",
    "___\n",
    "\n",
    "\n",
    "1. Провели тестирование моделей.\n",
    "\n",
    "\n",
    "2. Неожиданно отбросили одну из моделей.\n",
    "\n",
    "\n",
    "___\n",
    "\n",
    "\n",
    "\n",
    "Таким образом была работа по тестированию моделей."
   ]
  },
  {
   "cell_type": "markdown",
   "metadata": {},
   "source": [
    " ## Часть 5. Общий вывод"
   ]
  },
  {
   "cell_type": "markdown",
   "metadata": {},
   "source": [
    "<a id='Вывод_5'></a>"
   ]
  },
  {
   "cell_type": "markdown",
   "metadata": {},
   "source": [
    "##### Таким образом, на основе предоставленного датасета была выполнена работа по обучению моделей, подбору параметров и контролю метрик.\n",
    "\n",
    "\n",
    "___\n",
    "\n",
    "\n",
    "1. В первую очередь мы изучили общую информацию о предоставленных данных.\n",
    "\n",
    "\n",
    "2. Затем произвели предобработку данных по выявленным дефектам датасета.\n",
    "\n",
    "\n",
    "3. После этого занялись созданием моделей, рассмотрели как линейную модель, так и случайный лес.\n",
    "\n",
    "\n",
    "4. Провели тестирование моделей, выявили победителя.\n",
    "\n",
    "\n",
    "\n",
    "___\n",
    "\n",
    "\n",
    "\n",
    "Финальная модель достигла заданой метрики и показывает адекватные результаты. Модель характеризуется высоким показателем полноты и средним показателем точности. С точки зрения бизнеса полученная модель поможет маркетологам лучше определять килентов, которые могут уйти в ближайшее время. Важно, что модель покрывает большое количество клиентов, в данном случае это важнее, чем точность."
   ]
  }
 ],
 "metadata": {
  "kernelspec": {
   "display_name": "Python 3",
   "language": "python",
   "name": "python3"
  },
  "language_info": {
   "codemirror_mode": {
    "name": "ipython",
    "version": 3
   },
   "file_extension": ".py",
   "mimetype": "text/x-python",
   "name": "python",
   "nbconvert_exporter": "python",
   "pygments_lexer": "ipython3",
   "version": "3.7.6"
  },
  "toc": {
   "base_numbering": 1,
   "nav_menu": {},
   "number_sections": false,
   "sideBar": true,
   "skip_h1_title": true,
   "title_cell": "Содержание",
   "title_sidebar": "Contents",
   "toc_cell": false,
   "toc_position": {
    "height": "calc(100% - 180px)",
    "left": "10px",
    "top": "150px",
    "width": "281.6px"
   },
   "toc_section_display": true,
   "toc_window_display": false
  }
 },
 "nbformat": 4,
 "nbformat_minor": 2
}
