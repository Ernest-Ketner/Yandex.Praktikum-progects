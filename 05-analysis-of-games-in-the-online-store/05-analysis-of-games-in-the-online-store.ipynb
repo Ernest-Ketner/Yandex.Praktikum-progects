{
 "cells": [
  {
   "cell_type": "markdown",
   "metadata": {},
   "source": [
    "# Анализ игр в интернет-магазине \"Стримчик\"\n",
    "Мы - аналитики в интернет-магазине «Стримчик», который продаёт по всему миру компьютерные игры. Из открытых источников нам доступны исторические данные о продажах игр, оценки пользователей и экспертов, жанры и платформы (например, Xbox или PlayStation). Анализ этих данных позволит сделать ставку на потенциально популярный продукт и спланировать рекламные кампании.\n",
    "    \n",
    "    \n",
    "Перед нами данные до 2016 года, и мы планируем кампанию на 2017-й. Нужно отработать принцип работы с данными. Требуется выявить определяющие успешность игры закономерности.\n",
    "    \n",
    "    \n",
    "____\n",
    "\n",
    "\n",
    "\n",
    "В данном исследовании представлен процесс предобработки информации с последующим использованием очищенных данных для выполнения поставленных коммерческим департаментом задач. Процесс предобработки информации представлен в виде пошаговых действий по постепенному повышению пригодности данных к использованию. Также произведен анализ данных в соответствии с инструкциями заказчика. Каждый значительный шаг сопровождается промежуточным, либо общим выводом.\n",
    "    \n",
    "____\n",
    "    \n",
    "\n",
    "    \n",
    "Часть 1. Изучение общей информации о предоставленном датасете\n",
    "    \n",
    "1. Импорт необходимых библиотек для работы с данными, загрузка датасета\n",
    "2. Изучение данных, получение общей информации\n",
    "3. Вывод\n",
    "\n",
    "Часть 2. Предобработка данных\n",
    "\n",
    "1. Приведение названий столбцов к нижнему регистру\n",
    "2. Добавление необходимой информации\n",
    "3. Обработка пропусков\n",
    "4. Замена типа данных\n",
    "5. Вывод\n",
    "    \n",
    "Часть 3. Исследовательский анализ данных\n",
    "    \n",
    "1. Распределение выпускаемых игр по годам\n",
    "2. Распределение продаваемых игр на разных платформах\n",
    "3. Анализ актуального периода\n",
    "4. Зависимость продаж от оценок игроков и критиков\n",
    "5. Распределение игр по жанрам\n",
    "6. Вывод\n",
    "    \n",
    "Часть 4. Составление портрета пользователя каждого региона\n",
    "    \n",
    "1. Определение самых популярных платформ для каждого региона\n",
    "2. Определение самых популярных жанров для каждого региона\n",
    "3. Влияние рейтинга ESRB на продажи в отдельном регионе\n",
    "4. Вывод\n",
    "\n",
    "Часть 5. Проверка гипотез\n",
    "\n",
    "1. Гипотеза \"Средние пользовательские рейтинги платформ Xbox One и PC одинаковые\"\n",
    "2. Гипотеза \"Средние пользовательские рейтинги жанров Action и Sports разные\"\n",
    "3. Вывод\n",
    "    \n",
    "Часть 6. Общий вывод\n",
    "1. Общий вывод о проделанной работе"
   ]
  },
  {
   "cell_type": "markdown",
   "metadata": {},
   "source": [
    " ## Часть 1. Изучение общей информации о предоставленных датасетах"
   ]
  },
  {
   "cell_type": "markdown",
   "metadata": {},
   "source": [
    "<a id='Импорт необходимых библиотек для работы с данными, загрузка датасета'>"
   ]
  },
  {
   "cell_type": "markdown",
   "metadata": {},
   "source": [
    "### <p style=\"text-align:center\"> Импорт необходимых библиотек для работы с данными, загрузка датасета</p>"
   ]
  },
  {
   "cell_type": "markdown",
   "metadata": {},
   "source": [
    "Импортируем необходимые библиотеки, убираем ограничения на количество столбцов, отключаем предупреждения."
   ]
  },
  {
   "cell_type": "code",
   "execution_count": 1,
   "metadata": {},
   "outputs": [],
   "source": [
    "import pandas as pd\n",
    "import numpy as np\n",
    "import seaborn as sns\n",
    "import re\n",
    "from scipy import stats as st\n",
    "import matplotlib.pyplot as plt\n",
    "from IPython.display import display\n",
    "pd.options.display.max_columns = None\n",
    "import warnings\n",
    "warnings.simplefilter('ignore')"
   ]
  },
  {
   "cell_type": "markdown",
   "metadata": {},
   "source": [
    "Загружаем датасет, проверяем вывод."
   ]
  },
  {
   "cell_type": "code",
   "execution_count": 2,
   "metadata": {},
   "outputs": [],
   "source": [
    "raw_data = pd.read_csv('/datasets/games.csv')"
   ]
  },
  {
   "cell_type": "code",
   "execution_count": 3,
   "metadata": {},
   "outputs": [
    {
     "data": {
      "text/html": [
       "<div>\n",
       "<style scoped>\n",
       "    .dataframe tbody tr th:only-of-type {\n",
       "        vertical-align: middle;\n",
       "    }\n",
       "\n",
       "    .dataframe tbody tr th {\n",
       "        vertical-align: top;\n",
       "    }\n",
       "\n",
       "    .dataframe thead th {\n",
       "        text-align: right;\n",
       "    }\n",
       "</style>\n",
       "<table border=\"1\" class=\"dataframe\">\n",
       "  <thead>\n",
       "    <tr style=\"text-align: right;\">\n",
       "      <th></th>\n",
       "      <th>Name</th>\n",
       "      <th>Platform</th>\n",
       "      <th>Year_of_Release</th>\n",
       "      <th>Genre</th>\n",
       "      <th>NA_sales</th>\n",
       "      <th>EU_sales</th>\n",
       "      <th>JP_sales</th>\n",
       "      <th>Other_sales</th>\n",
       "      <th>Critic_Score</th>\n",
       "      <th>User_Score</th>\n",
       "      <th>Rating</th>\n",
       "    </tr>\n",
       "  </thead>\n",
       "  <tbody>\n",
       "    <tr>\n",
       "      <td>0</td>\n",
       "      <td>Wii Sports</td>\n",
       "      <td>Wii</td>\n",
       "      <td>2006.0</td>\n",
       "      <td>Sports</td>\n",
       "      <td>41.36</td>\n",
       "      <td>28.96</td>\n",
       "      <td>3.77</td>\n",
       "      <td>8.45</td>\n",
       "      <td>76.0</td>\n",
       "      <td>8</td>\n",
       "      <td>E</td>\n",
       "    </tr>\n",
       "    <tr>\n",
       "      <td>1</td>\n",
       "      <td>Super Mario Bros.</td>\n",
       "      <td>NES</td>\n",
       "      <td>1985.0</td>\n",
       "      <td>Platform</td>\n",
       "      <td>29.08</td>\n",
       "      <td>3.58</td>\n",
       "      <td>6.81</td>\n",
       "      <td>0.77</td>\n",
       "      <td>NaN</td>\n",
       "      <td>NaN</td>\n",
       "      <td>NaN</td>\n",
       "    </tr>\n",
       "    <tr>\n",
       "      <td>2</td>\n",
       "      <td>Mario Kart Wii</td>\n",
       "      <td>Wii</td>\n",
       "      <td>2008.0</td>\n",
       "      <td>Racing</td>\n",
       "      <td>15.68</td>\n",
       "      <td>12.76</td>\n",
       "      <td>3.79</td>\n",
       "      <td>3.29</td>\n",
       "      <td>82.0</td>\n",
       "      <td>8.3</td>\n",
       "      <td>E</td>\n",
       "    </tr>\n",
       "    <tr>\n",
       "      <td>3</td>\n",
       "      <td>Wii Sports Resort</td>\n",
       "      <td>Wii</td>\n",
       "      <td>2009.0</td>\n",
       "      <td>Sports</td>\n",
       "      <td>15.61</td>\n",
       "      <td>10.93</td>\n",
       "      <td>3.28</td>\n",
       "      <td>2.95</td>\n",
       "      <td>80.0</td>\n",
       "      <td>8</td>\n",
       "      <td>E</td>\n",
       "    </tr>\n",
       "    <tr>\n",
       "      <td>4</td>\n",
       "      <td>Pokemon Red/Pokemon Blue</td>\n",
       "      <td>GB</td>\n",
       "      <td>1996.0</td>\n",
       "      <td>Role-Playing</td>\n",
       "      <td>11.27</td>\n",
       "      <td>8.89</td>\n",
       "      <td>10.22</td>\n",
       "      <td>1.00</td>\n",
       "      <td>NaN</td>\n",
       "      <td>NaN</td>\n",
       "      <td>NaN</td>\n",
       "    </tr>\n",
       "  </tbody>\n",
       "</table>\n",
       "</div>"
      ],
      "text/plain": [
       "                       Name Platform  Year_of_Release         Genre  NA_sales  \\\n",
       "0                Wii Sports      Wii           2006.0        Sports     41.36   \n",
       "1         Super Mario Bros.      NES           1985.0      Platform     29.08   \n",
       "2            Mario Kart Wii      Wii           2008.0        Racing     15.68   \n",
       "3         Wii Sports Resort      Wii           2009.0        Sports     15.61   \n",
       "4  Pokemon Red/Pokemon Blue       GB           1996.0  Role-Playing     11.27   \n",
       "\n",
       "   EU_sales  JP_sales  Other_sales  Critic_Score User_Score Rating  \n",
       "0     28.96      3.77         8.45          76.0          8      E  \n",
       "1      3.58      6.81         0.77           NaN        NaN    NaN  \n",
       "2     12.76      3.79         3.29          82.0        8.3      E  \n",
       "3     10.93      3.28         2.95          80.0          8      E  \n",
       "4      8.89     10.22         1.00           NaN        NaN    NaN  "
      ]
     },
     "execution_count": 3,
     "metadata": {},
     "output_type": "execute_result"
    }
   ],
   "source": [
    "raw_data.head()"
   ]
  },
  {
   "cell_type": "markdown",
   "metadata": {},
   "source": [
    "<a id='Изучение данных, получение общей информации'></a>"
   ]
  },
  {
   "cell_type": "markdown",
   "metadata": {},
   "source": [
    "### <p style=\"text-align:center\"> Изучение данных, получение общей информации</p>"
   ]
  },
  {
   "cell_type": "markdown",
   "metadata": {},
   "source": [
    "Ознакомимся с информацией, посмотрим соответствуют ли типы ячеек назначению. В качестве дополнительной проверки возьмем случайные 20 строк из нашего датасета, посмотрим на странные, выбивающиеся, отсутствующие значения."
   ]
  },
  {
   "cell_type": "code",
   "execution_count": 4,
   "metadata": {},
   "outputs": [
    {
     "data": {
      "text/html": [
       "<div>\n",
       "<style scoped>\n",
       "    .dataframe tbody tr th:only-of-type {\n",
       "        vertical-align: middle;\n",
       "    }\n",
       "\n",
       "    .dataframe tbody tr th {\n",
       "        vertical-align: top;\n",
       "    }\n",
       "\n",
       "    .dataframe thead th {\n",
       "        text-align: right;\n",
       "    }\n",
       "</style>\n",
       "<table border=\"1\" class=\"dataframe\">\n",
       "  <thead>\n",
       "    <tr style=\"text-align: right;\">\n",
       "      <th></th>\n",
       "      <th>Name</th>\n",
       "      <th>Platform</th>\n",
       "      <th>Year_of_Release</th>\n",
       "      <th>Genre</th>\n",
       "      <th>NA_sales</th>\n",
       "      <th>EU_sales</th>\n",
       "      <th>JP_sales</th>\n",
       "      <th>Other_sales</th>\n",
       "      <th>Critic_Score</th>\n",
       "      <th>User_Score</th>\n",
       "      <th>Rating</th>\n",
       "    </tr>\n",
       "  </thead>\n",
       "  <tbody>\n",
       "    <tr>\n",
       "      <td>14230</td>\n",
       "      <td>Rakushou! Pachi-Slot Sengen 5: Rio Paradise</td>\n",
       "      <td>PS2</td>\n",
       "      <td>2007.0</td>\n",
       "      <td>Misc</td>\n",
       "      <td>0.00</td>\n",
       "      <td>0.00</td>\n",
       "      <td>0.03</td>\n",
       "      <td>0.00</td>\n",
       "      <td>NaN</td>\n",
       "      <td>NaN</td>\n",
       "      <td>NaN</td>\n",
       "    </tr>\n",
       "    <tr>\n",
       "      <td>14043</td>\n",
       "      <td>Nobunaga's Ambition II</td>\n",
       "      <td>3DS</td>\n",
       "      <td>2015.0</td>\n",
       "      <td>Strategy</td>\n",
       "      <td>0.00</td>\n",
       "      <td>0.00</td>\n",
       "      <td>0.04</td>\n",
       "      <td>0.00</td>\n",
       "      <td>NaN</td>\n",
       "      <td>NaN</td>\n",
       "      <td>NaN</td>\n",
       "    </tr>\n",
       "    <tr>\n",
       "      <td>3158</td>\n",
       "      <td>Up</td>\n",
       "      <td>DS</td>\n",
       "      <td>2009.0</td>\n",
       "      <td>Action</td>\n",
       "      <td>0.30</td>\n",
       "      <td>0.27</td>\n",
       "      <td>0.00</td>\n",
       "      <td>0.07</td>\n",
       "      <td>NaN</td>\n",
       "      <td>tbd</td>\n",
       "      <td>E</td>\n",
       "    </tr>\n",
       "    <tr>\n",
       "      <td>22</td>\n",
       "      <td>Super Mario Bros. 3</td>\n",
       "      <td>NES</td>\n",
       "      <td>1988.0</td>\n",
       "      <td>Platform</td>\n",
       "      <td>9.54</td>\n",
       "      <td>3.44</td>\n",
       "      <td>3.84</td>\n",
       "      <td>0.46</td>\n",
       "      <td>NaN</td>\n",
       "      <td>NaN</td>\n",
       "      <td>NaN</td>\n",
       "    </tr>\n",
       "    <tr>\n",
       "      <td>110</td>\n",
       "      <td>Mario Kart 8</td>\n",
       "      <td>WiiU</td>\n",
       "      <td>2014.0</td>\n",
       "      <td>Racing</td>\n",
       "      <td>3.15</td>\n",
       "      <td>2.15</td>\n",
       "      <td>1.28</td>\n",
       "      <td>0.51</td>\n",
       "      <td>88.0</td>\n",
       "      <td>9.1</td>\n",
       "      <td>E</td>\n",
       "    </tr>\n",
       "    <tr>\n",
       "      <td>1988</td>\n",
       "      <td>ATV: Quad Power Racing</td>\n",
       "      <td>PS</td>\n",
       "      <td>2000.0</td>\n",
       "      <td>Racing</td>\n",
       "      <td>0.58</td>\n",
       "      <td>0.39</td>\n",
       "      <td>0.00</td>\n",
       "      <td>0.07</td>\n",
       "      <td>42.0</td>\n",
       "      <td>tbd</td>\n",
       "      <td>E</td>\n",
       "    </tr>\n",
       "    <tr>\n",
       "      <td>7130</td>\n",
       "      <td>64 de Hakken! Tamagotchi Minna de Tamagotchi W...</td>\n",
       "      <td>N64</td>\n",
       "      <td>1997.0</td>\n",
       "      <td>Misc</td>\n",
       "      <td>0.00</td>\n",
       "      <td>0.00</td>\n",
       "      <td>0.22</td>\n",
       "      <td>0.00</td>\n",
       "      <td>NaN</td>\n",
       "      <td>NaN</td>\n",
       "      <td>NaN</td>\n",
       "    </tr>\n",
       "    <tr>\n",
       "      <td>8849</td>\n",
       "      <td>Derby Stallion 64</td>\n",
       "      <td>N64</td>\n",
       "      <td>2001.0</td>\n",
       "      <td>Sports</td>\n",
       "      <td>0.00</td>\n",
       "      <td>0.00</td>\n",
       "      <td>0.15</td>\n",
       "      <td>0.00</td>\n",
       "      <td>NaN</td>\n",
       "      <td>NaN</td>\n",
       "      <td>NaN</td>\n",
       "    </tr>\n",
       "    <tr>\n",
       "      <td>14602</td>\n",
       "      <td>Star Wars: The Force Unleashed II</td>\n",
       "      <td>PC</td>\n",
       "      <td>2010.0</td>\n",
       "      <td>Action</td>\n",
       "      <td>0.03</td>\n",
       "      <td>0.00</td>\n",
       "      <td>0.00</td>\n",
       "      <td>0.00</td>\n",
       "      <td>59.0</td>\n",
       "      <td>5.8</td>\n",
       "      <td>T</td>\n",
       "    </tr>\n",
       "    <tr>\n",
       "      <td>106</td>\n",
       "      <td>Tekken 3</td>\n",
       "      <td>PS</td>\n",
       "      <td>1998.0</td>\n",
       "      <td>Fighting</td>\n",
       "      <td>3.27</td>\n",
       "      <td>2.22</td>\n",
       "      <td>1.40</td>\n",
       "      <td>0.29</td>\n",
       "      <td>96.0</td>\n",
       "      <td>9.1</td>\n",
       "      <td>T</td>\n",
       "    </tr>\n",
       "    <tr>\n",
       "      <td>6113</td>\n",
       "      <td>Divinity: Original Sin</td>\n",
       "      <td>PS4</td>\n",
       "      <td>2015.0</td>\n",
       "      <td>Role-Playing</td>\n",
       "      <td>0.10</td>\n",
       "      <td>0.12</td>\n",
       "      <td>0.02</td>\n",
       "      <td>0.04</td>\n",
       "      <td>NaN</td>\n",
       "      <td>NaN</td>\n",
       "      <td>NaN</td>\n",
       "    </tr>\n",
       "    <tr>\n",
       "      <td>3270</td>\n",
       "      <td>NieR</td>\n",
       "      <td>PS3</td>\n",
       "      <td>2010.0</td>\n",
       "      <td>Role-Playing</td>\n",
       "      <td>0.17</td>\n",
       "      <td>0.18</td>\n",
       "      <td>0.20</td>\n",
       "      <td>0.07</td>\n",
       "      <td>68.0</td>\n",
       "      <td>8.4</td>\n",
       "      <td>M</td>\n",
       "    </tr>\n",
       "    <tr>\n",
       "      <td>14860</td>\n",
       "      <td>Under the Skin</td>\n",
       "      <td>PS2</td>\n",
       "      <td>2004.0</td>\n",
       "      <td>Action</td>\n",
       "      <td>0.01</td>\n",
       "      <td>0.01</td>\n",
       "      <td>0.00</td>\n",
       "      <td>0.00</td>\n",
       "      <td>55.0</td>\n",
       "      <td>tbd</td>\n",
       "      <td>T</td>\n",
       "    </tr>\n",
       "    <tr>\n",
       "      <td>7239</td>\n",
       "      <td>NBA Live 09 All-Play</td>\n",
       "      <td>Wii</td>\n",
       "      <td>2008.0</td>\n",
       "      <td>Sports</td>\n",
       "      <td>0.19</td>\n",
       "      <td>0.01</td>\n",
       "      <td>0.00</td>\n",
       "      <td>0.02</td>\n",
       "      <td>51.0</td>\n",
       "      <td>5.9</td>\n",
       "      <td>E</td>\n",
       "    </tr>\n",
       "    <tr>\n",
       "      <td>13248</td>\n",
       "      <td>Spitfire Heroes: Tales of the Royal Air Force</td>\n",
       "      <td>DS</td>\n",
       "      <td>2008.0</td>\n",
       "      <td>Simulation</td>\n",
       "      <td>0.05</td>\n",
       "      <td>0.00</td>\n",
       "      <td>0.00</td>\n",
       "      <td>0.00</td>\n",
       "      <td>49.0</td>\n",
       "      <td>tbd</td>\n",
       "      <td>E10+</td>\n",
       "    </tr>\n",
       "    <tr>\n",
       "      <td>4941</td>\n",
       "      <td>Tom Clancy's Ghost Recon 2: Summit Strike</td>\n",
       "      <td>XB</td>\n",
       "      <td>2005.0</td>\n",
       "      <td>Shooter</td>\n",
       "      <td>0.29</td>\n",
       "      <td>0.08</td>\n",
       "      <td>0.00</td>\n",
       "      <td>0.01</td>\n",
       "      <td>84.0</td>\n",
       "      <td>7.2</td>\n",
       "      <td>T</td>\n",
       "    </tr>\n",
       "    <tr>\n",
       "      <td>5997</td>\n",
       "      <td>TouchMaster: Connect</td>\n",
       "      <td>DS</td>\n",
       "      <td>2010.0</td>\n",
       "      <td>Puzzle</td>\n",
       "      <td>0.10</td>\n",
       "      <td>0.16</td>\n",
       "      <td>0.00</td>\n",
       "      <td>0.03</td>\n",
       "      <td>NaN</td>\n",
       "      <td>tbd</td>\n",
       "      <td>E</td>\n",
       "    </tr>\n",
       "    <tr>\n",
       "      <td>13866</td>\n",
       "      <td>Ookami to Koushinryou: Boku to Horo no Ichinen</td>\n",
       "      <td>DS</td>\n",
       "      <td>2008.0</td>\n",
       "      <td>Adventure</td>\n",
       "      <td>0.00</td>\n",
       "      <td>0.00</td>\n",
       "      <td>0.04</td>\n",
       "      <td>0.00</td>\n",
       "      <td>NaN</td>\n",
       "      <td>NaN</td>\n",
       "      <td>NaN</td>\n",
       "    </tr>\n",
       "    <tr>\n",
       "      <td>14530</td>\n",
       "      <td>DokiDoki Majo Shinpan! 2</td>\n",
       "      <td>DS</td>\n",
       "      <td>2008.0</td>\n",
       "      <td>Adventure</td>\n",
       "      <td>0.00</td>\n",
       "      <td>0.00</td>\n",
       "      <td>0.03</td>\n",
       "      <td>0.00</td>\n",
       "      <td>NaN</td>\n",
       "      <td>NaN</td>\n",
       "      <td>NaN</td>\n",
       "    </tr>\n",
       "    <tr>\n",
       "      <td>4634</td>\n",
       "      <td>Spec Ops: The Line</td>\n",
       "      <td>X360</td>\n",
       "      <td>2012.0</td>\n",
       "      <td>Shooter</td>\n",
       "      <td>0.21</td>\n",
       "      <td>0.17</td>\n",
       "      <td>0.00</td>\n",
       "      <td>0.04</td>\n",
       "      <td>76.0</td>\n",
       "      <td>8.2</td>\n",
       "      <td>M</td>\n",
       "    </tr>\n",
       "  </tbody>\n",
       "</table>\n",
       "</div>"
      ],
      "text/plain": [
       "                                                    Name Platform  \\\n",
       "14230        Rakushou! Pachi-Slot Sengen 5: Rio Paradise      PS2   \n",
       "14043                             Nobunaga's Ambition II      3DS   \n",
       "3158                                                  Up       DS   \n",
       "22                                   Super Mario Bros. 3      NES   \n",
       "110                                         Mario Kart 8     WiiU   \n",
       "1988                              ATV: Quad Power Racing       PS   \n",
       "7130   64 de Hakken! Tamagotchi Minna de Tamagotchi W...      N64   \n",
       "8849                                   Derby Stallion 64      N64   \n",
       "14602                  Star Wars: The Force Unleashed II       PC   \n",
       "106                                             Tekken 3       PS   \n",
       "6113                              Divinity: Original Sin      PS4   \n",
       "3270                                                NieR      PS3   \n",
       "14860                                     Under the Skin      PS2   \n",
       "7239                                NBA Live 09 All-Play      Wii   \n",
       "13248      Spitfire Heroes: Tales of the Royal Air Force       DS   \n",
       "4941           Tom Clancy's Ghost Recon 2: Summit Strike       XB   \n",
       "5997                                TouchMaster: Connect       DS   \n",
       "13866     Ookami to Koushinryou: Boku to Horo no Ichinen       DS   \n",
       "14530                           DokiDoki Majo Shinpan! 2       DS   \n",
       "4634                                  Spec Ops: The Line     X360   \n",
       "\n",
       "       Year_of_Release         Genre  NA_sales  EU_sales  JP_sales  \\\n",
       "14230           2007.0          Misc      0.00      0.00      0.03   \n",
       "14043           2015.0      Strategy      0.00      0.00      0.04   \n",
       "3158            2009.0        Action      0.30      0.27      0.00   \n",
       "22              1988.0      Platform      9.54      3.44      3.84   \n",
       "110             2014.0        Racing      3.15      2.15      1.28   \n",
       "1988            2000.0        Racing      0.58      0.39      0.00   \n",
       "7130            1997.0          Misc      0.00      0.00      0.22   \n",
       "8849            2001.0        Sports      0.00      0.00      0.15   \n",
       "14602           2010.0        Action      0.03      0.00      0.00   \n",
       "106             1998.0      Fighting      3.27      2.22      1.40   \n",
       "6113            2015.0  Role-Playing      0.10      0.12      0.02   \n",
       "3270            2010.0  Role-Playing      0.17      0.18      0.20   \n",
       "14860           2004.0        Action      0.01      0.01      0.00   \n",
       "7239            2008.0        Sports      0.19      0.01      0.00   \n",
       "13248           2008.0    Simulation      0.05      0.00      0.00   \n",
       "4941            2005.0       Shooter      0.29      0.08      0.00   \n",
       "5997            2010.0        Puzzle      0.10      0.16      0.00   \n",
       "13866           2008.0     Adventure      0.00      0.00      0.04   \n",
       "14530           2008.0     Adventure      0.00      0.00      0.03   \n",
       "4634            2012.0       Shooter      0.21      0.17      0.00   \n",
       "\n",
       "       Other_sales  Critic_Score User_Score Rating  \n",
       "14230         0.00           NaN        NaN    NaN  \n",
       "14043         0.00           NaN        NaN    NaN  \n",
       "3158          0.07           NaN        tbd      E  \n",
       "22            0.46           NaN        NaN    NaN  \n",
       "110           0.51          88.0        9.1      E  \n",
       "1988          0.07          42.0        tbd      E  \n",
       "7130          0.00           NaN        NaN    NaN  \n",
       "8849          0.00           NaN        NaN    NaN  \n",
       "14602         0.00          59.0        5.8      T  \n",
       "106           0.29          96.0        9.1      T  \n",
       "6113          0.04           NaN        NaN    NaN  \n",
       "3270          0.07          68.0        8.4      M  \n",
       "14860         0.00          55.0        tbd      T  \n",
       "7239          0.02          51.0        5.9      E  \n",
       "13248         0.00          49.0        tbd   E10+  \n",
       "4941          0.01          84.0        7.2      T  \n",
       "5997          0.03           NaN        tbd      E  \n",
       "13866         0.00           NaN        NaN    NaN  \n",
       "14530         0.00           NaN        NaN    NaN  \n",
       "4634          0.04          76.0        8.2      M  "
      ]
     },
     "execution_count": 4,
     "metadata": {},
     "output_type": "execute_result"
    }
   ],
   "source": [
    "raw_data.sample(n=20, random_state=1)"
   ]
  },
  {
   "cell_type": "markdown",
   "metadata": {},
   "source": [
    "Иногда в таблицах в конце есть строка \"Итого\"(или т.п.), нам она не нужна, убедимся в ее отсутствии."
   ]
  },
  {
   "cell_type": "code",
   "execution_count": 5,
   "metadata": {},
   "outputs": [
    {
     "data": {
      "text/html": [
       "<div>\n",
       "<style scoped>\n",
       "    .dataframe tbody tr th:only-of-type {\n",
       "        vertical-align: middle;\n",
       "    }\n",
       "\n",
       "    .dataframe tbody tr th {\n",
       "        vertical-align: top;\n",
       "    }\n",
       "\n",
       "    .dataframe thead th {\n",
       "        text-align: right;\n",
       "    }\n",
       "</style>\n",
       "<table border=\"1\" class=\"dataframe\">\n",
       "  <thead>\n",
       "    <tr style=\"text-align: right;\">\n",
       "      <th></th>\n",
       "      <th>Name</th>\n",
       "      <th>Platform</th>\n",
       "      <th>Year_of_Release</th>\n",
       "      <th>Genre</th>\n",
       "      <th>NA_sales</th>\n",
       "      <th>EU_sales</th>\n",
       "      <th>JP_sales</th>\n",
       "      <th>Other_sales</th>\n",
       "      <th>Critic_Score</th>\n",
       "      <th>User_Score</th>\n",
       "      <th>Rating</th>\n",
       "    </tr>\n",
       "  </thead>\n",
       "  <tbody>\n",
       "    <tr>\n",
       "      <td>16710</td>\n",
       "      <td>Samurai Warriors: Sanada Maru</td>\n",
       "      <td>PS3</td>\n",
       "      <td>2016.0</td>\n",
       "      <td>Action</td>\n",
       "      <td>0.00</td>\n",
       "      <td>0.00</td>\n",
       "      <td>0.01</td>\n",
       "      <td>0.0</td>\n",
       "      <td>NaN</td>\n",
       "      <td>NaN</td>\n",
       "      <td>NaN</td>\n",
       "    </tr>\n",
       "    <tr>\n",
       "      <td>16711</td>\n",
       "      <td>LMA Manager 2007</td>\n",
       "      <td>X360</td>\n",
       "      <td>2006.0</td>\n",
       "      <td>Sports</td>\n",
       "      <td>0.00</td>\n",
       "      <td>0.01</td>\n",
       "      <td>0.00</td>\n",
       "      <td>0.0</td>\n",
       "      <td>NaN</td>\n",
       "      <td>NaN</td>\n",
       "      <td>NaN</td>\n",
       "    </tr>\n",
       "    <tr>\n",
       "      <td>16712</td>\n",
       "      <td>Haitaka no Psychedelica</td>\n",
       "      <td>PSV</td>\n",
       "      <td>2016.0</td>\n",
       "      <td>Adventure</td>\n",
       "      <td>0.00</td>\n",
       "      <td>0.00</td>\n",
       "      <td>0.01</td>\n",
       "      <td>0.0</td>\n",
       "      <td>NaN</td>\n",
       "      <td>NaN</td>\n",
       "      <td>NaN</td>\n",
       "    </tr>\n",
       "    <tr>\n",
       "      <td>16713</td>\n",
       "      <td>Spirits &amp; Spells</td>\n",
       "      <td>GBA</td>\n",
       "      <td>2003.0</td>\n",
       "      <td>Platform</td>\n",
       "      <td>0.01</td>\n",
       "      <td>0.00</td>\n",
       "      <td>0.00</td>\n",
       "      <td>0.0</td>\n",
       "      <td>NaN</td>\n",
       "      <td>NaN</td>\n",
       "      <td>NaN</td>\n",
       "    </tr>\n",
       "    <tr>\n",
       "      <td>16714</td>\n",
       "      <td>Winning Post 8 2016</td>\n",
       "      <td>PSV</td>\n",
       "      <td>2016.0</td>\n",
       "      <td>Simulation</td>\n",
       "      <td>0.00</td>\n",
       "      <td>0.00</td>\n",
       "      <td>0.01</td>\n",
       "      <td>0.0</td>\n",
       "      <td>NaN</td>\n",
       "      <td>NaN</td>\n",
       "      <td>NaN</td>\n",
       "    </tr>\n",
       "  </tbody>\n",
       "</table>\n",
       "</div>"
      ],
      "text/plain": [
       "                                Name Platform  Year_of_Release       Genre  \\\n",
       "16710  Samurai Warriors: Sanada Maru      PS3           2016.0      Action   \n",
       "16711               LMA Manager 2007     X360           2006.0      Sports   \n",
       "16712        Haitaka no Psychedelica      PSV           2016.0   Adventure   \n",
       "16713               Spirits & Spells      GBA           2003.0    Platform   \n",
       "16714            Winning Post 8 2016      PSV           2016.0  Simulation   \n",
       "\n",
       "       NA_sales  EU_sales  JP_sales  Other_sales  Critic_Score User_Score  \\\n",
       "16710      0.00      0.00      0.01          0.0           NaN        NaN   \n",
       "16711      0.00      0.01      0.00          0.0           NaN        NaN   \n",
       "16712      0.00      0.00      0.01          0.0           NaN        NaN   \n",
       "16713      0.01      0.00      0.00          0.0           NaN        NaN   \n",
       "16714      0.00      0.00      0.01          0.0           NaN        NaN   \n",
       "\n",
       "      Rating  \n",
       "16710    NaN  \n",
       "16711    NaN  \n",
       "16712    NaN  \n",
       "16713    NaN  \n",
       "16714    NaN  "
      ]
     },
     "execution_count": 5,
     "metadata": {},
     "output_type": "execute_result"
    }
   ],
   "source": [
    "raw_data.tail()"
   ]
  },
  {
   "cell_type": "code",
   "execution_count": 6,
   "metadata": {},
   "outputs": [
    {
     "name": "stdout",
     "output_type": "stream",
     "text": [
      "<class 'pandas.core.frame.DataFrame'>\n",
      "RangeIndex: 16715 entries, 0 to 16714\n",
      "Data columns (total 11 columns):\n",
      "Name               16713 non-null object\n",
      "Platform           16715 non-null object\n",
      "Year_of_Release    16446 non-null float64\n",
      "Genre              16713 non-null object\n",
      "NA_sales           16715 non-null float64\n",
      "EU_sales           16715 non-null float64\n",
      "JP_sales           16715 non-null float64\n",
      "Other_sales        16715 non-null float64\n",
      "Critic_Score       8137 non-null float64\n",
      "User_Score         10014 non-null object\n",
      "Rating             9949 non-null object\n",
      "dtypes: float64(6), object(5)\n",
      "memory usage: 1.4+ MB\n"
     ]
    }
   ],
   "source": [
    "raw_data.info()"
   ]
  },
  {
   "cell_type": "code",
   "execution_count": 7,
   "metadata": {},
   "outputs": [
    {
     "data": {
      "text/html": [
       "<div>\n",
       "<style scoped>\n",
       "    .dataframe tbody tr th:only-of-type {\n",
       "        vertical-align: middle;\n",
       "    }\n",
       "\n",
       "    .dataframe tbody tr th {\n",
       "        vertical-align: top;\n",
       "    }\n",
       "\n",
       "    .dataframe thead th {\n",
       "        text-align: right;\n",
       "    }\n",
       "</style>\n",
       "<table border=\"1\" class=\"dataframe\">\n",
       "  <thead>\n",
       "    <tr style=\"text-align: right;\">\n",
       "      <th></th>\n",
       "      <th>Year_of_Release</th>\n",
       "      <th>NA_sales</th>\n",
       "      <th>EU_sales</th>\n",
       "      <th>JP_sales</th>\n",
       "      <th>Other_sales</th>\n",
       "      <th>Critic_Score</th>\n",
       "    </tr>\n",
       "  </thead>\n",
       "  <tbody>\n",
       "    <tr>\n",
       "      <td>count</td>\n",
       "      <td>16446.000000</td>\n",
       "      <td>16715.000000</td>\n",
       "      <td>16715.000000</td>\n",
       "      <td>16715.000000</td>\n",
       "      <td>16715.000000</td>\n",
       "      <td>8137.000000</td>\n",
       "    </tr>\n",
       "    <tr>\n",
       "      <td>mean</td>\n",
       "      <td>2006.484616</td>\n",
       "      <td>0.263377</td>\n",
       "      <td>0.145060</td>\n",
       "      <td>0.077617</td>\n",
       "      <td>0.047342</td>\n",
       "      <td>68.967679</td>\n",
       "    </tr>\n",
       "    <tr>\n",
       "      <td>std</td>\n",
       "      <td>5.877050</td>\n",
       "      <td>0.813604</td>\n",
       "      <td>0.503339</td>\n",
       "      <td>0.308853</td>\n",
       "      <td>0.186731</td>\n",
       "      <td>13.938165</td>\n",
       "    </tr>\n",
       "    <tr>\n",
       "      <td>min</td>\n",
       "      <td>1980.000000</td>\n",
       "      <td>0.000000</td>\n",
       "      <td>0.000000</td>\n",
       "      <td>0.000000</td>\n",
       "      <td>0.000000</td>\n",
       "      <td>13.000000</td>\n",
       "    </tr>\n",
       "    <tr>\n",
       "      <td>25%</td>\n",
       "      <td>2003.000000</td>\n",
       "      <td>0.000000</td>\n",
       "      <td>0.000000</td>\n",
       "      <td>0.000000</td>\n",
       "      <td>0.000000</td>\n",
       "      <td>60.000000</td>\n",
       "    </tr>\n",
       "    <tr>\n",
       "      <td>50%</td>\n",
       "      <td>2007.000000</td>\n",
       "      <td>0.080000</td>\n",
       "      <td>0.020000</td>\n",
       "      <td>0.000000</td>\n",
       "      <td>0.010000</td>\n",
       "      <td>71.000000</td>\n",
       "    </tr>\n",
       "    <tr>\n",
       "      <td>75%</td>\n",
       "      <td>2010.000000</td>\n",
       "      <td>0.240000</td>\n",
       "      <td>0.110000</td>\n",
       "      <td>0.040000</td>\n",
       "      <td>0.030000</td>\n",
       "      <td>79.000000</td>\n",
       "    </tr>\n",
       "    <tr>\n",
       "      <td>max</td>\n",
       "      <td>2016.000000</td>\n",
       "      <td>41.360000</td>\n",
       "      <td>28.960000</td>\n",
       "      <td>10.220000</td>\n",
       "      <td>10.570000</td>\n",
       "      <td>98.000000</td>\n",
       "    </tr>\n",
       "  </tbody>\n",
       "</table>\n",
       "</div>"
      ],
      "text/plain": [
       "       Year_of_Release      NA_sales      EU_sales      JP_sales  \\\n",
       "count     16446.000000  16715.000000  16715.000000  16715.000000   \n",
       "mean       2006.484616      0.263377      0.145060      0.077617   \n",
       "std           5.877050      0.813604      0.503339      0.308853   \n",
       "min        1980.000000      0.000000      0.000000      0.000000   \n",
       "25%        2003.000000      0.000000      0.000000      0.000000   \n",
       "50%        2007.000000      0.080000      0.020000      0.000000   \n",
       "75%        2010.000000      0.240000      0.110000      0.040000   \n",
       "max        2016.000000     41.360000     28.960000     10.220000   \n",
       "\n",
       "        Other_sales  Critic_Score  \n",
       "count  16715.000000   8137.000000  \n",
       "mean       0.047342     68.967679  \n",
       "std        0.186731     13.938165  \n",
       "min        0.000000     13.000000  \n",
       "25%        0.000000     60.000000  \n",
       "50%        0.010000     71.000000  \n",
       "75%        0.030000     79.000000  \n",
       "max       10.570000     98.000000  "
      ]
     },
     "execution_count": 7,
     "metadata": {},
     "output_type": "execute_result"
    }
   ],
   "source": [
    "raw_data.describe()"
   ]
  },
  {
   "cell_type": "markdown",
   "metadata": {},
   "source": [
    "<a id='Автоматический отчет'></a>"
   ]
  },
  {
   "cell_type": "markdown",
   "metadata": {},
   "source": [
    "Воспользуемся удобной для первичного анализа библиотекой и создадим отчет автоматически."
   ]
  },
  {
   "cell_type": "code",
   "execution_count": 8,
   "metadata": {},
   "outputs": [],
   "source": [
    "# !pip install pandas-profiling"
   ]
  },
  {
   "cell_type": "code",
   "execution_count": 9,
   "metadata": {},
   "outputs": [],
   "source": [
    "# import pandas_profiling"
   ]
  },
  {
   "cell_type": "code",
   "execution_count": 10,
   "metadata": {},
   "outputs": [],
   "source": [
    "# profile = pandas_profiling.ProfileReport(raw_data, title = 'Explorative raw_data report', explorative = True)\n",
    "# profile"
   ]
  },
  {
   "cell_type": "markdown",
   "metadata": {},
   "source": [
    "<a id='Вывод_1'></a>"
   ]
  },
  {
   "cell_type": "markdown",
   "metadata": {},
   "source": [
    "### <p style=\"text-align:center\"> Вывод</p>"
   ]
  },
  {
   "cell_type": "markdown",
   "metadata": {},
   "source": [
    "##### В ходе первичного анализа данных были выявлены следующие недостатки и сделаны следующие выводы:\n",
    "\n",
    "___\n",
    "\n",
    "\n",
    "1. В столбце User_Score кроме числовых значений и NaN имеется аббревиатура tbd, что, как подсказывает Яндекс, значит примерно \"to be discussed\", \"to be done\", \"to be defined\", \"to be decided\", \"to be determined\", что в переводе на русский означает \"мы еще не решили, но уже думаем\". Следует заменить эту аббревиатуру на NaN.\n",
    "\n",
    "\n",
    "2. Часть данных имеет тип float64, возможно следует поменять эти типы данных на менее ресурсоемкие, в целях уменьшения использования памяти устройства.\n",
    "\n",
    "\n",
    "3. Часть данных имеет тип object, обычно потребляющий сравнительно много памяти, возможно следует произвести внутреннюю  категоризацию этих данных, также в целях уменьшения использования памяти устройства.\n",
    "\n",
    "\n",
    "4. В названиях столбцов встречаются большие буквы, исправам это. При этом оставим большие буквы у NA_sales и т.п., как общепринятые сокращения.\n",
    "\n",
    "\n",
    "5. В данных о рейтинге игр встречаются пропуски, связанные, возможно, с годом выхода игры - в 80-е и 90-е индустрия была стравнительно молодой и рейтинги игр формировались редко, и игровых критиков было мало. \n",
    "\n",
    "\n",
    "6. В столбце Rating имеются как значения RP(Rating Pending - Рейтинг ожидается), так и значения NaN. Оставим только RP.\n",
    "\n",
    "\n",
    "7. Выявлено незначительное количество пропусков в других колонках - при отсутствии адекватной альтернативы их придется удалить.\n",
    "___\n",
    "\n",
    "Таким образом было выполнено первичное ознакомление с предоставленной информацией, выявлены дефекты датасета. Данные нуждаются в предобработке."
   ]
  },
  {
   "cell_type": "markdown",
   "metadata": {},
   "source": [
    " ## Часть 2. Предобработка данных"
   ]
  },
  {
   "cell_type": "markdown",
   "metadata": {},
   "source": [
    "<a id='Приведение названий столбцов к нижнему регистру'></a>"
   ]
  },
  {
   "cell_type": "markdown",
   "metadata": {},
   "source": [
    "### <p style=\"text-align:center\">Приведение названий столбцов к нижнему регистру</p>"
   ]
  },
  {
   "cell_type": "markdown",
   "metadata": {},
   "source": [
    "Посмотрим, какие столбцы нуждаются в переименовании. При этом оставим большие буквы у NA_sales и т.п., как общепринятые сокращения."
   ]
  },
  {
   "cell_type": "code",
   "execution_count": 11,
   "metadata": {},
   "outputs": [
    {
     "data": {
      "text/plain": [
       "Index(['Name', 'Platform', 'Year_of_Release', 'Genre', 'NA_sales', 'EU_sales',\n",
       "       'JP_sales', 'Other_sales', 'Critic_Score', 'User_Score', 'Rating'],\n",
       "      dtype='object')"
      ]
     },
     "execution_count": 11,
     "metadata": {},
     "output_type": "execute_result"
    }
   ],
   "source": [
    "raw_data.columns"
   ]
  },
  {
   "cell_type": "code",
   "execution_count": 12,
   "metadata": {},
   "outputs": [],
   "source": [
    "raw_data_copy = raw_data.copy()"
   ]
  },
  {
   "cell_type": "code",
   "execution_count": 13,
   "metadata": {},
   "outputs": [],
   "source": [
    "raw_data = raw_data.rename({\n",
    "    'Name': 'name', 'Platform': 'platform', 'Year_of_Release': 'year_of_release', 'Genre': 'genre', \n",
    "    'Other_sales': 'other_sales', 'Critic_Score': 'critic_score', 'User_Score': 'user_score', 'Rating': 'rating'\n",
    "                            }, axis='columns')"
   ]
  },
  {
   "cell_type": "code",
   "execution_count": 14,
   "metadata": {},
   "outputs": [],
   "source": [
    "def make_it_snake_case(data):\n",
    "    new_columns = []\n",
    "    for column in data.columns:\n",
    "        column = re.sub(r'(.)([A-Z][a-z]+)', r'\\1_\\2', column).lower()\n",
    "        column = column.replace('__', '_')\n",
    "        new_columns.append(column)\n",
    "    data.columns = new_columns"
   ]
  },
  {
   "cell_type": "code",
   "execution_count": 15,
   "metadata": {},
   "outputs": [],
   "source": [
    "make_it_snake_case(raw_data_copy)"
   ]
  },
  {
   "cell_type": "code",
   "execution_count": 16,
   "metadata": {},
   "outputs": [
    {
     "data": {
      "text/html": [
       "<div>\n",
       "<style scoped>\n",
       "    .dataframe tbody tr th:only-of-type {\n",
       "        vertical-align: middle;\n",
       "    }\n",
       "\n",
       "    .dataframe tbody tr th {\n",
       "        vertical-align: top;\n",
       "    }\n",
       "\n",
       "    .dataframe thead th {\n",
       "        text-align: right;\n",
       "    }\n",
       "</style>\n",
       "<table border=\"1\" class=\"dataframe\">\n",
       "  <thead>\n",
       "    <tr style=\"text-align: right;\">\n",
       "      <th></th>\n",
       "      <th>name</th>\n",
       "      <th>platform</th>\n",
       "      <th>year_of_release</th>\n",
       "      <th>genre</th>\n",
       "      <th>na_sales</th>\n",
       "      <th>eu_sales</th>\n",
       "      <th>jp_sales</th>\n",
       "      <th>other_sales</th>\n",
       "      <th>critic_score</th>\n",
       "      <th>user_score</th>\n",
       "      <th>rating</th>\n",
       "    </tr>\n",
       "  </thead>\n",
       "  <tbody>\n",
       "    <tr>\n",
       "      <td>0</td>\n",
       "      <td>Wii Sports</td>\n",
       "      <td>Wii</td>\n",
       "      <td>2006.0</td>\n",
       "      <td>Sports</td>\n",
       "      <td>41.36</td>\n",
       "      <td>28.96</td>\n",
       "      <td>3.77</td>\n",
       "      <td>8.45</td>\n",
       "      <td>76.0</td>\n",
       "      <td>8</td>\n",
       "      <td>E</td>\n",
       "    </tr>\n",
       "    <tr>\n",
       "      <td>1</td>\n",
       "      <td>Super Mario Bros.</td>\n",
       "      <td>NES</td>\n",
       "      <td>1985.0</td>\n",
       "      <td>Platform</td>\n",
       "      <td>29.08</td>\n",
       "      <td>3.58</td>\n",
       "      <td>6.81</td>\n",
       "      <td>0.77</td>\n",
       "      <td>NaN</td>\n",
       "      <td>NaN</td>\n",
       "      <td>NaN</td>\n",
       "    </tr>\n",
       "    <tr>\n",
       "      <td>2</td>\n",
       "      <td>Mario Kart Wii</td>\n",
       "      <td>Wii</td>\n",
       "      <td>2008.0</td>\n",
       "      <td>Racing</td>\n",
       "      <td>15.68</td>\n",
       "      <td>12.76</td>\n",
       "      <td>3.79</td>\n",
       "      <td>3.29</td>\n",
       "      <td>82.0</td>\n",
       "      <td>8.3</td>\n",
       "      <td>E</td>\n",
       "    </tr>\n",
       "    <tr>\n",
       "      <td>3</td>\n",
       "      <td>Wii Sports Resort</td>\n",
       "      <td>Wii</td>\n",
       "      <td>2009.0</td>\n",
       "      <td>Sports</td>\n",
       "      <td>15.61</td>\n",
       "      <td>10.93</td>\n",
       "      <td>3.28</td>\n",
       "      <td>2.95</td>\n",
       "      <td>80.0</td>\n",
       "      <td>8</td>\n",
       "      <td>E</td>\n",
       "    </tr>\n",
       "    <tr>\n",
       "      <td>4</td>\n",
       "      <td>Pokemon Red/Pokemon Blue</td>\n",
       "      <td>GB</td>\n",
       "      <td>1996.0</td>\n",
       "      <td>Role-Playing</td>\n",
       "      <td>11.27</td>\n",
       "      <td>8.89</td>\n",
       "      <td>10.22</td>\n",
       "      <td>1.00</td>\n",
       "      <td>NaN</td>\n",
       "      <td>NaN</td>\n",
       "      <td>NaN</td>\n",
       "    </tr>\n",
       "    <tr>\n",
       "      <td>...</td>\n",
       "      <td>...</td>\n",
       "      <td>...</td>\n",
       "      <td>...</td>\n",
       "      <td>...</td>\n",
       "      <td>...</td>\n",
       "      <td>...</td>\n",
       "      <td>...</td>\n",
       "      <td>...</td>\n",
       "      <td>...</td>\n",
       "      <td>...</td>\n",
       "      <td>...</td>\n",
       "    </tr>\n",
       "    <tr>\n",
       "      <td>16710</td>\n",
       "      <td>Samurai Warriors: Sanada Maru</td>\n",
       "      <td>PS3</td>\n",
       "      <td>2016.0</td>\n",
       "      <td>Action</td>\n",
       "      <td>0.00</td>\n",
       "      <td>0.00</td>\n",
       "      <td>0.01</td>\n",
       "      <td>0.00</td>\n",
       "      <td>NaN</td>\n",
       "      <td>NaN</td>\n",
       "      <td>NaN</td>\n",
       "    </tr>\n",
       "    <tr>\n",
       "      <td>16711</td>\n",
       "      <td>LMA Manager 2007</td>\n",
       "      <td>X360</td>\n",
       "      <td>2006.0</td>\n",
       "      <td>Sports</td>\n",
       "      <td>0.00</td>\n",
       "      <td>0.01</td>\n",
       "      <td>0.00</td>\n",
       "      <td>0.00</td>\n",
       "      <td>NaN</td>\n",
       "      <td>NaN</td>\n",
       "      <td>NaN</td>\n",
       "    </tr>\n",
       "    <tr>\n",
       "      <td>16712</td>\n",
       "      <td>Haitaka no Psychedelica</td>\n",
       "      <td>PSV</td>\n",
       "      <td>2016.0</td>\n",
       "      <td>Adventure</td>\n",
       "      <td>0.00</td>\n",
       "      <td>0.00</td>\n",
       "      <td>0.01</td>\n",
       "      <td>0.00</td>\n",
       "      <td>NaN</td>\n",
       "      <td>NaN</td>\n",
       "      <td>NaN</td>\n",
       "    </tr>\n",
       "    <tr>\n",
       "      <td>16713</td>\n",
       "      <td>Spirits &amp; Spells</td>\n",
       "      <td>GBA</td>\n",
       "      <td>2003.0</td>\n",
       "      <td>Platform</td>\n",
       "      <td>0.01</td>\n",
       "      <td>0.00</td>\n",
       "      <td>0.00</td>\n",
       "      <td>0.00</td>\n",
       "      <td>NaN</td>\n",
       "      <td>NaN</td>\n",
       "      <td>NaN</td>\n",
       "    </tr>\n",
       "    <tr>\n",
       "      <td>16714</td>\n",
       "      <td>Winning Post 8 2016</td>\n",
       "      <td>PSV</td>\n",
       "      <td>2016.0</td>\n",
       "      <td>Simulation</td>\n",
       "      <td>0.00</td>\n",
       "      <td>0.00</td>\n",
       "      <td>0.01</td>\n",
       "      <td>0.00</td>\n",
       "      <td>NaN</td>\n",
       "      <td>NaN</td>\n",
       "      <td>NaN</td>\n",
       "    </tr>\n",
       "  </tbody>\n",
       "</table>\n",
       "<p>16715 rows × 11 columns</p>\n",
       "</div>"
      ],
      "text/plain": [
       "                                name platform  year_of_release         genre  \\\n",
       "0                         Wii Sports      Wii           2006.0        Sports   \n",
       "1                  Super Mario Bros.      NES           1985.0      Platform   \n",
       "2                     Mario Kart Wii      Wii           2008.0        Racing   \n",
       "3                  Wii Sports Resort      Wii           2009.0        Sports   \n",
       "4           Pokemon Red/Pokemon Blue       GB           1996.0  Role-Playing   \n",
       "...                              ...      ...              ...           ...   \n",
       "16710  Samurai Warriors: Sanada Maru      PS3           2016.0        Action   \n",
       "16711               LMA Manager 2007     X360           2006.0        Sports   \n",
       "16712        Haitaka no Psychedelica      PSV           2016.0     Adventure   \n",
       "16713               Spirits & Spells      GBA           2003.0      Platform   \n",
       "16714            Winning Post 8 2016      PSV           2016.0    Simulation   \n",
       "\n",
       "       na_sales  eu_sales  jp_sales  other_sales  critic_score user_score  \\\n",
       "0         41.36     28.96      3.77         8.45          76.0          8   \n",
       "1         29.08      3.58      6.81         0.77           NaN        NaN   \n",
       "2         15.68     12.76      3.79         3.29          82.0        8.3   \n",
       "3         15.61     10.93      3.28         2.95          80.0          8   \n",
       "4         11.27      8.89     10.22         1.00           NaN        NaN   \n",
       "...         ...       ...       ...          ...           ...        ...   \n",
       "16710      0.00      0.00      0.01         0.00           NaN        NaN   \n",
       "16711      0.00      0.01      0.00         0.00           NaN        NaN   \n",
       "16712      0.00      0.00      0.01         0.00           NaN        NaN   \n",
       "16713      0.01      0.00      0.00         0.00           NaN        NaN   \n",
       "16714      0.00      0.00      0.01         0.00           NaN        NaN   \n",
       "\n",
       "      rating  \n",
       "0          E  \n",
       "1        NaN  \n",
       "2          E  \n",
       "3          E  \n",
       "4        NaN  \n",
       "...      ...  \n",
       "16710    NaN  \n",
       "16711    NaN  \n",
       "16712    NaN  \n",
       "16713    NaN  \n",
       "16714    NaN  \n",
       "\n",
       "[16715 rows x 11 columns]"
      ]
     },
     "execution_count": 16,
     "metadata": {},
     "output_type": "execute_result"
    }
   ],
   "source": [
    "raw_data_copy"
   ]
  },
  {
   "cell_type": "markdown",
   "metadata": {},
   "source": [
    "<a id='Добавление необходимой информации'></a>"
   ]
  },
  {
   "cell_type": "markdown",
   "metadata": {},
   "source": [
    "### <p style=\"text-align:center\">Добавление необходимой информации</p>"
   ]
  },
  {
   "cell_type": "markdown",
   "metadata": {},
   "source": [
    "Добавим столбец total_sales с суммой всех столбцов _sales."
   ]
  },
  {
   "cell_type": "code",
   "execution_count": 17,
   "metadata": {},
   "outputs": [],
   "source": [
    "raw_data['total_sales'] = raw_data['NA_sales'] + raw_data['EU_sales'] + raw_data['JP_sales'] + raw_data['other_sales']"
   ]
  },
  {
   "cell_type": "markdown",
   "metadata": {},
   "source": [
    "<a id='Обработка пропусков'></a>"
   ]
  },
  {
   "cell_type": "markdown",
   "metadata": {},
   "source": [
    "### <p style=\"text-align:center\">Обработка пропусков</p>"
   ]
  },
  {
   "cell_type": "markdown",
   "metadata": {},
   "source": [
    "Удалим строки с пропущенными значениями, при этом удаляем не более 2% данных, что не критично."
   ]
  },
  {
   "cell_type": "code",
   "execution_count": 18,
   "metadata": {},
   "outputs": [],
   "source": [
    "raw_data.dropna(subset = ['name'], inplace = True)"
   ]
  },
  {
   "cell_type": "code",
   "execution_count": 19,
   "metadata": {},
   "outputs": [],
   "source": [
    "def find_year(column):\n",
    "    year = re.search('(?:19[0-9][0-9]|20[01][0-9])(?!\\d)', str(column))\n",
    "    if year == None:\n",
    "        return 0\n",
    "    return year.group(0)"
   ]
  },
  {
   "cell_type": "code",
   "execution_count": 20,
   "metadata": {},
   "outputs": [],
   "source": [
    "raw_data['year_from_name'] = raw_data['name'].apply(find_year)\n",
    "raw_data['year_from_name'] = raw_data['year_from_name'].astype(np.uint16)"
   ]
  },
  {
   "cell_type": "code",
   "execution_count": 21,
   "metadata": {},
   "outputs": [],
   "source": [
    "raw_data['year_of_release'] = raw_data['year_of_release'].fillna(raw_data['year_from_name'], axis = 0)"
   ]
  },
  {
   "cell_type": "code",
   "execution_count": 22,
   "metadata": {},
   "outputs": [],
   "source": [
    "raw_data.dropna(subset = ['year_of_release'], inplace = True)"
   ]
  },
  {
   "cell_type": "markdown",
   "metadata": {},
   "source": [
    "Заменим аббревиатуру 'tbd' на NaN."
   ]
  },
  {
   "cell_type": "code",
   "execution_count": 23,
   "metadata": {},
   "outputs": [],
   "source": [
    "raw_data['user_score'] = raw_data['user_score'].mask(raw_data['user_score'] == 'tbd', np.nan)"
   ]
  },
  {
   "cell_type": "markdown",
   "metadata": {},
   "source": [
    "Заменим пропущенные значения на RP(Рейтинг ожидается)."
   ]
  },
  {
   "cell_type": "code",
   "execution_count": 24,
   "metadata": {},
   "outputs": [],
   "source": [
    "raw_data['rating'] = raw_data['rating'].fillna('RP')"
   ]
  },
  {
   "cell_type": "markdown",
   "metadata": {},
   "source": [
    "<a id='Замена типа данных'></a>"
   ]
  },
  {
   "cell_type": "markdown",
   "metadata": {},
   "source": [
    "### <p style=\"text-align:center\">Замена типа данных</p>"
   ]
  },
  {
   "cell_type": "markdown",
   "metadata": {},
   "source": [
    "Проведем оптимизацию хранения данных объектных типов с использованием категориальных переменных."
   ]
  },
  {
   "cell_type": "code",
   "execution_count": 25,
   "metadata": {},
   "outputs": [],
   "source": [
    "raw_data[['platform', 'genre', 'rating']] = raw_data[['platform', 'genre', 'rating']].astype('category')"
   ]
  },
  {
   "cell_type": "markdown",
   "metadata": {},
   "source": [
    "Поменяем тип данных с float64 на float32 или uint16."
   ]
  },
  {
   "cell_type": "code",
   "execution_count": 26,
   "metadata": {},
   "outputs": [],
   "source": [
    "raw_data['year_of_release'] = raw_data['year_of_release'].astype(np.uint16)\n",
    "raw_data[['NA_sales', 'EU_sales', 'JP_sales', 'other_sales', 'total_sales', 'critic_score']] = \\\n",
    "raw_data[['NA_sales', 'EU_sales', 'JP_sales', 'other_sales', 'total_sales', 'critic_score']].astype(np.float32).round(2)"
   ]
  },
  {
   "cell_type": "code",
   "execution_count": 27,
   "metadata": {},
   "outputs": [],
   "source": [
    "raw_data['user_score'] = pd.to_numeric(raw_data['user_score'], downcast='float')"
   ]
  },
  {
   "cell_type": "code",
   "execution_count": 28,
   "metadata": {},
   "outputs": [],
   "source": [
    "data = raw_data[[\n",
    "                'name', 'platform', 'year_of_release', 'genre', 'NA_sales', 'EU_sales', 'JP_sales', 'other_sales',\n",
    "                'total_sales', 'critic_score', 'user_score', 'rating'\n",
    "                ]]"
   ]
  },
  {
   "cell_type": "markdown",
   "metadata": {},
   "source": [
    "Посмотрим, что стало с данными после проведения работ по предобработке."
   ]
  },
  {
   "cell_type": "code",
   "execution_count": 29,
   "metadata": {
    "scrolled": true
   },
   "outputs": [
    {
     "data": {
      "text/html": [
       "<div>\n",
       "<style scoped>\n",
       "    .dataframe tbody tr th:only-of-type {\n",
       "        vertical-align: middle;\n",
       "    }\n",
       "\n",
       "    .dataframe tbody tr th {\n",
       "        vertical-align: top;\n",
       "    }\n",
       "\n",
       "    .dataframe thead th {\n",
       "        text-align: right;\n",
       "    }\n",
       "</style>\n",
       "<table border=\"1\" class=\"dataframe\">\n",
       "  <thead>\n",
       "    <tr style=\"text-align: right;\">\n",
       "      <th></th>\n",
       "      <th>name</th>\n",
       "      <th>platform</th>\n",
       "      <th>year_of_release</th>\n",
       "      <th>genre</th>\n",
       "      <th>NA_sales</th>\n",
       "      <th>EU_sales</th>\n",
       "      <th>JP_sales</th>\n",
       "      <th>other_sales</th>\n",
       "      <th>total_sales</th>\n",
       "      <th>critic_score</th>\n",
       "      <th>user_score</th>\n",
       "      <th>rating</th>\n",
       "    </tr>\n",
       "  </thead>\n",
       "  <tbody>\n",
       "    <tr>\n",
       "      <td>0</td>\n",
       "      <td>Wii Sports</td>\n",
       "      <td>Wii</td>\n",
       "      <td>2006</td>\n",
       "      <td>Sports</td>\n",
       "      <td>41.360001</td>\n",
       "      <td>28.959999</td>\n",
       "      <td>3.77</td>\n",
       "      <td>8.45</td>\n",
       "      <td>82.540001</td>\n",
       "      <td>76.0</td>\n",
       "      <td>8.0</td>\n",
       "      <td>E</td>\n",
       "    </tr>\n",
       "    <tr>\n",
       "      <td>1</td>\n",
       "      <td>Super Mario Bros.</td>\n",
       "      <td>NES</td>\n",
       "      <td>1985</td>\n",
       "      <td>Platform</td>\n",
       "      <td>29.080000</td>\n",
       "      <td>3.580000</td>\n",
       "      <td>6.81</td>\n",
       "      <td>0.77</td>\n",
       "      <td>40.240002</td>\n",
       "      <td>NaN</td>\n",
       "      <td>NaN</td>\n",
       "      <td>RP</td>\n",
       "    </tr>\n",
       "    <tr>\n",
       "      <td>2</td>\n",
       "      <td>Mario Kart Wii</td>\n",
       "      <td>Wii</td>\n",
       "      <td>2008</td>\n",
       "      <td>Racing</td>\n",
       "      <td>15.680000</td>\n",
       "      <td>12.760000</td>\n",
       "      <td>3.79</td>\n",
       "      <td>3.29</td>\n",
       "      <td>35.520000</td>\n",
       "      <td>82.0</td>\n",
       "      <td>8.3</td>\n",
       "      <td>E</td>\n",
       "    </tr>\n",
       "    <tr>\n",
       "      <td>3</td>\n",
       "      <td>Wii Sports Resort</td>\n",
       "      <td>Wii</td>\n",
       "      <td>2009</td>\n",
       "      <td>Sports</td>\n",
       "      <td>15.610000</td>\n",
       "      <td>10.930000</td>\n",
       "      <td>3.28</td>\n",
       "      <td>2.95</td>\n",
       "      <td>32.770000</td>\n",
       "      <td>80.0</td>\n",
       "      <td>8.0</td>\n",
       "      <td>E</td>\n",
       "    </tr>\n",
       "    <tr>\n",
       "      <td>4</td>\n",
       "      <td>Pokemon Red/Pokemon Blue</td>\n",
       "      <td>GB</td>\n",
       "      <td>1996</td>\n",
       "      <td>Role-Playing</td>\n",
       "      <td>11.270000</td>\n",
       "      <td>8.890000</td>\n",
       "      <td>10.22</td>\n",
       "      <td>1.00</td>\n",
       "      <td>31.379999</td>\n",
       "      <td>NaN</td>\n",
       "      <td>NaN</td>\n",
       "      <td>RP</td>\n",
       "    </tr>\n",
       "  </tbody>\n",
       "</table>\n",
       "</div>"
      ],
      "text/plain": [
       "                       name platform  year_of_release         genre  \\\n",
       "0                Wii Sports      Wii             2006        Sports   \n",
       "1         Super Mario Bros.      NES             1985      Platform   \n",
       "2            Mario Kart Wii      Wii             2008        Racing   \n",
       "3         Wii Sports Resort      Wii             2009        Sports   \n",
       "4  Pokemon Red/Pokemon Blue       GB             1996  Role-Playing   \n",
       "\n",
       "    NA_sales   EU_sales  JP_sales  other_sales  total_sales  critic_score  \\\n",
       "0  41.360001  28.959999      3.77         8.45    82.540001          76.0   \n",
       "1  29.080000   3.580000      6.81         0.77    40.240002           NaN   \n",
       "2  15.680000  12.760000      3.79         3.29    35.520000          82.0   \n",
       "3  15.610000  10.930000      3.28         2.95    32.770000          80.0   \n",
       "4  11.270000   8.890000     10.22         1.00    31.379999           NaN   \n",
       "\n",
       "   user_score rating  \n",
       "0         8.0      E  \n",
       "1         NaN     RP  \n",
       "2         8.3      E  \n",
       "3         8.0      E  \n",
       "4         NaN     RP  "
      ]
     },
     "execution_count": 29,
     "metadata": {},
     "output_type": "execute_result"
    }
   ],
   "source": [
    "data.head()"
   ]
  },
  {
   "cell_type": "markdown",
   "metadata": {},
   "source": [
    "<a id='Уменьшение памяти'></a>"
   ]
  },
  {
   "cell_type": "markdown",
   "metadata": {},
   "source": [
    "Добились уменьшения использования памяти на 46%."
   ]
  },
  {
   "cell_type": "code",
   "execution_count": 30,
   "metadata": {},
   "outputs": [
    {
     "name": "stdout",
     "output_type": "stream",
     "text": [
      "<class 'pandas.core.frame.DataFrame'>\n",
      "Int64Index: 16713 entries, 0 to 16714\n",
      "Data columns (total 12 columns):\n",
      "name               16713 non-null object\n",
      "platform           16713 non-null category\n",
      "year_of_release    16713 non-null uint16\n",
      "genre              16713 non-null category\n",
      "NA_sales           16713 non-null float32\n",
      "EU_sales           16713 non-null float32\n",
      "JP_sales           16713 non-null float32\n",
      "other_sales        16713 non-null float32\n",
      "total_sales        16713 non-null float32\n",
      "critic_score       8137 non-null float32\n",
      "user_score         7590 non-null float32\n",
      "rating             16713 non-null category\n",
      "dtypes: category(3), float32(7), object(1), uint16(1)\n",
      "memory usage: 802.0+ KB\n"
     ]
    }
   ],
   "source": [
    "data.info()"
   ]
  },
  {
   "cell_type": "code",
   "execution_count": 31,
   "metadata": {},
   "outputs": [
    {
     "data": {
      "text/html": [
       "<div>\n",
       "<style scoped>\n",
       "    .dataframe tbody tr th:only-of-type {\n",
       "        vertical-align: middle;\n",
       "    }\n",
       "\n",
       "    .dataframe tbody tr th {\n",
       "        vertical-align: top;\n",
       "    }\n",
       "\n",
       "    .dataframe thead th {\n",
       "        text-align: right;\n",
       "    }\n",
       "</style>\n",
       "<table border=\"1\" class=\"dataframe\">\n",
       "  <thead>\n",
       "    <tr style=\"text-align: right;\">\n",
       "      <th></th>\n",
       "      <th>year_of_release</th>\n",
       "      <th>NA_sales</th>\n",
       "      <th>EU_sales</th>\n",
       "      <th>JP_sales</th>\n",
       "      <th>other_sales</th>\n",
       "      <th>total_sales</th>\n",
       "      <th>critic_score</th>\n",
       "      <th>user_score</th>\n",
       "    </tr>\n",
       "  </thead>\n",
       "  <tbody>\n",
       "    <tr>\n",
       "      <td>count</td>\n",
       "      <td>16713.000000</td>\n",
       "      <td>16713.000000</td>\n",
       "      <td>16713.000000</td>\n",
       "      <td>16713.000000</td>\n",
       "      <td>16713.000000</td>\n",
       "      <td>16713.000000</td>\n",
       "      <td>8137.000000</td>\n",
       "      <td>7590.000000</td>\n",
       "    </tr>\n",
       "    <tr>\n",
       "      <td>mean</td>\n",
       "      <td>1976.231676</td>\n",
       "      <td>0.263302</td>\n",
       "      <td>0.145045</td>\n",
       "      <td>0.077625</td>\n",
       "      <td>0.047343</td>\n",
       "      <td>0.533315</td>\n",
       "      <td>68.967682</td>\n",
       "      <td>7.125046</td>\n",
       "    </tr>\n",
       "    <tr>\n",
       "      <td>std</td>\n",
       "      <td>244.594319</td>\n",
       "      <td>0.813565</td>\n",
       "      <td>0.503359</td>\n",
       "      <td>0.308871</td>\n",
       "      <td>0.186742</td>\n",
       "      <td>1.548282</td>\n",
       "      <td>13.938165</td>\n",
       "      <td>1.500006</td>\n",
       "    </tr>\n",
       "    <tr>\n",
       "      <td>min</td>\n",
       "      <td>0.000000</td>\n",
       "      <td>0.000000</td>\n",
       "      <td>0.000000</td>\n",
       "      <td>0.000000</td>\n",
       "      <td>0.000000</td>\n",
       "      <td>0.000000</td>\n",
       "      <td>13.000000</td>\n",
       "      <td>0.000000</td>\n",
       "    </tr>\n",
       "    <tr>\n",
       "      <td>25%</td>\n",
       "      <td>2003.000000</td>\n",
       "      <td>0.000000</td>\n",
       "      <td>0.000000</td>\n",
       "      <td>0.000000</td>\n",
       "      <td>0.000000</td>\n",
       "      <td>0.060000</td>\n",
       "      <td>60.000000</td>\n",
       "      <td>6.400000</td>\n",
       "    </tr>\n",
       "    <tr>\n",
       "      <td>50%</td>\n",
       "      <td>2007.000000</td>\n",
       "      <td>0.080000</td>\n",
       "      <td>0.020000</td>\n",
       "      <td>0.000000</td>\n",
       "      <td>0.010000</td>\n",
       "      <td>0.170000</td>\n",
       "      <td>71.000000</td>\n",
       "      <td>7.500000</td>\n",
       "    </tr>\n",
       "    <tr>\n",
       "      <td>75%</td>\n",
       "      <td>2010.000000</td>\n",
       "      <td>0.240000</td>\n",
       "      <td>0.110000</td>\n",
       "      <td>0.040000</td>\n",
       "      <td>0.030000</td>\n",
       "      <td>0.470000</td>\n",
       "      <td>79.000000</td>\n",
       "      <td>8.200000</td>\n",
       "    </tr>\n",
       "    <tr>\n",
       "      <td>max</td>\n",
       "      <td>2016.000000</td>\n",
       "      <td>41.360001</td>\n",
       "      <td>28.959999</td>\n",
       "      <td>10.220000</td>\n",
       "      <td>10.570000</td>\n",
       "      <td>82.540001</td>\n",
       "      <td>98.000000</td>\n",
       "      <td>9.700000</td>\n",
       "    </tr>\n",
       "  </tbody>\n",
       "</table>\n",
       "</div>"
      ],
      "text/plain": [
       "       year_of_release      NA_sales      EU_sales      JP_sales  \\\n",
       "count     16713.000000  16713.000000  16713.000000  16713.000000   \n",
       "mean       1976.231676      0.263302      0.145045      0.077625   \n",
       "std         244.594319      0.813565      0.503359      0.308871   \n",
       "min           0.000000      0.000000      0.000000      0.000000   \n",
       "25%        2003.000000      0.000000      0.000000      0.000000   \n",
       "50%        2007.000000      0.080000      0.020000      0.000000   \n",
       "75%        2010.000000      0.240000      0.110000      0.040000   \n",
       "max        2016.000000     41.360001     28.959999     10.220000   \n",
       "\n",
       "        other_sales   total_sales  critic_score   user_score  \n",
       "count  16713.000000  16713.000000   8137.000000  7590.000000  \n",
       "mean       0.047343      0.533315     68.967682     7.125046  \n",
       "std        0.186742      1.548282     13.938165     1.500006  \n",
       "min        0.000000      0.000000     13.000000     0.000000  \n",
       "25%        0.000000      0.060000     60.000000     6.400000  \n",
       "50%        0.010000      0.170000     71.000000     7.500000  \n",
       "75%        0.030000      0.470000     79.000000     8.200000  \n",
       "max       10.570000     82.540001     98.000000     9.700000  "
      ]
     },
     "execution_count": 31,
     "metadata": {},
     "output_type": "execute_result"
    }
   ],
   "source": [
    "data.describe()"
   ]
  },
  {
   "cell_type": "markdown",
   "metadata": {},
   "source": [
    "<a id='Вывод_2'></a>"
   ]
  },
  {
   "cell_type": "markdown",
   "metadata": {},
   "source": [
    "### <p style=\"text-align:center\"> Вывод</p>"
   ]
  },
  {
   "cell_type": "markdown",
   "metadata": {},
   "source": [
    "##### Таким образом в данной части нашего исследовании мы:\n",
    "\n",
    "___\n",
    "\n",
    "\n",
    "1. Переименовали несколько столбцов.\n",
    "\n",
    "\n",
    "2. Добавили столбец с суммой продаж.\n",
    "\n",
    "\n",
    "3. Обработали пропуски и заменили аббревиатуру 'tbd' на NaN.\n",
    "\n",
    "\n",
    "4. Провели оптимизацию хранения данных объектных типов с использованием категориальных переменных, а также заменили типы данным на менее ресурсозатратные. \n",
    "\n",
    "\n",
    "5. Добились существенного уменьшения использования памяти устройства, около 46%.\n",
    "___\n",
    "\n",
    "Таким образом, была выполнена предобработка данных, данные очищены, проверены и подготовлены. Переходим к следующей части нашего исследования."
   ]
  },
  {
   "cell_type": "markdown",
   "metadata": {},
   "source": [
    " ## Часть 3. Исследовательский анализ данных "
   ]
  },
  {
   "cell_type": "markdown",
   "metadata": {},
   "source": [
    "<a id='Распределение выпускаемых игр по годам'></a>"
   ]
  },
  {
   "cell_type": "markdown",
   "metadata": {},
   "source": [
    "### <p style=\"text-align:center\">Распределение выпускаемых игр по годам</p>"
   ]
  },
  {
   "cell_type": "markdown",
   "metadata": {},
   "source": [
    "Построим гистограмму распределения выпускаемых игр по годам. Такую же гистограмму можно найти <a href='#Автоматический отчет'>тут</a>."
   ]
  },
  {
   "cell_type": "markdown",
   "metadata": {},
   "source": [
    "На графике наблюдается так называемое skewed left distribution - распределение с левым хвостом. Очевидной причиной явлется неразвитость отрасли в начале 80-х."
   ]
  },
  {
   "cell_type": "code",
   "execution_count": 32,
   "metadata": {},
   "outputs": [
    {
     "data": {
      "image/png": "[encoded data removed]",
      "text/plain": [
       "<Figure size 520x390 with 1 Axes>"
      ]
     },
     "metadata": {
      "needs_background": "light"
     },
     "output_type": "display_data"
    }
   ],
   "source": [
    "plt.figure(figsize=(8,6), dpi = 65);\n",
    "\n",
    "plt.hist(data['year_of_release'], color=\"dodgerblue\", bins = 15, range = (1980, 2016));\n",
    "\n",
    "plt.title('Released games distribution', fontsize=16)\n",
    "plt.ylabel('Quantity', fontsize=14)\n",
    "plt.xlabel('Released games, num', fontsize=14)\n",
    "\n",
    "plt.grid()\n",
    "plt.show()"
   ]
  },
  {
   "cell_type": "markdown",
   "metadata": {},
   "source": [
    "В связи с незначительным количеством выпущенных игр в период с 1980 по 1993, можно признать этот период не настолько статистически важным."
   ]
  },
  {
   "cell_type": "markdown",
   "metadata": {},
   "source": [
    "<a id='Распределение продаваемых игр на разных платформах'></a>"
   ]
  },
  {
   "cell_type": "markdown",
   "metadata": {},
   "source": [
    "### <p style=\"text-align:center\">Распределение продаваемых игр на разных платформах</p>"
   ]
  },
  {
   "cell_type": "markdown",
   "metadata": {},
   "source": [
    "Выберем платформы с наибольшими суммарными продажами и построим распределение по годам."
   ]
  },
  {
   "cell_type": "markdown",
   "metadata": {},
   "source": [
    "Оставим в качестве самых продаваемых платформ первые 7, они идут с большим отрывом от остальных, или набирают популярность."
   ]
  },
  {
   "cell_type": "code",
   "execution_count": 33,
   "metadata": {},
   "outputs": [],
   "source": [
    "big_platforms = data.groupby('platform')['total_sales'].sum().sort_values(ascending = False).head(7)"
   ]
  },
  {
   "cell_type": "code",
   "execution_count": 34,
   "metadata": {},
   "outputs": [],
   "source": [
    "data_big_platforms = data.query('platform in @big_platforms.index and year_of_release > 1993')\n",
    "data_big_platforms['platform'] = data_big_platforms['platform'].astype('object')"
   ]
  },
  {
   "cell_type": "markdown",
   "metadata": {},
   "source": [
    "На графике видно, что характерный срок появления новых и исчезновения старых платформ составляет около 9-11 лет. Актуальным периодом, в таком случае, будем считать период с 2013-2014 года, где будем учитывать как набирающие популярность платформы (PS4), так и платформы, теряющие популярность(PS3, XBOX360)."
   ]
  },
  {
   "cell_type": "code",
   "execution_count": 35,
   "metadata": {},
   "outputs": [],
   "source": [
    "def plot_graph(data, x_var, groupby_var, stacked, title, xlabel, ylabel):\n",
    "    df_agg = data.loc[:, [x_var, groupby_var]].groupby(groupby_var)\n",
    "    vals = [data[x_var].values.tolist() for i, data in df_agg]\n",
    "    \n",
    "    plt.figure(figsize=(13,10), dpi = 80);\n",
    "    colors = [plt.cm.Spectral(i/float(len(vals)-1)) for i in range(len(vals))]\n",
    "    n, bins, patches = plt.hist(vals, data[x_var].unique().__len__(), stacked=stacked, density=False, color=colors[:len(vals)])\n",
    "    \n",
    "    plt.legend({group:col for group, col in zip(np.unique(data[groupby_var]).tolist(), colors[:len(vals)])})\n",
    "    plt.title(title, fontsize=16)\n",
    "    plt.xlabel(xlabel, fontsize=14)\n",
    "    plt.ylabel(ylabel, fontsize=14)\n",
    "    try:\n",
    "        plt.xticks(ticks=bins, labels=np.unique(data[x_var]).tolist(), rotation=45, horizontalalignment='left')\n",
    "    except:\n",
    "        plt.xticks()\n",
    "    plt.show()"
   ]
  },
  {
   "cell_type": "code",
   "execution_count": 36,
   "metadata": {},
   "outputs": [
    {
     "data": {
      "image/png": "[encoded data removed]",
      "text/plain": [
       "<Figure size 1040x800 with 1 Axes>"
      ]
     },
     "metadata": {
      "needs_background": "light"
     },
     "output_type": "display_data"
    }
   ],
   "source": [
    "plot_graph(data_big_platforms, x_var='year_of_release', groupby_var='platform', stacked=True,\n",
    "          title='Stacked histogram of platforms distribution', xlabel='Year of release', ylabel='Frequency')"
   ]
  },
  {
   "cell_type": "markdown",
   "metadata": {},
   "source": [
    "<a id='Анализ актуального периода'></a>"
   ]
  },
  {
   "cell_type": "markdown",
   "metadata": {},
   "source": [
    "### <p style=\"text-align:center\">Анализ актуального периода</p>"
   ]
  },
  {
   "cell_type": "markdown",
   "metadata": {},
   "source": [
    "Посмотрим на популярные платформы по актуальному периоду. Оставим 8 самых продаваемых."
   ]
  },
  {
   "cell_type": "code",
   "execution_count": 37,
   "metadata": {},
   "outputs": [],
   "source": [
    "current_period_data = data.query('year_of_release > 2013')\n",
    "current_big_platforms = current_period_data.groupby('platform')['total_sales'].sum().sort_values(ascending = False).head(8)"
   ]
  },
  {
   "cell_type": "code",
   "execution_count": 38,
   "metadata": {
    "scrolled": true
   },
   "outputs": [],
   "source": [
    "current_data_big_platforms = current_period_data.query('platform in @current_big_platforms.index')\n",
    "current_data_big_platforms['platform'] = current_data_big_platforms['platform'].astype('object')"
   ]
  },
  {
   "cell_type": "markdown",
   "metadata": {},
   "source": [
    "Посмотрим на динамику роста различных платформ. На графиках ниже видно, что платформы 3DS, PS3, PSV, WiiU и X360 теряют популярность, а PC, PS4, XOne растут."
   ]
  },
  {
   "cell_type": "code",
   "execution_count": 39,
   "metadata": {
    "collapsed": true
   },
   "outputs": [
    {
     "data": {
      "image/png": "[encoded data removed]",
      "text/plain": [
       "<Figure size 432x288 with 1 Axes>"
      ]
     },
     "metadata": {
      "needs_background": "light"
     },
     "output_type": "display_data"
    },
    {
     "name": "stdout",
     "output_type": "stream",
     "text": [
      "Количество выпущенных игр на платформе 3DS: 212\n"
     ]
    },
    {
     "data": {
      "image/png": "[encoded data removed]",
      "text/plain": [
       "<Figure size 432x288 with 1 Axes>"
      ]
     },
     "metadata": {
      "needs_background": "light"
     },
     "output_type": "display_data"
    },
    {
     "name": "stdout",
     "output_type": "stream",
     "text": [
      "Количество выпущенных игр на платформе PC: 151\n"
     ]
    },
    {
     "data": {
      "image/png": "[encoded data removed]",
      "text/plain": [
       "<Figure size 432x288 with 1 Axes>"
      ]
     },
     "metadata": {
      "needs_background": "light"
     },
     "output_type": "display_data"
    },
    {
     "name": "stdout",
     "output_type": "stream",
     "text": [
      "Количество выпущенных игр на платформе PS3: 219\n"
     ]
    },
    {
     "data": {
      "image/png": "[encoded data removed]",
      "text/plain": [
       "<Figure size 432x288 with 1 Axes>"
      ]
     },
     "metadata": {
      "needs_background": "light"
     },
     "output_type": "display_data"
    },
    {
     "name": "stdout",
     "output_type": "stream",
     "text": [
      "Количество выпущенных игр на платформе PS4: 376\n"
     ]
    },
    {
     "data": {
      "image/png": "[encoded data removed]",
      "text/plain": [
       "<Figure size 432x288 with 1 Axes>"
      ]
     },
     "metadata": {
      "needs_background": "light"
     },
     "output_type": "display_data"
    },
    {
     "name": "stdout",
     "output_type": "stream",
     "text": [
      "Количество выпущенных игр на платформе PSV: 295\n"
     ]
    },
    {
     "data": {
      "image/png": "[encoded data removed]",
      "text/plain": [
       "<Figure size 432x288 with 1 Axes>"
      ]
     },
     "metadata": {
      "needs_background": "light"
     },
     "output_type": "display_data"
    },
    {
     "name": "stdout",
     "output_type": "stream",
     "text": [
      "Количество выпущенных игр на платформе WiiU: 73\n"
     ]
    },
    {
     "data": {
      "image/png": "[encoded data removed]",
      "text/plain": [
       "<Figure size 432x288 with 1 Axes>"
      ]
     },
     "metadata": {
      "needs_background": "light"
     },
     "output_type": "display_data"
    },
    {
     "name": "stdout",
     "output_type": "stream",
     "text": [
      "Количество выпущенных игр на платформе X360: 111\n"
     ]
    },
    {
     "data": {
      "image/png": "[encoded data removed]",
      "text/plain": [
       "<Figure size 432x288 with 1 Axes>"
      ]
     },
     "metadata": {
      "needs_background": "light"
     },
     "output_type": "display_data"
    },
    {
     "name": "stdout",
     "output_type": "stream",
     "text": [
      "Количество выпущенных игр на платформе XOne: 228\n"
     ]
    }
   ],
   "source": [
    "for name, data in current_data_big_platforms.groupby('platform'):\n",
    "    y_var = 'year_of_release'\n",
    "    data.plot(y = y_var, title = name, kind = 'hist', bins = 3)\n",
    "    plt.xticks(ticks = data[y_var].unique(), labels=np.unique(data[y_var]).tolist())\n",
    "    plt.xlabel('Year of release', fontsize=10)\n",
    "    plt.legend(['Games quantity distribution']) \n",
    "    plt.show()\n",
    "    print(f'Количество выпущенных игр на платформе {name}: {data.shape[0]}');"
   ]
  },
  {
   "cell_type": "markdown",
   "metadata": {},
   "source": [
    "На графике ниже видно, что по все платформы в основном имеют невысокие продажи каждой отдельной игры. Хвосты указывают не на наличие выбросов, а на наличие суперуспешных или мегаприбыльных игр."
   ]
  },
  {
   "cell_type": "code",
   "execution_count": 40,
   "metadata": {},
   "outputs": [
    {
     "data": {
      "image/png": "[encoded data removed]",
      "text/plain": [
       "<Figure size 1040x800 with 1 Axes>"
      ]
     },
     "metadata": {
      "needs_background": "light"
     },
     "output_type": "display_data"
    }
   ],
   "source": [
    "plt.figure(figsize=(13,10), dpi= 80);\n",
    "sns.violinplot(x='platform', y='total_sales', data=current_data_big_platforms, scale='width', inner='quartile')\n",
    "\n",
    "plt.title('Violin plot of different platforms sales', fontsize=14)\n",
    "plt.xlabel('Platform', fontsize=12)\n",
    "plt.ylabel('Sales', fontsize=12)\n",
    "plt.show()"
   ]
  },
  {
   "cell_type": "markdown",
   "metadata": {},
   "source": [
    "<a id='Зависимость продаж от оценок игроков и критиков'></a>"
   ]
  },
  {
   "cell_type": "markdown",
   "metadata": {},
   "source": [
    "### <p style=\"text-align:center\">Зависимость продаж от оценок игроков и критиков</p>"
   ]
  },
  {
   "cell_type": "markdown",
   "metadata": {},
   "source": [
    "Для анализа выберем самую популярную платформу - PS4."
   ]
  },
  {
   "cell_type": "markdown",
   "metadata": {},
   "source": [
    "На графике ниже видна средняя положительная корреляция общих продаж к оценкам критиков."
   ]
  },
  {
   "cell_type": "code",
   "execution_count": 41,
   "metadata": {},
   "outputs": [],
   "source": [
    "def plot_graph_seaborn(data, x, y, title, xlabel, ylabel, ylim):\n",
    "    sns.set_style('whitegrid')\n",
    "    var = sns.lmplot(x = x, y = y, data = data, height = 7, aspect = 1.6, robust = True, \n",
    "                   scatter_kws = dict(s = 60, linewidths = 0.7, edgecolors = 'black'))\n",
    "    plt.title(title, fontsize=16)\n",
    "    plt.xlabel(xlabel, fontsize = 12)\n",
    "    plt.ylabel(ylabel, fontsize=12)\n",
    "    var.set(xlim=(0, 14), ylim = ylim)\n",
    "    plt.show()"
   ]
  },
  {
   "cell_type": "code",
   "execution_count": 42,
   "metadata": {},
   "outputs": [
    {
     "data": {
      "image/png": "[encoded data removed]",
      "text/plain": [
       "<Figure size 806.4x504 with 1 Axes>"
      ]
     },
     "metadata": {},
     "output_type": "display_data"
    }
   ],
   "source": [
    "plot_graph_seaborn(data = current_data_big_platforms, x = 'total_sales', y = 'critic_score',\n",
    "                   title = 'Scatterplot with line of best fit, PS4 - сritic score', \n",
    "                   xlabel =  'Total sales', ylabel = 'Critic score', ylim=(0, 120))"
   ]
  },
  {
   "cell_type": "markdown",
   "metadata": {},
   "source": [
    "На графике ниже видна небольшая отрицательная корреляция общих продаж к оценкам игроков."
   ]
  },
  {
   "cell_type": "code",
   "execution_count": 43,
   "metadata": {},
   "outputs": [
    {
     "data": {
      "image/png": "[encoded data removed]",
      "text/plain": [
       "<Figure size 806.4x504 with 1 Axes>"
      ]
     },
     "metadata": {},
     "output_type": "display_data"
    }
   ],
   "source": [
    "plot_graph_seaborn(data = current_data_big_platforms, x = 'total_sales', y = 'user_score',\n",
    "                   title = 'Scatterplot with line of best fit, PS4 - user score', \n",
    "                   xlabel = 'Total sales', ylabel = 'User score', ylim=(0, 12))"
   ]
  },
  {
   "cell_type": "markdown",
   "metadata": {},
   "source": [
    "Посчитаем корреляцию для платформы PS4."
   ]
  },
  {
   "cell_type": "code",
   "execution_count": 44,
   "metadata": {},
   "outputs": [],
   "source": [
    "def calculate_correlation(data, single_platform, caption, platform_name = None):\n",
    "    if single_platform:\n",
    "        return data.loc[data['platform'] == platform_name][['critic_score', 'user_score', 'total_sales']].corr().\\\n",
    "        style.background_gradient(subset=['critic_score', 'user_score', 'total_sales'], cmap='Greens').\\\n",
    "        set_caption(caption).\\\n",
    "        set_table_styles([{'selector': 'caption', 'props': [('color', 'green'), ('font-size', '15px')]}])\n",
    "    else:\n",
    "        return data.groupby('platform')['critic_score','user_score', 'total_sales'].corr().\\\n",
    "        style.background_gradient(subset=['critic_score', 'user_score', 'total_sales'], cmap='Blues').\\\n",
    "        set_caption(caption).\\\n",
    "        set_table_styles([{'selector': 'caption', 'props': [('color', 'blue'), ('font-size', '15px')]}])"
   ]
  },
  {
   "cell_type": "code",
   "execution_count": 45,
   "metadata": {},
   "outputs": [
    {
     "data": {
      "text/html": [
       "<style  type=\"text/css\" >\n",
       "    #T_40c78218_833d_11eb_90a2_02420a3969b0 caption {\n",
       "          color: green;\n",
       "          font-size: 15px;\n",
       "    }    #T_40c78218_833d_11eb_90a2_02420a3969b0row0_col0 {\n",
       "            background-color:  #00441b;\n",
       "            color:  #f1f1f1;\n",
       "        }    #T_40c78218_833d_11eb_90a2_02420a3969b0row0_col1 {\n",
       "            background-color:  #5ab769;\n",
       "            color:  #000000;\n",
       "        }    #T_40c78218_833d_11eb_90a2_02420a3969b0row0_col2 {\n",
       "            background-color:  #90d18d;\n",
       "            color:  #000000;\n",
       "        }    #T_40c78218_833d_11eb_90a2_02420a3969b0row1_col0 {\n",
       "            background-color:  #caeac3;\n",
       "            color:  #000000;\n",
       "        }    #T_40c78218_833d_11eb_90a2_02420a3969b0row1_col1 {\n",
       "            background-color:  #00441b;\n",
       "            color:  #f1f1f1;\n",
       "        }    #T_40c78218_833d_11eb_90a2_02420a3969b0row1_col2 {\n",
       "            background-color:  #f7fcf5;\n",
       "            color:  #000000;\n",
       "        }    #T_40c78218_833d_11eb_90a2_02420a3969b0row2_col0 {\n",
       "            background-color:  #f7fcf5;\n",
       "            color:  #000000;\n",
       "        }    #T_40c78218_833d_11eb_90a2_02420a3969b0row2_col1 {\n",
       "            background-color:  #f7fcf5;\n",
       "            color:  #000000;\n",
       "        }    #T_40c78218_833d_11eb_90a2_02420a3969b0row2_col2 {\n",
       "            background-color:  #00441b;\n",
       "            color:  #f1f1f1;\n",
       "        }</style><table id=\"T_40c78218_833d_11eb_90a2_02420a3969b0\" ><caption>Correlation of PS4</caption><thead>    <tr>        <th class=\"blank level0\" ></th>        <th class=\"col_heading level0 col0\" >critic_score</th>        <th class=\"col_heading level0 col1\" >user_score</th>        <th class=\"col_heading level0 col2\" >total_sales</th>    </tr></thead><tbody>\n",
       "                <tr>\n",
       "                        <th id=\"T_40c78218_833d_11eb_90a2_02420a3969b0level0_row0\" class=\"row_heading level0 row0\" >critic_score</th>\n",
       "                        <td id=\"T_40c78218_833d_11eb_90a2_02420a3969b0row0_col0\" class=\"data row0 col0\" >1</td>\n",
       "                        <td id=\"T_40c78218_833d_11eb_90a2_02420a3969b0row0_col1\" class=\"data row0 col1\" >0.546434</td>\n",
       "                        <td id=\"T_40c78218_833d_11eb_90a2_02420a3969b0row0_col2\" class=\"data row0 col2\" >0.402661</td>\n",
       "            </tr>\n",
       "            <tr>\n",
       "                        <th id=\"T_40c78218_833d_11eb_90a2_02420a3969b0level0_row1\" class=\"row_heading level0 row1\" >user_score</th>\n",
       "                        <td id=\"T_40c78218_833d_11eb_90a2_02420a3969b0row1_col0\" class=\"data row1 col0\" >0.546434</td>\n",
       "                        <td id=\"T_40c78218_833d_11eb_90a2_02420a3969b0row1_col1\" class=\"data row1 col1\" >1</td>\n",
       "                        <td id=\"T_40c78218_833d_11eb_90a2_02420a3969b0row1_col2\" class=\"data row1 col2\" >-0.0401316</td>\n",
       "            </tr>\n",
       "            <tr>\n",
       "                        <th id=\"T_40c78218_833d_11eb_90a2_02420a3969b0level0_row2\" class=\"row_heading level0 row2\" >total_sales</th>\n",
       "                        <td id=\"T_40c78218_833d_11eb_90a2_02420a3969b0row2_col0\" class=\"data row2 col0\" >0.402661</td>\n",
       "                        <td id=\"T_40c78218_833d_11eb_90a2_02420a3969b0row2_col1\" class=\"data row2 col1\" >-0.0401316</td>\n",
       "                        <td id=\"T_40c78218_833d_11eb_90a2_02420a3969b0row2_col2\" class=\"data row2 col2\" >1</td>\n",
       "            </tr>\n",
       "    </tbody></table>"
      ],
      "text/plain": [
       "<pandas.io.formats.style.Styler at 0x7f828343fad0>"
      ]
     },
     "execution_count": 45,
     "metadata": {},
     "output_type": "execute_result"
    }
   ],
   "source": [
    "calculate_correlation(data = current_data_big_platforms, single_platform = True, platform_name = 'PS4',\n",
    "                      caption = 'Correlation of PS4')"
   ]
  },
  {
   "cell_type": "markdown",
   "metadata": {},
   "source": [
    "Можно сказать, что между отзывами критиков и продажами существует небольшая положительная корреляция, а между отзывами игроков и продажами - небольшая отрицательная корреляция."
   ]
  },
  {
   "cell_type": "code",
   "execution_count": 46,
   "metadata": {},
   "outputs": [
    {
     "data": {
      "text/html": [
       "<style  type=\"text/css\" >\n",
       "    #T_40f184c8_833d_11eb_90a2_02420a3969b0 caption {\n",
       "          color: blue;\n",
       "          font-size: 15px;\n",
       "    }    #T_40f184c8_833d_11eb_90a2_02420a3969b0row0_col0 {\n",
       "            background-color:  #08306b;\n",
       "            color:  #f1f1f1;\n",
       "        }    #T_40f184c8_833d_11eb_90a2_02420a3969b0row0_col1 {\n",
       "            background-color:  #084f99;\n",
       "            color:  #f1f1f1;\n",
       "        }    #T_40f184c8_833d_11eb_90a2_02420a3969b0row0_col2 {\n",
       "            background-color:  #8fc2de;\n",
       "            color:  #000000;\n",
       "        }    #T_40f184c8_833d_11eb_90a2_02420a3969b0row1_col0 {\n",
       "            background-color:  #0b559f;\n",
       "            color:  #f1f1f1;\n",
       "        }    #T_40f184c8_833d_11eb_90a2_02420a3969b0row1_col1 {\n",
       "            background-color:  #08306b;\n",
       "            color:  #f1f1f1;\n",
       "        }    #T_40f184c8_833d_11eb_90a2_02420a3969b0row1_col2 {\n",
       "            background-color:  #add0e6;\n",
       "            color:  #000000;\n",
       "        }    #T_40f184c8_833d_11eb_90a2_02420a3969b0row2_col0 {\n",
       "            background-color:  #bcd7eb;\n",
       "            color:  #000000;\n",
       "        }    #T_40f184c8_833d_11eb_90a2_02420a3969b0row2_col1 {\n",
       "            background-color:  #add0e6;\n",
       "            color:  #000000;\n",
       "        }    #T_40f184c8_833d_11eb_90a2_02420a3969b0row2_col2 {\n",
       "            background-color:  #08306b;\n",
       "            color:  #f1f1f1;\n",
       "        }    #T_40f184c8_833d_11eb_90a2_02420a3969b0row3_col0 {\n",
       "            background-color:  #08306b;\n",
       "            color:  #f1f1f1;\n",
       "        }    #T_40f184c8_833d_11eb_90a2_02420a3969b0row3_col1 {\n",
       "            background-color:  #5ca4d0;\n",
       "            color:  #000000;\n",
       "        }    #T_40f184c8_833d_11eb_90a2_02420a3969b0row3_col2 {\n",
       "            background-color:  #b8d5ea;\n",
       "            color:  #000000;\n",
       "        }    #T_40f184c8_833d_11eb_90a2_02420a3969b0row4_col0 {\n",
       "            background-color:  #82bbdb;\n",
       "            color:  #000000;\n",
       "        }    #T_40f184c8_833d_11eb_90a2_02420a3969b0row4_col1 {\n",
       "            background-color:  #08306b;\n",
       "            color:  #f1f1f1;\n",
       "        }    #T_40f184c8_833d_11eb_90a2_02420a3969b0row4_col2 {\n",
       "            background-color:  #e7f0fa;\n",
       "            color:  #000000;\n",
       "        }    #T_40f184c8_833d_11eb_90a2_02420a3969b0row5_col0 {\n",
       "            background-color:  #dce9f6;\n",
       "            color:  #000000;\n",
       "        }    #T_40f184c8_833d_11eb_90a2_02420a3969b0row5_col1 {\n",
       "            background-color:  #e7f0fa;\n",
       "            color:  #000000;\n",
       "        }    #T_40f184c8_833d_11eb_90a2_02420a3969b0row5_col2 {\n",
       "            background-color:  #08306b;\n",
       "            color:  #f1f1f1;\n",
       "        }    #T_40f184c8_833d_11eb_90a2_02420a3969b0row6_col0 {\n",
       "            background-color:  #08306b;\n",
       "            color:  #f1f1f1;\n",
       "        }    #T_40f184c8_833d_11eb_90a2_02420a3969b0row6_col1 {\n",
       "            background-color:  #2474b7;\n",
       "            color:  #f1f1f1;\n",
       "        }    #T_40f184c8_833d_11eb_90a2_02420a3969b0row6_col2 {\n",
       "            background-color:  #63a8d3;\n",
       "            color:  #000000;\n",
       "        }    #T_40f184c8_833d_11eb_90a2_02420a3969b0row7_col0 {\n",
       "            background-color:  #3383be;\n",
       "            color:  #000000;\n",
       "        }    #T_40f184c8_833d_11eb_90a2_02420a3969b0row7_col1 {\n",
       "            background-color:  #08306b;\n",
       "            color:  #f1f1f1;\n",
       "        }    #T_40f184c8_833d_11eb_90a2_02420a3969b0row7_col2 {\n",
       "            background-color:  #f7fbff;\n",
       "            color:  #000000;\n",
       "        }    #T_40f184c8_833d_11eb_90a2_02420a3969b0row8_col0 {\n",
       "            background-color:  #8abfdd;\n",
       "            color:  #000000;\n",
       "        }    #T_40f184c8_833d_11eb_90a2_02420a3969b0row8_col1 {\n",
       "            background-color:  #f7fbff;\n",
       "            color:  #000000;\n",
       "        }    #T_40f184c8_833d_11eb_90a2_02420a3969b0row8_col2 {\n",
       "            background-color:  #08306b;\n",
       "            color:  #f1f1f1;\n",
       "        }    #T_40f184c8_833d_11eb_90a2_02420a3969b0row9_col0 {\n",
       "            background-color:  #08306b;\n",
       "            color:  #f1f1f1;\n",
       "        }    #T_40f184c8_833d_11eb_90a2_02420a3969b0row9_col1 {\n",
       "            background-color:  #4695c8;\n",
       "            color:  #000000;\n",
       "        }    #T_40f184c8_833d_11eb_90a2_02420a3969b0row9_col2 {\n",
       "            background-color:  #6fb0d7;\n",
       "            color:  #000000;\n",
       "        }    #T_40f184c8_833d_11eb_90a2_02420a3969b0row10_col0 {\n",
       "            background-color:  #63a8d3;\n",
       "            color:  #000000;\n",
       "        }    #T_40f184c8_833d_11eb_90a2_02420a3969b0row10_col1 {\n",
       "            background-color:  #08306b;\n",
       "            color:  #f1f1f1;\n",
       "        }    #T_40f184c8_833d_11eb_90a2_02420a3969b0row10_col2 {\n",
       "            background-color:  #e1edf8;\n",
       "            color:  #000000;\n",
       "        }    #T_40f184c8_833d_11eb_90a2_02420a3969b0row11_col0 {\n",
       "            background-color:  #9dcae1;\n",
       "            color:  #000000;\n",
       "        }    #T_40f184c8_833d_11eb_90a2_02420a3969b0row11_col1 {\n",
       "            background-color:  #e1edf8;\n",
       "            color:  #000000;\n",
       "        }    #T_40f184c8_833d_11eb_90a2_02420a3969b0row11_col2 {\n",
       "            background-color:  #08306b;\n",
       "            color:  #f1f1f1;\n",
       "        }    #T_40f184c8_833d_11eb_90a2_02420a3969b0row12_col0 {\n",
       "            background-color:  #08306b;\n",
       "            color:  #f1f1f1;\n",
       "        }    #T_40f184c8_833d_11eb_90a2_02420a3969b0row12_col1 {\n",
       "            background-color:  #4d99ca;\n",
       "            color:  #000000;\n",
       "        }    #T_40f184c8_833d_11eb_90a2_02420a3969b0row12_col2 {\n",
       "            background-color:  #d3e4f3;\n",
       "            color:  #000000;\n",
       "        }    #T_40f184c8_833d_11eb_90a2_02420a3969b0row13_col0 {\n",
       "            background-color:  #6aaed6;\n",
       "            color:  #000000;\n",
       "        }    #T_40f184c8_833d_11eb_90a2_02420a3969b0row13_col1 {\n",
       "            background-color:  #08306b;\n",
       "            color:  #f1f1f1;\n",
       "        }    #T_40f184c8_833d_11eb_90a2_02420a3969b0row13_col2 {\n",
       "            background-color:  #f7fbff;\n",
       "            color:  #000000;\n",
       "        }    #T_40f184c8_833d_11eb_90a2_02420a3969b0row14_col0 {\n",
       "            background-color:  #f7fbff;\n",
       "            color:  #000000;\n",
       "        }    #T_40f184c8_833d_11eb_90a2_02420a3969b0row14_col1 {\n",
       "            background-color:  #f7fbff;\n",
       "            color:  #000000;\n",
       "        }    #T_40f184c8_833d_11eb_90a2_02420a3969b0row14_col2 {\n",
       "            background-color:  #08306b;\n",
       "            color:  #f1f1f1;\n",
       "        }    #T_40f184c8_833d_11eb_90a2_02420a3969b0row15_col0 {\n",
       "            background-color:  #08306b;\n",
       "            color:  #f1f1f1;\n",
       "        }    #T_40f184c8_833d_11eb_90a2_02420a3969b0row15_col1 {\n",
       "            background-color:  #1764ab;\n",
       "            color:  #f1f1f1;\n",
       "        }    #T_40f184c8_833d_11eb_90a2_02420a3969b0row15_col2 {\n",
       "            background-color:  #7ab6d9;\n",
       "            color:  #000000;\n",
       "        }    #T_40f184c8_833d_11eb_90a2_02420a3969b0row16_col0 {\n",
       "            background-color:  #2070b4;\n",
       "            color:  #f1f1f1;\n",
       "        }    #T_40f184c8_833d_11eb_90a2_02420a3969b0row16_col1 {\n",
       "            background-color:  #08306b;\n",
       "            color:  #f1f1f1;\n",
       "        }    #T_40f184c8_833d_11eb_90a2_02420a3969b0row16_col2 {\n",
       "            background-color:  #6dafd7;\n",
       "            color:  #000000;\n",
       "        }    #T_40f184c8_833d_11eb_90a2_02420a3969b0row17_col0 {\n",
       "            background-color:  #a9cfe5;\n",
       "            color:  #000000;\n",
       "        }    #T_40f184c8_833d_11eb_90a2_02420a3969b0row17_col1 {\n",
       "            background-color:  #6dafd7;\n",
       "            color:  #000000;\n",
       "        }    #T_40f184c8_833d_11eb_90a2_02420a3969b0row17_col2 {\n",
       "            background-color:  #08306b;\n",
       "            color:  #f1f1f1;\n",
       "        }    #T_40f184c8_833d_11eb_90a2_02420a3969b0row18_col0 {\n",
       "            background-color:  #08306b;\n",
       "            color:  #f1f1f1;\n",
       "        }    #T_40f184c8_833d_11eb_90a2_02420a3969b0row18_col1 {\n",
       "            background-color:  #3484bf;\n",
       "            color:  #000000;\n",
       "        }    #T_40f184c8_833d_11eb_90a2_02420a3969b0row18_col2 {\n",
       "            background-color:  #4b98ca;\n",
       "            color:  #000000;\n",
       "        }    #T_40f184c8_833d_11eb_90a2_02420a3969b0row19_col0 {\n",
       "            background-color:  #4896c8;\n",
       "            color:  #000000;\n",
       "        }    #T_40f184c8_833d_11eb_90a2_02420a3969b0row19_col1 {\n",
       "            background-color:  #08306b;\n",
       "            color:  #f1f1f1;\n",
       "        }    #T_40f184c8_833d_11eb_90a2_02420a3969b0row19_col2 {\n",
       "            background-color:  #f2f8fd;\n",
       "            color:  #000000;\n",
       "        }    #T_40f184c8_833d_11eb_90a2_02420a3969b0row20_col0 {\n",
       "            background-color:  #69add5;\n",
       "            color:  #000000;\n",
       "        }    #T_40f184c8_833d_11eb_90a2_02420a3969b0row20_col1 {\n",
       "            background-color:  #f2f8fd;\n",
       "            color:  #000000;\n",
       "        }    #T_40f184c8_833d_11eb_90a2_02420a3969b0row20_col2 {\n",
       "            background-color:  #08306b;\n",
       "            color:  #f1f1f1;\n",
       "        }    #T_40f184c8_833d_11eb_90a2_02420a3969b0row21_col0 {\n",
       "            background-color:  #08306b;\n",
       "            color:  #f1f1f1;\n",
       "        }    #T_40f184c8_833d_11eb_90a2_02420a3969b0row21_col1 {\n",
       "            background-color:  #64a9d3;\n",
       "            color:  #000000;\n",
       "        }    #T_40f184c8_833d_11eb_90a2_02420a3969b0row21_col2 {\n",
       "            background-color:  #68acd5;\n",
       "            color:  #000000;\n",
       "        }    #T_40f184c8_833d_11eb_90a2_02420a3969b0row22_col0 {\n",
       "            background-color:  #8dc1dd;\n",
       "            color:  #000000;\n",
       "        }    #T_40f184c8_833d_11eb_90a2_02420a3969b0row22_col1 {\n",
       "            background-color:  #08306b;\n",
       "            color:  #f1f1f1;\n",
       "        }    #T_40f184c8_833d_11eb_90a2_02420a3969b0row22_col2 {\n",
       "            background-color:  #e7f0fa;\n",
       "            color:  #000000;\n",
       "        }    #T_40f184c8_833d_11eb_90a2_02420a3969b0row23_col0 {\n",
       "            background-color:  #92c4de;\n",
       "            color:  #000000;\n",
       "        }    #T_40f184c8_833d_11eb_90a2_02420a3969b0row23_col1 {\n",
       "            background-color:  #e7f0fa;\n",
       "            color:  #000000;\n",
       "        }    #T_40f184c8_833d_11eb_90a2_02420a3969b0row23_col2 {\n",
       "            background-color:  #08306b;\n",
       "            color:  #f1f1f1;\n",
       "        }</style><table id=\"T_40f184c8_833d_11eb_90a2_02420a3969b0\" ><caption>Correlation of other platforms</caption><thead>    <tr>        <th class=\"blank\" ></th>        <th class=\"blank level0\" ></th>        <th class=\"col_heading level0 col0\" >critic_score</th>        <th class=\"col_heading level0 col1\" >user_score</th>        <th class=\"col_heading level0 col2\" >total_sales</th>    </tr>    <tr>        <th class=\"index_name level0\" >platform</th>        <th class=\"index_name level1\" ></th>        <th class=\"blank\" ></th>        <th class=\"blank\" ></th>        <th class=\"blank\" ></th>    </tr></thead><tbody>\n",
       "                <tr>\n",
       "                        <th id=\"T_40f184c8_833d_11eb_90a2_02420a3969b0level0_row0\" class=\"row_heading level0 row0\" rowspan=3>3DS</th>\n",
       "                        <th id=\"T_40f184c8_833d_11eb_90a2_02420a3969b0level1_row0\" class=\"row_heading level1 row0\" >critic_score</th>\n",
       "                        <td id=\"T_40f184c8_833d_11eb_90a2_02420a3969b0row0_col0\" class=\"data row0 col0\" >1</td>\n",
       "                        <td id=\"T_40f184c8_833d_11eb_90a2_02420a3969b0row0_col1\" class=\"data row0 col1\" >0.862485</td>\n",
       "                        <td id=\"T_40f184c8_833d_11eb_90a2_02420a3969b0row0_col2\" class=\"data row0 col2\" >0.314117</td>\n",
       "            </tr>\n",
       "            <tr>\n",
       "                                <th id=\"T_40f184c8_833d_11eb_90a2_02420a3969b0level1_row1\" class=\"row_heading level1 row1\" >user_score</th>\n",
       "                        <td id=\"T_40f184c8_833d_11eb_90a2_02420a3969b0row1_col0\" class=\"data row1 col0\" >0.862485</td>\n",
       "                        <td id=\"T_40f184c8_833d_11eb_90a2_02420a3969b0row1_col1\" class=\"data row1 col1\" >1</td>\n",
       "                        <td id=\"T_40f184c8_833d_11eb_90a2_02420a3969b0row1_col2\" class=\"data row1 col2\" >0.215193</td>\n",
       "            </tr>\n",
       "            <tr>\n",
       "                                <th id=\"T_40f184c8_833d_11eb_90a2_02420a3969b0level1_row2\" class=\"row_heading level1 row2\" >total_sales</th>\n",
       "                        <td id=\"T_40f184c8_833d_11eb_90a2_02420a3969b0row2_col0\" class=\"data row2 col0\" >0.314117</td>\n",
       "                        <td id=\"T_40f184c8_833d_11eb_90a2_02420a3969b0row2_col1\" class=\"data row2 col1\" >0.215193</td>\n",
       "                        <td id=\"T_40f184c8_833d_11eb_90a2_02420a3969b0row2_col2\" class=\"data row2 col2\" >1</td>\n",
       "            </tr>\n",
       "            <tr>\n",
       "                        <th id=\"T_40f184c8_833d_11eb_90a2_02420a3969b0level0_row3\" class=\"row_heading level0 row3\" rowspan=3>PC</th>\n",
       "                        <th id=\"T_40f184c8_833d_11eb_90a2_02420a3969b0level1_row3\" class=\"row_heading level1 row3\" >critic_score</th>\n",
       "                        <td id=\"T_40f184c8_833d_11eb_90a2_02420a3969b0row3_col0\" class=\"data row3 col0\" >1</td>\n",
       "                        <td id=\"T_40f184c8_833d_11eb_90a2_02420a3969b0row3_col1\" class=\"data row3 col1\" >0.466099</td>\n",
       "                        <td id=\"T_40f184c8_833d_11eb_90a2_02420a3969b0row3_col2\" class=\"data row3 col2\" >0.174634</td>\n",
       "            </tr>\n",
       "            <tr>\n",
       "                                <th id=\"T_40f184c8_833d_11eb_90a2_02420a3969b0level1_row4\" class=\"row_heading level1 row4\" >user_score</th>\n",
       "                        <td id=\"T_40f184c8_833d_11eb_90a2_02420a3969b0row4_col0\" class=\"data row4 col0\" >0.466099</td>\n",
       "                        <td id=\"T_40f184c8_833d_11eb_90a2_02420a3969b0row4_col1\" class=\"data row4 col1\" >1</td>\n",
       "                        <td id=\"T_40f184c8_833d_11eb_90a2_02420a3969b0row4_col2\" class=\"data row4 col2\" >-0.0715967</td>\n",
       "            </tr>\n",
       "            <tr>\n",
       "                                <th id=\"T_40f184c8_833d_11eb_90a2_02420a3969b0level1_row5\" class=\"row_heading level1 row5\" >total_sales</th>\n",
       "                        <td id=\"T_40f184c8_833d_11eb_90a2_02420a3969b0row5_col0\" class=\"data row5 col0\" >0.174634</td>\n",
       "                        <td id=\"T_40f184c8_833d_11eb_90a2_02420a3969b0row5_col1\" class=\"data row5 col1\" >-0.0715967</td>\n",
       "                        <td id=\"T_40f184c8_833d_11eb_90a2_02420a3969b0row5_col2\" class=\"data row5 col2\" >1</td>\n",
       "            </tr>\n",
       "            <tr>\n",
       "                        <th id=\"T_40f184c8_833d_11eb_90a2_02420a3969b0level0_row6\" class=\"row_heading level0 row6\" rowspan=3>PS3</th>\n",
       "                        <th id=\"T_40f184c8_833d_11eb_90a2_02420a3969b0level1_row6\" class=\"row_heading level1 row6\" >critic_score</th>\n",
       "                        <td id=\"T_40f184c8_833d_11eb_90a2_02420a3969b0row6_col0\" class=\"data row6 col0\" >1</td>\n",
       "                        <td id=\"T_40f184c8_833d_11eb_90a2_02420a3969b0row6_col1\" class=\"data row6 col1\" >0.693445</td>\n",
       "                        <td id=\"T_40f184c8_833d_11eb_90a2_02420a3969b0row6_col2\" class=\"data row6 col2\" >0.446575</td>\n",
       "            </tr>\n",
       "            <tr>\n",
       "                                <th id=\"T_40f184c8_833d_11eb_90a2_02420a3969b0level1_row7\" class=\"row_heading level1 row7\" >user_score</th>\n",
       "                        <td id=\"T_40f184c8_833d_11eb_90a2_02420a3969b0row7_col0\" class=\"data row7 col0\" >0.693445</td>\n",
       "                        <td id=\"T_40f184c8_833d_11eb_90a2_02420a3969b0row7_col1\" class=\"data row7 col1\" >1</td>\n",
       "                        <td id=\"T_40f184c8_833d_11eb_90a2_02420a3969b0row7_col2\" class=\"data row7 col2\" >-0.166761</td>\n",
       "            </tr>\n",
       "            <tr>\n",
       "                                <th id=\"T_40f184c8_833d_11eb_90a2_02420a3969b0level1_row8\" class=\"row_heading level1 row8\" >total_sales</th>\n",
       "                        <td id=\"T_40f184c8_833d_11eb_90a2_02420a3969b0row8_col0\" class=\"data row8 col0\" >0.446575</td>\n",
       "                        <td id=\"T_40f184c8_833d_11eb_90a2_02420a3969b0row8_col1\" class=\"data row8 col1\" >-0.166761</td>\n",
       "                        <td id=\"T_40f184c8_833d_11eb_90a2_02420a3969b0row8_col2\" class=\"data row8 col2\" >1</td>\n",
       "            </tr>\n",
       "            <tr>\n",
       "                        <th id=\"T_40f184c8_833d_11eb_90a2_02420a3969b0level0_row9\" class=\"row_heading level0 row9\" rowspan=3>PS4</th>\n",
       "                        <th id=\"T_40f184c8_833d_11eb_90a2_02420a3969b0level1_row9\" class=\"row_heading level1 row9\" >critic_score</th>\n",
       "                        <td id=\"T_40f184c8_833d_11eb_90a2_02420a3969b0row9_col0\" class=\"data row9 col0\" >1</td>\n",
       "                        <td id=\"T_40f184c8_833d_11eb_90a2_02420a3969b0row9_col1\" class=\"data row9 col1\" >0.546434</td>\n",
       "                        <td id=\"T_40f184c8_833d_11eb_90a2_02420a3969b0row9_col2\" class=\"data row9 col2\" >0.402661</td>\n",
       "            </tr>\n",
       "            <tr>\n",
       "                                <th id=\"T_40f184c8_833d_11eb_90a2_02420a3969b0level1_row10\" class=\"row_heading level1 row10\" >user_score</th>\n",
       "                        <td id=\"T_40f184c8_833d_11eb_90a2_02420a3969b0row10_col0\" class=\"data row10 col0\" >0.546434</td>\n",
       "                        <td id=\"T_40f184c8_833d_11eb_90a2_02420a3969b0row10_col1\" class=\"data row10 col1\" >1</td>\n",
       "                        <td id=\"T_40f184c8_833d_11eb_90a2_02420a3969b0row10_col2\" class=\"data row10 col2\" >-0.0401316</td>\n",
       "            </tr>\n",
       "            <tr>\n",
       "                                <th id=\"T_40f184c8_833d_11eb_90a2_02420a3969b0level1_row11\" class=\"row_heading level1 row11\" >total_sales</th>\n",
       "                        <td id=\"T_40f184c8_833d_11eb_90a2_02420a3969b0row11_col0\" class=\"data row11 col0\" >0.402661</td>\n",
       "                        <td id=\"T_40f184c8_833d_11eb_90a2_02420a3969b0row11_col1\" class=\"data row11 col1\" >-0.0401316</td>\n",
       "                        <td id=\"T_40f184c8_833d_11eb_90a2_02420a3969b0row11_col2\" class=\"data row11 col2\" >1</td>\n",
       "            </tr>\n",
       "            <tr>\n",
       "                        <th id=\"T_40f184c8_833d_11eb_90a2_02420a3969b0level0_row12\" class=\"row_heading level0 row12\" rowspan=3>PSV</th>\n",
       "                        <th id=\"T_40f184c8_833d_11eb_90a2_02420a3969b0level1_row12\" class=\"row_heading level1 row12\" >critic_score</th>\n",
       "                        <td id=\"T_40f184c8_833d_11eb_90a2_02420a3969b0row12_col0\" class=\"data row12 col0\" >1</td>\n",
       "                        <td id=\"T_40f184c8_833d_11eb_90a2_02420a3969b0row12_col1\" class=\"data row12 col1\" >0.524066</td>\n",
       "                        <td id=\"T_40f184c8_833d_11eb_90a2_02420a3969b0row12_col2\" class=\"data row12 col2\" >0.0426649</td>\n",
       "            </tr>\n",
       "            <tr>\n",
       "                                <th id=\"T_40f184c8_833d_11eb_90a2_02420a3969b0level1_row13\" class=\"row_heading level1 row13\" >user_score</th>\n",
       "                        <td id=\"T_40f184c8_833d_11eb_90a2_02420a3969b0row13_col0\" class=\"data row13 col0\" >0.524066</td>\n",
       "                        <td id=\"T_40f184c8_833d_11eb_90a2_02420a3969b0row13_col1\" class=\"data row13 col1\" >1</td>\n",
       "                        <td id=\"T_40f184c8_833d_11eb_90a2_02420a3969b0row13_col2\" class=\"data row13 col2\" >-0.168455</td>\n",
       "            </tr>\n",
       "            <tr>\n",
       "                                <th id=\"T_40f184c8_833d_11eb_90a2_02420a3969b0level1_row14\" class=\"row_heading level1 row14\" >total_sales</th>\n",
       "                        <td id=\"T_40f184c8_833d_11eb_90a2_02420a3969b0row14_col0\" class=\"data row14 col0\" >0.0426649</td>\n",
       "                        <td id=\"T_40f184c8_833d_11eb_90a2_02420a3969b0row14_col1\" class=\"data row14 col1\" >-0.168455</td>\n",
       "                        <td id=\"T_40f184c8_833d_11eb_90a2_02420a3969b0row14_col2\" class=\"data row14 col2\" >1</td>\n",
       "            </tr>\n",
       "            <tr>\n",
       "                        <th id=\"T_40f184c8_833d_11eb_90a2_02420a3969b0level0_row15\" class=\"row_heading level0 row15\" rowspan=3>WiiU</th>\n",
       "                        <th id=\"T_40f184c8_833d_11eb_90a2_02420a3969b0level1_row15\" class=\"row_heading level1 row15\" >critic_score</th>\n",
       "                        <td id=\"T_40f184c8_833d_11eb_90a2_02420a3969b0row15_col0\" class=\"data row15 col0\" >1</td>\n",
       "                        <td id=\"T_40f184c8_833d_11eb_90a2_02420a3969b0row15_col1\" class=\"data row15 col1\" >0.763536</td>\n",
       "                        <td id=\"T_40f184c8_833d_11eb_90a2_02420a3969b0row15_col2\" class=\"data row15 col2\" >0.370201</td>\n",
       "            </tr>\n",
       "            <tr>\n",
       "                                <th id=\"T_40f184c8_833d_11eb_90a2_02420a3969b0level1_row16\" class=\"row_heading level1 row16\" >user_score</th>\n",
       "                        <td id=\"T_40f184c8_833d_11eb_90a2_02420a3969b0row16_col0\" class=\"data row16 col0\" >0.763536</td>\n",
       "                        <td id=\"T_40f184c8_833d_11eb_90a2_02420a3969b0row16_col1\" class=\"data row16 col1\" >1</td>\n",
       "                        <td id=\"T_40f184c8_833d_11eb_90a2_02420a3969b0row16_col2\" class=\"data row16 col2\" >0.407926</td>\n",
       "            </tr>\n",
       "            <tr>\n",
       "                                <th id=\"T_40f184c8_833d_11eb_90a2_02420a3969b0level1_row17\" class=\"row_heading level1 row17\" >total_sales</th>\n",
       "                        <td id=\"T_40f184c8_833d_11eb_90a2_02420a3969b0row17_col0\" class=\"data row17 col0\" >0.370201</td>\n",
       "                        <td id=\"T_40f184c8_833d_11eb_90a2_02420a3969b0row17_col1\" class=\"data row17 col1\" >0.407926</td>\n",
       "                        <td id=\"T_40f184c8_833d_11eb_90a2_02420a3969b0row17_col2\" class=\"data row17 col2\" >1</td>\n",
       "            </tr>\n",
       "            <tr>\n",
       "                        <th id=\"T_40f184c8_833d_11eb_90a2_02420a3969b0level0_row18\" class=\"row_heading level0 row18\" rowspan=3>X360</th>\n",
       "                        <th id=\"T_40f184c8_833d_11eb_90a2_02420a3969b0level1_row18\" class=\"row_heading level1 row18\" >critic_score</th>\n",
       "                        <td id=\"T_40f184c8_833d_11eb_90a2_02420a3969b0row18_col0\" class=\"data row18 col0\" >1</td>\n",
       "                        <td id=\"T_40f184c8_833d_11eb_90a2_02420a3969b0row18_col1\" class=\"data row18 col1\" >0.625309</td>\n",
       "                        <td id=\"T_40f184c8_833d_11eb_90a2_02420a3969b0row18_col2\" class=\"data row18 col2\" >0.525723</td>\n",
       "            </tr>\n",
       "            <tr>\n",
       "                                <th id=\"T_40f184c8_833d_11eb_90a2_02420a3969b0level1_row19\" class=\"row_heading level1 row19\" >user_score</th>\n",
       "                        <td id=\"T_40f184c8_833d_11eb_90a2_02420a3969b0row19_col0\" class=\"data row19 col0\" >0.625309</td>\n",
       "                        <td id=\"T_40f184c8_833d_11eb_90a2_02420a3969b0row19_col1\" class=\"data row19 col1\" >1</td>\n",
       "                        <td id=\"T_40f184c8_833d_11eb_90a2_02420a3969b0row19_col2\" class=\"data row19 col2\" >-0.138445</td>\n",
       "            </tr>\n",
       "            <tr>\n",
       "                                <th id=\"T_40f184c8_833d_11eb_90a2_02420a3969b0level1_row20\" class=\"row_heading level1 row20\" >total_sales</th>\n",
       "                        <td id=\"T_40f184c8_833d_11eb_90a2_02420a3969b0row20_col0\" class=\"data row20 col0\" >0.525723</td>\n",
       "                        <td id=\"T_40f184c8_833d_11eb_90a2_02420a3969b0row20_col1\" class=\"data row20 col1\" >-0.138445</td>\n",
       "                        <td id=\"T_40f184c8_833d_11eb_90a2_02420a3969b0row20_col2\" class=\"data row20 col2\" >1</td>\n",
       "            </tr>\n",
       "            <tr>\n",
       "                        <th id=\"T_40f184c8_833d_11eb_90a2_02420a3969b0level0_row21\" class=\"row_heading level0 row21\" rowspan=3>XOne</th>\n",
       "                        <th id=\"T_40f184c8_833d_11eb_90a2_02420a3969b0level1_row21\" class=\"row_heading level1 row21\" >critic_score</th>\n",
       "                        <td id=\"T_40f184c8_833d_11eb_90a2_02420a3969b0row21_col0\" class=\"data row21 col0\" >1</td>\n",
       "                        <td id=\"T_40f184c8_833d_11eb_90a2_02420a3969b0row21_col1\" class=\"data row21 col1\" >0.440977</td>\n",
       "                        <td id=\"T_40f184c8_833d_11eb_90a2_02420a3969b0row21_col2\" class=\"data row21 col2\" >0.428677</td>\n",
       "            </tr>\n",
       "            <tr>\n",
       "                                <th id=\"T_40f184c8_833d_11eb_90a2_02420a3969b0level1_row22\" class=\"row_heading level1 row22\" >user_score</th>\n",
       "                        <td id=\"T_40f184c8_833d_11eb_90a2_02420a3969b0row22_col0\" class=\"data row22 col0\" >0.440977</td>\n",
       "                        <td id=\"T_40f184c8_833d_11eb_90a2_02420a3969b0row22_col1\" class=\"data row22 col1\" >1</td>\n",
       "                        <td id=\"T_40f184c8_833d_11eb_90a2_02420a3969b0row22_col2\" class=\"data row22 col2\" >-0.0703839</td>\n",
       "            </tr>\n",
       "            <tr>\n",
       "                                <th id=\"T_40f184c8_833d_11eb_90a2_02420a3969b0level1_row23\" class=\"row_heading level1 row23\" >total_sales</th>\n",
       "                        <td id=\"T_40f184c8_833d_11eb_90a2_02420a3969b0row23_col0\" class=\"data row23 col0\" >0.428677</td>\n",
       "                        <td id=\"T_40f184c8_833d_11eb_90a2_02420a3969b0row23_col1\" class=\"data row23 col1\" >-0.0703839</td>\n",
       "                        <td id=\"T_40f184c8_833d_11eb_90a2_02420a3969b0row23_col2\" class=\"data row23 col2\" >1</td>\n",
       "            </tr>\n",
       "    </tbody></table>"
      ],
      "text/plain": [
       "<pandas.io.formats.style.Styler at 0x7f8283897c10>"
      ]
     },
     "execution_count": 46,
     "metadata": {},
     "output_type": "execute_result"
    }
   ],
   "source": [
    "calculate_correlation(data = current_data_big_platforms, single_platform = False, caption = 'Correlation of other platforms')"
   ]
  },
  {
   "cell_type": "markdown",
   "metadata": {},
   "source": [
    "Посмотрим на корреляцию интересующих нас показателей на остальных платформах. В целом картина по популярным платформам примерно одинаковая - средняя положительная корреляция продаж с отзывами критиков и небольшая отрицательная корреляция продаж с отзывами игроков. Это может быть связано с завышеными ожиданиями игроков после, скажем, просмотра хорошей демки и положительных отзывов критиков."
   ]
  },
  {
   "cell_type": "markdown",
   "metadata": {},
   "source": [
    "<a id='Распределение игр по жанрам'></a>"
   ]
  },
  {
   "cell_type": "markdown",
   "metadata": {},
   "source": [
    "### <p style=\"text-align:center\">Распределение игр по жанрам</p>"
   ]
  },
  {
   "cell_type": "markdown",
   "metadata": {},
   "source": [
    "К жанрам с высокими продажами можно отнести Action, Role-Playing, Shooter, Sports. К жанрам с низкими продажами - Strategy, Puzzle, Simulation и Platform."
   ]
  },
  {
   "cell_type": "code",
   "execution_count": 47,
   "metadata": {},
   "outputs": [
    {
     "data": {
      "text/html": [
       "<style  type=\"text/css\" >\n",
       "    #T_4148da48_833d_11eb_90a2_02420a3969b0row0_col3 {\n",
       "            background-color:  yellow;\n",
       "        }    #T_4148da48_833d_11eb_90a2_02420a3969b0row1_col3 {\n",
       "            background-color:  yellow;\n",
       "        }    #T_4148da48_833d_11eb_90a2_02420a3969b0row2_col0 {\n",
       "            background-color:  yellow;\n",
       "        }    #T_4148da48_833d_11eb_90a2_02420a3969b0row3_col3 {\n",
       "            background-color:  yellow;\n",
       "        }    #T_4148da48_833d_11eb_90a2_02420a3969b0row4_col5 {\n",
       "            background-color:  yellow;\n",
       "        }    #T_4148da48_833d_11eb_90a2_02420a3969b0row5_col5 {\n",
       "            background-color:  yellow;\n",
       "        }    #T_4148da48_833d_11eb_90a2_02420a3969b0row6_col3 {\n",
       "            background-color:  yellow;\n",
       "        }    #T_4148da48_833d_11eb_90a2_02420a3969b0row7_col0 {\n",
       "            background-color:  yellow;\n",
       "        }    #T_4148da48_833d_11eb_90a2_02420a3969b0row8_col3 {\n",
       "            background-color:  yellow;\n",
       "        }    #T_4148da48_833d_11eb_90a2_02420a3969b0row9_col1 {\n",
       "            background-color:  yellow;\n",
       "        }    #T_4148da48_833d_11eb_90a2_02420a3969b0row10_col3 {\n",
       "            background-color:  yellow;\n",
       "        }    #T_4148da48_833d_11eb_90a2_02420a3969b0row11_col1 {\n",
       "            background-color:  yellow;\n",
       "        }</style><table id=\"T_4148da48_833d_11eb_90a2_02420a3969b0\" ><thead>    <tr>        <th class=\"blank level0\" ></th>        <th class=\"col_heading level0 col0\" colspan=8>total_sales</th>    </tr>    <tr>        <th class=\"index_name level1\" >platform</th>        <th class=\"col_heading level1 col0\" >3DS</th>        <th class=\"col_heading level1 col1\" >PC</th>        <th class=\"col_heading level1 col2\" >PS3</th>        <th class=\"col_heading level1 col3\" >PS4</th>        <th class=\"col_heading level1 col4\" >PSV</th>        <th class=\"col_heading level1 col5\" >WiiU</th>        <th class=\"col_heading level1 col6\" >X360</th>        <th class=\"col_heading level1 col7\" >XOne</th>    </tr>    <tr>        <th class=\"index_name level0\" >genre</th>        <th class=\"blank\" ></th>        <th class=\"blank\" ></th>        <th class=\"blank\" ></th>        <th class=\"blank\" ></th>        <th class=\"blank\" ></th>        <th class=\"blank\" ></th>        <th class=\"blank\" ></th>        <th class=\"blank\" ></th>    </tr></thead><tbody>\n",
       "                <tr>\n",
       "                        <th id=\"T_4148da48_833d_11eb_90a2_02420a3969b0level0_row0\" class=\"row_heading level0 row0\" >Action</th>\n",
       "                        <td id=\"T_4148da48_833d_11eb_90a2_02420a3969b0row0_col0\" class=\"data row0 col0\" >22.06</td>\n",
       "                        <td id=\"T_4148da48_833d_11eb_90a2_02420a3969b0row0_col1\" class=\"data row0 col1\" >5.34</td>\n",
       "                        <td id=\"T_4148da48_833d_11eb_90a2_02420a3969b0row0_col2\" class=\"data row0 col2\" >18.1</td>\n",
       "                        <td id=\"T_4148da48_833d_11eb_90a2_02420a3969b0row0_col3\" class=\"data row0 col3\" >91.62</td>\n",
       "                        <td id=\"T_4148da48_833d_11eb_90a2_02420a3969b0row0_col4\" class=\"data row0 col4\" >7.47</td>\n",
       "                        <td id=\"T_4148da48_833d_11eb_90a2_02420a3969b0row0_col5\" class=\"data row0 col5\" >9.99</td>\n",
       "                        <td id=\"T_4148da48_833d_11eb_90a2_02420a3969b0row0_col6\" class=\"data row0 col6\" >12.33</td>\n",
       "                        <td id=\"T_4148da48_833d_11eb_90a2_02420a3969b0row0_col7\" class=\"data row0 col7\" >31.06</td>\n",
       "            </tr>\n",
       "            <tr>\n",
       "                        <th id=\"T_4148da48_833d_11eb_90a2_02420a3969b0level0_row1\" class=\"row_heading level0 row1\" >Adventure</th>\n",
       "                        <td id=\"T_4148da48_833d_11eb_90a2_02420a3969b0row1_col0\" class=\"data row1 col0\" >1.57</td>\n",
       "                        <td id=\"T_4148da48_833d_11eb_90a2_02420a3969b0row1_col1\" class=\"data row1 col1\" >0.39</td>\n",
       "                        <td id=\"T_4148da48_833d_11eb_90a2_02420a3969b0row1_col2\" class=\"data row1 col2\" >1.98</td>\n",
       "                        <td id=\"T_4148da48_833d_11eb_90a2_02420a3969b0row1_col3\" class=\"data row1 col3\" >6.34</td>\n",
       "                        <td id=\"T_4148da48_833d_11eb_90a2_02420a3969b0row1_col4\" class=\"data row1 col4\" >2.29</td>\n",
       "                        <td id=\"T_4148da48_833d_11eb_90a2_02420a3969b0row1_col5\" class=\"data row1 col5\" >0.17</td>\n",
       "                        <td id=\"T_4148da48_833d_11eb_90a2_02420a3969b0row1_col6\" class=\"data row1 col6\" >1.9</td>\n",
       "                        <td id=\"T_4148da48_833d_11eb_90a2_02420a3969b0row1_col7\" class=\"data row1 col7\" >2.68</td>\n",
       "            </tr>\n",
       "            <tr>\n",
       "                        <th id=\"T_4148da48_833d_11eb_90a2_02420a3969b0level0_row2\" class=\"row_heading level0 row2\" >Fighting</th>\n",
       "                        <td id=\"T_4148da48_833d_11eb_90a2_02420a3969b0row2_col0\" class=\"data row2 col0\" >8.1</td>\n",
       "                        <td id=\"T_4148da48_833d_11eb_90a2_02420a3969b0row2_col1\" class=\"data row2 col1\" >0.1</td>\n",
       "                        <td id=\"T_4148da48_833d_11eb_90a2_02420a3969b0row2_col2\" class=\"data row2 col2\" >2.89</td>\n",
       "                        <td id=\"T_4148da48_833d_11eb_90a2_02420a3969b0row2_col3\" class=\"data row2 col3\" >7.73</td>\n",
       "                        <td id=\"T_4148da48_833d_11eb_90a2_02420a3969b0row2_col4\" class=\"data row2 col4\" >0.69</td>\n",
       "                        <td id=\"T_4148da48_833d_11eb_90a2_02420a3969b0row2_col5\" class=\"data row2 col5\" >5.88</td>\n",
       "                        <td id=\"T_4148da48_833d_11eb_90a2_02420a3969b0row2_col6\" class=\"data row2 col6\" >0.66</td>\n",
       "                        <td id=\"T_4148da48_833d_11eb_90a2_02420a3969b0row2_col7\" class=\"data row2 col7\" >2.17</td>\n",
       "            </tr>\n",
       "            <tr>\n",
       "                        <th id=\"T_4148da48_833d_11eb_90a2_02420a3969b0level0_row3\" class=\"row_heading level0 row3\" >Misc</th>\n",
       "                        <td id=\"T_4148da48_833d_11eb_90a2_02420a3969b0row3_col0\" class=\"data row3 col0\" >3.85</td>\n",
       "                        <td id=\"T_4148da48_833d_11eb_90a2_02420a3969b0row3_col1\" class=\"data row3 col1\" >0.05</td>\n",
       "                        <td id=\"T_4148da48_833d_11eb_90a2_02420a3969b0row3_col2\" class=\"data row3 col2\" >6.69</td>\n",
       "                        <td id=\"T_4148da48_833d_11eb_90a2_02420a3969b0row3_col3\" class=\"data row3 col3\" >7.77</td>\n",
       "                        <td id=\"T_4148da48_833d_11eb_90a2_02420a3969b0row3_col4\" class=\"data row3 col4\" >3.43</td>\n",
       "                        <td id=\"T_4148da48_833d_11eb_90a2_02420a3969b0row3_col5\" class=\"data row3 col5\" >4.59</td>\n",
       "                        <td id=\"T_4148da48_833d_11eb_90a2_02420a3969b0row3_col6\" class=\"data row3 col6\" >1.27</td>\n",
       "                        <td id=\"T_4148da48_833d_11eb_90a2_02420a3969b0row3_col7\" class=\"data row3 col7\" >6.74</td>\n",
       "            </tr>\n",
       "            <tr>\n",
       "                        <th id=\"T_4148da48_833d_11eb_90a2_02420a3969b0level0_row4\" class=\"row_heading level0 row4\" >Platform</th>\n",
       "                        <td id=\"T_4148da48_833d_11eb_90a2_02420a3969b0row4_col0\" class=\"data row4 col0\" >3.98</td>\n",
       "                        <td id=\"T_4148da48_833d_11eb_90a2_02420a3969b0row4_col1\" class=\"data row4 col1\" >0.06</td>\n",
       "                        <td id=\"T_4148da48_833d_11eb_90a2_02420a3969b0row4_col2\" class=\"data row4 col2\" >0.76</td>\n",
       "                        <td id=\"T_4148da48_833d_11eb_90a2_02420a3969b0row4_col3\" class=\"data row4 col3\" >5.42</td>\n",
       "                        <td id=\"T_4148da48_833d_11eb_90a2_02420a3969b0row4_col4\" class=\"data row4 col4\" >0.19</td>\n",
       "                        <td id=\"T_4148da48_833d_11eb_90a2_02420a3969b0row4_col5\" class=\"data row4 col5\" >6.87</td>\n",
       "                        <td id=\"T_4148da48_833d_11eb_90a2_02420a3969b0row4_col6\" class=\"data row4 col6\" >0.19</td>\n",
       "                        <td id=\"T_4148da48_833d_11eb_90a2_02420a3969b0row4_col7\" class=\"data row4 col7\" >0.62</td>\n",
       "            </tr>\n",
       "            <tr>\n",
       "                        <th id=\"T_4148da48_833d_11eb_90a2_02420a3969b0level0_row5\" class=\"row_heading level0 row5\" >Puzzle</th>\n",
       "                        <td id=\"T_4148da48_833d_11eb_90a2_02420a3969b0row5_col0\" class=\"data row5 col0\" >0.87</td>\n",
       "                        <td id=\"T_4148da48_833d_11eb_90a2_02420a3969b0row5_col1\" class=\"data row5 col1\" >nan</td>\n",
       "                        <td id=\"T_4148da48_833d_11eb_90a2_02420a3969b0row5_col2\" class=\"data row5 col2\" >0.04</td>\n",
       "                        <td id=\"T_4148da48_833d_11eb_90a2_02420a3969b0row5_col3\" class=\"data row5 col3\" >0.02</td>\n",
       "                        <td id=\"T_4148da48_833d_11eb_90a2_02420a3969b0row5_col4\" class=\"data row5 col4\" >0.06</td>\n",
       "                        <td id=\"T_4148da48_833d_11eb_90a2_02420a3969b0row5_col5\" class=\"data row5 col5\" >1.22</td>\n",
       "                        <td id=\"T_4148da48_833d_11eb_90a2_02420a3969b0row5_col6\" class=\"data row5 col6\" >nan</td>\n",
       "                        <td id=\"T_4148da48_833d_11eb_90a2_02420a3969b0row5_col7\" class=\"data row5 col7\" >nan</td>\n",
       "            </tr>\n",
       "            <tr>\n",
       "                        <th id=\"T_4148da48_833d_11eb_90a2_02420a3969b0level0_row6\" class=\"row_heading level0 row6\" >Racing</th>\n",
       "                        <td id=\"T_4148da48_833d_11eb_90a2_02420a3969b0row6_col0\" class=\"data row6 col0\" >nan</td>\n",
       "                        <td id=\"T_4148da48_833d_11eb_90a2_02420a3969b0row6_col1\" class=\"data row6 col1\" >0.64</td>\n",
       "                        <td id=\"T_4148da48_833d_11eb_90a2_02420a3969b0row6_col2\" class=\"data row6 col2\" >1</td>\n",
       "                        <td id=\"T_4148da48_833d_11eb_90a2_02420a3969b0row6_col3\" class=\"data row6 col3\" >10.16</td>\n",
       "                        <td id=\"T_4148da48_833d_11eb_90a2_02420a3969b0row6_col4\" class=\"data row6 col4\" >0.1</td>\n",
       "                        <td id=\"T_4148da48_833d_11eb_90a2_02420a3969b0row6_col5\" class=\"data row6 col5\" >7.09</td>\n",
       "                        <td id=\"T_4148da48_833d_11eb_90a2_02420a3969b0row6_col6\" class=\"data row6 col6\" >1.64</td>\n",
       "                        <td id=\"T_4148da48_833d_11eb_90a2_02420a3969b0row6_col7\" class=\"data row6 col7\" >6.89</td>\n",
       "            </tr>\n",
       "            <tr>\n",
       "                        <th id=\"T_4148da48_833d_11eb_90a2_02420a3969b0level0_row7\" class=\"row_heading level0 row7\" >Role-Playing</th>\n",
       "                        <td id=\"T_4148da48_833d_11eb_90a2_02420a3969b0row7_col0\" class=\"data row7 col0\" >40.02</td>\n",
       "                        <td id=\"T_4148da48_833d_11eb_90a2_02420a3969b0row7_col1\" class=\"data row7 col1\" >4.87</td>\n",
       "                        <td id=\"T_4148da48_833d_11eb_90a2_02420a3969b0row7_col2\" class=\"data row7 col2\" >6.63</td>\n",
       "                        <td id=\"T_4148da48_833d_11eb_90a2_02420a3969b0row7_col3\" class=\"data row7 col3\" >28.99</td>\n",
       "                        <td id=\"T_4148da48_833d_11eb_90a2_02420a3969b0row7_col4\" class=\"data row7 col4\" >6.1</td>\n",
       "                        <td id=\"T_4148da48_833d_11eb_90a2_02420a3969b0row7_col5\" class=\"data row7 col5\" >1.52</td>\n",
       "                        <td id=\"T_4148da48_833d_11eb_90a2_02420a3969b0row7_col6\" class=\"data row7 col6\" >2.76</td>\n",
       "                        <td id=\"T_4148da48_833d_11eb_90a2_02420a3969b0row7_col7\" class=\"data row7 col7\" >10.55</td>\n",
       "            </tr>\n",
       "            <tr>\n",
       "                        <th id=\"T_4148da48_833d_11eb_90a2_02420a3969b0level0_row8\" class=\"row_heading level0 row8\" >Shooter</th>\n",
       "                        <td id=\"T_4148da48_833d_11eb_90a2_02420a3969b0row8_col0\" class=\"data row8 col0\" >nan</td>\n",
       "                        <td id=\"T_4148da48_833d_11eb_90a2_02420a3969b0row8_col1\" class=\"data row8 col1\" >5.79</td>\n",
       "                        <td id=\"T_4148da48_833d_11eb_90a2_02420a3969b0row8_col2\" class=\"data row8 col2\" >12.17</td>\n",
       "                        <td id=\"T_4148da48_833d_11eb_90a2_02420a3969b0row8_col3\" class=\"data row8 col3\" >78.46</td>\n",
       "                        <td id=\"T_4148da48_833d_11eb_90a2_02420a3969b0row8_col4\" class=\"data row8 col4\" >0.64</td>\n",
       "                        <td id=\"T_4148da48_833d_11eb_90a2_02420a3969b0row8_col5\" class=\"data row8 col5\" >4.83</td>\n",
       "                        <td id=\"T_4148da48_833d_11eb_90a2_02420a3969b0row8_col6\" class=\"data row8 col6\" >13.66</td>\n",
       "                        <td id=\"T_4148da48_833d_11eb_90a2_02420a3969b0row8_col7\" class=\"data row8 col7\" >55.39</td>\n",
       "            </tr>\n",
       "            <tr>\n",
       "                        <th id=\"T_4148da48_833d_11eb_90a2_02420a3969b0level0_row9\" class=\"row_heading level0 row9\" >Simulation</th>\n",
       "                        <td id=\"T_4148da48_833d_11eb_90a2_02420a3969b0row9_col0\" class=\"data row9 col0\" >4.13</td>\n",
       "                        <td id=\"T_4148da48_833d_11eb_90a2_02420a3969b0row9_col1\" class=\"data row9 col1\" >6.59</td>\n",
       "                        <td id=\"T_4148da48_833d_11eb_90a2_02420a3969b0row9_col2\" class=\"data row9 col2\" >0.39</td>\n",
       "                        <td id=\"T_4148da48_833d_11eb_90a2_02420a3969b0row9_col3\" class=\"data row9 col3\" >1.23</td>\n",
       "                        <td id=\"T_4148da48_833d_11eb_90a2_02420a3969b0row9_col4\" class=\"data row9 col4\" >0.05</td>\n",
       "                        <td id=\"T_4148da48_833d_11eb_90a2_02420a3969b0row9_col5\" class=\"data row9 col5\" >nan</td>\n",
       "                        <td id=\"T_4148da48_833d_11eb_90a2_02420a3969b0row9_col6\" class=\"data row9 col6\" >0.41</td>\n",
       "                        <td id=\"T_4148da48_833d_11eb_90a2_02420a3969b0row9_col7\" class=\"data row9 col7\" >0.33</td>\n",
       "            </tr>\n",
       "            <tr>\n",
       "                        <th id=\"T_4148da48_833d_11eb_90a2_02420a3969b0level0_row10\" class=\"row_heading level0 row10\" >Sports</th>\n",
       "                        <td id=\"T_4148da48_833d_11eb_90a2_02420a3969b0row10_col0\" class=\"data row10 col0\" >1.32</td>\n",
       "                        <td id=\"T_4148da48_833d_11eb_90a2_02420a3969b0row10_col1\" class=\"data row10 col1\" >0.93</td>\n",
       "                        <td id=\"T_4148da48_833d_11eb_90a2_02420a3969b0row10_col2\" class=\"data row10 col2\" >17.47</td>\n",
       "                        <td id=\"T_4148da48_833d_11eb_90a2_02420a3969b0row10_col3\" class=\"data row10 col3\" >50.01</td>\n",
       "                        <td id=\"T_4148da48_833d_11eb_90a2_02420a3969b0row10_col4\" class=\"data row10 col4\" >1.2</td>\n",
       "                        <td id=\"T_4148da48_833d_11eb_90a2_02420a3969b0row10_col5\" class=\"data row10 col5\" >0.82</td>\n",
       "                        <td id=\"T_4148da48_833d_11eb_90a2_02420a3969b0row10_col6\" class=\"data row10 col6\" >13.4</td>\n",
       "                        <td id=\"T_4148da48_833d_11eb_90a2_02420a3969b0row10_col7\" class=\"data row10 col7\" >23.68</td>\n",
       "            </tr>\n",
       "            <tr>\n",
       "                        <th id=\"T_4148da48_833d_11eb_90a2_02420a3969b0level0_row11\" class=\"row_heading level0 row11\" >Strategy</th>\n",
       "                        <td id=\"T_4148da48_833d_11eb_90a2_02420a3969b0row11_col0\" class=\"data row11 col0\" >0.78</td>\n",
       "                        <td id=\"T_4148da48_833d_11eb_90a2_02420a3969b0row11_col1\" class=\"data row11 col1\" >2.29</td>\n",
       "                        <td id=\"T_4148da48_833d_11eb_90a2_02420a3969b0row11_col2\" class=\"data row11 col2\" >0.06</td>\n",
       "                        <td id=\"T_4148da48_833d_11eb_90a2_02420a3969b0row11_col3\" class=\"data row11 col3\" >0.4</td>\n",
       "                        <td id=\"T_4148da48_833d_11eb_90a2_02420a3969b0row11_col4\" class=\"data row11 col4\" >0.18</td>\n",
       "                        <td id=\"T_4148da48_833d_11eb_90a2_02420a3969b0row11_col5\" class=\"data row11 col5\" >nan</td>\n",
       "                        <td id=\"T_4148da48_833d_11eb_90a2_02420a3969b0row11_col6\" class=\"data row11 col6\" >nan</td>\n",
       "                        <td id=\"T_4148da48_833d_11eb_90a2_02420a3969b0row11_col7\" class=\"data row11 col7\" >0.25</td>\n",
       "            </tr>\n",
       "    </tbody></table>"
      ],
      "text/plain": [
       "<pandas.io.formats.style.Styler at 0x7f828367a610>"
      ]
     },
     "execution_count": 47,
     "metadata": {},
     "output_type": "execute_result"
    }
   ],
   "source": [
    "current_data_big_platforms.pivot_table(index = ['genre', 'platform'], \n",
    "                                       values = 'total_sales', \n",
    "                                       aggfunc = 'sum').unstack().style.highlight_max(axis='columns')"
   ]
  },
  {
   "cell_type": "markdown",
   "metadata": {},
   "source": [
    "Самой большой популярностью у игроделов пользуется жанр Fighting, хотя этот жанр один из самых неприбыльных. Самые прибыльные жанры - Action, Shooter, Sports - имеют не настолько много выпущенных игр, и, соответственно, имеют бОльшую прибыльность с каждой выпущенной игры."
   ]
  },
  {
   "cell_type": "code",
   "execution_count": 48,
   "metadata": {},
   "outputs": [
    {
     "data": {
      "image/png": "[encoded data removed]",
      "text/plain": [
       "<Figure size 1040x800 with 1 Axes>"
      ]
     },
     "metadata": {},
     "output_type": "display_data"
    }
   ],
   "source": [
    "plot_graph(current_data_big_platforms, x_var='genre', groupby_var='platform', stacked=False,\n",
    "          title='Overall histogram of genres/platform distribution', xlabel='Genre', ylabel='Quantity')"
   ]
  },
  {
   "cell_type": "markdown",
   "metadata": {},
   "source": [
    "<a id='Вывод_3'></a>"
   ]
  },
  {
   "cell_type": "markdown",
   "metadata": {},
   "source": [
    "### <p style=\"text-align:center\"> Вывод</p>"
   ]
  },
  {
   "cell_type": "markdown",
   "metadata": {},
   "source": [
    "##### Таким образом в данной части нашего исследовании мы:\n",
    "\n",
    "___\n",
    "\n",
    "\n",
    "1. Посмотрели сколько игр выпускалось за предыдущие годы, выделили статистически неважный период.\n",
    "\n",
    "\n",
    "2. Вывели распределение игр по платформам, определили актуальный для анализа период.\n",
    "\n",
    "\n",
    "3. Проанализировали актуальный период.\n",
    "\n",
    "\n",
    "4. Выявили закономерности между продажами и оценками игроков и критиков. \n",
    "\n",
    "\n",
    "5. Провели анализ распределения игр по жанрам, выявили самые прибыльные и популярные у игроделов жанры за актуальный период.\n",
    "\n",
    "___\n",
    "\n",
    "\n",
    "Таким образом, был проведен исследовательский анализ данных. Переходим к составлению портрета пользователя каждого региона."
   ]
  },
  {
   "cell_type": "markdown",
   "metadata": {},
   "source": [
    " ## Часть 4. Составление портрета пользователя каждого региона"
   ]
  },
  {
   "cell_type": "markdown",
   "metadata": {},
   "source": [
    "<a id='Определение самых популярных платформ для каждого региона'></a>"
   ]
  },
  {
   "cell_type": "markdown",
   "metadata": {},
   "source": [
    "### <p style=\"text-align:center\"> Определение самых популярных платформ для каждого региона</p>"
   ]
  },
  {
   "cell_type": "markdown",
   "metadata": {},
   "source": [
    "Итак, в Северной Америке самыми популярными платформами являются PS4, XOne, X360, 3DS и PS3. \n",
    "\n",
    "В Европе самыми популярными платформами являются PS4, XOne, PS3, PC и 3DS.\n",
    "\n",
    "В Японии - 3DS, PS4, PSV, PS3 и WiiU.\n",
    "\n",
    "Различия в долях продаж связаны с локальными особенностями рынков, где, например, японцы отдают предпочтение игровой платформе Nintendo, а европейцы и американцы - PS4 и XOne. Возможно дело в том, что Nintendo - японская приставка, а PS4 и XOne - американские."
   ]
  },
  {
   "cell_type": "code",
   "execution_count": 49,
   "metadata": {},
   "outputs": [
    {
     "data": {
      "text/html": [
       "<style  type=\"text/css\" >\n",
       "    #T_41f61fa0_833d_11eb_90a2_02420a3969b0row0_col0 {\n",
       "            background-color:  #e1e1e1;\n",
       "            color:  #000000;\n",
       "        }    #T_41f61fa0_833d_11eb_90a2_02420a3969b0row0_col1 {\n",
       "            background-color:  #f3f3f3;\n",
       "            color:  #000000;\n",
       "        }    #T_41f61fa0_833d_11eb_90a2_02420a3969b0row0_col2 {\n",
       "            background-color:  #000000;\n",
       "            color:  #f1f1f1;\n",
       "        }    #T_41f61fa0_833d_11eb_90a2_02420a3969b0row1_col0 {\n",
       "            background-color:  #f9f9f9;\n",
       "            color:  #000000;\n",
       "        }    #T_41f61fa0_833d_11eb_90a2_02420a3969b0row1_col1 {\n",
       "            background-color:  #f1f1f1;\n",
       "            color:  #000000;\n",
       "        }    #T_41f61fa0_833d_11eb_90a2_02420a3969b0row1_col2 {\n",
       "            background-color:  #ffffff;\n",
       "            color:  #000000;\n",
       "        }    #T_41f61fa0_833d_11eb_90a2_02420a3969b0row2_col0 {\n",
       "            background-color:  #e1e1e1;\n",
       "            color:  #000000;\n",
       "        }    #T_41f61fa0_833d_11eb_90a2_02420a3969b0row2_col1 {\n",
       "            background-color:  #e7e7e7;\n",
       "            color:  #000000;\n",
       "        }    #T_41f61fa0_833d_11eb_90a2_02420a3969b0row2_col2 {\n",
       "            background-color:  #d9d9d9;\n",
       "            color:  #000000;\n",
       "        }    #T_41f61fa0_833d_11eb_90a2_02420a3969b0row3_col0 {\n",
       "            background-color:  #000000;\n",
       "            color:  #f1f1f1;\n",
       "        }    #T_41f61fa0_833d_11eb_90a2_02420a3969b0row3_col1 {\n",
       "            background-color:  #000000;\n",
       "            color:  #f1f1f1;\n",
       "        }    #T_41f61fa0_833d_11eb_90a2_02420a3969b0row3_col2 {\n",
       "            background-color:  #c5c5c5;\n",
       "            color:  #000000;\n",
       "        }    #T_41f61fa0_833d_11eb_90a2_02420a3969b0row4_col0 {\n",
       "            background-color:  #ffffff;\n",
       "            color:  #000000;\n",
       "        }    #T_41f61fa0_833d_11eb_90a2_02420a3969b0row4_col1 {\n",
       "            background-color:  #ffffff;\n",
       "            color:  #000000;\n",
       "        }    #T_41f61fa0_833d_11eb_90a2_02420a3969b0row4_col2 {\n",
       "            background-color:  #c7c7c7;\n",
       "            color:  #000000;\n",
       "        }    #T_41f61fa0_833d_11eb_90a2_02420a3969b0row5_col0 {\n",
       "            background-color:  #e7e7e7;\n",
       "            color:  #000000;\n",
       "        }    #T_41f61fa0_833d_11eb_90a2_02420a3969b0row5_col1 {\n",
       "            background-color:  #f6f6f6;\n",
       "            color:  #000000;\n",
       "        }    #T_41f61fa0_833d_11eb_90a2_02420a3969b0row5_col2 {\n",
       "            background-color:  #e9e9e9;\n",
       "            color:  #000000;\n",
       "        }    #T_41f61fa0_833d_11eb_90a2_02420a3969b0row6_col0 {\n",
       "            background-color:  #d5d5d5;\n",
       "            color:  #000000;\n",
       "        }    #T_41f61fa0_833d_11eb_90a2_02420a3969b0row6_col1 {\n",
       "            background-color:  #f4f4f4;\n",
       "            color:  #000000;\n",
       "        }    #T_41f61fa0_833d_11eb_90a2_02420a3969b0row6_col2 {\n",
       "            background-color:  #ffffff;\n",
       "            color:  #000000;\n",
       "        }    #T_41f61fa0_833d_11eb_90a2_02420a3969b0row7_col0 {\n",
       "            background-color:  #393939;\n",
       "            color:  #f1f1f1;\n",
       "        }    #T_41f61fa0_833d_11eb_90a2_02420a3969b0row7_col1 {\n",
       "            background-color:  #c5c5c5;\n",
       "            color:  #000000;\n",
       "        }    #T_41f61fa0_833d_11eb_90a2_02420a3969b0row7_col2 {\n",
       "            background-color:  #ffffff;\n",
       "            color:  #000000;\n",
       "        }</style><table id=\"T_41f61fa0_833d_11eb_90a2_02420a3969b0\" ><thead>    <tr>        <th class=\"blank level0\" ></th>        <th class=\"col_heading level0 col0\" >NA_sales</th>        <th class=\"col_heading level0 col1\" >EU_sales</th>        <th class=\"col_heading level0 col2\" >JP_sales</th>    </tr>    <tr>        <th class=\"index_name level0\" >platform</th>        <th class=\"blank\" ></th>        <th class=\"blank\" ></th>        <th class=\"blank\" ></th>    </tr></thead><tbody>\n",
       "                <tr>\n",
       "                        <th id=\"T_41f61fa0_833d_11eb_90a2_02420a3969b0level0_row0\" class=\"row_heading level0 row0\" >3DS</th>\n",
       "                        <td id=\"T_41f61fa0_833d_11eb_90a2_02420a3969b0row0_col0\" class=\"data row0 col0\" >22.6</td>\n",
       "                        <td id=\"T_41f61fa0_833d_11eb_90a2_02420a3969b0row0_col1\" class=\"data row0 col1\" >16.1</td>\n",
       "                        <td id=\"T_41f61fa0_833d_11eb_90a2_02420a3969b0row0_col2\" class=\"data row0 col2\" >44.2</td>\n",
       "            </tr>\n",
       "            <tr>\n",
       "                        <th id=\"T_41f61fa0_833d_11eb_90a2_02420a3969b0level0_row1\" class=\"row_heading level0 row1\" >PC</th>\n",
       "                        <td id=\"T_41f61fa0_833d_11eb_90a2_02420a3969b0row1_col0\" class=\"data row1 col0\" >7.2</td>\n",
       "                        <td id=\"T_41f61fa0_833d_11eb_90a2_02420a3969b0row1_col1\" class=\"data row1 col1\" >18.0</td>\n",
       "                        <td id=\"T_41f61fa0_833d_11eb_90a2_02420a3969b0row1_col2\" class=\"data row1 col2\" >0.0</td>\n",
       "            </tr>\n",
       "            <tr>\n",
       "                        <th id=\"T_41f61fa0_833d_11eb_90a2_02420a3969b0level0_row2\" class=\"row_heading level0 row2\" >PS3</th>\n",
       "                        <td id=\"T_41f61fa0_833d_11eb_90a2_02420a3969b0row2_col0\" class=\"data row2 col0\" >22.0</td>\n",
       "                        <td id=\"T_41f61fa0_833d_11eb_90a2_02420a3969b0row2_col1\" class=\"data row2 col1\" >25.5</td>\n",
       "                        <td id=\"T_41f61fa0_833d_11eb_90a2_02420a3969b0row2_col2\" class=\"data row2 col2\" >11.2</td>\n",
       "            </tr>\n",
       "            <tr>\n",
       "                        <th id=\"T_41f61fa0_833d_11eb_90a2_02420a3969b0level0_row3\" class=\"row_heading level0 row3\" >PS4</th>\n",
       "                        <td id=\"T_41f61fa0_833d_11eb_90a2_02420a3969b0row3_col0\" class=\"data row3 col0\" >98.6</td>\n",
       "                        <td id=\"T_41f61fa0_833d_11eb_90a2_02420a3969b0row3_col1\" class=\"data row3 col1\" >130.0</td>\n",
       "                        <td id=\"T_41f61fa0_833d_11eb_90a2_02420a3969b0row3_col2\" class=\"data row3 col2\" >15.0</td>\n",
       "            </tr>\n",
       "            <tr>\n",
       "                        <th id=\"T_41f61fa0_833d_11eb_90a2_02420a3969b0level0_row4\" class=\"row_heading level0 row4\" >PSV</th>\n",
       "                        <td id=\"T_41f61fa0_833d_11eb_90a2_02420a3969b0row4_col0\" class=\"data row4 col0\" >2.5</td>\n",
       "                        <td id=\"T_41f61fa0_833d_11eb_90a2_02420a3969b0row4_col1\" class=\"data row4 col1\" >3.5</td>\n",
       "                        <td id=\"T_41f61fa0_833d_11eb_90a2_02420a3969b0row4_col2\" class=\"data row4 col2\" >14.5</td>\n",
       "            </tr>\n",
       "            <tr>\n",
       "                        <th id=\"T_41f61fa0_833d_11eb_90a2_02420a3969b0level0_row5\" class=\"row_heading level0 row5\" >WiiU</th>\n",
       "                        <td id=\"T_41f61fa0_833d_11eb_90a2_02420a3969b0row5_col0\" class=\"data row5 col0\" >19.4</td>\n",
       "                        <td id=\"T_41f61fa0_833d_11eb_90a2_02420a3969b0row5_col1\" class=\"data row5 col1\" >13.1</td>\n",
       "                        <td id=\"T_41f61fa0_833d_11eb_90a2_02420a3969b0row5_col2\" class=\"data row5 col2\" >7.3</td>\n",
       "            </tr>\n",
       "            <tr>\n",
       "                        <th id=\"T_41f61fa0_833d_11eb_90a2_02420a3969b0level0_row6\" class=\"row_heading level0 row6\" >X360</th>\n",
       "                        <td id=\"T_41f61fa0_833d_11eb_90a2_02420a3969b0row6_col0\" class=\"data row6 col0\" >28.3</td>\n",
       "                        <td id=\"T_41f61fa0_833d_11eb_90a2_02420a3969b0row6_col1\" class=\"data row6 col1\" >15.5</td>\n",
       "                        <td id=\"T_41f61fa0_833d_11eb_90a2_02420a3969b0row6_col2\" class=\"data row6 col2\" >0.1</td>\n",
       "            </tr>\n",
       "            <tr>\n",
       "                        <th id=\"T_41f61fa0_833d_11eb_90a2_02420a3969b0level0_row7\" class=\"row_heading level0 row7\" >XOne</th>\n",
       "                        <td id=\"T_41f61fa0_833d_11eb_90a2_02420a3969b0row7_col0\" class=\"data row7 col0\" >81.3</td>\n",
       "                        <td id=\"T_41f61fa0_833d_11eb_90a2_02420a3969b0row7_col1\" class=\"data row7 col1\" >46.2</td>\n",
       "                        <td id=\"T_41f61fa0_833d_11eb_90a2_02420a3969b0row7_col2\" class=\"data row7 col2\" >0.3</td>\n",
       "            </tr>\n",
       "    </tbody></table>"
      ],
      "text/plain": [
       "<pandas.io.formats.style.Styler at 0x7f82f3f86d90>"
      ]
     },
     "execution_count": 49,
     "metadata": {},
     "output_type": "execute_result"
    }
   ],
   "source": [
    "current_data_big_platforms.groupby('platform')[['NA_sales', 'EU_sales', 'JP_sales']].sum()\\\n",
    "                          .style.format(\"{:.1f}\").background_gradient(cmap='Greys', axis=0)"
   ]
  },
  {
   "cell_type": "markdown",
   "metadata": {},
   "source": [
    "<a id='Определение самых популярных жанров для каждого региона'></a>"
   ]
  },
  {
   "cell_type": "markdown",
   "metadata": {},
   "source": [
    "### <p style=\"text-align:center\"> Определение самых популярных жанров для каждого региона</p>"
   ]
  },
  {
   "cell_type": "markdown",
   "metadata": {},
   "source": [
    "Как видно из таблицы ниже, самые популярные жанры в Северной Америке и Европе - Action, Shooter, Sports.\n",
    "\n",
    "В Японии же предпочитают Action, Role-Playing и другие.\n",
    "\n",
    "Особенности здесь объясняются предпочтениями японцев в выборе игр - так, например, в Японии очень популярны игры Japanese Role-Playing Games, такие как Dragon Slayer и ее копии, Dragon Quest и т.д."
   ]
  },
  {
   "cell_type": "code",
   "execution_count": 50,
   "metadata": {},
   "outputs": [
    {
     "data": {
      "text/html": [
       "<style  type=\"text/css\" >\n",
       "    #T_42091d9e_833d_11eb_90a2_02420a3969b0row0_col0 {\n",
       "            background-color:  #1a1a1a;\n",
       "            color:  #f1f1f1;\n",
       "        }    #T_42091d9e_833d_11eb_90a2_02420a3969b0row0_col1 {\n",
       "            background-color:  #000000;\n",
       "            color:  #f1f1f1;\n",
       "        }    #T_42091d9e_833d_11eb_90a2_02420a3969b0row0_col2 {\n",
       "            background-color:  #111111;\n",
       "            color:  #f1f1f1;\n",
       "        }    #T_42091d9e_833d_11eb_90a2_02420a3969b0row1_col0 {\n",
       "            background-color:  #f7f7f7;\n",
       "            color:  #000000;\n",
       "        }    #T_42091d9e_833d_11eb_90a2_02420a3969b0row1_col1 {\n",
       "            background-color:  #f6f6f6;\n",
       "            color:  #000000;\n",
       "        }    #T_42091d9e_833d_11eb_90a2_02420a3969b0row1_col2 {\n",
       "            background-color:  #f5f5f5;\n",
       "            color:  #000000;\n",
       "        }    #T_42091d9e_833d_11eb_90a2_02420a3969b0row2_col0 {\n",
       "            background-color:  #ececec;\n",
       "            color:  #000000;\n",
       "        }    #T_42091d9e_833d_11eb_90a2_02420a3969b0row2_col1 {\n",
       "            background-color:  #f5f5f5;\n",
       "            color:  #000000;\n",
       "        }    #T_42091d9e_833d_11eb_90a2_02420a3969b0row2_col2 {\n",
       "            background-color:  #e6e6e6;\n",
       "            color:  #000000;\n",
       "        }    #T_42091d9e_833d_11eb_90a2_02420a3969b0row3_col0 {\n",
       "            background-color:  #e9e9e9;\n",
       "            color:  #000000;\n",
       "        }    #T_42091d9e_833d_11eb_90a2_02420a3969b0row3_col1 {\n",
       "            background-color:  #ececec;\n",
       "            color:  #000000;\n",
       "        }    #T_42091d9e_833d_11eb_90a2_02420a3969b0row3_col2 {\n",
       "            background-color:  #ebebeb;\n",
       "            color:  #000000;\n",
       "        }    #T_42091d9e_833d_11eb_90a2_02420a3969b0row4_col0 {\n",
       "            background-color:  #f6f6f6;\n",
       "            color:  #000000;\n",
       "        }    #T_42091d9e_833d_11eb_90a2_02420a3969b0row4_col1 {\n",
       "            background-color:  #f5f5f5;\n",
       "            color:  #000000;\n",
       "        }    #T_42091d9e_833d_11eb_90a2_02420a3969b0row4_col2 {\n",
       "            background-color:  #f8f8f8;\n",
       "            color:  #000000;\n",
       "        }    #T_42091d9e_833d_11eb_90a2_02420a3969b0row5_col0 {\n",
       "            background-color:  #ffffff;\n",
       "            color:  #000000;\n",
       "        }    #T_42091d9e_833d_11eb_90a2_02420a3969b0row5_col1 {\n",
       "            background-color:  #ffffff;\n",
       "            color:  #000000;\n",
       "        }    #T_42091d9e_833d_11eb_90a2_02420a3969b0row5_col2 {\n",
       "            background-color:  #ffffff;\n",
       "            color:  #000000;\n",
       "        }    #T_42091d9e_833d_11eb_90a2_02420a3969b0row6_col0 {\n",
       "            background-color:  #f3f3f3;\n",
       "            color:  #000000;\n",
       "        }    #T_42091d9e_833d_11eb_90a2_02420a3969b0row6_col1 {\n",
       "            background-color:  #e5e5e5;\n",
       "            color:  #000000;\n",
       "        }    #T_42091d9e_833d_11eb_90a2_02420a3969b0row6_col2 {\n",
       "            background-color:  #fcfcfc;\n",
       "            color:  #000000;\n",
       "        }    #T_42091d9e_833d_11eb_90a2_02420a3969b0row7_col0 {\n",
       "            background-color:  #afafaf;\n",
       "            color:  #000000;\n",
       "        }    #T_42091d9e_833d_11eb_90a2_02420a3969b0row7_col1 {\n",
       "            background-color:  #bdbdbd;\n",
       "            color:  #000000;\n",
       "        }    #T_42091d9e_833d_11eb_90a2_02420a3969b0row7_col2 {\n",
       "            background-color:  #000000;\n",
       "            color:  #f1f1f1;\n",
       "        }    #T_42091d9e_833d_11eb_90a2_02420a3969b0row8_col0 {\n",
       "            background-color:  #000000;\n",
       "            color:  #f1f1f1;\n",
       "        }    #T_42091d9e_833d_11eb_90a2_02420a3969b0row8_col1 {\n",
       "            background-color:  #222222;\n",
       "            color:  #f1f1f1;\n",
       "        }    #T_42091d9e_833d_11eb_90a2_02420a3969b0row8_col2 {\n",
       "            background-color:  #efefef;\n",
       "            color:  #000000;\n",
       "        }    #T_42091d9e_833d_11eb_90a2_02420a3969b0row9_col0 {\n",
       "            background-color:  #fcfcfc;\n",
       "            color:  #000000;\n",
       "        }    #T_42091d9e_833d_11eb_90a2_02420a3969b0row9_col1 {\n",
       "            background-color:  #f4f4f4;\n",
       "            color:  #000000;\n",
       "        }    #T_42091d9e_833d_11eb_90a2_02420a3969b0row9_col2 {\n",
       "            background-color:  #fafafa;\n",
       "            color:  #000000;\n",
       "        }    #T_42091d9e_833d_11eb_90a2_02420a3969b0row10_col0 {\n",
       "            background-color:  #7f7f7f;\n",
       "            color:  #000000;\n",
       "        }    #T_42091d9e_833d_11eb_90a2_02420a3969b0row10_col1 {\n",
       "            background-color:  #777777;\n",
       "            color:  #000000;\n",
       "        }    #T_42091d9e_833d_11eb_90a2_02420a3969b0row10_col2 {\n",
       "            background-color:  #f7f7f7;\n",
       "            color:  #000000;\n",
       "        }    #T_42091d9e_833d_11eb_90a2_02420a3969b0row11_col0 {\n",
       "            background-color:  #ffffff;\n",
       "            color:  #000000;\n",
       "        }    #T_42091d9e_833d_11eb_90a2_02420a3969b0row11_col1 {\n",
       "            background-color:  #fdfdfd;\n",
       "            color:  #000000;\n",
       "        }    #T_42091d9e_833d_11eb_90a2_02420a3969b0row11_col2 {\n",
       "            background-color:  #ffffff;\n",
       "            color:  #000000;\n",
       "        }</style><table id=\"T_42091d9e_833d_11eb_90a2_02420a3969b0\" ><thead>    <tr>        <th class=\"blank level0\" ></th>        <th class=\"col_heading level0 col0\" >NA_sales</th>        <th class=\"col_heading level0 col1\" >EU_sales</th>        <th class=\"col_heading level0 col2\" >JP_sales</th>    </tr>    <tr>        <th class=\"index_name level0\" >genre</th>        <th class=\"blank\" ></th>        <th class=\"blank\" ></th>        <th class=\"blank\" ></th>    </tr></thead><tbody>\n",
       "                <tr>\n",
       "                        <th id=\"T_42091d9e_833d_11eb_90a2_02420a3969b0level0_row0\" class=\"row_heading level0 row0\" >Action</th>\n",
       "                        <td id=\"T_42091d9e_833d_11eb_90a2_02420a3969b0row0_col0\" class=\"data row0 col0\" >72.1</td>\n",
       "                        <td id=\"T_42091d9e_833d_11eb_90a2_02420a3969b0row0_col1\" class=\"data row0 col1\" >74.0</td>\n",
       "                        <td id=\"T_42091d9e_833d_11eb_90a2_02420a3969b0row0_col2\" class=\"data row0 col2\" >29.4</td>\n",
       "            </tr>\n",
       "            <tr>\n",
       "                        <th id=\"T_42091d9e_833d_11eb_90a2_02420a3969b0level0_row1\" class=\"row_heading level0 row1\" >Adventure</th>\n",
       "                        <td id=\"T_42091d9e_833d_11eb_90a2_02420a3969b0row1_col0\" class=\"data row1 col0\" >5.6</td>\n",
       "                        <td id=\"T_42091d9e_833d_11eb_90a2_02420a3969b0row1_col1\" class=\"data row1 col1\" >6.4</td>\n",
       "                        <td id=\"T_42091d9e_833d_11eb_90a2_02420a3969b0row1_col2\" class=\"data row1 col2\" >3.5</td>\n",
       "            </tr>\n",
       "            <tr>\n",
       "                        <th id=\"T_42091d9e_833d_11eb_90a2_02420a3969b0level0_row2\" class=\"row_heading level0 row2\" >Fighting</th>\n",
       "                        <td id=\"T_42091d9e_833d_11eb_90a2_02420a3969b0row2_col0\" class=\"data row2 col0\" >12.4</td>\n",
       "                        <td id=\"T_42091d9e_833d_11eb_90a2_02420a3969b0row2_col1\" class=\"data row2 col1\" >6.7</td>\n",
       "                        <td id=\"T_42091d9e_833d_11eb_90a2_02420a3969b0row2_col2\" class=\"data row2 col2\" >6.4</td>\n",
       "            </tr>\n",
       "            <tr>\n",
       "                        <th id=\"T_42091d9e_833d_11eb_90a2_02420a3969b0level0_row3\" class=\"row_heading level0 row3\" >Misc</th>\n",
       "                        <td id=\"T_42091d9e_833d_11eb_90a2_02420a3969b0row3_col0\" class=\"data row3 col0\" >13.6</td>\n",
       "                        <td id=\"T_42091d9e_833d_11eb_90a2_02420a3969b0row3_col1\" class=\"data row3 col1\" >11.4</td>\n",
       "                        <td id=\"T_42091d9e_833d_11eb_90a2_02420a3969b0row3_col2\" class=\"data row3 col2\" >5.6</td>\n",
       "            </tr>\n",
       "            <tr>\n",
       "                        <th id=\"T_42091d9e_833d_11eb_90a2_02420a3969b0level0_row4\" class=\"row_heading level0 row4\" >Platform</th>\n",
       "                        <td id=\"T_42091d9e_833d_11eb_90a2_02420a3969b0row4_col0\" class=\"data row4 col0\" >6.8</td>\n",
       "                        <td id=\"T_42091d9e_833d_11eb_90a2_02420a3969b0row4_col1\" class=\"data row4 col1\" >6.8</td>\n",
       "                        <td id=\"T_42091d9e_833d_11eb_90a2_02420a3969b0row4_col2\" class=\"data row4 col2\" >2.7</td>\n",
       "            </tr>\n",
       "            <tr>\n",
       "                        <th id=\"T_42091d9e_833d_11eb_90a2_02420a3969b0level0_row5\" class=\"row_heading level0 row5\" >Puzzle</th>\n",
       "                        <td id=\"T_42091d9e_833d_11eb_90a2_02420a3969b0row5_col0\" class=\"data row5 col0\" >0.6</td>\n",
       "                        <td id=\"T_42091d9e_833d_11eb_90a2_02420a3969b0row5_col1\" class=\"data row5 col1\" >0.5</td>\n",
       "                        <td id=\"T_42091d9e_833d_11eb_90a2_02420a3969b0row5_col2\" class=\"data row5 col2\" >0.9</td>\n",
       "            </tr>\n",
       "            <tr>\n",
       "                        <th id=\"T_42091d9e_833d_11eb_90a2_02420a3969b0level0_row6\" class=\"row_heading level0 row6\" >Racing</th>\n",
       "                        <td id=\"T_42091d9e_833d_11eb_90a2_02420a3969b0row6_col0\" class=\"data row6 col0\" >8.7</td>\n",
       "                        <td id=\"T_42091d9e_833d_11eb_90a2_02420a3969b0row6_col1\" class=\"data row6 col1\" >14.1</td>\n",
       "                        <td id=\"T_42091d9e_833d_11eb_90a2_02420a3969b0row6_col2\" class=\"data row6 col2\" >1.8</td>\n",
       "            </tr>\n",
       "            <tr>\n",
       "                        <th id=\"T_42091d9e_833d_11eb_90a2_02420a3969b0level0_row7\" class=\"row_heading level0 row7\" >Role-Playing</th>\n",
       "                        <td id=\"T_42091d9e_833d_11eb_90a2_02420a3969b0row7_col0\" class=\"data row7 col0\" >33.5</td>\n",
       "                        <td id=\"T_42091d9e_833d_11eb_90a2_02420a3969b0row7_col1\" class=\"data row7 col1\" >28.2</td>\n",
       "                        <td id=\"T_42091d9e_833d_11eb_90a2_02420a3969b0row7_col2\" class=\"data row7 col2\" >31.2</td>\n",
       "            </tr>\n",
       "            <tr>\n",
       "                        <th id=\"T_42091d9e_833d_11eb_90a2_02420a3969b0level0_row8\" class=\"row_heading level0 row8\" >Shooter</th>\n",
       "                        <td id=\"T_42091d9e_833d_11eb_90a2_02420a3969b0row8_col0\" class=\"data row8 col0\" >79.0</td>\n",
       "                        <td id=\"T_42091d9e_833d_11eb_90a2_02420a3969b0row8_col1\" class=\"data row8 col1\" >65.5</td>\n",
       "                        <td id=\"T_42091d9e_833d_11eb_90a2_02420a3969b0row8_col2\" class=\"data row8 col2\" >4.9</td>\n",
       "            </tr>\n",
       "            <tr>\n",
       "                        <th id=\"T_42091d9e_833d_11eb_90a2_02420a3969b0level0_row9\" class=\"row_heading level0 row9\" >Simulation</th>\n",
       "                        <td id=\"T_42091d9e_833d_11eb_90a2_02420a3969b0row9_col0\" class=\"data row9 col0\" >2.6</td>\n",
       "                        <td id=\"T_42091d9e_833d_11eb_90a2_02420a3969b0row9_col1\" class=\"data row9 col1\" >7.3</td>\n",
       "                        <td id=\"T_42091d9e_833d_11eb_90a2_02420a3969b0row9_col2\" class=\"data row9 col2\" >2.3</td>\n",
       "            </tr>\n",
       "            <tr>\n",
       "                        <th id=\"T_42091d9e_833d_11eb_90a2_02420a3969b0level0_row10\" class=\"row_heading level0 row10\" >Sports</th>\n",
       "                        <td id=\"T_42091d9e_833d_11eb_90a2_02420a3969b0row10_col0\" class=\"data row10 col0\" >46.0</td>\n",
       "                        <td id=\"T_42091d9e_833d_11eb_90a2_02420a3969b0row10_col1\" class=\"data row10 col1\" >45.4</td>\n",
       "                        <td id=\"T_42091d9e_833d_11eb_90a2_02420a3969b0row10_col2\" class=\"data row10 col2\" >3.2</td>\n",
       "            </tr>\n",
       "            <tr>\n",
       "                        <th id=\"T_42091d9e_833d_11eb_90a2_02420a3969b0level0_row11\" class=\"row_heading level0 row11\" >Strategy</th>\n",
       "                        <td id=\"T_42091d9e_833d_11eb_90a2_02420a3969b0row11_col0\" class=\"data row11 col0\" >1.0</td>\n",
       "                        <td id=\"T_42091d9e_833d_11eb_90a2_02420a3969b0row11_col1\" class=\"data row11 col1\" >1.8</td>\n",
       "                        <td id=\"T_42091d9e_833d_11eb_90a2_02420a3969b0row11_col2\" class=\"data row11 col2\" >0.9</td>\n",
       "            </tr>\n",
       "    </tbody></table>"
      ],
      "text/plain": [
       "<pandas.io.formats.style.Styler at 0x7f82f3f43b50>"
      ]
     },
     "execution_count": 50,
     "metadata": {},
     "output_type": "execute_result"
    }
   ],
   "source": [
    "current_data_big_platforms.groupby('genre')[['NA_sales', 'EU_sales', 'JP_sales']].sum()\\\n",
    "                          .style.format(\"{:.1f}\").background_gradient(cmap='Greys', axis=0)"
   ]
  },
  {
   "cell_type": "markdown",
   "metadata": {},
   "source": [
    "<a id='Влияние рейтинга ESRB на продажи в отдельном регионе'></a>"
   ]
  },
  {
   "cell_type": "markdown",
   "metadata": {},
   "source": [
    "### <p style=\"text-align:center\"> Влияние рейтинга ESRB на продажи в отдельном регионе </p>"
   ]
  },
  {
   "cell_type": "markdown",
   "metadata": {},
   "source": [
    "В таблице ниже показаны продажи игр в отдельном регионе по рейтингам. Выглядит странно, что у игр с рейтингом RP (не определен, ожидает присвоения) столько продаж в Японии и других странах, возможно это связано с предзаказами игр. Также напрашивается вывод, что в Японии большинство начинает играть с 13 лет, а в Европе и Америке - с 17 лет."
   ]
  },
  {
   "cell_type": "code",
   "execution_count": 51,
   "metadata": {},
   "outputs": [
    {
     "data": {
      "text/html": [
       "<style  type=\"text/css\" >\n",
       "    #T_42114d0c_833d_11eb_90a2_02420a3969b0row0_col0 {\n",
       "            background-color:  #cfcfcf;\n",
       "            color:  #000000;\n",
       "        }    #T_42114d0c_833d_11eb_90a2_02420a3969b0row0_col1 {\n",
       "            background-color:  #9c9c9c;\n",
       "            color:  #000000;\n",
       "        }    #T_42114d0c_833d_11eb_90a2_02420a3969b0row0_col2 {\n",
       "            background-color:  #f5f5f5;\n",
       "            color:  #000000;\n",
       "        }    #T_42114d0c_833d_11eb_90a2_02420a3969b0row1_col0 {\n",
       "            background-color:  #ffffff;\n",
       "            color:  #000000;\n",
       "        }    #T_42114d0c_833d_11eb_90a2_02420a3969b0row1_col1 {\n",
       "            background-color:  #ffffff;\n",
       "            color:  #000000;\n",
       "        }    #T_42114d0c_833d_11eb_90a2_02420a3969b0row1_col2 {\n",
       "            background-color:  #ffffff;\n",
       "            color:  #000000;\n",
       "        }    #T_42114d0c_833d_11eb_90a2_02420a3969b0row2_col0 {\n",
       "            background-color:  #000000;\n",
       "            color:  #f1f1f1;\n",
       "        }    #T_42114d0c_833d_11eb_90a2_02420a3969b0row2_col1 {\n",
       "            background-color:  #000000;\n",
       "            color:  #f1f1f1;\n",
       "        }    #T_42114d0c_833d_11eb_90a2_02420a3969b0row2_col2 {\n",
       "            background-color:  #f7f7f7;\n",
       "            color:  #000000;\n",
       "        }    #T_42114d0c_833d_11eb_90a2_02420a3969b0row3_col0 {\n",
       "            background-color:  #929292;\n",
       "            color:  #000000;\n",
       "        }    #T_42114d0c_833d_11eb_90a2_02420a3969b0row3_col1 {\n",
       "            background-color:  #979797;\n",
       "            color:  #000000;\n",
       "        }    #T_42114d0c_833d_11eb_90a2_02420a3969b0row3_col2 {\n",
       "            background-color:  #000000;\n",
       "            color:  #f1f1f1;\n",
       "        }    #T_42114d0c_833d_11eb_90a2_02420a3969b0row4_col0 {\n",
       "            background-color:  #f1f1f1;\n",
       "            color:  #000000;\n",
       "        }    #T_42114d0c_833d_11eb_90a2_02420a3969b0row4_col1 {\n",
       "            background-color:  #ededed;\n",
       "            color:  #000000;\n",
       "        }    #T_42114d0c_833d_11eb_90a2_02420a3969b0row4_col2 {\n",
       "            background-color:  #e3e3e3;\n",
       "            color:  #000000;\n",
       "        }</style><table id=\"T_42114d0c_833d_11eb_90a2_02420a3969b0\" ><thead>    <tr>        <th class=\"blank level0\" ></th>        <th class=\"col_heading level0 col0\" >NA_sales</th>        <th class=\"col_heading level0 col1\" >EU_sales</th>        <th class=\"col_heading level0 col2\" >JP_sales</th>    </tr>    <tr>        <th class=\"index_name level0\" >rating</th>        <th class=\"blank\" ></th>        <th class=\"blank\" ></th>        <th class=\"blank\" ></th>    </tr></thead><tbody>\n",
       "                <tr>\n",
       "                        <th id=\"T_42114d0c_833d_11eb_90a2_02420a3969b0level0_row0\" class=\"row_heading level0 row0\" >E</th>\n",
       "                        <td id=\"T_42114d0c_833d_11eb_90a2_02420a3969b0row0_col0\" class=\"data row0 col0\" >50.6</td>\n",
       "                        <td id=\"T_42114d0c_833d_11eb_90a2_02420a3969b0row0_col1\" class=\"data row0 col1\" >57.6</td>\n",
       "                        <td id=\"T_42114d0c_833d_11eb_90a2_02420a3969b0row0_col2\" class=\"data row0 col2\" >8.9</td>\n",
       "            </tr>\n",
       "            <tr>\n",
       "                        <th id=\"T_42114d0c_833d_11eb_90a2_02420a3969b0level0_row1\" class=\"row_heading level0 row1\" >E10+</th>\n",
       "                        <td id=\"T_42114d0c_833d_11eb_90a2_02420a3969b0row1_col0\" class=\"data row1 col0\" >31.3</td>\n",
       "                        <td id=\"T_42114d0c_833d_11eb_90a2_02420a3969b0row1_col1\" class=\"data row1 col1\" >24.1</td>\n",
       "                        <td id=\"T_42114d0c_833d_11eb_90a2_02420a3969b0row1_col2\" class=\"data row1 col2\" >4.5</td>\n",
       "            </tr>\n",
       "            <tr>\n",
       "                        <th id=\"T_42114d0c_833d_11eb_90a2_02420a3969b0level0_row2\" class=\"row_heading level0 row2\" >M</th>\n",
       "                        <td id=\"T_42114d0c_833d_11eb_90a2_02420a3969b0row2_col0\" class=\"data row2 col0\" >96.4</td>\n",
       "                        <td id=\"T_42114d0c_833d_11eb_90a2_02420a3969b0row2_col1\" class=\"data row2 col1\" >93.4</td>\n",
       "                        <td id=\"T_42114d0c_833d_11eb_90a2_02420a3969b0row2_col2\" class=\"data row2 col2\" >8.0</td>\n",
       "            </tr>\n",
       "            <tr>\n",
       "                        <th id=\"T_42114d0c_833d_11eb_90a2_02420a3969b0level0_row3\" class=\"row_heading level0 row3\" >RP</th>\n",
       "                        <td id=\"T_42114d0c_833d_11eb_90a2_02420a3969b0row3_col0\" class=\"data row3 col0\" >64.7</td>\n",
       "                        <td id=\"T_42114d0c_833d_11eb_90a2_02420a3969b0row3_col1\" class=\"data row3 col1\" >58.8</td>\n",
       "                        <td id=\"T_42114d0c_833d_11eb_90a2_02420a3969b0row3_col2\" class=\"data row3 col2\" >56.5</td>\n",
       "            </tr>\n",
       "            <tr>\n",
       "                        <th id=\"T_42114d0c_833d_11eb_90a2_02420a3969b0level0_row4\" class=\"row_heading level0 row4\" >T</th>\n",
       "                        <td id=\"T_42114d0c_833d_11eb_90a2_02420a3969b0row4_col0\" class=\"data row4 col0\" >39.0</td>\n",
       "                        <td id=\"T_42114d0c_833d_11eb_90a2_02420a3969b0row4_col1\" class=\"data row4 col1\" >34.1</td>\n",
       "                        <td id=\"T_42114d0c_833d_11eb_90a2_02420a3969b0row4_col2\" class=\"data row4 col2\" >14.8</td>\n",
       "            </tr>\n",
       "    </tbody></table>"
      ],
      "text/plain": [
       "<pandas.io.formats.style.Styler at 0x7f82840bd490>"
      ]
     },
     "execution_count": 51,
     "metadata": {},
     "output_type": "execute_result"
    }
   ],
   "source": [
    "current_data_big_platforms['rating'] = current_data_big_platforms['rating'].astype('object')\n",
    "current_data_big_platforms.groupby('rating')[['NA_sales', 'EU_sales', 'JP_sales']].sum()\\\n",
    "                          .style.format(\"{:.1f}\").background_gradient(cmap='Greys', axis=0)"
   ]
  },
  {
   "cell_type": "markdown",
   "metadata": {},
   "source": [
    "<a id='Вывод_4'></a>"
   ]
  },
  {
   "cell_type": "markdown",
   "metadata": {},
   "source": [
    "### <p style=\"text-align:center\"> Вывод</p>"
   ]
  },
  {
   "cell_type": "markdown",
   "metadata": {},
   "source": [
    "##### Таким образом в данной части нашего исследовании мы:\n",
    "\n",
    "___\n",
    "\n",
    "\n",
    "1. Определили самые популярные платформы для каждого региона. Для Европы это PS4, XOne, PS3, PC и 3DS; для Америки - PS4, XOne, X360, 3DS и PS3; для Японии - 3DS, PS4, PSV, PS3 и WiiU.\n",
    "\n",
    "\n",
    "2. Посмотрели на самые популярные жанры для каждого региона. Для Европы и Америки это Action, Shooter, Sports; для Японии - Action, Role-Playing.\n",
    "\n",
    "\n",
    "3. Выявили влияние рейтинга ESRB на продажи в отдельном регионе. Так, игры с рейтингом E10+ нечасто покупают во всех регионах, рейтинг М серьезно влияет на продажи в Японии, в лидерах продаж в Японии игры с рейтингом RP, в Европе и Америке - с рейтингом М.\n",
    "\n",
    "\n",
    "___\n",
    "\n",
    "\n",
    "Резюмируя данную часть работы, можно составить полный портрет пользователя каждого региона. Так, пользователи Северной Америки и Европы схожи между собой, в актуальном периоде играют в основном в PS4 и XOne, из жанров предпочитают Action, Shooter и Sports, играют в основном в игры с достаточно высоким возрастным рейтингом. В отличии от них, японцам по душе их родная Nintendo, они также как американцы и европейцы играют в Action, но жанру Shooter предпочитают Role-Playing, в лидерах продаж у них игры с рейтингом RP.\n",
    "\n",
    "\n",
    "___\n",
    "\n",
    "\n",
    "Таким образом, был составлен портрет пользователя каждого региона. Переходим к проверке гипотез."
   ]
  },
  {
   "cell_type": "markdown",
   "metadata": {},
   "source": [
    " ## Часть 5. Проверка гипотез"
   ]
  },
  {
   "cell_type": "markdown",
   "metadata": {},
   "source": [
    "<a id='Гипотеза \"Средние пользовательские рейтинги платформ Xbox One и PC одинаковые\"'></a>"
   ]
  },
  {
   "cell_type": "markdown",
   "metadata": {},
   "source": [
    "### <p style=\"text-align:center\"> Гипотеза \"Средние пользовательские рейтинги платформ Xbox One и PC одинаковые' </p>"
   ]
  },
  {
   "cell_type": "markdown",
   "metadata": {},
   "source": [
    "Сформулируем нулевую гипотезу H0. В данном случае наша гипотеза будет звучать как \"Средние пользовательские рейтинги платформ Xbox One и PC одинаковые\", от есть они равны. Тогда альтернативная гипотеза H1 будет \"Средние пользовательские рейтинги платформ Xbox One и PC различаются\"."
   ]
  },
  {
   "cell_type": "markdown",
   "metadata": {},
   "source": [
    "Проверяем распределения на нормальность по тесту Шапиро-Вилка. В обоих случаях отклоняем гипотезу о нормальности. "
   ]
  },
  {
   "cell_type": "code",
   "execution_count": 52,
   "metadata": {},
   "outputs": [],
   "source": [
    "data_XOne = current_data_big_platforms.query('platform == \"XOne\"')['user_score'].dropna()\n",
    "data_PC = current_data_big_platforms.query('platform == \"PC\"')['user_score'].dropna()"
   ]
  },
  {
   "cell_type": "code",
   "execution_count": 53,
   "metadata": {},
   "outputs": [],
   "source": [
    "def check_shapiro(data):\n",
    "    stat, p = st.shapiro(data)\n",
    "    print('statistics=%.3f, p-value=%.3f' % (stat, p))\n",
    "    alpha = 0.05\n",
    "    if p > alpha:\n",
    "        print('Принять гипотезу о нормальности')\n",
    "    else:\n",
    "        print('Отклонить гипотезу о нормальности')"
   ]
  },
  {
   "cell_type": "code",
   "execution_count": 54,
   "metadata": {},
   "outputs": [
    {
     "name": "stdout",
     "output_type": "stream",
     "text": [
      "statistics=0.953, p-value=0.000\n",
      "Отклонить гипотезу о нормальности\n"
     ]
    }
   ],
   "source": [
    "check_shapiro(data_XOne)"
   ]
  },
  {
   "cell_type": "code",
   "execution_count": 55,
   "metadata": {},
   "outputs": [
    {
     "name": "stdout",
     "output_type": "stream",
     "text": [
      "statistics=0.950, p-value=0.000\n",
      "Отклонить гипотезу о нормальности\n"
     ]
    }
   ],
   "source": [
    "check_shapiro(data_PC)"
   ]
  },
  {
   "cell_type": "markdown",
   "metadata": {},
   "source": [
    "Применяем критерий Манна-Уитни. Пишем код, который на выходе даст условную вероятность того, что наша нулевая гипотеза H0 верна, а также автоматически сравнит полученную условную вероятность с пороговым значением. Если пороговое значение выше, мы отвергнем нулевую гипотезу."
   ]
  },
  {
   "cell_type": "code",
   "execution_count": 56,
   "metadata": {},
   "outputs": [],
   "source": [
    "def check_mannwhitneyu(data1, data2):\n",
    "    results = st.mannwhitneyu(data1, data2)\n",
    "    print('p-значение:', results.pvalue)\n",
    "    alpha = 0.05\n",
    "    if results.pvalue > alpha:\n",
    "        print('Не получилось отвергнуть нулевую гипотезу')\n",
    "    else:\n",
    "        print('Отвергаем нулевую гипотезу')"
   ]
  },
  {
   "cell_type": "code",
   "execution_count": 57,
   "metadata": {},
   "outputs": [
    {
     "name": "stdout",
     "output_type": "stream",
     "text": [
      "p-значение: 0.13876434863881087\n",
      "Не получилось отвергнуть нулевую гипотезу\n"
     ]
    }
   ],
   "source": [
    "check_mannwhitneyu(data_XOne, data_PC)"
   ]
  },
  {
   "cell_type": "markdown",
   "metadata": {},
   "source": [
    "Для проверки, зная, что при достаточном объеме выборки также можно применять критерий Стюдента, даже если выборка не распределена нормально, сделаем это."
   ]
  },
  {
   "cell_type": "code",
   "execution_count": 58,
   "metadata": {},
   "outputs": [],
   "source": [
    "def check_ttest(data1, data2):\n",
    "    results = st.ttest_ind(data1, data2)\n",
    "    print('p-значение:', results.pvalue)\n",
    "    alpha = 0.05\n",
    "    if (results.pvalue > alpha):\n",
    "        print('Не получилось отвергнуть нулевую гипотезу')\n",
    "    else:\n",
    "        print('Отвергаем нулевую гипотезу')"
   ]
  },
  {
   "cell_type": "code",
   "execution_count": 59,
   "metadata": {},
   "outputs": [
    {
     "name": "stdout",
     "output_type": "stream",
     "text": [
      "p-значение: 0.10450648637161196\n",
      "Не получилось отвергнуть нулевую гипотезу\n"
     ]
    }
   ],
   "source": [
    "check_ttest(data_XOne, data_PC)"
   ]
  },
  {
   "cell_type": "markdown",
   "metadata": {},
   "source": [
    "Результаты по обоим проверкам сходны между собой. Такам образом, с условной вероятностью от 11 до 14%, такое или большее различие нельзя получить случайно. Это явно слишком большая вероятность, чтобы делать вывод о значимом различии между средними рейтингами."
   ]
  },
  {
   "cell_type": "markdown",
   "metadata": {},
   "source": [
    "<a id='Гипотеза \"Средние пользовательские рейтинги жанров Action и Sports разные\"'></a>"
   ]
  },
  {
   "cell_type": "markdown",
   "metadata": {},
   "source": [
    "### <p style=\"text-align:center\"> Гипотеза \"Средние пользовательские рейтинги жанров Action и Sports разные\" </p>"
   ]
  },
  {
   "cell_type": "markdown",
   "metadata": {},
   "source": [
    "Сформулируем нулевую гипотезу H0. В данном случае наша гипотеза будет звучать как \"Средние пользовательские рейтинги жанров Action и Sports не различаются\", от есть они равны. Тогда альтернативная гипотеза H1 будет \"Средние пользовательские рейтинги жанров Action и Sports различаются\"."
   ]
  },
  {
   "cell_type": "code",
   "execution_count": 60,
   "metadata": {},
   "outputs": [],
   "source": [
    "data_Action = current_data_big_platforms.query('genre == \"Action\"')['user_score'].dropna()\n",
    "data_Sports = current_data_big_platforms.query('genre == \"Sports\"')['user_score'].dropna()"
   ]
  },
  {
   "cell_type": "code",
   "execution_count": 61,
   "metadata": {},
   "outputs": [
    {
     "name": "stdout",
     "output_type": "stream",
     "text": [
      "statistics=0.907, p-value=0.000\n",
      "Отклонить гипотезу о нормальности\n"
     ]
    }
   ],
   "source": [
    "check_shapiro(data_Action)"
   ]
  },
  {
   "cell_type": "code",
   "execution_count": 62,
   "metadata": {},
   "outputs": [
    {
     "name": "stdout",
     "output_type": "stream",
     "text": [
      "statistics=0.977, p-value=0.028\n",
      "Отклонить гипотезу о нормальности\n"
     ]
    }
   ],
   "source": [
    "check_shapiro(data_Sports)"
   ]
  },
  {
   "cell_type": "markdown",
   "metadata": {},
   "source": [
    "Применяем критерий Манна-Уитни. Пишем код, который на выходе даст условную вероятность того, что наша нулевая гипотеза H0 верна, а также автоматически сравнит полученную условную вероятность с пороговым значением. Если пороговое значение выше, мы отвергнем нулевую гипотезу."
   ]
  },
  {
   "cell_type": "code",
   "execution_count": 63,
   "metadata": {},
   "outputs": [
    {
     "name": "stdout",
     "output_type": "stream",
     "text": [
      "p-значение: 1.0733598502946829e-16\n",
      "Отвергаем нулевую гипотезу\n"
     ]
    }
   ],
   "source": [
    "check_mannwhitneyu(data_Action, data_Sports)"
   ]
  },
  {
   "cell_type": "markdown",
   "metadata": {},
   "source": [
    "Для проверки, зная, что при достаточном объеме выборки также можно применять критерий Стюдента, даже если выборка не распределена нормально, сделаем это."
   ]
  },
  {
   "cell_type": "code",
   "execution_count": 64,
   "metadata": {},
   "outputs": [
    {
     "name": "stdout",
     "output_type": "stream",
     "text": [
      "p-значение: 5.3455093328529915e-19\n",
      "Отвергаем нулевую гипотезу\n"
     ]
    }
   ],
   "source": [
    "check_ttest(data_Action, data_Sports)"
   ]
  },
  {
   "cell_type": "markdown",
   "metadata": {},
   "source": [
    "Результаты по обоим проверкам сходны между собой. Таким образом, с условной вероятнотностью в 99,99% можно сделать вывод о том, что cредние пользовательские рейтинги жанров Action и Sports действительно различаются."
   ]
  },
  {
   "cell_type": "markdown",
   "metadata": {},
   "source": [
    "<a id='Вывод_5'>"
   ]
  },
  {
   "cell_type": "markdown",
   "metadata": {},
   "source": [
    "### <p style=\"text-align:center\"> Вывод </p>"
   ]
  },
  {
   "cell_type": "markdown",
   "metadata": {},
   "source": [
    "##### Таким образом в заключительной части нашего исследовании мы:\n",
    "\n",
    "___\n",
    "\n",
    "\n",
    "1. Проверили гипотезу \"Средние пользовательские рейтинги платформ Xbox One и PC одинаковые\". И она была отвергнута.\n",
    "\n",
    "\n",
    "2. Проверили гипотезу \"Средние пользовательские рейтинги жанров Action и Sports разные\". И она подтвердилась.\n",
    "\n",
    "\n",
    "___\n",
    "\n",
    "\n",
    "Резюмируя, была выполнена заключительная часть нашего исследования, в которой мы сформировали и проверили несколько гипотез."
   ]
  },
  {
   "cell_type": "markdown",
   "metadata": {},
   "source": [
    " ## Часть 6. Общий вывод "
   ]
  },
  {
   "cell_type": "markdown",
   "metadata": {},
   "source": [
    "<a id='Вывод_6'>"
   ]
  },
  {
   "cell_type": "markdown",
   "metadata": {},
   "source": [
    "### <p style=\"text-align:center\"> Общий вывод о проделанной работе </p>"
   ]
  },
  {
   "cell_type": "markdown",
   "metadata": {},
   "source": [
    "Таким образом, на основе предоставленного датасета была выполнена работа по поиску необходимой информации, ее анализу и проверке гипотез.\n",
    "\n",
    "___\n",
    "\n",
    "\n",
    "- В первую очередь было произведено импортирование необходимых библиотек, загрузка датасета и получение о нем общей информации. Уже на этом этапе в данных обнаружились проблемы, подробнее о которых можно почитать <a href='#Вывод_1'>здесь</a>.\n",
    "\n",
    "\n",
    "- Для устранения выявленных дефектов данных была выполнена предобработка данных. В процессе работы были применены необходимые методы и атрибуты. Подробнее о каждой операции по предобработке данных написано в соответствующем пункте работы. Выводы по проделанной в этом пункте работе можно посмотреть <a href='#Вывод_2'>здесь</a>.\n",
    "\n",
    "\n",
    "- Далее мы занялись исследовательским анализом данных, выводили много histograms, scatterplots and violin plots, считали корреляции, анализировали распределения, и делали на основании всего этого выводы. <a href='#Вывод_3'>Здесь</a> все описано подробнее.\n",
    "\n",
    "\n",
    "- После исследовательского анализа приступили к формированию портрета пользователя в зависимости от региона. Самая маленькая, одна из самых важных частей нашей работы, с выводами которой можно ознакомиться <a href='#Вывод_4'>здесь</a>.\n",
    "\n",
    "\n",
    "- Ну и в заключительной части нашего исследования мы проверили несколько гипотез и сделали выводы на основе условных вероятностей. Подробности можно найти <a href='#Вывод_5'>здесь</a>.\n",
    "\n",
    "\n",
    "___\n",
    "\n",
    "\n",
    "Главная цель нашего исследования - поиск критериев успешности игры для актуального периода. В зависимости от того, для какого рынка мы работаем или собираемся это делать, можно использовать выводы данного исследования для \n",
    "определения стратегии компании. \n",
    "\n",
    "Cобираясь работать в Японии, предпочтение можно отдать играм с рейтингами RP и T, с жанрами Action и Role-Playing, на платформах 3DS, PS4, PSV. Рынки Северной Америки и Европы схожи, игроки предпочитают PS4 и XOne, самыми прибыльными жанрами будут  Action, Shooter и Sports, играют в основном в игры с достаточно высоким возрастным рейтингом. Этот выбор обусловлен как предпочтениями пользователей в соответствующем регионе, так и сравнительно высокой рентабельностью игр на этих платформах с этими жанрами. Подробнее можно ознакомиться <a href='#Определение самых популярных платформ для каждого региона'>здесь</a>.\n",
    "\n",
    "\n",
    "Что касается распространенности, то на всех платформах с большим отрывом лидирует жанр Fighting; похоже, что начинающей игровой компании лучше будет начинать отсюда. Подробнее можно ознакомиться <a href='#Распределение игр по жанрам'>здесь</a>.\n",
    "\n",
    "\n",
    "Самыми доходными жанрами игр являются Action, Shooter, Sports и Role-Playing. Это логично, ведь это самые популярные жанры во всем мире. Подробнее можно ознакомиться <a href='#Распределение игр по жанрам'>здесь</a>.\n",
    "\n",
    "\n",
    "Судя по проведенным нами проверкам гипотез, средние пользовательские рейтинги платформ Xbox One и PC отличаются, а средние пользовательские рейтинги жанров Action и Sports отличаются не особо. Подробнее можно ознакомиться <a href='#Гипотеза \"Средние пользовательские рейтинги платформ Xbox One и PC одинаковые\"'>здесь</a>.\n",
    "\n",
    "\n",
    "Стоит отметить различия между рейтингами критиков и пользователей. Критики в общем случае склонны выше оценивать более дорогие игры, в отличие от пользователей. Подробнее можно ознакомиться <a href='#Зависимость продаж от оценок игроков и критиков'>здесь</a>.\n",
    "\n",
    "___\n"
   ]
  }
 ],
 "metadata": {
  "kernelspec": {
   "display_name": "Python 3",
   "language": "python",
   "name": "python3"
  },
  "language_info": {
   "codemirror_mode": {
    "name": "ipython",
    "version": 3
   },
   "file_extension": ".py",
   "mimetype": "text/x-python",
   "name": "python",
   "nbconvert_exporter": "python",
   "pygments_lexer": "ipython3",
   "version": "3.7.6"
  },
  "toc": {
   "base_numbering": 1,
   "nav_menu": {},
   "number_sections": false,
   "sideBar": true,
   "skip_h1_title": true,
   "title_cell": "Table of Contents",
   "title_sidebar": "Contents",
   "toc_cell": false,
   "toc_position": {},
   "toc_section_display": true,
   "toc_window_display": false
  }
 },
 "nbformat": 4,
 "nbformat_minor": 2
}
