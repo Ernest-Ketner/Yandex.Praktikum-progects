{
 "cells": [
  {
   "cell_type": "markdown",
   "metadata": {},
   "source": [
    "# Создание моделей рекомендаций тарифов для компании \"Мегалайн\" \n",
    "В нашем распоряжении данные о поведении клиентов, которые уже перешли на  тарифы \"Смарт\" и \"Ультра\". К ним относятся количество сделанных звонков, потраченных минут, сообщений и мегабайт, а также отметка о наименовании тарифа. На основании этих данных нам необходимо построить модель для задачи классификации, которая выберет подходящий тариф. Предобработка данных не понадобится — мы её уже сделали.\n",
    "\n",
    "Нам необходимо построить модель с максимально большим значением *accuracy*. \n",
    "    \n",
    "    \n",
    "____\n",
    "\n",
    "\n",
    "\n",
    "В данном исследовании представлен процесс создания и проверки моделей машинного обучения в целях создания рекомендательной системы. Работа произведена в соответствии с инструкциями заказчика. Каждый значительный шаг сопровождается промежуточным, либо общим выводом.\n",
    "    \n",
    "____\n",
    "    \n",
    "\n",
    "    \n",
    "Часть 1. Изучение общей информации о предоставленном датасете\n",
    "    \n",
    "1. Импорт необходимых библиотек для работы с данными, загрузка датасета\n",
    "2. Изучение данных, получение общей информации\n",
    "3. Оценка мультиколлинеарности признаков\n",
    "4. Вывод\n",
    "\n",
    "Часть 2. Создание моделей\n",
    "\n",
    "1. Разделение датасета на выборки\n",
    "2. Исследование моделей\n",
    "3. Применение выводов оценки мультиколлинеарности\n",
    "4. Применение кросс валидации\n",
    "5. Вывод\n",
    "    \n",
    "Часть 3. Проверка моделей на адекватность\n",
    "    \n",
    "1. Проверка моделей на адекватность\n",
    "2. Вывод\n",
    "    \n",
    "Часть 4. Общий вывод\n",
    "1. Общий вывод о проделанной работе"
   ]
  },
  {
   "cell_type": "markdown",
   "metadata": {},
   "source": [
    " ## Часть 1. Изучение общей информации о предоставленном датасете"
   ]
  },
  {
   "cell_type": "markdown",
   "metadata": {},
   "source": [
    "<a id='Импорт необходимых библиотек для работы с данными, загрузка датасета'>"
   ]
  },
  {
   "cell_type": "markdown",
   "metadata": {},
   "source": [
    "## <p style=\"text-align:center\"> Импорт необходимых библиотек для работы с данными, загрузка датасета</p>"
   ]
  },
  {
   "cell_type": "markdown",
   "metadata": {},
   "source": [
    "Импортируем необходимые библиотеки, убираем ограничения на количество столбцов, отключаем предупреждения."
   ]
  },
  {
   "cell_type": "code",
   "execution_count": 1,
   "metadata": {},
   "outputs": [],
   "source": [
    "import pandas as pd\n",
    "import numpy as np\n",
    "import seaborn as sns\n",
    "import timeit\n",
    "from sklearn.model_selection import train_test_split\n",
    "from sklearn.metrics import accuracy_score\n",
    "from sklearn.tree import DecisionTreeClassifier\n",
    "from sklearn.ensemble import RandomForestClassifier\n",
    "from sklearn.linear_model import LogisticRegression\n",
    "from sklearn.svm import SVC\n",
    "from sklearn.neighbors import KNeighborsClassifier\n",
    "from sklearn.model_selection import GridSearchCV\n",
    "from IPython.display import display\n",
    "pd.options.display.max_columns = None\n",
    "import warnings\n",
    "warnings.simplefilter('ignore')"
   ]
  },
  {
   "cell_type": "markdown",
   "metadata": {},
   "source": [
    "Загружаем датасет, проверяем вывод."
   ]
  },
  {
   "cell_type": "code",
   "execution_count": 2,
   "metadata": {},
   "outputs": [],
   "source": [
    "df = pd.read_csv('/datasets/users_behavior.csv')"
   ]
  },
  {
   "cell_type": "code",
   "execution_count": 3,
   "metadata": {},
   "outputs": [
    {
     "data": {
      "text/html": [
       "<div>\n",
       "<style scoped>\n",
       "    .dataframe tbody tr th:only-of-type {\n",
       "        vertical-align: middle;\n",
       "    }\n",
       "\n",
       "    .dataframe tbody tr th {\n",
       "        vertical-align: top;\n",
       "    }\n",
       "\n",
       "    .dataframe thead th {\n",
       "        text-align: right;\n",
       "    }\n",
       "</style>\n",
       "<table border=\"1\" class=\"dataframe\">\n",
       "  <thead>\n",
       "    <tr style=\"text-align: right;\">\n",
       "      <th></th>\n",
       "      <th>calls</th>\n",
       "      <th>minutes</th>\n",
       "      <th>messages</th>\n",
       "      <th>mb_used</th>\n",
       "      <th>is_ultra</th>\n",
       "    </tr>\n",
       "  </thead>\n",
       "  <tbody>\n",
       "    <tr>\n",
       "      <td>0</td>\n",
       "      <td>40.0</td>\n",
       "      <td>311.90</td>\n",
       "      <td>83.0</td>\n",
       "      <td>19915.42</td>\n",
       "      <td>0</td>\n",
       "    </tr>\n",
       "    <tr>\n",
       "      <td>1</td>\n",
       "      <td>85.0</td>\n",
       "      <td>516.75</td>\n",
       "      <td>56.0</td>\n",
       "      <td>22696.96</td>\n",
       "      <td>0</td>\n",
       "    </tr>\n",
       "    <tr>\n",
       "      <td>2</td>\n",
       "      <td>77.0</td>\n",
       "      <td>467.66</td>\n",
       "      <td>86.0</td>\n",
       "      <td>21060.45</td>\n",
       "      <td>0</td>\n",
       "    </tr>\n",
       "    <tr>\n",
       "      <td>3</td>\n",
       "      <td>106.0</td>\n",
       "      <td>745.53</td>\n",
       "      <td>81.0</td>\n",
       "      <td>8437.39</td>\n",
       "      <td>1</td>\n",
       "    </tr>\n",
       "    <tr>\n",
       "      <td>4</td>\n",
       "      <td>66.0</td>\n",
       "      <td>418.74</td>\n",
       "      <td>1.0</td>\n",
       "      <td>14502.75</td>\n",
       "      <td>0</td>\n",
       "    </tr>\n",
       "  </tbody>\n",
       "</table>\n",
       "</div>"
      ],
      "text/plain": [
       "   calls  minutes  messages   mb_used  is_ultra\n",
       "0   40.0   311.90      83.0  19915.42         0\n",
       "1   85.0   516.75      56.0  22696.96         0\n",
       "2   77.0   467.66      86.0  21060.45         0\n",
       "3  106.0   745.53      81.0   8437.39         1\n",
       "4   66.0   418.74       1.0  14502.75         0"
      ]
     },
     "execution_count": 3,
     "metadata": {},
     "output_type": "execute_result"
    }
   ],
   "source": [
    "df.head()"
   ]
  },
  {
   "cell_type": "markdown",
   "metadata": {},
   "source": [
    "<a id='Изучение данных, получение общей информации'></a>"
   ]
  },
  {
   "cell_type": "markdown",
   "metadata": {},
   "source": [
    "## <p style=\"text-align:center\"> Изучение данных, получение общей информации</p>"
   ]
  },
  {
   "cell_type": "markdown",
   "metadata": {},
   "source": [
    "Ознакомимся с информацией, посмотрим соответствуют ли типы ячеек назначению. В качестве дополнительной проверки возьмем случайные 20 строк из нашего датасета, посмотрим на странные, выбивающиеся, отсутствующие значения. Так как датасет предобработан, ничего подохрительного мы увидеть не должны."
   ]
  },
  {
   "cell_type": "code",
   "execution_count": 4,
   "metadata": {},
   "outputs": [
    {
     "data": {
      "text/html": [
       "<div>\n",
       "<style scoped>\n",
       "    .dataframe tbody tr th:only-of-type {\n",
       "        vertical-align: middle;\n",
       "    }\n",
       "\n",
       "    .dataframe tbody tr th {\n",
       "        vertical-align: top;\n",
       "    }\n",
       "\n",
       "    .dataframe thead th {\n",
       "        text-align: right;\n",
       "    }\n",
       "</style>\n",
       "<table border=\"1\" class=\"dataframe\">\n",
       "  <thead>\n",
       "    <tr style=\"text-align: right;\">\n",
       "      <th></th>\n",
       "      <th>calls</th>\n",
       "      <th>minutes</th>\n",
       "      <th>messages</th>\n",
       "      <th>mb_used</th>\n",
       "      <th>is_ultra</th>\n",
       "    </tr>\n",
       "  </thead>\n",
       "  <tbody>\n",
       "    <tr>\n",
       "      <td>1719</td>\n",
       "      <td>62.0</td>\n",
       "      <td>545.53</td>\n",
       "      <td>3.0</td>\n",
       "      <td>4942.50</td>\n",
       "      <td>0</td>\n",
       "    </tr>\n",
       "    <tr>\n",
       "      <td>2922</td>\n",
       "      <td>74.0</td>\n",
       "      <td>498.09</td>\n",
       "      <td>97.0</td>\n",
       "      <td>16471.48</td>\n",
       "      <td>0</td>\n",
       "    </tr>\n",
       "    <tr>\n",
       "      <td>1895</td>\n",
       "      <td>93.0</td>\n",
       "      <td>630.74</td>\n",
       "      <td>54.0</td>\n",
       "      <td>13246.51</td>\n",
       "      <td>0</td>\n",
       "    </tr>\n",
       "    <tr>\n",
       "      <td>161</td>\n",
       "      <td>58.0</td>\n",
       "      <td>394.15</td>\n",
       "      <td>48.0</td>\n",
       "      <td>15605.44</td>\n",
       "      <td>0</td>\n",
       "    </tr>\n",
       "    <tr>\n",
       "      <td>255</td>\n",
       "      <td>40.0</td>\n",
       "      <td>225.89</td>\n",
       "      <td>12.0</td>\n",
       "      <td>13581.94</td>\n",
       "      <td>0</td>\n",
       "    </tr>\n",
       "    <tr>\n",
       "      <td>1089</td>\n",
       "      <td>51.0</td>\n",
       "      <td>371.83</td>\n",
       "      <td>63.0</td>\n",
       "      <td>5774.98</td>\n",
       "      <td>0</td>\n",
       "    </tr>\n",
       "    <tr>\n",
       "      <td>1463</td>\n",
       "      <td>7.0</td>\n",
       "      <td>22.96</td>\n",
       "      <td>7.0</td>\n",
       "      <td>12762.99</td>\n",
       "      <td>0</td>\n",
       "    </tr>\n",
       "    <tr>\n",
       "      <td>1009</td>\n",
       "      <td>84.0</td>\n",
       "      <td>608.19</td>\n",
       "      <td>19.0</td>\n",
       "      <td>25013.18</td>\n",
       "      <td>0</td>\n",
       "    </tr>\n",
       "    <tr>\n",
       "      <td>2322</td>\n",
       "      <td>134.0</td>\n",
       "      <td>933.89</td>\n",
       "      <td>91.0</td>\n",
       "      <td>12468.87</td>\n",
       "      <td>1</td>\n",
       "    </tr>\n",
       "    <tr>\n",
       "      <td>1126</td>\n",
       "      <td>93.0</td>\n",
       "      <td>628.59</td>\n",
       "      <td>41.0</td>\n",
       "      <td>19309.71</td>\n",
       "      <td>0</td>\n",
       "    </tr>\n",
       "    <tr>\n",
       "      <td>1038</td>\n",
       "      <td>80.0</td>\n",
       "      <td>581.05</td>\n",
       "      <td>16.0</td>\n",
       "      <td>13976.52</td>\n",
       "      <td>0</td>\n",
       "    </tr>\n",
       "    <tr>\n",
       "      <td>171</td>\n",
       "      <td>196.0</td>\n",
       "      <td>1279.75</td>\n",
       "      <td>133.0</td>\n",
       "      <td>26927.87</td>\n",
       "      <td>1</td>\n",
       "    </tr>\n",
       "    <tr>\n",
       "      <td>366</td>\n",
       "      <td>64.0</td>\n",
       "      <td>353.85</td>\n",
       "      <td>36.0</td>\n",
       "      <td>17413.75</td>\n",
       "      <td>0</td>\n",
       "    </tr>\n",
       "    <tr>\n",
       "      <td>671</td>\n",
       "      <td>82.0</td>\n",
       "      <td>565.18</td>\n",
       "      <td>0.0</td>\n",
       "      <td>21258.91</td>\n",
       "      <td>1</td>\n",
       "    </tr>\n",
       "    <tr>\n",
       "      <td>349</td>\n",
       "      <td>56.0</td>\n",
       "      <td>418.40</td>\n",
       "      <td>39.0</td>\n",
       "      <td>25111.53</td>\n",
       "      <td>0</td>\n",
       "    </tr>\n",
       "    <tr>\n",
       "      <td>1687</td>\n",
       "      <td>106.0</td>\n",
       "      <td>713.44</td>\n",
       "      <td>46.0</td>\n",
       "      <td>7093.61</td>\n",
       "      <td>1</td>\n",
       "    </tr>\n",
       "    <tr>\n",
       "      <td>2250</td>\n",
       "      <td>62.0</td>\n",
       "      <td>380.27</td>\n",
       "      <td>33.0</td>\n",
       "      <td>12115.87</td>\n",
       "      <td>0</td>\n",
       "    </tr>\n",
       "    <tr>\n",
       "      <td>1862</td>\n",
       "      <td>55.0</td>\n",
       "      <td>429.89</td>\n",
       "      <td>0.0</td>\n",
       "      <td>12327.99</td>\n",
       "      <td>1</td>\n",
       "    </tr>\n",
       "    <tr>\n",
       "      <td>2202</td>\n",
       "      <td>101.0</td>\n",
       "      <td>724.65</td>\n",
       "      <td>64.0</td>\n",
       "      <td>13229.44</td>\n",
       "      <td>0</td>\n",
       "    </tr>\n",
       "    <tr>\n",
       "      <td>2573</td>\n",
       "      <td>63.0</td>\n",
       "      <td>419.72</td>\n",
       "      <td>0.0</td>\n",
       "      <td>43325.34</td>\n",
       "      <td>1</td>\n",
       "    </tr>\n",
       "  </tbody>\n",
       "</table>\n",
       "</div>"
      ],
      "text/plain": [
       "      calls  minutes  messages   mb_used  is_ultra\n",
       "1719   62.0   545.53       3.0   4942.50         0\n",
       "2922   74.0   498.09      97.0  16471.48         0\n",
       "1895   93.0   630.74      54.0  13246.51         0\n",
       "161    58.0   394.15      48.0  15605.44         0\n",
       "255    40.0   225.89      12.0  13581.94         0\n",
       "1089   51.0   371.83      63.0   5774.98         0\n",
       "1463    7.0    22.96       7.0  12762.99         0\n",
       "1009   84.0   608.19      19.0  25013.18         0\n",
       "2322  134.0   933.89      91.0  12468.87         1\n",
       "1126   93.0   628.59      41.0  19309.71         0\n",
       "1038   80.0   581.05      16.0  13976.52         0\n",
       "171   196.0  1279.75     133.0  26927.87         1\n",
       "366    64.0   353.85      36.0  17413.75         0\n",
       "671    82.0   565.18       0.0  21258.91         1\n",
       "349    56.0   418.40      39.0  25111.53         0\n",
       "1687  106.0   713.44      46.0   7093.61         1\n",
       "2250   62.0   380.27      33.0  12115.87         0\n",
       "1862   55.0   429.89       0.0  12327.99         1\n",
       "2202  101.0   724.65      64.0  13229.44         0\n",
       "2573   63.0   419.72       0.0  43325.34         1"
      ]
     },
     "execution_count": 4,
     "metadata": {},
     "output_type": "execute_result"
    }
   ],
   "source": [
    "df.sample(n=20, random_state=1)"
   ]
  },
  {
   "cell_type": "markdown",
   "metadata": {},
   "source": [
    "Иногда в таблицах в конце есть строка \"Итого\"(или т.п.), нам она не нужна, убедимся в ее отсутствии."
   ]
  },
  {
   "cell_type": "code",
   "execution_count": 5,
   "metadata": {},
   "outputs": [
    {
     "data": {
      "text/html": [
       "<div>\n",
       "<style scoped>\n",
       "    .dataframe tbody tr th:only-of-type {\n",
       "        vertical-align: middle;\n",
       "    }\n",
       "\n",
       "    .dataframe tbody tr th {\n",
       "        vertical-align: top;\n",
       "    }\n",
       "\n",
       "    .dataframe thead th {\n",
       "        text-align: right;\n",
       "    }\n",
       "</style>\n",
       "<table border=\"1\" class=\"dataframe\">\n",
       "  <thead>\n",
       "    <tr style=\"text-align: right;\">\n",
       "      <th></th>\n",
       "      <th>calls</th>\n",
       "      <th>minutes</th>\n",
       "      <th>messages</th>\n",
       "      <th>mb_used</th>\n",
       "      <th>is_ultra</th>\n",
       "    </tr>\n",
       "  </thead>\n",
       "  <tbody>\n",
       "    <tr>\n",
       "      <td>3209</td>\n",
       "      <td>122.0</td>\n",
       "      <td>910.98</td>\n",
       "      <td>20.0</td>\n",
       "      <td>35124.90</td>\n",
       "      <td>1</td>\n",
       "    </tr>\n",
       "    <tr>\n",
       "      <td>3210</td>\n",
       "      <td>25.0</td>\n",
       "      <td>190.36</td>\n",
       "      <td>0.0</td>\n",
       "      <td>3275.61</td>\n",
       "      <td>0</td>\n",
       "    </tr>\n",
       "    <tr>\n",
       "      <td>3211</td>\n",
       "      <td>97.0</td>\n",
       "      <td>634.44</td>\n",
       "      <td>70.0</td>\n",
       "      <td>13974.06</td>\n",
       "      <td>0</td>\n",
       "    </tr>\n",
       "    <tr>\n",
       "      <td>3212</td>\n",
       "      <td>64.0</td>\n",
       "      <td>462.32</td>\n",
       "      <td>90.0</td>\n",
       "      <td>31239.78</td>\n",
       "      <td>0</td>\n",
       "    </tr>\n",
       "    <tr>\n",
       "      <td>3213</td>\n",
       "      <td>80.0</td>\n",
       "      <td>566.09</td>\n",
       "      <td>6.0</td>\n",
       "      <td>29480.52</td>\n",
       "      <td>1</td>\n",
       "    </tr>\n",
       "  </tbody>\n",
       "</table>\n",
       "</div>"
      ],
      "text/plain": [
       "      calls  minutes  messages   mb_used  is_ultra\n",
       "3209  122.0   910.98      20.0  35124.90         1\n",
       "3210   25.0   190.36       0.0   3275.61         0\n",
       "3211   97.0   634.44      70.0  13974.06         0\n",
       "3212   64.0   462.32      90.0  31239.78         0\n",
       "3213   80.0   566.09       6.0  29480.52         1"
      ]
     },
     "execution_count": 5,
     "metadata": {},
     "output_type": "execute_result"
    }
   ],
   "source": [
    "df.tail()"
   ]
  },
  {
   "cell_type": "code",
   "execution_count": 6,
   "metadata": {},
   "outputs": [
    {
     "name": "stdout",
     "output_type": "stream",
     "text": [
      "<class 'pandas.core.frame.DataFrame'>\n",
      "RangeIndex: 3214 entries, 0 to 3213\n",
      "Data columns (total 5 columns):\n",
      "calls       3214 non-null float64\n",
      "minutes     3214 non-null float64\n",
      "messages    3214 non-null float64\n",
      "mb_used     3214 non-null float64\n",
      "is_ultra    3214 non-null int64\n",
      "dtypes: float64(4), int64(1)\n",
      "memory usage: 125.7 KB\n"
     ]
    }
   ],
   "source": [
    "df.info()"
   ]
  },
  {
   "cell_type": "code",
   "execution_count": 7,
   "metadata": {},
   "outputs": [
    {
     "data": {
      "text/html": [
       "<div>\n",
       "<style scoped>\n",
       "    .dataframe tbody tr th:only-of-type {\n",
       "        vertical-align: middle;\n",
       "    }\n",
       "\n",
       "    .dataframe tbody tr th {\n",
       "        vertical-align: top;\n",
       "    }\n",
       "\n",
       "    .dataframe thead th {\n",
       "        text-align: right;\n",
       "    }\n",
       "</style>\n",
       "<table border=\"1\" class=\"dataframe\">\n",
       "  <thead>\n",
       "    <tr style=\"text-align: right;\">\n",
       "      <th></th>\n",
       "      <th>calls</th>\n",
       "      <th>minutes</th>\n",
       "      <th>messages</th>\n",
       "      <th>mb_used</th>\n",
       "      <th>is_ultra</th>\n",
       "    </tr>\n",
       "  </thead>\n",
       "  <tbody>\n",
       "    <tr>\n",
       "      <td>count</td>\n",
       "      <td>3214.000000</td>\n",
       "      <td>3214.000000</td>\n",
       "      <td>3214.000000</td>\n",
       "      <td>3214.000000</td>\n",
       "      <td>3214.000000</td>\n",
       "    </tr>\n",
       "    <tr>\n",
       "      <td>mean</td>\n",
       "      <td>63.038892</td>\n",
       "      <td>438.208787</td>\n",
       "      <td>38.281269</td>\n",
       "      <td>17207.673836</td>\n",
       "      <td>0.306472</td>\n",
       "    </tr>\n",
       "    <tr>\n",
       "      <td>std</td>\n",
       "      <td>33.236368</td>\n",
       "      <td>234.569872</td>\n",
       "      <td>36.148326</td>\n",
       "      <td>7570.968246</td>\n",
       "      <td>0.461100</td>\n",
       "    </tr>\n",
       "    <tr>\n",
       "      <td>min</td>\n",
       "      <td>0.000000</td>\n",
       "      <td>0.000000</td>\n",
       "      <td>0.000000</td>\n",
       "      <td>0.000000</td>\n",
       "      <td>0.000000</td>\n",
       "    </tr>\n",
       "    <tr>\n",
       "      <td>25%</td>\n",
       "      <td>40.000000</td>\n",
       "      <td>274.575000</td>\n",
       "      <td>9.000000</td>\n",
       "      <td>12491.902500</td>\n",
       "      <td>0.000000</td>\n",
       "    </tr>\n",
       "    <tr>\n",
       "      <td>50%</td>\n",
       "      <td>62.000000</td>\n",
       "      <td>430.600000</td>\n",
       "      <td>30.000000</td>\n",
       "      <td>16943.235000</td>\n",
       "      <td>0.000000</td>\n",
       "    </tr>\n",
       "    <tr>\n",
       "      <td>75%</td>\n",
       "      <td>82.000000</td>\n",
       "      <td>571.927500</td>\n",
       "      <td>57.000000</td>\n",
       "      <td>21424.700000</td>\n",
       "      <td>1.000000</td>\n",
       "    </tr>\n",
       "    <tr>\n",
       "      <td>max</td>\n",
       "      <td>244.000000</td>\n",
       "      <td>1632.060000</td>\n",
       "      <td>224.000000</td>\n",
       "      <td>49745.730000</td>\n",
       "      <td>1.000000</td>\n",
       "    </tr>\n",
       "  </tbody>\n",
       "</table>\n",
       "</div>"
      ],
      "text/plain": [
       "             calls      minutes     messages       mb_used     is_ultra\n",
       "count  3214.000000  3214.000000  3214.000000   3214.000000  3214.000000\n",
       "mean     63.038892   438.208787    38.281269  17207.673836     0.306472\n",
       "std      33.236368   234.569872    36.148326   7570.968246     0.461100\n",
       "min       0.000000     0.000000     0.000000      0.000000     0.000000\n",
       "25%      40.000000   274.575000     9.000000  12491.902500     0.000000\n",
       "50%      62.000000   430.600000    30.000000  16943.235000     0.000000\n",
       "75%      82.000000   571.927500    57.000000  21424.700000     1.000000\n",
       "max     244.000000  1632.060000   224.000000  49745.730000     1.000000"
      ]
     },
     "execution_count": 7,
     "metadata": {},
     "output_type": "execute_result"
    }
   ],
   "source": [
    "df.describe()"
   ]
  },
  {
   "cell_type": "markdown",
   "metadata": {},
   "source": [
    "<a id='Оценка мультиколлинеарности признаков'></a>"
   ]
  },
  {
   "cell_type": "markdown",
   "metadata": {},
   "source": [
    "## <p style=\"text-align:center\"> Оценка мультиколлинеарности признаков </p>"
   ]
  },
  {
   "cell_type": "markdown",
   "metadata": {},
   "source": [
    "В качестве оценки мультиколлинеарности признаков найдем коффициенты корреляции этих признаков, если зависимость сильнее 0.7 попытаемся оставить только один признак из двух; также построим scatterplot для каждой зависимости."
   ]
  },
  {
   "cell_type": "code",
   "execution_count": 8,
   "metadata": {},
   "outputs": [
    {
     "data": {
      "text/html": [
       "<div>\n",
       "<style scoped>\n",
       "    .dataframe tbody tr th:only-of-type {\n",
       "        vertical-align: middle;\n",
       "    }\n",
       "\n",
       "    .dataframe tbody tr th {\n",
       "        vertical-align: top;\n",
       "    }\n",
       "\n",
       "    .dataframe thead th {\n",
       "        text-align: right;\n",
       "    }\n",
       "</style>\n",
       "<table border=\"1\" class=\"dataframe\">\n",
       "  <thead>\n",
       "    <tr style=\"text-align: right;\">\n",
       "      <th></th>\n",
       "      <th>calls</th>\n",
       "      <th>minutes</th>\n",
       "      <th>messages</th>\n",
       "      <th>mb_used</th>\n",
       "    </tr>\n",
       "  </thead>\n",
       "  <tbody>\n",
       "    <tr>\n",
       "      <td>calls</td>\n",
       "      <td>1.000000</td>\n",
       "      <td>0.982083</td>\n",
       "      <td>0.177385</td>\n",
       "      <td>0.286442</td>\n",
       "    </tr>\n",
       "    <tr>\n",
       "      <td>minutes</td>\n",
       "      <td>0.982083</td>\n",
       "      <td>1.000000</td>\n",
       "      <td>0.173110</td>\n",
       "      <td>0.280967</td>\n",
       "    </tr>\n",
       "    <tr>\n",
       "      <td>messages</td>\n",
       "      <td>0.177385</td>\n",
       "      <td>0.173110</td>\n",
       "      <td>1.000000</td>\n",
       "      <td>0.195721</td>\n",
       "    </tr>\n",
       "    <tr>\n",
       "      <td>mb_used</td>\n",
       "      <td>0.286442</td>\n",
       "      <td>0.280967</td>\n",
       "      <td>0.195721</td>\n",
       "      <td>1.000000</td>\n",
       "    </tr>\n",
       "  </tbody>\n",
       "</table>\n",
       "</div>"
      ],
      "text/plain": [
       "             calls   minutes  messages   mb_used\n",
       "calls     1.000000  0.982083  0.177385  0.286442\n",
       "minutes   0.982083  1.000000  0.173110  0.280967\n",
       "messages  0.177385  0.173110  1.000000  0.195721\n",
       "mb_used   0.286442  0.280967  0.195721  1.000000"
      ]
     },
     "execution_count": 8,
     "metadata": {},
     "output_type": "execute_result"
    }
   ],
   "source": [
    "df[['calls', 'minutes', 'messages', 'mb_used']].corr()"
   ]
  },
  {
   "cell_type": "markdown",
   "metadata": {},
   "source": [
    "На этом этапе можно увидеть сильную зависимость количества потраченных минут от количества произведенных звонков. Визуализируем данные для наглядности."
   ]
  },
  {
   "cell_type": "code",
   "execution_count": 9,
   "metadata": {},
   "outputs": [
    {
     "data": {
      "image/png": "[encoded data removed]",
      "text/plain": [
       "<Figure size 944.5x900 with 30 Axes>"
      ]
     },
     "metadata": {
      "needs_background": "light"
     },
     "output_type": "display_data"
    }
   ],
   "source": [
    "sns.pairplot(df, markers = ['o', 's'],  hue = 'is_ultra', diag_kind = 'hist');"
   ]
  },
  {
   "cell_type": "markdown",
   "metadata": {},
   "source": [
    "Убедились в наличии линейной зависимости одних признаков, и в отсутствии этой зависимости у других. "
   ]
  },
  {
   "cell_type": "markdown",
   "metadata": {},
   "source": [
    "<a id='Вывод_1'></a>"
   ]
  },
  {
   "cell_type": "markdown",
   "metadata": {},
   "source": [
    "## <p style=\"text-align:center\"> Вывод</p>"
   ]
  },
  {
   "cell_type": "markdown",
   "metadata": {},
   "source": [
    "##### В ходе первичного анализа данных были  сделаны следующие выводы:\n",
    "\n",
    "___\n",
    "\n",
    "\n",
    "1. Единственное к чему сразу цепляется глаз это тип данных float64, который потребляет больше памяти, чем uint16 и float32, которыми его можно заменить.\n",
    "\n",
    "\n",
    "2. Обнаружили сильную линейную зависимость двух признаков. Попробуем разобраться с этим в следующей части нашего исследования.\n",
    "\n",
    "___\n",
    "\n",
    "Таким образом было выполнено первичное ознакомление с предоставленной информацией, дефекты датасета не выявлены. Данные не нуждаются в предобработке. Можно переходить к созданию моделей."
   ]
  },
  {
   "cell_type": "markdown",
   "metadata": {},
   "source": [
    " ## Часть 2. Создание моделей"
   ]
  },
  {
   "cell_type": "markdown",
   "metadata": {},
   "source": [
    "<a id='Разделение датасета на выборки'></a>"
   ]
  },
  {
   "cell_type": "markdown",
   "metadata": {},
   "source": [
    "## <p style=\"text-align:center\"> Разделение датасета на выборки </p>"
   ]
  },
  {
   "cell_type": "markdown",
   "metadata": {},
   "source": [
    "Разделим исходный датасет на выборки: тренировочную, валидационную и тестовую. Три из пяти частей отдадим тренировочной выбрке, по одной части валидационной и тестовой."
   ]
  },
  {
   "cell_type": "code",
   "execution_count": 10,
   "metadata": {},
   "outputs": [],
   "source": [
    "features = df.drop('is_ultra', axis=1)\n",
    "target = df['is_ultra']"
   ]
  },
  {
   "cell_type": "code",
   "execution_count": 11,
   "metadata": {},
   "outputs": [],
   "source": [
    "features_train, features_test, target_train, target_test = train_test_split(features, target, \n",
    "                                                                            test_size=0.4, random_state=42)\n",
    "features_test, features_valid, target_test, target_valid = train_test_split(features_test, target_test, \n",
    "                                                                            test_size=0.5, random_state=42)"
   ]
  },
  {
   "cell_type": "markdown",
   "metadata": {},
   "source": [
    "Проконтролируем разбиение выборок, используем для этого методы shape и len()."
   ]
  },
  {
   "cell_type": "code",
   "execution_count": 12,
   "metadata": {},
   "outputs": [
    {
     "name": "stdout",
     "output_type": "stream",
     "text": [
      "Размер тренировочной выборки: признаки - (1928, 4) и целевой признак 1928\n"
     ]
    }
   ],
   "source": [
    "print(f'Размер тренировочной выборки: признаки - {features_train.shape} и целевой признак {len(target_train)}')"
   ]
  },
  {
   "cell_type": "code",
   "execution_count": 13,
   "metadata": {},
   "outputs": [
    {
     "name": "stdout",
     "output_type": "stream",
     "text": [
      "Размер валидационной выборки: признаки - (643, 4) и целевой признак 643\n"
     ]
    }
   ],
   "source": [
    "print(f'Размер валидационной выборки: признаки - {features_valid.shape} и целевой признак {len(target_valid)}')"
   ]
  },
  {
   "cell_type": "code",
   "execution_count": 14,
   "metadata": {},
   "outputs": [
    {
     "name": "stdout",
     "output_type": "stream",
     "text": [
      "Размер тестовой выборки: признаки - (643, 4) и целевой признак 643\n"
     ]
    }
   ],
   "source": [
    "print(f'Размер тестовой выборки: признаки - {features_test.shape} и целевой признак {len(target_test)}')"
   ]
  },
  {
   "cell_type": "markdown",
   "metadata": {},
   "source": [
    "<a id='Исследование моделей'></a>"
   ]
  },
  {
   "cell_type": "markdown",
   "metadata": {},
   "source": [
    "## <p style=\"text-align:center\"> Исследование моделей </p>"
   ]
  },
  {
   "cell_type": "markdown",
   "metadata": {},
   "source": [
    "Ищем на сайте sklearn подходящие под задачу классификаторы. Выбираем нужные и настраиваем."
   ]
  },
  {
   "cell_type": "markdown",
   "metadata": {},
   "source": [
    "Для дальнейшего включения валидационной выборкам в обучение создадим дополнительные переменные."
   ]
  },
  {
   "cell_type": "code",
   "execution_count": 15,
   "metadata": {},
   "outputs": [],
   "source": [
    "all_features_train = pd.concat([features_train, features_valid], axis=0)\n",
    "all_target_train = pd.concat([target_train, target_valid], axis=0)"
   ]
  },
  {
   "cell_type": "markdown",
   "metadata": {},
   "source": [
    "### DecisionTreeClassifier или Дерево решений"
   ]
  },
  {
   "cell_type": "code",
   "execution_count": 16,
   "metadata": {},
   "outputs": [
    {
     "name": "stdout",
     "output_type": "stream",
     "text": [
      "Accuracy of the best model, validation: 0.8118195956454122\n",
      "Time spent: 1.84 sec\n"
     ]
    }
   ],
   "source": [
    "start = timeit.default_timer()\n",
    "best_model = None\n",
    "best_result = 0\n",
    "for depth in range(1, 6):\n",
    "    for split in range (2, 17, 2):\n",
    "        for leaf in range (1, 8):\n",
    "            \n",
    "            DTclf = DecisionTreeClassifier(random_state=42, max_depth=depth, min_samples_split=split, min_samples_leaf=leaf)\n",
    "        \n",
    "            DTclf.fit(features_train, target_train) \n",
    "        \n",
    "            result = DTclf.score(features_valid, target_valid) \n",
    "    \n",
    "            if result > best_result:\n",
    "                best_model = DTclf\n",
    "                best_result = result\n",
    "stop = timeit.default_timer()\n",
    "print(\"Accuracy of the best model, validation:\", best_result)\n",
    "print(f'Time spent: {stop - start:.2f} sec')"
   ]
  },
  {
   "cell_type": "code",
   "execution_count": 17,
   "metadata": {},
   "outputs": [],
   "source": [
    "DTclf_score = DTclf.score(features_test, target_test)"
   ]
  },
  {
   "cell_type": "code",
   "execution_count": 18,
   "metadata": {},
   "outputs": [
    {
     "name": "stdout",
     "output_type": "stream",
     "text": [
      "Accuracy of the model, test: 0.776049766718507\n"
     ]
    }
   ],
   "source": [
    "print(\"Accuracy of the model, test:\", DTclf_score)"
   ]
  },
  {
   "cell_type": "code",
   "execution_count": 19,
   "metadata": {},
   "outputs": [],
   "source": [
    "DTclf_upd = DecisionTreeClassifier(random_state=42, max_depth=6, min_samples_split=2, min_samples_leaf=15)\n",
    "DTclf_upd.fit(all_features_train, all_target_train);"
   ]
  },
  {
   "cell_type": "code",
   "execution_count": 20,
   "metadata": {},
   "outputs": [],
   "source": [
    "DTclf_score_upd = DTclf_upd.score(features_test, target_test)"
   ]
  },
  {
   "cell_type": "code",
   "execution_count": 21,
   "metadata": {},
   "outputs": [
    {
     "name": "stdout",
     "output_type": "stream",
     "text": [
      "Accuracy of the best model, test: 0.7916018662519441\n"
     ]
    }
   ],
   "source": [
    "print(\"Accuracy of the best model, test:\", DTclf_score_upd)"
   ]
  },
  {
   "cell_type": "markdown",
   "metadata": {},
   "source": [
    "### RandomForestClassifier или Случайный лес"
   ]
  },
  {
   "cell_type": "markdown",
   "metadata": {},
   "source": [
    "У случайного леса больше гиперпараметров для перебора, поэтому и работает он дольше."
   ]
  },
  {
   "cell_type": "code",
   "execution_count": 22,
   "metadata": {},
   "outputs": [
    {
     "name": "stdout",
     "output_type": "stream",
     "text": [
      "Accuracy of the best model, validation: 0.8304821150855366\n",
      "Time spent: 9.94 sec\n"
     ]
    }
   ],
   "source": [
    "start = timeit.default_timer()\n",
    "best_model = None\n",
    "best_result = 0\n",
    "for est in range(10, 21, 10):\n",
    "    for depth in range(1, 7):\n",
    "        for leaf in range (1, 7):\n",
    "            for split in range (2, 7, 2):\n",
    "                \n",
    "                RFclf = RandomForestClassifier(random_state=42, n_estimators=est, max_depth=depth, \n",
    "                                               min_samples_leaf=leaf, min_samples_split=split, n_jobs=-1) \n",
    "        \n",
    "                RFclf.fit(features_train, target_train) \n",
    "        \n",
    "                result = RFclf.score(features_valid, target_valid) \n",
    "                if result > best_result:\n",
    "                    best_model = RFclf\n",
    "                    best_result = result\n",
    "stop = timeit.default_timer()\n",
    "print(\"Accuracy of the best model, validation:\", best_result)\n",
    "print(f'Time spent: {stop - start:.2f} sec')"
   ]
  },
  {
   "cell_type": "code",
   "execution_count": 23,
   "metadata": {},
   "outputs": [],
   "source": [
    "RFclf_score = RFclf.score(features_test, target_test)"
   ]
  },
  {
   "cell_type": "code",
   "execution_count": 24,
   "metadata": {},
   "outputs": [
    {
     "name": "stdout",
     "output_type": "stream",
     "text": [
      "Accuracy of the model, test: 0.7931570762052877\n"
     ]
    }
   ],
   "source": [
    "print(\"Accuracy of the model, test:\", RFclf_score)"
   ]
  },
  {
   "cell_type": "code",
   "execution_count": 25,
   "metadata": {},
   "outputs": [],
   "source": [
    "RFclf_upd = RandomForestClassifier(random_state=42, n_estimators=20, max_depth=6, min_samples_leaf=6, min_samples_split=2)\n",
    "RFclf_upd.fit(all_features_train, all_target_train);"
   ]
  },
  {
   "cell_type": "code",
   "execution_count": 26,
   "metadata": {},
   "outputs": [],
   "source": [
    "RFclf_score_upd = RFclf_upd.score(features_test, target_test)"
   ]
  },
  {
   "cell_type": "code",
   "execution_count": 27,
   "metadata": {},
   "outputs": [
    {
     "name": "stdout",
     "output_type": "stream",
     "text": [
      "Accuracy of the best model, test: 0.7947122861586314\n"
     ]
    }
   ],
   "source": [
    "print(\"Accuracy of the best model, test:\", RFclf_score_upd)"
   ]
  },
  {
   "cell_type": "markdown",
   "metadata": {},
   "source": [
    "### LogisticRegression или логистическая регрессия"
   ]
  },
  {
   "cell_type": "code",
   "execution_count": 28,
   "metadata": {},
   "outputs": [
    {
     "name": "stdout",
     "output_type": "stream",
     "text": [
      "Accuracy of the best model, validation: 0.7682737169517885\n",
      "Time spent: 1.01 sec\n"
     ]
    }
   ],
   "source": [
    "start = timeit.default_timer()\n",
    "best_model = None\n",
    "best_result = 0\n",
    "for С in range(1, 11, 2):\n",
    "    for solver in ['newton-cg', 'sag', 'lbfgs']:\n",
    "        \n",
    "        LogReg = LogisticRegression(random_state=42, C=С, solver=solver) \n",
    "        \n",
    "        LogReg.fit(features_train, target_train)\n",
    "        \n",
    "        result = LogReg.score(features_valid, target_valid) \n",
    "        if result > best_result:\n",
    "            best_model = LogReg\n",
    "            best_result = result\n",
    "stop = timeit.default_timer()\n",
    "print(\"Accuracy of the best model, validation:\", best_result)\n",
    "print(f'Time spent: {stop - start:.2f} sec')"
   ]
  },
  {
   "cell_type": "code",
   "execution_count": 29,
   "metadata": {},
   "outputs": [
    {
     "name": "stdout",
     "output_type": "stream",
     "text": [
      "Accuracy of the model, test: 0.71850699844479\n"
     ]
    }
   ],
   "source": [
    "LogReg_score = LogReg.score(features_test, target_test)\n",
    "print(\"Accuracy of the model, test:\", LogReg_score)"
   ]
  },
  {
   "cell_type": "code",
   "execution_count": 30,
   "metadata": {},
   "outputs": [],
   "source": [
    "LogReg_upd = LogisticRegression(random_state=42, C=5, solver='newton-cg')\n",
    "LogReg_upd.fit(all_features_train, all_target_train);"
   ]
  },
  {
   "cell_type": "code",
   "execution_count": 31,
   "metadata": {},
   "outputs": [
    {
     "name": "stdout",
     "output_type": "stream",
     "text": [
      "Accuracy of the best model, test: 0.7418351477449455\n"
     ]
    }
   ],
   "source": [
    "LogReg_score_upd = LogReg_upd.score(features_test, target_test)\n",
    "print(\"Accuracy of the best model, test:\", LogReg_score_upd)"
   ]
  },
  {
   "cell_type": "markdown",
   "metadata": {},
   "source": [
    "### SVC или Опорные вектора"
   ]
  },
  {
   "cell_type": "code",
   "execution_count": 32,
   "metadata": {},
   "outputs": [
    {
     "name": "stdout",
     "output_type": "stream",
     "text": [
      "Accuracy of the best model, validation: 0.7667185069984448\n",
      "Time spent: 6.13 sec\n"
     ]
    }
   ],
   "source": [
    "start = timeit.default_timer()\n",
    "best_model = None\n",
    "best_result = 0\n",
    "for C in range(1, 31, 2):\n",
    "    for gamma in ['scale', 'auto']:\n",
    "        SVCclf = SVC(random_state=42, C=C, gamma=gamma)\n",
    "        \n",
    "        SVCclf.fit(features_train, target_train) \n",
    "        \n",
    "        result = SVCclf.score(features_valid, target_valid) \n",
    "        if result > best_result:\n",
    "            best_model = SVCclf\n",
    "            best_result = result\n",
    "stop = timeit.default_timer()\n",
    "print(\"Accuracy of the best model, validation:\", best_result)\n",
    "print(f'Time spent: {stop - start:.2f} sec')"
   ]
  },
  {
   "cell_type": "code",
   "execution_count": 33,
   "metadata": {},
   "outputs": [
    {
     "name": "stdout",
     "output_type": "stream",
     "text": [
      "Accuracy of the model, test: 0.6936236391912908\n"
     ]
    }
   ],
   "source": [
    "SVCclf_score = SVCclf.score(features_test, target_test)\n",
    "print(\"Accuracy of the model, test:\", SVCclf_score)"
   ]
  },
  {
   "cell_type": "code",
   "execution_count": 34,
   "metadata": {},
   "outputs": [
    {
     "name": "stdout",
     "output_type": "stream",
     "text": [
      "Accuracy of the best model, test: 0.7589424572317263\n"
     ]
    }
   ],
   "source": [
    "SVCclf_upd = SVC(random_state=42, C=50, gamma='scale')\n",
    "SVCclf_upd.fit(all_features_train, all_target_train);\n",
    "SVCclf_score_upd = SVCclf_upd.score(features_test, target_test)\n",
    "print(\"Accuracy of the best model, test:\", SVCclf_score_upd)"
   ]
  },
  {
   "cell_type": "markdown",
   "metadata": {},
   "source": [
    "### NearestNeighbors или Ближайшие соседи"
   ]
  },
  {
   "cell_type": "code",
   "execution_count": 35,
   "metadata": {},
   "outputs": [
    {
     "name": "stdout",
     "output_type": "stream",
     "text": [
      "Accuracy of the best model, validation: 0.7776049766718507\n",
      "Time spent: 0.74 sec\n"
     ]
    }
   ],
   "source": [
    "start = timeit.default_timer()\n",
    "best_model = None\n",
    "best_result = 0\n",
    "for weights in ['uniform', 'distance']:\n",
    "    for n_neighbors in range(1, 20):\n",
    "        \n",
    "        KNclf = KNeighborsClassifier(n_neighbors=n_neighbors, weights=weights)\n",
    "        \n",
    "        KNclf.fit(features_train, target_train)\n",
    "        \n",
    "        result = KNclf.score(features_valid, target_valid) \n",
    "        if result > best_result:\n",
    "            best_model = KNclf\n",
    "            best_result = result\n",
    "stop = timeit.default_timer()\n",
    "print(\"Accuracy of the best model, validation:\", best_result)    \n",
    "print(f'Time spent: {stop - start:.2f} sec')"
   ]
  },
  {
   "cell_type": "code",
   "execution_count": 36,
   "metadata": {},
   "outputs": [
    {
     "name": "stdout",
     "output_type": "stream",
     "text": [
      "Accuracy of the model, test: 0.7667185069984448\n"
     ]
    }
   ],
   "source": [
    "KNclf_score = KNclf.score(features_test, target_test)\n",
    "print(\"Accuracy of the model, test:\", KNclf_score)"
   ]
  },
  {
   "cell_type": "code",
   "execution_count": 37,
   "metadata": {},
   "outputs": [
    {
     "name": "stdout",
     "output_type": "stream",
     "text": [
      "Accuracy of the best model, test: 0.7729393468118196\n"
     ]
    }
   ],
   "source": [
    "KNclf_upd = KNeighborsClassifier(n_neighbors=9, weights='uniform')\n",
    "KNclf_upd.fit(all_features_train, all_target_train);\n",
    "KNclf_score_upd = KNclf_upd.score(features_test, target_test)\n",
    "print(\"Accuracy of the best model, test:\", KNclf_score_upd)"
   ]
  },
  {
   "cell_type": "markdown",
   "metadata": {},
   "source": [
    "<a id='Применение выводов оценки мультиколлинеарности'></a>"
   ]
  },
  {
   "cell_type": "markdown",
   "metadata": {},
   "source": [
    "## <p style=\"text-align:center\"> Применение выводов оценки мультиколлинеарности </p>"
   ]
  },
  {
   "cell_type": "markdown",
   "metadata": {},
   "source": [
    "В пункте об оценке мультиколлинеарности признаков мы выяснили, что в датасете имеются признаки с практически полной линейной зависимостью. В этом пункте мы разберем влияние исключения одного из этих признаков из процесса обучения моделей."
   ]
  },
  {
   "cell_type": "code",
   "execution_count": 38,
   "metadata": {},
   "outputs": [],
   "source": [
    "features_no_calls = df.drop(['calls', 'is_ultra'], axis=1)\n",
    "target = df['is_ultra']"
   ]
  },
  {
   "cell_type": "code",
   "execution_count": 39,
   "metadata": {},
   "outputs": [],
   "source": [
    "features_no_calls_train, features_no_calls_test, target_train, target_test = train_test_split(features_no_calls, target, \n",
    "                                                                                              test_size=0.4, random_state=42)\n",
    "features_no_calls_test, features_no_calls_valid, target_test, target_valid = train_test_split(features_no_calls_test, \n",
    "                                                                                              target_test, \n",
    "                                                                                              test_size=0.5, random_state=42)"
   ]
  },
  {
   "cell_type": "markdown",
   "metadata": {},
   "source": [
    "Проконтролируем разбиение выборок, используем для этого методы shape и len()."
   ]
  },
  {
   "cell_type": "code",
   "execution_count": 40,
   "metadata": {},
   "outputs": [
    {
     "name": "stdout",
     "output_type": "stream",
     "text": [
      "Размер тренировочной выборки: признаки - (1928, 3) и целевой признак 1928\n"
     ]
    }
   ],
   "source": [
    "print(f'Размер тренировочной выборки: признаки - {features_no_calls_train.shape} и целевой признак {len(target_train)}')"
   ]
  },
  {
   "cell_type": "code",
   "execution_count": 41,
   "metadata": {},
   "outputs": [
    {
     "name": "stdout",
     "output_type": "stream",
     "text": [
      "Размер валидационной выборки: признаки - (643, 3) и целевой признак 643\n"
     ]
    }
   ],
   "source": [
    "print(f'Размер валидационной выборки: признаки - {features_no_calls_valid.shape} и целевой признак {len(target_valid)}')"
   ]
  },
  {
   "cell_type": "code",
   "execution_count": 42,
   "metadata": {},
   "outputs": [
    {
     "name": "stdout",
     "output_type": "stream",
     "text": [
      "Размер тестовой выборки: признаки - (643, 3) и целевой признак 643\n"
     ]
    }
   ],
   "source": [
    "print(f'Размер тестовой выборки: признаки - {features_no_calls_test.shape} и целевой признак {len(target_test)}')"
   ]
  },
  {
   "cell_type": "markdown",
   "metadata": {},
   "source": [
    "Для дальнейшего включения валидационной выборкам в обучение создадим дополнительные переменные."
   ]
  },
  {
   "cell_type": "code",
   "execution_count": 43,
   "metadata": {},
   "outputs": [],
   "source": [
    "all_features_no_calls_train = pd.concat([features_no_calls_train, features_no_calls_valid], axis=0)"
   ]
  },
  {
   "cell_type": "markdown",
   "metadata": {},
   "source": [
    "### DecisionTreeClassifier или Дерево решений"
   ]
  },
  {
   "cell_type": "code",
   "execution_count": 44,
   "metadata": {},
   "outputs": [
    {
     "name": "stdout",
     "output_type": "stream",
     "text": [
      "Accuracy of the best model, validation: 0.8055987558320373\n",
      "Time spent: 1.41 sec\n"
     ]
    }
   ],
   "source": [
    "start = timeit.default_timer()\n",
    "best_model = None\n",
    "best_result = 0\n",
    "for depth in range(1, 6):\n",
    "    for split in range (2, 17, 2):\n",
    "        for leaf in range (1, 8):\n",
    "            \n",
    "            DTclf = DecisionTreeClassifier(random_state=42, max_depth=depth, min_samples_split=split, min_samples_leaf=leaf)\n",
    "        \n",
    "            DTclf.fit(features_no_calls_train, target_train) \n",
    "        \n",
    "            result = DTclf.score(features_no_calls_valid, target_valid) \n",
    "    \n",
    "            if result > best_result:\n",
    "                best_model = DTclf\n",
    "                best_result = result\n",
    "stop = timeit.default_timer()\n",
    "print(\"Accuracy of the best model, validation:\", best_result)\n",
    "print(f'Time spent: {stop - start:.2f} sec')"
   ]
  },
  {
   "cell_type": "code",
   "execution_count": 45,
   "metadata": {},
   "outputs": [
    {
     "name": "stdout",
     "output_type": "stream",
     "text": [
      "Accuracy of the model, test: 0.7931570762052877\n"
     ]
    }
   ],
   "source": [
    "DTclf_score = DTclf.score(features_no_calls_test, target_test)\n",
    "print(\"Accuracy of the model, test:\", RFclf_score)"
   ]
  },
  {
   "cell_type": "code",
   "execution_count": 46,
   "metadata": {},
   "outputs": [],
   "source": [
    "DTclf_no_calls = DecisionTreeClassifier(random_state=42, max_depth=6, min_samples_split=2, min_samples_leaf=15)\n",
    "DTclf_no_calls.fit(all_features_no_calls_train, all_target_train);"
   ]
  },
  {
   "cell_type": "code",
   "execution_count": 47,
   "metadata": {},
   "outputs": [
    {
     "name": "stdout",
     "output_type": "stream",
     "text": [
      "Accuracy of the model, test: 0.7838258164852255\n"
     ]
    }
   ],
   "source": [
    "DTclf_no_calls_upd = DTclf_no_calls.score(features_no_calls_test, target_test)\n",
    "print(\"Accuracy of the model, test:\", DTclf_no_calls_upd)"
   ]
  },
  {
   "cell_type": "markdown",
   "metadata": {},
   "source": [
    "### RandomForestClassifier или Случайный лес"
   ]
  },
  {
   "cell_type": "code",
   "execution_count": 48,
   "metadata": {},
   "outputs": [
    {
     "name": "stdout",
     "output_type": "stream",
     "text": [
      "Accuracy of the best model, validation: 0.8180404354587869\n",
      "Time spent: 8.99 sec\n"
     ]
    }
   ],
   "source": [
    "start = timeit.default_timer()\n",
    "best_model = None\n",
    "best_result = 0\n",
    "for est in range(10, 21, 10):\n",
    "    for depth in range(1, 7):\n",
    "        for leaf in range (1, 7):\n",
    "            for split in range (2, 7, 2):\n",
    "                \n",
    "                RFclf = RandomForestClassifier(random_state=42, n_estimators=est, max_depth=depth, \n",
    "                                               min_samples_leaf=leaf, min_samples_split=split, n_jobs=-1) \n",
    "        \n",
    "                RFclf.fit(features_no_calls_train, target_train) \n",
    "        \n",
    "                result = RFclf.score(features_no_calls_valid, target_valid) \n",
    "                if result > best_result:\n",
    "                    best_model = RFclf\n",
    "                    best_result = result\n",
    "stop = timeit.default_timer()\n",
    "print(\"Accuracy of the best model, validation:\", best_result)\n",
    "print(f'Time spent: {stop - start:.2f} sec')"
   ]
  },
  {
   "cell_type": "code",
   "execution_count": 49,
   "metadata": {},
   "outputs": [],
   "source": [
    "RFclf_score = RFclf.score(features_no_calls_test, target_test)"
   ]
  },
  {
   "cell_type": "code",
   "execution_count": 50,
   "metadata": {},
   "outputs": [
    {
     "name": "stdout",
     "output_type": "stream",
     "text": [
      "Accuracy of the model, test: 0.7916018662519441\n"
     ]
    }
   ],
   "source": [
    "print(\"Accuracy of the model, test:\", RFclf_score)"
   ]
  },
  {
   "cell_type": "code",
   "execution_count": 51,
   "metadata": {},
   "outputs": [],
   "source": [
    "RFclf_no_calls = RandomForestClassifier(random_state=42, n_estimators=20, max_depth=6, min_samples_leaf=6, min_samples_split=2)\n",
    "RFclf_no_calls.fit(all_features_no_calls_train, all_target_train);"
   ]
  },
  {
   "cell_type": "code",
   "execution_count": 52,
   "metadata": {},
   "outputs": [
    {
     "name": "stdout",
     "output_type": "stream",
     "text": [
      "Accuracy of the model, test: 0.7962674961119751\n"
     ]
    }
   ],
   "source": [
    "RFclf_no_calls_upd = RFclf_no_calls.score(features_no_calls_test, target_test)\n",
    "print(\"Accuracy of the model, test:\", RFclf_no_calls_upd)"
   ]
  },
  {
   "cell_type": "markdown",
   "metadata": {},
   "source": [
    "### LogisticRegression или логистическая регрессия"
   ]
  },
  {
   "cell_type": "code",
   "execution_count": 53,
   "metadata": {},
   "outputs": [
    {
     "name": "stdout",
     "output_type": "stream",
     "text": [
      "Accuracy of the best model, validation: 0.7682737169517885\n",
      "Time spent: 1.02 sec\n"
     ]
    }
   ],
   "source": [
    "start = timeit.default_timer()\n",
    "best_model = None\n",
    "best_result = 0\n",
    "for С in range(1, 11, 2):\n",
    "    for solver in ['newton-cg', 'sag', 'lbfgs']:\n",
    "        \n",
    "        LogReg = LogisticRegression(random_state=42, C=С, solver=solver) \n",
    "        \n",
    "        LogReg.fit(features_no_calls_train, target_train)\n",
    "        \n",
    "        result = LogReg.score(features_no_calls_valid, target_valid) \n",
    "        if result > best_result:\n",
    "            best_model = LogReg\n",
    "            best_result = result\n",
    "stop = timeit.default_timer()\n",
    "print(\"Accuracy of the best model, validation:\", best_result)\n",
    "print(f'Time spent: {stop - start:.2f} sec')"
   ]
  },
  {
   "cell_type": "code",
   "execution_count": 54,
   "metadata": {},
   "outputs": [
    {
     "name": "stdout",
     "output_type": "stream",
     "text": [
      "Accuracy of the model, test: 0.7387247278382582\n"
     ]
    }
   ],
   "source": [
    "LogReg_score = LogReg.score(features_no_calls_test, target_test)\n",
    "print(\"Accuracy of the model, test:\", LogReg_score)"
   ]
  },
  {
   "cell_type": "code",
   "execution_count": 55,
   "metadata": {},
   "outputs": [],
   "source": [
    "LogReg_no_calls_upd = LogisticRegression(random_state=42, C=5, solver='newton-cg')\n",
    "LogReg_no_calls_upd.fit(all_features_no_calls_train, all_target_train);"
   ]
  },
  {
   "cell_type": "code",
   "execution_count": 56,
   "metadata": {},
   "outputs": [
    {
     "name": "stdout",
     "output_type": "stream",
     "text": [
      "Accuracy of the best model, test: 0.7418351477449455\n"
     ]
    }
   ],
   "source": [
    "LogReg_no_calls_score_upd = LogReg_no_calls_upd.score(features_no_calls_test, target_test)\n",
    "print(\"Accuracy of the best model, test:\", LogReg_no_calls_score_upd)"
   ]
  },
  {
   "cell_type": "markdown",
   "metadata": {},
   "source": [
    "### SVC или Опорные вектора"
   ]
  },
  {
   "cell_type": "code",
   "execution_count": 57,
   "metadata": {},
   "outputs": [
    {
     "name": "stdout",
     "output_type": "stream",
     "text": [
      "Accuracy of the best model, validation: 0.7667185069984448\n",
      "Time spent: 6.01 sec\n"
     ]
    }
   ],
   "source": [
    "start = timeit.default_timer()\n",
    "best_model = None\n",
    "best_result = 0\n",
    "for C in range(1, 31, 2):\n",
    "    for gamma in ['scale', 'auto']:\n",
    "        SVCclf = SVC(random_state=42, C=C, gamma=gamma)\n",
    "        \n",
    "        SVCclf.fit(features_no_calls_train, target_train) \n",
    "        \n",
    "        result = SVCclf.score(features_no_calls_valid, target_valid) \n",
    "        if result > best_result:\n",
    "            best_model = SVCclf\n",
    "            best_result = result\n",
    "stop = timeit.default_timer()\n",
    "print(\"Accuracy of the best model, validation:\", best_result)\n",
    "print(f'Time spent: {stop - start:.2f} sec')"
   ]
  },
  {
   "cell_type": "code",
   "execution_count": 58,
   "metadata": {},
   "outputs": [
    {
     "name": "stdout",
     "output_type": "stream",
     "text": [
      "Accuracy of the model, test: 0.6936236391912908\n"
     ]
    }
   ],
   "source": [
    "SVCclf_score = SVCclf.score(features_no_calls_test, target_test)\n",
    "print(\"Accuracy of the model, test:\", SVCclf_score)"
   ]
  },
  {
   "cell_type": "code",
   "execution_count": 59,
   "metadata": {},
   "outputs": [
    {
     "name": "stdout",
     "output_type": "stream",
     "text": [
      "Accuracy of the best model, test: 0.7620528771384136\n"
     ]
    }
   ],
   "source": [
    "SVCclf_no_calls_upd = SVC(random_state=42, C=50, gamma='scale')\n",
    "SVCclf_no_calls_upd.fit(all_features_no_calls_train, all_target_train);\n",
    "SVCclf_no_calls_score_upd = SVCclf_no_calls_upd.score(features_no_calls_test, target_test)\n",
    "print(\"Accuracy of the best model, test:\", SVCclf_no_calls_score_upd)"
   ]
  },
  {
   "cell_type": "markdown",
   "metadata": {},
   "source": [
    "### NearestNeighbors или Ближайшие соседи"
   ]
  },
  {
   "cell_type": "code",
   "execution_count": 60,
   "metadata": {},
   "outputs": [
    {
     "name": "stdout",
     "output_type": "stream",
     "text": [
      "Accuracy of the best model, validation: 0.7776049766718507\n",
      "Time spent: 0.75 sec\n"
     ]
    }
   ],
   "source": [
    "start = timeit.default_timer()\n",
    "best_model = None\n",
    "best_result = 0\n",
    "for weights in ['uniform', 'distance']:\n",
    "    for n_neighbors in range(1, 20):\n",
    "        \n",
    "        KNclf = KNeighborsClassifier(n_neighbors=n_neighbors, weights=weights)\n",
    "        \n",
    "        KNclf.fit(features_no_calls_train, target_train)\n",
    "        \n",
    "        result = KNclf.score(features_no_calls_valid, target_valid) \n",
    "        if result > best_result:\n",
    "            best_model = KNclf\n",
    "            best_result = result\n",
    "stop = timeit.default_timer()\n",
    "print(\"Accuracy of the best model, validation:\", best_result)    \n",
    "print(f'Time spent: {stop - start:.2f} sec')"
   ]
  },
  {
   "cell_type": "code",
   "execution_count": 61,
   "metadata": {},
   "outputs": [
    {
     "name": "stdout",
     "output_type": "stream",
     "text": [
      "Accuracy of the model, test: 0.7682737169517885\n"
     ]
    }
   ],
   "source": [
    "KNclf_score = KNclf.score(features_no_calls_test, target_test)\n",
    "print(\"Accuracy of the model, test:\", KNclf_score)"
   ]
  },
  {
   "cell_type": "code",
   "execution_count": 62,
   "metadata": {},
   "outputs": [
    {
     "name": "stdout",
     "output_type": "stream",
     "text": [
      "Accuracy of the best model, test: 0.7729393468118196\n"
     ]
    }
   ],
   "source": [
    "KNclf_no_calls_upd = KNeighborsClassifier(n_neighbors=9, weights='uniform')\n",
    "KNclf_no_calls_upd.fit(all_features_no_calls_train, all_target_train);\n",
    "KNclf_no_calls_score_upd = KNclf_no_calls_upd.score(features_no_calls_test, target_test)\n",
    "print(\"Accuracy of the best model, test:\", KNclf_no_calls_score_upd)"
   ]
  },
  {
   "cell_type": "markdown",
   "metadata": {},
   "source": [
    "<a id='Применение кросс валидации'></a>"
   ]
  },
  {
   "cell_type": "markdown",
   "metadata": {},
   "source": [
    "## <p style=\"text-align:center\"> Применение кросс валидации </p>"
   ]
  },
  {
   "cell_type": "markdown",
   "metadata": {},
   "source": [
    "Сравним полученные точности моделей с их аналогами, но с автоматическим подбором параметров и применением кросс валидации. Для этого по другому разделим датасет - на две выборки, т.к. в тренировочную выборку уже входит валидационная."
   ]
  },
  {
   "cell_type": "code",
   "execution_count": 63,
   "metadata": {},
   "outputs": [],
   "source": [
    "grid_features_train, grid_features_test, grid_target_train, grid_target_test = train_test_split(features_no_calls, target, \n",
    "                                                                                                test_size=0.2, random_state=228)"
   ]
  },
  {
   "cell_type": "markdown",
   "metadata": {},
   "source": [
    "### DecisionTreeClassifier или Дерево решений"
   ]
  },
  {
   "cell_type": "code",
   "execution_count": 64,
   "metadata": {},
   "outputs": [],
   "source": [
    "parametrs = { 'max_depth': range (1, 7),\n",
    "              'min_samples_leaf': range (1, 18),\n",
    "              'min_samples_split': range (2, 5, 2) \n",
    "            }"
   ]
  },
  {
   "cell_type": "code",
   "execution_count": 65,
   "metadata": {},
   "outputs": [],
   "source": [
    "start = timeit.default_timer()\n",
    "DTclf = DecisionTreeClassifier(random_state=228)\n",
    "grid_DTclf = GridSearchCV(DTclf, parametrs, cv=4, n_jobs=-1)\n",
    "grid_DTclf.fit(grid_features_train, grid_target_train)\n",
    "stop = timeit.default_timer()"
   ]
  },
  {
   "cell_type": "code",
   "execution_count": 66,
   "metadata": {},
   "outputs": [
    {
     "name": "stdout",
     "output_type": "stream",
     "text": [
      "The best parametrs of the model: {'max_depth': 6, 'min_samples_leaf': 17, 'min_samples_split': 2}\n",
      "Time spent: 5.76 sec\n"
     ]
    }
   ],
   "source": [
    "print(\"The best parametrs of the model:\", grid_DTclf.best_params_)\n",
    "print(f'Time spent: {stop - start:.2f} sec')"
   ]
  },
  {
   "cell_type": "code",
   "execution_count": 67,
   "metadata": {},
   "outputs": [
    {
     "name": "stdout",
     "output_type": "stream",
     "text": [
      "Accuracy of the best model: 0.8004667444574096\n"
     ]
    }
   ],
   "source": [
    "print(\"Accuracy of the best model:\", grid_DTclf.best_score_)"
   ]
  },
  {
   "cell_type": "code",
   "execution_count": 68,
   "metadata": {},
   "outputs": [],
   "source": [
    "grid_DTclf_score = grid_DTclf.score(grid_features_test, grid_target_test)"
   ]
  },
  {
   "cell_type": "code",
   "execution_count": 69,
   "metadata": {},
   "outputs": [
    {
     "name": "stdout",
     "output_type": "stream",
     "text": [
      "Accuracy of the best model, test: 0.7993779160186625\n"
     ]
    }
   ],
   "source": [
    "print(\"Accuracy of the best model, test:\", grid_DTclf_score)"
   ]
  },
  {
   "cell_type": "markdown",
   "metadata": {},
   "source": [
    "### RandomForestClassifier или Случайный лес"
   ]
  },
  {
   "cell_type": "code",
   "execution_count": 70,
   "metadata": {},
   "outputs": [],
   "source": [
    "parametrs = { 'n_estimators': range (10, 21, 10),\n",
    "              'max_depth': range (1, 7),\n",
    "              'min_samples_leaf': range (1, 7),\n",
    "              'min_samples_split': range (2, 3, 2) \n",
    "            }"
   ]
  },
  {
   "cell_type": "code",
   "execution_count": 71,
   "metadata": {},
   "outputs": [],
   "source": [
    "start = timeit.default_timer()\n",
    "RFclf = RandomForestClassifier(random_state=228)\n",
    "grid_RFclf = GridSearchCV(RFclf, parametrs, cv=4, n_jobs=-1)\n",
    "grid_RFclf.fit(grid_features_train, grid_target_train)\n",
    "stop = timeit.default_timer()"
   ]
  },
  {
   "cell_type": "code",
   "execution_count": 72,
   "metadata": {},
   "outputs": [
    {
     "name": "stdout",
     "output_type": "stream",
     "text": [
      "The best parametrs of the model: {'max_depth': 6, 'min_samples_leaf': 5, 'min_samples_split': 2, 'n_estimators': 10}\n",
      "Time spent: 13.63 sec\n"
     ]
    }
   ],
   "source": [
    "print(\"The best parametrs of the model:\", grid_RFclf.best_params_)\n",
    "print(f'Time spent: {stop - start:.2f} sec')"
   ]
  },
  {
   "cell_type": "code",
   "execution_count": 73,
   "metadata": {},
   "outputs": [
    {
     "name": "stdout",
     "output_type": "stream",
     "text": [
      "Accuracy of the best model: 0.8012446518864255\n"
     ]
    }
   ],
   "source": [
    "print(\"Accuracy of the best model:\", grid_RFclf.best_score_)"
   ]
  },
  {
   "cell_type": "code",
   "execution_count": 74,
   "metadata": {},
   "outputs": [],
   "source": [
    "grid_RFclf_score = grid_RFclf.score(grid_features_test, grid_target_test)"
   ]
  },
  {
   "cell_type": "code",
   "execution_count": 75,
   "metadata": {},
   "outputs": [
    {
     "name": "stdout",
     "output_type": "stream",
     "text": [
      "Accuracy of the best model, test: 0.7931570762052877\n"
     ]
    }
   ],
   "source": [
    "print(\"Accuracy of the best model, test:\", grid_RFclf_score)"
   ]
  },
  {
   "cell_type": "markdown",
   "metadata": {},
   "source": [
    "### LogisticRegression или логистическая регрессия"
   ]
  },
  {
   "cell_type": "code",
   "execution_count": 76,
   "metadata": {},
   "outputs": [],
   "source": [
    "parametrs = { 'C': range (1, 11, 2),\n",
    "              'solver': ('newton-cg', 'sag', 'lbfgs')\n",
    "            }"
   ]
  },
  {
   "cell_type": "code",
   "execution_count": 77,
   "metadata": {},
   "outputs": [],
   "source": [
    "start = timeit.default_timer()\n",
    "LogReg = LogisticRegression(random_state=228)\n",
    "grid_LogReg = GridSearchCV(LogReg, parametrs, cv=4)\n",
    "grid_LogReg.fit(grid_features_train, grid_target_train)\n",
    "stop = timeit.default_timer()"
   ]
  },
  {
   "cell_type": "code",
   "execution_count": 78,
   "metadata": {},
   "outputs": [
    {
     "name": "stdout",
     "output_type": "stream",
     "text": [
      "The best parametrs of the model: {'C': 1, 'solver': 'newton-cg'}\n",
      "Time spent: 4.03 sec\n"
     ]
    }
   ],
   "source": [
    "print(\"The best parametrs of the model:\", grid_LogReg.best_params_)\n",
    "print(f'Time spent: {stop - start:.2f} sec')"
   ]
  },
  {
   "cell_type": "code",
   "execution_count": 79,
   "metadata": {},
   "outputs": [
    {
     "name": "stdout",
     "output_type": "stream",
     "text": [
      "Accuracy of the best model: 0.749513807856865\n"
     ]
    }
   ],
   "source": [
    "print(\"Accuracy of the best model:\", grid_LogReg.best_score_)"
   ]
  },
  {
   "cell_type": "code",
   "execution_count": 80,
   "metadata": {},
   "outputs": [],
   "source": [
    "grid_LogReg_score = grid_LogReg.score(grid_features_test, grid_target_test)"
   ]
  },
  {
   "cell_type": "code",
   "execution_count": 81,
   "metadata": {},
   "outputs": [
    {
     "name": "stdout",
     "output_type": "stream",
     "text": [
      "Accuracy of the best model, test: 0.7402799377916018\n"
     ]
    }
   ],
   "source": [
    "print(\"Accuracy of the best model, test:\", grid_LogReg_score)"
   ]
  },
  {
   "cell_type": "markdown",
   "metadata": {},
   "source": [
    "### SVC или Опорные вектора"
   ]
  },
  {
   "cell_type": "code",
   "execution_count": 82,
   "metadata": {},
   "outputs": [],
   "source": [
    "parametrs = { 'C': range (1, 11, 2),\n",
    "              'gamma': ('scale', 'auto')\n",
    "            }"
   ]
  },
  {
   "cell_type": "code",
   "execution_count": 83,
   "metadata": {},
   "outputs": [],
   "source": [
    "start = timeit.default_timer()\n",
    "SVCclf = SVC(random_state=228)\n",
    "grid_SVCclf = GridSearchCV(SVCclf, parametrs, cv=4)\n",
    "grid_SVCclf.fit(grid_features_train, grid_target_train)\n",
    "stop = timeit.default_timer()"
   ]
  },
  {
   "cell_type": "code",
   "execution_count": 84,
   "metadata": {},
   "outputs": [
    {
     "name": "stdout",
     "output_type": "stream",
     "text": [
      "The best parametrs of the model: {'C': 9, 'gamma': 'scale'}\n",
      "Time spent: 7.75 sec\n"
     ]
    }
   ],
   "source": [
    "print(\"The best parametrs of the model:\", grid_SVCclf.best_params_)\n",
    "print(f'Time spent: {stop - start:.2f} sec')"
   ]
  },
  {
   "cell_type": "code",
   "execution_count": 85,
   "metadata": {},
   "outputs": [
    {
     "name": "stdout",
     "output_type": "stream",
     "text": [
      "Accuracy of the best model: 0.7537922987164527\n"
     ]
    }
   ],
   "source": [
    "print(\"Accuracy of the best model:\", grid_SVCclf.best_score_)"
   ]
  },
  {
   "cell_type": "code",
   "execution_count": 86,
   "metadata": {},
   "outputs": [],
   "source": [
    "grid_SVCclf_score = grid_SVCclf.score(grid_features_test, grid_target_test)"
   ]
  },
  {
   "cell_type": "code",
   "execution_count": 87,
   "metadata": {},
   "outputs": [
    {
     "name": "stdout",
     "output_type": "stream",
     "text": [
      "Accuracy of the best model, test: 0.7216174183514774\n"
     ]
    }
   ],
   "source": [
    "print(\"Accuracy of the best model, test:\", grid_SVCclf_score)"
   ]
  },
  {
   "cell_type": "markdown",
   "metadata": {},
   "source": [
    "### NearestNeighbors или Ближайшие соседи"
   ]
  },
  {
   "cell_type": "code",
   "execution_count": 88,
   "metadata": {},
   "outputs": [],
   "source": [
    "parametrs = { 'n_neighbors': range (1, 20),\n",
    "              'weights': ('uniform', 'distance')\n",
    "            }"
   ]
  },
  {
   "cell_type": "code",
   "execution_count": 89,
   "metadata": {},
   "outputs": [],
   "source": [
    "start = timeit.default_timer()\n",
    "KNclf = KNeighborsClassifier()\n",
    "grid_KNclf = GridSearchCV(KNclf, parametrs, cv=4)\n",
    "grid_KNclf.fit(grid_features_train, grid_target_train)\n",
    "stop = timeit.default_timer()"
   ]
  },
  {
   "cell_type": "code",
   "execution_count": 90,
   "metadata": {},
   "outputs": [
    {
     "name": "stdout",
     "output_type": "stream",
     "text": [
      "The best parametrs of the model: {'n_neighbors': 10, 'weights': 'uniform'}\n",
      "Time spent: 3.26 sec\n"
     ]
    }
   ],
   "source": [
    "print(\"The best parametrs of the model:\", grid_KNclf.best_params_)\n",
    "print(f'Time spent: {stop - start:.2f} sec')"
   ]
  },
  {
   "cell_type": "code",
   "execution_count": 91,
   "metadata": {},
   "outputs": [
    {
     "name": "stdout",
     "output_type": "stream",
     "text": [
      "Accuracy of the best model: 0.7701283547257877\n"
     ]
    }
   ],
   "source": [
    "print(\"Accuracy of the best model:\", grid_KNclf.best_score_)"
   ]
  },
  {
   "cell_type": "code",
   "execution_count": 92,
   "metadata": {},
   "outputs": [],
   "source": [
    "grid_KNclf_score = grid_KNclf.score(grid_features_test, grid_target_test)"
   ]
  },
  {
   "cell_type": "code",
   "execution_count": 93,
   "metadata": {},
   "outputs": [
    {
     "name": "stdout",
     "output_type": "stream",
     "text": [
      "Accuracy of the best model, test: 0.7480559875583204\n"
     ]
    }
   ],
   "source": [
    "print(\"Accuracy of the best model, test:\", grid_KNclf.score(grid_features_test, grid_target_test))"
   ]
  },
  {
   "cell_type": "markdown",
   "metadata": {},
   "source": [
    "<a id='Вывод_2'></a>"
   ]
  },
  {
   "cell_type": "markdown",
   "metadata": {},
   "source": [
    "## <p style=\"text-align:center\"> Вывод</p>"
   ]
  },
  {
   "cell_type": "markdown",
   "metadata": {},
   "source": [
    "##### В ходе исследования моделей были сделаны следующие выводы:\n",
    "\n",
    "___\n",
    "\n",
    "\n",
    "1. На официальном сайте sklearn было найдено 5 классификаторов, подходящих под условия задачи. Каждый из них был опробован, проверен валидационной и тестовой выборками.\n",
    "\n",
    "\n",
    "2. Дополнительно в качестве применения выводов оценки мультиколлинеарности был исключен один из параметров, что положительно сказалось на точности моделей.\n",
    "\n",
    "\n",
    "3. Затем эти же модели были обучены на похожем датасете, с применением кросс валидации и автоматическим подбором параметров. \n",
    "\n",
    "\n",
    "4. Общая точность у всех моделей в пределах 74-79%.\n",
    "\n",
    "___\n",
    "\n",
    "Таким образом было выполнено создание различных моделей для решения определенной задачи."
   ]
  },
  {
   "cell_type": "markdown",
   "metadata": {},
   "source": [
    " ## Часть 3. Проверка моделей на адекватность"
   ]
  },
  {
   "cell_type": "markdown",
   "metadata": {},
   "source": [
    "<a id='Проверка моделей на адекватность'></a>"
   ]
  },
  {
   "cell_type": "markdown",
   "metadata": {},
   "source": [
    "## <p style=\"text-align:center\">Проверка моделей на адекватность</p>"
   ]
  },
  {
   "cell_type": "markdown",
   "metadata": {},
   "source": [
    "В качестве критерия оценки адекватности модели возьмем какую-то константу, которую можно получить руками, и посмотрим, является ли наша модель умнее этой константы."
   ]
  },
  {
   "cell_type": "code",
   "execution_count": 94,
   "metadata": {},
   "outputs": [
    {
     "data": {
      "text/plain": [
       "0.693528313627878"
      ]
     },
     "execution_count": 94,
     "metadata": {},
     "output_type": "execute_result"
    }
   ],
   "source": [
    "const = df['is_ultra'].sum() / df['is_ultra'].count()\n",
    "1 - const"
   ]
  },
  {
   "cell_type": "markdown",
   "metadata": {},
   "source": [
    "Получается, что если мы будем просто предсказывать одни и те же значения (в данном случае нули) постоянно, мы будем получать правильные результаты в почти 70% случаев. Все обученные нами модели имеют точность выше чем у данной константы, поэтому можно считать их адекватными."
   ]
  },
  {
   "cell_type": "code",
   "execution_count": 95,
   "metadata": {},
   "outputs": [
    {
     "data": {
      "text/plain": [
       "0    0.693528\n",
       "1    0.306472\n",
       "Name: is_ultra, dtype: float64"
      ]
     },
     "execution_count": 95,
     "metadata": {},
     "output_type": "execute_result"
    }
   ],
   "source": [
    "df['is_ultra'].value_counts(normalize=True)"
   ]
  },
  {
   "cell_type": "code",
   "execution_count": 96,
   "metadata": {},
   "outputs": [],
   "source": [
    "d = {'model': ['DecisionTree', 'RandomForest', 'LogisticRegression', 'SVC', 'NearestNeighbors'], \n",
    "     'test_accuracy':[DTclf_score, RFclf_score, LogReg_score, SVCclf_score, KNclf_score],\n",
    "     'test_accuracy_upd':[DTclf_score_upd, RFclf_score_upd, LogReg_score_upd, SVCclf_score_upd, KNclf_score_upd],\n",
    "     'test_accuracy_no_calls_upd':[DTclf_no_calls_upd, RFclf_no_calls_upd, LogReg_no_calls_score_upd, SVCclf_no_calls_score_upd,\n",
    "                                  KNclf_no_calls_score_upd],\n",
    "     'gridSearchCV_test_accuracy':[grid_DTclf_score, grid_RFclf_score, grid_LogReg_score, grid_SVCclf_score, grid_KNclf_score]\n",
    "    }\n",
    "summary = pd.DataFrame(data=d)"
   ]
  },
  {
   "cell_type": "markdown",
   "metadata": {},
   "source": [
    "### <p style=\"text-align:center\">Сводная таблица обученных моделей</p>"
   ]
  },
  {
   "cell_type": "code",
   "execution_count": 97,
   "metadata": {},
   "outputs": [
    {
     "data": {
      "text/html": [
       "<style  type=\"text/css\" >\n",
       "    #T_c1cf4d3a_8a56_11eb_88aa_02420a39dc00row0_col3 {\n",
       "            background-color:  yellow;\n",
       "        }    #T_c1cf4d3a_8a56_11eb_88aa_02420a39dc00row1_col4 {\n",
       "            background-color:  yellow;\n",
       "        }    #T_c1cf4d3a_8a56_11eb_88aa_02420a39dc00row2_col2 {\n",
       "            background-color:  yellow;\n",
       "        }    #T_c1cf4d3a_8a56_11eb_88aa_02420a39dc00row2_col3 {\n",
       "            background-color:  yellow;\n",
       "        }    #T_c1cf4d3a_8a56_11eb_88aa_02420a39dc00row3_col2 {\n",
       "            background-color:  yellow;\n",
       "        }    #T_c1cf4d3a_8a56_11eb_88aa_02420a39dc00row3_col3 {\n",
       "            background-color:  yellow;\n",
       "        }    #T_c1cf4d3a_8a56_11eb_88aa_02420a39dc00row4_col3 {\n",
       "            background-color:  yellow;\n",
       "        }</style><table id=\"T_c1cf4d3a_8a56_11eb_88aa_02420a39dc00\" ><thead>    <tr>        <th class=\"blank level0\" ></th>        <th class=\"col_heading level0 col0\" >model</th>        <th class=\"col_heading level0 col1\" >test_accuracy</th>        <th class=\"col_heading level0 col2\" >test_accuracy_upd</th>        <th class=\"col_heading level0 col3\" >test_accuracy_no_calls_upd</th>        <th class=\"col_heading level0 col4\" >gridSearchCV_test_accuracy</th>    </tr></thead><tbody>\n",
       "                <tr>\n",
       "                        <th id=\"T_c1cf4d3a_8a56_11eb_88aa_02420a39dc00level0_row0\" class=\"row_heading level0 row0\" >1</th>\n",
       "                        <td id=\"T_c1cf4d3a_8a56_11eb_88aa_02420a39dc00row0_col0\" class=\"data row0 col0\" >RandomForest</td>\n",
       "                        <td id=\"T_c1cf4d3a_8a56_11eb_88aa_02420a39dc00row0_col1\" class=\"data row0 col1\" >0.792</td>\n",
       "                        <td id=\"T_c1cf4d3a_8a56_11eb_88aa_02420a39dc00row0_col2\" class=\"data row0 col2\" >0.795</td>\n",
       "                        <td id=\"T_c1cf4d3a_8a56_11eb_88aa_02420a39dc00row0_col3\" class=\"data row0 col3\" >0.796</td>\n",
       "                        <td id=\"T_c1cf4d3a_8a56_11eb_88aa_02420a39dc00row0_col4\" class=\"data row0 col4\" >0.793</td>\n",
       "            </tr>\n",
       "            <tr>\n",
       "                        <th id=\"T_c1cf4d3a_8a56_11eb_88aa_02420a39dc00level0_row1\" class=\"row_heading level0 row1\" >0</th>\n",
       "                        <td id=\"T_c1cf4d3a_8a56_11eb_88aa_02420a39dc00row1_col0\" class=\"data row1 col0\" >DecisionTree</td>\n",
       "                        <td id=\"T_c1cf4d3a_8a56_11eb_88aa_02420a39dc00row1_col1\" class=\"data row1 col1\" >0.774</td>\n",
       "                        <td id=\"T_c1cf4d3a_8a56_11eb_88aa_02420a39dc00row1_col2\" class=\"data row1 col2\" >0.792</td>\n",
       "                        <td id=\"T_c1cf4d3a_8a56_11eb_88aa_02420a39dc00row1_col3\" class=\"data row1 col3\" >0.784</td>\n",
       "                        <td id=\"T_c1cf4d3a_8a56_11eb_88aa_02420a39dc00row1_col4\" class=\"data row1 col4\" >0.799</td>\n",
       "            </tr>\n",
       "            <tr>\n",
       "                        <th id=\"T_c1cf4d3a_8a56_11eb_88aa_02420a39dc00level0_row2\" class=\"row_heading level0 row2\" >4</th>\n",
       "                        <td id=\"T_c1cf4d3a_8a56_11eb_88aa_02420a39dc00row2_col0\" class=\"data row2 col0\" >NearestNeighbors</td>\n",
       "                        <td id=\"T_c1cf4d3a_8a56_11eb_88aa_02420a39dc00row2_col1\" class=\"data row2 col1\" >0.768</td>\n",
       "                        <td id=\"T_c1cf4d3a_8a56_11eb_88aa_02420a39dc00row2_col2\" class=\"data row2 col2\" >0.773</td>\n",
       "                        <td id=\"T_c1cf4d3a_8a56_11eb_88aa_02420a39dc00row2_col3\" class=\"data row2 col3\" >0.773</td>\n",
       "                        <td id=\"T_c1cf4d3a_8a56_11eb_88aa_02420a39dc00row2_col4\" class=\"data row2 col4\" >0.748</td>\n",
       "            </tr>\n",
       "            <tr>\n",
       "                        <th id=\"T_c1cf4d3a_8a56_11eb_88aa_02420a39dc00level0_row3\" class=\"row_heading level0 row3\" >2</th>\n",
       "                        <td id=\"T_c1cf4d3a_8a56_11eb_88aa_02420a39dc00row3_col0\" class=\"data row3 col0\" >LogisticRegression</td>\n",
       "                        <td id=\"T_c1cf4d3a_8a56_11eb_88aa_02420a39dc00row3_col1\" class=\"data row3 col1\" >0.739</td>\n",
       "                        <td id=\"T_c1cf4d3a_8a56_11eb_88aa_02420a39dc00row3_col2\" class=\"data row3 col2\" >0.742</td>\n",
       "                        <td id=\"T_c1cf4d3a_8a56_11eb_88aa_02420a39dc00row3_col3\" class=\"data row3 col3\" >0.742</td>\n",
       "                        <td id=\"T_c1cf4d3a_8a56_11eb_88aa_02420a39dc00row3_col4\" class=\"data row3 col4\" >0.74</td>\n",
       "            </tr>\n",
       "            <tr>\n",
       "                        <th id=\"T_c1cf4d3a_8a56_11eb_88aa_02420a39dc00level0_row4\" class=\"row_heading level0 row4\" >3</th>\n",
       "                        <td id=\"T_c1cf4d3a_8a56_11eb_88aa_02420a39dc00row4_col0\" class=\"data row4 col0\" >SVC</td>\n",
       "                        <td id=\"T_c1cf4d3a_8a56_11eb_88aa_02420a39dc00row4_col1\" class=\"data row4 col1\" >0.694</td>\n",
       "                        <td id=\"T_c1cf4d3a_8a56_11eb_88aa_02420a39dc00row4_col2\" class=\"data row4 col2\" >0.759</td>\n",
       "                        <td id=\"T_c1cf4d3a_8a56_11eb_88aa_02420a39dc00row4_col3\" class=\"data row4 col3\" >0.762</td>\n",
       "                        <td id=\"T_c1cf4d3a_8a56_11eb_88aa_02420a39dc00row4_col4\" class=\"data row4 col4\" >0.722</td>\n",
       "            </tr>\n",
       "    </tbody></table>"
      ],
      "text/plain": [
       "<pandas.io.formats.style.Styler at 0x7eff3e50ff50>"
      ]
     },
     "execution_count": 97,
     "metadata": {},
     "output_type": "execute_result"
    }
   ],
   "source": [
    "summary.sort_values(by = 'test_accuracy', ascending = False).round(3).style.highlight_max(axis='columns')"
   ]
  },
  {
   "cell_type": "markdown",
   "metadata": {},
   "source": [
    "<a id='Вывод_3'>"
   ]
  },
  {
   "cell_type": "markdown",
   "metadata": {},
   "source": [
    "## <p style=\"text-align:center\"> Вывод</p>"
   ]
  },
  {
   "cell_type": "markdown",
   "metadata": {},
   "source": [
    "##### Таким образом в заключительной части нашего исследовании мы:\n",
    "\n",
    "___\n",
    "\n",
    "\n",
    "1. Убедились в адекватности наших моделей.\n",
    "\n",
    "\n",
    "2. Посмотрели на результаты нашей работы.\n",
    "\n",
    "\n",
    "3. Интересным оказалось то, что LogisticRegression и RandomForest имеют практически одинаковую точность на каждом тесте.\n",
    "\n",
    "\n",
    "4. Разительного увеличения точности удалось добиться благодаря включению валидационной выборки в train; также помогло исключение лишнего столбца параметров из оценки мультиколлинеарности.\n",
    "___\n",
    "\n",
    "\n",
    "Резюмируя, была выполнена заключительная часть нашего исследования, в которой мы проверили адекватность моделей."
   ]
  },
  {
   "cell_type": "markdown",
   "metadata": {},
   "source": [
    " ## Часть 4. Общий вывод"
   ]
  },
  {
   "cell_type": "markdown",
   "metadata": {},
   "source": [
    "<a id='Вывод_4'>"
   ]
  },
  {
   "cell_type": "markdown",
   "metadata": {},
   "source": [
    "## <p style=\"text-align:center\"> Общий вывод о проделанной работе</p>"
   ]
  },
  {
   "cell_type": "markdown",
   "metadata": {},
   "source": [
    "Таким образом, на основе предоставленного датасета была выполнена работа по обучению моделей и проверки их адекватности.\n",
    "\n",
    "___\n",
    "\n",
    "\n",
    "- В первую очередь было произведено импортирование необходимых библиотек, загрузка датасета и получение о нем общей информации. На этом этапе пробем не обнаружено, подробнее об этом можно почитать <a href='#Вывод_1'>здесь</a>.\n",
    "\n",
    "\n",
    "- Далее мы занялись обучением моделей, их проверкой. <a href='#Вывод_2'>Здесь</a> все описано подробнее.\n",
    "\n",
    "\n",
    "- После обучения приступили к проверке моделей на адекватность, с выводами можно ознакомиться <a href='#Вывод_3'>здесь</a>.\n",
    "\n",
    "\n",
    "___\n",
    "\n",
    "В работе представлен процесс обучения моделей с последующей проверкой на тестовой выборке. Самыми эффективными оказались модели RandomForest и DecisionTree, наименее эффективно показала себя модель SVC. Также в общем случае лучше показали себя модели обученные с применением кросс валидации и автоматическим подбором параметров.\n",
    "\n",
    "\n",
    "___\n",
    "\n"
   ]
  }
 ],
 "metadata": {
  "kernelspec": {
   "display_name": "Python 3",
   "language": "python",
   "name": "python3"
  },
  "language_info": {
   "codemirror_mode": {
    "name": "ipython",
    "version": 3
   },
   "file_extension": ".py",
   "mimetype": "text/x-python",
   "name": "python",
   "nbconvert_exporter": "python",
   "pygments_lexer": "ipython3",
   "version": "3.7.6"
  },
  "toc": {
   "base_numbering": 1,
   "nav_menu": {},
   "number_sections": false,
   "sideBar": true,
   "skip_h1_title": true,
   "title_cell": "Table of Contents",
   "title_sidebar": "Contents",
   "toc_cell": false,
   "toc_position": {},
   "toc_section_display": true,
   "toc_window_display": false
  }
 },
 "nbformat": 4,
 "nbformat_minor": 2
}
