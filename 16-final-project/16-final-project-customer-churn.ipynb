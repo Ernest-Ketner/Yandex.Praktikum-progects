{
 "cells": [
  {
   "cell_type": "markdown",
   "metadata": {},
   "source": [
    "# Прогнозирование оттока клиентов компании «Ниединогоразрыва.ком»"
   ]
  },
  {
   "cell_type": "markdown",
   "metadata": {},
   "source": [
    "Мы работаем в компании «Ниединогоразрыва.ком». Занимаемся прогнозированием оттока клиентов. Необходимо подготовить модель машинного обучения, которая должна предсказать намерение пользователя уйти к другому провайдеру, классическая задача классификации. Если выяснится, что пользователь планирует уйти, ему будут предложены промокоды и специальные условия. Для работы мы используем персональные данные о некоторых клиентах, информацию об их тарифах и договорах, собранные командой оператора. Модель поможет снизить количество потерянных клиентов, что положительно скажется на прибыли компании. \n",
    "    \n",
    "Оператор предоставляет два основных типа услуг: \n",
    "\n",
    "1. Стационарную телефонную связь. Возможно подключение телефонного аппарата к нескольким линиям одновременно.\n",
    "2. Интернет. Подключение может быть двух типов: через телефонную линию (DSL*,* от англ. *digital subscriber line*, «цифровая абонентская линия») или оптоволоконный кабель (*Fiber optic*).  \n",
    "\n",
    "Также доступны такие услуги:\n",
    "\n",
    "- Интернет-безопасность: антивирус (*DeviceProtection*) и блокировка небезопасных сайтов (*OnlineSecurity*);\n",
    "- Выделенная линия технической поддержки (*TechSupport*);\n",
    "- Облачное хранилище файлов для резервного копирования данных (*OnlineBackup*);\n",
    "- Стриминговое телевидение (*StreamingTV*) и каталог фильмов (*StreamingMovies*).\n",
    "    \n",
    "За услуги клиенты могут платить каждый месяц или заключить договор на 1–2 года. Доступны различные способы расчёта и возможность получения электронного чека.\n",
    "\n",
    "На данном этапе нам нужно:\n",
    "\n",
    "1. Провести исследовательский анализ данных;\n",
    "2. Составить:\n",
    "    - Список уточняющих вопросов;\n",
    "    - Примерный план решения задачи.\n",
    "    \n",
    "Предоставленная информация представляет собой четыре датасета с исходными данными. В датасетах отражены персональные данные клиентов, информация об интернет-услугах, информация об услугах телефонии, а также информация о договорах. Необходимо учесть, что предоставленная информация может содержать лишь часть полезной информации, либо наоборот, иметь лишние данные. Дата выгрузки датасета - 1 февраля 2020 года.\n",
    "\n",
    "    \n",
    "    \n",
    "____\n",
    "\n",
    "\n",
    "\n",
    "В данной работе представлен процесс создания и проверки модели машинного обучения в целях формирования правильного бизнес-решения. Работа произведена в соответствии с инструкциями заказчика. Каждый значительный шаг сопровождается промежуточным, либо общим выводом.\n",
    "  \n",
    "    \n",
    "    \n",
    "____\n",
    "    \n",
    " \n",
    "    \n",
    "    \n",
    "Часть 1. Изучение общей информации о предоставленных датасетах\n",
    "    \n",
    "1. <a href='#Импорт необходимых библиотек для работы с данными, загрузка датасета'>Импорт необходимых библиотек для работы с данными, загрузка датасетов</a>\n",
    "2. <a href='#Изучение данных, получение общей информации'>Изучение данных, получение общей информации</a>\n",
    "3. <a href='#Вывод_1'>Вывод</a>\n",
    "    \n",
    "    \n",
    "Часть 2. Исследовательский анализ данных (EDA)\n",
    "    \n",
    "1. <a href='#Работа с пропусками'>Работа с пропусками</a>\n",
    "2. <a href='#Изменение типа данных'>Изменение типа данных</a>\n",
    "3. <a href='#Подготовка данных'>Подготовка данных</a>    \n",
    "4. <a href='#Кодирование признаков'>Кодирование признаков</a>\n",
    "5. <a href='#Общий анализ'>Общий анализ</a>\n",
    "6. <a href='#Оценка мультиколлинеарности признаков'>Оценка мультиколлинеарности признаков</a>\n",
    "7. <a href='#Вывод_2'>Вывод</a>\n",
    "    \n",
    "Часть 3. Создание моделей\n",
    "\n",
    "1. <a href='#Подготовка признаков'>Подготовка признаков</a>\n",
    "2. <a href='#Обучение моделей'>Обучение моделей</a>\n",
    "3. <a href='#Тестирование модели'>Тестирование модели</a>    \n",
    "4. <a href='#Интерпретация результатов'>Интерпретация результатов</a>\n",
    "5. <a href='#Вывод_3'>Вывод</a>\n",
    "    \n",
    "<a href='#Вывод_4'>Общий вывод</a>\n",
    "    "
   ]
  },
  {
   "cell_type": "markdown",
   "metadata": {},
   "source": [
    "# Часть 1. Изучение общей информации "
   ]
  },
  {
   "cell_type": "markdown",
   "metadata": {},
   "source": [
    "<a id='Импорт необходимых библиотек для работы с данными, загрузка датасета'></a>"
   ]
  },
  {
   "cell_type": "markdown",
   "metadata": {},
   "source": [
    "### <p style=\"text-align:center\"> Импорт необходимых библиотек для работы с данными, загрузка датасетов</p>"
   ]
  },
  {
   "cell_type": "markdown",
   "metadata": {},
   "source": [
    "Импортируем необходимые библиотеки, загружаем датасеты, убираем ограничения на количество столбцов, отключаем предупреждения."
   ]
  },
  {
   "cell_type": "code",
   "execution_count": 1,
   "metadata": {},
   "outputs": [],
   "source": [
    "import pandas as pd\n",
    "import numpy as np\n",
    "import re\n",
    "from tqdm.notebook import tqdm\n",
    "from functools import reduce\n",
    "import seaborn as sns\n",
    "from pandas import Timestamp as dt\n",
    "import matplotlib.pyplot as plt\n",
    "from IPython.display import display\n",
    "pd.options.display.max_columns = None\n",
    "pd.options.display.max_rows = 100\n",
    "import warnings\n",
    "warnings.simplefilter('ignore')\n",
    "from sklearn.model_selection import train_test_split\n",
    "from sklearn.preprocessing import StandardScaler\n",
    "from sklearn.preprocessing import OrdinalEncoder\n",
    "from catboost import CatBoostClassifier\n",
    "from sklearn.linear_model import SGDClassifier\n",
    "from sklearn.linear_model import LogisticRegression\n",
    "from sklearn.ensemble import RandomForestClassifier\n",
    "from sklearn.metrics import accuracy_score\n",
    "from sklearn.metrics import confusion_matrix\n",
    "from sklearn.metrics import f1_score\n",
    "from sklearn.metrics import roc_auc_score\n",
    "from sklearn.metrics import roc_curve\n",
    "from sklearn.metrics import recall_score\n",
    "from sklearn.metrics import precision_score\n",
    "import timeit"
   ]
  },
  {
   "cell_type": "code",
   "execution_count": 2,
   "metadata": {},
   "outputs": [],
   "source": [
    "try:\n",
    "    contract = pd.read_csv('contract.csv')\n",
    "    personal = pd.read_csv('personal.csv')\n",
    "    internet = pd.read_csv('internet.csv')\n",
    "    phone = pd.read_csv('phone.csv')\n",
    "except:\n",
    "    contract = pd.read_csv('/datasets/final_provider/contract.csv')\n",
    "    personal = pd.read_csv('/datasets/final_provider/personal.csv')\n",
    "    internet = pd.read_csv('/datasets/final_provider/internet.csv')\n",
    "    phone = pd.read_csv('/datasets/final_provider/phone.csv')"
   ]
  },
  {
   "cell_type": "code",
   "execution_count": 3,
   "metadata": {
    "scrolled": true
   },
   "outputs": [
    {
     "data": {
      "text/html": [
       "<div>\n",
       "<style scoped>\n",
       "    .dataframe tbody tr th:only-of-type {\n",
       "        vertical-align: middle;\n",
       "    }\n",
       "\n",
       "    .dataframe tbody tr th {\n",
       "        vertical-align: top;\n",
       "    }\n",
       "\n",
       "    .dataframe thead th {\n",
       "        text-align: right;\n",
       "    }\n",
       "</style>\n",
       "<table border=\"1\" class=\"dataframe\">\n",
       "  <thead>\n",
       "    <tr style=\"text-align: right;\">\n",
       "      <th></th>\n",
       "      <th>customerID</th>\n",
       "      <th>BeginDate</th>\n",
       "      <th>EndDate</th>\n",
       "      <th>Type</th>\n",
       "      <th>PaperlessBilling</th>\n",
       "      <th>PaymentMethod</th>\n",
       "      <th>MonthlyCharges</th>\n",
       "      <th>TotalCharges</th>\n",
       "    </tr>\n",
       "  </thead>\n",
       "  <tbody>\n",
       "    <tr>\n",
       "      <td>0</td>\n",
       "      <td>7590-VHVEG</td>\n",
       "      <td>2020-01-01</td>\n",
       "      <td>No</td>\n",
       "      <td>Month-to-month</td>\n",
       "      <td>Yes</td>\n",
       "      <td>Electronic check</td>\n",
       "      <td>29.85</td>\n",
       "      <td>29.85</td>\n",
       "    </tr>\n",
       "    <tr>\n",
       "      <td>1</td>\n",
       "      <td>5575-GNVDE</td>\n",
       "      <td>2017-04-01</td>\n",
       "      <td>No</td>\n",
       "      <td>One year</td>\n",
       "      <td>No</td>\n",
       "      <td>Mailed check</td>\n",
       "      <td>56.95</td>\n",
       "      <td>1889.5</td>\n",
       "    </tr>\n",
       "    <tr>\n",
       "      <td>2</td>\n",
       "      <td>3668-QPYBK</td>\n",
       "      <td>2019-10-01</td>\n",
       "      <td>2019-12-01 00:00:00</td>\n",
       "      <td>Month-to-month</td>\n",
       "      <td>Yes</td>\n",
       "      <td>Mailed check</td>\n",
       "      <td>53.85</td>\n",
       "      <td>108.15</td>\n",
       "    </tr>\n",
       "    <tr>\n",
       "      <td>3</td>\n",
       "      <td>7795-CFOCW</td>\n",
       "      <td>2016-05-01</td>\n",
       "      <td>No</td>\n",
       "      <td>One year</td>\n",
       "      <td>No</td>\n",
       "      <td>Bank transfer (automatic)</td>\n",
       "      <td>42.30</td>\n",
       "      <td>1840.75</td>\n",
       "    </tr>\n",
       "    <tr>\n",
       "      <td>4</td>\n",
       "      <td>9237-HQITU</td>\n",
       "      <td>2019-09-01</td>\n",
       "      <td>2019-11-01 00:00:00</td>\n",
       "      <td>Month-to-month</td>\n",
       "      <td>Yes</td>\n",
       "      <td>Electronic check</td>\n",
       "      <td>70.70</td>\n",
       "      <td>151.65</td>\n",
       "    </tr>\n",
       "  </tbody>\n",
       "</table>\n",
       "</div>"
      ],
      "text/plain": [
       "   customerID   BeginDate              EndDate            Type  \\\n",
       "0  7590-VHVEG  2020-01-01                   No  Month-to-month   \n",
       "1  5575-GNVDE  2017-04-01                   No        One year   \n",
       "2  3668-QPYBK  2019-10-01  2019-12-01 00:00:00  Month-to-month   \n",
       "3  7795-CFOCW  2016-05-01                   No        One year   \n",
       "4  9237-HQITU  2019-09-01  2019-11-01 00:00:00  Month-to-month   \n",
       "\n",
       "  PaperlessBilling              PaymentMethod  MonthlyCharges TotalCharges  \n",
       "0              Yes           Electronic check           29.85        29.85  \n",
       "1               No               Mailed check           56.95       1889.5  \n",
       "2              Yes               Mailed check           53.85       108.15  \n",
       "3               No  Bank transfer (automatic)           42.30      1840.75  \n",
       "4              Yes           Electronic check           70.70       151.65  "
      ]
     },
     "execution_count": 3,
     "metadata": {},
     "output_type": "execute_result"
    }
   ],
   "source": [
    "contract.head()"
   ]
  },
  {
   "cell_type": "code",
   "execution_count": 4,
   "metadata": {},
   "outputs": [
    {
     "data": {
      "text/html": [
       "<div>\n",
       "<style scoped>\n",
       "    .dataframe tbody tr th:only-of-type {\n",
       "        vertical-align: middle;\n",
       "    }\n",
       "\n",
       "    .dataframe tbody tr th {\n",
       "        vertical-align: top;\n",
       "    }\n",
       "\n",
       "    .dataframe thead th {\n",
       "        text-align: right;\n",
       "    }\n",
       "</style>\n",
       "<table border=\"1\" class=\"dataframe\">\n",
       "  <thead>\n",
       "    <tr style=\"text-align: right;\">\n",
       "      <th></th>\n",
       "      <th>customerID</th>\n",
       "      <th>gender</th>\n",
       "      <th>SeniorCitizen</th>\n",
       "      <th>Partner</th>\n",
       "      <th>Dependents</th>\n",
       "    </tr>\n",
       "  </thead>\n",
       "  <tbody>\n",
       "    <tr>\n",
       "      <td>0</td>\n",
       "      <td>7590-VHVEG</td>\n",
       "      <td>Female</td>\n",
       "      <td>0</td>\n",
       "      <td>Yes</td>\n",
       "      <td>No</td>\n",
       "    </tr>\n",
       "    <tr>\n",
       "      <td>1</td>\n",
       "      <td>5575-GNVDE</td>\n",
       "      <td>Male</td>\n",
       "      <td>0</td>\n",
       "      <td>No</td>\n",
       "      <td>No</td>\n",
       "    </tr>\n",
       "    <tr>\n",
       "      <td>2</td>\n",
       "      <td>3668-QPYBK</td>\n",
       "      <td>Male</td>\n",
       "      <td>0</td>\n",
       "      <td>No</td>\n",
       "      <td>No</td>\n",
       "    </tr>\n",
       "    <tr>\n",
       "      <td>3</td>\n",
       "      <td>7795-CFOCW</td>\n",
       "      <td>Male</td>\n",
       "      <td>0</td>\n",
       "      <td>No</td>\n",
       "      <td>No</td>\n",
       "    </tr>\n",
       "    <tr>\n",
       "      <td>4</td>\n",
       "      <td>9237-HQITU</td>\n",
       "      <td>Female</td>\n",
       "      <td>0</td>\n",
       "      <td>No</td>\n",
       "      <td>No</td>\n",
       "    </tr>\n",
       "  </tbody>\n",
       "</table>\n",
       "</div>"
      ],
      "text/plain": [
       "   customerID  gender  SeniorCitizen Partner Dependents\n",
       "0  7590-VHVEG  Female              0     Yes         No\n",
       "1  5575-GNVDE    Male              0      No         No\n",
       "2  3668-QPYBK    Male              0      No         No\n",
       "3  7795-CFOCW    Male              0      No         No\n",
       "4  9237-HQITU  Female              0      No         No"
      ]
     },
     "execution_count": 4,
     "metadata": {},
     "output_type": "execute_result"
    }
   ],
   "source": [
    "personal.head()"
   ]
  },
  {
   "cell_type": "code",
   "execution_count": 5,
   "metadata": {},
   "outputs": [
    {
     "data": {
      "text/html": [
       "<div>\n",
       "<style scoped>\n",
       "    .dataframe tbody tr th:only-of-type {\n",
       "        vertical-align: middle;\n",
       "    }\n",
       "\n",
       "    .dataframe tbody tr th {\n",
       "        vertical-align: top;\n",
       "    }\n",
       "\n",
       "    .dataframe thead th {\n",
       "        text-align: right;\n",
       "    }\n",
       "</style>\n",
       "<table border=\"1\" class=\"dataframe\">\n",
       "  <thead>\n",
       "    <tr style=\"text-align: right;\">\n",
       "      <th></th>\n",
       "      <th>customerID</th>\n",
       "      <th>InternetService</th>\n",
       "      <th>OnlineSecurity</th>\n",
       "      <th>OnlineBackup</th>\n",
       "      <th>DeviceProtection</th>\n",
       "      <th>TechSupport</th>\n",
       "      <th>StreamingTV</th>\n",
       "      <th>StreamingMovies</th>\n",
       "    </tr>\n",
       "  </thead>\n",
       "  <tbody>\n",
       "    <tr>\n",
       "      <td>0</td>\n",
       "      <td>7590-VHVEG</td>\n",
       "      <td>DSL</td>\n",
       "      <td>No</td>\n",
       "      <td>Yes</td>\n",
       "      <td>No</td>\n",
       "      <td>No</td>\n",
       "      <td>No</td>\n",
       "      <td>No</td>\n",
       "    </tr>\n",
       "    <tr>\n",
       "      <td>1</td>\n",
       "      <td>5575-GNVDE</td>\n",
       "      <td>DSL</td>\n",
       "      <td>Yes</td>\n",
       "      <td>No</td>\n",
       "      <td>Yes</td>\n",
       "      <td>No</td>\n",
       "      <td>No</td>\n",
       "      <td>No</td>\n",
       "    </tr>\n",
       "    <tr>\n",
       "      <td>2</td>\n",
       "      <td>3668-QPYBK</td>\n",
       "      <td>DSL</td>\n",
       "      <td>Yes</td>\n",
       "      <td>Yes</td>\n",
       "      <td>No</td>\n",
       "      <td>No</td>\n",
       "      <td>No</td>\n",
       "      <td>No</td>\n",
       "    </tr>\n",
       "    <tr>\n",
       "      <td>3</td>\n",
       "      <td>7795-CFOCW</td>\n",
       "      <td>DSL</td>\n",
       "      <td>Yes</td>\n",
       "      <td>No</td>\n",
       "      <td>Yes</td>\n",
       "      <td>Yes</td>\n",
       "      <td>No</td>\n",
       "      <td>No</td>\n",
       "    </tr>\n",
       "    <tr>\n",
       "      <td>4</td>\n",
       "      <td>9237-HQITU</td>\n",
       "      <td>Fiber optic</td>\n",
       "      <td>No</td>\n",
       "      <td>No</td>\n",
       "      <td>No</td>\n",
       "      <td>No</td>\n",
       "      <td>No</td>\n",
       "      <td>No</td>\n",
       "    </tr>\n",
       "  </tbody>\n",
       "</table>\n",
       "</div>"
      ],
      "text/plain": [
       "   customerID InternetService OnlineSecurity OnlineBackup DeviceProtection  \\\n",
       "0  7590-VHVEG             DSL             No          Yes               No   \n",
       "1  5575-GNVDE             DSL            Yes           No              Yes   \n",
       "2  3668-QPYBK             DSL            Yes          Yes               No   \n",
       "3  7795-CFOCW             DSL            Yes           No              Yes   \n",
       "4  9237-HQITU     Fiber optic             No           No               No   \n",
       "\n",
       "  TechSupport StreamingTV StreamingMovies  \n",
       "0          No          No              No  \n",
       "1          No          No              No  \n",
       "2          No          No              No  \n",
       "3         Yes          No              No  \n",
       "4          No          No              No  "
      ]
     },
     "execution_count": 5,
     "metadata": {},
     "output_type": "execute_result"
    }
   ],
   "source": [
    "internet.head()"
   ]
  },
  {
   "cell_type": "code",
   "execution_count": 6,
   "metadata": {},
   "outputs": [
    {
     "data": {
      "text/html": [
       "<div>\n",
       "<style scoped>\n",
       "    .dataframe tbody tr th:only-of-type {\n",
       "        vertical-align: middle;\n",
       "    }\n",
       "\n",
       "    .dataframe tbody tr th {\n",
       "        vertical-align: top;\n",
       "    }\n",
       "\n",
       "    .dataframe thead th {\n",
       "        text-align: right;\n",
       "    }\n",
       "</style>\n",
       "<table border=\"1\" class=\"dataframe\">\n",
       "  <thead>\n",
       "    <tr style=\"text-align: right;\">\n",
       "      <th></th>\n",
       "      <th>customerID</th>\n",
       "      <th>MultipleLines</th>\n",
       "    </tr>\n",
       "  </thead>\n",
       "  <tbody>\n",
       "    <tr>\n",
       "      <td>0</td>\n",
       "      <td>5575-GNVDE</td>\n",
       "      <td>No</td>\n",
       "    </tr>\n",
       "    <tr>\n",
       "      <td>1</td>\n",
       "      <td>3668-QPYBK</td>\n",
       "      <td>No</td>\n",
       "    </tr>\n",
       "    <tr>\n",
       "      <td>2</td>\n",
       "      <td>9237-HQITU</td>\n",
       "      <td>No</td>\n",
       "    </tr>\n",
       "    <tr>\n",
       "      <td>3</td>\n",
       "      <td>9305-CDSKC</td>\n",
       "      <td>Yes</td>\n",
       "    </tr>\n",
       "    <tr>\n",
       "      <td>4</td>\n",
       "      <td>1452-KIOVK</td>\n",
       "      <td>Yes</td>\n",
       "    </tr>\n",
       "  </tbody>\n",
       "</table>\n",
       "</div>"
      ],
      "text/plain": [
       "   customerID MultipleLines\n",
       "0  5575-GNVDE            No\n",
       "1  3668-QPYBK            No\n",
       "2  9237-HQITU            No\n",
       "3  9305-CDSKC           Yes\n",
       "4  1452-KIOVK           Yes"
      ]
     },
     "execution_count": 6,
     "metadata": {},
     "output_type": "execute_result"
    }
   ],
   "source": [
    "phone.head()"
   ]
  },
  {
   "cell_type": "markdown",
   "metadata": {},
   "source": [
    "<a id='Изучение данных, получение общей информации'></a>"
   ]
  },
  {
   "cell_type": "markdown",
   "metadata": {},
   "source": [
    "### <p style=\"text-align:center\"> Изучение данных, получение общей информации</p>"
   ]
  },
  {
   "cell_type": "markdown",
   "metadata": {},
   "source": [
    "Ознакомимся с информацией, посмотрим соответствуют ли типы ячеек назначению."
   ]
  },
  {
   "cell_type": "code",
   "execution_count": 7,
   "metadata": {},
   "outputs": [
    {
     "name": "stdout",
     "output_type": "stream",
     "text": [
      "<class 'pandas.core.frame.DataFrame'>\n",
      "RangeIndex: 7043 entries, 0 to 7042\n",
      "Data columns (total 8 columns):\n",
      "customerID          7043 non-null object\n",
      "BeginDate           7043 non-null object\n",
      "EndDate             7043 non-null object\n",
      "Type                7043 non-null object\n",
      "PaperlessBilling    7043 non-null object\n",
      "PaymentMethod       7043 non-null object\n",
      "MonthlyCharges      7043 non-null float64\n",
      "TotalCharges        7043 non-null object\n",
      "dtypes: float64(1), object(7)\n",
      "memory usage: 440.3+ KB\n"
     ]
    }
   ],
   "source": [
    "contract.info()"
   ]
  },
  {
   "cell_type": "code",
   "execution_count": 8,
   "metadata": {},
   "outputs": [
    {
     "name": "stdout",
     "output_type": "stream",
     "text": [
      "<class 'pandas.core.frame.DataFrame'>\n",
      "RangeIndex: 7043 entries, 0 to 7042\n",
      "Data columns (total 5 columns):\n",
      "customerID       7043 non-null object\n",
      "gender           7043 non-null object\n",
      "SeniorCitizen    7043 non-null int64\n",
      "Partner          7043 non-null object\n",
      "Dependents       7043 non-null object\n",
      "dtypes: int64(1), object(4)\n",
      "memory usage: 275.2+ KB\n"
     ]
    }
   ],
   "source": [
    "personal.info()"
   ]
  },
  {
   "cell_type": "code",
   "execution_count": 9,
   "metadata": {},
   "outputs": [
    {
     "name": "stdout",
     "output_type": "stream",
     "text": [
      "<class 'pandas.core.frame.DataFrame'>\n",
      "RangeIndex: 5517 entries, 0 to 5516\n",
      "Data columns (total 8 columns):\n",
      "customerID          5517 non-null object\n",
      "InternetService     5517 non-null object\n",
      "OnlineSecurity      5517 non-null object\n",
      "OnlineBackup        5517 non-null object\n",
      "DeviceProtection    5517 non-null object\n",
      "TechSupport         5517 non-null object\n",
      "StreamingTV         5517 non-null object\n",
      "StreamingMovies     5517 non-null object\n",
      "dtypes: object(8)\n",
      "memory usage: 344.9+ KB\n"
     ]
    }
   ],
   "source": [
    "internet.info()"
   ]
  },
  {
   "cell_type": "code",
   "execution_count": 10,
   "metadata": {},
   "outputs": [
    {
     "name": "stdout",
     "output_type": "stream",
     "text": [
      "<class 'pandas.core.frame.DataFrame'>\n",
      "RangeIndex: 6361 entries, 0 to 6360\n",
      "Data columns (total 2 columns):\n",
      "customerID       6361 non-null object\n",
      "MultipleLines    6361 non-null object\n",
      "dtypes: object(2)\n",
      "memory usage: 99.5+ KB\n"
     ]
    }
   ],
   "source": [
    "phone.info()"
   ]
  },
  {
   "cell_type": "markdown",
   "metadata": {},
   "source": [
    "Выведем немного описательной статистики по каждому датасету."
   ]
  },
  {
   "cell_type": "code",
   "execution_count": 11,
   "metadata": {},
   "outputs": [
    {
     "data": {
      "text/html": [
       "<div>\n",
       "<style scoped>\n",
       "    .dataframe tbody tr th:only-of-type {\n",
       "        vertical-align: middle;\n",
       "    }\n",
       "\n",
       "    .dataframe tbody tr th {\n",
       "        vertical-align: top;\n",
       "    }\n",
       "\n",
       "    .dataframe thead th {\n",
       "        text-align: right;\n",
       "    }\n",
       "</style>\n",
       "<table border=\"1\" class=\"dataframe\">\n",
       "  <thead>\n",
       "    <tr style=\"text-align: right;\">\n",
       "      <th></th>\n",
       "      <th>customerID</th>\n",
       "      <th>BeginDate</th>\n",
       "      <th>EndDate</th>\n",
       "      <th>Type</th>\n",
       "      <th>PaperlessBilling</th>\n",
       "      <th>PaymentMethod</th>\n",
       "      <th>MonthlyCharges</th>\n",
       "      <th>TotalCharges</th>\n",
       "    </tr>\n",
       "  </thead>\n",
       "  <tbody>\n",
       "    <tr>\n",
       "      <td>count</td>\n",
       "      <td>7043</td>\n",
       "      <td>7043</td>\n",
       "      <td>7043</td>\n",
       "      <td>7043</td>\n",
       "      <td>7043</td>\n",
       "      <td>7043</td>\n",
       "      <td>7043.000000</td>\n",
       "      <td>7043</td>\n",
       "    </tr>\n",
       "    <tr>\n",
       "      <td>unique</td>\n",
       "      <td>7043</td>\n",
       "      <td>77</td>\n",
       "      <td>5</td>\n",
       "      <td>3</td>\n",
       "      <td>2</td>\n",
       "      <td>4</td>\n",
       "      <td>NaN</td>\n",
       "      <td>6531</td>\n",
       "    </tr>\n",
       "    <tr>\n",
       "      <td>top</td>\n",
       "      <td>2041-JIJCI</td>\n",
       "      <td>2014-02-01</td>\n",
       "      <td>No</td>\n",
       "      <td>Month-to-month</td>\n",
       "      <td>Yes</td>\n",
       "      <td>Electronic check</td>\n",
       "      <td>NaN</td>\n",
       "      <td></td>\n",
       "    </tr>\n",
       "    <tr>\n",
       "      <td>freq</td>\n",
       "      <td>1</td>\n",
       "      <td>366</td>\n",
       "      <td>5174</td>\n",
       "      <td>3875</td>\n",
       "      <td>4171</td>\n",
       "      <td>2365</td>\n",
       "      <td>NaN</td>\n",
       "      <td>11</td>\n",
       "    </tr>\n",
       "    <tr>\n",
       "      <td>mean</td>\n",
       "      <td>NaN</td>\n",
       "      <td>NaN</td>\n",
       "      <td>NaN</td>\n",
       "      <td>NaN</td>\n",
       "      <td>NaN</td>\n",
       "      <td>NaN</td>\n",
       "      <td>64.761692</td>\n",
       "      <td>NaN</td>\n",
       "    </tr>\n",
       "    <tr>\n",
       "      <td>std</td>\n",
       "      <td>NaN</td>\n",
       "      <td>NaN</td>\n",
       "      <td>NaN</td>\n",
       "      <td>NaN</td>\n",
       "      <td>NaN</td>\n",
       "      <td>NaN</td>\n",
       "      <td>30.090047</td>\n",
       "      <td>NaN</td>\n",
       "    </tr>\n",
       "    <tr>\n",
       "      <td>min</td>\n",
       "      <td>NaN</td>\n",
       "      <td>NaN</td>\n",
       "      <td>NaN</td>\n",
       "      <td>NaN</td>\n",
       "      <td>NaN</td>\n",
       "      <td>NaN</td>\n",
       "      <td>18.250000</td>\n",
       "      <td>NaN</td>\n",
       "    </tr>\n",
       "    <tr>\n",
       "      <td>25%</td>\n",
       "      <td>NaN</td>\n",
       "      <td>NaN</td>\n",
       "      <td>NaN</td>\n",
       "      <td>NaN</td>\n",
       "      <td>NaN</td>\n",
       "      <td>NaN</td>\n",
       "      <td>35.500000</td>\n",
       "      <td>NaN</td>\n",
       "    </tr>\n",
       "    <tr>\n",
       "      <td>50%</td>\n",
       "      <td>NaN</td>\n",
       "      <td>NaN</td>\n",
       "      <td>NaN</td>\n",
       "      <td>NaN</td>\n",
       "      <td>NaN</td>\n",
       "      <td>NaN</td>\n",
       "      <td>70.350000</td>\n",
       "      <td>NaN</td>\n",
       "    </tr>\n",
       "    <tr>\n",
       "      <td>75%</td>\n",
       "      <td>NaN</td>\n",
       "      <td>NaN</td>\n",
       "      <td>NaN</td>\n",
       "      <td>NaN</td>\n",
       "      <td>NaN</td>\n",
       "      <td>NaN</td>\n",
       "      <td>89.850000</td>\n",
       "      <td>NaN</td>\n",
       "    </tr>\n",
       "    <tr>\n",
       "      <td>max</td>\n",
       "      <td>NaN</td>\n",
       "      <td>NaN</td>\n",
       "      <td>NaN</td>\n",
       "      <td>NaN</td>\n",
       "      <td>NaN</td>\n",
       "      <td>NaN</td>\n",
       "      <td>118.750000</td>\n",
       "      <td>NaN</td>\n",
       "    </tr>\n",
       "  </tbody>\n",
       "</table>\n",
       "</div>"
      ],
      "text/plain": [
       "        customerID   BeginDate EndDate            Type PaperlessBilling  \\\n",
       "count         7043        7043    7043            7043             7043   \n",
       "unique        7043          77       5               3                2   \n",
       "top     2041-JIJCI  2014-02-01      No  Month-to-month              Yes   \n",
       "freq             1         366    5174            3875             4171   \n",
       "mean           NaN         NaN     NaN             NaN              NaN   \n",
       "std            NaN         NaN     NaN             NaN              NaN   \n",
       "min            NaN         NaN     NaN             NaN              NaN   \n",
       "25%            NaN         NaN     NaN             NaN              NaN   \n",
       "50%            NaN         NaN     NaN             NaN              NaN   \n",
       "75%            NaN         NaN     NaN             NaN              NaN   \n",
       "max            NaN         NaN     NaN             NaN              NaN   \n",
       "\n",
       "           PaymentMethod  MonthlyCharges TotalCharges  \n",
       "count               7043     7043.000000         7043  \n",
       "unique                 4             NaN         6531  \n",
       "top     Electronic check             NaN               \n",
       "freq                2365             NaN           11  \n",
       "mean                 NaN       64.761692          NaN  \n",
       "std                  NaN       30.090047          NaN  \n",
       "min                  NaN       18.250000          NaN  \n",
       "25%                  NaN       35.500000          NaN  \n",
       "50%                  NaN       70.350000          NaN  \n",
       "75%                  NaN       89.850000          NaN  \n",
       "max                  NaN      118.750000          NaN  "
      ]
     },
     "execution_count": 11,
     "metadata": {},
     "output_type": "execute_result"
    }
   ],
   "source": [
    "contract.describe(include='all')"
   ]
  },
  {
   "cell_type": "code",
   "execution_count": 12,
   "metadata": {},
   "outputs": [
    {
     "data": {
      "text/html": [
       "<div>\n",
       "<style scoped>\n",
       "    .dataframe tbody tr th:only-of-type {\n",
       "        vertical-align: middle;\n",
       "    }\n",
       "\n",
       "    .dataframe tbody tr th {\n",
       "        vertical-align: top;\n",
       "    }\n",
       "\n",
       "    .dataframe thead th {\n",
       "        text-align: right;\n",
       "    }\n",
       "</style>\n",
       "<table border=\"1\" class=\"dataframe\">\n",
       "  <thead>\n",
       "    <tr style=\"text-align: right;\">\n",
       "      <th></th>\n",
       "      <th>customerID</th>\n",
       "      <th>gender</th>\n",
       "      <th>SeniorCitizen</th>\n",
       "      <th>Partner</th>\n",
       "      <th>Dependents</th>\n",
       "    </tr>\n",
       "  </thead>\n",
       "  <tbody>\n",
       "    <tr>\n",
       "      <td>count</td>\n",
       "      <td>7043</td>\n",
       "      <td>7043</td>\n",
       "      <td>7043.000000</td>\n",
       "      <td>7043</td>\n",
       "      <td>7043</td>\n",
       "    </tr>\n",
       "    <tr>\n",
       "      <td>unique</td>\n",
       "      <td>7043</td>\n",
       "      <td>2</td>\n",
       "      <td>NaN</td>\n",
       "      <td>2</td>\n",
       "      <td>2</td>\n",
       "    </tr>\n",
       "    <tr>\n",
       "      <td>top</td>\n",
       "      <td>2041-JIJCI</td>\n",
       "      <td>Male</td>\n",
       "      <td>NaN</td>\n",
       "      <td>No</td>\n",
       "      <td>No</td>\n",
       "    </tr>\n",
       "    <tr>\n",
       "      <td>freq</td>\n",
       "      <td>1</td>\n",
       "      <td>3555</td>\n",
       "      <td>NaN</td>\n",
       "      <td>3641</td>\n",
       "      <td>4933</td>\n",
       "    </tr>\n",
       "    <tr>\n",
       "      <td>mean</td>\n",
       "      <td>NaN</td>\n",
       "      <td>NaN</td>\n",
       "      <td>0.162147</td>\n",
       "      <td>NaN</td>\n",
       "      <td>NaN</td>\n",
       "    </tr>\n",
       "    <tr>\n",
       "      <td>std</td>\n",
       "      <td>NaN</td>\n",
       "      <td>NaN</td>\n",
       "      <td>0.368612</td>\n",
       "      <td>NaN</td>\n",
       "      <td>NaN</td>\n",
       "    </tr>\n",
       "    <tr>\n",
       "      <td>min</td>\n",
       "      <td>NaN</td>\n",
       "      <td>NaN</td>\n",
       "      <td>0.000000</td>\n",
       "      <td>NaN</td>\n",
       "      <td>NaN</td>\n",
       "    </tr>\n",
       "    <tr>\n",
       "      <td>25%</td>\n",
       "      <td>NaN</td>\n",
       "      <td>NaN</td>\n",
       "      <td>0.000000</td>\n",
       "      <td>NaN</td>\n",
       "      <td>NaN</td>\n",
       "    </tr>\n",
       "    <tr>\n",
       "      <td>50%</td>\n",
       "      <td>NaN</td>\n",
       "      <td>NaN</td>\n",
       "      <td>0.000000</td>\n",
       "      <td>NaN</td>\n",
       "      <td>NaN</td>\n",
       "    </tr>\n",
       "    <tr>\n",
       "      <td>75%</td>\n",
       "      <td>NaN</td>\n",
       "      <td>NaN</td>\n",
       "      <td>0.000000</td>\n",
       "      <td>NaN</td>\n",
       "      <td>NaN</td>\n",
       "    </tr>\n",
       "    <tr>\n",
       "      <td>max</td>\n",
       "      <td>NaN</td>\n",
       "      <td>NaN</td>\n",
       "      <td>1.000000</td>\n",
       "      <td>NaN</td>\n",
       "      <td>NaN</td>\n",
       "    </tr>\n",
       "  </tbody>\n",
       "</table>\n",
       "</div>"
      ],
      "text/plain": [
       "        customerID gender  SeniorCitizen Partner Dependents\n",
       "count         7043   7043    7043.000000    7043       7043\n",
       "unique        7043      2            NaN       2          2\n",
       "top     2041-JIJCI   Male            NaN      No         No\n",
       "freq             1   3555            NaN    3641       4933\n",
       "mean           NaN    NaN       0.162147     NaN        NaN\n",
       "std            NaN    NaN       0.368612     NaN        NaN\n",
       "min            NaN    NaN       0.000000     NaN        NaN\n",
       "25%            NaN    NaN       0.000000     NaN        NaN\n",
       "50%            NaN    NaN       0.000000     NaN        NaN\n",
       "75%            NaN    NaN       0.000000     NaN        NaN\n",
       "max            NaN    NaN       1.000000     NaN        NaN"
      ]
     },
     "execution_count": 12,
     "metadata": {},
     "output_type": "execute_result"
    }
   ],
   "source": [
    "personal.describe(include='all')"
   ]
  },
  {
   "cell_type": "code",
   "execution_count": 13,
   "metadata": {},
   "outputs": [
    {
     "data": {
      "text/html": [
       "<div>\n",
       "<style scoped>\n",
       "    .dataframe tbody tr th:only-of-type {\n",
       "        vertical-align: middle;\n",
       "    }\n",
       "\n",
       "    .dataframe tbody tr th {\n",
       "        vertical-align: top;\n",
       "    }\n",
       "\n",
       "    .dataframe thead th {\n",
       "        text-align: right;\n",
       "    }\n",
       "</style>\n",
       "<table border=\"1\" class=\"dataframe\">\n",
       "  <thead>\n",
       "    <tr style=\"text-align: right;\">\n",
       "      <th></th>\n",
       "      <th>customerID</th>\n",
       "      <th>InternetService</th>\n",
       "      <th>OnlineSecurity</th>\n",
       "      <th>OnlineBackup</th>\n",
       "      <th>DeviceProtection</th>\n",
       "      <th>TechSupport</th>\n",
       "      <th>StreamingTV</th>\n",
       "      <th>StreamingMovies</th>\n",
       "    </tr>\n",
       "  </thead>\n",
       "  <tbody>\n",
       "    <tr>\n",
       "      <td>count</td>\n",
       "      <td>5517</td>\n",
       "      <td>5517</td>\n",
       "      <td>5517</td>\n",
       "      <td>5517</td>\n",
       "      <td>5517</td>\n",
       "      <td>5517</td>\n",
       "      <td>5517</td>\n",
       "      <td>5517</td>\n",
       "    </tr>\n",
       "    <tr>\n",
       "      <td>unique</td>\n",
       "      <td>5517</td>\n",
       "      <td>2</td>\n",
       "      <td>2</td>\n",
       "      <td>2</td>\n",
       "      <td>2</td>\n",
       "      <td>2</td>\n",
       "      <td>2</td>\n",
       "      <td>2</td>\n",
       "    </tr>\n",
       "    <tr>\n",
       "      <td>top</td>\n",
       "      <td>2041-JIJCI</td>\n",
       "      <td>Fiber optic</td>\n",
       "      <td>No</td>\n",
       "      <td>No</td>\n",
       "      <td>No</td>\n",
       "      <td>No</td>\n",
       "      <td>No</td>\n",
       "      <td>No</td>\n",
       "    </tr>\n",
       "    <tr>\n",
       "      <td>freq</td>\n",
       "      <td>1</td>\n",
       "      <td>3096</td>\n",
       "      <td>3498</td>\n",
       "      <td>3088</td>\n",
       "      <td>3095</td>\n",
       "      <td>3473</td>\n",
       "      <td>2810</td>\n",
       "      <td>2785</td>\n",
       "    </tr>\n",
       "  </tbody>\n",
       "</table>\n",
       "</div>"
      ],
      "text/plain": [
       "        customerID InternetService OnlineSecurity OnlineBackup  \\\n",
       "count         5517            5517           5517         5517   \n",
       "unique        5517               2              2            2   \n",
       "top     2041-JIJCI     Fiber optic             No           No   \n",
       "freq             1            3096           3498         3088   \n",
       "\n",
       "       DeviceProtection TechSupport StreamingTV StreamingMovies  \n",
       "count              5517        5517        5517            5517  \n",
       "unique                2           2           2               2  \n",
       "top                  No          No          No              No  \n",
       "freq               3095        3473        2810            2785  "
      ]
     },
     "execution_count": 13,
     "metadata": {},
     "output_type": "execute_result"
    }
   ],
   "source": [
    "internet.describe()"
   ]
  },
  {
   "cell_type": "code",
   "execution_count": 14,
   "metadata": {},
   "outputs": [
    {
     "data": {
      "text/html": [
       "<div>\n",
       "<style scoped>\n",
       "    .dataframe tbody tr th:only-of-type {\n",
       "        vertical-align: middle;\n",
       "    }\n",
       "\n",
       "    .dataframe tbody tr th {\n",
       "        vertical-align: top;\n",
       "    }\n",
       "\n",
       "    .dataframe thead th {\n",
       "        text-align: right;\n",
       "    }\n",
       "</style>\n",
       "<table border=\"1\" class=\"dataframe\">\n",
       "  <thead>\n",
       "    <tr style=\"text-align: right;\">\n",
       "      <th></th>\n",
       "      <th>customerID</th>\n",
       "      <th>MultipleLines</th>\n",
       "    </tr>\n",
       "  </thead>\n",
       "  <tbody>\n",
       "    <tr>\n",
       "      <td>count</td>\n",
       "      <td>6361</td>\n",
       "      <td>6361</td>\n",
       "    </tr>\n",
       "    <tr>\n",
       "      <td>unique</td>\n",
       "      <td>6361</td>\n",
       "      <td>2</td>\n",
       "    </tr>\n",
       "    <tr>\n",
       "      <td>top</td>\n",
       "      <td>2041-JIJCI</td>\n",
       "      <td>No</td>\n",
       "    </tr>\n",
       "    <tr>\n",
       "      <td>freq</td>\n",
       "      <td>1</td>\n",
       "      <td>3390</td>\n",
       "    </tr>\n",
       "  </tbody>\n",
       "</table>\n",
       "</div>"
      ],
      "text/plain": [
       "        customerID MultipleLines\n",
       "count         6361          6361\n",
       "unique        6361             2\n",
       "top     2041-JIJCI            No\n",
       "freq             1          3390"
      ]
     },
     "execution_count": 14,
     "metadata": {},
     "output_type": "execute_result"
    }
   ],
   "source": [
    "phone.describe()"
   ]
  },
  {
   "cell_type": "markdown",
   "metadata": {},
   "source": [
    "Также выведем несколько случайных строк для того, чтобы поближе посмотреть на датасеты."
   ]
  },
  {
   "cell_type": "code",
   "execution_count": 15,
   "metadata": {},
   "outputs": [
    {
     "data": {
      "text/html": [
       "<div>\n",
       "<style scoped>\n",
       "    .dataframe tbody tr th:only-of-type {\n",
       "        vertical-align: middle;\n",
       "    }\n",
       "\n",
       "    .dataframe tbody tr th {\n",
       "        vertical-align: top;\n",
       "    }\n",
       "\n",
       "    .dataframe thead th {\n",
       "        text-align: right;\n",
       "    }\n",
       "</style>\n",
       "<table border=\"1\" class=\"dataframe\">\n",
       "  <thead>\n",
       "    <tr style=\"text-align: right;\">\n",
       "      <th></th>\n",
       "      <th>customerID</th>\n",
       "      <th>BeginDate</th>\n",
       "      <th>EndDate</th>\n",
       "      <th>Type</th>\n",
       "      <th>PaperlessBilling</th>\n",
       "      <th>PaymentMethod</th>\n",
       "      <th>MonthlyCharges</th>\n",
       "      <th>TotalCharges</th>\n",
       "    </tr>\n",
       "  </thead>\n",
       "  <tbody>\n",
       "    <tr>\n",
       "      <td>185</td>\n",
       "      <td>1024-GUALD</td>\n",
       "      <td>2019-10-01</td>\n",
       "      <td>2019-11-01 00:00:00</td>\n",
       "      <td>Month-to-month</td>\n",
       "      <td>Yes</td>\n",
       "      <td>Electronic check</td>\n",
       "      <td>24.80</td>\n",
       "      <td>24.8</td>\n",
       "    </tr>\n",
       "    <tr>\n",
       "      <td>2715</td>\n",
       "      <td>0484-JPBRU</td>\n",
       "      <td>2016-09-01</td>\n",
       "      <td>No</td>\n",
       "      <td>Month-to-month</td>\n",
       "      <td>Yes</td>\n",
       "      <td>Bank transfer (automatic)</td>\n",
       "      <td>25.25</td>\n",
       "      <td>996.45</td>\n",
       "    </tr>\n",
       "    <tr>\n",
       "      <td>3825</td>\n",
       "      <td>3620-EHIMZ</td>\n",
       "      <td>2015-10-01</td>\n",
       "      <td>No</td>\n",
       "      <td>Two year</td>\n",
       "      <td>No</td>\n",
       "      <td>Mailed check</td>\n",
       "      <td>19.35</td>\n",
       "      <td>1031.7</td>\n",
       "    </tr>\n",
       "    <tr>\n",
       "      <td>1807</td>\n",
       "      <td>6910-HADCM</td>\n",
       "      <td>2019-09-01</td>\n",
       "      <td>2019-10-01 00:00:00</td>\n",
       "      <td>Month-to-month</td>\n",
       "      <td>No</td>\n",
       "      <td>Electronic check</td>\n",
       "      <td>76.35</td>\n",
       "      <td>76.35</td>\n",
       "    </tr>\n",
       "    <tr>\n",
       "      <td>132</td>\n",
       "      <td>8587-XYZSF</td>\n",
       "      <td>2014-07-01</td>\n",
       "      <td>No</td>\n",
       "      <td>Two year</td>\n",
       "      <td>No</td>\n",
       "      <td>Bank transfer (automatic)</td>\n",
       "      <td>50.55</td>\n",
       "      <td>3260.1</td>\n",
       "    </tr>\n",
       "    <tr>\n",
       "      <td>1263</td>\n",
       "      <td>6818-WOBHJ</td>\n",
       "      <td>2014-05-01</td>\n",
       "      <td>2020-01-01 00:00:00</td>\n",
       "      <td>Month-to-month</td>\n",
       "      <td>Yes</td>\n",
       "      <td>Bank transfer (automatic)</td>\n",
       "      <td>89.60</td>\n",
       "      <td>6127.6</td>\n",
       "    </tr>\n",
       "    <tr>\n",
       "      <td>3732</td>\n",
       "      <td>3082-YVEKW</td>\n",
       "      <td>2018-03-01</td>\n",
       "      <td>No</td>\n",
       "      <td>Two year</td>\n",
       "      <td>Yes</td>\n",
       "      <td>Bank transfer (automatic)</td>\n",
       "      <td>77.15</td>\n",
       "      <td>1759.4</td>\n",
       "    </tr>\n",
       "    <tr>\n",
       "      <td>1672</td>\n",
       "      <td>4737-AQCPU</td>\n",
       "      <td>2014-02-01</td>\n",
       "      <td>No</td>\n",
       "      <td>Two year</td>\n",
       "      <td>No</td>\n",
       "      <td>Credit card (automatic)</td>\n",
       "      <td>72.10</td>\n",
       "      <td>5016.65</td>\n",
       "    </tr>\n",
       "    <tr>\n",
       "      <td>811</td>\n",
       "      <td>4853-RULSV</td>\n",
       "      <td>2014-02-01</td>\n",
       "      <td>2019-12-01 00:00:00</td>\n",
       "      <td>Two year</td>\n",
       "      <td>Yes</td>\n",
       "      <td>Credit card (automatic)</td>\n",
       "      <td>104.00</td>\n",
       "      <td>7250.15</td>\n",
       "    </tr>\n",
       "    <tr>\n",
       "      <td>2526</td>\n",
       "      <td>5766-ZJYBB</td>\n",
       "      <td>2019-11-01</td>\n",
       "      <td>2019-12-01 00:00:00</td>\n",
       "      <td>Month-to-month</td>\n",
       "      <td>No</td>\n",
       "      <td>Mailed check</td>\n",
       "      <td>19.40</td>\n",
       "      <td>19.4</td>\n",
       "    </tr>\n",
       "  </tbody>\n",
       "</table>\n",
       "</div>"
      ],
      "text/plain": [
       "      customerID   BeginDate              EndDate            Type  \\\n",
       "185   1024-GUALD  2019-10-01  2019-11-01 00:00:00  Month-to-month   \n",
       "2715  0484-JPBRU  2016-09-01                   No  Month-to-month   \n",
       "3825  3620-EHIMZ  2015-10-01                   No        Two year   \n",
       "1807  6910-HADCM  2019-09-01  2019-10-01 00:00:00  Month-to-month   \n",
       "132   8587-XYZSF  2014-07-01                   No        Two year   \n",
       "1263  6818-WOBHJ  2014-05-01  2020-01-01 00:00:00  Month-to-month   \n",
       "3732  3082-YVEKW  2018-03-01                   No        Two year   \n",
       "1672  4737-AQCPU  2014-02-01                   No        Two year   \n",
       "811   4853-RULSV  2014-02-01  2019-12-01 00:00:00        Two year   \n",
       "2526  5766-ZJYBB  2019-11-01  2019-12-01 00:00:00  Month-to-month   \n",
       "\n",
       "     PaperlessBilling              PaymentMethod  MonthlyCharges TotalCharges  \n",
       "185               Yes           Electronic check           24.80         24.8  \n",
       "2715              Yes  Bank transfer (automatic)           25.25       996.45  \n",
       "3825               No               Mailed check           19.35       1031.7  \n",
       "1807               No           Electronic check           76.35        76.35  \n",
       "132                No  Bank transfer (automatic)           50.55       3260.1  \n",
       "1263              Yes  Bank transfer (automatic)           89.60       6127.6  \n",
       "3732              Yes  Bank transfer (automatic)           77.15       1759.4  \n",
       "1672               No    Credit card (automatic)           72.10      5016.65  \n",
       "811               Yes    Credit card (automatic)          104.00      7250.15  \n",
       "2526               No               Mailed check           19.40         19.4  "
      ]
     },
     "execution_count": 15,
     "metadata": {},
     "output_type": "execute_result"
    }
   ],
   "source": [
    "contract.sample(n=10, random_state=42)"
   ]
  },
  {
   "cell_type": "code",
   "execution_count": 16,
   "metadata": {},
   "outputs": [
    {
     "data": {
      "text/html": [
       "<div>\n",
       "<style scoped>\n",
       "    .dataframe tbody tr th:only-of-type {\n",
       "        vertical-align: middle;\n",
       "    }\n",
       "\n",
       "    .dataframe tbody tr th {\n",
       "        vertical-align: top;\n",
       "    }\n",
       "\n",
       "    .dataframe thead th {\n",
       "        text-align: right;\n",
       "    }\n",
       "</style>\n",
       "<table border=\"1\" class=\"dataframe\">\n",
       "  <thead>\n",
       "    <tr style=\"text-align: right;\">\n",
       "      <th></th>\n",
       "      <th>customerID</th>\n",
       "      <th>gender</th>\n",
       "      <th>SeniorCitizen</th>\n",
       "      <th>Partner</th>\n",
       "      <th>Dependents</th>\n",
       "    </tr>\n",
       "  </thead>\n",
       "  <tbody>\n",
       "    <tr>\n",
       "      <td>185</td>\n",
       "      <td>1024-GUALD</td>\n",
       "      <td>Female</td>\n",
       "      <td>0</td>\n",
       "      <td>Yes</td>\n",
       "      <td>No</td>\n",
       "    </tr>\n",
       "    <tr>\n",
       "      <td>2715</td>\n",
       "      <td>0484-JPBRU</td>\n",
       "      <td>Male</td>\n",
       "      <td>0</td>\n",
       "      <td>No</td>\n",
       "      <td>No</td>\n",
       "    </tr>\n",
       "    <tr>\n",
       "      <td>3825</td>\n",
       "      <td>3620-EHIMZ</td>\n",
       "      <td>Female</td>\n",
       "      <td>0</td>\n",
       "      <td>Yes</td>\n",
       "      <td>Yes</td>\n",
       "    </tr>\n",
       "    <tr>\n",
       "      <td>1807</td>\n",
       "      <td>6910-HADCM</td>\n",
       "      <td>Female</td>\n",
       "      <td>0</td>\n",
       "      <td>No</td>\n",
       "      <td>No</td>\n",
       "    </tr>\n",
       "    <tr>\n",
       "      <td>132</td>\n",
       "      <td>8587-XYZSF</td>\n",
       "      <td>Male</td>\n",
       "      <td>0</td>\n",
       "      <td>No</td>\n",
       "      <td>No</td>\n",
       "    </tr>\n",
       "    <tr>\n",
       "      <td>1263</td>\n",
       "      <td>6818-WOBHJ</td>\n",
       "      <td>Female</td>\n",
       "      <td>1</td>\n",
       "      <td>Yes</td>\n",
       "      <td>No</td>\n",
       "    </tr>\n",
       "    <tr>\n",
       "      <td>3732</td>\n",
       "      <td>3082-YVEKW</td>\n",
       "      <td>Female</td>\n",
       "      <td>0</td>\n",
       "      <td>Yes</td>\n",
       "      <td>Yes</td>\n",
       "    </tr>\n",
       "    <tr>\n",
       "      <td>1672</td>\n",
       "      <td>4737-AQCPU</td>\n",
       "      <td>Male</td>\n",
       "      <td>0</td>\n",
       "      <td>Yes</td>\n",
       "      <td>Yes</td>\n",
       "    </tr>\n",
       "    <tr>\n",
       "      <td>811</td>\n",
       "      <td>4853-RULSV</td>\n",
       "      <td>Male</td>\n",
       "      <td>0</td>\n",
       "      <td>No</td>\n",
       "      <td>No</td>\n",
       "    </tr>\n",
       "    <tr>\n",
       "      <td>2526</td>\n",
       "      <td>5766-ZJYBB</td>\n",
       "      <td>Male</td>\n",
       "      <td>0</td>\n",
       "      <td>No</td>\n",
       "      <td>No</td>\n",
       "    </tr>\n",
       "  </tbody>\n",
       "</table>\n",
       "</div>"
      ],
      "text/plain": [
       "      customerID  gender  SeniorCitizen Partner Dependents\n",
       "185   1024-GUALD  Female              0     Yes         No\n",
       "2715  0484-JPBRU    Male              0      No         No\n",
       "3825  3620-EHIMZ  Female              0     Yes        Yes\n",
       "1807  6910-HADCM  Female              0      No         No\n",
       "132   8587-XYZSF    Male              0      No         No\n",
       "1263  6818-WOBHJ  Female              1     Yes         No\n",
       "3732  3082-YVEKW  Female              0     Yes        Yes\n",
       "1672  4737-AQCPU    Male              0     Yes        Yes\n",
       "811   4853-RULSV    Male              0      No         No\n",
       "2526  5766-ZJYBB    Male              0      No         No"
      ]
     },
     "execution_count": 16,
     "metadata": {},
     "output_type": "execute_result"
    }
   ],
   "source": [
    "personal.sample(n=10, random_state=42)"
   ]
  },
  {
   "cell_type": "code",
   "execution_count": 17,
   "metadata": {},
   "outputs": [
    {
     "data": {
      "text/html": [
       "<div>\n",
       "<style scoped>\n",
       "    .dataframe tbody tr th:only-of-type {\n",
       "        vertical-align: middle;\n",
       "    }\n",
       "\n",
       "    .dataframe tbody tr th {\n",
       "        vertical-align: top;\n",
       "    }\n",
       "\n",
       "    .dataframe thead th {\n",
       "        text-align: right;\n",
       "    }\n",
       "</style>\n",
       "<table border=\"1\" class=\"dataframe\">\n",
       "  <thead>\n",
       "    <tr style=\"text-align: right;\">\n",
       "      <th></th>\n",
       "      <th>customerID</th>\n",
       "      <th>InternetService</th>\n",
       "      <th>OnlineSecurity</th>\n",
       "      <th>OnlineBackup</th>\n",
       "      <th>DeviceProtection</th>\n",
       "      <th>TechSupport</th>\n",
       "      <th>StreamingTV</th>\n",
       "      <th>StreamingMovies</th>\n",
       "    </tr>\n",
       "  </thead>\n",
       "  <tbody>\n",
       "    <tr>\n",
       "      <td>1615</td>\n",
       "      <td>1170-SASML</td>\n",
       "      <td>Fiber optic</td>\n",
       "      <td>No</td>\n",
       "      <td>Yes</td>\n",
       "      <td>Yes</td>\n",
       "      <td>No</td>\n",
       "      <td>No</td>\n",
       "      <td>No</td>\n",
       "    </tr>\n",
       "    <tr>\n",
       "      <td>1874</td>\n",
       "      <td>9314-QDMDW</td>\n",
       "      <td>DSL</td>\n",
       "      <td>No</td>\n",
       "      <td>Yes</td>\n",
       "      <td>No</td>\n",
       "      <td>No</td>\n",
       "      <td>Yes</td>\n",
       "      <td>No</td>\n",
       "    </tr>\n",
       "    <tr>\n",
       "      <td>3167</td>\n",
       "      <td>2434-EEVDB</td>\n",
       "      <td>Fiber optic</td>\n",
       "      <td>Yes</td>\n",
       "      <td>No</td>\n",
       "      <td>Yes</td>\n",
       "      <td>No</td>\n",
       "      <td>Yes</td>\n",
       "      <td>No</td>\n",
       "    </tr>\n",
       "    <tr>\n",
       "      <td>5287</td>\n",
       "      <td>7672-VFMXZ</td>\n",
       "      <td>DSL</td>\n",
       "      <td>Yes</td>\n",
       "      <td>No</td>\n",
       "      <td>No</td>\n",
       "      <td>Yes</td>\n",
       "      <td>No</td>\n",
       "      <td>No</td>\n",
       "    </tr>\n",
       "    <tr>\n",
       "      <td>4770</td>\n",
       "      <td>7445-WMRBW</td>\n",
       "      <td>DSL</td>\n",
       "      <td>No</td>\n",
       "      <td>Yes</td>\n",
       "      <td>Yes</td>\n",
       "      <td>Yes</td>\n",
       "      <td>Yes</td>\n",
       "      <td>No</td>\n",
       "    </tr>\n",
       "    <tr>\n",
       "      <td>3660</td>\n",
       "      <td>7036-ZZKBD</td>\n",
       "      <td>DSL</td>\n",
       "      <td>No</td>\n",
       "      <td>No</td>\n",
       "      <td>Yes</td>\n",
       "      <td>Yes</td>\n",
       "      <td>No</td>\n",
       "      <td>Yes</td>\n",
       "    </tr>\n",
       "    <tr>\n",
       "      <td>2943</td>\n",
       "      <td>7479-NITWS</td>\n",
       "      <td>Fiber optic</td>\n",
       "      <td>No</td>\n",
       "      <td>No</td>\n",
       "      <td>Yes</td>\n",
       "      <td>No</td>\n",
       "      <td>Yes</td>\n",
       "      <td>No</td>\n",
       "    </tr>\n",
       "    <tr>\n",
       "      <td>1471</td>\n",
       "      <td>3062-ICYZQ</td>\n",
       "      <td>Fiber optic</td>\n",
       "      <td>Yes</td>\n",
       "      <td>Yes</td>\n",
       "      <td>No</td>\n",
       "      <td>No</td>\n",
       "      <td>No</td>\n",
       "      <td>Yes</td>\n",
       "    </tr>\n",
       "    <tr>\n",
       "      <td>2459</td>\n",
       "      <td>5924-IFQTT</td>\n",
       "      <td>DSL</td>\n",
       "      <td>No</td>\n",
       "      <td>Yes</td>\n",
       "      <td>Yes</td>\n",
       "      <td>Yes</td>\n",
       "      <td>Yes</td>\n",
       "      <td>No</td>\n",
       "    </tr>\n",
       "    <tr>\n",
       "      <td>3226</td>\n",
       "      <td>4826-TZEVA</td>\n",
       "      <td>Fiber optic</td>\n",
       "      <td>No</td>\n",
       "      <td>Yes</td>\n",
       "      <td>No</td>\n",
       "      <td>No</td>\n",
       "      <td>No</td>\n",
       "      <td>No</td>\n",
       "    </tr>\n",
       "  </tbody>\n",
       "</table>\n",
       "</div>"
      ],
      "text/plain": [
       "      customerID InternetService OnlineSecurity OnlineBackup DeviceProtection  \\\n",
       "1615  1170-SASML     Fiber optic             No          Yes              Yes   \n",
       "1874  9314-QDMDW             DSL             No          Yes               No   \n",
       "3167  2434-EEVDB     Fiber optic            Yes           No              Yes   \n",
       "5287  7672-VFMXZ             DSL            Yes           No               No   \n",
       "4770  7445-WMRBW             DSL             No          Yes              Yes   \n",
       "3660  7036-ZZKBD             DSL             No           No              Yes   \n",
       "2943  7479-NITWS     Fiber optic             No           No              Yes   \n",
       "1471  3062-ICYZQ     Fiber optic            Yes          Yes               No   \n",
       "2459  5924-IFQTT             DSL             No          Yes              Yes   \n",
       "3226  4826-TZEVA     Fiber optic             No          Yes               No   \n",
       "\n",
       "     TechSupport StreamingTV StreamingMovies  \n",
       "1615          No          No              No  \n",
       "1874          No         Yes              No  \n",
       "3167          No         Yes              No  \n",
       "5287         Yes          No              No  \n",
       "4770         Yes         Yes              No  \n",
       "3660         Yes          No             Yes  \n",
       "2943          No         Yes              No  \n",
       "1471          No          No             Yes  \n",
       "2459         Yes         Yes              No  \n",
       "3226          No          No              No  "
      ]
     },
     "execution_count": 17,
     "metadata": {},
     "output_type": "execute_result"
    }
   ],
   "source": [
    "internet.sample(n=10, random_state=42)"
   ]
  },
  {
   "cell_type": "code",
   "execution_count": 18,
   "metadata": {},
   "outputs": [
    {
     "data": {
      "text/html": [
       "<div>\n",
       "<style scoped>\n",
       "    .dataframe tbody tr th:only-of-type {\n",
       "        vertical-align: middle;\n",
       "    }\n",
       "\n",
       "    .dataframe tbody tr th {\n",
       "        vertical-align: top;\n",
       "    }\n",
       "\n",
       "    .dataframe thead th {\n",
       "        text-align: right;\n",
       "    }\n",
       "</style>\n",
       "<table border=\"1\" class=\"dataframe\">\n",
       "  <thead>\n",
       "    <tr style=\"text-align: right;\">\n",
       "      <th></th>\n",
       "      <th>customerID</th>\n",
       "      <th>MultipleLines</th>\n",
       "    </tr>\n",
       "  </thead>\n",
       "  <tbody>\n",
       "    <tr>\n",
       "      <td>4743</td>\n",
       "      <td>5887-IKKYO</td>\n",
       "      <td>Yes</td>\n",
       "    </tr>\n",
       "    <tr>\n",
       "      <td>4825</td>\n",
       "      <td>7718-UPSKJ</td>\n",
       "      <td>No</td>\n",
       "    </tr>\n",
       "    <tr>\n",
       "      <td>472</td>\n",
       "      <td>3571-DPYUH</td>\n",
       "      <td>Yes</td>\n",
       "    </tr>\n",
       "    <tr>\n",
       "      <td>2722</td>\n",
       "      <td>3769-MHZNV</td>\n",
       "      <td>No</td>\n",
       "    </tr>\n",
       "    <tr>\n",
       "      <td>932</td>\n",
       "      <td>6732-FZUGP</td>\n",
       "      <td>Yes</td>\n",
       "    </tr>\n",
       "    <tr>\n",
       "      <td>4414</td>\n",
       "      <td>0868-VJRDR</td>\n",
       "      <td>No</td>\n",
       "    </tr>\n",
       "    <tr>\n",
       "      <td>3011</td>\n",
       "      <td>6685-GBWJZ</td>\n",
       "      <td>No</td>\n",
       "    </tr>\n",
       "    <tr>\n",
       "      <td>5811</td>\n",
       "      <td>2486-WYVVE</td>\n",
       "      <td>Yes</td>\n",
       "    </tr>\n",
       "    <tr>\n",
       "      <td>3784</td>\n",
       "      <td>9025-ZRPVR</td>\n",
       "      <td>No</td>\n",
       "    </tr>\n",
       "    <tr>\n",
       "      <td>4700</td>\n",
       "      <td>5727-MYATE</td>\n",
       "      <td>Yes</td>\n",
       "    </tr>\n",
       "  </tbody>\n",
       "</table>\n",
       "</div>"
      ],
      "text/plain": [
       "      customerID MultipleLines\n",
       "4743  5887-IKKYO           Yes\n",
       "4825  7718-UPSKJ            No\n",
       "472   3571-DPYUH           Yes\n",
       "2722  3769-MHZNV            No\n",
       "932   6732-FZUGP           Yes\n",
       "4414  0868-VJRDR            No\n",
       "3011  6685-GBWJZ            No\n",
       "5811  2486-WYVVE           Yes\n",
       "3784  9025-ZRPVR            No\n",
       "4700  5727-MYATE           Yes"
      ]
     },
     "execution_count": 18,
     "metadata": {},
     "output_type": "execute_result"
    }
   ],
   "source": [
    "phone.sample(n=10, random_state=42)"
   ]
  },
  {
   "cell_type": "markdown",
   "metadata": {},
   "source": [
    "<a id='Вывод_1'></a>"
   ]
  },
  {
   "cell_type": "markdown",
   "metadata": {},
   "source": [
    "### <p style=\"text-align:center\"> Вывод</p>"
   ]
  },
  {
   "cell_type": "markdown",
   "metadata": {},
   "source": [
    "##### В ходе первичного анализа данных были  сделаны следующие выводы:\n",
    "\n",
    "___\n",
    "\n",
    "\n",
    "1. Для большего удобства данные можно свести в один датасет.\n",
    "\n",
    "\n",
    "2. Заметили пропуски в столбце TotalCharges. Связаны с тем, что пользователи новые и еще ничего не платили.\n",
    "\n",
    "\n",
    "2. После консультации осталось несколько вопросов:\n",
    "    \n",
    "    - на консультации было сказано, что после генерации признака life time необходимо удалить признаки BeginDate и EndDate. Можешь развернуть немного подробнее зачем именно это необходимо делать или же это просто история про корреляцию?\n",
    "    \n",
    "    - заполнять пропуски собираюсь -1, есть более адекватное решение на твой взгляд?\n",
    "    \n",
    "    - в продолжение к предыдущему вопросу, появилась идея обучить несколько моделей отдельно для пользователей с интернетом и пользователей с телефонами, и затем объединить все это в одну большую модель, насколько это приемлемое решение?\n",
    "    \n",
    "\n",
    "4. Примерный план работы:\n",
    "    \n",
    "    - подготовка данных: приведение названий колонок к snake_case, заполнение пропусков, генерирование дополнительных фичей, удаление ненужной информации, кодирование признаков;\n",
    "    \n",
    "    - машинное обучение: применение моделей машинного обучения для решения поставленной задачи;\n",
    "    \n",
    "    - получение фидбека от рефьюера, исправление неточностей, отправление итогового проекта на проверку.\n",
    "\n",
    "\n",
    "___\n",
    "\n",
    "Таким образом было выполнено первичное ознакомление с предоставленной информацией, дефектов датасетов не выявлено, однако данные нуждаются в подготовке. Разберемся с этим в следующей части."
   ]
  },
  {
   "cell_type": "markdown",
   "metadata": {},
   "source": [
    " # Часть 2. Исследовательский анализ данных (EDA) </p>"
   ]
  },
  {
   "cell_type": "markdown",
   "metadata": {},
   "source": [
    "<a id='Работа с пропусками'></a>"
   ]
  },
  {
   "cell_type": "markdown",
   "metadata": {},
   "source": [
    "### <p style=\"text-align:center\"> Работа с пропусками</p>"
   ]
  },
  {
   "cell_type": "markdown",
   "metadata": {},
   "source": [
    "Разберемся с пропусками в столбце TotalCharges. Связаны пропуски с временем жизни пользователей."
   ]
  },
  {
   "cell_type": "code",
   "execution_count": 19,
   "metadata": {},
   "outputs": [
    {
     "data": {
      "text/html": [
       "<div>\n",
       "<style scoped>\n",
       "    .dataframe tbody tr th:only-of-type {\n",
       "        vertical-align: middle;\n",
       "    }\n",
       "\n",
       "    .dataframe tbody tr th {\n",
       "        vertical-align: top;\n",
       "    }\n",
       "\n",
       "    .dataframe thead th {\n",
       "        text-align: right;\n",
       "    }\n",
       "</style>\n",
       "<table border=\"1\" class=\"dataframe\">\n",
       "  <thead>\n",
       "    <tr style=\"text-align: right;\">\n",
       "      <th></th>\n",
       "      <th>customerID</th>\n",
       "      <th>BeginDate</th>\n",
       "      <th>EndDate</th>\n",
       "      <th>Type</th>\n",
       "      <th>PaperlessBilling</th>\n",
       "      <th>PaymentMethod</th>\n",
       "      <th>MonthlyCharges</th>\n",
       "      <th>TotalCharges</th>\n",
       "    </tr>\n",
       "  </thead>\n",
       "  <tbody>\n",
       "    <tr>\n",
       "      <td>488</td>\n",
       "      <td>4472-LVYGI</td>\n",
       "      <td>2020-02-01</td>\n",
       "      <td>No</td>\n",
       "      <td>Two year</td>\n",
       "      <td>Yes</td>\n",
       "      <td>Bank transfer (automatic)</td>\n",
       "      <td>52.55</td>\n",
       "      <td></td>\n",
       "    </tr>\n",
       "    <tr>\n",
       "      <td>753</td>\n",
       "      <td>3115-CZMZD</td>\n",
       "      <td>2020-02-01</td>\n",
       "      <td>No</td>\n",
       "      <td>Two year</td>\n",
       "      <td>No</td>\n",
       "      <td>Mailed check</td>\n",
       "      <td>20.25</td>\n",
       "      <td></td>\n",
       "    </tr>\n",
       "    <tr>\n",
       "      <td>936</td>\n",
       "      <td>5709-LVOEQ</td>\n",
       "      <td>2020-02-01</td>\n",
       "      <td>No</td>\n",
       "      <td>Two year</td>\n",
       "      <td>No</td>\n",
       "      <td>Mailed check</td>\n",
       "      <td>80.85</td>\n",
       "      <td></td>\n",
       "    </tr>\n",
       "    <tr>\n",
       "      <td>1082</td>\n",
       "      <td>4367-NUYAO</td>\n",
       "      <td>2020-02-01</td>\n",
       "      <td>No</td>\n",
       "      <td>Two year</td>\n",
       "      <td>No</td>\n",
       "      <td>Mailed check</td>\n",
       "      <td>25.75</td>\n",
       "      <td></td>\n",
       "    </tr>\n",
       "    <tr>\n",
       "      <td>1340</td>\n",
       "      <td>1371-DWPAZ</td>\n",
       "      <td>2020-02-01</td>\n",
       "      <td>No</td>\n",
       "      <td>Two year</td>\n",
       "      <td>No</td>\n",
       "      <td>Credit card (automatic)</td>\n",
       "      <td>56.05</td>\n",
       "      <td></td>\n",
       "    </tr>\n",
       "    <tr>\n",
       "      <td>3331</td>\n",
       "      <td>7644-OMVMY</td>\n",
       "      <td>2020-02-01</td>\n",
       "      <td>No</td>\n",
       "      <td>Two year</td>\n",
       "      <td>No</td>\n",
       "      <td>Mailed check</td>\n",
       "      <td>19.85</td>\n",
       "      <td></td>\n",
       "    </tr>\n",
       "    <tr>\n",
       "      <td>3826</td>\n",
       "      <td>3213-VVOLG</td>\n",
       "      <td>2020-02-01</td>\n",
       "      <td>No</td>\n",
       "      <td>Two year</td>\n",
       "      <td>No</td>\n",
       "      <td>Mailed check</td>\n",
       "      <td>25.35</td>\n",
       "      <td></td>\n",
       "    </tr>\n",
       "    <tr>\n",
       "      <td>4380</td>\n",
       "      <td>2520-SGTTA</td>\n",
       "      <td>2020-02-01</td>\n",
       "      <td>No</td>\n",
       "      <td>Two year</td>\n",
       "      <td>No</td>\n",
       "      <td>Mailed check</td>\n",
       "      <td>20.00</td>\n",
       "      <td></td>\n",
       "    </tr>\n",
       "    <tr>\n",
       "      <td>5218</td>\n",
       "      <td>2923-ARZLG</td>\n",
       "      <td>2020-02-01</td>\n",
       "      <td>No</td>\n",
       "      <td>One year</td>\n",
       "      <td>Yes</td>\n",
       "      <td>Mailed check</td>\n",
       "      <td>19.70</td>\n",
       "      <td></td>\n",
       "    </tr>\n",
       "    <tr>\n",
       "      <td>6670</td>\n",
       "      <td>4075-WKNIU</td>\n",
       "      <td>2020-02-01</td>\n",
       "      <td>No</td>\n",
       "      <td>Two year</td>\n",
       "      <td>No</td>\n",
       "      <td>Mailed check</td>\n",
       "      <td>73.35</td>\n",
       "      <td></td>\n",
       "    </tr>\n",
       "    <tr>\n",
       "      <td>6754</td>\n",
       "      <td>2775-SEFEE</td>\n",
       "      <td>2020-02-01</td>\n",
       "      <td>No</td>\n",
       "      <td>Two year</td>\n",
       "      <td>Yes</td>\n",
       "      <td>Bank transfer (automatic)</td>\n",
       "      <td>61.90</td>\n",
       "      <td></td>\n",
       "    </tr>\n",
       "  </tbody>\n",
       "</table>\n",
       "</div>"
      ],
      "text/plain": [
       "      customerID   BeginDate EndDate      Type PaperlessBilling  \\\n",
       "488   4472-LVYGI  2020-02-01      No  Two year              Yes   \n",
       "753   3115-CZMZD  2020-02-01      No  Two year               No   \n",
       "936   5709-LVOEQ  2020-02-01      No  Two year               No   \n",
       "1082  4367-NUYAO  2020-02-01      No  Two year               No   \n",
       "1340  1371-DWPAZ  2020-02-01      No  Two year               No   \n",
       "3331  7644-OMVMY  2020-02-01      No  Two year               No   \n",
       "3826  3213-VVOLG  2020-02-01      No  Two year               No   \n",
       "4380  2520-SGTTA  2020-02-01      No  Two year               No   \n",
       "5218  2923-ARZLG  2020-02-01      No  One year              Yes   \n",
       "6670  4075-WKNIU  2020-02-01      No  Two year               No   \n",
       "6754  2775-SEFEE  2020-02-01      No  Two year              Yes   \n",
       "\n",
       "                  PaymentMethod  MonthlyCharges TotalCharges  \n",
       "488   Bank transfer (automatic)           52.55               \n",
       "753                Mailed check           20.25               \n",
       "936                Mailed check           80.85               \n",
       "1082               Mailed check           25.75               \n",
       "1340    Credit card (automatic)           56.05               \n",
       "3331               Mailed check           19.85               \n",
       "3826               Mailed check           25.35               \n",
       "4380               Mailed check           20.00               \n",
       "5218               Mailed check           19.70               \n",
       "6670               Mailed check           73.35               \n",
       "6754  Bank transfer (automatic)           61.90               "
      ]
     },
     "execution_count": 19,
     "metadata": {},
     "output_type": "execute_result"
    }
   ],
   "source": [
    "contract[contract['TotalCharges'] == \" \"]"
   ]
  },
  {
   "cell_type": "code",
   "execution_count": 20,
   "metadata": {},
   "outputs": [],
   "source": [
    "contract = contract.replace(r'^\\s+$', 0, regex=True)"
   ]
  },
  {
   "cell_type": "markdown",
   "metadata": {},
   "source": [
    "<a id='Изменение типа данных'></a>"
   ]
  },
  {
   "cell_type": "markdown",
   "metadata": {},
   "source": [
    "### <p style=\"text-align:center\"> Изменение типа данных </p>"
   ]
  },
  {
   "cell_type": "markdown",
   "metadata": {},
   "source": [
    "Тип данных столбца TotalCharges не соответствует назначению."
   ]
  },
  {
   "cell_type": "code",
   "execution_count": 21,
   "metadata": {},
   "outputs": [],
   "source": [
    "contract['TotalCharges'] = pd.to_numeric(contract['TotalCharges'], errors='ignore')"
   ]
  },
  {
   "cell_type": "markdown",
   "metadata": {},
   "source": [
    "<a id='Подготовка данных'></a>"
   ]
  },
  {
   "cell_type": "markdown",
   "metadata": {},
   "source": [
    "### <p style=\"text-align:center\"> Подготовка данных </p>"
   ]
  },
  {
   "cell_type": "code",
   "execution_count": 22,
   "metadata": {},
   "outputs": [],
   "source": [
    "def make_it_snake_case(data):\n",
    "    '''Приводит названия колонок к snake_case'''\n",
    "    new_columns = []\n",
    "    for column in data.columns:\n",
    "        column = re.sub(r'([a-z0-9])([A-Z])', r'\\1_\\2', column).lower()\n",
    "        column = column.replace('__','_')\n",
    "        new_columns.append(column)\n",
    "    data.columns = new_columns\n",
    "    return data\n",
    "    \n",
    "def get_life_time(data, column_1, column_2, unloading_time):\n",
    "    '''Возвращает время жизни пользователя'''\n",
    "    try:\n",
    "        return (pd.to_datetime(data[column_2], format = '%Y-%m-%d') - (pd.to_datetime(data[column_1], format = '%Y-%m-%d'))).dt.days\n",
    "    except:\n",
    "        return (pd.to_datetime(unloading_time, format = '%Y-%m-%d') - (pd.to_datetime(data[column_1], format = '%Y-%m-%d'))).dt.days\n",
    "\n",
    "def make_additional_columns(data):\n",
    "    '''Создает вспомогательные колонки Exited и LifeTime'''\n",
    "    return data.assign(\n",
    "        Life_Time = lambda x: get_life_time(x, 'BeginDate', 'EndDate', '2020-02-01'),\n",
    "        Exited = lambda x: np.where(x['EndDate'] == 'No', 0, 1)\n",
    "    )"
   ]
  },
  {
   "cell_type": "markdown",
   "metadata": {},
   "source": [
    "Объединим все датасеты в один."
   ]
  },
  {
   "cell_type": "code",
   "execution_count": 23,
   "metadata": {},
   "outputs": [],
   "source": [
    "dfs_to_merge = [contract, personal, internet, phone]"
   ]
  },
  {
   "cell_type": "code",
   "execution_count": 24,
   "metadata": {},
   "outputs": [],
   "source": [
    "df = reduce(lambda left, right: pd.merge(left, right, how='outer'), dfs_to_merge).fillna('-1')"
   ]
  },
  {
   "cell_type": "code",
   "execution_count": 25,
   "metadata": {},
   "outputs": [],
   "source": [
    "columns_to_drop = ['begin_date', 'end_date', 'customer_id']"
   ]
  },
  {
   "cell_type": "code",
   "execution_count": 26,
   "metadata": {},
   "outputs": [],
   "source": [
    "prep_df = df.pipe(make_additional_columns).pipe(make_it_snake_case).drop(columns_to_drop, axis=1)"
   ]
  },
  {
   "cell_type": "markdown",
   "metadata": {},
   "source": [
    "Проверяем."
   ]
  },
  {
   "cell_type": "code",
   "execution_count": 27,
   "metadata": {
    "scrolled": false
   },
   "outputs": [
    {
     "data": {
      "text/html": [
       "<div>\n",
       "<style scoped>\n",
       "    .dataframe tbody tr th:only-of-type {\n",
       "        vertical-align: middle;\n",
       "    }\n",
       "\n",
       "    .dataframe tbody tr th {\n",
       "        vertical-align: top;\n",
       "    }\n",
       "\n",
       "    .dataframe thead th {\n",
       "        text-align: right;\n",
       "    }\n",
       "</style>\n",
       "<table border=\"1\" class=\"dataframe\">\n",
       "  <thead>\n",
       "    <tr style=\"text-align: right;\">\n",
       "      <th></th>\n",
       "      <th>type</th>\n",
       "      <th>paperless_billing</th>\n",
       "      <th>payment_method</th>\n",
       "      <th>monthly_charges</th>\n",
       "      <th>total_charges</th>\n",
       "      <th>gender</th>\n",
       "      <th>senior_citizen</th>\n",
       "      <th>partner</th>\n",
       "      <th>dependents</th>\n",
       "      <th>internet_service</th>\n",
       "      <th>online_security</th>\n",
       "      <th>online_backup</th>\n",
       "      <th>device_protection</th>\n",
       "      <th>tech_support</th>\n",
       "      <th>streaming_tv</th>\n",
       "      <th>streaming_movies</th>\n",
       "      <th>multiple_lines</th>\n",
       "      <th>life_time</th>\n",
       "      <th>exited</th>\n",
       "    </tr>\n",
       "  </thead>\n",
       "  <tbody>\n",
       "    <tr>\n",
       "      <td>0</td>\n",
       "      <td>Month-to-month</td>\n",
       "      <td>Yes</td>\n",
       "      <td>Electronic check</td>\n",
       "      <td>29.85</td>\n",
       "      <td>29.85</td>\n",
       "      <td>Female</td>\n",
       "      <td>0</td>\n",
       "      <td>Yes</td>\n",
       "      <td>No</td>\n",
       "      <td>DSL</td>\n",
       "      <td>No</td>\n",
       "      <td>Yes</td>\n",
       "      <td>No</td>\n",
       "      <td>No</td>\n",
       "      <td>No</td>\n",
       "      <td>No</td>\n",
       "      <td>-1</td>\n",
       "      <td>31</td>\n",
       "      <td>0</td>\n",
       "    </tr>\n",
       "    <tr>\n",
       "      <td>1</td>\n",
       "      <td>One year</td>\n",
       "      <td>No</td>\n",
       "      <td>Mailed check</td>\n",
       "      <td>56.95</td>\n",
       "      <td>1889.50</td>\n",
       "      <td>Male</td>\n",
       "      <td>0</td>\n",
       "      <td>No</td>\n",
       "      <td>No</td>\n",
       "      <td>DSL</td>\n",
       "      <td>Yes</td>\n",
       "      <td>No</td>\n",
       "      <td>Yes</td>\n",
       "      <td>No</td>\n",
       "      <td>No</td>\n",
       "      <td>No</td>\n",
       "      <td>No</td>\n",
       "      <td>1036</td>\n",
       "      <td>0</td>\n",
       "    </tr>\n",
       "    <tr>\n",
       "      <td>2</td>\n",
       "      <td>Month-to-month</td>\n",
       "      <td>Yes</td>\n",
       "      <td>Mailed check</td>\n",
       "      <td>53.85</td>\n",
       "      <td>108.15</td>\n",
       "      <td>Male</td>\n",
       "      <td>0</td>\n",
       "      <td>No</td>\n",
       "      <td>No</td>\n",
       "      <td>DSL</td>\n",
       "      <td>Yes</td>\n",
       "      <td>Yes</td>\n",
       "      <td>No</td>\n",
       "      <td>No</td>\n",
       "      <td>No</td>\n",
       "      <td>No</td>\n",
       "      <td>No</td>\n",
       "      <td>123</td>\n",
       "      <td>1</td>\n",
       "    </tr>\n",
       "    <tr>\n",
       "      <td>3</td>\n",
       "      <td>One year</td>\n",
       "      <td>No</td>\n",
       "      <td>Bank transfer (automatic)</td>\n",
       "      <td>42.30</td>\n",
       "      <td>1840.75</td>\n",
       "      <td>Male</td>\n",
       "      <td>0</td>\n",
       "      <td>No</td>\n",
       "      <td>No</td>\n",
       "      <td>DSL</td>\n",
       "      <td>Yes</td>\n",
       "      <td>No</td>\n",
       "      <td>Yes</td>\n",
       "      <td>Yes</td>\n",
       "      <td>No</td>\n",
       "      <td>No</td>\n",
       "      <td>-1</td>\n",
       "      <td>1371</td>\n",
       "      <td>0</td>\n",
       "    </tr>\n",
       "    <tr>\n",
       "      <td>4</td>\n",
       "      <td>Month-to-month</td>\n",
       "      <td>Yes</td>\n",
       "      <td>Electronic check</td>\n",
       "      <td>70.70</td>\n",
       "      <td>151.65</td>\n",
       "      <td>Female</td>\n",
       "      <td>0</td>\n",
       "      <td>No</td>\n",
       "      <td>No</td>\n",
       "      <td>Fiber optic</td>\n",
       "      <td>No</td>\n",
       "      <td>No</td>\n",
       "      <td>No</td>\n",
       "      <td>No</td>\n",
       "      <td>No</td>\n",
       "      <td>No</td>\n",
       "      <td>No</td>\n",
       "      <td>153</td>\n",
       "      <td>1</td>\n",
       "    </tr>\n",
       "  </tbody>\n",
       "</table>\n",
       "</div>"
      ],
      "text/plain": [
       "             type paperless_billing             payment_method  \\\n",
       "0  Month-to-month               Yes           Electronic check   \n",
       "1        One year                No               Mailed check   \n",
       "2  Month-to-month               Yes               Mailed check   \n",
       "3        One year                No  Bank transfer (automatic)   \n",
       "4  Month-to-month               Yes           Electronic check   \n",
       "\n",
       "   monthly_charges  total_charges  gender  senior_citizen partner dependents  \\\n",
       "0            29.85          29.85  Female               0     Yes         No   \n",
       "1            56.95        1889.50    Male               0      No         No   \n",
       "2            53.85         108.15    Male               0      No         No   \n",
       "3            42.30        1840.75    Male               0      No         No   \n",
       "4            70.70         151.65  Female               0      No         No   \n",
       "\n",
       "  internet_service online_security online_backup device_protection  \\\n",
       "0              DSL              No           Yes                No   \n",
       "1              DSL             Yes            No               Yes   \n",
       "2              DSL             Yes           Yes                No   \n",
       "3              DSL             Yes            No               Yes   \n",
       "4      Fiber optic              No            No                No   \n",
       "\n",
       "  tech_support streaming_tv streaming_movies multiple_lines  life_time  exited  \n",
       "0           No           No               No             -1         31       0  \n",
       "1           No           No               No             No       1036       0  \n",
       "2           No           No               No             No        123       1  \n",
       "3          Yes           No               No             -1       1371       0  \n",
       "4           No           No               No             No        153       1  "
      ]
     },
     "execution_count": 27,
     "metadata": {},
     "output_type": "execute_result"
    }
   ],
   "source": [
    "prep_df.head()"
   ]
  },
  {
   "cell_type": "markdown",
   "metadata": {},
   "source": [
    "<a id='Кодирование признаков'></a>"
   ]
  },
  {
   "cell_type": "markdown",
   "metadata": {},
   "source": [
    "### <p style=\"text-align:center\"> Кодирование признаков </p>"
   ]
  },
  {
   "cell_type": "code",
   "execution_count": 28,
   "metadata": {},
   "outputs": [],
   "source": [
    "columns_to_encode = ['type', 'paperless_billing', 'payment_method', 'gender', 'partner',\n",
    "                     'dependents', 'internet_service', 'online_security', 'online_backup',\n",
    "                     'device_protection', 'tech_support', 'streaming_tv', \n",
    "                     'streaming_movies', 'multiple_lines']"
   ]
  },
  {
   "cell_type": "code",
   "execution_count": 29,
   "metadata": {},
   "outputs": [],
   "source": [
    "encoder = OrdinalEncoder()\n",
    "encoder.fit(prep_df[columns_to_encode]) \n",
    "prep_df[columns_to_encode] = pd.DataFrame(encoder.transform(prep_df[columns_to_encode])) "
   ]
  },
  {
   "cell_type": "code",
   "execution_count": 30,
   "metadata": {
    "scrolled": true
   },
   "outputs": [
    {
     "data": {
      "text/html": [
       "<div>\n",
       "<style scoped>\n",
       "    .dataframe tbody tr th:only-of-type {\n",
       "        vertical-align: middle;\n",
       "    }\n",
       "\n",
       "    .dataframe tbody tr th {\n",
       "        vertical-align: top;\n",
       "    }\n",
       "\n",
       "    .dataframe thead th {\n",
       "        text-align: right;\n",
       "    }\n",
       "</style>\n",
       "<table border=\"1\" class=\"dataframe\">\n",
       "  <thead>\n",
       "    <tr style=\"text-align: right;\">\n",
       "      <th></th>\n",
       "      <th>type</th>\n",
       "      <th>paperless_billing</th>\n",
       "      <th>payment_method</th>\n",
       "      <th>monthly_charges</th>\n",
       "      <th>total_charges</th>\n",
       "      <th>gender</th>\n",
       "      <th>senior_citizen</th>\n",
       "      <th>partner</th>\n",
       "      <th>dependents</th>\n",
       "      <th>internet_service</th>\n",
       "      <th>online_security</th>\n",
       "      <th>online_backup</th>\n",
       "      <th>device_protection</th>\n",
       "      <th>tech_support</th>\n",
       "      <th>streaming_tv</th>\n",
       "      <th>streaming_movies</th>\n",
       "      <th>multiple_lines</th>\n",
       "      <th>life_time</th>\n",
       "      <th>exited</th>\n",
       "    </tr>\n",
       "  </thead>\n",
       "  <tbody>\n",
       "    <tr>\n",
       "      <td>0</td>\n",
       "      <td>0.0</td>\n",
       "      <td>1.0</td>\n",
       "      <td>2.0</td>\n",
       "      <td>29.85</td>\n",
       "      <td>29.85</td>\n",
       "      <td>0.0</td>\n",
       "      <td>0</td>\n",
       "      <td>1.0</td>\n",
       "      <td>0.0</td>\n",
       "      <td>1.0</td>\n",
       "      <td>1.0</td>\n",
       "      <td>2.0</td>\n",
       "      <td>1.0</td>\n",
       "      <td>1.0</td>\n",
       "      <td>1.0</td>\n",
       "      <td>1.0</td>\n",
       "      <td>0.0</td>\n",
       "      <td>31</td>\n",
       "      <td>0</td>\n",
       "    </tr>\n",
       "    <tr>\n",
       "      <td>1</td>\n",
       "      <td>1.0</td>\n",
       "      <td>0.0</td>\n",
       "      <td>3.0</td>\n",
       "      <td>56.95</td>\n",
       "      <td>1889.50</td>\n",
       "      <td>1.0</td>\n",
       "      <td>0</td>\n",
       "      <td>0.0</td>\n",
       "      <td>0.0</td>\n",
       "      <td>1.0</td>\n",
       "      <td>2.0</td>\n",
       "      <td>1.0</td>\n",
       "      <td>2.0</td>\n",
       "      <td>1.0</td>\n",
       "      <td>1.0</td>\n",
       "      <td>1.0</td>\n",
       "      <td>1.0</td>\n",
       "      <td>1036</td>\n",
       "      <td>0</td>\n",
       "    </tr>\n",
       "    <tr>\n",
       "      <td>2</td>\n",
       "      <td>0.0</td>\n",
       "      <td>1.0</td>\n",
       "      <td>3.0</td>\n",
       "      <td>53.85</td>\n",
       "      <td>108.15</td>\n",
       "      <td>1.0</td>\n",
       "      <td>0</td>\n",
       "      <td>0.0</td>\n",
       "      <td>0.0</td>\n",
       "      <td>1.0</td>\n",
       "      <td>2.0</td>\n",
       "      <td>2.0</td>\n",
       "      <td>1.0</td>\n",
       "      <td>1.0</td>\n",
       "      <td>1.0</td>\n",
       "      <td>1.0</td>\n",
       "      <td>1.0</td>\n",
       "      <td>123</td>\n",
       "      <td>1</td>\n",
       "    </tr>\n",
       "    <tr>\n",
       "      <td>3</td>\n",
       "      <td>1.0</td>\n",
       "      <td>0.0</td>\n",
       "      <td>0.0</td>\n",
       "      <td>42.30</td>\n",
       "      <td>1840.75</td>\n",
       "      <td>1.0</td>\n",
       "      <td>0</td>\n",
       "      <td>0.0</td>\n",
       "      <td>0.0</td>\n",
       "      <td>1.0</td>\n",
       "      <td>2.0</td>\n",
       "      <td>1.0</td>\n",
       "      <td>2.0</td>\n",
       "      <td>2.0</td>\n",
       "      <td>1.0</td>\n",
       "      <td>1.0</td>\n",
       "      <td>0.0</td>\n",
       "      <td>1371</td>\n",
       "      <td>0</td>\n",
       "    </tr>\n",
       "    <tr>\n",
       "      <td>4</td>\n",
       "      <td>0.0</td>\n",
       "      <td>1.0</td>\n",
       "      <td>2.0</td>\n",
       "      <td>70.70</td>\n",
       "      <td>151.65</td>\n",
       "      <td>0.0</td>\n",
       "      <td>0</td>\n",
       "      <td>0.0</td>\n",
       "      <td>0.0</td>\n",
       "      <td>2.0</td>\n",
       "      <td>1.0</td>\n",
       "      <td>1.0</td>\n",
       "      <td>1.0</td>\n",
       "      <td>1.0</td>\n",
       "      <td>1.0</td>\n",
       "      <td>1.0</td>\n",
       "      <td>1.0</td>\n",
       "      <td>153</td>\n",
       "      <td>1</td>\n",
       "    </tr>\n",
       "  </tbody>\n",
       "</table>\n",
       "</div>"
      ],
      "text/plain": [
       "   type  paperless_billing  payment_method  monthly_charges  total_charges  \\\n",
       "0   0.0                1.0             2.0            29.85          29.85   \n",
       "1   1.0                0.0             3.0            56.95        1889.50   \n",
       "2   0.0                1.0             3.0            53.85         108.15   \n",
       "3   1.0                0.0             0.0            42.30        1840.75   \n",
       "4   0.0                1.0             2.0            70.70         151.65   \n",
       "\n",
       "   gender  senior_citizen  partner  dependents  internet_service  \\\n",
       "0     0.0               0      1.0         0.0               1.0   \n",
       "1     1.0               0      0.0         0.0               1.0   \n",
       "2     1.0               0      0.0         0.0               1.0   \n",
       "3     1.0               0      0.0         0.0               1.0   \n",
       "4     0.0               0      0.0         0.0               2.0   \n",
       "\n",
       "   online_security  online_backup  device_protection  tech_support  \\\n",
       "0              1.0            2.0                1.0           1.0   \n",
       "1              2.0            1.0                2.0           1.0   \n",
       "2              2.0            2.0                1.0           1.0   \n",
       "3              2.0            1.0                2.0           2.0   \n",
       "4              1.0            1.0                1.0           1.0   \n",
       "\n",
       "   streaming_tv  streaming_movies  multiple_lines  life_time  exited  \n",
       "0           1.0               1.0             0.0         31       0  \n",
       "1           1.0               1.0             1.0       1036       0  \n",
       "2           1.0               1.0             1.0        123       1  \n",
       "3           1.0               1.0             0.0       1371       0  \n",
       "4           1.0               1.0             1.0        153       1  "
      ]
     },
     "execution_count": 30,
     "metadata": {},
     "output_type": "execute_result"
    }
   ],
   "source": [
    "prep_df.head()"
   ]
  },
  {
   "cell_type": "markdown",
   "metadata": {},
   "source": [
    "<a id='Общий анализ'></a>"
   ]
  },
  {
   "cell_type": "markdown",
   "metadata": {},
   "source": [
    "### <p style=\"text-align:center\"> Общий анализ </p>"
   ]
  },
  {
   "cell_type": "markdown",
   "metadata": {},
   "source": [
    "Сравним распределения величин ежемесячных платежей (MonthlyCharges) всех клиентов и тех, кто ушёл. Для каждой группы посчитаем статистики: средние, минимальные и максимальные значения, медиану и величины 25%- и 75%-квартилей. Построим гистограммы распределения.\n",
    "\n",
    "Сравним поведение клиентов этих двух групп. Для каждой построим два любых графика, изображающих:\n",
    "\n",
    " - долю пользователей телефонной связи;\n",
    " - \n",
    " долю интернет-пользователей."
   ]
  },
  {
   "cell_type": "code",
   "execution_count": 31,
   "metadata": {},
   "outputs": [
    {
     "data": {
      "image/png": "[encoded data removed]",
      "text/plain": [
       "<Figure size 850x680 with 1 Axes>"
      ]
     },
     "metadata": {
      "needs_background": "light"
     },
     "output_type": "display_data"
    }
   ],
   "source": [
    "plt.figure(figsize=(10,8), dpi = 85);\n",
    "\n",
    "plt.hist(prep_df['monthly_charges'], color='dodgerblue', label='all_charges', alpha=0.8, bins = 20);\n",
    "plt.hist(prep_df.loc[prep_df['exited'] == 1, 'monthly_charges'], color='orange', label='exited_charges', alpha=0.8, bins = 20);\n",
    "\n",
    "mean_monthly_charges = prep_df['monthly_charges'].mean()\n",
    "mean_monthly_charges_exited = prep_df.loc[prep_df['exited'] == 1, 'monthly_charges'].mean()\n",
    "median_monthly_charges = prep_df['monthly_charges'].median()\n",
    "median_monthly_charges_exited = prep_df.loc[prep_df['exited'] == 1, 'monthly_charges'].median()\n",
    "\n",
    "plt.axvline(mean_monthly_charges, color='dodgerblue', linestyle='dashdot')\n",
    "plt.axvline(mean_monthly_charges_exited, color='orange', linestyle='dashdot')\n",
    "plt.axvline(median_monthly_charges, color='dodgerblue', linestyle='dashed')\n",
    "plt.axvline(median_monthly_charges_exited, color='orange', linestyle='dashed')\n",
    "\n",
    "plt.annotate(f'Mean monthly charges, {round(mean_monthly_charges, 0)}', xy=(65, 700), xytext=(25, 800), fontsize=9.5, \n",
    "             arrowprops=dict(facecolor='dodgerblue', shrink=0.05))\n",
    "plt.annotate(f'Mean monthly charges exited, {round(mean_monthly_charges_exited, 0)}', xy=(75, 700), xytext=(85, 800),\n",
    "             fontsize=9.5, arrowprops=dict(facecolor='orange', shrink=0.05))\n",
    "plt.annotate(f'Median monthly charges, {round(median_monthly_charges, 0)}', xy=(70, 800), xytext=(30, 900), fontsize=9.5, \n",
    "             arrowprops=dict(facecolor='dodgerblue', shrink=0.05))\n",
    "plt.annotate(f'Median monthly charges exited, {round(median_monthly_charges_exited, 0)}', xy=(80, 800), xytext=(90, 900), \n",
    "             fontsize=9.5, arrowprops=dict(facecolor='orange', shrink=0.05))\n",
    "\n",
    "plt.title('Сomparative monthly charges distribution', fontsize=16)\n",
    "plt.ylabel('Quantity', fontsize=14)\n",
    "plt.xlabel('Monthly charges, rub', fontsize=14)\n",
    "\n",
    "plt.grid()\n",
    "plt.legend()\n",
    "plt.show()"
   ]
  },
  {
   "cell_type": "code",
   "execution_count": 32,
   "metadata": {
    "scrolled": true
   },
   "outputs": [
    {
     "data": {
      "image/png": "[encoded data removed]",
      "text/plain": [
       "<Figure size 1440x432 with 2 Axes>"
      ]
     },
     "metadata": {
      "needs_background": "light"
     },
     "output_type": "display_data"
    }
   ],
   "source": [
    "f, axs = plt.subplots(1, 2, figsize=(20,6))\n",
    "axs[0].boxplot(prep_df['monthly_charges'], notch=False, sym='+', vert=False, whis=1.5,positions=None, widths=None, \n",
    "                  patch_artist=False, bootstrap=None, usermedians=None, conf_intervals=None);\n",
    "axs[0].annotate(f'25%-quantile, {round(prep_df[\"monthly_charges\"].quantile(0.25), 0)}', xy=(35, 0.9), xytext=(43, 0.6),\n",
    "                fontsize=9.5, arrowprops=dict(facecolor='dodgerblue', shrink=0.05))\n",
    "axs[0].annotate(f'75%-quantile, {round(prep_df[\"monthly_charges\"].quantile(0.75), 0)}', xy=(90, 0.9), xytext=(65, 0.75), \n",
    "                fontsize=9.5, arrowprops=dict(facecolor='dodgerblue', shrink=0.05))\n",
    "axs[0].set_title('Monthly charges boxplot');\n",
    "axs[0].set_xlabel('Monthly charges, rub');\n",
    "axs[0].set_ylabel('');\n",
    "\n",
    "axs[1].boxplot(prep_df.loc[prep_df['exited'] == 1, 'monthly_charges'], notch=False, sym='+', vert=False, whis=1.5, \n",
    "                   positions=None, widths=None, patch_artist=False, bootstrap=None, usermedians=None, conf_intervals=None);\n",
    "axs[1].annotate(f'25%-quantile, {round(prep_df.loc[prep_df[\"exited\"] == 1, \"monthly_charges\"].quantile(0.25), 0)}',\n",
    "                xy=(56, 0.9), xytext=(64, 0.6), fontsize=9.5, arrowprops=dict(facecolor='orange', shrink=0.05))\n",
    "axs[1].annotate(f'75%-quantile, {round(prep_df.loc[prep_df[\"exited\"] == 1, \"monthly_charges\"].quantile(0.75), 0)}',\n",
    "                xy=(94, 0.9), xytext=(69, 0.75), fontsize=9.5, arrowprops=dict(facecolor='orange', shrink=0.05))\n",
    "axs[1].set_title('Monthly charges exited boxplot');\n",
    "axs[1].set_xlabel('Monthly charges exited, rub');\n",
    "axs[1].set_ylabel('');"
   ]
  },
  {
   "cell_type": "markdown",
   "metadata": {},
   "source": [
    "Найдем отношение ушедших и оставшихся клиентов. Этот же показатель будет отвечать и за адекватность моделей."
   ]
  },
  {
   "cell_type": "code",
   "execution_count": 33,
   "metadata": {},
   "outputs": [
    {
     "data": {
      "text/plain": [
       "0    0.73463\n",
       "1    0.26537\n",
       "Name: exited, dtype: float64"
      ]
     },
     "execution_count": 33,
     "metadata": {},
     "output_type": "execute_result"
    }
   ],
   "source": [
    "prep_df['exited'].value_counts(normalize=True)"
   ]
  },
  {
   "cell_type": "markdown",
   "metadata": {},
   "source": [
    "Сгруппируем данные по целевому признаку и поищем зависимости."
   ]
  },
  {
   "cell_type": "code",
   "execution_count": 34,
   "metadata": {},
   "outputs": [],
   "source": [
    "columns_to_analize = ['paperless_billing', 'monthly_charges', 'total_charges', 'gender', 'senior_citizen', 'partner', \n",
    "         'dependents', 'life_time', 'exited']"
   ]
  },
  {
   "cell_type": "code",
   "execution_count": 35,
   "metadata": {},
   "outputs": [
    {
     "data": {
      "text/html": [
       "<div>\n",
       "<style scoped>\n",
       "    .dataframe tbody tr th:only-of-type {\n",
       "        vertical-align: middle;\n",
       "    }\n",
       "\n",
       "    .dataframe tbody tr th {\n",
       "        vertical-align: top;\n",
       "    }\n",
       "\n",
       "    .dataframe thead th {\n",
       "        text-align: right;\n",
       "    }\n",
       "</style>\n",
       "<table border=\"1\" class=\"dataframe\">\n",
       "  <thead>\n",
       "    <tr style=\"text-align: right;\">\n",
       "      <th></th>\n",
       "      <th>exited</th>\n",
       "      <th>0</th>\n",
       "      <th>1</th>\n",
       "    </tr>\n",
       "  </thead>\n",
       "  <tbody>\n",
       "    <tr>\n",
       "      <td rowspan=\"4\" valign=\"top\">paperless_billing</td>\n",
       "      <td>std</td>\n",
       "      <td>0.50</td>\n",
       "      <td>0.43</td>\n",
       "    </tr>\n",
       "    <tr>\n",
       "      <td>mean</td>\n",
       "      <td>0.54</td>\n",
       "      <td>0.75</td>\n",
       "    </tr>\n",
       "    <tr>\n",
       "      <td>var</td>\n",
       "      <td>0.25</td>\n",
       "      <td>0.19</td>\n",
       "    </tr>\n",
       "    <tr>\n",
       "      <td>median</td>\n",
       "      <td>1.00</td>\n",
       "      <td>1.00</td>\n",
       "    </tr>\n",
       "    <tr>\n",
       "      <td rowspan=\"4\" valign=\"top\">monthly_charges</td>\n",
       "      <td>std</td>\n",
       "      <td>31.09</td>\n",
       "      <td>24.67</td>\n",
       "    </tr>\n",
       "    <tr>\n",
       "      <td>mean</td>\n",
       "      <td>61.27</td>\n",
       "      <td>74.44</td>\n",
       "    </tr>\n",
       "    <tr>\n",
       "      <td>var</td>\n",
       "      <td>966.75</td>\n",
       "      <td>608.41</td>\n",
       "    </tr>\n",
       "    <tr>\n",
       "      <td>median</td>\n",
       "      <td>64.43</td>\n",
       "      <td>79.65</td>\n",
       "    </tr>\n",
       "    <tr>\n",
       "      <td rowspan=\"4\" valign=\"top\">total_charges</td>\n",
       "      <td>std</td>\n",
       "      <td>2329.95</td>\n",
       "      <td>1890.82</td>\n",
       "    </tr>\n",
       "    <tr>\n",
       "      <td>mean</td>\n",
       "      <td>2549.91</td>\n",
       "      <td>1531.80</td>\n",
       "    </tr>\n",
       "    <tr>\n",
       "      <td>var</td>\n",
       "      <td>5428686.65</td>\n",
       "      <td>3575211.60</td>\n",
       "    </tr>\n",
       "    <tr>\n",
       "      <td>median</td>\n",
       "      <td>1679.52</td>\n",
       "      <td>703.55</td>\n",
       "    </tr>\n",
       "    <tr>\n",
       "      <td rowspan=\"4\" valign=\"top\">gender</td>\n",
       "      <td>std</td>\n",
       "      <td>0.50</td>\n",
       "      <td>0.50</td>\n",
       "    </tr>\n",
       "    <tr>\n",
       "      <td>mean</td>\n",
       "      <td>0.51</td>\n",
       "      <td>0.50</td>\n",
       "    </tr>\n",
       "    <tr>\n",
       "      <td>var</td>\n",
       "      <td>0.25</td>\n",
       "      <td>0.25</td>\n",
       "    </tr>\n",
       "    <tr>\n",
       "      <td>median</td>\n",
       "      <td>1.00</td>\n",
       "      <td>0.00</td>\n",
       "    </tr>\n",
       "    <tr>\n",
       "      <td rowspan=\"4\" valign=\"top\">senior_citizen</td>\n",
       "      <td>std</td>\n",
       "      <td>0.33</td>\n",
       "      <td>0.44</td>\n",
       "    </tr>\n",
       "    <tr>\n",
       "      <td>mean</td>\n",
       "      <td>0.13</td>\n",
       "      <td>0.25</td>\n",
       "    </tr>\n",
       "    <tr>\n",
       "      <td>var</td>\n",
       "      <td>0.11</td>\n",
       "      <td>0.19</td>\n",
       "    </tr>\n",
       "    <tr>\n",
       "      <td>median</td>\n",
       "      <td>0.00</td>\n",
       "      <td>0.00</td>\n",
       "    </tr>\n",
       "    <tr>\n",
       "      <td rowspan=\"4\" valign=\"top\">partner</td>\n",
       "      <td>std</td>\n",
       "      <td>0.50</td>\n",
       "      <td>0.48</td>\n",
       "    </tr>\n",
       "    <tr>\n",
       "      <td>mean</td>\n",
       "      <td>0.53</td>\n",
       "      <td>0.36</td>\n",
       "    </tr>\n",
       "    <tr>\n",
       "      <td>var</td>\n",
       "      <td>0.25</td>\n",
       "      <td>0.23</td>\n",
       "    </tr>\n",
       "    <tr>\n",
       "      <td>median</td>\n",
       "      <td>1.00</td>\n",
       "      <td>0.00</td>\n",
       "    </tr>\n",
       "    <tr>\n",
       "      <td rowspan=\"4\" valign=\"top\">dependents</td>\n",
       "      <td>std</td>\n",
       "      <td>0.48</td>\n",
       "      <td>0.38</td>\n",
       "    </tr>\n",
       "    <tr>\n",
       "      <td>mean</td>\n",
       "      <td>0.34</td>\n",
       "      <td>0.17</td>\n",
       "    </tr>\n",
       "    <tr>\n",
       "      <td>var</td>\n",
       "      <td>0.23</td>\n",
       "      <td>0.14</td>\n",
       "    </tr>\n",
       "    <tr>\n",
       "      <td>median</td>\n",
       "      <td>0.00</td>\n",
       "      <td>0.00</td>\n",
       "    </tr>\n",
       "    <tr>\n",
       "      <td rowspan=\"4\" valign=\"top\">life_time</td>\n",
       "      <td>std</td>\n",
       "      <td>733.90</td>\n",
       "      <td>595.91</td>\n",
       "    </tr>\n",
       "    <tr>\n",
       "      <td>mean</td>\n",
       "      <td>1144.45</td>\n",
       "      <td>624.46</td>\n",
       "    </tr>\n",
       "    <tr>\n",
       "      <td>var</td>\n",
       "      <td>538606.18</td>\n",
       "      <td>355109.40</td>\n",
       "    </tr>\n",
       "    <tr>\n",
       "      <td>median</td>\n",
       "      <td>1157.00</td>\n",
       "      <td>365.00</td>\n",
       "    </tr>\n",
       "  </tbody>\n",
       "</table>\n",
       "</div>"
      ],
      "text/plain": [
       "exited                             0           1\n",
       "paperless_billing std           0.50        0.43\n",
       "                  mean          0.54        0.75\n",
       "                  var           0.25        0.19\n",
       "                  median        1.00        1.00\n",
       "monthly_charges   std          31.09       24.67\n",
       "                  mean         61.27       74.44\n",
       "                  var         966.75      608.41\n",
       "                  median       64.43       79.65\n",
       "total_charges     std        2329.95     1890.82\n",
       "                  mean       2549.91     1531.80\n",
       "                  var     5428686.65  3575211.60\n",
       "                  median     1679.52      703.55\n",
       "gender            std           0.50        0.50\n",
       "                  mean          0.51        0.50\n",
       "                  var           0.25        0.25\n",
       "                  median        1.00        0.00\n",
       "senior_citizen    std           0.33        0.44\n",
       "                  mean          0.13        0.25\n",
       "                  var           0.11        0.19\n",
       "                  median        0.00        0.00\n",
       "partner           std           0.50        0.48\n",
       "                  mean          0.53        0.36\n",
       "                  var           0.25        0.23\n",
       "                  median        1.00        0.00\n",
       "dependents        std           0.48        0.38\n",
       "                  mean          0.34        0.17\n",
       "                  var           0.23        0.14\n",
       "                  median        0.00        0.00\n",
       "life_time         std         733.90      595.91\n",
       "                  mean       1144.45      624.46\n",
       "                  var      538606.18   355109.40\n",
       "                  median     1157.00      365.00"
      ]
     },
     "execution_count": 35,
     "metadata": {},
     "output_type": "execute_result"
    }
   ],
   "source": [
    "prep_df[columns_to_analize].groupby('exited').agg({'mean', 'median', 'std', 'var'}).T.round(2)"
   ]
  },
  {
   "cell_type": "markdown",
   "metadata": {},
   "source": [
    "Клиентов  - 7043 человека. Из них порядка 27 % с меткой оттока.\n",
    "\n",
    "Какие еще первичные выводы мы можем сделать о текущих клиентах:\n",
    "\n",
    "- мужчина и женщина - примерно одинаковое количество тех и других;\n",
    "- в среднем у оставшихся пользователей платежи за месяц ниже, чем у ушедших;\n",
    "- большинство ушедших пользователей предпочитали paperless_billing;\n",
    "- среди ушедших пользователей примерно в два раза больше senior_citizen, т.е. пенсионеров;\n",
    "- большинство пользователей, оставшихся клиентами компании имеют партнера и детей.\n",
    "\n",
    "На первый взгляд факторами оттока являются:\n",
    "\n",
    " - paperless_billing;\n",
    " - monthly_charges;\n",
    " - senior_citizen."
   ]
  },
  {
   "cell_type": "markdown",
   "metadata": {},
   "source": [
    "<a id='Оценка мультиколлинеарности признаков'></a>"
   ]
  },
  {
   "cell_type": "markdown",
   "metadata": {},
   "source": [
    "### <p style=\"text-align:center\"> Оценка мультиколлинеарности признаков </p>"
   ]
  },
  {
   "cell_type": "markdown",
   "metadata": {},
   "source": [
    "В качестве оценки мультиколлинеарности признаков найдем коффициенты корреляции этих признаков, если зависимость сильнее 0.7 попытаемся оставить только один признак из двух."
   ]
  },
  {
   "cell_type": "code",
   "execution_count": 36,
   "metadata": {},
   "outputs": [
    {
     "data": {
      "image/png": "[encoded data removed]",
      "text/plain": [
       "<Figure size 720x720 with 2 Axes>"
      ]
     },
     "metadata": {
      "needs_background": "light"
     },
     "output_type": "display_data"
    }
   ],
   "source": [
    "corr_matrix=prep_df[['monthly_charges', 'total_charges', 'life_time', 'exited']].corr()\n",
    "plt.figure(figsize=(10,10))\n",
    "sns.heatmap(corr_matrix, annot=True, fmt='.2f', vmin=-0.5, annot_kws={\"size\": 8}, cmap=\"Reds\")\n",
    "plt.title(\"Матрица корреляций Pearson'a\", fontsize = 16)\n",
    "plt.show()"
   ]
  },
  {
   "cell_type": "code",
   "execution_count": 37,
   "metadata": {},
   "outputs": [
    {
     "data": {
      "image/png": "[encoded data removed]",
      "text/plain": [
       "<Figure size 720x720 with 2 Axes>"
      ]
     },
     "metadata": {
      "needs_background": "light"
     },
     "output_type": "display_data"
    }
   ],
   "source": [
    "corr_matrix=prep_df.corr('kendall')\n",
    "plt.figure(figsize=(10,10))\n",
    "sns.heatmap(corr_matrix, annot=True, fmt='.2f', vmin=-0.5, annot_kws={\"size\": 8}, cmap=\"Reds\")\n",
    "plt.title(\"Матрица корреляций Kendall'а\", fontsize = 16)\n",
    "plt.show()"
   ]
  },
  {
   "cell_type": "markdown",
   "metadata": {},
   "source": [
    "Принимаем решение удалить некоторые столбцы на основе информации от обучения моделей на валидации."
   ]
  },
  {
   "cell_type": "code",
   "execution_count": 38,
   "metadata": {},
   "outputs": [],
   "source": [
    "df_del_corr = prep_df.copy()\n",
    "df_del_corr = df_del_corr.drop(['streaming_tv', 'partner', 'senior_citizen','dependents', 'multiple_lines', 'online_backup',\n",
    "                                'tech_support', 'gender', 'device_protection', 'paperless_billing', 'streaming_movies',\n",
    "                                'internet_service'], axis=1)"
   ]
  },
  {
   "cell_type": "markdown",
   "metadata": {},
   "source": [
    "Посмотрим на матрицу корреляции после удаления лишних признаков."
   ]
  },
  {
   "cell_type": "code",
   "execution_count": 39,
   "metadata": {},
   "outputs": [
    {
     "data": {
      "image/png": "[encoded data removed]",
      "text/plain": [
       "<Figure size 720x720 with 2 Axes>"
      ]
     },
     "metadata": {
      "needs_background": "light"
     },
     "output_type": "display_data"
    }
   ],
   "source": [
    "corr_matrix=df_del_corr.corr()\n",
    "plt.figure(figsize=(10,10))\n",
    "sns.heatmap(corr_matrix, annot=True, fmt='.2f', vmin=-0.5, annot_kws={\"size\": 8}, cmap=\"Reds\")\n",
    "plt.title(\"Матрица корреляций Kendall'а\", fontsize = 16)\n",
    "plt.show()"
   ]
  },
  {
   "cell_type": "markdown",
   "metadata": {},
   "source": [
    "Факторами оттока будем считать оставшиеся на матрице корреляций признаки. \n"
   ]
  },
  {
   "cell_type": "markdown",
   "metadata": {},
   "source": [
    "<a id='Вывод_2'></a>"
   ]
  },
  {
   "cell_type": "markdown",
   "metadata": {},
   "source": [
    "### <p style=\"text-align:center\"> Вывод</p>"
   ]
  },
  {
   "cell_type": "markdown",
   "metadata": {},
   "source": [
    "##### В ходе исследовательского анализа данных (EDA) были сделаны следующие выводы:\n",
    "\n",
    "___\n",
    "\n",
    "\n",
    "1. Была проведена подготовительная работа с данными.\n",
    "\n",
    "\n",
    "2. Был выполнен исследовательский анализ данных, выявлены предварительные факторы оттока.\n",
    "\n",
    "\n",
    "3. После оценки мультиколлинеарности признаков, а также по результатам подбора параметров на валидации было принято решение удалить часть столбцов.\n",
    "\n",
    "\n",
    "\n",
    "___\n",
    "\n",
    "Таким образом был выполнен исследовательский анализ данных (EDA). Переходим к обучению моделей."
   ]
  },
  {
   "cell_type": "markdown",
   "metadata": {},
   "source": [
    "#  Часть 3. Создание моделей"
   ]
  },
  {
   "cell_type": "markdown",
   "metadata": {},
   "source": [
    "<a id='Подготовка признаков'></a>"
   ]
  },
  {
   "cell_type": "markdown",
   "metadata": {},
   "source": [
    "### <p style=\"text-align:center\"> Подготовка признаков </p>"
   ]
  },
  {
   "cell_type": "markdown",
   "metadata": {},
   "source": [
    "Разделим выборку на обучающую, валидационную и тестовую выборки."
   ]
  },
  {
   "cell_type": "code",
   "execution_count": 40,
   "metadata": {},
   "outputs": [],
   "source": [
    "X = df_del_corr.drop('exited', axis=1)\n",
    "y = df_del_corr['exited']\n",
    "X_train, X_test, y_train, y_test = train_test_split(X, y, test_size=0.4, random_state=42, stratify=y)\n",
    "X_test, X_valid, y_test, y_valid = train_test_split(X_test, y_test, test_size=0.5, random_state=42, stratify=y_test)"
   ]
  },
  {
   "cell_type": "code",
   "execution_count": 41,
   "metadata": {},
   "outputs": [
    {
     "name": "stdout",
     "output_type": "stream",
     "text": [
      "Размер тренировочной выборки: признаки - (4225, 6) и целевой признак 4225\n"
     ]
    }
   ],
   "source": [
    "print(f'Размер тренировочной выборки: признаки - {X_train.shape} и целевой признак {len(y_train)}')"
   ]
  },
  {
   "cell_type": "code",
   "execution_count": 42,
   "metadata": {},
   "outputs": [
    {
     "name": "stdout",
     "output_type": "stream",
     "text": [
      "Размер валидационной выборки: признаки - (1409, 6) и целевой признак 1409\n"
     ]
    }
   ],
   "source": [
    "print(f'Размер валидационной выборки: признаки - {X_valid.shape} и целевой признак {len(y_valid)}')"
   ]
  },
  {
   "cell_type": "code",
   "execution_count": 43,
   "metadata": {},
   "outputs": [
    {
     "name": "stdout",
     "output_type": "stream",
     "text": [
      "Размер тестовой выборки: признаки - (1409, 6) и целевой признак 1409\n"
     ]
    }
   ],
   "source": [
    "print(f'Размер тестовой выборки: признаки - {X_test.shape} и целевой признак {len(y_test)}')"
   ]
  },
  {
   "cell_type": "markdown",
   "metadata": {},
   "source": [
    "Стандартизируем данные."
   ]
  },
  {
   "cell_type": "code",
   "execution_count": 44,
   "metadata": {},
   "outputs": [],
   "source": [
    "scaler = StandardScaler()\n",
    "scaler.fit(X_train)\n",
    "X_train_st = scaler.transform(X_train) \n",
    "X_valid_st = scaler.transform(X_valid) \n",
    "X_test_st = scaler.transform(X_test)"
   ]
  },
  {
   "cell_type": "code",
   "execution_count": 45,
   "metadata": {},
   "outputs": [],
   "source": [
    "def metrics(target, prediction, probabilities):\n",
    "    print('AUC-ROC', roc_auc_score(target, probabilities))\n",
    "    print('Accuracy', accuracy_score(target, prediction))"
   ]
  },
  {
   "cell_type": "markdown",
   "metadata": {},
   "source": [
    "<a id='Обучение моделей'></a>"
   ]
  },
  {
   "cell_type": "markdown",
   "metadata": {},
   "source": [
    "### <p style=\"text-align:center\"> Обучение моделей </p>"
   ]
  },
  {
   "cell_type": "markdown",
   "metadata": {},
   "source": [
    "Обучим модель RandomForest Classifier."
   ]
  },
  {
   "cell_type": "code",
   "execution_count": 46,
   "metadata": {},
   "outputs": [],
   "source": [
    "start = timeit.default_timer()\n",
    "rf_clf = RandomForestClassifier(random_state=42, n_estimators=1000, max_depth=4, \n",
    "                                min_samples_leaf=2, min_samples_split=3, \n",
    "                                bootstrap=True, n_jobs=-1) \n",
    "rf_clf.fit(X_train_st, y_train)\n",
    "prediction_valid = rf_clf.predict(X_valid_st)\n",
    "probabilities_one_valid = rf_clf.predict_proba(X_valid_st)[:, 1]\n",
    "stop = timeit.default_timer()"
   ]
  },
  {
   "cell_type": "code",
   "execution_count": 47,
   "metadata": {},
   "outputs": [
    {
     "name": "stdout",
     "output_type": "stream",
     "text": [
      "AUC-ROC 0.8465150223462243\n",
      "Accuracy 0.8005677785663591\n",
      "Time spent: 2.54 sec\n"
     ]
    }
   ],
   "source": [
    "metrics(y_valid, prediction_valid, probabilities_one_valid)\n",
    "print(f'Time spent: {stop - start:.2f} sec')"
   ]
  },
  {
   "cell_type": "markdown",
   "metadata": {},
   "source": [
    "Как видим, Random Forest неплохо подходит для решения поставленной задачи. Далее попробуем Logistic Regression."
   ]
  },
  {
   "cell_type": "code",
   "execution_count": 48,
   "metadata": {},
   "outputs": [],
   "source": [
    "start = timeit.default_timer()\n",
    "log_reg = LogisticRegression(random_state=42, penalty='l2', C=2, n_jobs=-1) \n",
    "log_reg.fit(X_train_st, y_train)\n",
    "prediction_valid = log_reg.predict(X_valid_st)\n",
    "probabilities_one_valid = log_reg.predict_proba(X_valid_st)[:, 1]\n",
    "stop = timeit.default_timer()"
   ]
  },
  {
   "cell_type": "code",
   "execution_count": 49,
   "metadata": {},
   "outputs": [
    {
     "name": "stdout",
     "output_type": "stream",
     "text": [
      "AUC-ROC 0.8070965408561315\n",
      "Accuracy 0.7799858055358411\n",
      "Time spent: 0.01 sec\n"
     ]
    }
   ],
   "source": [
    "metrics(y_valid, prediction_valid, probabilities_one_valid)\n",
    "print(f'Time spent: {stop - start:.2f} sec')"
   ]
  },
  {
   "cell_type": "markdown",
   "metadata": {},
   "source": [
    "Как видим, нам не подходит Logistic Regression для решения поставленной задачи. Попробуем SGD Classifier."
   ]
  },
  {
   "cell_type": "code",
   "execution_count": 50,
   "metadata": {},
   "outputs": [],
   "source": [
    "start = timeit.default_timer()\n",
    "sgd_clf = SGDClassifier(random_state=42, loss='modified_huber', penalty='l2', alpha=0.03,  n_jobs=-1) \n",
    "sgd_clf.fit(X_train_st, y_train)\n",
    "prediction_valid = sgd_clf.predict(X_valid_st)\n",
    "probabilities_one_valid = sgd_clf.predict_proba(X_valid_st)[:, 1]\n",
    "stop = timeit.default_timer()"
   ]
  },
  {
   "cell_type": "code",
   "execution_count": 51,
   "metadata": {},
   "outputs": [
    {
     "name": "stdout",
     "output_type": "stream",
     "text": [
      "AUC-ROC 0.8087731535301868\n",
      "Accuracy 0.7764371894960965\n",
      "Time spent: 0.01 sec\n"
     ]
    }
   ],
   "source": [
    "metrics(y_valid, prediction_valid, probabilities_one_valid)\n",
    "print(f'Time spent: {stop - start:.2f} sec')"
   ]
  },
  {
   "cell_type": "markdown",
   "metadata": {},
   "source": [
    "Как видим, нам не подходит SGD Classifier для решения поставленной задачи. Попробуем CatBoost Classifier."
   ]
  },
  {
   "cell_type": "code",
   "execution_count": 52,
   "metadata": {
    "collapsed": true
   },
   "outputs": [
    {
     "name": "stdout",
     "output_type": "stream",
     "text": [
      "0:\ttotal: 51.7ms\tremaining: 51.7s\n",
      "1:\ttotal: 55ms\tremaining: 27.4s\n",
      "2:\ttotal: 58.8ms\tremaining: 19.6s\n",
      "3:\ttotal: 62.1ms\tremaining: 15.5s\n",
      "4:\ttotal: 84.6ms\tremaining: 16.8s\n",
      "5:\ttotal: 97.5ms\tremaining: 16.2s\n",
      "6:\ttotal: 100ms\tremaining: 14.2s\n",
      "7:\ttotal: 104ms\tremaining: 12.8s\n",
      "8:\ttotal: 116ms\tremaining: 12.7s\n",
      "9:\ttotal: 119ms\tremaining: 11.8s\n",
      "10:\ttotal: 195ms\tremaining: 17.5s\n",
      "11:\ttotal: 198ms\tremaining: 16.3s\n",
      "12:\ttotal: 201ms\tremaining: 15.3s\n",
      "13:\ttotal: 205ms\tremaining: 14.5s\n",
      "14:\ttotal: 209ms\tremaining: 13.7s\n",
      "15:\ttotal: 291ms\tremaining: 17.9s\n",
      "16:\ttotal: 296ms\tremaining: 17.1s\n",
      "17:\ttotal: 299ms\tremaining: 16.3s\n",
      "18:\ttotal: 303ms\tremaining: 15.6s\n",
      "19:\ttotal: 307ms\tremaining: 15s\n",
      "20:\ttotal: 399ms\tremaining: 18.6s\n",
      "21:\ttotal: 402ms\tremaining: 17.9s\n",
      "22:\ttotal: 404ms\tremaining: 17.2s\n",
      "23:\ttotal: 408ms\tremaining: 16.6s\n",
      "24:\ttotal: 411ms\tremaining: 16s\n",
      "25:\ttotal: 414ms\tremaining: 15.5s\n",
      "26:\ttotal: 486ms\tremaining: 17.5s\n",
      "27:\ttotal: 490ms\tremaining: 17s\n",
      "28:\ttotal: 491ms\tremaining: 16.4s\n",
      "29:\ttotal: 493ms\tremaining: 15.9s\n",
      "30:\ttotal: 495ms\tremaining: 15.5s\n",
      "31:\ttotal: 497ms\tremaining: 15s\n",
      "32:\ttotal: 500ms\tremaining: 14.6s\n",
      "33:\ttotal: 583ms\tremaining: 16.6s\n",
      "34:\ttotal: 587ms\tremaining: 16.2s\n",
      "35:\ttotal: 591ms\tremaining: 15.8s\n",
      "36:\ttotal: 594ms\tremaining: 15.5s\n",
      "37:\ttotal: 596ms\tremaining: 15.1s\n",
      "38:\ttotal: 597ms\tremaining: 14.7s\n",
      "39:\ttotal: 600ms\tremaining: 14.4s\n",
      "40:\ttotal: 602ms\tremaining: 14.1s\n",
      "41:\ttotal: 666ms\tremaining: 15.2s\n",
      "42:\ttotal: 670ms\tremaining: 14.9s\n",
      "43:\ttotal: 672ms\tremaining: 14.6s\n",
      "44:\ttotal: 675ms\tremaining: 14.3s\n",
      "45:\ttotal: 677ms\tremaining: 14s\n",
      "46:\ttotal: 761ms\tremaining: 15.4s\n",
      "47:\ttotal: 763ms\tremaining: 15.1s\n",
      "48:\ttotal: 765ms\tremaining: 14.8s\n",
      "49:\ttotal: 766ms\tremaining: 14.6s\n",
      "50:\ttotal: 768ms\tremaining: 14.3s\n",
      "51:\ttotal: 770ms\tremaining: 14s\n",
      "52:\ttotal: 771ms\tremaining: 13.8s\n",
      "53:\ttotal: 773ms\tremaining: 13.5s\n",
      "54:\ttotal: 775ms\tremaining: 13.3s\n",
      "55:\ttotal: 776ms\tremaining: 13.1s\n",
      "56:\ttotal: 778ms\tremaining: 12.9s\n",
      "57:\ttotal: 780ms\tremaining: 12.7s\n",
      "58:\ttotal: 781ms\tremaining: 12.5s\n",
      "59:\ttotal: 783ms\tremaining: 12.3s\n",
      "60:\ttotal: 785ms\tremaining: 12.1s\n",
      "61:\ttotal: 789ms\tremaining: 11.9s\n",
      "62:\ttotal: 791ms\tremaining: 11.8s\n",
      "63:\ttotal: 792ms\tremaining: 11.6s\n",
      "64:\ttotal: 794ms\tremaining: 11.4s\n",
      "65:\ttotal: 796ms\tremaining: 11.3s\n",
      "66:\ttotal: 797ms\tremaining: 11.1s\n",
      "67:\ttotal: 799ms\tremaining: 11s\n",
      "68:\ttotal: 801ms\tremaining: 10.8s\n",
      "69:\ttotal: 802ms\tremaining: 10.7s\n",
      "70:\ttotal: 804ms\tremaining: 10.5s\n",
      "71:\ttotal: 806ms\tremaining: 10.4s\n",
      "72:\ttotal: 808ms\tremaining: 10.3s\n",
      "73:\ttotal: 809ms\tremaining: 10.1s\n",
      "74:\ttotal: 811ms\tremaining: 10s\n",
      "75:\ttotal: 812ms\tremaining: 9.88s\n",
      "76:\ttotal: 893ms\tremaining: 10.7s\n",
      "77:\ttotal: 895ms\tremaining: 10.6s\n",
      "78:\ttotal: 897ms\tremaining: 10.5s\n",
      "79:\ttotal: 898ms\tremaining: 10.3s\n",
      "80:\ttotal: 900ms\tremaining: 10.2s\n",
      "81:\ttotal: 902ms\tremaining: 10.1s\n",
      "82:\ttotal: 904ms\tremaining: 9.98s\n",
      "83:\ttotal: 912ms\tremaining: 9.94s\n",
      "84:\ttotal: 990ms\tremaining: 10.7s\n",
      "85:\ttotal: 992ms\tremaining: 10.5s\n",
      "86:\ttotal: 993ms\tremaining: 10.4s\n",
      "87:\ttotal: 995ms\tremaining: 10.3s\n",
      "88:\ttotal: 997ms\tremaining: 10.2s\n",
      "89:\ttotal: 999ms\tremaining: 10.1s\n",
      "90:\ttotal: 1s\tremaining: 9.99s\n",
      "91:\ttotal: 1s\tremaining: 9.89s\n",
      "92:\ttotal: 1s\tremaining: 9.79s\n",
      "93:\ttotal: 1s\tremaining: 9.69s\n",
      "94:\ttotal: 1.08s\tremaining: 10.3s\n",
      "95:\ttotal: 1.09s\tremaining: 10.2s\n",
      "96:\ttotal: 1.09s\tremaining: 10.1s\n",
      "97:\ttotal: 1.09s\tremaining: 10s\n",
      "98:\ttotal: 1.09s\tremaining: 9.95s\n",
      "99:\ttotal: 1.09s\tremaining: 9.85s\n",
      "100:\ttotal: 1.1s\tremaining: 9.76s\n",
      "101:\ttotal: 1.1s\tremaining: 9.67s\n",
      "102:\ttotal: 1.1s\tremaining: 9.6s\n",
      "103:\ttotal: 1.18s\tremaining: 10.2s\n",
      "104:\ttotal: 1.19s\tremaining: 10.1s\n",
      "105:\ttotal: 1.19s\tremaining: 10s\n",
      "106:\ttotal: 1.19s\tremaining: 9.92s\n",
      "107:\ttotal: 1.19s\tremaining: 9.83s\n",
      "108:\ttotal: 1.19s\tremaining: 9.74s\n",
      "109:\ttotal: 1.19s\tremaining: 9.65s\n",
      "110:\ttotal: 1.2s\tremaining: 9.57s\n",
      "111:\ttotal: 1.2s\tremaining: 9.49s\n",
      "112:\ttotal: 1.2s\tremaining: 9.41s\n",
      "113:\ttotal: 1.28s\tremaining: 9.94s\n",
      "114:\ttotal: 1.28s\tremaining: 9.85s\n",
      "115:\ttotal: 1.28s\tremaining: 9.77s\n",
      "116:\ttotal: 1.28s\tremaining: 9.69s\n",
      "117:\ttotal: 1.28s\tremaining: 9.61s\n",
      "118:\ttotal: 1.29s\tremaining: 9.53s\n",
      "119:\ttotal: 1.29s\tremaining: 9.46s\n",
      "120:\ttotal: 1.29s\tremaining: 9.38s\n",
      "121:\ttotal: 1.38s\tremaining: 9.9s\n",
      "122:\ttotal: 1.38s\tremaining: 9.82s\n",
      "123:\ttotal: 1.38s\tremaining: 9.75s\n",
      "124:\ttotal: 1.38s\tremaining: 9.67s\n",
      "125:\ttotal: 1.38s\tremaining: 9.59s\n",
      "126:\ttotal: 1.38s\tremaining: 9.52s\n",
      "127:\ttotal: 1.39s\tremaining: 9.44s\n",
      "128:\ttotal: 1.39s\tremaining: 9.37s\n",
      "129:\ttotal: 1.39s\tremaining: 9.3s\n",
      "130:\ttotal: 1.39s\tremaining: 9.23s\n",
      "131:\ttotal: 1.39s\tremaining: 9.16s\n",
      "132:\ttotal: 1.4s\tremaining: 9.1s\n",
      "133:\ttotal: 1.4s\tremaining: 9.03s\n",
      "134:\ttotal: 1.4s\tremaining: 8.96s\n",
      "135:\ttotal: 1.4s\tremaining: 8.9s\n",
      "136:\ttotal: 1.4s\tremaining: 8.83s\n",
      "137:\ttotal: 1.4s\tremaining: 8.77s\n",
      "138:\ttotal: 1.41s\tremaining: 8.71s\n",
      "139:\ttotal: 1.41s\tremaining: 8.65s\n",
      "140:\ttotal: 1.42s\tremaining: 8.63s\n",
      "141:\ttotal: 1.42s\tremaining: 8.57s\n",
      "142:\ttotal: 1.42s\tremaining: 8.51s\n",
      "143:\ttotal: 1.42s\tremaining: 8.45s\n",
      "144:\ttotal: 1.42s\tremaining: 8.4s\n",
      "145:\ttotal: 1.43s\tremaining: 8.34s\n",
      "146:\ttotal: 1.43s\tremaining: 8.28s\n",
      "147:\ttotal: 1.43s\tremaining: 8.23s\n",
      "148:\ttotal: 1.43s\tremaining: 8.17s\n",
      "149:\ttotal: 1.43s\tremaining: 8.12s\n",
      "150:\ttotal: 1.43s\tremaining: 8.06s\n",
      "151:\ttotal: 1.44s\tremaining: 8.01s\n",
      "152:\ttotal: 1.44s\tremaining: 7.96s\n",
      "153:\ttotal: 1.44s\tremaining: 7.91s\n",
      "154:\ttotal: 1.44s\tremaining: 7.86s\n",
      "155:\ttotal: 1.44s\tremaining: 7.82s\n",
      "156:\ttotal: 1.45s\tremaining: 7.77s\n",
      "157:\ttotal: 1.45s\tremaining: 7.72s\n",
      "158:\ttotal: 1.45s\tremaining: 7.67s\n",
      "159:\ttotal: 1.45s\tremaining: 7.62s\n",
      "160:\ttotal: 1.53s\tremaining: 7.98s\n",
      "161:\ttotal: 1.53s\tremaining: 7.93s\n",
      "162:\ttotal: 1.54s\tremaining: 7.89s\n",
      "163:\ttotal: 1.54s\tremaining: 7.84s\n",
      "164:\ttotal: 1.54s\tremaining: 7.8s\n",
      "165:\ttotal: 1.54s\tremaining: 7.75s\n",
      "166:\ttotal: 1.54s\tremaining: 7.7s\n",
      "167:\ttotal: 1.54s\tremaining: 7.65s\n",
      "168:\ttotal: 1.55s\tremaining: 7.61s\n",
      "169:\ttotal: 1.63s\tremaining: 7.95s\n",
      "170:\ttotal: 1.63s\tremaining: 7.91s\n",
      "171:\ttotal: 1.63s\tremaining: 7.86s\n",
      "172:\ttotal: 1.63s\tremaining: 7.82s\n",
      "173:\ttotal: 1.64s\tremaining: 7.77s\n",
      "174:\ttotal: 1.64s\tremaining: 7.72s\n",
      "175:\ttotal: 1.64s\tremaining: 7.68s\n",
      "176:\ttotal: 1.64s\tremaining: 7.63s\n",
      "177:\ttotal: 1.64s\tremaining: 7.59s\n",
      "178:\ttotal: 1.64s\tremaining: 7.54s\n",
      "179:\ttotal: 1.73s\tremaining: 7.86s\n",
      "180:\ttotal: 1.73s\tremaining: 7.82s\n",
      "181:\ttotal: 1.73s\tremaining: 7.77s\n",
      "182:\ttotal: 1.73s\tremaining: 7.72s\n",
      "183:\ttotal: 1.73s\tremaining: 7.69s\n",
      "184:\ttotal: 1.74s\tremaining: 7.65s\n",
      "185:\ttotal: 1.74s\tremaining: 7.61s\n",
      "186:\ttotal: 1.74s\tremaining: 7.57s\n",
      "187:\ttotal: 1.82s\tremaining: 7.87s\n",
      "188:\ttotal: 1.82s\tremaining: 7.82s\n",
      "189:\ttotal: 1.82s\tremaining: 7.78s\n",
      "190:\ttotal: 1.83s\tremaining: 7.74s\n",
      "191:\ttotal: 1.83s\tremaining: 7.69s\n",
      "192:\ttotal: 1.83s\tremaining: 7.65s\n",
      "193:\ttotal: 1.83s\tremaining: 7.61s\n",
      "194:\ttotal: 1.83s\tremaining: 7.57s\n",
      "195:\ttotal: 1.83s\tremaining: 7.53s\n",
      "196:\ttotal: 1.84s\tremaining: 7.49s\n",
      "197:\ttotal: 1.84s\tremaining: 7.45s\n",
      "198:\ttotal: 1.92s\tremaining: 7.71s\n",
      "199:\ttotal: 1.92s\tremaining: 7.67s\n",
      "200:\ttotal: 1.92s\tremaining: 7.63s\n",
      "201:\ttotal: 1.92s\tremaining: 7.59s\n",
      "202:\ttotal: 1.92s\tremaining: 7.55s\n",
      "203:\ttotal: 1.93s\tremaining: 7.51s\n",
      "204:\ttotal: 1.93s\tremaining: 7.47s\n",
      "205:\ttotal: 1.93s\tremaining: 7.44s\n",
      "206:\ttotal: 1.93s\tremaining: 7.4s\n",
      "207:\ttotal: 2.01s\tremaining: 7.67s\n",
      "208:\ttotal: 2.02s\tremaining: 7.63s\n",
      "209:\ttotal: 2.02s\tremaining: 7.59s\n",
      "210:\ttotal: 2.02s\tremaining: 7.55s\n",
      "211:\ttotal: 2.02s\tremaining: 7.51s\n",
      "212:\ttotal: 2.02s\tremaining: 7.47s\n",
      "213:\ttotal: 2.02s\tremaining: 7.43s\n",
      "214:\ttotal: 2.03s\tremaining: 7.4s\n",
      "215:\ttotal: 2.03s\tremaining: 7.36s\n",
      "216:\ttotal: 2.03s\tremaining: 7.32s\n",
      "217:\ttotal: 2.11s\tremaining: 7.56s\n",
      "218:\ttotal: 2.11s\tremaining: 7.53s\n",
      "219:\ttotal: 2.11s\tremaining: 7.49s\n",
      "220:\ttotal: 2.11s\tremaining: 7.45s\n",
      "221:\ttotal: 2.12s\tremaining: 7.41s\n",
      "222:\ttotal: 2.12s\tremaining: 7.38s\n",
      "223:\ttotal: 2.12s\tremaining: 7.34s\n",
      "224:\ttotal: 2.12s\tremaining: 7.3s\n",
      "225:\ttotal: 2.12s\tremaining: 7.27s\n",
      "226:\ttotal: 2.13s\tremaining: 7.24s\n",
      "227:\ttotal: 2.21s\tremaining: 7.47s\n",
      "228:\ttotal: 2.21s\tremaining: 7.44s\n",
      "229:\ttotal: 2.21s\tremaining: 7.41s\n",
      "230:\ttotal: 2.22s\tremaining: 7.38s\n",
      "231:\ttotal: 2.22s\tremaining: 7.35s\n",
      "232:\ttotal: 2.3s\tremaining: 7.58s\n",
      "233:\ttotal: 2.3s\tremaining: 7.54s\n",
      "234:\ttotal: 2.31s\tremaining: 7.51s\n",
      "235:\ttotal: 2.31s\tremaining: 7.47s\n",
      "236:\ttotal: 2.31s\tremaining: 7.44s\n",
      "237:\ttotal: 2.31s\tremaining: 7.4s\n",
      "238:\ttotal: 2.31s\tremaining: 7.37s\n",
      "239:\ttotal: 2.31s\tremaining: 7.33s\n",
      "240:\ttotal: 2.32s\tremaining: 7.32s\n",
      "241:\ttotal: 2.4s\tremaining: 7.52s\n",
      "242:\ttotal: 2.4s\tremaining: 7.48s\n",
      "243:\ttotal: 2.4s\tremaining: 7.45s\n",
      "244:\ttotal: 2.4s\tremaining: 7.41s\n",
      "245:\ttotal: 2.41s\tremaining: 7.38s\n",
      "246:\ttotal: 2.41s\tremaining: 7.34s\n",
      "247:\ttotal: 2.41s\tremaining: 7.31s\n",
      "248:\ttotal: 2.42s\tremaining: 7.29s\n",
      "249:\ttotal: 2.42s\tremaining: 7.26s\n",
      "250:\ttotal: 2.42s\tremaining: 7.22s\n",
      "251:\ttotal: 2.5s\tremaining: 7.41s\n",
      "252:\ttotal: 2.5s\tremaining: 7.38s\n",
      "253:\ttotal: 2.5s\tremaining: 7.34s\n",
      "254:\ttotal: 2.5s\tremaining: 7.31s\n",
      "255:\ttotal: 2.5s\tremaining: 7.27s\n",
      "256:\ttotal: 2.5s\tremaining: 7.24s\n",
      "257:\ttotal: 2.51s\tremaining: 7.21s\n",
      "258:\ttotal: 2.51s\tremaining: 7.18s\n",
      "259:\ttotal: 2.51s\tremaining: 7.14s\n",
      "260:\ttotal: 2.51s\tremaining: 7.11s\n",
      "261:\ttotal: 2.51s\tremaining: 7.08s\n",
      "262:\ttotal: 2.52s\tremaining: 7.05s\n",
      "263:\ttotal: 2.52s\tremaining: 7.02s\n",
      "264:\ttotal: 2.52s\tremaining: 6.99s\n",
      "265:\ttotal: 2.52s\tremaining: 6.96s\n",
      "266:\ttotal: 2.52s\tremaining: 6.93s\n",
      "267:\ttotal: 2.52s\tremaining: 6.9s\n",
      "268:\ttotal: 2.53s\tremaining: 6.87s\n",
      "269:\ttotal: 2.53s\tremaining: 6.84s\n",
      "270:\ttotal: 2.61s\tremaining: 7.02s\n",
      "271:\ttotal: 2.61s\tremaining: 6.99s\n",
      "272:\ttotal: 2.61s\tremaining: 6.96s\n",
      "273:\ttotal: 2.62s\tremaining: 6.93s\n",
      "274:\ttotal: 2.62s\tremaining: 6.9s\n",
      "275:\ttotal: 2.62s\tremaining: 6.87s\n",
      "276:\ttotal: 2.62s\tremaining: 6.84s\n",
      "277:\ttotal: 2.62s\tremaining: 6.81s\n",
      "278:\ttotal: 2.62s\tremaining: 6.78s\n",
      "279:\ttotal: 2.71s\tremaining: 6.96s\n",
      "280:\ttotal: 2.71s\tremaining: 6.93s\n",
      "281:\ttotal: 2.71s\tremaining: 6.9s\n",
      "282:\ttotal: 2.71s\tremaining: 6.87s\n",
      "283:\ttotal: 2.71s\tremaining: 6.84s\n",
      "284:\ttotal: 2.72s\tremaining: 6.81s\n",
      "285:\ttotal: 2.72s\tremaining: 6.79s\n",
      "286:\ttotal: 2.8s\tremaining: 6.96s\n",
      "287:\ttotal: 2.8s\tremaining: 6.93s\n",
      "288:\ttotal: 2.81s\tremaining: 6.9s\n",
      "289:\ttotal: 2.81s\tremaining: 6.87s\n",
      "290:\ttotal: 2.81s\tremaining: 6.84s\n",
      "291:\ttotal: 2.81s\tremaining: 6.82s\n",
      "292:\ttotal: 2.81s\tremaining: 6.79s\n",
      "293:\ttotal: 2.81s\tremaining: 6.76s\n",
      "294:\ttotal: 2.82s\tremaining: 6.73s\n",
      "295:\ttotal: 2.82s\tremaining: 6.7s\n",
      "296:\ttotal: 2.82s\tremaining: 6.67s\n",
      "297:\ttotal: 2.82s\tremaining: 6.65s\n",
      "298:\ttotal: 2.82s\tremaining: 6.62s\n",
      "299:\ttotal: 2.82s\tremaining: 6.59s\n",
      "300:\ttotal: 2.83s\tremaining: 6.56s\n",
      "301:\ttotal: 2.83s\tremaining: 6.54s\n",
      "302:\ttotal: 2.83s\tremaining: 6.51s\n",
      "303:\ttotal: 2.83s\tremaining: 6.49s\n",
      "304:\ttotal: 2.92s\tremaining: 6.65s\n",
      "305:\ttotal: 2.92s\tremaining: 6.62s\n",
      "306:\ttotal: 2.92s\tremaining: 6.59s\n",
      "307:\ttotal: 2.92s\tremaining: 6.57s\n",
      "308:\ttotal: 2.92s\tremaining: 6.54s\n",
      "309:\ttotal: 2.93s\tremaining: 6.51s\n",
      "310:\ttotal: 2.93s\tremaining: 6.49s\n",
      "311:\ttotal: 2.93s\tremaining: 6.46s\n",
      "312:\ttotal: 2.93s\tremaining: 6.43s\n",
      "313:\ttotal: 2.93s\tremaining: 6.41s\n",
      "314:\ttotal: 2.94s\tremaining: 6.38s\n",
      "315:\ttotal: 3.01s\tremaining: 6.53s\n",
      "316:\ttotal: 3.02s\tremaining: 6.5s\n",
      "317:\ttotal: 3.02s\tremaining: 6.47s\n",
      "318:\ttotal: 3.02s\tremaining: 6.45s\n",
      "319:\ttotal: 3.02s\tremaining: 6.42s\n",
      "320:\ttotal: 3.03s\tremaining: 6.4s\n",
      "321:\ttotal: 3.03s\tremaining: 6.38s\n",
      "322:\ttotal: 3.03s\tremaining: 6.35s\n",
      "323:\ttotal: 3.03s\tremaining: 6.32s\n",
      "324:\ttotal: 3.11s\tremaining: 6.46s\n",
      "325:\ttotal: 3.11s\tremaining: 6.43s\n",
      "326:\ttotal: 3.11s\tremaining: 6.41s\n",
      "327:\ttotal: 3.12s\tremaining: 6.38s\n",
      "328:\ttotal: 3.12s\tremaining: 6.36s\n",
      "329:\ttotal: 3.12s\tremaining: 6.33s\n",
      "330:\ttotal: 3.12s\tremaining: 6.31s\n",
      "331:\ttotal: 3.12s\tremaining: 6.28s\n",
      "332:\ttotal: 3.12s\tremaining: 6.26s\n",
      "333:\ttotal: 3.13s\tremaining: 6.23s\n",
      "334:\ttotal: 3.21s\tremaining: 6.36s\n",
      "335:\ttotal: 3.21s\tremaining: 6.34s\n",
      "336:\ttotal: 3.21s\tremaining: 6.32s\n",
      "337:\ttotal: 3.21s\tremaining: 6.29s\n",
      "338:\ttotal: 3.21s\tremaining: 6.26s\n",
      "339:\ttotal: 3.21s\tremaining: 6.24s\n",
      "340:\ttotal: 3.22s\tremaining: 6.22s\n",
      "341:\ttotal: 3.22s\tremaining: 6.2s\n",
      "342:\ttotal: 3.3s\tremaining: 6.33s\n",
      "343:\ttotal: 3.31s\tremaining: 6.3s\n",
      "344:\ttotal: 3.31s\tremaining: 6.28s\n",
      "345:\ttotal: 3.31s\tremaining: 6.25s\n",
      "346:\ttotal: 3.31s\tremaining: 6.23s\n",
      "347:\ttotal: 3.31s\tremaining: 6.2s\n",
      "348:\ttotal: 3.31s\tremaining: 6.18s\n",
      "349:\ttotal: 3.31s\tremaining: 6.16s\n",
      "350:\ttotal: 3.32s\tremaining: 6.13s\n",
      "351:\ttotal: 3.32s\tremaining: 6.11s\n",
      "352:\ttotal: 3.32s\tremaining: 6.08s\n",
      "353:\ttotal: 3.32s\tremaining: 6.06s\n",
      "354:\ttotal: 3.32s\tremaining: 6.04s\n",
      "355:\ttotal: 3.33s\tremaining: 6.02s\n",
      "356:\ttotal: 3.33s\tremaining: 5.99s\n",
      "357:\ttotal: 3.33s\tremaining: 5.97s\n",
      "358:\ttotal: 3.33s\tremaining: 5.95s\n",
      "359:\ttotal: 3.33s\tremaining: 5.92s\n",
      "360:\ttotal: 3.34s\tremaining: 5.91s\n",
      "361:\ttotal: 3.34s\tremaining: 5.88s\n",
      "362:\ttotal: 3.34s\tremaining: 5.86s\n",
      "363:\ttotal: 3.34s\tremaining: 5.84s\n",
      "364:\ttotal: 3.34s\tremaining: 5.82s\n",
      "365:\ttotal: 3.34s\tremaining: 5.79s\n",
      "366:\ttotal: 3.35s\tremaining: 5.77s\n",
      "367:\ttotal: 3.35s\tremaining: 5.75s\n",
      "368:\ttotal: 3.35s\tremaining: 5.73s\n",
      "369:\ttotal: 3.35s\tremaining: 5.71s\n",
      "370:\ttotal: 3.35s\tremaining: 5.68s\n",
      "371:\ttotal: 3.35s\tremaining: 5.67s\n",
      "372:\ttotal: 3.36s\tremaining: 5.64s\n",
      "373:\ttotal: 3.44s\tremaining: 5.75s\n",
      "374:\ttotal: 3.44s\tremaining: 5.73s\n",
      "375:\ttotal: 3.44s\tremaining: 5.71s\n",
      "376:\ttotal: 3.44s\tremaining: 5.69s\n",
      "377:\ttotal: 3.44s\tremaining: 5.67s\n",
      "378:\ttotal: 3.44s\tremaining: 5.64s\n",
      "379:\ttotal: 3.45s\tremaining: 5.62s\n",
      "380:\ttotal: 3.45s\tremaining: 5.6s\n",
      "381:\ttotal: 3.45s\tremaining: 5.58s\n",
      "382:\ttotal: 3.45s\tremaining: 5.56s\n",
      "383:\ttotal: 3.53s\tremaining: 5.67s\n",
      "384:\ttotal: 3.54s\tremaining: 5.65s\n",
      "385:\ttotal: 3.54s\tremaining: 5.63s\n",
      "386:\ttotal: 3.54s\tremaining: 5.61s\n",
      "387:\ttotal: 3.54s\tremaining: 5.58s\n",
      "388:\ttotal: 3.54s\tremaining: 5.56s\n",
      "389:\ttotal: 3.54s\tremaining: 5.54s\n",
      "390:\ttotal: 3.54s\tremaining: 5.52s\n",
      "391:\ttotal: 3.55s\tremaining: 5.5s\n",
      "392:\ttotal: 3.55s\tremaining: 5.48s\n",
      "393:\ttotal: 3.55s\tremaining: 5.46s\n",
      "394:\ttotal: 3.55s\tremaining: 5.44s\n",
      "395:\ttotal: 3.55s\tremaining: 5.42s\n",
      "396:\ttotal: 3.56s\tremaining: 5.4s\n",
      "397:\ttotal: 3.56s\tremaining: 5.38s\n",
      "398:\ttotal: 3.56s\tremaining: 5.36s\n",
      "399:\ttotal: 3.56s\tremaining: 5.34s\n",
      "400:\ttotal: 3.56s\tremaining: 5.32s\n",
      "401:\ttotal: 3.56s\tremaining: 5.3s\n",
      "402:\ttotal: 3.65s\tremaining: 5.4s\n",
      "403:\ttotal: 3.65s\tremaining: 5.38s\n",
      "404:\ttotal: 3.65s\tremaining: 5.36s\n",
      "405:\ttotal: 3.65s\tremaining: 5.34s\n",
      "406:\ttotal: 3.65s\tremaining: 5.32s\n",
      "407:\ttotal: 3.66s\tremaining: 5.3s\n",
      "408:\ttotal: 3.66s\tremaining: 5.29s\n",
      "409:\ttotal: 3.66s\tremaining: 5.27s\n",
      "410:\ttotal: 3.66s\tremaining: 5.25s\n",
      "411:\ttotal: 3.74s\tremaining: 5.34s\n",
      "412:\ttotal: 3.74s\tremaining: 5.32s\n",
      "413:\ttotal: 3.75s\tremaining: 5.3s\n",
      "414:\ttotal: 3.75s\tremaining: 5.28s\n",
      "415:\ttotal: 3.75s\tremaining: 5.26s\n",
      "416:\ttotal: 3.75s\tremaining: 5.25s\n",
      "417:\ttotal: 3.75s\tremaining: 5.23s\n",
      "418:\ttotal: 3.76s\tremaining: 5.21s\n",
      "419:\ttotal: 3.76s\tremaining: 5.19s\n",
      "420:\ttotal: 3.76s\tremaining: 5.17s\n",
      "421:\ttotal: 3.76s\tremaining: 5.15s\n",
      "422:\ttotal: 3.76s\tremaining: 5.13s\n",
      "423:\ttotal: 3.77s\tremaining: 5.12s\n",
      "424:\ttotal: 3.77s\tremaining: 5.1s\n",
      "425:\ttotal: 3.77s\tremaining: 5.08s\n",
      "426:\ttotal: 3.78s\tremaining: 5.07s\n",
      "427:\ttotal: 3.78s\tremaining: 5.06s\n",
      "428:\ttotal: 3.86s\tremaining: 5.13s\n",
      "429:\ttotal: 3.86s\tremaining: 5.12s\n",
      "430:\ttotal: 3.86s\tremaining: 5.1s\n",
      "431:\ttotal: 3.86s\tremaining: 5.08s\n",
      "432:\ttotal: 3.87s\tremaining: 5.06s\n",
      "433:\ttotal: 3.87s\tremaining: 5.04s\n",
      "434:\ttotal: 3.87s\tremaining: 5.02s\n",
      "435:\ttotal: 3.87s\tremaining: 5.01s\n",
      "436:\ttotal: 3.87s\tremaining: 4.99s\n",
      "437:\ttotal: 3.87s\tremaining: 4.97s\n",
      "438:\ttotal: 3.95s\tremaining: 5.05s\n",
      "439:\ttotal: 3.96s\tremaining: 5.03s\n",
      "440:\ttotal: 3.96s\tremaining: 5.01s\n",
      "441:\ttotal: 3.96s\tremaining: 5s\n",
      "442:\ttotal: 3.96s\tremaining: 4.98s\n",
      "443:\ttotal: 3.96s\tremaining: 4.96s\n",
      "444:\ttotal: 3.96s\tremaining: 4.95s\n",
      "445:\ttotal: 3.97s\tremaining: 4.93s\n",
      "446:\ttotal: 3.97s\tremaining: 4.91s\n",
      "447:\ttotal: 3.97s\tremaining: 4.89s\n",
      "448:\ttotal: 3.97s\tremaining: 4.87s\n",
      "449:\ttotal: 3.97s\tremaining: 4.86s\n",
      "450:\ttotal: 3.98s\tremaining: 4.84s\n",
      "451:\ttotal: 3.98s\tremaining: 4.82s\n",
      "452:\ttotal: 3.98s\tremaining: 4.8s\n",
      "453:\ttotal: 3.98s\tremaining: 4.79s\n",
      "454:\ttotal: 3.98s\tremaining: 4.77s\n",
      "455:\ttotal: 3.98s\tremaining: 4.75s\n",
      "456:\ttotal: 3.99s\tremaining: 4.74s\n",
      "457:\ttotal: 3.99s\tremaining: 4.72s\n",
      "458:\ttotal: 3.99s\tremaining: 4.7s\n",
      "459:\ttotal: 3.99s\tremaining: 4.69s\n",
      "460:\ttotal: 3.99s\tremaining: 4.67s\n",
      "461:\ttotal: 4s\tremaining: 4.65s\n",
      "462:\ttotal: 4s\tremaining: 4.64s\n",
      "463:\ttotal: 4s\tremaining: 4.62s\n",
      "464:\ttotal: 4s\tremaining: 4.61s\n",
      "465:\ttotal: 4.08s\tremaining: 4.68s\n",
      "466:\ttotal: 4.09s\tremaining: 4.66s\n",
      "467:\ttotal: 4.09s\tremaining: 4.65s\n",
      "468:\ttotal: 4.09s\tremaining: 4.63s\n",
      "469:\ttotal: 4.09s\tremaining: 4.61s\n",
      "470:\ttotal: 4.09s\tremaining: 4.6s\n",
      "471:\ttotal: 4.09s\tremaining: 4.58s\n",
      "472:\ttotal: 4.1s\tremaining: 4.57s\n",
      "473:\ttotal: 4.1s\tremaining: 4.55s\n",
      "474:\ttotal: 4.1s\tremaining: 4.53s\n",
      "475:\ttotal: 4.1s\tremaining: 4.52s\n",
      "476:\ttotal: 4.1s\tremaining: 4.5s\n",
      "477:\ttotal: 4.11s\tremaining: 4.48s\n",
      "478:\ttotal: 4.11s\tremaining: 4.47s\n",
      "479:\ttotal: 4.11s\tremaining: 4.45s\n",
      "480:\ttotal: 4.11s\tremaining: 4.43s\n",
      "481:\ttotal: 4.11s\tremaining: 4.42s\n",
      "482:\ttotal: 4.12s\tremaining: 4.41s\n",
      "483:\ttotal: 4.12s\tremaining: 4.39s\n",
      "484:\ttotal: 4.12s\tremaining: 4.37s\n",
      "485:\ttotal: 4.12s\tremaining: 4.36s\n",
      "486:\ttotal: 4.12s\tremaining: 4.34s\n",
      "487:\ttotal: 4.12s\tremaining: 4.33s\n",
      "488:\ttotal: 4.13s\tremaining: 4.31s\n",
      "489:\ttotal: 4.13s\tremaining: 4.29s\n",
      "490:\ttotal: 4.13s\tremaining: 4.28s\n",
      "491:\ttotal: 4.13s\tremaining: 4.26s\n",
      "492:\ttotal: 4.13s\tremaining: 4.25s\n",
      "493:\ttotal: 4.13s\tremaining: 4.23s\n",
      "494:\ttotal: 4.13s\tremaining: 4.22s\n",
      "495:\ttotal: 4.22s\tremaining: 4.28s\n",
      "496:\ttotal: 4.22s\tremaining: 4.27s\n",
      "497:\ttotal: 4.22s\tremaining: 4.25s\n",
      "498:\ttotal: 4.22s\tremaining: 4.24s\n",
      "499:\ttotal: 4.22s\tremaining: 4.22s\n",
      "500:\ttotal: 4.23s\tremaining: 4.21s\n",
      "501:\ttotal: 4.23s\tremaining: 4.2s\n",
      "502:\ttotal: 4.23s\tremaining: 4.18s\n",
      "503:\ttotal: 4.23s\tremaining: 4.17s\n",
      "504:\ttotal: 4.23s\tremaining: 4.15s\n",
      "505:\ttotal: 4.24s\tremaining: 4.13s\n",
      "506:\ttotal: 4.24s\tremaining: 4.12s\n",
      "507:\ttotal: 4.24s\tremaining: 4.11s\n",
      "508:\ttotal: 4.24s\tremaining: 4.09s\n",
      "509:\ttotal: 4.24s\tremaining: 4.08s\n",
      "510:\ttotal: 4.25s\tremaining: 4.06s\n",
      "511:\ttotal: 4.25s\tremaining: 4.05s\n",
      "512:\ttotal: 4.33s\tremaining: 4.11s\n",
      "513:\ttotal: 4.33s\tremaining: 4.1s\n",
      "514:\ttotal: 4.33s\tremaining: 4.08s\n",
      "515:\ttotal: 4.34s\tremaining: 4.07s\n",
      "516:\ttotal: 4.34s\tremaining: 4.05s\n",
      "517:\ttotal: 4.34s\tremaining: 4.04s\n",
      "518:\ttotal: 4.34s\tremaining: 4.02s\n",
      "519:\ttotal: 4.34s\tremaining: 4.01s\n",
      "520:\ttotal: 4.34s\tremaining: 3.99s\n",
      "521:\ttotal: 4.35s\tremaining: 3.98s\n",
      "522:\ttotal: 4.43s\tremaining: 4.04s\n",
      "523:\ttotal: 4.43s\tremaining: 4.02s\n",
      "524:\ttotal: 4.43s\tremaining: 4.01s\n",
      "525:\ttotal: 4.43s\tremaining: 3.99s\n",
      "526:\ttotal: 4.43s\tremaining: 3.98s\n",
      "527:\ttotal: 4.44s\tremaining: 3.97s\n",
      "528:\ttotal: 4.44s\tremaining: 3.95s\n",
      "529:\ttotal: 4.44s\tremaining: 3.94s\n",
      "530:\ttotal: 4.44s\tremaining: 3.92s\n",
      "531:\ttotal: 4.52s\tremaining: 3.98s\n",
      "532:\ttotal: 4.53s\tremaining: 3.96s\n",
      "533:\ttotal: 4.53s\tremaining: 3.95s\n",
      "534:\ttotal: 4.53s\tremaining: 3.94s\n",
      "535:\ttotal: 4.53s\tremaining: 3.92s\n",
      "536:\ttotal: 4.53s\tremaining: 3.91s\n",
      "537:\ttotal: 4.53s\tremaining: 3.89s\n",
      "538:\ttotal: 4.54s\tremaining: 3.88s\n",
      "539:\ttotal: 4.54s\tremaining: 3.86s\n",
      "540:\ttotal: 4.54s\tremaining: 3.85s\n",
      "541:\ttotal: 4.62s\tremaining: 3.9s\n",
      "542:\ttotal: 4.62s\tremaining: 3.89s\n",
      "543:\ttotal: 4.62s\tremaining: 3.88s\n",
      "544:\ttotal: 4.63s\tremaining: 3.86s\n",
      "545:\ttotal: 4.63s\tremaining: 3.85s\n",
      "546:\ttotal: 4.63s\tremaining: 3.83s\n",
      "547:\ttotal: 4.63s\tremaining: 3.82s\n",
      "548:\ttotal: 4.63s\tremaining: 3.81s\n",
      "549:\ttotal: 4.63s\tremaining: 3.79s\n",
      "550:\ttotal: 4.64s\tremaining: 3.78s\n",
      "551:\ttotal: 4.64s\tremaining: 3.76s\n",
      "552:\ttotal: 4.64s\tremaining: 3.75s\n",
      "553:\ttotal: 4.64s\tremaining: 3.74s\n",
      "554:\ttotal: 4.64s\tremaining: 3.72s\n",
      "555:\ttotal: 4.64s\tremaining: 3.71s\n",
      "556:\ttotal: 4.65s\tremaining: 3.69s\n",
      "557:\ttotal: 4.65s\tremaining: 3.68s\n",
      "558:\ttotal: 4.65s\tremaining: 3.67s\n",
      "559:\ttotal: 4.65s\tremaining: 3.65s\n",
      "560:\ttotal: 4.65s\tremaining: 3.64s\n",
      "561:\ttotal: 4.74s\tremaining: 3.69s\n",
      "562:\ttotal: 4.74s\tremaining: 3.68s\n",
      "563:\ttotal: 4.74s\tremaining: 3.66s\n",
      "564:\ttotal: 4.74s\tremaining: 3.65s\n",
      "565:\ttotal: 4.74s\tremaining: 3.64s\n",
      "566:\ttotal: 4.75s\tremaining: 3.62s\n",
      "567:\ttotal: 4.75s\tremaining: 3.61s\n",
      "568:\ttotal: 4.75s\tremaining: 3.6s\n",
      "569:\ttotal: 4.75s\tremaining: 3.58s\n",
      "570:\ttotal: 4.75s\tremaining: 3.57s\n",
      "571:\ttotal: 4.75s\tremaining: 3.56s\n",
      "572:\ttotal: 4.76s\tremaining: 3.54s\n",
      "573:\ttotal: 4.76s\tremaining: 3.53s\n",
      "574:\ttotal: 4.76s\tremaining: 3.52s\n",
      "575:\ttotal: 4.76s\tremaining: 3.51s\n",
      "576:\ttotal: 4.76s\tremaining: 3.49s\n",
      "577:\ttotal: 4.77s\tremaining: 3.48s\n",
      "578:\ttotal: 4.77s\tremaining: 3.47s\n",
      "579:\ttotal: 4.77s\tremaining: 3.45s\n",
      "580:\ttotal: 4.85s\tremaining: 3.5s\n",
      "581:\ttotal: 4.85s\tremaining: 3.48s\n",
      "582:\ttotal: 4.86s\tremaining: 3.47s\n",
      "583:\ttotal: 4.86s\tremaining: 3.46s\n",
      "584:\ttotal: 4.86s\tremaining: 3.45s\n",
      "585:\ttotal: 4.86s\tremaining: 3.43s\n",
      "586:\ttotal: 4.86s\tremaining: 3.42s\n",
      "587:\ttotal: 4.86s\tremaining: 3.41s\n",
      "588:\ttotal: 4.95s\tremaining: 3.45s\n",
      "589:\ttotal: 4.95s\tremaining: 3.44s\n",
      "590:\ttotal: 4.95s\tremaining: 3.43s\n",
      "591:\ttotal: 4.96s\tremaining: 3.42s\n",
      "592:\ttotal: 4.96s\tremaining: 3.4s\n",
      "593:\ttotal: 4.96s\tremaining: 3.39s\n",
      "594:\ttotal: 5.04s\tremaining: 3.43s\n",
      "595:\ttotal: 5.04s\tremaining: 3.42s\n",
      "596:\ttotal: 5.05s\tremaining: 3.41s\n",
      "597:\ttotal: 5.05s\tremaining: 3.39s\n",
      "598:\ttotal: 5.05s\tremaining: 3.38s\n",
      "599:\ttotal: 5.05s\tremaining: 3.37s\n",
      "600:\ttotal: 5.06s\tremaining: 3.36s\n",
      "601:\ttotal: 5.14s\tremaining: 3.4s\n",
      "602:\ttotal: 5.14s\tremaining: 3.39s\n",
      "603:\ttotal: 5.14s\tremaining: 3.37s\n",
      "604:\ttotal: 5.15s\tremaining: 3.36s\n",
      "605:\ttotal: 5.15s\tremaining: 3.35s\n",
      "606:\ttotal: 5.15s\tremaining: 3.33s\n",
      "607:\ttotal: 5.15s\tremaining: 3.32s\n",
      "608:\ttotal: 5.15s\tremaining: 3.31s\n",
      "609:\ttotal: 5.16s\tremaining: 3.3s\n",
      "610:\ttotal: 5.16s\tremaining: 3.28s\n",
      "611:\ttotal: 5.16s\tremaining: 3.27s\n",
      "612:\ttotal: 5.16s\tremaining: 3.26s\n",
      "613:\ttotal: 5.16s\tremaining: 3.25s\n",
      "614:\ttotal: 5.16s\tremaining: 3.23s\n",
      "615:\ttotal: 5.17s\tremaining: 3.22s\n",
      "616:\ttotal: 5.17s\tremaining: 3.21s\n",
      "617:\ttotal: 5.17s\tremaining: 3.2s\n",
      "618:\ttotal: 5.17s\tremaining: 3.18s\n",
      "619:\ttotal: 5.17s\tremaining: 3.17s\n",
      "620:\ttotal: 5.25s\tremaining: 3.21s\n",
      "621:\ttotal: 5.26s\tremaining: 3.19s\n",
      "622:\ttotal: 5.26s\tremaining: 3.18s\n",
      "623:\ttotal: 5.26s\tremaining: 3.17s\n",
      "624:\ttotal: 5.26s\tremaining: 3.16s\n",
      "625:\ttotal: 5.26s\tremaining: 3.14s\n",
      "626:\ttotal: 5.26s\tremaining: 3.13s\n",
      "627:\ttotal: 5.27s\tremaining: 3.12s\n",
      "628:\ttotal: 5.27s\tremaining: 3.11s\n",
      "629:\ttotal: 5.27s\tremaining: 3.1s\n",
      "630:\ttotal: 5.27s\tremaining: 3.08s\n",
      "631:\ttotal: 5.35s\tremaining: 3.12s\n",
      "632:\ttotal: 5.35s\tremaining: 3.1s\n",
      "633:\ttotal: 5.36s\tremaining: 3.09s\n",
      "634:\ttotal: 5.36s\tremaining: 3.08s\n",
      "635:\ttotal: 5.36s\tremaining: 3.07s\n",
      "636:\ttotal: 5.36s\tremaining: 3.05s\n",
      "637:\ttotal: 5.36s\tremaining: 3.04s\n",
      "638:\ttotal: 5.37s\tremaining: 3.03s\n",
      "639:\ttotal: 5.37s\tremaining: 3.02s\n",
      "640:\ttotal: 5.37s\tremaining: 3.01s\n",
      "641:\ttotal: 5.37s\tremaining: 2.99s\n",
      "642:\ttotal: 5.37s\tremaining: 2.98s\n",
      "643:\ttotal: 5.37s\tremaining: 2.97s\n",
      "644:\ttotal: 5.38s\tremaining: 2.96s\n",
      "645:\ttotal: 5.38s\tremaining: 2.95s\n",
      "646:\ttotal: 5.38s\tremaining: 2.93s\n",
      "647:\ttotal: 5.38s\tremaining: 2.92s\n",
      "648:\ttotal: 5.38s\tremaining: 2.91s\n",
      "649:\ttotal: 5.38s\tremaining: 2.9s\n",
      "650:\ttotal: 5.47s\tremaining: 2.93s\n",
      "651:\ttotal: 5.47s\tremaining: 2.92s\n",
      "652:\ttotal: 5.47s\tremaining: 2.91s\n",
      "653:\ttotal: 5.47s\tremaining: 2.89s\n",
      "654:\ttotal: 5.47s\tremaining: 2.88s\n",
      "655:\ttotal: 5.47s\tremaining: 2.87s\n",
      "656:\ttotal: 5.48s\tremaining: 2.86s\n",
      "657:\ttotal: 5.48s\tremaining: 2.85s\n",
      "658:\ttotal: 5.49s\tremaining: 2.84s\n",
      "659:\ttotal: 5.56s\tremaining: 2.87s\n",
      "660:\ttotal: 5.57s\tremaining: 2.85s\n",
      "661:\ttotal: 5.57s\tremaining: 2.84s\n",
      "662:\ttotal: 5.57s\tremaining: 2.83s\n",
      "663:\ttotal: 5.57s\tremaining: 2.82s\n",
      "664:\ttotal: 5.57s\tremaining: 2.81s\n",
      "665:\ttotal: 5.57s\tremaining: 2.79s\n",
      "666:\ttotal: 5.57s\tremaining: 2.78s\n",
      "667:\ttotal: 5.58s\tremaining: 2.77s\n",
      "668:\ttotal: 5.58s\tremaining: 2.76s\n",
      "669:\ttotal: 5.58s\tremaining: 2.75s\n",
      "670:\ttotal: 5.58s\tremaining: 2.74s\n",
      "671:\ttotal: 5.58s\tremaining: 2.73s\n",
      "672:\ttotal: 5.58s\tremaining: 2.71s\n",
      "673:\ttotal: 5.59s\tremaining: 2.7s\n",
      "674:\ttotal: 5.59s\tremaining: 2.69s\n",
      "675:\ttotal: 5.59s\tremaining: 2.68s\n",
      "676:\ttotal: 5.59s\tremaining: 2.67s\n",
      "677:\ttotal: 5.59s\tremaining: 2.66s\n",
      "678:\ttotal: 5.59s\tremaining: 2.65s\n",
      "679:\ttotal: 5.6s\tremaining: 2.63s\n",
      "680:\ttotal: 5.68s\tremaining: 2.66s\n",
      "681:\ttotal: 5.68s\tremaining: 2.65s\n",
      "682:\ttotal: 5.68s\tremaining: 2.64s\n",
      "683:\ttotal: 5.68s\tremaining: 2.63s\n",
      "684:\ttotal: 5.68s\tremaining: 2.61s\n",
      "685:\ttotal: 5.69s\tremaining: 2.6s\n",
      "686:\ttotal: 5.69s\tremaining: 2.59s\n",
      "687:\ttotal: 5.69s\tremaining: 2.58s\n",
      "688:\ttotal: 5.69s\tremaining: 2.57s\n",
      "689:\ttotal: 5.7s\tremaining: 2.56s\n",
      "690:\ttotal: 5.7s\tremaining: 2.55s\n",
      "691:\ttotal: 5.7s\tremaining: 2.54s\n",
      "692:\ttotal: 5.7s\tremaining: 2.52s\n",
      "693:\ttotal: 5.7s\tremaining: 2.51s\n",
      "694:\ttotal: 5.71s\tremaining: 2.5s\n",
      "695:\ttotal: 5.71s\tremaining: 2.49s\n",
      "696:\ttotal: 5.71s\tremaining: 2.48s\n",
      "697:\ttotal: 5.71s\tremaining: 2.47s\n",
      "698:\ttotal: 5.71s\tremaining: 2.46s\n",
      "699:\ttotal: 5.79s\tremaining: 2.48s\n",
      "700:\ttotal: 5.79s\tremaining: 2.47s\n",
      "701:\ttotal: 5.79s\tremaining: 2.46s\n",
      "702:\ttotal: 5.8s\tremaining: 2.45s\n",
      "703:\ttotal: 5.8s\tremaining: 2.44s\n",
      "704:\ttotal: 5.8s\tremaining: 2.43s\n",
      "705:\ttotal: 5.8s\tremaining: 2.42s\n",
      "706:\ttotal: 5.8s\tremaining: 2.4s\n",
      "707:\ttotal: 5.89s\tremaining: 2.43s\n",
      "708:\ttotal: 5.89s\tremaining: 2.42s\n",
      "709:\ttotal: 5.89s\tremaining: 2.4s\n",
      "710:\ttotal: 5.89s\tremaining: 2.39s\n",
      "711:\ttotal: 5.89s\tremaining: 2.38s\n",
      "712:\ttotal: 5.9s\tremaining: 2.37s\n",
      "713:\ttotal: 5.9s\tremaining: 2.36s\n",
      "714:\ttotal: 5.91s\tremaining: 2.35s\n",
      "715:\ttotal: 5.98s\tremaining: 2.37s\n",
      "716:\ttotal: 5.99s\tremaining: 2.36s\n",
      "717:\ttotal: 5.99s\tremaining: 2.35s\n",
      "718:\ttotal: 5.99s\tremaining: 2.34s\n",
      "719:\ttotal: 5.99s\tremaining: 2.33s\n",
      "720:\ttotal: 5.99s\tremaining: 2.32s\n",
      "721:\ttotal: 6s\tremaining: 2.31s\n",
      "722:\ttotal: 6s\tremaining: 2.3s\n",
      "723:\ttotal: 6s\tremaining: 2.29s\n",
      "724:\ttotal: 6s\tremaining: 2.28s\n",
      "725:\ttotal: 6s\tremaining: 2.27s\n",
      "726:\ttotal: 6s\tremaining: 2.25s\n",
      "727:\ttotal: 6.01s\tremaining: 2.24s\n",
      "728:\ttotal: 6.01s\tremaining: 2.23s\n",
      "729:\ttotal: 6.01s\tremaining: 2.22s\n",
      "730:\ttotal: 6.01s\tremaining: 2.21s\n",
      "731:\ttotal: 6.01s\tremaining: 2.2s\n",
      "732:\ttotal: 6.01s\tremaining: 2.19s\n",
      "733:\ttotal: 6.02s\tremaining: 2.18s\n",
      "734:\ttotal: 6.02s\tremaining: 2.17s\n",
      "735:\ttotal: 6.1s\tremaining: 2.19s\n",
      "736:\ttotal: 6.1s\tremaining: 2.18s\n",
      "737:\ttotal: 6.1s\tremaining: 2.17s\n",
      "738:\ttotal: 6.1s\tremaining: 2.15s\n",
      "739:\ttotal: 6.11s\tremaining: 2.15s\n",
      "740:\ttotal: 6.11s\tremaining: 2.13s\n",
      "741:\ttotal: 6.11s\tremaining: 2.12s\n",
      "742:\ttotal: 6.11s\tremaining: 2.11s\n",
      "743:\ttotal: 6.11s\tremaining: 2.1s\n",
      "744:\ttotal: 6.11s\tremaining: 2.09s\n",
      "745:\ttotal: 6.2s\tremaining: 2.11s\n",
      "746:\ttotal: 6.2s\tremaining: 2.1s\n",
      "747:\ttotal: 6.2s\tremaining: 2.09s\n",
      "748:\ttotal: 6.21s\tremaining: 2.08s\n",
      "749:\ttotal: 6.21s\tremaining: 2.07s\n",
      "750:\ttotal: 6.21s\tremaining: 2.06s\n",
      "751:\ttotal: 6.29s\tremaining: 2.08s\n",
      "752:\ttotal: 6.29s\tremaining: 2.06s\n",
      "753:\ttotal: 6.3s\tremaining: 2.05s\n",
      "754:\ttotal: 6.3s\tremaining: 2.04s\n",
      "755:\ttotal: 6.3s\tremaining: 2.03s\n",
      "756:\ttotal: 6.3s\tremaining: 2.02s\n",
      "757:\ttotal: 6.3s\tremaining: 2.01s\n",
      "758:\ttotal: 6.3s\tremaining: 2s\n",
      "759:\ttotal: 6.31s\tremaining: 1.99s\n",
      "760:\ttotal: 6.31s\tremaining: 1.98s\n",
      "761:\ttotal: 6.39s\tremaining: 2s\n",
      "762:\ttotal: 6.39s\tremaining: 1.99s\n",
      "763:\ttotal: 6.39s\tremaining: 1.97s\n",
      "764:\ttotal: 6.39s\tremaining: 1.96s\n",
      "765:\ttotal: 6.4s\tremaining: 1.95s\n",
      "766:\ttotal: 6.4s\tremaining: 1.94s\n",
      "767:\ttotal: 6.4s\tremaining: 1.93s\n",
      "768:\ttotal: 6.4s\tremaining: 1.92s\n",
      "769:\ttotal: 6.4s\tremaining: 1.91s\n",
      "770:\ttotal: 6.4s\tremaining: 1.9s\n",
      "771:\ttotal: 6.49s\tremaining: 1.92s\n",
      "772:\ttotal: 6.49s\tremaining: 1.91s\n",
      "773:\ttotal: 6.49s\tremaining: 1.89s\n",
      "774:\ttotal: 6.49s\tremaining: 1.88s\n",
      "775:\ttotal: 6.49s\tremaining: 1.87s\n",
      "776:\ttotal: 6.49s\tremaining: 1.86s\n",
      "777:\ttotal: 6.5s\tremaining: 1.85s\n",
      "778:\ttotal: 6.5s\tremaining: 1.84s\n",
      "779:\ttotal: 6.58s\tremaining: 1.86s\n",
      "780:\ttotal: 6.58s\tremaining: 1.85s\n",
      "781:\ttotal: 6.58s\tremaining: 1.83s\n",
      "782:\ttotal: 6.59s\tremaining: 1.82s\n",
      "783:\ttotal: 6.59s\tremaining: 1.81s\n",
      "784:\ttotal: 6.59s\tremaining: 1.8s\n",
      "785:\ttotal: 6.59s\tremaining: 1.79s\n",
      "786:\ttotal: 6.59s\tremaining: 1.78s\n",
      "787:\ttotal: 6.59s\tremaining: 1.77s\n",
      "788:\ttotal: 6.6s\tremaining: 1.76s\n",
      "789:\ttotal: 6.68s\tremaining: 1.77s\n",
      "790:\ttotal: 6.68s\tremaining: 1.76s\n",
      "791:\ttotal: 6.68s\tremaining: 1.75s\n",
      "792:\ttotal: 6.68s\tremaining: 1.74s\n",
      "793:\ttotal: 6.68s\tremaining: 1.73s\n",
      "794:\ttotal: 6.68s\tremaining: 1.72s\n",
      "795:\ttotal: 6.69s\tremaining: 1.71s\n",
      "796:\ttotal: 6.69s\tremaining: 1.7s\n",
      "797:\ttotal: 6.69s\tremaining: 1.69s\n",
      "798:\ttotal: 6.77s\tremaining: 1.7s\n",
      "799:\ttotal: 6.78s\tremaining: 1.69s\n",
      "800:\ttotal: 6.78s\tremaining: 1.68s\n",
      "801:\ttotal: 6.78s\tremaining: 1.67s\n",
      "802:\ttotal: 6.78s\tremaining: 1.66s\n",
      "803:\ttotal: 6.78s\tremaining: 1.65s\n",
      "804:\ttotal: 6.78s\tremaining: 1.64s\n",
      "805:\ttotal: 6.79s\tremaining: 1.63s\n",
      "806:\ttotal: 6.79s\tremaining: 1.62s\n",
      "807:\ttotal: 6.79s\tremaining: 1.61s\n",
      "808:\ttotal: 6.87s\tremaining: 1.62s\n",
      "809:\ttotal: 6.87s\tremaining: 1.61s\n",
      "810:\ttotal: 6.87s\tremaining: 1.6s\n",
      "811:\ttotal: 6.88s\tremaining: 1.59s\n",
      "812:\ttotal: 6.88s\tremaining: 1.58s\n",
      "813:\ttotal: 6.88s\tremaining: 1.57s\n",
      "814:\ttotal: 6.88s\tremaining: 1.56s\n",
      "815:\ttotal: 6.88s\tremaining: 1.55s\n",
      "816:\ttotal: 6.88s\tremaining: 1.54s\n",
      "817:\ttotal: 6.89s\tremaining: 1.53s\n",
      "818:\ttotal: 6.97s\tremaining: 1.54s\n",
      "819:\ttotal: 6.97s\tremaining: 1.53s\n",
      "820:\ttotal: 6.97s\tremaining: 1.52s\n",
      "821:\ttotal: 6.97s\tremaining: 1.51s\n",
      "822:\ttotal: 6.97s\tremaining: 1.5s\n",
      "823:\ttotal: 6.98s\tremaining: 1.49s\n",
      "824:\ttotal: 6.98s\tremaining: 1.48s\n",
      "825:\ttotal: 6.98s\tremaining: 1.47s\n",
      "826:\ttotal: 6.98s\tremaining: 1.46s\n",
      "827:\ttotal: 7.06s\tremaining: 1.47s\n",
      "828:\ttotal: 7.07s\tremaining: 1.46s\n",
      "829:\ttotal: 7.07s\tremaining: 1.45s\n",
      "830:\ttotal: 7.07s\tremaining: 1.44s\n",
      "831:\ttotal: 7.07s\tremaining: 1.43s\n",
      "832:\ttotal: 7.07s\tremaining: 1.42s\n",
      "833:\ttotal: 7.07s\tremaining: 1.41s\n",
      "834:\ttotal: 7.08s\tremaining: 1.4s\n",
      "835:\ttotal: 7.08s\tremaining: 1.39s\n",
      "836:\ttotal: 7.08s\tremaining: 1.38s\n",
      "837:\ttotal: 7.16s\tremaining: 1.38s\n",
      "838:\ttotal: 7.16s\tremaining: 1.37s\n",
      "839:\ttotal: 7.16s\tremaining: 1.36s\n",
      "840:\ttotal: 7.17s\tremaining: 1.35s\n",
      "841:\ttotal: 7.17s\tremaining: 1.34s\n",
      "842:\ttotal: 7.17s\tremaining: 1.33s\n",
      "843:\ttotal: 7.17s\tremaining: 1.32s\n",
      "844:\ttotal: 7.17s\tremaining: 1.31s\n",
      "845:\ttotal: 7.17s\tremaining: 1.31s\n",
      "846:\ttotal: 7.26s\tremaining: 1.31s\n",
      "847:\ttotal: 7.26s\tremaining: 1.3s\n",
      "848:\ttotal: 7.26s\tremaining: 1.29s\n",
      "849:\ttotal: 7.26s\tremaining: 1.28s\n",
      "850:\ttotal: 7.26s\tremaining: 1.27s\n",
      "851:\ttotal: 7.26s\tremaining: 1.26s\n",
      "852:\ttotal: 7.27s\tremaining: 1.25s\n",
      "853:\ttotal: 7.27s\tremaining: 1.24s\n",
      "854:\ttotal: 7.27s\tremaining: 1.23s\n",
      "855:\ttotal: 7.27s\tremaining: 1.22s\n",
      "856:\ttotal: 7.35s\tremaining: 1.23s\n",
      "857:\ttotal: 7.36s\tremaining: 1.22s\n",
      "858:\ttotal: 7.36s\tremaining: 1.21s\n",
      "859:\ttotal: 7.36s\tremaining: 1.2s\n",
      "860:\ttotal: 7.36s\tremaining: 1.19s\n",
      "861:\ttotal: 7.37s\tremaining: 1.18s\n",
      "862:\ttotal: 7.37s\tremaining: 1.17s\n",
      "863:\ttotal: 7.37s\tremaining: 1.16s\n",
      "864:\ttotal: 7.45s\tremaining: 1.16s\n",
      "865:\ttotal: 7.45s\tremaining: 1.15s\n",
      "866:\ttotal: 7.45s\tremaining: 1.14s\n",
      "867:\ttotal: 7.46s\tremaining: 1.13s\n",
      "868:\ttotal: 7.46s\tremaining: 1.12s\n",
      "869:\ttotal: 7.46s\tremaining: 1.11s\n",
      "870:\ttotal: 7.46s\tremaining: 1.1s\n",
      "871:\ttotal: 7.46s\tremaining: 1.09s\n",
      "872:\ttotal: 7.46s\tremaining: 1.09s\n",
      "873:\ttotal: 7.47s\tremaining: 1.08s\n",
      "874:\ttotal: 7.55s\tremaining: 1.08s\n",
      "875:\ttotal: 7.55s\tremaining: 1.07s\n",
      "876:\ttotal: 7.55s\tremaining: 1.06s\n",
      "877:\ttotal: 7.55s\tremaining: 1.05s\n",
      "878:\ttotal: 7.55s\tremaining: 1.04s\n",
      "879:\ttotal: 7.56s\tremaining: 1.03s\n",
      "880:\ttotal: 7.56s\tremaining: 1.02s\n",
      "881:\ttotal: 7.56s\tremaining: 1.01s\n",
      "882:\ttotal: 7.56s\tremaining: 1s\n",
      "883:\ttotal: 7.57s\tremaining: 993ms\n",
      "884:\ttotal: 7.57s\tremaining: 983ms\n",
      "885:\ttotal: 7.57s\tremaining: 974ms\n",
      "886:\ttotal: 7.57s\tremaining: 964ms\n",
      "887:\ttotal: 7.57s\tremaining: 955ms\n",
      "888:\ttotal: 7.57s\tremaining: 946ms\n",
      "889:\ttotal: 7.58s\tremaining: 936ms\n",
      "890:\ttotal: 7.58s\tremaining: 927ms\n",
      "891:\ttotal: 7.58s\tremaining: 918ms\n",
      "892:\ttotal: 7.58s\tremaining: 908ms\n",
      "893:\ttotal: 7.66s\tremaining: 908ms\n",
      "894:\ttotal: 7.66s\tremaining: 899ms\n",
      "895:\ttotal: 7.66s\tremaining: 890ms\n",
      "896:\ttotal: 7.67s\tremaining: 880ms\n",
      "897:\ttotal: 7.67s\tremaining: 871ms\n",
      "898:\ttotal: 7.67s\tremaining: 862ms\n",
      "899:\ttotal: 7.67s\tremaining: 852ms\n",
      "900:\ttotal: 7.67s\tremaining: 843ms\n",
      "901:\ttotal: 7.68s\tremaining: 834ms\n",
      "902:\ttotal: 7.76s\tremaining: 833ms\n",
      "903:\ttotal: 7.76s\tremaining: 824ms\n",
      "904:\ttotal: 7.76s\tremaining: 815ms\n",
      "905:\ttotal: 7.76s\tremaining: 805ms\n",
      "906:\ttotal: 7.76s\tremaining: 796ms\n",
      "907:\ttotal: 7.76s\tremaining: 787ms\n",
      "908:\ttotal: 7.77s\tremaining: 778ms\n",
      "909:\ttotal: 7.77s\tremaining: 768ms\n",
      "910:\ttotal: 7.77s\tremaining: 759ms\n",
      "911:\ttotal: 7.77s\tremaining: 750ms\n",
      "912:\ttotal: 7.77s\tremaining: 741ms\n",
      "913:\ttotal: 7.78s\tremaining: 732ms\n",
      "914:\ttotal: 7.78s\tremaining: 722ms\n",
      "915:\ttotal: 7.78s\tremaining: 713ms\n",
      "916:\ttotal: 7.78s\tremaining: 704ms\n",
      "917:\ttotal: 7.78s\tremaining: 695ms\n",
      "918:\ttotal: 7.78s\tremaining: 686ms\n",
      "919:\ttotal: 7.79s\tremaining: 677ms\n",
      "920:\ttotal: 7.79s\tremaining: 668ms\n",
      "921:\ttotal: 7.87s\tremaining: 666ms\n",
      "922:\ttotal: 7.87s\tremaining: 657ms\n",
      "923:\ttotal: 7.88s\tremaining: 648ms\n",
      "924:\ttotal: 7.88s\tremaining: 639ms\n",
      "925:\ttotal: 7.88s\tremaining: 630ms\n",
      "926:\ttotal: 7.88s\tremaining: 621ms\n",
      "927:\ttotal: 7.88s\tremaining: 612ms\n",
      "928:\ttotal: 7.89s\tremaining: 603ms\n",
      "929:\ttotal: 7.89s\tremaining: 594ms\n",
      "930:\ttotal: 7.89s\tremaining: 585ms\n",
      "931:\ttotal: 7.89s\tremaining: 576ms\n",
      "932:\ttotal: 7.89s\tremaining: 567ms\n",
      "933:\ttotal: 7.89s\tremaining: 558ms\n",
      "934:\ttotal: 7.9s\tremaining: 549ms\n",
      "935:\ttotal: 7.9s\tremaining: 540ms\n",
      "936:\ttotal: 7.9s\tremaining: 531ms\n",
      "937:\ttotal: 7.9s\tremaining: 522ms\n",
      "938:\ttotal: 7.9s\tremaining: 513ms\n",
      "939:\ttotal: 7.91s\tremaining: 505ms\n",
      "940:\ttotal: 7.91s\tremaining: 496ms\n",
      "941:\ttotal: 7.91s\tremaining: 487ms\n",
      "942:\ttotal: 7.91s\tremaining: 478ms\n",
      "943:\ttotal: 7.91s\tremaining: 469ms\n",
      "944:\ttotal: 7.92s\tremaining: 461ms\n",
      "945:\ttotal: 7.92s\tremaining: 452ms\n",
      "946:\ttotal: 7.92s\tremaining: 443ms\n",
      "947:\ttotal: 7.92s\tremaining: 434ms\n",
      "948:\ttotal: 7.92s\tremaining: 426ms\n",
      "949:\ttotal: 7.92s\tremaining: 417ms\n",
      "950:\ttotal: 7.92s\tremaining: 408ms\n",
      "951:\ttotal: 8.01s\tremaining: 404ms\n",
      "952:\ttotal: 8.01s\tremaining: 395ms\n",
      "953:\ttotal: 8.01s\tremaining: 386ms\n",
      "954:\ttotal: 8.01s\tremaining: 378ms\n",
      "955:\ttotal: 8.01s\tremaining: 369ms\n",
      "956:\ttotal: 8.02s\tremaining: 360ms\n",
      "957:\ttotal: 8.02s\tremaining: 352ms\n",
      "958:\ttotal: 8.02s\tremaining: 343ms\n",
      "959:\ttotal: 8.02s\tremaining: 334ms\n",
      "960:\ttotal: 8.02s\tremaining: 326ms\n",
      "961:\ttotal: 8.03s\tremaining: 317ms\n",
      "962:\ttotal: 8.03s\tremaining: 309ms\n",
      "963:\ttotal: 8.03s\tremaining: 300ms\n",
      "964:\ttotal: 8.03s\tremaining: 291ms\n",
      "965:\ttotal: 8.04s\tremaining: 283ms\n",
      "966:\ttotal: 8.04s\tremaining: 274ms\n",
      "967:\ttotal: 8.04s\tremaining: 266ms\n",
      "968:\ttotal: 8.12s\tremaining: 260ms\n",
      "969:\ttotal: 8.12s\tremaining: 251ms\n",
      "970:\ttotal: 8.12s\tremaining: 243ms\n",
      "971:\ttotal: 8.13s\tremaining: 234ms\n",
      "972:\ttotal: 8.13s\tremaining: 226ms\n",
      "973:\ttotal: 8.13s\tremaining: 217ms\n",
      "974:\ttotal: 8.13s\tremaining: 208ms\n",
      "975:\ttotal: 8.13s\tremaining: 200ms\n",
      "976:\ttotal: 8.13s\tremaining: 191ms\n",
      "977:\ttotal: 8.13s\tremaining: 183ms\n",
      "978:\ttotal: 8.14s\tremaining: 175ms\n",
      "979:\ttotal: 8.14s\tremaining: 166ms\n",
      "980:\ttotal: 8.14s\tremaining: 158ms\n",
      "981:\ttotal: 8.14s\tremaining: 149ms\n",
      "982:\ttotal: 8.14s\tremaining: 141ms\n",
      "983:\ttotal: 8.15s\tremaining: 132ms\n",
      "984:\ttotal: 8.15s\tremaining: 124ms\n",
      "985:\ttotal: 8.15s\tremaining: 116ms\n",
      "986:\ttotal: 8.15s\tremaining: 107ms\n",
      "987:\ttotal: 8.15s\tremaining: 99ms\n",
      "988:\ttotal: 8.16s\tremaining: 90.7ms\n",
      "989:\ttotal: 8.16s\tremaining: 82.4ms\n",
      "990:\ttotal: 8.16s\tremaining: 74.1ms\n",
      "991:\ttotal: 8.16s\tremaining: 65.8ms\n",
      "992:\ttotal: 8.16s\tremaining: 57.5ms\n",
      "993:\ttotal: 8.16s\tremaining: 49.3ms\n",
      "994:\ttotal: 8.17s\tremaining: 41ms\n",
      "995:\ttotal: 8.17s\tremaining: 32.8ms\n",
      "996:\ttotal: 8.17s\tremaining: 24.6ms\n",
      "997:\ttotal: 8.17s\tremaining: 16.4ms\n",
      "998:\ttotal: 8.18s\tremaining: 8.18ms\n",
      "999:\ttotal: 8.18s\tremaining: 0us\n"
     ]
    }
   ],
   "source": [
    "start = timeit.default_timer()\n",
    "cat_boost_clf = CatBoostClassifier(iterations=1000, custom_metric='Accuracy', eval_metric='AUC',\n",
    "                                   sampling_frequency='PerTreeLevel', random_state=42, learning_rate=0.55, \n",
    "                                   l2_leaf_reg=2, bagging_temperature=6, depth=3)\n",
    "cat_boost_clf.fit(X_train_st, y_train)\n",
    "prediction_valid = cat_boost_clf.predict(X_valid_st)\n",
    "probabilities_one_valid = cat_boost_clf.predict_proba(X_valid_st)[:, 1]\n",
    "stop = timeit.default_timer()"
   ]
  },
  {
   "cell_type": "code",
   "execution_count": 53,
   "metadata": {},
   "outputs": [
    {
     "name": "stdout",
     "output_type": "stream",
     "text": [
      "AUC-ROC 0.9375778242785915\n",
      "Accuracy 0.9070262597586941\n",
      "Time spent: 12.41 sec\n"
     ]
    }
   ],
   "source": [
    "metrics(y_valid, prediction_valid, probabilities_one_valid)\n",
    "print(f'Time spent: {stop - start:.2f} sec')"
   ]
  },
  {
   "cell_type": "markdown",
   "metadata": {},
   "source": [
    "<a id='Тестирование модели'></a>"
   ]
  },
  {
   "cell_type": "markdown",
   "metadata": {},
   "source": [
    "### <p style=\"text-align:center\"> Тестирование модели </p>"
   ]
  },
  {
   "cell_type": "code",
   "execution_count": 54,
   "metadata": {},
   "outputs": [],
   "source": [
    "prediction_test = cat_boost_clf.predict(X_test_st)\n",
    "probabilities_one_test = cat_boost_clf.predict_proba(X_test_st)[:, 1]"
   ]
  },
  {
   "cell_type": "markdown",
   "metadata": {},
   "source": [
    "Основные метрики на тестовой выборке."
   ]
  },
  {
   "cell_type": "code",
   "execution_count": 55,
   "metadata": {},
   "outputs": [
    {
     "name": "stdout",
     "output_type": "stream",
     "text": [
      "AUC-ROC 0.9603503061303572\n",
      "Accuracy 0.921930447125621\n"
     ]
    }
   ],
   "source": [
    "metrics(y_test, prediction_test, probabilities_one_test)"
   ]
  },
  {
   "cell_type": "markdown",
   "metadata": {},
   "source": [
    "<a id='Интерпретация результатов'></a>"
   ]
  },
  {
   "cell_type": "markdown",
   "metadata": {},
   "source": [
    "### <p style=\"text-align:center\"> Интерпретация результатов </p>"
   ]
  },
  {
   "cell_type": "markdown",
   "metadata": {},
   "source": [
    "Для лучшей интерпретируемости результатов выведем ROC-AUC и confusion matrix, а также feature importance."
   ]
  },
  {
   "cell_type": "markdown",
   "metadata": {},
   "source": [
    "Как видно на матрице ошибок, наша модель достаточно редко ошибается как в предсказывании потери клиента, так и в предсказывании его лояльности."
   ]
  },
  {
   "cell_type": "code",
   "execution_count": 56,
   "metadata": {},
   "outputs": [
    {
     "data": {
      "image/png": "[encoded data removed]",
      "text/plain": [
       "<Figure size 360x288 with 2 Axes>"
      ]
     },
     "metadata": {
      "needs_background": "light"
     },
     "output_type": "display_data"
    }
   ],
   "source": [
    "plt.figure(figsize=(5,4))\n",
    "sns.heatmap(confusion_matrix(y_test, prediction_test),\n",
    "            annot=True, cmap='Blues', fmt='.0f')\n",
    "plt.xlabel('Predicted Labels')\n",
    "plt.ylabel('True Labels')\n",
    "plt.tight_layout()\n",
    "plt.show()"
   ]
  },
  {
   "cell_type": "code",
   "execution_count": 57,
   "metadata": {},
   "outputs": [],
   "source": [
    "pred_proba_rf_clf = rf_clf.predict_proba(X_test_st)[:, 1]\n",
    "pred_proba_log_reg = log_reg.predict_proba(X_test_st)[:, 1]\n",
    "pred_proba_sgd_clf = sgd_clf.predict_proba(X_test_st)[:, 1]"
   ]
  },
  {
   "cell_type": "markdown",
   "metadata": {},
   "source": [
    "На сравнительном графике видно, насколько лучше CatBoost Classifier всех остальных моделей. На втором месте RandomForest Classifier, далее остальные."
   ]
  },
  {
   "cell_type": "code",
   "execution_count": 58,
   "metadata": {},
   "outputs": [
    {
     "data": {
      "image/png": "[encoded data removed]",
      "text/plain": [
       "<Figure size 432x288 with 1 Axes>"
      ]
     },
     "metadata": {
      "needs_background": "light"
     },
     "output_type": "display_data"
    }
   ],
   "source": [
    "plt.figure(0).clf()\n",
    "fpr, tpr, thresholds = roc_curve(y_test, probabilities_one_test)\n",
    "plt.plot(fpr,tpr,label=\"CatBoostClassifier\")\n",
    "fpr, tpr, thresholds = roc_curve(y_test, pred_proba_rf_clf)\n",
    "plt.plot(fpr,tpr,label=\"RandomForestClassifier\")\n",
    "fpr, tpr, thresholds = roc_curve(y_test, pred_proba_log_reg)\n",
    "plt.plot(fpr,tpr,label=\"Logistic Regression\")\n",
    "fpr, tpr, thresholds = roc_curve(y_test, pred_proba_sgd_clf)\n",
    "plt.plot(fpr,tpr,label=\"SGD Classifier\")\n",
    "plt.plot([0, 1], [0, 1], linestyle='--')\n",
    "plt.xlim([0.0, 1.0])\n",
    "plt.ylim([0.0, 1.0])\n",
    "plt.xlabel('False Positive Rate')\n",
    "plt.ylabel('True Positive Rate')\n",
    "plt.title('ROC-AUC')\n",
    "plt.legend(loc=0)\n",
    "plt.show()"
   ]
  },
  {
   "cell_type": "markdown",
   "metadata": {},
   "source": [
    "Нижепредставленный график позволит лучше понять причины ухода клиентов."
   ]
  },
  {
   "cell_type": "code",
   "execution_count": 59,
   "metadata": {},
   "outputs": [
    {
     "data": {
      "image/png": "[encoded data removed]",
      "text/plain": [
       "<Figure size 1080x288 with 1 Axes>"
      ]
     },
     "metadata": {
      "needs_background": "light"
     },
     "output_type": "display_data"
    }
   ],
   "source": [
    "df_feature_importance = pd.DataFrame(cat_boost_clf.feature_importances_, index=df_del_corr.drop('exited', axis=1).columns, \n",
    "                                     columns=['feature_importance']).sort_values('feature_importance', ascending=False)\n",
    "plt.figure(figsize=(15,4))\n",
    "plt.bar(df_feature_importance.index, df_feature_importance['feature_importance'])\n",
    "plt.xticks(rotation=90)\n",
    "plt.show()"
   ]
  },
  {
   "cell_type": "markdown",
   "metadata": {},
   "source": [
    "<a id='Вывод_3'></a>\n"
   ]
  },
  {
   "cell_type": "markdown",
   "metadata": {},
   "source": [
    "### <p style=\"text-align:center\"> Вывод</p>"
   ]
  },
  {
   "cell_type": "markdown",
   "metadata": {},
   "source": [
    "##### В ходе работы по обучению и тестированию моделей добились следующего:\n",
    "\n",
    "___\n",
    "\n",
    "\n",
    "1. Было обучено 4 модели машинного обучения: CatBoost Classifier, Random Forest Classifier, Logistic Regression и SGD Classifier.\n",
    "\n",
    "\n",
    "2. В исследовательском анализе отметили факторы оттока, наиболее сильными оказались total_charges, life_time, monthly_charges и т.д.\n",
    "\n",
    "\n",
    "3. В ходе обучения моделей была выбрана CatBoost Classifier, которая дала значение AUC-ROC 0.960, значение дополнительной интерпретационной метрики Accuracy 0.922. Качество остальных моделей оказалось похуже.\n",
    "\n",
    "\n",
    "___\n"
   ]
  },
  {
   "cell_type": "markdown",
   "metadata": {},
   "source": [
    "<a id='Вывод_4'></a>"
   ]
  },
  {
   "cell_type": "markdown",
   "metadata": {},
   "source": [
    "# Часть 4. Общий вывод"
   ]
  },
  {
   "cell_type": "markdown",
   "metadata": {},
   "source": [
    "1. План был выполнен полностью, однако в плане не было учтено несколько важных шагов, таких как оценка мультиколлинеарности и  стандартизация признаков.\n",
    "\n",
    "2. Трудности возникли на этапе подбора гиперпараметров моделей машинного обучения, хотелось спроектировать модель с наибольшими целевыми метриками, этот процесс занял большую часть работы. \n",
    "\n",
    "3. Ключевым шагом в решении задачи является в первую очередь определение признаков, играющих наибольшую роль в обучении моделей. После построения гистогаммы важности признаков и удаления лишних из них, получилось добиться целевого значения точности.\n",
    "\n",
    "4. Итоговой моделью стала CatBoost Classifier, со значением целевой метрики AUC-ROC 0.960 на тестовой выборке, а также интерпретационной метрики Accuracy 0.922, что свидетельствует о высоких показателях точности модели."
   ]
  }
 ],
 "metadata": {
  "ExecuteTimeLog": [
   {
    "duration": 1910,
    "start_time": "2021-08-30T13:48:05.200Z"
   },
   {
    "duration": 789,
    "start_time": "2021-08-30T13:48:07.113Z"
   },
   {
    "duration": 23,
    "start_time": "2021-08-30T13:48:08.227Z"
   },
   {
    "duration": 21,
    "start_time": "2021-08-30T13:48:08.810Z"
   },
   {
    "duration": 20,
    "start_time": "2021-08-30T13:48:09.378Z"
   },
   {
    "duration": 12,
    "start_time": "2021-08-30T13:48:09.838Z"
   },
   {
    "duration": 15,
    "start_time": "2021-08-30T13:48:11.010Z"
   },
   {
    "duration": 9,
    "start_time": "2021-08-30T13:48:11.302Z"
   },
   {
    "duration": 10,
    "start_time": "2021-08-30T13:48:11.536Z"
   },
   {
    "duration": 8,
    "start_time": "2021-08-30T13:48:11.733Z"
   },
   {
    "duration": 59,
    "start_time": "2021-08-30T13:48:12.133Z"
   },
   {
    "duration": 41,
    "start_time": "2021-08-30T13:48:12.378Z"
   },
   {
    "duration": 75,
    "start_time": "2021-08-30T13:48:12.658Z"
   },
   {
    "duration": 25,
    "start_time": "2021-08-30T13:48:12.920Z"
   },
   {
    "duration": 18,
    "start_time": "2021-08-30T13:48:13.384Z"
   },
   {
    "duration": 14,
    "start_time": "2021-08-30T13:48:13.592Z"
   },
   {
    "duration": 18,
    "start_time": "2021-08-30T13:48:13.789Z"
   },
   {
    "duration": 12,
    "start_time": "2021-08-30T13:48:13.990Z"
   },
   {
    "duration": 19,
    "start_time": "2021-08-30T13:48:16.030Z"
   },
   {
    "duration": 87,
    "start_time": "2021-08-30T13:48:16.419Z"
   },
   {
    "duration": 13,
    "start_time": "2021-08-30T13:48:18.943Z"
   },
   {
    "duration": 13,
    "start_time": "2021-08-30T13:48:20.980Z"
   },
   {
    "duration": 4,
    "start_time": "2021-08-30T13:48:22.298Z"
   },
   {
    "duration": 58,
    "start_time": "2021-08-30T13:48:22.608Z"
   },
   {
    "duration": 4,
    "start_time": "2021-08-30T13:48:25.078Z"
   },
   {
    "duration": 18,
    "start_time": "2021-08-30T13:48:25.478Z"
   },
   {
    "duration": 26,
    "start_time": "2021-08-30T13:48:27.191Z"
   },
   {
    "duration": 5,
    "start_time": "2021-08-30T13:48:29.183Z"
   },
   {
    "duration": 82,
    "start_time": "2021-08-30T13:48:29.511Z"
   },
   {
    "duration": 40,
    "start_time": "2021-08-30T13:48:31.385Z"
   },
   {
    "duration": 19,
    "start_time": "2021-08-30T13:48:33.844Z"
   },
   {
    "duration": 4,
    "start_time": "2021-08-30T13:48:35.864Z"
   },
   {
    "duration": 92,
    "start_time": "2021-08-30T13:48:36.033Z"
   },
   {
    "duration": 756,
    "start_time": "2021-08-30T13:48:51.587Z"
   },
   {
    "duration": 2748,
    "start_time": "2021-08-30T13:48:55.398Z"
   },
   {
    "duration": 6,
    "start_time": "2021-08-30T13:48:58.148Z"
   },
   {
    "duration": 894,
    "start_time": "2021-08-30T13:49:00.585Z"
   },
   {
    "duration": 19,
    "start_time": "2021-08-30T13:49:05.625Z"
   },
   {
    "duration": 4,
    "start_time": "2021-08-30T13:49:05.944Z"
   },
   {
    "duration": 5,
    "start_time": "2021-08-30T13:49:06.208Z"
   },
   {
    "duration": 5,
    "start_time": "2021-08-30T13:49:06.490Z"
   },
   {
    "duration": 10,
    "start_time": "2021-08-30T13:49:07.153Z"
   },
   {
    "duration": 4,
    "start_time": "2021-08-30T13:49:07.904Z"
   },
   {
    "duration": 4021,
    "start_time": "2021-08-30T13:49:09.869Z"
   },
   {
    "duration": 9,
    "start_time": "2021-08-30T13:49:13.893Z"
   },
   {
    "duration": 29,
    "start_time": "2021-08-30T13:49:16.286Z"
   },
   {
    "duration": 11,
    "start_time": "2021-08-30T13:49:16.652Z"
   },
   {
    "duration": 22,
    "start_time": "2021-08-30T13:49:24.010Z"
   },
   {
    "duration": 10,
    "start_time": "2021-08-30T13:49:24.246Z"
   },
   {
    "duration": 22788,
    "start_time": "2021-08-30T13:49:29.087Z"
   },
   {
    "duration": 9,
    "start_time": "2021-08-30T13:49:51.878Z"
   },
   {
    "duration": 470,
    "start_time": "2021-08-30T13:49:59.690Z"
   },
   {
    "duration": 38,
    "start_time": "2021-08-30T13:50:03.162Z"
   },
   {
    "duration": 10,
    "start_time": "2021-08-30T13:50:05.235Z"
   },
   {
    "duration": 504,
    "start_time": "2021-08-30T13:50:10.089Z"
   },
   {
    "duration": 254,
    "start_time": "2021-08-30T13:50:12.236Z"
   },
   {
    "duration": 323,
    "start_time": "2021-08-30T13:50:13.298Z"
   },
   {
    "duration": 312,
    "start_time": "2021-08-30T13:50:18.067Z"
   },
   {
    "duration": 1383,
    "start_time": "2021-09-10T08:00:10.500Z"
   },
   {
    "duration": 510,
    "start_time": "2021-09-10T08:00:13.560Z"
   },
   {
    "duration": 16,
    "start_time": "2021-09-10T08:00:14.891Z"
   },
   {
    "duration": 9,
    "start_time": "2021-09-10T08:00:15.416Z"
   },
   {
    "duration": 11,
    "start_time": "2021-09-10T08:00:15.739Z"
   },
   {
    "duration": 7,
    "start_time": "2021-09-10T08:00:16.004Z"
   },
   {
    "duration": 9,
    "start_time": "2021-09-10T08:00:16.859Z"
   },
   {
    "duration": 8,
    "start_time": "2021-09-10T08:00:17.048Z"
   },
   {
    "duration": 9,
    "start_time": "2021-09-10T08:00:17.228Z"
   },
   {
    "duration": 7,
    "start_time": "2021-09-10T08:00:17.429Z"
   },
   {
    "duration": 40,
    "start_time": "2021-09-10T08:00:17.811Z"
   },
   {
    "duration": 25,
    "start_time": "2021-09-10T08:00:18.008Z"
   },
   {
    "duration": 33,
    "start_time": "2021-09-10T08:00:18.217Z"
   },
   {
    "duration": 17,
    "start_time": "2021-09-10T08:00:18.442Z"
   },
   {
    "duration": 13,
    "start_time": "2021-09-10T08:00:18.850Z"
   },
   {
    "duration": 11,
    "start_time": "2021-09-10T08:00:19.079Z"
   },
   {
    "duration": 13,
    "start_time": "2021-09-10T08:00:19.328Z"
   },
   {
    "duration": 10,
    "start_time": "2021-09-10T08:00:19.562Z"
   },
   {
    "duration": 13,
    "start_time": "2021-09-10T08:00:22.089Z"
   },
   {
    "duration": 31,
    "start_time": "2021-09-10T08:00:22.525Z"
   },
   {
    "duration": 6,
    "start_time": "2021-09-10T08:00:25.970Z"
   },
   {
    "duration": 6,
    "start_time": "2021-09-10T08:00:26.923Z"
   },
   {
    "duration": 2,
    "start_time": "2021-09-10T08:00:28.090Z"
   },
   {
    "duration": 36,
    "start_time": "2021-09-10T08:00:28.461Z"
   },
   {
    "duration": 3,
    "start_time": "2021-09-10T08:00:28.711Z"
   },
   {
    "duration": 15,
    "start_time": "2021-09-10T08:00:28.959Z"
   },
   {
    "duration": 16,
    "start_time": "2021-09-10T08:00:30.005Z"
   },
   {
    "duration": 3,
    "start_time": "2021-09-10T08:00:30.937Z"
   },
   {
    "duration": 37,
    "start_time": "2021-09-10T08:00:31.250Z"
   },
   {
    "duration": 19,
    "start_time": "2021-09-10T08:00:31.492Z"
   },
   {
    "duration": 608,
    "start_time": "2021-09-10T08:00:32.575Z"
   },
   {
    "duration": 413,
    "start_time": "2021-09-10T08:00:33.578Z"
   },
   {
    "duration": 217,
    "start_time": "2021-09-10T08:00:37.370Z"
   },
   {
    "duration": 14,
    "start_time": "2021-09-10T08:02:10.771Z"
   },
   {
    "duration": 34,
    "start_time": "2021-09-10T08:02:11.108Z"
   },
   {
    "duration": 3,
    "start_time": "2021-09-10T08:02:13.316Z"
   },
   {
    "duration": 5,
    "start_time": "2021-09-10T08:02:14.621Z"
   },
   {
    "duration": 3,
    "start_time": "2021-09-10T08:02:15.223Z"
   },
   {
    "duration": 35,
    "start_time": "2021-09-10T08:02:15.481Z"
   },
   {
    "duration": 3,
    "start_time": "2021-09-10T08:02:15.701Z"
   },
   {
    "duration": 13,
    "start_time": "2021-09-10T08:02:15.898Z"
   },
   {
    "duration": 16,
    "start_time": "2021-09-10T08:02:16.427Z"
   },
   {
    "duration": 656,
    "start_time": "2021-09-10T08:02:17.440Z"
   },
   {
    "duration": 435,
    "start_time": "2021-09-10T08:02:18.342Z"
   },
   {
    "duration": 216,
    "start_time": "2021-09-10T08:02:19.247Z"
   },
   {
    "duration": 22,
    "start_time": "2021-09-10T08:02:36.433Z"
   },
   {
    "duration": 6,
    "start_time": "2021-09-10T08:03:13.238Z"
   },
   {
    "duration": 12,
    "start_time": "2021-09-10T08:03:23.466Z"
   },
   {
    "duration": 16,
    "start_time": "2021-09-10T08:03:46.326Z"
   },
   {
    "duration": 21,
    "start_time": "2021-09-10T08:04:00.807Z"
   },
   {
    "duration": 1260,
    "start_time": "2021-09-10T08:04:30.906Z"
   },
   {
    "duration": 264,
    "start_time": "2021-09-10T08:04:32.168Z"
   },
   {
    "duration": 15,
    "start_time": "2021-09-10T08:04:32.879Z"
   },
   {
    "duration": 8,
    "start_time": "2021-09-10T08:04:33.212Z"
   },
   {
    "duration": 11,
    "start_time": "2021-09-10T08:04:33.580Z"
   },
   {
    "duration": 7,
    "start_time": "2021-09-10T08:04:33.826Z"
   },
   {
    "duration": 9,
    "start_time": "2021-09-10T08:04:34.659Z"
   },
   {
    "duration": 8,
    "start_time": "2021-09-10T08:04:34.840Z"
   },
   {
    "duration": 18,
    "start_time": "2021-09-10T08:04:35.052Z"
   },
   {
    "duration": 7,
    "start_time": "2021-09-10T08:04:35.232Z"
   },
   {
    "duration": 39,
    "start_time": "2021-09-10T08:04:35.974Z"
   },
   {
    "duration": 27,
    "start_time": "2021-09-10T08:04:36.207Z"
   },
   {
    "duration": 32,
    "start_time": "2021-09-10T08:04:36.436Z"
   },
   {
    "duration": 18,
    "start_time": "2021-09-10T08:04:36.664Z"
   },
   {
    "duration": 13,
    "start_time": "2021-09-10T08:04:37.139Z"
   },
   {
    "duration": 10,
    "start_time": "2021-09-10T08:04:37.368Z"
   },
   {
    "duration": 13,
    "start_time": "2021-09-10T08:04:37.569Z"
   },
   {
    "duration": 9,
    "start_time": "2021-09-10T08:04:37.768Z"
   },
   {
    "duration": 13,
    "start_time": "2021-09-10T08:04:39.546Z"
   },
   {
    "duration": 32,
    "start_time": "2021-09-10T08:04:39.778Z"
   },
   {
    "duration": 6,
    "start_time": "2021-09-10T08:04:40.729Z"
   },
   {
    "duration": 8,
    "start_time": "2021-09-10T08:04:41.367Z"
   },
   {
    "duration": 2,
    "start_time": "2021-09-10T08:04:41.805Z"
   },
   {
    "duration": 36,
    "start_time": "2021-09-10T08:04:42.059Z"
   },
   {
    "duration": 3,
    "start_time": "2021-09-10T08:04:42.289Z"
   },
   {
    "duration": 13,
    "start_time": "2021-09-10T08:04:42.521Z"
   },
   {
    "duration": 16,
    "start_time": "2021-09-10T08:04:43.083Z"
   },
   {
    "duration": 591,
    "start_time": "2021-09-10T08:04:44.196Z"
   },
   {
    "duration": 425,
    "start_time": "2021-09-10T08:04:44.791Z"
   },
   {
    "duration": 12,
    "start_time": "2021-09-10T08:04:50.313Z"
   },
   {
    "duration": 3,
    "start_time": "2021-09-10T08:04:52.837Z"
   },
   {
    "duration": 44,
    "start_time": "2021-09-10T08:04:53.637Z"
   },
   {
    "duration": 1218,
    "start_time": "2021-09-10T08:05:40.053Z"
   },
   {
    "duration": 307,
    "start_time": "2021-09-10T08:05:41.274Z"
   },
   {
    "duration": 13,
    "start_time": "2021-09-10T08:05:41.583Z"
   },
   {
    "duration": 10,
    "start_time": "2021-09-10T08:05:41.598Z"
   },
   {
    "duration": 13,
    "start_time": "2021-09-10T08:05:41.610Z"
   },
   {
    "duration": 9,
    "start_time": "2021-09-10T08:05:41.624Z"
   },
   {
    "duration": 11,
    "start_time": "2021-09-10T08:05:41.634Z"
   },
   {
    "duration": 7,
    "start_time": "2021-09-10T08:05:41.648Z"
   },
   {
    "duration": 35,
    "start_time": "2021-09-10T08:05:41.657Z"
   },
   {
    "duration": 6,
    "start_time": "2021-09-10T08:05:41.694Z"
   },
   {
    "duration": 40,
    "start_time": "2021-09-10T08:05:41.702Z"
   },
   {
    "duration": 25,
    "start_time": "2021-09-10T08:05:41.744Z"
   },
   {
    "duration": 49,
    "start_time": "2021-09-10T08:05:41.771Z"
   },
   {
    "duration": 20,
    "start_time": "2021-09-10T08:05:41.822Z"
   },
   {
    "duration": 13,
    "start_time": "2021-09-10T08:05:41.844Z"
   },
   {
    "duration": 41,
    "start_time": "2021-09-10T08:05:41.858Z"
   },
   {
    "duration": 13,
    "start_time": "2021-09-10T08:05:41.901Z"
   },
   {
    "duration": 7,
    "start_time": "2021-09-10T08:05:41.915Z"
   },
   {
    "duration": 14,
    "start_time": "2021-09-10T08:05:41.924Z"
   },
   {
    "duration": 53,
    "start_time": "2021-09-10T08:05:41.939Z"
   },
   {
    "duration": 5,
    "start_time": "2021-09-10T08:05:41.994Z"
   },
   {
    "duration": 11,
    "start_time": "2021-09-10T08:05:42.001Z"
   },
   {
    "duration": 4,
    "start_time": "2021-09-10T08:05:42.015Z"
   },
   {
    "duration": 41,
    "start_time": "2021-09-10T08:05:42.021Z"
   },
   {
    "duration": 3,
    "start_time": "2021-09-10T08:05:42.063Z"
   },
   {
    "duration": 29,
    "start_time": "2021-09-10T08:05:42.067Z"
   },
   {
    "duration": 15,
    "start_time": "2021-09-10T08:05:42.098Z"
   },
   {
    "duration": 8,
    "start_time": "2021-09-10T08:05:42.114Z"
   },
   {
    "duration": 42,
    "start_time": "2021-09-10T08:05:42.124Z"
   },
   {
    "duration": 30,
    "start_time": "2021-09-10T08:05:42.168Z"
   },
   {
    "duration": 577,
    "start_time": "2021-09-10T08:05:42.200Z"
   },
   {
    "duration": 426,
    "start_time": "2021-09-10T08:05:42.779Z"
   },
   {
    "duration": 11,
    "start_time": "2021-09-10T08:05:43.207Z"
   },
   {
    "duration": 3,
    "start_time": "2021-09-10T08:05:43.220Z"
   },
   {
    "duration": 43,
    "start_time": "2021-09-10T08:05:43.224Z"
   },
   {
    "duration": 406,
    "start_time": "2021-09-10T08:05:43.269Z"
   },
   {
    "duration": 1815,
    "start_time": "2021-09-10T08:05:43.678Z"
   },
   {
    "duration": 4,
    "start_time": "2021-09-10T08:05:45.495Z"
   },
   {
    "duration": 590,
    "start_time": "2021-09-10T08:05:45.501Z"
   },
   {
    "duration": 13,
    "start_time": "2021-09-10T08:05:46.093Z"
   },
   {
    "duration": 3,
    "start_time": "2021-09-10T08:05:46.108Z"
   },
   {
    "duration": 15,
    "start_time": "2021-09-10T08:05:46.112Z"
   },
   {
    "duration": 12,
    "start_time": "2021-09-10T08:05:46.128Z"
   },
   {
    "duration": 10,
    "start_time": "2021-09-10T08:05:46.142Z"
   },
   {
    "duration": 4,
    "start_time": "2021-09-10T08:05:46.153Z"
   },
   {
    "duration": 2553,
    "start_time": "2021-09-10T08:05:46.159Z"
   },
   {
    "duration": 7,
    "start_time": "2021-09-10T08:05:48.713Z"
   },
   {
    "duration": 12,
    "start_time": "2021-09-10T08:05:48.721Z"
   },
   {
    "duration": 7,
    "start_time": "2021-09-10T08:05:48.735Z"
   },
   {
    "duration": 10,
    "start_time": "2021-09-10T08:05:48.743Z"
   },
   {
    "duration": 40,
    "start_time": "2021-09-10T08:05:48.755Z"
   },
   {
    "duration": 12408,
    "start_time": "2021-09-10T08:05:48.797Z"
   },
   {
    "duration": 7,
    "start_time": "2021-09-10T08:06:01.207Z"
   },
   {
    "duration": 20,
    "start_time": "2021-09-10T08:06:01.216Z"
   },
   {
    "duration": 21,
    "start_time": "2021-09-10T08:06:01.238Z"
   },
   {
    "duration": 387,
    "start_time": "2021-09-10T08:06:01.261Z"
   },
   {
    "duration": 165,
    "start_time": "2021-09-10T08:06:01.651Z"
   },
   {
    "duration": 208,
    "start_time": "2021-09-10T08:06:01.818Z"
   },
   {
    "duration": 193,
    "start_time": "2021-09-10T08:06:02.028Z"
   }
  ],
  "kernelspec": {
   "display_name": "Python 3",
   "language": "python",
   "name": "python3"
  },
  "language_info": {
   "codemirror_mode": {
    "name": "ipython",
    "version": 3
   },
   "file_extension": ".py",
   "mimetype": "text/x-python",
   "name": "python",
   "nbconvert_exporter": "python",
   "pygments_lexer": "ipython3",
   "version": "3.7.6"
  },
  "toc": {
   "base_numbering": 1,
   "nav_menu": {},
   "number_sections": false,
   "sideBar": true,
   "skip_h1_title": false,
   "title_cell": "Table of Contents",
   "title_sidebar": "Contents",
   "toc_cell": false,
   "toc_position": {},
   "toc_section_display": true,
   "toc_window_display": false
  }
 },
 "nbformat": 4,
 "nbformat_minor": 2
}
