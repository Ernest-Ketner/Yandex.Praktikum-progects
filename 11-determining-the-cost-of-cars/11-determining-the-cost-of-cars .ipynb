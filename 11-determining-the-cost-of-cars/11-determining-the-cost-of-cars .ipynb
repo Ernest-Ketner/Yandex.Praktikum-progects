{
 "cells": [
  {
   "cell_type": "markdown",
   "metadata": {},
   "source": [
    "# Стоимость автомобилей в компании «Не бит, не крашен»\n",
    "    \n",
    "Мы работаем для сервиса по продаже автомобилей \"Не бит, не крашен\". Сервис разрабатывает приложение для привлечения новых клиентов. В нём можно быстро узнать рыночную стоимость своего автомобиля. В нашем распоряжении исторические данные: технические характеристики, комплектации и цены автомобилей. Нам нужно построить модель для определения стоимости.\n",
    "\n",
    "Предоставленная информация представляет собой датасет с признаками и целевым признаком. Признаки - характеристики автомобиля, данные об анкете и пользователе. Целевой признак - цена.\n",
    "\n",
    "Цель - предсказать ориентировочную стоимость автомобиля, опираясь на историеские данные. Заказчику важны:\n",
    "\n",
    "- качество предсказания;\n",
    "- скорость предсказания;\n",
    "- время обучения.\n",
    "    \n",
    "____\n",
    "\n",
    "\n",
    "\n",
    "В данной работе представлен процесс создания моделей с предварительной подготовкой информации. Каждый значительный шаг сопровождается промежуточным, либо общим выводом.\n",
    "  \n",
    "    \n",
    "    \n",
    "____\n",
    "    \n",
    "    \n",
    "\n",
    "    \n",
    "Часть 1. Изучение общей информации о предоставленном датасете\n",
    "    \n",
    "1. Импорт необходимых библиотек для работы с данными, загрузка датасета\n",
    "2. Изучение данных, получение общей информации\n",
    "3. Вывод\n",
    "\n",
    "    \n",
    "Часть 2. Предобработка данных\n",
    "\n",
    "1. Удаление бесполезной информации\n",
    "1. Обработка пропусков\n",
    "1. Кодирование признаков\n",
    "1. Приведение названий столбцов к нижнему регистру\n",
    "    \n",
    "Часть 3. Создание моделей\n",
    "    \n",
    "1. Разделение датасета на выборки\n",
    "2. Масштабирование признаков\n",
    "3. Создание модели случайного леса\n",
    "4. Создание линейной модели\n",
    "5. Создание легкой машины градиентного бустинга \n",
    "    \n",
    "Часть 4. Анализ моделей"
   ]
  },
  {
   "cell_type": "markdown",
   "metadata": {},
   "source": [
    "## Часть 1. Изучение общей информации о предоставленном датасете"
   ]
  },
  {
   "cell_type": "markdown",
   "metadata": {},
   "source": [
    "<a id='Импорт необходимых библиотек для работы с данными, загрузка датасета'>"
   ]
  },
  {
   "cell_type": "markdown",
   "metadata": {},
   "source": [
    "### <p style=\"text-align:center\"> Импорт необходимых библиотек для работы с данными, загрузка датасета</p>"
   ]
  },
  {
   "cell_type": "markdown",
   "metadata": {},
   "source": [
    "Импортируем необходимые библиотеки, разбиваем на смысловые блоки."
   ]
  },
  {
   "cell_type": "code",
   "execution_count": 1,
   "metadata": {},
   "outputs": [],
   "source": [
    "import pandas as pd\n",
    "import numpy as np\n",
    "import re\n",
    "import timeit\n",
    "from IPython.display import display\n",
    "import matplotlib.pyplot as plt\n",
    "import seaborn as sns\n",
    "pd.options.display.max_columns = None\n",
    "pd.options.display.max_rows = None\n",
    "import warnings\n",
    "warnings.simplefilter('ignore')"
   ]
  },
  {
   "cell_type": "code",
   "execution_count": 2,
   "metadata": {},
   "outputs": [],
   "source": [
    "from sklearn.ensemble import RandomForestRegressor\n",
    "from sklearn.linear_model import LinearRegression\n",
    "import lightgbm as lgb"
   ]
  },
  {
   "cell_type": "code",
   "execution_count": 3,
   "metadata": {},
   "outputs": [],
   "source": [
    "from sklearn.model_selection import train_test_split\n",
    "from sklearn.preprocessing import OrdinalEncoder \n",
    "from sklearn.preprocessing import StandardScaler \n",
    "from sklearn.metrics import mean_squared_error"
   ]
  },
  {
   "cell_type": "markdown",
   "metadata": {},
   "source": [
    "Загружаем датасет, проверяем вывод."
   ]
  },
  {
   "cell_type": "code",
   "execution_count": 4,
   "metadata": {},
   "outputs": [],
   "source": [
    "raw_data = pd.read_csv('/datasets/autos.csv')"
   ]
  },
  {
   "cell_type": "code",
   "execution_count": 5,
   "metadata": {},
   "outputs": [
    {
     "data": {
      "text/html": [
       "<div>\n",
       "<style scoped>\n",
       "    .dataframe tbody tr th:only-of-type {\n",
       "        vertical-align: middle;\n",
       "    }\n",
       "\n",
       "    .dataframe tbody tr th {\n",
       "        vertical-align: top;\n",
       "    }\n",
       "\n",
       "    .dataframe thead th {\n",
       "        text-align: right;\n",
       "    }\n",
       "</style>\n",
       "<table border=\"1\" class=\"dataframe\">\n",
       "  <thead>\n",
       "    <tr style=\"text-align: right;\">\n",
       "      <th></th>\n",
       "      <th>DateCrawled</th>\n",
       "      <th>Price</th>\n",
       "      <th>VehicleType</th>\n",
       "      <th>RegistrationYear</th>\n",
       "      <th>Gearbox</th>\n",
       "      <th>Power</th>\n",
       "      <th>Model</th>\n",
       "      <th>Kilometer</th>\n",
       "      <th>RegistrationMonth</th>\n",
       "      <th>FuelType</th>\n",
       "      <th>Brand</th>\n",
       "      <th>NotRepaired</th>\n",
       "      <th>DateCreated</th>\n",
       "      <th>NumberOfPictures</th>\n",
       "      <th>PostalCode</th>\n",
       "      <th>LastSeen</th>\n",
       "    </tr>\n",
       "  </thead>\n",
       "  <tbody>\n",
       "    <tr>\n",
       "      <td>0</td>\n",
       "      <td>2016-03-24 11:52:17</td>\n",
       "      <td>480</td>\n",
       "      <td>NaN</td>\n",
       "      <td>1993</td>\n",
       "      <td>manual</td>\n",
       "      <td>0</td>\n",
       "      <td>golf</td>\n",
       "      <td>150000</td>\n",
       "      <td>0</td>\n",
       "      <td>petrol</td>\n",
       "      <td>volkswagen</td>\n",
       "      <td>NaN</td>\n",
       "      <td>2016-03-24 00:00:00</td>\n",
       "      <td>0</td>\n",
       "      <td>70435</td>\n",
       "      <td>2016-04-07 03:16:57</td>\n",
       "    </tr>\n",
       "    <tr>\n",
       "      <td>1</td>\n",
       "      <td>2016-03-24 10:58:45</td>\n",
       "      <td>18300</td>\n",
       "      <td>coupe</td>\n",
       "      <td>2011</td>\n",
       "      <td>manual</td>\n",
       "      <td>190</td>\n",
       "      <td>NaN</td>\n",
       "      <td>125000</td>\n",
       "      <td>5</td>\n",
       "      <td>gasoline</td>\n",
       "      <td>audi</td>\n",
       "      <td>yes</td>\n",
       "      <td>2016-03-24 00:00:00</td>\n",
       "      <td>0</td>\n",
       "      <td>66954</td>\n",
       "      <td>2016-04-07 01:46:50</td>\n",
       "    </tr>\n",
       "    <tr>\n",
       "      <td>2</td>\n",
       "      <td>2016-03-14 12:52:21</td>\n",
       "      <td>9800</td>\n",
       "      <td>suv</td>\n",
       "      <td>2004</td>\n",
       "      <td>auto</td>\n",
       "      <td>163</td>\n",
       "      <td>grand</td>\n",
       "      <td>125000</td>\n",
       "      <td>8</td>\n",
       "      <td>gasoline</td>\n",
       "      <td>jeep</td>\n",
       "      <td>NaN</td>\n",
       "      <td>2016-03-14 00:00:00</td>\n",
       "      <td>0</td>\n",
       "      <td>90480</td>\n",
       "      <td>2016-04-05 12:47:46</td>\n",
       "    </tr>\n",
       "    <tr>\n",
       "      <td>3</td>\n",
       "      <td>2016-03-17 16:54:04</td>\n",
       "      <td>1500</td>\n",
       "      <td>small</td>\n",
       "      <td>2001</td>\n",
       "      <td>manual</td>\n",
       "      <td>75</td>\n",
       "      <td>golf</td>\n",
       "      <td>150000</td>\n",
       "      <td>6</td>\n",
       "      <td>petrol</td>\n",
       "      <td>volkswagen</td>\n",
       "      <td>no</td>\n",
       "      <td>2016-03-17 00:00:00</td>\n",
       "      <td>0</td>\n",
       "      <td>91074</td>\n",
       "      <td>2016-03-17 17:40:17</td>\n",
       "    </tr>\n",
       "    <tr>\n",
       "      <td>4</td>\n",
       "      <td>2016-03-31 17:25:20</td>\n",
       "      <td>3600</td>\n",
       "      <td>small</td>\n",
       "      <td>2008</td>\n",
       "      <td>manual</td>\n",
       "      <td>69</td>\n",
       "      <td>fabia</td>\n",
       "      <td>90000</td>\n",
       "      <td>7</td>\n",
       "      <td>gasoline</td>\n",
       "      <td>skoda</td>\n",
       "      <td>no</td>\n",
       "      <td>2016-03-31 00:00:00</td>\n",
       "      <td>0</td>\n",
       "      <td>60437</td>\n",
       "      <td>2016-04-06 10:17:21</td>\n",
       "    </tr>\n",
       "  </tbody>\n",
       "</table>\n",
       "</div>"
      ],
      "text/plain": [
       "           DateCrawled  Price VehicleType  RegistrationYear Gearbox  Power  \\\n",
       "0  2016-03-24 11:52:17    480         NaN              1993  manual      0   \n",
       "1  2016-03-24 10:58:45  18300       coupe              2011  manual    190   \n",
       "2  2016-03-14 12:52:21   9800         suv              2004    auto    163   \n",
       "3  2016-03-17 16:54:04   1500       small              2001  manual     75   \n",
       "4  2016-03-31 17:25:20   3600       small              2008  manual     69   \n",
       "\n",
       "   Model  Kilometer  RegistrationMonth  FuelType       Brand NotRepaired  \\\n",
       "0   golf     150000                  0    petrol  volkswagen         NaN   \n",
       "1    NaN     125000                  5  gasoline        audi         yes   \n",
       "2  grand     125000                  8  gasoline        jeep         NaN   \n",
       "3   golf     150000                  6    petrol  volkswagen          no   \n",
       "4  fabia      90000                  7  gasoline       skoda          no   \n",
       "\n",
       "           DateCreated  NumberOfPictures  PostalCode             LastSeen  \n",
       "0  2016-03-24 00:00:00                 0       70435  2016-04-07 03:16:57  \n",
       "1  2016-03-24 00:00:00                 0       66954  2016-04-07 01:46:50  \n",
       "2  2016-03-14 00:00:00                 0       90480  2016-04-05 12:47:46  \n",
       "3  2016-03-17 00:00:00                 0       91074  2016-03-17 17:40:17  \n",
       "4  2016-03-31 00:00:00                 0       60437  2016-04-06 10:17:21  "
      ]
     },
     "execution_count": 5,
     "metadata": {},
     "output_type": "execute_result"
    }
   ],
   "source": [
    "raw_data.head()"
   ]
  },
  {
   "cell_type": "markdown",
   "metadata": {},
   "source": [
    "<a id='Изучение данных, получение общей информации'></a>"
   ]
  },
  {
   "cell_type": "markdown",
   "metadata": {},
   "source": [
    "### <p style=\"text-align:center\"> Изучение данных, получение общей информации</p>"
   ]
  },
  {
   "cell_type": "markdown",
   "metadata": {},
   "source": [
    "Ознакомимся с информацией, посмотрим соответствуют ли типы ячеек назначению. В качестве дополнительной проверки возьмем случайные 20 строк из нашего датасета, посмотрим на странные, выбивающиеся, отсутствующие значения."
   ]
  },
  {
   "cell_type": "code",
   "execution_count": 6,
   "metadata": {},
   "outputs": [
    {
     "data": {
      "text/html": [
       "<div>\n",
       "<style scoped>\n",
       "    .dataframe tbody tr th:only-of-type {\n",
       "        vertical-align: middle;\n",
       "    }\n",
       "\n",
       "    .dataframe tbody tr th {\n",
       "        vertical-align: top;\n",
       "    }\n",
       "\n",
       "    .dataframe thead th {\n",
       "        text-align: right;\n",
       "    }\n",
       "</style>\n",
       "<table border=\"1\" class=\"dataframe\">\n",
       "  <thead>\n",
       "    <tr style=\"text-align: right;\">\n",
       "      <th></th>\n",
       "      <th>DateCrawled</th>\n",
       "      <th>Price</th>\n",
       "      <th>VehicleType</th>\n",
       "      <th>RegistrationYear</th>\n",
       "      <th>Gearbox</th>\n",
       "      <th>Power</th>\n",
       "      <th>Model</th>\n",
       "      <th>Kilometer</th>\n",
       "      <th>RegistrationMonth</th>\n",
       "      <th>FuelType</th>\n",
       "      <th>Brand</th>\n",
       "      <th>NotRepaired</th>\n",
       "      <th>DateCreated</th>\n",
       "      <th>NumberOfPictures</th>\n",
       "      <th>PostalCode</th>\n",
       "      <th>LastSeen</th>\n",
       "    </tr>\n",
       "  </thead>\n",
       "  <tbody>\n",
       "    <tr>\n",
       "      <td>60723</td>\n",
       "      <td>2016-03-10 09:53:50</td>\n",
       "      <td>12899</td>\n",
       "      <td>bus</td>\n",
       "      <td>2008</td>\n",
       "      <td>manual</td>\n",
       "      <td>116</td>\n",
       "      <td>sharan</td>\n",
       "      <td>125000</td>\n",
       "      <td>11</td>\n",
       "      <td>lpg</td>\n",
       "      <td>volkswagen</td>\n",
       "      <td>no</td>\n",
       "      <td>2016-03-10 00:00:00</td>\n",
       "      <td>0</td>\n",
       "      <td>48607</td>\n",
       "      <td>2016-04-06 07:16:55</td>\n",
       "    </tr>\n",
       "    <tr>\n",
       "      <td>234141</td>\n",
       "      <td>2016-03-18 00:55:59</td>\n",
       "      <td>5980</td>\n",
       "      <td>wagon</td>\n",
       "      <td>2008</td>\n",
       "      <td>auto</td>\n",
       "      <td>140</td>\n",
       "      <td>passat</td>\n",
       "      <td>150000</td>\n",
       "      <td>4</td>\n",
       "      <td>gasoline</td>\n",
       "      <td>volkswagen</td>\n",
       "      <td>no</td>\n",
       "      <td>2016-03-17 00:00:00</td>\n",
       "      <td>0</td>\n",
       "      <td>36043</td>\n",
       "      <td>2016-03-29 12:18:15</td>\n",
       "    </tr>\n",
       "    <tr>\n",
       "      <td>149319</td>\n",
       "      <td>2016-03-07 17:50:57</td>\n",
       "      <td>14000</td>\n",
       "      <td>bus</td>\n",
       "      <td>2008</td>\n",
       "      <td>manual</td>\n",
       "      <td>108</td>\n",
       "      <td>sprinter</td>\n",
       "      <td>100000</td>\n",
       "      <td>10</td>\n",
       "      <td>gasoline</td>\n",
       "      <td>mercedes_benz</td>\n",
       "      <td>no</td>\n",
       "      <td>2016-03-07 00:00:00</td>\n",
       "      <td>0</td>\n",
       "      <td>25524</td>\n",
       "      <td>2016-04-06 19:18:03</td>\n",
       "    </tr>\n",
       "    <tr>\n",
       "      <td>301751</td>\n",
       "      <td>2016-04-05 02:37:15</td>\n",
       "      <td>850</td>\n",
       "      <td>small</td>\n",
       "      <td>1999</td>\n",
       "      <td>manual</td>\n",
       "      <td>54</td>\n",
       "      <td>corsa</td>\n",
       "      <td>150000</td>\n",
       "      <td>10</td>\n",
       "      <td>petrol</td>\n",
       "      <td>opel</td>\n",
       "      <td>no</td>\n",
       "      <td>2016-04-05 00:00:00</td>\n",
       "      <td>0</td>\n",
       "      <td>51067</td>\n",
       "      <td>2016-04-07 11:16:33</td>\n",
       "    </tr>\n",
       "    <tr>\n",
       "      <td>71032</td>\n",
       "      <td>2016-03-12 21:42:05</td>\n",
       "      <td>6499</td>\n",
       "      <td>bus</td>\n",
       "      <td>2007</td>\n",
       "      <td>auto</td>\n",
       "      <td>120</td>\n",
       "      <td>zafira</td>\n",
       "      <td>150000</td>\n",
       "      <td>7</td>\n",
       "      <td>gasoline</td>\n",
       "      <td>opel</td>\n",
       "      <td>no</td>\n",
       "      <td>2016-03-12 00:00:00</td>\n",
       "      <td>0</td>\n",
       "      <td>84130</td>\n",
       "      <td>2016-03-12 21:42:05</td>\n",
       "    </tr>\n",
       "    <tr>\n",
       "      <td>193340</td>\n",
       "      <td>2016-03-19 18:44:05</td>\n",
       "      <td>800</td>\n",
       "      <td>small</td>\n",
       "      <td>1999</td>\n",
       "      <td>auto</td>\n",
       "      <td>65</td>\n",
       "      <td>fortwo</td>\n",
       "      <td>150000</td>\n",
       "      <td>0</td>\n",
       "      <td>petrol</td>\n",
       "      <td>smart</td>\n",
       "      <td>yes</td>\n",
       "      <td>2016-03-19 00:00:00</td>\n",
       "      <td>0</td>\n",
       "      <td>67700</td>\n",
       "      <td>2016-03-19 18:44:05</td>\n",
       "    </tr>\n",
       "    <tr>\n",
       "      <td>108629</td>\n",
       "      <td>2016-03-16 12:58:58</td>\n",
       "      <td>950</td>\n",
       "      <td>NaN</td>\n",
       "      <td>2014</td>\n",
       "      <td>NaN</td>\n",
       "      <td>0</td>\n",
       "      <td>other</td>\n",
       "      <td>60000</td>\n",
       "      <td>4</td>\n",
       "      <td>NaN</td>\n",
       "      <td>volkswagen</td>\n",
       "      <td>NaN</td>\n",
       "      <td>2016-03-16 00:00:00</td>\n",
       "      <td>0</td>\n",
       "      <td>70178</td>\n",
       "      <td>2016-03-16 12:58:58</td>\n",
       "    </tr>\n",
       "    <tr>\n",
       "      <td>265628</td>\n",
       "      <td>2016-03-12 15:54:52</td>\n",
       "      <td>7990</td>\n",
       "      <td>convertible</td>\n",
       "      <td>2007</td>\n",
       "      <td>manual</td>\n",
       "      <td>140</td>\n",
       "      <td>astra</td>\n",
       "      <td>70000</td>\n",
       "      <td>7</td>\n",
       "      <td>petrol</td>\n",
       "      <td>opel</td>\n",
       "      <td>no</td>\n",
       "      <td>2016-03-12 00:00:00</td>\n",
       "      <td>0</td>\n",
       "      <td>82205</td>\n",
       "      <td>2016-03-19 17:47:28</td>\n",
       "    </tr>\n",
       "    <tr>\n",
       "      <td>334282</td>\n",
       "      <td>2016-03-10 15:38:56</td>\n",
       "      <td>7800</td>\n",
       "      <td>sedan</td>\n",
       "      <td>2011</td>\n",
       "      <td>manual</td>\n",
       "      <td>105</td>\n",
       "      <td>focus</td>\n",
       "      <td>100000</td>\n",
       "      <td>3</td>\n",
       "      <td>petrol</td>\n",
       "      <td>ford</td>\n",
       "      <td>no</td>\n",
       "      <td>2016-03-10 00:00:00</td>\n",
       "      <td>0</td>\n",
       "      <td>6231</td>\n",
       "      <td>2016-03-12 19:45:59</td>\n",
       "    </tr>\n",
       "    <tr>\n",
       "      <td>192121</td>\n",
       "      <td>2016-03-16 14:46:46</td>\n",
       "      <td>800</td>\n",
       "      <td>small</td>\n",
       "      <td>1998</td>\n",
       "      <td>manual</td>\n",
       "      <td>0</td>\n",
       "      <td>fiesta</td>\n",
       "      <td>100000</td>\n",
       "      <td>0</td>\n",
       "      <td>petrol</td>\n",
       "      <td>ford</td>\n",
       "      <td>no</td>\n",
       "      <td>2016-03-16 00:00:00</td>\n",
       "      <td>0</td>\n",
       "      <td>39393</td>\n",
       "      <td>2016-03-20 13:19:15</td>\n",
       "    </tr>\n",
       "    <tr>\n",
       "      <td>299771</td>\n",
       "      <td>2016-03-07 13:52:03</td>\n",
       "      <td>6700</td>\n",
       "      <td>bus</td>\n",
       "      <td>2005</td>\n",
       "      <td>manual</td>\n",
       "      <td>109</td>\n",
       "      <td>b_klasse</td>\n",
       "      <td>150000</td>\n",
       "      <td>12</td>\n",
       "      <td>gasoline</td>\n",
       "      <td>mercedes_benz</td>\n",
       "      <td>no</td>\n",
       "      <td>2016-03-07 00:00:00</td>\n",
       "      <td>0</td>\n",
       "      <td>13465</td>\n",
       "      <td>2016-04-06 12:44:43</td>\n",
       "    </tr>\n",
       "    <tr>\n",
       "      <td>179745</td>\n",
       "      <td>2016-03-22 00:49:29</td>\n",
       "      <td>3000</td>\n",
       "      <td>sedan</td>\n",
       "      <td>1996</td>\n",
       "      <td>manual</td>\n",
       "      <td>170</td>\n",
       "      <td>5er</td>\n",
       "      <td>5000</td>\n",
       "      <td>10</td>\n",
       "      <td>petrol</td>\n",
       "      <td>bmw</td>\n",
       "      <td>no</td>\n",
       "      <td>2016-03-21 00:00:00</td>\n",
       "      <td>0</td>\n",
       "      <td>72336</td>\n",
       "      <td>2016-04-03 14:46:46</td>\n",
       "    </tr>\n",
       "    <tr>\n",
       "      <td>310144</td>\n",
       "      <td>2016-03-28 14:39:48</td>\n",
       "      <td>1050</td>\n",
       "      <td>small</td>\n",
       "      <td>1996</td>\n",
       "      <td>manual</td>\n",
       "      <td>60</td>\n",
       "      <td>twingo</td>\n",
       "      <td>150000</td>\n",
       "      <td>10</td>\n",
       "      <td>petrol</td>\n",
       "      <td>renault</td>\n",
       "      <td>NaN</td>\n",
       "      <td>2016-03-28 00:00:00</td>\n",
       "      <td>0</td>\n",
       "      <td>79312</td>\n",
       "      <td>2016-04-06 18:19:21</td>\n",
       "    </tr>\n",
       "    <tr>\n",
       "      <td>243676</td>\n",
       "      <td>2016-03-27 16:51:03</td>\n",
       "      <td>2499</td>\n",
       "      <td>small</td>\n",
       "      <td>2001</td>\n",
       "      <td>auto</td>\n",
       "      <td>60</td>\n",
       "      <td>polo</td>\n",
       "      <td>150000</td>\n",
       "      <td>6</td>\n",
       "      <td>petrol</td>\n",
       "      <td>volkswagen</td>\n",
       "      <td>no</td>\n",
       "      <td>2016-03-27 00:00:00</td>\n",
       "      <td>0</td>\n",
       "      <td>27386</td>\n",
       "      <td>2016-04-05 12:44:24</td>\n",
       "    </tr>\n",
       "    <tr>\n",
       "      <td>28192</td>\n",
       "      <td>2016-03-27 17:55:08</td>\n",
       "      <td>3450</td>\n",
       "      <td>wagon</td>\n",
       "      <td>2005</td>\n",
       "      <td>manual</td>\n",
       "      <td>131</td>\n",
       "      <td>NaN</td>\n",
       "      <td>150000</td>\n",
       "      <td>0</td>\n",
       "      <td>NaN</td>\n",
       "      <td>volkswagen</td>\n",
       "      <td>no</td>\n",
       "      <td>2016-03-27 00:00:00</td>\n",
       "      <td>0</td>\n",
       "      <td>26817</td>\n",
       "      <td>2016-03-27 17:55:08</td>\n",
       "    </tr>\n",
       "    <tr>\n",
       "      <td>200432</td>\n",
       "      <td>2016-03-30 14:47:15</td>\n",
       "      <td>11990</td>\n",
       "      <td>bus</td>\n",
       "      <td>2009</td>\n",
       "      <td>manual</td>\n",
       "      <td>122</td>\n",
       "      <td>golf</td>\n",
       "      <td>80000</td>\n",
       "      <td>8</td>\n",
       "      <td>petrol</td>\n",
       "      <td>volkswagen</td>\n",
       "      <td>no</td>\n",
       "      <td>2016-03-30 00:00:00</td>\n",
       "      <td>0</td>\n",
       "      <td>45472</td>\n",
       "      <td>2016-04-07 05:17:27</td>\n",
       "    </tr>\n",
       "    <tr>\n",
       "      <td>80823</td>\n",
       "      <td>2016-03-12 15:47:44</td>\n",
       "      <td>1980</td>\n",
       "      <td>small</td>\n",
       "      <td>2001</td>\n",
       "      <td>manual</td>\n",
       "      <td>50</td>\n",
       "      <td>lupo</td>\n",
       "      <td>150000</td>\n",
       "      <td>6</td>\n",
       "      <td>petrol</td>\n",
       "      <td>volkswagen</td>\n",
       "      <td>no</td>\n",
       "      <td>2016-03-12 00:00:00</td>\n",
       "      <td>0</td>\n",
       "      <td>85570</td>\n",
       "      <td>2016-03-24 13:15:35</td>\n",
       "    </tr>\n",
       "    <tr>\n",
       "      <td>233548</td>\n",
       "      <td>2016-03-15 18:36:44</td>\n",
       "      <td>1590</td>\n",
       "      <td>NaN</td>\n",
       "      <td>2018</td>\n",
       "      <td>auto</td>\n",
       "      <td>55</td>\n",
       "      <td>fortwo</td>\n",
       "      <td>150000</td>\n",
       "      <td>11</td>\n",
       "      <td>NaN</td>\n",
       "      <td>smart</td>\n",
       "      <td>no</td>\n",
       "      <td>2016-03-15 00:00:00</td>\n",
       "      <td>0</td>\n",
       "      <td>46487</td>\n",
       "      <td>2016-04-06 18:47:23</td>\n",
       "    </tr>\n",
       "    <tr>\n",
       "      <td>47524</td>\n",
       "      <td>2016-03-13 09:37:19</td>\n",
       "      <td>1900</td>\n",
       "      <td>wagon</td>\n",
       "      <td>1999</td>\n",
       "      <td>manual</td>\n",
       "      <td>125</td>\n",
       "      <td>c_klasse</td>\n",
       "      <td>150000</td>\n",
       "      <td>0</td>\n",
       "      <td>NaN</td>\n",
       "      <td>mercedes_benz</td>\n",
       "      <td>NaN</td>\n",
       "      <td>2016-03-13 00:00:00</td>\n",
       "      <td>0</td>\n",
       "      <td>52068</td>\n",
       "      <td>2016-03-17 12:47:07</td>\n",
       "    </tr>\n",
       "    <tr>\n",
       "      <td>105871</td>\n",
       "      <td>2016-03-08 12:46:57</td>\n",
       "      <td>515</td>\n",
       "      <td>bus</td>\n",
       "      <td>2002</td>\n",
       "      <td>manual</td>\n",
       "      <td>116</td>\n",
       "      <td>other</td>\n",
       "      <td>150000</td>\n",
       "      <td>1</td>\n",
       "      <td>petrol</td>\n",
       "      <td>citroen</td>\n",
       "      <td>yes</td>\n",
       "      <td>2016-03-08 00:00:00</td>\n",
       "      <td>0</td>\n",
       "      <td>59425</td>\n",
       "      <td>2016-04-05 12:16:02</td>\n",
       "    </tr>\n",
       "  </tbody>\n",
       "</table>\n",
       "</div>"
      ],
      "text/plain": [
       "                DateCrawled  Price  VehicleType  RegistrationYear Gearbox  \\\n",
       "60723   2016-03-10 09:53:50  12899          bus              2008  manual   \n",
       "234141  2016-03-18 00:55:59   5980        wagon              2008    auto   \n",
       "149319  2016-03-07 17:50:57  14000          bus              2008  manual   \n",
       "301751  2016-04-05 02:37:15    850        small              1999  manual   \n",
       "71032   2016-03-12 21:42:05   6499          bus              2007    auto   \n",
       "193340  2016-03-19 18:44:05    800        small              1999    auto   \n",
       "108629  2016-03-16 12:58:58    950          NaN              2014     NaN   \n",
       "265628  2016-03-12 15:54:52   7990  convertible              2007  manual   \n",
       "334282  2016-03-10 15:38:56   7800        sedan              2011  manual   \n",
       "192121  2016-03-16 14:46:46    800        small              1998  manual   \n",
       "299771  2016-03-07 13:52:03   6700          bus              2005  manual   \n",
       "179745  2016-03-22 00:49:29   3000        sedan              1996  manual   \n",
       "310144  2016-03-28 14:39:48   1050        small              1996  manual   \n",
       "243676  2016-03-27 16:51:03   2499        small              2001    auto   \n",
       "28192   2016-03-27 17:55:08   3450        wagon              2005  manual   \n",
       "200432  2016-03-30 14:47:15  11990          bus              2009  manual   \n",
       "80823   2016-03-12 15:47:44   1980        small              2001  manual   \n",
       "233548  2016-03-15 18:36:44   1590          NaN              2018    auto   \n",
       "47524   2016-03-13 09:37:19   1900        wagon              1999  manual   \n",
       "105871  2016-03-08 12:46:57    515          bus              2002  manual   \n",
       "\n",
       "        Power     Model  Kilometer  RegistrationMonth  FuelType  \\\n",
       "60723     116    sharan     125000                 11       lpg   \n",
       "234141    140    passat     150000                  4  gasoline   \n",
       "149319    108  sprinter     100000                 10  gasoline   \n",
       "301751     54     corsa     150000                 10    petrol   \n",
       "71032     120    zafira     150000                  7  gasoline   \n",
       "193340     65    fortwo     150000                  0    petrol   \n",
       "108629      0     other      60000                  4       NaN   \n",
       "265628    140     astra      70000                  7    petrol   \n",
       "334282    105     focus     100000                  3    petrol   \n",
       "192121      0    fiesta     100000                  0    petrol   \n",
       "299771    109  b_klasse     150000                 12  gasoline   \n",
       "179745    170       5er       5000                 10    petrol   \n",
       "310144     60    twingo     150000                 10    petrol   \n",
       "243676     60      polo     150000                  6    petrol   \n",
       "28192     131       NaN     150000                  0       NaN   \n",
       "200432    122      golf      80000                  8    petrol   \n",
       "80823      50      lupo     150000                  6    petrol   \n",
       "233548     55    fortwo     150000                 11       NaN   \n",
       "47524     125  c_klasse     150000                  0       NaN   \n",
       "105871    116     other     150000                  1    petrol   \n",
       "\n",
       "                Brand NotRepaired          DateCreated  NumberOfPictures  \\\n",
       "60723      volkswagen          no  2016-03-10 00:00:00                 0   \n",
       "234141     volkswagen          no  2016-03-17 00:00:00                 0   \n",
       "149319  mercedes_benz          no  2016-03-07 00:00:00                 0   \n",
       "301751           opel          no  2016-04-05 00:00:00                 0   \n",
       "71032            opel          no  2016-03-12 00:00:00                 0   \n",
       "193340          smart         yes  2016-03-19 00:00:00                 0   \n",
       "108629     volkswagen         NaN  2016-03-16 00:00:00                 0   \n",
       "265628           opel          no  2016-03-12 00:00:00                 0   \n",
       "334282           ford          no  2016-03-10 00:00:00                 0   \n",
       "192121           ford          no  2016-03-16 00:00:00                 0   \n",
       "299771  mercedes_benz          no  2016-03-07 00:00:00                 0   \n",
       "179745            bmw          no  2016-03-21 00:00:00                 0   \n",
       "310144        renault         NaN  2016-03-28 00:00:00                 0   \n",
       "243676     volkswagen          no  2016-03-27 00:00:00                 0   \n",
       "28192      volkswagen          no  2016-03-27 00:00:00                 0   \n",
       "200432     volkswagen          no  2016-03-30 00:00:00                 0   \n",
       "80823      volkswagen          no  2016-03-12 00:00:00                 0   \n",
       "233548          smart          no  2016-03-15 00:00:00                 0   \n",
       "47524   mercedes_benz         NaN  2016-03-13 00:00:00                 0   \n",
       "105871        citroen         yes  2016-03-08 00:00:00                 0   \n",
       "\n",
       "        PostalCode             LastSeen  \n",
       "60723        48607  2016-04-06 07:16:55  \n",
       "234141       36043  2016-03-29 12:18:15  \n",
       "149319       25524  2016-04-06 19:18:03  \n",
       "301751       51067  2016-04-07 11:16:33  \n",
       "71032        84130  2016-03-12 21:42:05  \n",
       "193340       67700  2016-03-19 18:44:05  \n",
       "108629       70178  2016-03-16 12:58:58  \n",
       "265628       82205  2016-03-19 17:47:28  \n",
       "334282        6231  2016-03-12 19:45:59  \n",
       "192121       39393  2016-03-20 13:19:15  \n",
       "299771       13465  2016-04-06 12:44:43  \n",
       "179745       72336  2016-04-03 14:46:46  \n",
       "310144       79312  2016-04-06 18:19:21  \n",
       "243676       27386  2016-04-05 12:44:24  \n",
       "28192        26817  2016-03-27 17:55:08  \n",
       "200432       45472  2016-04-07 05:17:27  \n",
       "80823        85570  2016-03-24 13:15:35  \n",
       "233548       46487  2016-04-06 18:47:23  \n",
       "47524        52068  2016-03-17 12:47:07  \n",
       "105871       59425  2016-04-05 12:16:02  "
      ]
     },
     "execution_count": 6,
     "metadata": {},
     "output_type": "execute_result"
    }
   ],
   "source": [
    "raw_data.sample(n=20, random_state=1)"
   ]
  },
  {
   "cell_type": "markdown",
   "metadata": {},
   "source": [
    "Иногда в таблицах в конце есть строка \"Итого\"(или т.п.), нам она не нужна, убедимся в ее отсутствии."
   ]
  },
  {
   "cell_type": "code",
   "execution_count": 7,
   "metadata": {},
   "outputs": [
    {
     "data": {
      "text/html": [
       "<div>\n",
       "<style scoped>\n",
       "    .dataframe tbody tr th:only-of-type {\n",
       "        vertical-align: middle;\n",
       "    }\n",
       "\n",
       "    .dataframe tbody tr th {\n",
       "        vertical-align: top;\n",
       "    }\n",
       "\n",
       "    .dataframe thead th {\n",
       "        text-align: right;\n",
       "    }\n",
       "</style>\n",
       "<table border=\"1\" class=\"dataframe\">\n",
       "  <thead>\n",
       "    <tr style=\"text-align: right;\">\n",
       "      <th></th>\n",
       "      <th>DateCrawled</th>\n",
       "      <th>Price</th>\n",
       "      <th>VehicleType</th>\n",
       "      <th>RegistrationYear</th>\n",
       "      <th>Gearbox</th>\n",
       "      <th>Power</th>\n",
       "      <th>Model</th>\n",
       "      <th>Kilometer</th>\n",
       "      <th>RegistrationMonth</th>\n",
       "      <th>FuelType</th>\n",
       "      <th>Brand</th>\n",
       "      <th>NotRepaired</th>\n",
       "      <th>DateCreated</th>\n",
       "      <th>NumberOfPictures</th>\n",
       "      <th>PostalCode</th>\n",
       "      <th>LastSeen</th>\n",
       "    </tr>\n",
       "  </thead>\n",
       "  <tbody>\n",
       "    <tr>\n",
       "      <td>354364</td>\n",
       "      <td>2016-03-21 09:50:58</td>\n",
       "      <td>0</td>\n",
       "      <td>NaN</td>\n",
       "      <td>2005</td>\n",
       "      <td>manual</td>\n",
       "      <td>0</td>\n",
       "      <td>colt</td>\n",
       "      <td>150000</td>\n",
       "      <td>7</td>\n",
       "      <td>petrol</td>\n",
       "      <td>mitsubishi</td>\n",
       "      <td>yes</td>\n",
       "      <td>2016-03-21 00:00:00</td>\n",
       "      <td>0</td>\n",
       "      <td>2694</td>\n",
       "      <td>2016-03-21 10:42:49</td>\n",
       "    </tr>\n",
       "    <tr>\n",
       "      <td>354365</td>\n",
       "      <td>2016-03-14 17:48:27</td>\n",
       "      <td>2200</td>\n",
       "      <td>NaN</td>\n",
       "      <td>2005</td>\n",
       "      <td>NaN</td>\n",
       "      <td>0</td>\n",
       "      <td>NaN</td>\n",
       "      <td>20000</td>\n",
       "      <td>1</td>\n",
       "      <td>NaN</td>\n",
       "      <td>sonstige_autos</td>\n",
       "      <td>NaN</td>\n",
       "      <td>2016-03-14 00:00:00</td>\n",
       "      <td>0</td>\n",
       "      <td>39576</td>\n",
       "      <td>2016-04-06 00:46:52</td>\n",
       "    </tr>\n",
       "    <tr>\n",
       "      <td>354366</td>\n",
       "      <td>2016-03-05 19:56:21</td>\n",
       "      <td>1199</td>\n",
       "      <td>convertible</td>\n",
       "      <td>2000</td>\n",
       "      <td>auto</td>\n",
       "      <td>101</td>\n",
       "      <td>fortwo</td>\n",
       "      <td>125000</td>\n",
       "      <td>3</td>\n",
       "      <td>petrol</td>\n",
       "      <td>smart</td>\n",
       "      <td>no</td>\n",
       "      <td>2016-03-05 00:00:00</td>\n",
       "      <td>0</td>\n",
       "      <td>26135</td>\n",
       "      <td>2016-03-11 18:17:12</td>\n",
       "    </tr>\n",
       "    <tr>\n",
       "      <td>354367</td>\n",
       "      <td>2016-03-19 18:57:12</td>\n",
       "      <td>9200</td>\n",
       "      <td>bus</td>\n",
       "      <td>1996</td>\n",
       "      <td>manual</td>\n",
       "      <td>102</td>\n",
       "      <td>transporter</td>\n",
       "      <td>150000</td>\n",
       "      <td>3</td>\n",
       "      <td>gasoline</td>\n",
       "      <td>volkswagen</td>\n",
       "      <td>no</td>\n",
       "      <td>2016-03-19 00:00:00</td>\n",
       "      <td>0</td>\n",
       "      <td>87439</td>\n",
       "      <td>2016-04-07 07:15:26</td>\n",
       "    </tr>\n",
       "    <tr>\n",
       "      <td>354368</td>\n",
       "      <td>2016-03-20 19:41:08</td>\n",
       "      <td>3400</td>\n",
       "      <td>wagon</td>\n",
       "      <td>2002</td>\n",
       "      <td>manual</td>\n",
       "      <td>100</td>\n",
       "      <td>golf</td>\n",
       "      <td>150000</td>\n",
       "      <td>6</td>\n",
       "      <td>gasoline</td>\n",
       "      <td>volkswagen</td>\n",
       "      <td>NaN</td>\n",
       "      <td>2016-03-20 00:00:00</td>\n",
       "      <td>0</td>\n",
       "      <td>40764</td>\n",
       "      <td>2016-03-24 12:45:21</td>\n",
       "    </tr>\n",
       "  </tbody>\n",
       "</table>\n",
       "</div>"
      ],
      "text/plain": [
       "                DateCrawled  Price  VehicleType  RegistrationYear Gearbox  \\\n",
       "354364  2016-03-21 09:50:58      0          NaN              2005  manual   \n",
       "354365  2016-03-14 17:48:27   2200          NaN              2005     NaN   \n",
       "354366  2016-03-05 19:56:21   1199  convertible              2000    auto   \n",
       "354367  2016-03-19 18:57:12   9200          bus              1996  manual   \n",
       "354368  2016-03-20 19:41:08   3400        wagon              2002  manual   \n",
       "\n",
       "        Power        Model  Kilometer  RegistrationMonth  FuelType  \\\n",
       "354364      0         colt     150000                  7    petrol   \n",
       "354365      0          NaN      20000                  1       NaN   \n",
       "354366    101       fortwo     125000                  3    petrol   \n",
       "354367    102  transporter     150000                  3  gasoline   \n",
       "354368    100         golf     150000                  6  gasoline   \n",
       "\n",
       "                 Brand NotRepaired          DateCreated  NumberOfPictures  \\\n",
       "354364      mitsubishi         yes  2016-03-21 00:00:00                 0   \n",
       "354365  sonstige_autos         NaN  2016-03-14 00:00:00                 0   \n",
       "354366           smart          no  2016-03-05 00:00:00                 0   \n",
       "354367      volkswagen          no  2016-03-19 00:00:00                 0   \n",
       "354368      volkswagen         NaN  2016-03-20 00:00:00                 0   \n",
       "\n",
       "        PostalCode             LastSeen  \n",
       "354364        2694  2016-03-21 10:42:49  \n",
       "354365       39576  2016-04-06 00:46:52  \n",
       "354366       26135  2016-03-11 18:17:12  \n",
       "354367       87439  2016-04-07 07:15:26  \n",
       "354368       40764  2016-03-24 12:45:21  "
      ]
     },
     "execution_count": 7,
     "metadata": {},
     "output_type": "execute_result"
    }
   ],
   "source": [
    "raw_data.tail()"
   ]
  },
  {
   "cell_type": "code",
   "execution_count": 8,
   "metadata": {},
   "outputs": [
    {
     "name": "stdout",
     "output_type": "stream",
     "text": [
      "<class 'pandas.core.frame.DataFrame'>\n",
      "RangeIndex: 354369 entries, 0 to 354368\n",
      "Data columns (total 16 columns):\n",
      "DateCrawled          354369 non-null object\n",
      "Price                354369 non-null int64\n",
      "VehicleType          316879 non-null object\n",
      "RegistrationYear     354369 non-null int64\n",
      "Gearbox              334536 non-null object\n",
      "Power                354369 non-null int64\n",
      "Model                334664 non-null object\n",
      "Kilometer            354369 non-null int64\n",
      "RegistrationMonth    354369 non-null int64\n",
      "FuelType             321474 non-null object\n",
      "Brand                354369 non-null object\n",
      "NotRepaired          283215 non-null object\n",
      "DateCreated          354369 non-null object\n",
      "NumberOfPictures     354369 non-null int64\n",
      "PostalCode           354369 non-null int64\n",
      "LastSeen             354369 non-null object\n",
      "dtypes: int64(7), object(9)\n",
      "memory usage: 43.3+ MB\n"
     ]
    }
   ],
   "source": [
    "raw_data.info()"
   ]
  },
  {
   "cell_type": "code",
   "execution_count": 9,
   "metadata": {},
   "outputs": [
    {
     "data": {
      "text/html": [
       "<div>\n",
       "<style scoped>\n",
       "    .dataframe tbody tr th:only-of-type {\n",
       "        vertical-align: middle;\n",
       "    }\n",
       "\n",
       "    .dataframe tbody tr th {\n",
       "        vertical-align: top;\n",
       "    }\n",
       "\n",
       "    .dataframe thead th {\n",
       "        text-align: right;\n",
       "    }\n",
       "</style>\n",
       "<table border=\"1\" class=\"dataframe\">\n",
       "  <thead>\n",
       "    <tr style=\"text-align: right;\">\n",
       "      <th></th>\n",
       "      <th>Price</th>\n",
       "      <th>RegistrationYear</th>\n",
       "      <th>Power</th>\n",
       "      <th>Kilometer</th>\n",
       "      <th>RegistrationMonth</th>\n",
       "      <th>NumberOfPictures</th>\n",
       "      <th>PostalCode</th>\n",
       "    </tr>\n",
       "  </thead>\n",
       "  <tbody>\n",
       "    <tr>\n",
       "      <td>count</td>\n",
       "      <td>354369.000000</td>\n",
       "      <td>354369.000000</td>\n",
       "      <td>354369.000000</td>\n",
       "      <td>354369.000000</td>\n",
       "      <td>354369.000000</td>\n",
       "      <td>354369.0</td>\n",
       "      <td>354369.000000</td>\n",
       "    </tr>\n",
       "    <tr>\n",
       "      <td>mean</td>\n",
       "      <td>4416.656776</td>\n",
       "      <td>2004.234448</td>\n",
       "      <td>110.094337</td>\n",
       "      <td>128211.172535</td>\n",
       "      <td>5.714645</td>\n",
       "      <td>0.0</td>\n",
       "      <td>50508.689087</td>\n",
       "    </tr>\n",
       "    <tr>\n",
       "      <td>std</td>\n",
       "      <td>4514.158514</td>\n",
       "      <td>90.227958</td>\n",
       "      <td>189.850405</td>\n",
       "      <td>37905.341530</td>\n",
       "      <td>3.726421</td>\n",
       "      <td>0.0</td>\n",
       "      <td>25783.096248</td>\n",
       "    </tr>\n",
       "    <tr>\n",
       "      <td>min</td>\n",
       "      <td>0.000000</td>\n",
       "      <td>1000.000000</td>\n",
       "      <td>0.000000</td>\n",
       "      <td>5000.000000</td>\n",
       "      <td>0.000000</td>\n",
       "      <td>0.0</td>\n",
       "      <td>1067.000000</td>\n",
       "    </tr>\n",
       "    <tr>\n",
       "      <td>25%</td>\n",
       "      <td>1050.000000</td>\n",
       "      <td>1999.000000</td>\n",
       "      <td>69.000000</td>\n",
       "      <td>125000.000000</td>\n",
       "      <td>3.000000</td>\n",
       "      <td>0.0</td>\n",
       "      <td>30165.000000</td>\n",
       "    </tr>\n",
       "    <tr>\n",
       "      <td>50%</td>\n",
       "      <td>2700.000000</td>\n",
       "      <td>2003.000000</td>\n",
       "      <td>105.000000</td>\n",
       "      <td>150000.000000</td>\n",
       "      <td>6.000000</td>\n",
       "      <td>0.0</td>\n",
       "      <td>49413.000000</td>\n",
       "    </tr>\n",
       "    <tr>\n",
       "      <td>75%</td>\n",
       "      <td>6400.000000</td>\n",
       "      <td>2008.000000</td>\n",
       "      <td>143.000000</td>\n",
       "      <td>150000.000000</td>\n",
       "      <td>9.000000</td>\n",
       "      <td>0.0</td>\n",
       "      <td>71083.000000</td>\n",
       "    </tr>\n",
       "    <tr>\n",
       "      <td>max</td>\n",
       "      <td>20000.000000</td>\n",
       "      <td>9999.000000</td>\n",
       "      <td>20000.000000</td>\n",
       "      <td>150000.000000</td>\n",
       "      <td>12.000000</td>\n",
       "      <td>0.0</td>\n",
       "      <td>99998.000000</td>\n",
       "    </tr>\n",
       "  </tbody>\n",
       "</table>\n",
       "</div>"
      ],
      "text/plain": [
       "               Price  RegistrationYear          Power      Kilometer  \\\n",
       "count  354369.000000     354369.000000  354369.000000  354369.000000   \n",
       "mean     4416.656776       2004.234448     110.094337  128211.172535   \n",
       "std      4514.158514         90.227958     189.850405   37905.341530   \n",
       "min         0.000000       1000.000000       0.000000    5000.000000   \n",
       "25%      1050.000000       1999.000000      69.000000  125000.000000   \n",
       "50%      2700.000000       2003.000000     105.000000  150000.000000   \n",
       "75%      6400.000000       2008.000000     143.000000  150000.000000   \n",
       "max     20000.000000       9999.000000   20000.000000  150000.000000   \n",
       "\n",
       "       RegistrationMonth  NumberOfPictures     PostalCode  \n",
       "count      354369.000000          354369.0  354369.000000  \n",
       "mean            5.714645               0.0   50508.689087  \n",
       "std             3.726421               0.0   25783.096248  \n",
       "min             0.000000               0.0    1067.000000  \n",
       "25%             3.000000               0.0   30165.000000  \n",
       "50%             6.000000               0.0   49413.000000  \n",
       "75%             9.000000               0.0   71083.000000  \n",
       "max            12.000000               0.0   99998.000000  "
      ]
     },
     "execution_count": 9,
     "metadata": {},
     "output_type": "execute_result"
    }
   ],
   "source": [
    "raw_data.describe()"
   ]
  },
  {
   "cell_type": "markdown",
   "metadata": {},
   "source": [
    "Количество пропущенных значений по признакам."
   ]
  },
  {
   "cell_type": "code",
   "execution_count": 10,
   "metadata": {
    "scrolled": true
   },
   "outputs": [
    {
     "data": {
      "text/plain": [
       "DateCrawled              0\n",
       "Price                    0\n",
       "VehicleType          37490\n",
       "RegistrationYear         0\n",
       "Gearbox              19833\n",
       "Power                    0\n",
       "Model                19705\n",
       "Kilometer                0\n",
       "RegistrationMonth        0\n",
       "FuelType             32895\n",
       "Brand                    0\n",
       "NotRepaired          71154\n",
       "DateCreated              0\n",
       "NumberOfPictures         0\n",
       "PostalCode               0\n",
       "LastSeen                 0\n",
       "dtype: int64"
      ]
     },
     "execution_count": 10,
     "metadata": {},
     "output_type": "execute_result"
    }
   ],
   "source": [
    "raw_data.isna().sum()"
   ]
  },
  {
   "cell_type": "markdown",
   "metadata": {},
   "source": [
    "Общий процент пропущенных значений."
   ]
  },
  {
   "cell_type": "code",
   "execution_count": 11,
   "metadata": {},
   "outputs": [
    {
     "data": {
      "text/plain": [
       "3.1936519560119536"
      ]
     },
     "execution_count": 11,
     "metadata": {},
     "output_type": "execute_result"
    }
   ],
   "source": [
    "raw_data.isna().sum().sum() / raw_data.shape[0] / raw_data.shape[1] * 100"
   ]
  },
  {
   "cell_type": "markdown",
   "metadata": {},
   "source": [
    "Процент пропущеных значений по столбцам."
   ]
  },
  {
   "cell_type": "code",
   "execution_count": 12,
   "metadata": {},
   "outputs": [
    {
     "data": {
      "text/plain": [
       "DateCrawled           0.000000\n",
       "Price                 0.000000\n",
       "VehicleType          10.579368\n",
       "RegistrationYear      0.000000\n",
       "Gearbox               5.596709\n",
       "Power                 0.000000\n",
       "Model                 5.560588\n",
       "Kilometer             0.000000\n",
       "RegistrationMonth     0.000000\n",
       "FuelType              9.282697\n",
       "Brand                 0.000000\n",
       "NotRepaired          20.079070\n",
       "DateCreated           0.000000\n",
       "NumberOfPictures      0.000000\n",
       "PostalCode            0.000000\n",
       "LastSeen              0.000000\n",
       "dtype: float64"
      ]
     },
     "execution_count": 12,
     "metadata": {},
     "output_type": "execute_result"
    }
   ],
   "source": [
    "raw_data.isna().sum() / raw_data.shape[0] * 100"
   ]
  },
  {
   "cell_type": "code",
   "execution_count": 13,
   "metadata": {
    "scrolled": true
   },
   "outputs": [
    {
     "data": {
      "image/png": "[encoded data removed]",
      "text/plain": [
       "<Figure size 432x288 with 1 Axes>"
      ]
     },
     "metadata": {
      "needs_background": "light"
     },
     "output_type": "display_data"
    }
   ],
   "source": [
    "raw_data['Power'].hist(bins = 100, range = (0, 400))\n",
    "plt.title('Horsepower distribution', fontsize=14);\n",
    "plt.ylabel('Quantity', fontsize=12);\n",
    "plt.xlabel('Horsepower, nb', fontsize=12);"
   ]
  },
  {
   "cell_type": "markdown",
   "metadata": {},
   "source": [
    "Слишком много нулей в признаке Power. Связано, возможно, с тем, что владельцы автомобилей просто не значи точного количества и заполняли их нулями."
   ]
  },
  {
   "cell_type": "markdown",
   "metadata": {},
   "source": [
    "Посмотрим на предоставленный список моделей."
   ]
  },
  {
   "cell_type": "code",
   "execution_count": 14,
   "metadata": {
    "scrolled": true
   },
   "outputs": [
    {
     "data": {
      "text/plain": [
       "array(['golf', nan, 'grand', 'fabia', '3er', '2_reihe', 'other', 'c_max',\n",
       "       '3_reihe', 'passat', 'navara', 'ka', 'polo', 'twingo', 'a_klasse',\n",
       "       'scirocco', '5er', 'meriva', 'arosa', 'c4', 'civic', 'transporter',\n",
       "       'punto', 'e_klasse', 'clio', 'kadett', 'kangoo', 'corsa', 'one',\n",
       "       'fortwo', '1er', 'b_klasse', 'signum', 'astra', 'a8', 'jetta',\n",
       "       'fiesta', 'c_klasse', 'micra', 'vito', 'sprinter', '156', 'escort',\n",
       "       'forester', 'xc_reihe', 'scenic', 'a4', 'a1', 'insignia', 'combo',\n",
       "       'focus', 'tt', 'a6', 'jazz', 'omega', 'slk', '7er', '80', '147',\n",
       "       '100', 'z_reihe', 'sportage', 'sorento', 'v40', 'ibiza', 'mustang',\n",
       "       'eos', 'touran', 'getz', 'a3', 'almera', 'megane', 'lupo', 'r19',\n",
       "       'zafira', 'caddy', 'mondeo', 'cordoba', 'colt', 'impreza',\n",
       "       'vectra', 'berlingo', 'tiguan', 'i_reihe', 'espace', 'sharan',\n",
       "       '6_reihe', 'panda', 'up', 'seicento', 'ceed', '5_reihe', 'yeti',\n",
       "       'octavia', 'mii', 'rx_reihe', '6er', 'modus', 'fox', 'matiz',\n",
       "       'beetle', 'c1', 'rio', 'touareg', 'logan', 'spider', 'cuore',\n",
       "       's_max', 'a2', 'galaxy', 'c3', 'viano', 's_klasse', '1_reihe',\n",
       "       'avensis', 'roomster', 'sl', 'kaefer', 'santa', 'cooper', 'leon',\n",
       "       '4_reihe', 'a5', '500', 'laguna', 'ptcruiser', 'clk', 'primera',\n",
       "       'x_reihe', 'exeo', '159', 'transit', 'juke', 'qashqai', 'carisma',\n",
       "       'accord', 'corolla', 'lanos', 'phaeton', 'verso', 'swift', 'rav',\n",
       "       'picanto', 'boxster', 'kalos', 'superb', 'stilo', 'alhambra',\n",
       "       'mx_reihe', 'roadster', 'ypsilon', 'cayenne', 'galant', 'justy',\n",
       "       '90', 'sirion', 'crossfire', 'agila', 'duster', 'cr_reihe', 'v50',\n",
       "       'c_reihe', 'v_klasse', 'm_klasse', 'yaris', 'c5', 'aygo', 'cc',\n",
       "       'carnival', 'fusion', '911', 'bora', 'forfour', 'm_reihe', 'cl',\n",
       "       'tigra', '300c', 'spark', 'v70', 'kuga', 'x_type', 'ducato',\n",
       "       's_type', 'x_trail', 'toledo', 'altea', 'voyager', 'calibra',\n",
       "       'bravo', 'antara', 'tucson', 'citigo', 'jimny', 'wrangler',\n",
       "       'lybra', 'q7', 'lancer', 'captiva', 'c2', 'discovery',\n",
       "       'freelander', 'sandero', 'note', '900', 'cherokee', 'clubman',\n",
       "       'samara', 'defender', '601', 'cx_reihe', 'legacy', 'pajero',\n",
       "       'auris', 'niva', 's60', 'nubira', 'vivaro', 'g_klasse', 'lodgy',\n",
       "       '850', 'range_rover', 'q3', 'serie_2', 'glk', 'charade', 'croma',\n",
       "       'outlander', 'doblo', 'musa', 'move', '9000', 'v60', '145', 'aveo',\n",
       "       '200', 'b_max', 'range_rover_sport', 'terios', 'rangerover', 'q5',\n",
       "       'range_rover_evoque', 'materia', 'delta', 'gl', 'kalina', 'amarok',\n",
       "       'elefantino', 'i3', 'kappa', 'serie_3', 'serie_1'], dtype=object)"
      ]
     },
     "execution_count": 14,
     "metadata": {},
     "output_type": "execute_result"
    }
   ],
   "source": [
    "raw_data['Model'].unique()"
   ]
  },
  {
   "cell_type": "markdown",
   "metadata": {},
   "source": [
    "Посмотрим на количество уникальных значений столбцов."
   ]
  },
  {
   "cell_type": "code",
   "execution_count": 15,
   "metadata": {},
   "outputs": [
    {
     "data": {
      "text/plain": [
       "Model          250\n",
       "VehicleType      8\n",
       "Brand           40\n",
       "dtype: int64"
      ]
     },
     "execution_count": 15,
     "metadata": {},
     "output_type": "execute_result"
    }
   ],
   "source": [
    "raw_data[['Model', 'VehicleType', 'Brand']].nunique()"
   ]
  },
  {
   "cell_type": "markdown",
   "metadata": {},
   "source": [
    "<a id='Вывод_1'></a>"
   ]
  },
  {
   "cell_type": "markdown",
   "metadata": {},
   "source": [
    "### <p style=\"text-align:center\"> Вывод</p>"
   ]
  },
  {
   "cell_type": "markdown",
   "metadata": {},
   "source": [
    "##### В ходе первичного анализа данных были  сделаны следующие выводы:\n",
    "\n",
    "___\n",
    "\n",
    "\n",
    "1. Выявлены пропуски в нескольких столбцах датафрейма. \n",
    "\n",
    "2. В столбце RegistrationYear присутствуют маловозможные значения, типа 1000. Предположительно, опечатка.\n",
    "\n",
    "3. Часть значений признака Power заполнена нулями, подозрительно.\n",
    "\n",
    "4. Признаки с датами не помогут в решении поставленной задачи.\n",
    "\n",
    "5. Категориальные признаки требуют преобразования.\n",
    "\n",
    "6. Названиям столбцов необходима корректировка.\n",
    "\n",
    "7. Судя по дескрипшену, в столбце \tNumberOfPictures нет значений кроме нулей.\n",
    "\n",
    "\n",
    "___\n",
    "\n",
    "Таким образом было выполнено первичное ознакомление с предоставленной информацией, выявлены некоторые дефекты датасета. Можно сказать, что данные нуждаются в предобработке. Разберемся с этим в следующей части."
   ]
  },
  {
   "cell_type": "markdown",
   "metadata": {},
   "source": [
    " ## Часть 2. Предобработка данных"
   ]
  },
  {
   "cell_type": "markdown",
   "metadata": {},
   "source": [
    "<a id='Удаление бесполезной информации'></a>"
   ]
  },
  {
   "cell_type": "markdown",
   "metadata": {},
   "source": [
    "### <p style=\"text-align:center\">Удаление бесполезной информации</p>"
   ]
  },
  {
   "cell_type": "markdown",
   "metadata": {},
   "source": [
    "Удаляем столбцы с датами и заполненный нулями столбец NumberOfPictures, а также PostalCode."
   ]
  },
  {
   "cell_type": "code",
   "execution_count": 16,
   "metadata": {},
   "outputs": [],
   "source": [
    "raw_data = raw_data.drop(['DateCrawled', 'DateCreated', 'NumberOfPictures', 'PostalCode', 'LastSeen'], axis=1)"
   ]
  },
  {
   "cell_type": "markdown",
   "metadata": {},
   "source": [
    "Проверяем."
   ]
  },
  {
   "cell_type": "code",
   "execution_count": 17,
   "metadata": {},
   "outputs": [
    {
     "data": {
      "text/html": [
       "<div>\n",
       "<style scoped>\n",
       "    .dataframe tbody tr th:only-of-type {\n",
       "        vertical-align: middle;\n",
       "    }\n",
       "\n",
       "    .dataframe tbody tr th {\n",
       "        vertical-align: top;\n",
       "    }\n",
       "\n",
       "    .dataframe thead th {\n",
       "        text-align: right;\n",
       "    }\n",
       "</style>\n",
       "<table border=\"1\" class=\"dataframe\">\n",
       "  <thead>\n",
       "    <tr style=\"text-align: right;\">\n",
       "      <th></th>\n",
       "      <th>Price</th>\n",
       "      <th>VehicleType</th>\n",
       "      <th>RegistrationYear</th>\n",
       "      <th>Gearbox</th>\n",
       "      <th>Power</th>\n",
       "      <th>Model</th>\n",
       "      <th>Kilometer</th>\n",
       "      <th>RegistrationMonth</th>\n",
       "      <th>FuelType</th>\n",
       "      <th>Brand</th>\n",
       "      <th>NotRepaired</th>\n",
       "    </tr>\n",
       "  </thead>\n",
       "  <tbody>\n",
       "    <tr>\n",
       "      <td>0</td>\n",
       "      <td>480</td>\n",
       "      <td>NaN</td>\n",
       "      <td>1993</td>\n",
       "      <td>manual</td>\n",
       "      <td>0</td>\n",
       "      <td>golf</td>\n",
       "      <td>150000</td>\n",
       "      <td>0</td>\n",
       "      <td>petrol</td>\n",
       "      <td>volkswagen</td>\n",
       "      <td>NaN</td>\n",
       "    </tr>\n",
       "    <tr>\n",
       "      <td>1</td>\n",
       "      <td>18300</td>\n",
       "      <td>coupe</td>\n",
       "      <td>2011</td>\n",
       "      <td>manual</td>\n",
       "      <td>190</td>\n",
       "      <td>NaN</td>\n",
       "      <td>125000</td>\n",
       "      <td>5</td>\n",
       "      <td>gasoline</td>\n",
       "      <td>audi</td>\n",
       "      <td>yes</td>\n",
       "    </tr>\n",
       "    <tr>\n",
       "      <td>2</td>\n",
       "      <td>9800</td>\n",
       "      <td>suv</td>\n",
       "      <td>2004</td>\n",
       "      <td>auto</td>\n",
       "      <td>163</td>\n",
       "      <td>grand</td>\n",
       "      <td>125000</td>\n",
       "      <td>8</td>\n",
       "      <td>gasoline</td>\n",
       "      <td>jeep</td>\n",
       "      <td>NaN</td>\n",
       "    </tr>\n",
       "    <tr>\n",
       "      <td>3</td>\n",
       "      <td>1500</td>\n",
       "      <td>small</td>\n",
       "      <td>2001</td>\n",
       "      <td>manual</td>\n",
       "      <td>75</td>\n",
       "      <td>golf</td>\n",
       "      <td>150000</td>\n",
       "      <td>6</td>\n",
       "      <td>petrol</td>\n",
       "      <td>volkswagen</td>\n",
       "      <td>no</td>\n",
       "    </tr>\n",
       "    <tr>\n",
       "      <td>4</td>\n",
       "      <td>3600</td>\n",
       "      <td>small</td>\n",
       "      <td>2008</td>\n",
       "      <td>manual</td>\n",
       "      <td>69</td>\n",
       "      <td>fabia</td>\n",
       "      <td>90000</td>\n",
       "      <td>7</td>\n",
       "      <td>gasoline</td>\n",
       "      <td>skoda</td>\n",
       "      <td>no</td>\n",
       "    </tr>\n",
       "  </tbody>\n",
       "</table>\n",
       "</div>"
      ],
      "text/plain": [
       "   Price VehicleType  RegistrationYear Gearbox  Power  Model  Kilometer  \\\n",
       "0    480         NaN              1993  manual      0   golf     150000   \n",
       "1  18300       coupe              2011  manual    190    NaN     125000   \n",
       "2   9800         suv              2004    auto    163  grand     125000   \n",
       "3   1500       small              2001  manual     75   golf     150000   \n",
       "4   3600       small              2008  manual     69  fabia      90000   \n",
       "\n",
       "   RegistrationMonth  FuelType       Brand NotRepaired  \n",
       "0                  0    petrol  volkswagen         NaN  \n",
       "1                  5  gasoline        audi         yes  \n",
       "2                  8  gasoline        jeep         NaN  \n",
       "3                  6    petrol  volkswagen          no  \n",
       "4                  7  gasoline       skoda          no  "
      ]
     },
     "execution_count": 17,
     "metadata": {},
     "output_type": "execute_result"
    }
   ],
   "source": [
    "raw_data.head()"
   ]
  },
  {
   "cell_type": "markdown",
   "metadata": {},
   "source": [
    "<a id='Обработка пропусков'></a>"
   ]
  },
  {
   "cell_type": "markdown",
   "metadata": {},
   "source": [
    "### <p style=\"text-align:center\">Обработка пропусков</p>"
   ]
  },
  {
   "cell_type": "markdown",
   "metadata": {},
   "source": [
    "Принято решение заполнить пропуски значением unknown. Нули в Power, RegistrationMonth исправлять не будем."
   ]
  },
  {
   "cell_type": "code",
   "execution_count": 18,
   "metadata": {},
   "outputs": [],
   "source": [
    "raw_data[['VehicleType', 'Gearbox', 'Model', 'FuelType', 'NotRepaired']] = raw_data[['VehicleType', 'Gearbox', 'Model',\n",
    "                                                                                    'FuelType','NotRepaired']].fillna('unknown')"
   ]
  },
  {
   "cell_type": "markdown",
   "metadata": {},
   "source": [
    "Проверяем."
   ]
  },
  {
   "cell_type": "code",
   "execution_count": 19,
   "metadata": {
    "scrolled": true
   },
   "outputs": [
    {
     "data": {
      "text/html": [
       "<div>\n",
       "<style scoped>\n",
       "    .dataframe tbody tr th:only-of-type {\n",
       "        vertical-align: middle;\n",
       "    }\n",
       "\n",
       "    .dataframe tbody tr th {\n",
       "        vertical-align: top;\n",
       "    }\n",
       "\n",
       "    .dataframe thead th {\n",
       "        text-align: right;\n",
       "    }\n",
       "</style>\n",
       "<table border=\"1\" class=\"dataframe\">\n",
       "  <thead>\n",
       "    <tr style=\"text-align: right;\">\n",
       "      <th></th>\n",
       "      <th>Price</th>\n",
       "      <th>VehicleType</th>\n",
       "      <th>RegistrationYear</th>\n",
       "      <th>Gearbox</th>\n",
       "      <th>Power</th>\n",
       "      <th>Model</th>\n",
       "      <th>Kilometer</th>\n",
       "      <th>RegistrationMonth</th>\n",
       "      <th>FuelType</th>\n",
       "      <th>Brand</th>\n",
       "      <th>NotRepaired</th>\n",
       "    </tr>\n",
       "  </thead>\n",
       "  <tbody>\n",
       "    <tr>\n",
       "      <td>0</td>\n",
       "      <td>480</td>\n",
       "      <td>unknown</td>\n",
       "      <td>1993</td>\n",
       "      <td>manual</td>\n",
       "      <td>0</td>\n",
       "      <td>golf</td>\n",
       "      <td>150000</td>\n",
       "      <td>0</td>\n",
       "      <td>petrol</td>\n",
       "      <td>volkswagen</td>\n",
       "      <td>unknown</td>\n",
       "    </tr>\n",
       "    <tr>\n",
       "      <td>1</td>\n",
       "      <td>18300</td>\n",
       "      <td>coupe</td>\n",
       "      <td>2011</td>\n",
       "      <td>manual</td>\n",
       "      <td>190</td>\n",
       "      <td>unknown</td>\n",
       "      <td>125000</td>\n",
       "      <td>5</td>\n",
       "      <td>gasoline</td>\n",
       "      <td>audi</td>\n",
       "      <td>yes</td>\n",
       "    </tr>\n",
       "    <tr>\n",
       "      <td>2</td>\n",
       "      <td>9800</td>\n",
       "      <td>suv</td>\n",
       "      <td>2004</td>\n",
       "      <td>auto</td>\n",
       "      <td>163</td>\n",
       "      <td>grand</td>\n",
       "      <td>125000</td>\n",
       "      <td>8</td>\n",
       "      <td>gasoline</td>\n",
       "      <td>jeep</td>\n",
       "      <td>unknown</td>\n",
       "    </tr>\n",
       "    <tr>\n",
       "      <td>3</td>\n",
       "      <td>1500</td>\n",
       "      <td>small</td>\n",
       "      <td>2001</td>\n",
       "      <td>manual</td>\n",
       "      <td>75</td>\n",
       "      <td>golf</td>\n",
       "      <td>150000</td>\n",
       "      <td>6</td>\n",
       "      <td>petrol</td>\n",
       "      <td>volkswagen</td>\n",
       "      <td>no</td>\n",
       "    </tr>\n",
       "    <tr>\n",
       "      <td>4</td>\n",
       "      <td>3600</td>\n",
       "      <td>small</td>\n",
       "      <td>2008</td>\n",
       "      <td>manual</td>\n",
       "      <td>69</td>\n",
       "      <td>fabia</td>\n",
       "      <td>90000</td>\n",
       "      <td>7</td>\n",
       "      <td>gasoline</td>\n",
       "      <td>skoda</td>\n",
       "      <td>no</td>\n",
       "    </tr>\n",
       "  </tbody>\n",
       "</table>\n",
       "</div>"
      ],
      "text/plain": [
       "   Price VehicleType  RegistrationYear Gearbox  Power    Model  Kilometer  \\\n",
       "0    480     unknown              1993  manual      0     golf     150000   \n",
       "1  18300       coupe              2011  manual    190  unknown     125000   \n",
       "2   9800         suv              2004    auto    163    grand     125000   \n",
       "3   1500       small              2001  manual     75     golf     150000   \n",
       "4   3600       small              2008  manual     69    fabia      90000   \n",
       "\n",
       "   RegistrationMonth  FuelType       Brand NotRepaired  \n",
       "0                  0    petrol  volkswagen     unknown  \n",
       "1                  5  gasoline        audi         yes  \n",
       "2                  8  gasoline        jeep     unknown  \n",
       "3                  6    petrol  volkswagen          no  \n",
       "4                  7  gasoline       skoda          no  "
      ]
     },
     "execution_count": 19,
     "metadata": {},
     "output_type": "execute_result"
    }
   ],
   "source": [
    "raw_data.head()"
   ]
  },
  {
   "cell_type": "markdown",
   "metadata": {},
   "source": [
    "<a id='Кодирование признаков'></a>"
   ]
  },
  {
   "cell_type": "markdown",
   "metadata": {},
   "source": [
    "### <p style=\"text-align:center\">Кодирование признаков</p>"
   ]
  },
  {
   "cell_type": "markdown",
   "metadata": {},
   "source": [
    "Признаки VehicleType, Gearbox, Model, FuelType, Brand и NotRepaired необходимо закодировать, для успешного обучения моделей."
   ]
  },
  {
   "cell_type": "code",
   "execution_count": 20,
   "metadata": {},
   "outputs": [],
   "source": [
    "features_to_encode = ['VehicleType', 'Gearbox', 'Model', 'FuelType', 'NotRepaired', 'Brand']"
   ]
  },
  {
   "cell_type": "code",
   "execution_count": 21,
   "metadata": {},
   "outputs": [
    {
     "data": {
      "text/html": [
       "<div>\n",
       "<style scoped>\n",
       "    .dataframe tbody tr th:only-of-type {\n",
       "        vertical-align: middle;\n",
       "    }\n",
       "\n",
       "    .dataframe tbody tr th {\n",
       "        vertical-align: top;\n",
       "    }\n",
       "\n",
       "    .dataframe thead th {\n",
       "        text-align: right;\n",
       "    }\n",
       "</style>\n",
       "<table border=\"1\" class=\"dataframe\">\n",
       "  <thead>\n",
       "    <tr style=\"text-align: right;\">\n",
       "      <th></th>\n",
       "      <th>Price</th>\n",
       "      <th>VehicleType</th>\n",
       "      <th>RegistrationYear</th>\n",
       "      <th>Gearbox</th>\n",
       "      <th>Power</th>\n",
       "      <th>Model</th>\n",
       "      <th>Kilometer</th>\n",
       "      <th>RegistrationMonth</th>\n",
       "      <th>FuelType</th>\n",
       "      <th>Brand</th>\n",
       "      <th>NotRepaired</th>\n",
       "    </tr>\n",
       "  </thead>\n",
       "  <tbody>\n",
       "    <tr>\n",
       "      <td>0</td>\n",
       "      <td>480</td>\n",
       "      <td>7.0</td>\n",
       "      <td>1993</td>\n",
       "      <td>1.0</td>\n",
       "      <td>0</td>\n",
       "      <td>116.0</td>\n",
       "      <td>150000</td>\n",
       "      <td>0</td>\n",
       "      <td>6.0</td>\n",
       "      <td>38.0</td>\n",
       "      <td>1.0</td>\n",
       "    </tr>\n",
       "    <tr>\n",
       "      <td>1</td>\n",
       "      <td>18300</td>\n",
       "      <td>2.0</td>\n",
       "      <td>2011</td>\n",
       "      <td>1.0</td>\n",
       "      <td>190</td>\n",
       "      <td>228.0</td>\n",
       "      <td>125000</td>\n",
       "      <td>5</td>\n",
       "      <td>2.0</td>\n",
       "      <td>1.0</td>\n",
       "      <td>2.0</td>\n",
       "    </tr>\n",
       "    <tr>\n",
       "      <td>2</td>\n",
       "      <td>9800</td>\n",
       "      <td>6.0</td>\n",
       "      <td>2004</td>\n",
       "      <td>0.0</td>\n",
       "      <td>163</td>\n",
       "      <td>117.0</td>\n",
       "      <td>125000</td>\n",
       "      <td>8</td>\n",
       "      <td>2.0</td>\n",
       "      <td>14.0</td>\n",
       "      <td>1.0</td>\n",
       "    </tr>\n",
       "    <tr>\n",
       "      <td>3</td>\n",
       "      <td>1500</td>\n",
       "      <td>5.0</td>\n",
       "      <td>2001</td>\n",
       "      <td>1.0</td>\n",
       "      <td>75</td>\n",
       "      <td>116.0</td>\n",
       "      <td>150000</td>\n",
       "      <td>6</td>\n",
       "      <td>6.0</td>\n",
       "      <td>38.0</td>\n",
       "      <td>0.0</td>\n",
       "    </tr>\n",
       "    <tr>\n",
       "      <td>4</td>\n",
       "      <td>3600</td>\n",
       "      <td>5.0</td>\n",
       "      <td>2008</td>\n",
       "      <td>1.0</td>\n",
       "      <td>69</td>\n",
       "      <td>101.0</td>\n",
       "      <td>90000</td>\n",
       "      <td>7</td>\n",
       "      <td>2.0</td>\n",
       "      <td>31.0</td>\n",
       "      <td>0.0</td>\n",
       "    </tr>\n",
       "  </tbody>\n",
       "</table>\n",
       "</div>"
      ],
      "text/plain": [
       "   Price  VehicleType  RegistrationYear  Gearbox  Power  Model  Kilometer  \\\n",
       "0    480          7.0              1993      1.0      0  116.0     150000   \n",
       "1  18300          2.0              2011      1.0    190  228.0     125000   \n",
       "2   9800          6.0              2004      0.0    163  117.0     125000   \n",
       "3   1500          5.0              2001      1.0     75  116.0     150000   \n",
       "4   3600          5.0              2008      1.0     69  101.0      90000   \n",
       "\n",
       "   RegistrationMonth  FuelType  Brand  NotRepaired  \n",
       "0                  0       6.0   38.0          1.0  \n",
       "1                  5       2.0    1.0          2.0  \n",
       "2                  8       2.0   14.0          1.0  \n",
       "3                  6       6.0   38.0          0.0  \n",
       "4                  7       2.0   31.0          0.0  "
      ]
     },
     "execution_count": 21,
     "metadata": {},
     "output_type": "execute_result"
    }
   ],
   "source": [
    "encoder = OrdinalEncoder()\n",
    "encoder.fit(raw_data[features_to_encode])\n",
    "raw_data[features_to_encode] = pd.DataFrame(encoder.transform(raw_data[features_to_encode]), \n",
    "                                            columns=raw_data[features_to_encode].columns) \n",
    "raw_data.head()"
   ]
  },
  {
   "cell_type": "markdown",
   "metadata": {},
   "source": [
    "<a id='Приведение названий столбцов к нижнему регистру'></a>"
   ]
  },
  {
   "cell_type": "markdown",
   "metadata": {},
   "source": [
    "### <p style=\"text-align:center\">Приведение названий столбцов к нижнему регистру</p>"
   ]
  },
  {
   "cell_type": "markdown",
   "metadata": {},
   "source": [
    "Применим функцию для перевода названий столбцов к snake case."
   ]
  },
  {
   "cell_type": "code",
   "execution_count": 22,
   "metadata": {},
   "outputs": [],
   "source": [
    "def make_it_snake_case(data):\n",
    "    '''Returns df with the same columns, but in snake case.'''\n",
    "    new_columns = []\n",
    "    for column in data.columns:\n",
    "        column = re.sub(r'([a-z0-9])([A-Z])', r'\\1_\\2', column).lower()\n",
    "        column = column.replace('__', '_')\n",
    "        new_columns.append(column)\n",
    "    data.columns = new_columns"
   ]
  },
  {
   "cell_type": "code",
   "execution_count": 23,
   "metadata": {},
   "outputs": [],
   "source": [
    "make_it_snake_case(raw_data)"
   ]
  },
  {
   "cell_type": "code",
   "execution_count": 24,
   "metadata": {},
   "outputs": [
    {
     "data": {
      "text/html": [
       "<div>\n",
       "<style scoped>\n",
       "    .dataframe tbody tr th:only-of-type {\n",
       "        vertical-align: middle;\n",
       "    }\n",
       "\n",
       "    .dataframe tbody tr th {\n",
       "        vertical-align: top;\n",
       "    }\n",
       "\n",
       "    .dataframe thead th {\n",
       "        text-align: right;\n",
       "    }\n",
       "</style>\n",
       "<table border=\"1\" class=\"dataframe\">\n",
       "  <thead>\n",
       "    <tr style=\"text-align: right;\">\n",
       "      <th></th>\n",
       "      <th>price</th>\n",
       "      <th>vehicle_type</th>\n",
       "      <th>registration_year</th>\n",
       "      <th>gearbox</th>\n",
       "      <th>power</th>\n",
       "      <th>model</th>\n",
       "      <th>kilometer</th>\n",
       "      <th>registration_month</th>\n",
       "      <th>fuel_type</th>\n",
       "      <th>brand</th>\n",
       "      <th>not_repaired</th>\n",
       "    </tr>\n",
       "  </thead>\n",
       "  <tbody>\n",
       "    <tr>\n",
       "      <td>0</td>\n",
       "      <td>480</td>\n",
       "      <td>7.0</td>\n",
       "      <td>1993</td>\n",
       "      <td>1.0</td>\n",
       "      <td>0</td>\n",
       "      <td>116.0</td>\n",
       "      <td>150000</td>\n",
       "      <td>0</td>\n",
       "      <td>6.0</td>\n",
       "      <td>38.0</td>\n",
       "      <td>1.0</td>\n",
       "    </tr>\n",
       "    <tr>\n",
       "      <td>1</td>\n",
       "      <td>18300</td>\n",
       "      <td>2.0</td>\n",
       "      <td>2011</td>\n",
       "      <td>1.0</td>\n",
       "      <td>190</td>\n",
       "      <td>228.0</td>\n",
       "      <td>125000</td>\n",
       "      <td>5</td>\n",
       "      <td>2.0</td>\n",
       "      <td>1.0</td>\n",
       "      <td>2.0</td>\n",
       "    </tr>\n",
       "    <tr>\n",
       "      <td>2</td>\n",
       "      <td>9800</td>\n",
       "      <td>6.0</td>\n",
       "      <td>2004</td>\n",
       "      <td>0.0</td>\n",
       "      <td>163</td>\n",
       "      <td>117.0</td>\n",
       "      <td>125000</td>\n",
       "      <td>8</td>\n",
       "      <td>2.0</td>\n",
       "      <td>14.0</td>\n",
       "      <td>1.0</td>\n",
       "    </tr>\n",
       "    <tr>\n",
       "      <td>3</td>\n",
       "      <td>1500</td>\n",
       "      <td>5.0</td>\n",
       "      <td>2001</td>\n",
       "      <td>1.0</td>\n",
       "      <td>75</td>\n",
       "      <td>116.0</td>\n",
       "      <td>150000</td>\n",
       "      <td>6</td>\n",
       "      <td>6.0</td>\n",
       "      <td>38.0</td>\n",
       "      <td>0.0</td>\n",
       "    </tr>\n",
       "    <tr>\n",
       "      <td>4</td>\n",
       "      <td>3600</td>\n",
       "      <td>5.0</td>\n",
       "      <td>2008</td>\n",
       "      <td>1.0</td>\n",
       "      <td>69</td>\n",
       "      <td>101.0</td>\n",
       "      <td>90000</td>\n",
       "      <td>7</td>\n",
       "      <td>2.0</td>\n",
       "      <td>31.0</td>\n",
       "      <td>0.0</td>\n",
       "    </tr>\n",
       "  </tbody>\n",
       "</table>\n",
       "</div>"
      ],
      "text/plain": [
       "   price  vehicle_type  registration_year  gearbox  power  model  kilometer  \\\n",
       "0    480           7.0               1993      1.0      0  116.0     150000   \n",
       "1  18300           2.0               2011      1.0    190  228.0     125000   \n",
       "2   9800           6.0               2004      0.0    163  117.0     125000   \n",
       "3   1500           5.0               2001      1.0     75  116.0     150000   \n",
       "4   3600           5.0               2008      1.0     69  101.0      90000   \n",
       "\n",
       "   registration_month  fuel_type  brand  not_repaired  \n",
       "0                   0        6.0   38.0           1.0  \n",
       "1                   5        2.0    1.0           2.0  \n",
       "2                   8        2.0   14.0           1.0  \n",
       "3                   6        6.0   38.0           0.0  \n",
       "4                   7        2.0   31.0           0.0  "
      ]
     },
     "execution_count": 24,
     "metadata": {},
     "output_type": "execute_result"
    }
   ],
   "source": [
    "raw_data.head()"
   ]
  },
  {
   "cell_type": "markdown",
   "metadata": {},
   "source": [
    "<a id='Вывод_2'></a>"
   ]
  },
  {
   "cell_type": "markdown",
   "metadata": {},
   "source": [
    "### <p style=\"text-align:center\"> Вывод</p>"
   ]
  },
  {
   "cell_type": "markdown",
   "metadata": {},
   "source": [
    "##### В ходе предобработки данных была проделана следующая работа:\n",
    "\n",
    "___\n",
    "\n",
    "\n",
    "1. В первую очередь <a href='#Удаление бесполезной информации'>удалили</a> несколько ненужных столбцов.\n",
    "\n",
    "\n",
    "2. Затем <a href='#Обработка пропусков'>заполнили</a> пропуски в столбце Tenure, попробовав при этом различные варианты.\n",
    "\n",
    "\n",
    "3. <a href='#Кодирование признаков'>Произвели</a> кодирование признаков, закодировав их отдельно для линейных моделей и деревьев/лесов.\n",
    "\n",
    "\n",
    "4. После этого <a href='#Приведение названий столбцов к нижнему регистру'>привели</a> названия столбцов к snake case.\n",
    "\n",
    "\n",
    "___\n",
    "\n",
    "Таким образом была выполнена предобработка, переходим к непосредственному решению задачи."
   ]
  },
  {
   "cell_type": "markdown",
   "metadata": {},
   "source": [
    " ##  Часть 3. Создание моделей"
   ]
  },
  {
   "cell_type": "markdown",
   "metadata": {},
   "source": [
    "<a id='Разделение датасета на выборки'></a>"
   ]
  },
  {
   "cell_type": "markdown",
   "metadata": {},
   "source": [
    "### <p style=\"text-align:center\"> Разделение датасета на выборки</p>"
   ]
  },
  {
   "cell_type": "code",
   "execution_count": 25,
   "metadata": {},
   "outputs": [],
   "source": [
    "features = raw_data.drop('price', axis=1)\n",
    "target = raw_data['price']"
   ]
  },
  {
   "cell_type": "code",
   "execution_count": 26,
   "metadata": {},
   "outputs": [],
   "source": [
    "features_train, features_test, target_train, target_test = train_test_split(features, target, test_size=0.2, random_state=228)"
   ]
  },
  {
   "cell_type": "markdown",
   "metadata": {},
   "source": [
    "Проверим разбиение."
   ]
  },
  {
   "cell_type": "code",
   "execution_count": 27,
   "metadata": {},
   "outputs": [
    {
     "name": "stdout",
     "output_type": "stream",
     "text": [
      "Признаки обучающей выборки: (283495, 10) Целевой признак обучающей выборки: (283495,) Признаки тестовой выборки: (70874, 10) Целевой признак тестовой выборки: (70874,)\n"
     ]
    }
   ],
   "source": [
    "print('Признаки обучающей выборки:',features_train.shape,\n",
    "      'Целевой признак обучающей выборки:', target_train.shape, \n",
    "      'Признаки тестовой выборки:', features_test.shape,\n",
    "      'Целевой признак тестовой выборки:', target_test.shape)"
   ]
  },
  {
   "cell_type": "markdown",
   "metadata": {},
   "source": [
    "<a id='Масштабирование признаков'></a>"
   ]
  },
  {
   "cell_type": "markdown",
   "metadata": {},
   "source": [
    "### <p style=\"text-align:center\"> Масштабирование признаков </p>"
   ]
  },
  {
   "cell_type": "markdown",
   "metadata": {},
   "source": [
    "Выберем числовые строки для масштабирования."
   ]
  },
  {
   "cell_type": "code",
   "execution_count": 28,
   "metadata": {},
   "outputs": [],
   "source": [
    "numeric = ['registration_year', 'power', 'kilometer', 'registration_month']"
   ]
  },
  {
   "cell_type": "markdown",
   "metadata": {},
   "source": [
    "Проведем масштабирование."
   ]
  },
  {
   "cell_type": "code",
   "execution_count": 29,
   "metadata": {},
   "outputs": [
    {
     "data": {
      "text/plain": [
       "StandardScaler(copy=True, with_mean=True, with_std=True)"
      ]
     },
     "execution_count": 29,
     "metadata": {},
     "output_type": "execute_result"
    }
   ],
   "source": [
    "scaler = StandardScaler()\n",
    "scaler.fit(features_train[numeric])"
   ]
  },
  {
   "cell_type": "code",
   "execution_count": 30,
   "metadata": {},
   "outputs": [],
   "source": [
    "features_train[numeric] = scaler.transform(features_train[numeric])\n",
    "features_test[numeric] = scaler.transform(features_test[numeric])"
   ]
  },
  {
   "cell_type": "markdown",
   "metadata": {},
   "source": [
    "Проверяем."
   ]
  },
  {
   "cell_type": "code",
   "execution_count": 31,
   "metadata": {},
   "outputs": [
    {
     "data": {
      "text/html": [
       "<div>\n",
       "<style scoped>\n",
       "    .dataframe tbody tr th:only-of-type {\n",
       "        vertical-align: middle;\n",
       "    }\n",
       "\n",
       "    .dataframe tbody tr th {\n",
       "        vertical-align: top;\n",
       "    }\n",
       "\n",
       "    .dataframe thead th {\n",
       "        text-align: right;\n",
       "    }\n",
       "</style>\n",
       "<table border=\"1\" class=\"dataframe\">\n",
       "  <thead>\n",
       "    <tr style=\"text-align: right;\">\n",
       "      <th></th>\n",
       "      <th>vehicle_type</th>\n",
       "      <th>registration_year</th>\n",
       "      <th>gearbox</th>\n",
       "      <th>power</th>\n",
       "      <th>model</th>\n",
       "      <th>kilometer</th>\n",
       "      <th>registration_month</th>\n",
       "      <th>fuel_type</th>\n",
       "      <th>brand</th>\n",
       "      <th>not_repaired</th>\n",
       "    </tr>\n",
       "  </thead>\n",
       "  <tbody>\n",
       "    <tr>\n",
       "      <td>197914</td>\n",
       "      <td>1.0</td>\n",
       "      <td>-0.259134</td>\n",
       "      <td>1.0</td>\n",
       "      <td>-0.208898</td>\n",
       "      <td>228.0</td>\n",
       "      <td>-1.010518</td>\n",
       "      <td>-1.265711</td>\n",
       "      <td>6.0</td>\n",
       "      <td>33.0</td>\n",
       "      <td>0.0</td>\n",
       "    </tr>\n",
       "    <tr>\n",
       "      <td>195416</td>\n",
       "      <td>1.0</td>\n",
       "      <td>-0.013352</td>\n",
       "      <td>0.0</td>\n",
       "      <td>0.464413</td>\n",
       "      <td>76.0</td>\n",
       "      <td>0.574601</td>\n",
       "      <td>-1.534027</td>\n",
       "      <td>6.0</td>\n",
       "      <td>20.0</td>\n",
       "      <td>1.0</td>\n",
       "    </tr>\n",
       "    <tr>\n",
       "      <td>92853</td>\n",
       "      <td>5.0</td>\n",
       "      <td>0.008992</td>\n",
       "      <td>1.0</td>\n",
       "      <td>-0.240961</td>\n",
       "      <td>172.0</td>\n",
       "      <td>0.574601</td>\n",
       "      <td>0.075868</td>\n",
       "      <td>6.0</td>\n",
       "      <td>15.0</td>\n",
       "      <td>0.0</td>\n",
       "    </tr>\n",
       "    <tr>\n",
       "      <td>223806</td>\n",
       "      <td>4.0</td>\n",
       "      <td>-0.035696</td>\n",
       "      <td>1.0</td>\n",
       "      <td>0.079664</td>\n",
       "      <td>42.0</td>\n",
       "      <td>0.574601</td>\n",
       "      <td>0.344184</td>\n",
       "      <td>6.0</td>\n",
       "      <td>24.0</td>\n",
       "      <td>0.0</td>\n",
       "    </tr>\n",
       "    <tr>\n",
       "      <td>241468</td>\n",
       "      <td>5.0</td>\n",
       "      <td>0.053679</td>\n",
       "      <td>1.0</td>\n",
       "      <td>-0.150117</td>\n",
       "      <td>102.0</td>\n",
       "      <td>0.574601</td>\n",
       "      <td>0.075868</td>\n",
       "      <td>6.0</td>\n",
       "      <td>10.0</td>\n",
       "      <td>2.0</td>\n",
       "    </tr>\n",
       "  </tbody>\n",
       "</table>\n",
       "</div>"
      ],
      "text/plain": [
       "        vehicle_type  registration_year  gearbox     power  model  kilometer  \\\n",
       "197914           1.0          -0.259134      1.0 -0.208898  228.0  -1.010518   \n",
       "195416           1.0          -0.013352      0.0  0.464413   76.0   0.574601   \n",
       "92853            5.0           0.008992      1.0 -0.240961  172.0   0.574601   \n",
       "223806           4.0          -0.035696      1.0  0.079664   42.0   0.574601   \n",
       "241468           5.0           0.053679      1.0 -0.150117  102.0   0.574601   \n",
       "\n",
       "        registration_month  fuel_type  brand  not_repaired  \n",
       "197914           -1.265711        6.0   33.0           0.0  \n",
       "195416           -1.534027        6.0   20.0           1.0  \n",
       "92853             0.075868        6.0   15.0           0.0  \n",
       "223806            0.344184        6.0   24.0           0.0  \n",
       "241468            0.075868        6.0   10.0           2.0  "
      ]
     },
     "execution_count": 31,
     "metadata": {},
     "output_type": "execute_result"
    }
   ],
   "source": [
    "features_train.head()"
   ]
  },
  {
   "cell_type": "code",
   "execution_count": 32,
   "metadata": {},
   "outputs": [
    {
     "data": {
      "text/html": [
       "<div>\n",
       "<style scoped>\n",
       "    .dataframe tbody tr th:only-of-type {\n",
       "        vertical-align: middle;\n",
       "    }\n",
       "\n",
       "    .dataframe tbody tr th {\n",
       "        vertical-align: top;\n",
       "    }\n",
       "\n",
       "    .dataframe thead th {\n",
       "        text-align: right;\n",
       "    }\n",
       "</style>\n",
       "<table border=\"1\" class=\"dataframe\">\n",
       "  <thead>\n",
       "    <tr style=\"text-align: right;\">\n",
       "      <th></th>\n",
       "      <th>vehicle_type</th>\n",
       "      <th>registration_year</th>\n",
       "      <th>gearbox</th>\n",
       "      <th>power</th>\n",
       "      <th>model</th>\n",
       "      <th>kilometer</th>\n",
       "      <th>registration_month</th>\n",
       "      <th>fuel_type</th>\n",
       "      <th>brand</th>\n",
       "      <th>not_repaired</th>\n",
       "    </tr>\n",
       "  </thead>\n",
       "  <tbody>\n",
       "    <tr>\n",
       "      <td>299676</td>\n",
       "      <td>7.0</td>\n",
       "      <td>-0.046868</td>\n",
       "      <td>2.0</td>\n",
       "      <td>-0.588304</td>\n",
       "      <td>228.0</td>\n",
       "      <td>0.574601</td>\n",
       "      <td>-1.534027</td>\n",
       "      <td>6.0</td>\n",
       "      <td>11.0</td>\n",
       "      <td>1.0</td>\n",
       "    </tr>\n",
       "    <tr>\n",
       "      <td>62485</td>\n",
       "      <td>5.0</td>\n",
       "      <td>0.008992</td>\n",
       "      <td>1.0</td>\n",
       "      <td>-0.240961</td>\n",
       "      <td>246.0</td>\n",
       "      <td>-1.803077</td>\n",
       "      <td>0.075868</td>\n",
       "      <td>6.0</td>\n",
       "      <td>36.0</td>\n",
       "      <td>1.0</td>\n",
       "    </tr>\n",
       "    <tr>\n",
       "      <td>333720</td>\n",
       "      <td>8.0</td>\n",
       "      <td>0.008992</td>\n",
       "      <td>1.0</td>\n",
       "      <td>0.159820</td>\n",
       "      <td>29.0</td>\n",
       "      <td>0.574601</td>\n",
       "      <td>0.880815</td>\n",
       "      <td>2.0</td>\n",
       "      <td>1.0</td>\n",
       "      <td>0.0</td>\n",
       "    </tr>\n",
       "    <tr>\n",
       "      <td>334174</td>\n",
       "      <td>2.0</td>\n",
       "      <td>-0.270306</td>\n",
       "      <td>0.0</td>\n",
       "      <td>0.576632</td>\n",
       "      <td>18.0</td>\n",
       "      <td>0.574601</td>\n",
       "      <td>-0.460764</td>\n",
       "      <td>7.0</td>\n",
       "      <td>2.0</td>\n",
       "      <td>0.0</td>\n",
       "    </tr>\n",
       "    <tr>\n",
       "      <td>232847</td>\n",
       "      <td>5.0</td>\n",
       "      <td>0.053679</td>\n",
       "      <td>1.0</td>\n",
       "      <td>-0.219586</td>\n",
       "      <td>128.0</td>\n",
       "      <td>-0.085865</td>\n",
       "      <td>-0.192448</td>\n",
       "      <td>6.0</td>\n",
       "      <td>10.0</td>\n",
       "      <td>0.0</td>\n",
       "    </tr>\n",
       "  </tbody>\n",
       "</table>\n",
       "</div>"
      ],
      "text/plain": [
       "        vehicle_type  registration_year  gearbox     power  model  kilometer  \\\n",
       "299676           7.0          -0.046868      2.0 -0.588304  228.0   0.574601   \n",
       "62485            5.0           0.008992      1.0 -0.240961  246.0  -1.803077   \n",
       "333720           8.0           0.008992      1.0  0.159820   29.0   0.574601   \n",
       "334174           2.0          -0.270306      0.0  0.576632   18.0   0.574601   \n",
       "232847           5.0           0.053679      1.0 -0.219586  128.0  -0.085865   \n",
       "\n",
       "        registration_month  fuel_type  brand  not_repaired  \n",
       "299676           -1.534027        6.0   11.0           1.0  \n",
       "62485             0.075868        6.0   36.0           1.0  \n",
       "333720            0.880815        2.0    1.0           0.0  \n",
       "334174           -0.460764        7.0    2.0           0.0  \n",
       "232847           -0.192448        6.0   10.0           0.0  "
      ]
     },
     "execution_count": 32,
     "metadata": {},
     "output_type": "execute_result"
    }
   ],
   "source": [
    "features_test.head()"
   ]
  },
  {
   "cell_type": "markdown",
   "metadata": {},
   "source": [
    "Масштабирование признаков прошло нормально, однако следует понимать, что это тоже гиперпараметр, и мы можем отказаться от этого шага, если посчитаем это необходимым."
   ]
  },
  {
   "cell_type": "markdown",
   "metadata": {},
   "source": [
    "<a id='Создание модели случайного леса'></a>"
   ]
  },
  {
   "cell_type": "markdown",
   "metadata": {},
   "source": [
    "### <p style=\"text-align:center\"> Создание модели случайного леса</p>"
   ]
  },
  {
   "cell_type": "code",
   "execution_count": 33,
   "metadata": {},
   "outputs": [],
   "source": [
    "def get_rmse(true, predict):\n",
    "    return np.sqrt(mean_squared_error(true, predict))"
   ]
  },
  {
   "cell_type": "markdown",
   "metadata": {},
   "source": [
    "Создадим модель случайного леса."
   ]
  },
  {
   "cell_type": "code",
   "execution_count": 34,
   "metadata": {},
   "outputs": [],
   "source": [
    "forest_model = RandomForestRegressor(n_estimators = 50, max_depth = 3)"
   ]
  },
  {
   "cell_type": "code",
   "execution_count": 35,
   "metadata": {},
   "outputs": [
    {
     "name": "stdout",
     "output_type": "stream",
     "text": [
      "Time spent: 40.72 sec\n"
     ]
    }
   ],
   "source": [
    "start = timeit.default_timer()\n",
    "forest_result = get_rmse(target_test, forest_model.fit(features_train, target_train).predict(features_test))\n",
    "stop = timeit.default_timer()\n",
    "forest_time = stop - start\n",
    "print(f'Time spent: {forest_time:.2f} sec')"
   ]
  },
  {
   "cell_type": "code",
   "execution_count": 36,
   "metadata": {},
   "outputs": [
    {
     "name": "stdout",
     "output_type": "stream",
     "text": [
      "Средняя ошибка модели - 2951.\n"
     ]
    }
   ],
   "source": [
    "print(f'Средняя ошибка модели - {forest_result:.0f}.')"
   ]
  },
  {
   "cell_type": "markdown",
   "metadata": {},
   "source": [
    "Обычно случайный лес показывает себя достаточно неплохо, имеет неплохую точность и достаточно быстра, посмотрим как будет в этой задаче. У этой модели есть несколько гиперпараметров и, соответственно, место для ее улучшения."
   ]
  },
  {
   "cell_type": "markdown",
   "metadata": {},
   "source": [
    "<a id='Создание линейной модели'></a>"
   ]
  },
  {
   "cell_type": "markdown",
   "metadata": {},
   "source": [
    "### <p style=\"text-align:center\"> Создание линейной модели</p>"
   ]
  },
  {
   "cell_type": "code",
   "execution_count": 37,
   "metadata": {},
   "outputs": [],
   "source": [
    "linear_model = LinearRegression()"
   ]
  },
  {
   "cell_type": "code",
   "execution_count": 38,
   "metadata": {},
   "outputs": [
    {
     "name": "stdout",
     "output_type": "stream",
     "text": [
      "Time spent: 0.40 sec\n"
     ]
    }
   ],
   "source": [
    "start = timeit.default_timer()\n",
    "linear_result = get_rmse(target_test, linear_model.fit(features_train, target_train).predict(features_test))\n",
    "stop = timeit.default_timer()\n",
    "linear_time = stop - start\n",
    "print(f'Time spent: {linear_time:.2f} sec')"
   ]
  },
  {
   "cell_type": "code",
   "execution_count": 39,
   "metadata": {},
   "outputs": [
    {
     "name": "stdout",
     "output_type": "stream",
     "text": [
      "Средняя ошибка модели - 3650.\n"
     ]
    }
   ],
   "source": [
    "print(f'Средняя ошибка модели - {linear_result:.0f}.')"
   ]
  },
  {
   "cell_type": "markdown",
   "metadata": {},
   "source": [
    "Линейные модели обычно не супер точные, но зато чрезвычайно быстрые, что мы и видим. У модели практически нет гиперпараметров, поэтому улучшить ее не получится."
   ]
  },
  {
   "cell_type": "markdown",
   "metadata": {},
   "source": [
    "<a id='Создание легкой машины градиентного бустинга'></a>"
   ]
  },
  {
   "cell_type": "markdown",
   "metadata": {},
   "source": [
    "### <p style=\"text-align:center\"> Создание легкой машины градиентного бустинга</p>"
   ]
  },
  {
   "cell_type": "code",
   "execution_count": 40,
   "metadata": {},
   "outputs": [],
   "source": [
    "lgbm_model = lgb.LGBMRegressor(task='train', learning_rate=0.5, verbose=200)"
   ]
  },
  {
   "cell_type": "code",
   "execution_count": 41,
   "metadata": {},
   "outputs": [
    {
     "name": "stdout",
     "output_type": "stream",
     "text": [
      "[1]\tvalid_0's rmse: 3130.92\tvalid_0's l2: 9.80266e+06\n",
      "[2]\tvalid_0's rmse: 2588.06\tvalid_0's l2: 6.69803e+06\n",
      "[3]\tvalid_0's rmse: 2335.79\tvalid_0's l2: 5.45591e+06\n",
      "[4]\tvalid_0's rmse: 2212.07\tvalid_0's l2: 4.89327e+06\n",
      "[5]\tvalid_0's rmse: 2144.18\tvalid_0's l2: 4.59749e+06\n",
      "[6]\tvalid_0's rmse: 2100.57\tvalid_0's l2: 4.41241e+06\n",
      "[7]\tvalid_0's rmse: 2055.22\tvalid_0's l2: 4.22392e+06\n",
      "[8]\tvalid_0's rmse: 2027.32\tvalid_0's l2: 4.11003e+06\n",
      "[9]\tvalid_0's rmse: 2011.97\tvalid_0's l2: 4.04802e+06\n",
      "[10]\tvalid_0's rmse: 1997.59\tvalid_0's l2: 3.99037e+06\n",
      "[11]\tvalid_0's rmse: 1982.75\tvalid_0's l2: 3.9313e+06\n",
      "[12]\tvalid_0's rmse: 1968.88\tvalid_0's l2: 3.87647e+06\n",
      "[13]\tvalid_0's rmse: 1958.75\tvalid_0's l2: 3.8367e+06\n",
      "[14]\tvalid_0's rmse: 1950.12\tvalid_0's l2: 3.80299e+06\n",
      "[15]\tvalid_0's rmse: 1944.58\tvalid_0's l2: 3.78138e+06\n",
      "[16]\tvalid_0's rmse: 1936.74\tvalid_0's l2: 3.75097e+06\n",
      "[17]\tvalid_0's rmse: 1930.3\tvalid_0's l2: 3.72605e+06\n",
      "[18]\tvalid_0's rmse: 1925.42\tvalid_0's l2: 3.70723e+06\n",
      "[19]\tvalid_0's rmse: 1922.94\tvalid_0's l2: 3.6977e+06\n",
      "[20]\tvalid_0's rmse: 1918.81\tvalid_0's l2: 3.68182e+06\n",
      "[21]\tvalid_0's rmse: 1915.8\tvalid_0's l2: 3.6703e+06\n",
      "[22]\tvalid_0's rmse: 1913.24\tvalid_0's l2: 3.6605e+06\n",
      "[23]\tvalid_0's rmse: 1911.18\tvalid_0's l2: 3.65259e+06\n",
      "[24]\tvalid_0's rmse: 1906.57\tvalid_0's l2: 3.635e+06\n",
      "[25]\tvalid_0's rmse: 1900.92\tvalid_0's l2: 3.61349e+06\n",
      "[26]\tvalid_0's rmse: 1895.46\tvalid_0's l2: 3.59277e+06\n",
      "[27]\tvalid_0's rmse: 1891.4\tvalid_0's l2: 3.57739e+06\n",
      "[28]\tvalid_0's rmse: 1887.34\tvalid_0's l2: 3.56204e+06\n",
      "[29]\tvalid_0's rmse: 1885.39\tvalid_0's l2: 3.55468e+06\n",
      "[30]\tvalid_0's rmse: 1881.25\tvalid_0's l2: 3.53911e+06\n",
      "[31]\tvalid_0's rmse: 1879.45\tvalid_0's l2: 3.53232e+06\n",
      "[32]\tvalid_0's rmse: 1876.81\tvalid_0's l2: 3.52243e+06\n",
      "[33]\tvalid_0's rmse: 1876.09\tvalid_0's l2: 3.51972e+06\n",
      "[34]\tvalid_0's rmse: 1873.96\tvalid_0's l2: 3.51173e+06\n",
      "[35]\tvalid_0's rmse: 1871.32\tvalid_0's l2: 3.50184e+06\n",
      "[36]\tvalid_0's rmse: 1869.8\tvalid_0's l2: 3.49615e+06\n",
      "[37]\tvalid_0's rmse: 1867.56\tvalid_0's l2: 3.48779e+06\n",
      "[38]\tvalid_0's rmse: 1862.76\tvalid_0's l2: 3.46986e+06\n",
      "[39]\tvalid_0's rmse: 1860.2\tvalid_0's l2: 3.46035e+06\n",
      "[40]\tvalid_0's rmse: 1858.33\tvalid_0's l2: 3.45338e+06\n",
      "[41]\tvalid_0's rmse: 1855.27\tvalid_0's l2: 3.44204e+06\n",
      "[42]\tvalid_0's rmse: 1854.26\tvalid_0's l2: 3.43829e+06\n",
      "[43]\tvalid_0's rmse: 1852.95\tvalid_0's l2: 3.43344e+06\n",
      "[44]\tvalid_0's rmse: 1851.22\tvalid_0's l2: 3.42702e+06\n",
      "[45]\tvalid_0's rmse: 1849.83\tvalid_0's l2: 3.42189e+06\n",
      "[46]\tvalid_0's rmse: 1848.25\tvalid_0's l2: 3.41604e+06\n",
      "[47]\tvalid_0's rmse: 1846.56\tvalid_0's l2: 3.40978e+06\n",
      "[48]\tvalid_0's rmse: 1844.37\tvalid_0's l2: 3.40169e+06\n",
      "[49]\tvalid_0's rmse: 1841.63\tvalid_0's l2: 3.3916e+06\n",
      "[50]\tvalid_0's rmse: 1839.95\tvalid_0's l2: 3.3854e+06\n",
      "[51]\tvalid_0's rmse: 1837.25\tvalid_0's l2: 3.37549e+06\n",
      "[52]\tvalid_0's rmse: 1835.87\tvalid_0's l2: 3.37043e+06\n",
      "[53]\tvalid_0's rmse: 1834.65\tvalid_0's l2: 3.36593e+06\n",
      "[54]\tvalid_0's rmse: 1832.7\tvalid_0's l2: 3.3588e+06\n",
      "[55]\tvalid_0's rmse: 1830.57\tvalid_0's l2: 3.35099e+06\n",
      "[56]\tvalid_0's rmse: 1830.17\tvalid_0's l2: 3.34951e+06\n",
      "[57]\tvalid_0's rmse: 1830.12\tvalid_0's l2: 3.34934e+06\n",
      "[58]\tvalid_0's rmse: 1828.62\tvalid_0's l2: 3.34384e+06\n",
      "[59]\tvalid_0's rmse: 1827.11\tvalid_0's l2: 3.33833e+06\n",
      "[60]\tvalid_0's rmse: 1826.36\tvalid_0's l2: 3.3356e+06\n",
      "[61]\tvalid_0's rmse: 1825.13\tvalid_0's l2: 3.3311e+06\n",
      "[62]\tvalid_0's rmse: 1824.56\tvalid_0's l2: 3.32903e+06\n",
      "[63]\tvalid_0's rmse: 1822.5\tvalid_0's l2: 3.32149e+06\n",
      "[64]\tvalid_0's rmse: 1820.9\tvalid_0's l2: 3.31566e+06\n",
      "[65]\tvalid_0's rmse: 1819.98\tvalid_0's l2: 3.31232e+06\n",
      "[66]\tvalid_0's rmse: 1820.01\tvalid_0's l2: 3.31245e+06\n",
      "[67]\tvalid_0's rmse: 1818.94\tvalid_0's l2: 3.30853e+06\n",
      "[68]\tvalid_0's rmse: 1816.97\tvalid_0's l2: 3.30136e+06\n",
      "[69]\tvalid_0's rmse: 1814.69\tvalid_0's l2: 3.29311e+06\n",
      "[70]\tvalid_0's rmse: 1813.79\tvalid_0's l2: 3.28982e+06\n",
      "[71]\tvalid_0's rmse: 1812.28\tvalid_0's l2: 3.28438e+06\n",
      "[72]\tvalid_0's rmse: 1811.2\tvalid_0's l2: 3.28044e+06\n",
      "[73]\tvalid_0's rmse: 1810.58\tvalid_0's l2: 3.27821e+06\n",
      "[74]\tvalid_0's rmse: 1810.49\tvalid_0's l2: 3.27786e+06\n",
      "[75]\tvalid_0's rmse: 1810.44\tvalid_0's l2: 3.2777e+06\n",
      "[76]\tvalid_0's rmse: 1809.41\tvalid_0's l2: 3.27397e+06\n",
      "[77]\tvalid_0's rmse: 1808.37\tvalid_0's l2: 3.2702e+06\n",
      "[78]\tvalid_0's rmse: 1807.51\tvalid_0's l2: 3.26711e+06\n",
      "[79]\tvalid_0's rmse: 1807.02\tvalid_0's l2: 3.26533e+06\n",
      "[80]\tvalid_0's rmse: 1806.25\tvalid_0's l2: 3.26253e+06\n",
      "[81]\tvalid_0's rmse: 1804.72\tvalid_0's l2: 3.25703e+06\n",
      "[82]\tvalid_0's rmse: 1803.51\tvalid_0's l2: 3.25263e+06\n",
      "[83]\tvalid_0's rmse: 1801.96\tvalid_0's l2: 3.24706e+06\n",
      "[84]\tvalid_0's rmse: 1801.58\tvalid_0's l2: 3.2457e+06\n",
      "[85]\tvalid_0's rmse: 1800.53\tvalid_0's l2: 3.2419e+06\n",
      "[86]\tvalid_0's rmse: 1799.16\tvalid_0's l2: 3.23698e+06\n",
      "[87]\tvalid_0's rmse: 1797.79\tvalid_0's l2: 3.23206e+06\n",
      "[88]\tvalid_0's rmse: 1796.55\tvalid_0's l2: 3.2276e+06\n",
      "[89]\tvalid_0's rmse: 1795.43\tvalid_0's l2: 3.22359e+06\n",
      "[90]\tvalid_0's rmse: 1794.37\tvalid_0's l2: 3.21975e+06\n",
      "[91]\tvalid_0's rmse: 1794.25\tvalid_0's l2: 3.21932e+06\n",
      "[92]\tvalid_0's rmse: 1793.66\tvalid_0's l2: 3.21723e+06\n",
      "[93]\tvalid_0's rmse: 1792.73\tvalid_0's l2: 3.21386e+06\n",
      "[94]\tvalid_0's rmse: 1792.74\tvalid_0's l2: 3.21392e+06\n",
      "[95]\tvalid_0's rmse: 1792.8\tvalid_0's l2: 3.21415e+06\n",
      "[96]\tvalid_0's rmse: 1792.68\tvalid_0's l2: 3.21369e+06\n",
      "[97]\tvalid_0's rmse: 1793\tvalid_0's l2: 3.21484e+06\n",
      "[98]\tvalid_0's rmse: 1792.64\tvalid_0's l2: 3.21356e+06\n",
      "[99]\tvalid_0's rmse: 1791.55\tvalid_0's l2: 3.20964e+06\n",
      "[100]\tvalid_0's rmse: 1791.43\tvalid_0's l2: 3.20922e+06\n",
      "Time spent: 324.51 sec\n"
     ]
    }
   ],
   "source": [
    "start = timeit.default_timer()\n",
    "lgbm_model.fit(features_train, target_train, eval_set=[(features_test, target_test)], eval_metric='rmse')\n",
    "lgbm_prediction = lgbm_model.predict(features_test,num_iteration = lgbm_model.best_iteration_)\n",
    "lgbm_result = get_rmse(target_test, lgbm_prediction)\n",
    "stop = timeit.default_timer()\n",
    "lgbm_time = stop - start\n",
    "print(f'Time spent: {lgbm_time:.2f} sec')"
   ]
  },
  {
   "cell_type": "code",
   "execution_count": 42,
   "metadata": {},
   "outputs": [
    {
     "name": "stdout",
     "output_type": "stream",
     "text": [
      "Средняя ошибка модели - 1791.\n"
     ]
    }
   ],
   "source": [
    "print(f'Средняя ошибка модели - {lgbm_result:.0f}.')"
   ]
  },
  {
   "cell_type": "markdown",
   "metadata": {},
   "source": [
    "LightGBM - сложная модель постепенного улучшения метрики на каждой итерации, имеет много гиперпараметров, соответственно, долго обучается и способна выдавать наиболее точные результаты. Однако за все надо платить, и минус у этой модели - скорость."
   ]
  },
  {
   "cell_type": "markdown",
   "metadata": {},
   "source": [
    " ## Часть 4. Анализ моделей"
   ]
  },
  {
   "cell_type": "markdown",
   "metadata": {},
   "source": [
    "<a id='Часть 4. Анализ моделей'></a>"
   ]
  },
  {
   "cell_type": "markdown",
   "metadata": {},
   "source": [
    "На основании полученных данных можно сделать следующие выводы:\n",
    "\n",
    "\n",
    "Лучший результат у LightGBM - 1792 на тестовой выборке со временем обучения около 200 - 400 секунд.\n",
    "Далее идет случайный лес - ошибка около 3000, со скоростью в чуть более 10 секунд.\n",
    "Завершает линейная регрессия - ошибка около 3650, но с самой высокой скоростью - 0.1 - 0.2 сек.\n",
    "\n",
    "Таким образом необходимо выбирать между скоростью и точностью и, в зависимости от поставленной задачи, в первом случае выбирать регрессию, а во втором LightGBM. Случайный лес в данном случае - неплохой компромиссный вариант.\n",
    "\n",
    "Основываясь на том, что наша модель должна онлайн предложить пользователю продукта ориентировочную стоимость его автомобиля (основной критерий - скорость), выбираем линейную модель, как самую быструю.\n",
    "\n",
    "____ \n",
    "\n",
    "\n",
    "Для удобства значения сведены в таблицу ниже."
   ]
  },
  {
   "cell_type": "code",
   "execution_count": 43,
   "metadata": {},
   "outputs": [],
   "source": [
    "data = {'model': ['Random Forest', 'Linear Regression', 'LightGBM'], \n",
    "        'RMSE':[forest_result, linear_result, lgbm_result],\n",
    "        'spent_time':[forest_time, linear_time, lgbm_time], \n",
    "       }\n",
    "summary = pd.DataFrame(data=data).round(3)"
   ]
  },
  {
   "cell_type": "code",
   "execution_count": 44,
   "metadata": {},
   "outputs": [
    {
     "data": {
      "text/html": [
       "<div>\n",
       "<style scoped>\n",
       "    .dataframe tbody tr th:only-of-type {\n",
       "        vertical-align: middle;\n",
       "    }\n",
       "\n",
       "    .dataframe tbody tr th {\n",
       "        vertical-align: top;\n",
       "    }\n",
       "\n",
       "    .dataframe thead th {\n",
       "        text-align: right;\n",
       "    }\n",
       "</style>\n",
       "<table border=\"1\" class=\"dataframe\">\n",
       "  <thead>\n",
       "    <tr style=\"text-align: right;\">\n",
       "      <th></th>\n",
       "      <th>model</th>\n",
       "      <th>RMSE</th>\n",
       "      <th>spent_time</th>\n",
       "    </tr>\n",
       "  </thead>\n",
       "  <tbody>\n",
       "    <tr>\n",
       "      <td>0</td>\n",
       "      <td>Random Forest</td>\n",
       "      <td>2951.286</td>\n",
       "      <td>40.718</td>\n",
       "    </tr>\n",
       "    <tr>\n",
       "      <td>1</td>\n",
       "      <td>Linear Regression</td>\n",
       "      <td>3649.816</td>\n",
       "      <td>0.400</td>\n",
       "    </tr>\n",
       "    <tr>\n",
       "      <td>2</td>\n",
       "      <td>LightGBM</td>\n",
       "      <td>1791.431</td>\n",
       "      <td>324.507</td>\n",
       "    </tr>\n",
       "  </tbody>\n",
       "</table>\n",
       "</div>"
      ],
      "text/plain": [
       "               model      RMSE  spent_time\n",
       "0      Random Forest  2951.286      40.718\n",
       "1  Linear Regression  3649.816       0.400\n",
       "2           LightGBM  1791.431     324.507"
      ]
     },
     "execution_count": 44,
     "metadata": {},
     "output_type": "execute_result"
    }
   ],
   "source": [
    "summary"
   ]
  },
  {
   "cell_type": "code",
   "execution_count": 45,
   "metadata": {
    "scrolled": true
   },
   "outputs": [
    {
     "data": {
      "image/png": "[encoded data removed]",
      "text/plain": [
       "<Figure size 432x288 with 1 Axes>"
      ]
     },
     "metadata": {
      "needs_background": "light"
     },
     "output_type": "display_data"
    }
   ],
   "source": [
    "sns.scatterplot(data=summary, x='RMSE', y='spent_time', hue='model');"
   ]
  }
 ],
 "metadata": {
  "ExecuteTimeLog": [
   {
    "duration": 1576,
    "start_time": "2021-06-09T10:10:50.892Z"
   },
   {
    "duration": 102,
    "start_time": "2021-06-09T10:10:52.470Z"
   },
   {
    "duration": 3,
    "start_time": "2021-06-09T10:10:52.575Z"
   },
   {
    "duration": 1103,
    "start_time": "2021-06-09T10:10:52.581Z"
   },
   {
    "duration": 25,
    "start_time": "2021-06-09T10:10:53.687Z"
   },
   {
    "duration": 38,
    "start_time": "2021-06-09T10:10:53.724Z"
   },
   {
    "duration": 20,
    "start_time": "2021-06-09T10:10:53.765Z"
   },
   {
    "duration": 192,
    "start_time": "2021-06-09T10:10:53.790Z"
   },
   {
    "duration": 140,
    "start_time": "2021-06-09T10:10:53.985Z"
   },
   {
    "duration": 158,
    "start_time": "2021-06-09T10:10:54.128Z"
   },
   {
    "duration": 582,
    "start_time": "2021-06-09T10:10:54.288Z"
   },
   {
    "duration": 31,
    "start_time": "2021-06-09T10:10:54.872Z"
   },
   {
    "duration": 133,
    "start_time": "2021-06-09T10:10:54.906Z"
   },
   {
    "duration": 37,
    "start_time": "2021-06-09T10:10:55.041Z"
   },
   {
    "duration": 26,
    "start_time": "2021-06-09T10:10:55.080Z"
   },
   {
    "duration": 231,
    "start_time": "2021-06-09T10:10:55.124Z"
   },
   {
    "duration": 15,
    "start_time": "2021-06-09T10:10:55.358Z"
   },
   {
    "duration": 24,
    "start_time": "2021-06-09T10:10:55.375Z"
   },
   {
    "duration": 864,
    "start_time": "2021-06-09T10:10:55.402Z"
   },
   {
    "duration": 6,
    "start_time": "2021-06-09T10:10:56.269Z"
   },
   {
    "duration": 18,
    "start_time": "2021-06-09T10:10:56.278Z"
   },
   {
    "duration": 33,
    "start_time": "2021-06-09T10:10:56.298Z"
   },
   {
    "duration": 41,
    "start_time": "2021-06-09T10:10:56.336Z"
   },
   {
    "duration": 82,
    "start_time": "2021-06-09T10:10:56.380Z"
   },
   {
    "duration": 7,
    "start_time": "2021-06-09T10:10:56.464Z"
   },
   {
    "duration": 12,
    "start_time": "2021-06-09T10:10:56.473Z"
   },
   {
    "duration": 53,
    "start_time": "2021-06-09T10:10:56.487Z"
   },
   {
    "duration": 258,
    "start_time": "2021-06-09T10:10:56.542Z"
   },
   {
    "duration": 27,
    "start_time": "2021-06-09T10:10:56.802Z"
   },
   {
    "duration": 27,
    "start_time": "2021-06-09T10:10:56.832Z"
   },
   {
    "duration": 3,
    "start_time": "2021-06-09T10:10:56.862Z"
   },
   {
    "duration": 23,
    "start_time": "2021-06-09T10:10:56.868Z"
   },
   {
    "duration": 11191,
    "start_time": "2021-06-09T10:10:56.893Z"
   },
   {
    "duration": 4,
    "start_time": "2021-06-09T10:11:08.086Z"
   },
   {
    "duration": 8,
    "start_time": "2021-06-09T10:11:08.092Z"
   },
   {
    "duration": 113,
    "start_time": "2021-06-09T10:11:08.124Z"
   },
   {
    "duration": 84,
    "start_time": "2021-06-09T10:11:08.240Z"
   },
   {
    "duration": 6,
    "start_time": "2021-06-09T10:11:08.327Z"
   },
   {
    "duration": 11294,
    "start_time": "2021-06-09T10:11:08.337Z"
   },
   {
    "duration": 4,
    "start_time": "2021-06-09T10:11:19.633Z"
   },
   {
    "duration": 10,
    "start_time": "2021-06-09T10:11:19.639Z"
   },
   {
    "duration": 13,
    "start_time": "2021-06-09T10:11:19.651Z"
   },
   {
    "duration": 494,
    "start_time": "2021-06-09T10:11:19.666Z"
   },
   {
    "duration": 1548,
    "start_time": "2021-06-09T13:14:26.307Z"
   },
   {
    "duration": 101,
    "start_time": "2021-06-09T13:14:27.858Z"
   },
   {
    "duration": 3,
    "start_time": "2021-06-09T13:14:27.962Z"
   },
   {
    "duration": 1114,
    "start_time": "2021-06-09T13:14:27.968Z"
   },
   {
    "duration": 24,
    "start_time": "2021-06-09T13:14:29.085Z"
   },
   {
    "duration": 37,
    "start_time": "2021-06-09T13:14:29.124Z"
   },
   {
    "duration": 20,
    "start_time": "2021-06-09T13:14:29.164Z"
   },
   {
    "duration": 191,
    "start_time": "2021-06-09T13:14:29.188Z"
   },
   {
    "duration": 147,
    "start_time": "2021-06-09T13:14:29.383Z"
   },
   {
    "duration": 172,
    "start_time": "2021-06-09T13:14:29.533Z"
   },
   {
    "duration": 808,
    "start_time": "2021-06-09T13:14:29.708Z"
   },
   {
    "duration": 30,
    "start_time": "2021-06-09T13:14:30.518Z"
   },
   {
    "duration": 116,
    "start_time": "2021-06-09T13:14:30.550Z"
   },
   {
    "duration": 35,
    "start_time": "2021-06-09T13:14:30.668Z"
   },
   {
    "duration": 38,
    "start_time": "2021-06-09T13:14:30.707Z"
   },
   {
    "duration": 295,
    "start_time": "2021-06-09T13:14:30.749Z"
   },
   {
    "duration": 16,
    "start_time": "2021-06-09T13:14:31.047Z"
   },
   {
    "duration": 38,
    "start_time": "2021-06-09T13:14:31.065Z"
   },
   {
    "duration": 1073,
    "start_time": "2021-06-09T13:14:31.105Z"
   },
   {
    "duration": 5,
    "start_time": "2021-06-09T13:14:32.180Z"
   },
   {
    "duration": 21,
    "start_time": "2021-06-09T13:14:32.187Z"
   },
   {
    "duration": 47,
    "start_time": "2021-06-09T13:14:32.212Z"
   },
   {
    "duration": 34,
    "start_time": "2021-06-09T13:14:32.267Z"
   },
   {
    "duration": 75,
    "start_time": "2021-06-09T13:14:32.304Z"
   },
   {
    "duration": 6,
    "start_time": "2021-06-09T13:14:32.381Z"
   },
   {
    "duration": 8,
    "start_time": "2021-06-09T13:14:32.390Z"
   },
   {
    "duration": 69,
    "start_time": "2021-06-09T13:14:32.401Z"
   },
   {
    "duration": 263,
    "start_time": "2021-06-09T13:14:32.473Z"
   },
   {
    "duration": 20,
    "start_time": "2021-06-09T13:14:32.739Z"
   },
   {
    "duration": 36,
    "start_time": "2021-06-09T13:14:32.762Z"
   },
   {
    "duration": 10,
    "start_time": "2021-06-09T13:14:32.801Z"
   },
   {
    "duration": 13,
    "start_time": "2021-06-09T13:14:32.814Z"
   },
   {
    "duration": 10339,
    "start_time": "2021-06-09T13:14:32.830Z"
   },
   {
    "duration": 5,
    "start_time": "2021-06-09T13:14:43.173Z"
   },
   {
    "duration": 4,
    "start_time": "2021-06-09T13:14:43.181Z"
   },
   {
    "duration": 255,
    "start_time": "2021-06-09T13:14:43.187Z"
   },
   {
    "duration": 83,
    "start_time": "2021-06-09T13:14:43.445Z"
   },
   {
    "duration": 11,
    "start_time": "2021-06-09T13:14:43.532Z"
   },
   {
    "duration": 66788,
    "start_time": "2021-06-09T13:14:43.546Z"
   },
   {
    "duration": 4,
    "start_time": "2021-06-09T13:15:50.337Z"
   },
   {
    "duration": 12,
    "start_time": "2021-06-09T13:15:50.344Z"
   },
   {
    "duration": 69,
    "start_time": "2021-06-09T13:15:50.358Z"
   },
   {
    "duration": 446,
    "start_time": "2021-06-09T13:15:50.430Z"
   },
   {
    "duration": 1125,
    "start_time": "2021-06-10T13:44:55.784Z"
   },
   {
    "duration": 74,
    "start_time": "2021-06-10T13:44:56.911Z"
   },
   {
    "duration": 3,
    "start_time": "2021-06-10T13:44:56.987Z"
   },
   {
    "duration": 761,
    "start_time": "2021-06-10T13:44:58.712Z"
   },
   {
    "duration": 18,
    "start_time": "2021-06-10T13:45:01.322Z"
   },
   {
    "duration": 27,
    "start_time": "2021-06-10T13:45:04.444Z"
   },
   {
    "duration": 12,
    "start_time": "2021-06-10T13:45:06.883Z"
   },
   {
    "duration": 117,
    "start_time": "2021-06-10T13:45:07.153Z"
   },
   {
    "duration": 99,
    "start_time": "2021-06-10T13:45:07.609Z"
   },
   {
    "duration": 120,
    "start_time": "2021-06-10T13:45:09.524Z"
   },
   {
    "duration": 115,
    "start_time": "2021-06-10T13:45:18.289Z"
   },
   {
    "duration": 113,
    "start_time": "2021-06-10T13:45:27.641Z"
   },
   {
    "duration": 117,
    "start_time": "2021-06-10T13:45:32.949Z"
   },
   {
    "duration": 114,
    "start_time": "2021-06-10T13:46:12.909Z"
   },
   {
    "duration": 113,
    "start_time": "2021-06-10T13:46:24.360Z"
   },
   {
    "duration": 135,
    "start_time": "2021-06-10T13:46:29.524Z"
   },
   {
    "duration": 112,
    "start_time": "2021-06-10T13:47:03.973Z"
   },
   {
    "duration": 55,
    "start_time": "2021-06-10T13:48:04.268Z"
   },
   {
    "duration": 116,
    "start_time": "2021-06-10T13:48:06.213Z"
   },
   {
    "duration": 57,
    "start_time": "2021-06-10T13:49:50.723Z"
   },
   {
    "duration": 116,
    "start_time": "2021-06-10T13:49:53.808Z"
   },
   {
    "duration": 111,
    "start_time": "2021-06-10T13:50:06.112Z"
   },
   {
    "duration": 64,
    "start_time": "2021-06-10T13:50:30.104Z"
   },
   {
    "duration": 114,
    "start_time": "2021-06-10T13:51:18.454Z"
   },
   {
    "duration": 132,
    "start_time": "2021-06-10T15:55:17.391Z"
   },
   {
    "duration": 432,
    "start_time": "2021-06-10T16:03:51.187Z"
   },
   {
    "duration": 1464,
    "start_time": "2021-06-10T16:03:58.083Z"
   },
   {
    "duration": 98,
    "start_time": "2021-06-10T16:03:59.549Z"
   },
   {
    "duration": 12,
    "start_time": "2021-06-10T16:03:59.650Z"
   },
   {
    "duration": 1147,
    "start_time": "2021-06-10T16:04:00.559Z"
   },
   {
    "duration": 24,
    "start_time": "2021-06-10T16:04:01.709Z"
   },
   {
    "duration": 79,
    "start_time": "2021-06-10T16:04:01.736Z"
   },
   {
    "duration": 20,
    "start_time": "2021-06-10T16:04:01.875Z"
   },
   {
    "duration": 159,
    "start_time": "2021-06-10T16:04:02.018Z"
   },
   {
    "duration": 137,
    "start_time": "2021-06-10T16:04:02.180Z"
   },
   {
    "duration": 155,
    "start_time": "2021-06-10T16:04:02.472Z"
   },
   {
    "duration": 153,
    "start_time": "2021-06-10T16:04:03.311Z"
   },
   {
    "duration": 170,
    "start_time": "2021-06-10T16:04:04.096Z"
   },
   {
    "duration": 1034,
    "start_time": "2021-06-10T16:04:06.732Z"
   },
   {
    "duration": 5,
    "start_time": "2021-06-10T16:07:43.309Z"
   },
   {
    "duration": 4,
    "start_time": "2021-06-10T16:08:16.243Z"
   },
   {
    "duration": 615,
    "start_time": "2021-06-10T16:08:58.843Z"
   },
   {
    "duration": 665,
    "start_time": "2021-06-10T16:09:18.212Z"
   },
   {
    "duration": 625,
    "start_time": "2021-06-10T16:09:28.610Z"
   },
   {
    "duration": 604,
    "start_time": "2021-06-10T16:11:10.139Z"
   },
   {
    "duration": 642,
    "start_time": "2021-06-10T16:11:43.106Z"
   },
   {
    "duration": 131,
    "start_time": "2021-06-10T16:15:47.480Z"
   },
   {
    "duration": 5,
    "start_time": "2021-06-10T16:17:08.357Z"
   },
   {
    "duration": 5,
    "start_time": "2021-06-10T16:18:18.477Z"
   },
   {
    "duration": 5,
    "start_time": "2021-06-10T16:18:45.188Z"
   },
   {
    "duration": 5,
    "start_time": "2021-06-10T16:20:02.015Z"
   },
   {
    "duration": 4,
    "start_time": "2021-06-10T16:20:50.922Z"
   },
   {
    "duration": 378,
    "start_time": "2021-06-10T16:20:51.081Z"
   },
   {
    "duration": 6,
    "start_time": "2021-06-10T16:21:28.521Z"
   },
   {
    "duration": 5,
    "start_time": "2021-06-10T16:21:29.203Z"
   },
   {
    "duration": 21,
    "start_time": "2021-06-10T16:21:29.412Z"
   },
   {
    "duration": 57,
    "start_time": "2021-06-10T16:21:33.515Z"
   },
   {
    "duration": 308,
    "start_time": "2021-06-10T16:21:33.896Z"
   },
   {
    "duration": 7,
    "start_time": "2021-06-10T16:21:39.070Z"
   },
   {
    "duration": 3,
    "start_time": "2021-06-10T16:21:42.596Z"
   },
   {
    "duration": 35,
    "start_time": "2021-06-10T16:21:43.189Z"
   },
   {
    "duration": 256,
    "start_time": "2021-06-10T16:21:43.937Z"
   },
   {
    "duration": 26,
    "start_time": "2021-06-10T16:21:46.201Z"
   },
   {
    "duration": 34,
    "start_time": "2021-06-10T16:21:46.564Z"
   },
   {
    "duration": 6,
    "start_time": "2021-06-10T16:21:55.318Z"
   },
   {
    "duration": 3,
    "start_time": "2021-06-10T16:21:55.539Z"
   },
   {
    "duration": 3,
    "start_time": "2021-06-10T16:21:55.748Z"
   },
   {
    "duration": 1060,
    "start_time": "2021-06-10T16:21:56.250Z"
   },
   {
    "duration": 20,
    "start_time": "2021-06-10T16:21:57.313Z"
   },
   {
    "duration": 40,
    "start_time": "2021-06-10T16:21:58.273Z"
   },
   {
    "duration": 21,
    "start_time": "2021-06-10T16:21:58.859Z"
   },
   {
    "duration": 159,
    "start_time": "2021-06-10T16:21:59.068Z"
   },
   {
    "duration": 110,
    "start_time": "2021-06-10T16:21:59.295Z"
   },
   {
    "duration": 155,
    "start_time": "2021-06-10T16:22:00.064Z"
   },
   {
    "duration": 156,
    "start_time": "2021-06-10T16:22:02.918Z"
   },
   {
    "duration": 154,
    "start_time": "2021-06-10T16:22:04.004Z"
   },
   {
    "duration": 617,
    "start_time": "2021-06-10T16:22:04.745Z"
   },
   {
    "duration": 31,
    "start_time": "2021-06-10T16:22:08.754Z"
   },
   {
    "duration": 95,
    "start_time": "2021-06-10T16:22:10.542Z"
   },
   {
    "duration": 29,
    "start_time": "2021-06-10T16:22:11.961Z"
   },
   {
    "duration": 17,
    "start_time": "2021-06-10T16:22:12.528Z"
   },
   {
    "duration": 244,
    "start_time": "2021-06-10T16:22:13.482Z"
   },
   {
    "duration": 16,
    "start_time": "2021-06-10T16:22:14.373Z"
   },
   {
    "duration": 4,
    "start_time": "2021-06-10T16:22:15.729Z"
   },
   {
    "duration": 830,
    "start_time": "2021-06-10T16:22:15.953Z"
   },
   {
    "duration": 5,
    "start_time": "2021-06-10T16:22:18.374Z"
   },
   {
    "duration": 4,
    "start_time": "2021-06-10T16:22:19.305Z"
   },
   {
    "duration": 18,
    "start_time": "2021-06-10T16:22:19.556Z"
   },
   {
    "duration": 41,
    "start_time": "2021-06-10T16:22:22.040Z"
   },
   {
    "duration": 66,
    "start_time": "2021-06-10T16:22:22.272Z"
   },
   {
    "duration": 7,
    "start_time": "2021-06-10T16:22:23.403Z"
   },
   {
    "duration": 3,
    "start_time": "2021-06-10T16:22:24.924Z"
   },
   {
    "duration": 32,
    "start_time": "2021-06-10T16:22:25.376Z"
   },
   {
    "duration": 268,
    "start_time": "2021-06-10T16:22:25.624Z"
   },
   {
    "duration": 19,
    "start_time": "2021-06-10T16:22:26.717Z"
   },
   {
    "duration": 22,
    "start_time": "2021-06-10T16:22:27.725Z"
   },
   {
    "duration": 128,
    "start_time": "2021-06-10T16:26:56.622Z"
   },
   {
    "duration": 4,
    "start_time": "2021-06-10T17:02:08.160Z"
   },
   {
    "duration": 3,
    "start_time": "2021-06-10T17:02:10.837Z"
   },
   {
    "duration": 10122,
    "start_time": "2021-06-10T17:02:10.843Z"
   },
   {
    "duration": 5,
    "start_time": "2021-06-10T17:02:20.969Z"
   },
   {
    "duration": 10,
    "start_time": "2021-06-10T17:02:20.976Z"
   },
   {
    "duration": 213,
    "start_time": "2021-06-10T17:02:24.664Z"
   },
   {
    "duration": 5,
    "start_time": "2021-06-10T17:02:25.238Z"
   },
   {
    "duration": 4,
    "start_time": "2021-06-10T17:02:46.693Z"
   },
   {
    "duration": 5,
    "start_time": "2021-06-10T17:03:04.255Z"
   },
   {
    "duration": 4,
    "start_time": "2021-06-10T17:03:12.011Z"
   },
   {
    "duration": 5,
    "start_time": "2021-06-10T17:03:19.197Z"
   },
   {
    "duration": 6,
    "start_time": "2021-06-10T17:03:33.439Z"
   },
   {
    "duration": 5,
    "start_time": "2021-06-10T17:03:43.750Z"
   },
   {
    "duration": 373470,
    "start_time": "2021-06-10T17:03:47.341Z"
   },
   {
    "duration": 26,
    "start_time": "2021-06-10T17:10:00.863Z"
   },
   {
    "duration": 1872,
    "start_time": "2021-06-10T17:10:00.891Z"
   },
   {
    "duration": 5,
    "start_time": "2021-06-10T17:10:57.812Z"
   },
   {
    "duration": 11,
    "start_time": "2021-06-10T17:11:06.564Z"
   },
   {
    "duration": 14,
    "start_time": "2021-06-10T17:11:06.937Z"
   },
   {
    "duration": 511,
    "start_time": "2021-06-10T17:11:10.432Z"
   },
   {
    "duration": 5,
    "start_time": "2021-06-10T17:11:41.431Z"
   },
   {
    "duration": 1535,
    "start_time": "2021-06-10T17:15:37.020Z"
   },
   {
    "duration": 105,
    "start_time": "2021-06-10T17:15:38.557Z"
   },
   {
    "duration": 5,
    "start_time": "2021-06-10T17:15:38.665Z"
   },
   {
    "duration": 1184,
    "start_time": "2021-06-10T17:15:38.673Z"
   },
   {
    "duration": 28,
    "start_time": "2021-06-10T17:15:39.860Z"
   },
   {
    "duration": 51,
    "start_time": "2021-06-10T17:15:39.890Z"
   },
   {
    "duration": 34,
    "start_time": "2021-06-10T17:15:39.943Z"
   },
   {
    "duration": 201,
    "start_time": "2021-06-10T17:15:39.981Z"
   },
   {
    "duration": 149,
    "start_time": "2021-06-10T17:15:40.188Z"
   },
   {
    "duration": 178,
    "start_time": "2021-06-10T17:15:40.341Z"
   },
   {
    "duration": 170,
    "start_time": "2021-06-10T17:15:40.522Z"
   },
   {
    "duration": 188,
    "start_time": "2021-06-10T17:15:40.695Z"
   },
   {
    "duration": 642,
    "start_time": "2021-06-10T17:15:40.886Z"
   },
   {
    "duration": 39,
    "start_time": "2021-06-10T17:15:41.530Z"
   },
   {
    "duration": 115,
    "start_time": "2021-06-10T17:15:41.571Z"
   },
   {
    "duration": 42,
    "start_time": "2021-06-10T17:15:41.689Z"
   },
   {
    "duration": 45,
    "start_time": "2021-06-10T17:15:41.734Z"
   },
   {
    "duration": 238,
    "start_time": "2021-06-10T17:15:41.781Z"
   },
   {
    "duration": 16,
    "start_time": "2021-06-10T17:15:42.022Z"
   },
   {
    "duration": 21,
    "start_time": "2021-06-10T17:15:42.041Z"
   },
   {
    "duration": 844,
    "start_time": "2021-06-10T17:15:42.065Z"
   },
   {
    "duration": 6,
    "start_time": "2021-06-10T17:15:42.912Z"
   },
   {
    "duration": 7,
    "start_time": "2021-06-10T17:15:42.921Z"
   },
   {
    "duration": 44,
    "start_time": "2021-06-10T17:15:42.931Z"
   },
   {
    "duration": 32,
    "start_time": "2021-06-10T17:15:42.978Z"
   },
   {
    "duration": 109,
    "start_time": "2021-06-10T17:15:43.012Z"
   },
   {
    "duration": 6,
    "start_time": "2021-06-10T17:15:43.127Z"
   },
   {
    "duration": 26,
    "start_time": "2021-06-10T17:15:43.136Z"
   },
   {
    "duration": 46,
    "start_time": "2021-06-10T17:15:43.165Z"
   },
   {
    "duration": 282,
    "start_time": "2021-06-10T17:15:43.213Z"
   },
   {
    "duration": 21,
    "start_time": "2021-06-10T17:15:43.498Z"
   },
   {
    "duration": 46,
    "start_time": "2021-06-10T17:15:43.522Z"
   },
   {
    "duration": 5,
    "start_time": "2021-06-10T17:15:43.571Z"
   },
   {
    "duration": 10,
    "start_time": "2021-06-10T17:15:43.579Z"
   },
   {
    "duration": 10684,
    "start_time": "2021-06-10T17:15:43.592Z"
   },
   {
    "duration": 5,
    "start_time": "2021-06-10T17:15:54.279Z"
   },
   {
    "duration": 14,
    "start_time": "2021-06-10T17:15:54.286Z"
   },
   {
    "duration": 260,
    "start_time": "2021-06-10T17:15:54.303Z"
   },
   {
    "duration": 4,
    "start_time": "2021-06-10T17:15:54.566Z"
   },
   {
    "duration": 7,
    "start_time": "2021-06-10T17:15:54.572Z"
   },
   {
    "duration": 218386,
    "start_time": "2021-06-10T17:15:54.581Z"
   },
   {
    "duration": 6,
    "start_time": "2021-06-10T17:19:32.971Z"
   },
   {
    "duration": 9,
    "start_time": "2021-06-10T17:19:32.982Z"
   },
   {
    "duration": 14,
    "start_time": "2021-06-10T17:19:32.994Z"
   },
   {
    "duration": 504,
    "start_time": "2021-06-10T17:19:33.010Z"
   },
   {
    "duration": 102,
    "start_time": "2021-06-10T17:19:33.518Z"
   },
   {
    "duration": 3904,
    "start_time": "2021-06-11T22:01:25.866Z"
   },
   {
    "duration": 305,
    "start_time": "2021-06-11T22:01:29.774Z"
   },
   {
    "duration": 74,
    "start_time": "2021-06-11T22:01:30.082Z"
   },
   {
    "duration": 3904,
    "start_time": "2021-06-11T22:01:30.160Z"
   },
   {
    "duration": 94,
    "start_time": "2021-06-11T22:01:34.069Z"
   },
   {
    "duration": 116,
    "start_time": "2021-06-11T22:01:34.167Z"
   },
   {
    "duration": 99,
    "start_time": "2021-06-11T22:01:34.356Z"
   },
   {
    "duration": 510,
    "start_time": "2021-06-11T22:01:34.459Z"
   },
   {
    "duration": 412,
    "start_time": "2021-06-11T22:01:34.974Z"
   },
   {
    "duration": 681,
    "start_time": "2021-06-11T22:01:35.388Z"
   },
   {
    "duration": 506,
    "start_time": "2021-06-11T22:01:36.071Z"
   },
   {
    "duration": 580,
    "start_time": "2021-06-11T22:01:36.580Z"
   },
   {
    "duration": 1920,
    "start_time": "2021-06-11T22:01:37.164Z"
   },
   {
    "duration": 102,
    "start_time": "2021-06-11T22:01:39.155Z"
   },
   {
    "duration": 320,
    "start_time": "2021-06-11T22:01:39.260Z"
   },
   {
    "duration": 187,
    "start_time": "2021-06-11T22:01:39.583Z"
   },
   {
    "duration": 89,
    "start_time": "2021-06-11T22:01:39.773Z"
   },
   {
    "duration": 789,
    "start_time": "2021-06-11T22:01:39.866Z"
   },
   {
    "duration": 17,
    "start_time": "2021-06-11T22:01:40.658Z"
   },
   {
    "duration": 78,
    "start_time": "2021-06-11T22:01:40.679Z"
   },
   {
    "duration": 3216,
    "start_time": "2021-06-11T22:01:40.761Z"
   },
   {
    "duration": 75,
    "start_time": "2021-06-11T22:01:43.980Z"
   },
   {
    "duration": 7,
    "start_time": "2021-06-11T22:01:44.059Z"
   },
   {
    "duration": 92,
    "start_time": "2021-06-11T22:01:44.069Z"
   },
   {
    "duration": 107,
    "start_time": "2021-06-11T22:01:44.164Z"
   },
   {
    "duration": 306,
    "start_time": "2021-06-11T22:01:44.280Z"
   },
   {
    "duration": 69,
    "start_time": "2021-06-11T22:01:44.590Z"
   },
   {
    "duration": 93,
    "start_time": "2021-06-11T22:01:44.662Z"
   },
   {
    "duration": 125,
    "start_time": "2021-06-11T22:01:44.758Z"
   },
   {
    "duration": 1068,
    "start_time": "2021-06-11T22:01:44.887Z"
   },
   {
    "duration": 24,
    "start_time": "2021-06-11T22:01:45.958Z"
   },
   {
    "duration": 88,
    "start_time": "2021-06-11T22:01:45.984Z"
   },
   {
    "duration": 4,
    "start_time": "2021-06-11T22:01:46.075Z"
   },
   {
    "duration": 6,
    "start_time": "2021-06-11T22:01:46.153Z"
   },
   {
    "duration": 40795,
    "start_time": "2021-06-11T22:01:46.163Z"
   },
   {
    "duration": 6,
    "start_time": "2021-06-11T22:02:26.961Z"
   },
   {
    "duration": 6,
    "start_time": "2021-06-11T22:02:26.970Z"
   },
   {
    "duration": 488,
    "start_time": "2021-06-11T22:02:26.979Z"
   },
   {
    "duration": 82,
    "start_time": "2021-06-11T22:02:27.473Z"
   },
   {
    "duration": 5,
    "start_time": "2021-06-11T22:02:27.559Z"
   },
   {
    "duration": 324514,
    "start_time": "2021-06-11T22:02:27.567Z"
   },
   {
    "duration": 4,
    "start_time": "2021-06-11T22:07:52.084Z"
   },
   {
    "duration": 70,
    "start_time": "2021-06-11T22:07:52.091Z"
   },
   {
    "duration": 16,
    "start_time": "2021-06-11T22:07:52.164Z"
   },
   {
    "duration": 500,
    "start_time": "2021-06-11T22:07:52.183Z"
   }
  ],
  "kernelspec": {
   "display_name": "Python 3",
   "language": "python",
   "name": "python3"
  },
  "language_info": {
   "codemirror_mode": {
    "name": "ipython",
    "version": 3
   },
   "file_extension": ".py",
   "mimetype": "text/x-python",
   "name": "python",
   "nbconvert_exporter": "python",
   "pygments_lexer": "ipython3",
   "version": "3.7.6"
  },
  "toc": {
   "base_numbering": 1,
   "nav_menu": {},
   "number_sections": false,
   "sideBar": true,
   "skip_h1_title": true,
   "title_cell": "Table of Contents",
   "title_sidebar": "Contents",
   "toc_cell": false,
   "toc_position": {},
   "toc_section_display": true,
   "toc_window_display": false
  }
 },
 "nbformat": 4,
 "nbformat_minor": 2
}
